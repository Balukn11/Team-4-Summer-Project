{
 "cells": [
  {
   "cell_type": "markdown",
   "id": "172ef23d",
   "metadata": {
    "_cell_guid": "b1076dfc-b9ad-4769-8c92-a6c4dae69d19",
    "_uuid": "8f2839f25d086af736a60e9eeb907d3b93b6e0e5",
    "papermill": {
     "duration": 0.004039,
     "end_time": "2021-12-14T06:03:30.894037",
     "exception": false,
     "start_time": "2021-12-14T06:03:30.889998",
     "status": "completed"
    },
    "tags": []
   },
   "source": [
    "# GRAPH"
   ]
  },
  {
   "cell_type": "code",
   "execution_count": 1,
   "id": "42761c96",
   "metadata": {
    "execution": {
     "iopub.execute_input": "2021-12-14T06:03:30.904312Z",
     "iopub.status.busy": "2021-12-14T06:03:30.903243Z",
     "iopub.status.idle": "2021-12-14T06:03:31.191907Z",
     "shell.execute_reply": "2021-12-14T06:03:31.191325Z",
     "shell.execute_reply.started": "2021-12-14T05:40:36.97839Z"
    },
    "papermill": {
     "duration": 0.294567,
     "end_time": "2021-12-14T06:03:31.192063",
     "exception": false,
     "start_time": "2021-12-14T06:03:30.897496",
     "status": "completed"
    },
    "tags": []
   },
   "outputs": [
    {
     "data": {
      "text/plain": [
       "<function matplotlib.pyplot.show(close=None, block=None)>"
      ]
     },
     "execution_count": 1,
     "metadata": {},
     "output_type": "execute_result"
    },
    {
     "data": {
      "image/png": "[encoded data removed]",
      "text/plain": [
       "<Figure size 432x288 with 1 Axes>"
      ]
     },
     "metadata": {
      "needs_background": "light"
     },
     "output_type": "display_data"
    }
   ],
   "source": [
    "import matplotlib.pyplot as plt\n",
    "import numpy as np\n",
    "a=0.2\n",
    "\n",
    "x=[\"100\",\"75\",\"50\",\"25\"]\n",
    "lr_0_01=[99.12,99.15,98.43,95.53]\n",
    "lr_0_10=[49.47,49.87,49.57,49.45]\n",
    "lr_1_00=[49.51,50.13,50.43,50.55]\n",
    "\n",
    "bar1=np.arange(len(x))\n",
    "bar2=[i+a for i in bar1]\n",
    "bar3=[i+a for i in bar2]\n",
    "\n",
    "plt.bar(bar1,lr_0_01,a,label=\"0.01\")\n",
    "plt.bar(bar2,lr_0_10,a,label=\"0.10\")\n",
    "plt.bar(bar3,lr_1_00,a,label=\"1.00\")\n",
    "\n",
    "plt.xlabel(\"Image dataset\")\n",
    "plt.ylabel(\"Model Accuracy\")\n",
    "plt.title(\"Node Size: 64\" )\n",
    "plt.xticks(bar1+a,x)\n",
    "#plt.grid()\n",
    "plt.legend(loc='lower right')\n",
    "plt.savefig('ns_64.png')\n",
    "plt.show"
   ]
  },
  {
   "cell_type": "code",
   "execution_count": null,
   "id": "26adea64",
   "metadata": {
    "papermill": {
     "duration": 0.003521,
     "end_time": "2021-12-14T06:03:31.199467",
     "exception": false,
     "start_time": "2021-12-14T06:03:31.195946",
     "status": "completed"
    },
    "tags": []
   },
   "outputs": [],
   "source": []
  }
 ],
 "metadata": {
  "kernelspec": {
   "display_name": "Python 3",
   "language": "python",
   "name": "python3"
  },
  "language_info": {
   "codemirror_mode": {
    "name": "ipython",
    "version": 3
   },
   "file_extension": ".py",
   "mimetype": "text/x-python",
   "name": "python",
   "nbconvert_exporter": "python",
   "pygments_lexer": "ipython3",
   "version": "3.7.12"
  },
  "papermill": {
   "default_parameters": {},
   "duration": 9.703002,
   "end_time": "2021-12-14T06:03:31.812541",
   "environment_variables": {},
   "exception": null,
   "input_path": "__notebook__.ipynb",
   "output_path": "__notebook__.ipynb",
   "parameters": {},
   "start_time": "2021-12-14T06:03:22.109539",
   "version": "2.3.3"
  }
 },
 "nbformat": 4,
 "nbformat_minor": 5
}
