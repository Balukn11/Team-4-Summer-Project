{
 "cells": [
  {
   "cell_type": "code",
   "execution_count": 1,
   "id": "efa5cd49",
   "metadata": {
    "execution": {
     "iopub.execute_input": "2021-12-14T05:00:48.273087Z",
     "iopub.status.busy": "2021-12-14T05:00:48.271573Z",
     "iopub.status.idle": "2021-12-14T05:00:48.281940Z",
     "shell.execute_reply": "2021-12-14T05:00:48.281460Z",
     "shell.execute_reply.started": "2021-12-07T04:08:41.197953Z"
    },
    "papermill": {
     "duration": 0.028715,
     "end_time": "2021-12-14T05:00:48.282065",
     "exception": false,
     "start_time": "2021-12-14T05:00:48.253350",
     "status": "completed"
    },
    "tags": []
   },
   "outputs": [],
   "source": [
    "img_size = [227,227] #List which stores the resolution\n",
    "main_train = '../input/mit-split-crack/25/Train' #Stores the path of the train directory\n",
    "main_test = '../input/mit-split-crack/25/Test' #Stores the path of the test directory"
   ]
  },
  {
   "cell_type": "markdown",
   "id": "2d08a194",
   "metadata": {
    "papermill": {
     "duration": 0.012685,
     "end_time": "2021-12-14T05:00:48.310176",
     "exception": false,
     "start_time": "2021-12-14T05:00:48.297491",
     "status": "completed"
    },
    "tags": []
   },
   "source": [
    "#   Import Statements"
   ]
  },
  {
   "cell_type": "code",
   "execution_count": 2,
   "id": "026e3457",
   "metadata": {
    "execution": {
     "iopub.execute_input": "2021-12-14T05:00:48.340752Z",
     "iopub.status.busy": "2021-12-14T05:00:48.340156Z",
     "iopub.status.idle": "2021-12-14T05:00:53.597682Z",
     "shell.execute_reply": "2021-12-14T05:00:53.598106Z",
     "shell.execute_reply.started": "2021-12-07T04:08:41.205493Z"
    },
    "papermill": {
     "duration": 5.275344,
     "end_time": "2021-12-14T05:00:53.598268",
     "exception": false,
     "start_time": "2021-12-14T05:00:48.322924",
     "status": "completed"
    },
    "tags": []
   },
   "outputs": [],
   "source": [
    "from tensorflow.keras.layers import Input,Dense,Flatten,Dropout\n",
    "from tensorflow.keras.models import Model,Sequential\n",
    "from tensorflow.keras.applications.vgg16 import VGG16,preprocess_input\n",
    "from matplotlib import pyplot as plt\n",
    "import numpy as np\n",
    "from tensorflow.keras.preprocessing import image\n",
    "from tensorflow.keras.optimizers import Adam\n",
    "from tensorflow.keras.preprocessing.image import ImageDataGenerator"
   ]
  },
  {
   "cell_type": "markdown",
   "id": "d5096d83",
   "metadata": {
    "papermill": {
     "duration": 0.012902,
     "end_time": "2021-12-14T05:00:53.624270",
     "exception": false,
     "start_time": "2021-12-14T05:00:53.611368",
     "status": "completed"
    },
    "tags": []
   },
   "source": [
    "# VGG16 Model Building"
   ]
  },
  {
   "cell_type": "code",
   "execution_count": 3,
   "id": "72c36706",
   "metadata": {
    "execution": {
     "iopub.execute_input": "2021-12-14T05:00:53.657667Z",
     "iopub.status.busy": "2021-12-14T05:00:53.657020Z",
     "iopub.status.idle": "2021-12-14T05:00:57.227716Z",
     "shell.execute_reply": "2021-12-14T05:00:57.228184Z",
     "shell.execute_reply.started": "2021-12-07T04:08:41.218227Z"
    },
    "papermill": {
     "duration": 3.59056,
     "end_time": "2021-12-14T05:00:57.228370",
     "exception": false,
     "start_time": "2021-12-14T05:00:53.637810",
     "status": "completed"
    },
    "tags": []
   },
   "outputs": [
    {
     "name": "stderr",
     "output_type": "stream",
     "text": [
      "2021-12-14 05:00:53.741227: I tensorflow/stream_executor/cuda/cuda_gpu_executor.cc:937] successful NUMA node read from SysFS had negative value (-1), but there must be at least one NUMA node, so returning NUMA node zero\n",
      "2021-12-14 05:00:53.838259: I tensorflow/stream_executor/cuda/cuda_gpu_executor.cc:937] successful NUMA node read from SysFS had negative value (-1), but there must be at least one NUMA node, so returning NUMA node zero\n",
      "2021-12-14 05:00:53.838970: I tensorflow/stream_executor/cuda/cuda_gpu_executor.cc:937] successful NUMA node read from SysFS had negative value (-1), but there must be at least one NUMA node, so returning NUMA node zero\n",
      "2021-12-14 05:00:53.840035: I tensorflow/core/platform/cpu_feature_guard.cc:142] This TensorFlow binary is optimized with oneAPI Deep Neural Network Library (oneDNN) to use the following CPU instructions in performance-critical operations:  AVX2 AVX512F FMA\n",
      "To enable them in other operations, rebuild TensorFlow with the appropriate compiler flags.\n",
      "2021-12-14 05:00:53.840848: I tensorflow/stream_executor/cuda/cuda_gpu_executor.cc:937] successful NUMA node read from SysFS had negative value (-1), but there must be at least one NUMA node, so returning NUMA node zero\n",
      "2021-12-14 05:00:53.841496: I tensorflow/stream_executor/cuda/cuda_gpu_executor.cc:937] successful NUMA node read from SysFS had negative value (-1), but there must be at least one NUMA node, so returning NUMA node zero\n",
      "2021-12-14 05:00:53.842091: I tensorflow/stream_executor/cuda/cuda_gpu_executor.cc:937] successful NUMA node read from SysFS had negative value (-1), but there must be at least one NUMA node, so returning NUMA node zero\n",
      "2021-12-14 05:00:56.028469: I tensorflow/stream_executor/cuda/cuda_gpu_executor.cc:937] successful NUMA node read from SysFS had negative value (-1), but there must be at least one NUMA node, so returning NUMA node zero\n",
      "2021-12-14 05:00:56.029202: I tensorflow/stream_executor/cuda/cuda_gpu_executor.cc:937] successful NUMA node read from SysFS had negative value (-1), but there must be at least one NUMA node, so returning NUMA node zero\n",
      "2021-12-14 05:00:56.029925: I tensorflow/stream_executor/cuda/cuda_gpu_executor.cc:937] successful NUMA node read from SysFS had negative value (-1), but there must be at least one NUMA node, so returning NUMA node zero\n",
      "2021-12-14 05:00:56.030516: I tensorflow/core/common_runtime/gpu/gpu_device.cc:1510] Created device /job:localhost/replica:0/task:0/device:GPU:0 with 15403 MB memory:  -> device: 0, name: Tesla P100-PCIE-16GB, pci bus id: 0000:00:04.0, compute capability: 6.0\n"
     ]
    },
    {
     "name": "stdout",
     "output_type": "stream",
     "text": [
      "Downloading data from https://storage.googleapis.com/tensorflow/keras-applications/vgg16/vgg16_weights_tf_dim_ordering_tf_kernels_notop.h5\n",
      "58892288/58889256 [==============================] - 0s 0us/step\n",
      "58900480/58889256 [==============================] - 0s 0us/step\n"
     ]
    }
   ],
   "source": [
    "vgg_model = VGG16(include_top=False,\n",
    "    weights=\"imagenet\",\n",
    "    input_shape=img_size + [3])\n",
    "\n",
    "# Loading the VGG16 pre trained model\n",
    "\n",
    "# include_top - this specifies whether the final layer before the output layer has to be include \n",
    "# or not. If included then there will be 1000 number of classes at the output.\n",
    "\n",
    "# Weights are trained using imagenet"
   ]
  },
  {
   "cell_type": "code",
   "execution_count": 4,
   "id": "ee06ab5d",
   "metadata": {
    "execution": {
     "iopub.execute_input": "2021-12-14T05:00:57.266612Z",
     "iopub.status.busy": "2021-12-14T05:00:57.265983Z",
     "iopub.status.idle": "2021-12-14T05:00:57.280694Z",
     "shell.execute_reply": "2021-12-14T05:00:57.280086Z",
     "shell.execute_reply.started": "2021-12-07T04:08:41.505497Z"
    },
    "papermill": {
     "duration": 0.035446,
     "end_time": "2021-12-14T05:00:57.280820",
     "exception": false,
     "start_time": "2021-12-14T05:00:57.245374",
     "status": "completed"
    },
    "tags": []
   },
   "outputs": [
    {
     "name": "stdout",
     "output_type": "stream",
     "text": [
      "Model: \"vgg16\"\n",
      "_________________________________________________________________\n",
      "Layer (type)                 Output Shape              Param #   \n",
      "=================================================================\n",
      "input_1 (InputLayer)         [(None, 227, 227, 3)]     0         \n",
      "_________________________________________________________________\n",
      "block1_conv1 (Conv2D)        (None, 227, 227, 64)      1792      \n",
      "_________________________________________________________________\n",
      "block1_conv2 (Conv2D)        (None, 227, 227, 64)      36928     \n",
      "_________________________________________________________________\n",
      "block1_pool (MaxPooling2D)   (None, 113, 113, 64)      0         \n",
      "_________________________________________________________________\n",
      "block2_conv1 (Conv2D)        (None, 113, 113, 128)     73856     \n",
      "_________________________________________________________________\n",
      "block2_conv2 (Conv2D)        (None, 113, 113, 128)     147584    \n",
      "_________________________________________________________________\n",
      "block2_pool (MaxPooling2D)   (None, 56, 56, 128)       0         \n",
      "_________________________________________________________________\n",
      "block3_conv1 (Conv2D)        (None, 56, 56, 256)       295168    \n",
      "_________________________________________________________________\n",
      "block3_conv2 (Conv2D)        (None, 56, 56, 256)       590080    \n",
      "_________________________________________________________________\n",
      "block3_conv3 (Conv2D)        (None, 56, 56, 256)       590080    \n",
      "_________________________________________________________________\n",
      "block3_pool (MaxPooling2D)   (None, 28, 28, 256)       0         \n",
      "_________________________________________________________________\n",
      "block4_conv1 (Conv2D)        (None, 28, 28, 512)       1180160   \n",
      "_________________________________________________________________\n",
      "block4_conv2 (Conv2D)        (None, 28, 28, 512)       2359808   \n",
      "_________________________________________________________________\n",
      "block4_conv3 (Conv2D)        (None, 28, 28, 512)       2359808   \n",
      "_________________________________________________________________\n",
      "block4_pool (MaxPooling2D)   (None, 14, 14, 512)       0         \n",
      "_________________________________________________________________\n",
      "block5_conv1 (Conv2D)        (None, 14, 14, 512)       2359808   \n",
      "_________________________________________________________________\n",
      "block5_conv2 (Conv2D)        (None, 14, 14, 512)       2359808   \n",
      "_________________________________________________________________\n",
      "block5_conv3 (Conv2D)        (None, 14, 14, 512)       2359808   \n",
      "_________________________________________________________________\n",
      "block5_pool (MaxPooling2D)   (None, 7, 7, 512)         0         \n",
      "=================================================================\n",
      "Total params: 14,714,688\n",
      "Trainable params: 14,714,688\n",
      "Non-trainable params: 0\n",
      "_________________________________________________________________\n"
     ]
    }
   ],
   "source": [
    "# To print the hidden layer summary of vgg model without top layer\n",
    "vgg_model.summary()"
   ]
  },
  {
   "cell_type": "code",
   "execution_count": 5,
   "id": "cbafa0d6",
   "metadata": {
    "execution": {
     "iopub.execute_input": "2021-12-14T05:00:57.317976Z",
     "iopub.status.busy": "2021-12-14T05:00:57.317223Z",
     "iopub.status.idle": "2021-12-14T05:00:57.319346Z",
     "shell.execute_reply": "2021-12-14T05:00:57.319758Z",
     "shell.execute_reply.started": "2021-12-07T04:08:41.527902Z"
    },
    "papermill": {
     "duration": 0.0228,
     "end_time": "2021-12-14T05:00:57.319884",
     "exception": false,
     "start_time": "2021-12-14T05:00:57.297084",
     "status": "completed"
    },
    "tags": []
   },
   "outputs": [],
   "source": [
    "# To fix the weights of the pre trained model\n",
    "for lay in vgg_model.layers:\n",
    "    lay.trainable = False"
   ]
  },
  {
   "cell_type": "code",
   "execution_count": 6,
   "id": "e8768c80",
   "metadata": {
    "execution": {
     "iopub.execute_input": "2021-12-14T05:00:57.359779Z",
     "iopub.status.busy": "2021-12-14T05:00:57.357332Z",
     "iopub.status.idle": "2021-12-14T05:00:57.369691Z",
     "shell.execute_reply": "2021-12-14T05:00:57.369213Z",
     "shell.execute_reply.started": "2021-12-07T04:08:41.533529Z"
    },
    "papermill": {
     "duration": 0.033578,
     "end_time": "2021-12-14T05:00:57.369803",
     "exception": false,
     "start_time": "2021-12-14T05:00:57.336225",
     "status": "completed"
    },
    "tags": []
   },
   "outputs": [
    {
     "name": "stdout",
     "output_type": "stream",
     "text": [
      "Model: \"vgg16\"\n",
      "_________________________________________________________________\n",
      "Layer (type)                 Output Shape              Param #   \n",
      "=================================================================\n",
      "input_1 (InputLayer)         [(None, 227, 227, 3)]     0         \n",
      "_________________________________________________________________\n",
      "block1_conv1 (Conv2D)        (None, 227, 227, 64)      1792      \n",
      "_________________________________________________________________\n",
      "block1_conv2 (Conv2D)        (None, 227, 227, 64)      36928     \n",
      "_________________________________________________________________\n",
      "block1_pool (MaxPooling2D)   (None, 113, 113, 64)      0         \n",
      "_________________________________________________________________\n",
      "block2_conv1 (Conv2D)        (None, 113, 113, 128)     73856     \n",
      "_________________________________________________________________\n",
      "block2_conv2 (Conv2D)        (None, 113, 113, 128)     147584    \n",
      "_________________________________________________________________\n",
      "block2_pool (MaxPooling2D)   (None, 56, 56, 128)       0         \n",
      "_________________________________________________________________\n",
      "block3_conv1 (Conv2D)        (None, 56, 56, 256)       295168    \n",
      "_________________________________________________________________\n",
      "block3_conv2 (Conv2D)        (None, 56, 56, 256)       590080    \n",
      "_________________________________________________________________\n",
      "block3_conv3 (Conv2D)        (None, 56, 56, 256)       590080    \n",
      "_________________________________________________________________\n",
      "block3_pool (MaxPooling2D)   (None, 28, 28, 256)       0         \n",
      "_________________________________________________________________\n",
      "block4_conv1 (Conv2D)        (None, 28, 28, 512)       1180160   \n",
      "_________________________________________________________________\n",
      "block4_conv2 (Conv2D)        (None, 28, 28, 512)       2359808   \n",
      "_________________________________________________________________\n",
      "block4_conv3 (Conv2D)        (None, 28, 28, 512)       2359808   \n",
      "_________________________________________________________________\n",
      "block4_pool (MaxPooling2D)   (None, 14, 14, 512)       0         \n",
      "_________________________________________________________________\n",
      "block5_conv1 (Conv2D)        (None, 14, 14, 512)       2359808   \n",
      "_________________________________________________________________\n",
      "block5_conv2 (Conv2D)        (None, 14, 14, 512)       2359808   \n",
      "_________________________________________________________________\n",
      "block5_conv3 (Conv2D)        (None, 14, 14, 512)       2359808   \n",
      "_________________________________________________________________\n",
      "block5_pool (MaxPooling2D)   (None, 7, 7, 512)         0         \n",
      "=================================================================\n",
      "Total params: 14,714,688\n",
      "Trainable params: 0\n",
      "Non-trainable params: 14,714,688\n",
      "_________________________________________________________________\n"
     ]
    }
   ],
   "source": [
    "vgg_model.summary()"
   ]
  },
  {
   "cell_type": "code",
   "execution_count": 7,
   "id": "e6170980",
   "metadata": {
    "execution": {
     "iopub.execute_input": "2021-12-14T05:00:57.408001Z",
     "iopub.status.busy": "2021-12-14T05:00:57.407428Z",
     "iopub.status.idle": "2021-12-14T05:00:57.425712Z",
     "shell.execute_reply": "2021-12-14T05:00:57.424935Z",
     "shell.execute_reply.started": "2021-12-07T04:08:41.552395Z"
    },
    "papermill": {
     "duration": 0.038656,
     "end_time": "2021-12-14T05:00:57.425835",
     "exception": false,
     "start_time": "2021-12-14T05:00:57.387179",
     "status": "completed"
    },
    "tags": []
   },
   "outputs": [
    {
     "name": "stdout",
     "output_type": "stream",
     "text": [
      "2\n",
      "2\n"
     ]
    }
   ],
   "source": [
    "# to list out number of folders in train and test folder\n",
    "import os\n",
    "folders_train1 = os.listdir(main_train)\n",
    "print(len(folders_train1))\n",
    "\n",
    "folders_test1 = os.listdir(main_test)\n",
    "print(len(folders_test1))"
   ]
  },
  {
   "cell_type": "code",
   "execution_count": 8,
   "id": "fdbcc9b3",
   "metadata": {
    "execution": {
     "iopub.execute_input": "2021-12-14T05:00:57.467478Z",
     "iopub.status.busy": "2021-12-14T05:00:57.466842Z",
     "iopub.status.idle": "2021-12-14T05:00:57.469870Z",
     "shell.execute_reply": "2021-12-14T05:00:57.470265Z",
     "shell.execute_reply.started": "2021-12-07T04:08:41.571715Z"
    },
    "papermill": {
     "duration": 0.026687,
     "end_time": "2021-12-14T05:00:57.470417",
     "exception": false,
     "start_time": "2021-12-14T05:00:57.443730",
     "status": "completed"
    },
    "tags": []
   },
   "outputs": [
    {
     "data": {
      "text/plain": [
       "<KerasTensor: shape=(None, 7, 7, 512) dtype=float32 (created by layer 'block5_pool')>"
      ]
     },
     "execution_count": 8,
     "metadata": {},
     "output_type": "execute_result"
    }
   ],
   "source": [
    "#outputs the last layer\n",
    "vgg_model.output"
   ]
  },
  {
   "cell_type": "code",
   "execution_count": 9,
   "id": "bf6e36d6",
   "metadata": {
    "execution": {
     "iopub.execute_input": "2021-12-14T05:00:57.509676Z",
     "iopub.status.busy": "2021-12-14T05:00:57.508924Z",
     "iopub.status.idle": "2021-12-14T05:00:57.512248Z",
     "shell.execute_reply": "2021-12-14T05:00:57.511849Z",
     "shell.execute_reply.started": "2021-12-07T04:08:41.580796Z"
    },
    "papermill": {
     "duration": 0.024718,
     "end_time": "2021-12-14T05:00:57.512383",
     "exception": false,
     "start_time": "2021-12-14T05:00:57.487665",
     "status": "completed"
    },
    "tags": []
   },
   "outputs": [
    {
     "data": {
      "text/plain": [
       "<KerasTensor: shape=(None, 227, 227, 3) dtype=float32 (created by layer 'input_1')>"
      ]
     },
     "execution_count": 9,
     "metadata": {},
     "output_type": "execute_result"
    }
   ],
   "source": [
    "#inputs of the layer\n",
    "vgg_model.input"
   ]
  },
  {
   "cell_type": "code",
   "execution_count": 10,
   "id": "2c451f3b",
   "metadata": {
    "execution": {
     "iopub.execute_input": "2021-12-14T05:00:57.554810Z",
     "iopub.status.busy": "2021-12-14T05:00:57.553823Z",
     "iopub.status.idle": "2021-12-14T05:00:57.594052Z",
     "shell.execute_reply": "2021-12-14T05:00:57.595674Z",
     "shell.execute_reply.started": "2021-12-07T04:08:41.591857Z"
    },
    "papermill": {
     "duration": 0.066479,
     "end_time": "2021-12-14T05:00:57.596157",
     "exception": false,
     "start_time": "2021-12-14T05:00:57.529678",
     "status": "completed"
    },
    "tags": []
   },
   "outputs": [
    {
     "name": "stdout",
     "output_type": "stream",
     "text": [
      "Model: \"model\"\n",
      "_________________________________________________________________\n",
      "Layer (type)                 Output Shape              Param #   \n",
      "=================================================================\n",
      "input_1 (InputLayer)         [(None, 227, 227, 3)]     0         \n",
      "_________________________________________________________________\n",
      "block1_conv1 (Conv2D)        (None, 227, 227, 64)      1792      \n",
      "_________________________________________________________________\n",
      "block1_conv2 (Conv2D)        (None, 227, 227, 64)      36928     \n",
      "_________________________________________________________________\n",
      "block1_pool (MaxPooling2D)   (None, 113, 113, 64)      0         \n",
      "_________________________________________________________________\n",
      "block2_conv1 (Conv2D)        (None, 113, 113, 128)     73856     \n",
      "_________________________________________________________________\n",
      "block2_conv2 (Conv2D)        (None, 113, 113, 128)     147584    \n",
      "_________________________________________________________________\n",
      "block2_pool (MaxPooling2D)   (None, 56, 56, 128)       0         \n",
      "_________________________________________________________________\n",
      "block3_conv1 (Conv2D)        (None, 56, 56, 256)       295168    \n",
      "_________________________________________________________________\n",
      "block3_conv2 (Conv2D)        (None, 56, 56, 256)       590080    \n",
      "_________________________________________________________________\n",
      "block3_conv3 (Conv2D)        (None, 56, 56, 256)       590080    \n",
      "_________________________________________________________________\n",
      "block3_pool (MaxPooling2D)   (None, 28, 28, 256)       0         \n",
      "_________________________________________________________________\n",
      "block4_conv1 (Conv2D)        (None, 28, 28, 512)       1180160   \n",
      "_________________________________________________________________\n",
      "block4_conv2 (Conv2D)        (None, 28, 28, 512)       2359808   \n",
      "_________________________________________________________________\n",
      "block4_conv3 (Conv2D)        (None, 28, 28, 512)       2359808   \n",
      "_________________________________________________________________\n",
      "block4_pool (MaxPooling2D)   (None, 14, 14, 512)       0         \n",
      "_________________________________________________________________\n",
      "block5_conv1 (Conv2D)        (None, 14, 14, 512)       2359808   \n",
      "_________________________________________________________________\n",
      "block5_conv2 (Conv2D)        (None, 14, 14, 512)       2359808   \n",
      "_________________________________________________________________\n",
      "block5_conv3 (Conv2D)        (None, 14, 14, 512)       2359808   \n",
      "_________________________________________________________________\n",
      "block5_pool (MaxPooling2D)   (None, 7, 7, 512)         0         \n",
      "_________________________________________________________________\n",
      "first_flatten (Flatten)      (None, 25088)             0         \n",
      "_________________________________________________________________\n",
      "dense (Dense)                (None, 64)                1605696   \n",
      "_________________________________________________________________\n",
      "dropout (Dropout)            (None, 64)                0         \n",
      "_________________________________________________________________\n",
      "dense_1 (Dense)              (None, 2)                 130       \n",
      "=================================================================\n",
      "Total params: 16,320,514\n",
      "Trainable params: 1,605,826\n",
      "Non-trainable params: 14,714,688\n",
      "_________________________________________________________________\n"
     ]
    }
   ],
   "source": [
    "# Flatten() is used to convert the last layer to vector or as fully connected\n",
    "x = Flatten(name=\"first_flatten\")(vgg_model.output)\n",
    "# Dense() is a fully connected layer and produces 128 outputs.\n",
    "# relu layer is used to convert the negative nubers to 0 and retains +ve as such.\n",
    "pred = Dense(64, activation=\"relu\")(x)\n",
    "#Dropout() layer is used to randomly remove 50% of the networks.\n",
    "pred = Dropout(0.5)(pred)\n",
    "# Dense() layer is added such that it outputs only two classess \n",
    "# Softmax activation layer produces probabilities for different classess.\n",
    "pred = Dense(2,activation='softmax')(pred)\n",
    "# Model() is used to group layers\n",
    "model = Model(inputs=vgg_model.input,outputs=pred)\n",
    "model.summary()"
   ]
  },
  {
   "cell_type": "markdown",
   "id": "1950433e",
   "metadata": {
    "papermill": {
     "duration": 0.017487,
     "end_time": "2021-12-14T05:00:57.634049",
     "exception": false,
     "start_time": "2021-12-14T05:00:57.616562",
     "status": "completed"
    },
    "tags": []
   },
   "source": [
    "# Image Augmentation"
   ]
  },
  {
   "cell_type": "code",
   "execution_count": 11,
   "id": "4eb1a373",
   "metadata": {
    "execution": {
     "iopub.execute_input": "2021-12-14T05:00:57.679189Z",
     "iopub.status.busy": "2021-12-14T05:00:57.678248Z",
     "iopub.status.idle": "2021-12-14T05:01:01.822326Z",
     "shell.execute_reply": "2021-12-14T05:01:01.822839Z",
     "shell.execute_reply.started": "2021-12-07T04:08:41.638604Z"
    },
    "papermill": {
     "duration": 4.170979,
     "end_time": "2021-12-14T05:01:01.822994",
     "exception": false,
     "start_time": "2021-12-14T05:00:57.652015",
     "status": "completed"
    },
    "tags": []
   },
   "outputs": [
    {
     "name": "stdout",
     "output_type": "stream",
     "text": [
      "Found 8054 images belonging to 2 classes.\n",
      "Found 1992 images belonging to 2 classes.\n"
     ]
    }
   ],
   "source": [
    "#ImageDataGenerator is used to modify the train and test images w.r.t the properties mentioned\n",
    "train_datagen = ImageDataGenerator(rescale = 1/255.0,\n",
    "                                   shear_range = 0.2,\n",
    "                                   zoom_range = 0.2,\n",
    "                                   rotation_range=20,\n",
    "                                   width_shift_range=0.2, \n",
    "                                   height_shift_range=0.2,\n",
    "                                   horizontal_flip = True)\n",
    "\n",
    "test_datagen = ImageDataGenerator(rescale = 1/255.0,\n",
    "                                   shear_range = 0.2,\n",
    "                                   zoom_range = 0.2,\n",
    "                                   rotation_range=20,\n",
    "                                   width_shift_range=0.2, \n",
    "                                   height_shift_range=0.2,\n",
    "                                   horizontal_flip = True)\n",
    "\n",
    "# flow_from_directory() is used to convert all the images in the specific directory\n",
    "training_set = train_datagen.flow_from_directory(directory = main_train,\n",
    "                                                 target_size = (227,227),\n",
    "                                                 batch_size = 500,\n",
    "                                                 )                                                                                                                                                                                                                                                                                                                                                                                                                                                                                                                                                                                                                                                                                                                                                                                                                                                                                                                                                                                                                                                                                                                                                                                                                                                                                                                                                                                                                                                                                                                                                                                                                                                                                                                                                                                                                                                                                                                                                                                                                                                                                                                                                                                                                                                                                                                                                                                                                   \n",
    "\n",
    "test_set = test_datagen.flow_from_directory(directory = main_test,\n",
    "                                                 target_size = (227,227),\n",
    "                                                 batch_size = 500,\n",
    "                                                 )"
   ]
  },
  {
   "cell_type": "code",
   "execution_count": 12,
   "id": "7681d5ce",
   "metadata": {
    "execution": {
     "iopub.execute_input": "2021-12-14T05:01:01.865283Z",
     "iopub.status.busy": "2021-12-14T05:01:01.864671Z",
     "iopub.status.idle": "2021-12-14T05:01:01.867353Z",
     "shell.execute_reply": "2021-12-14T05:01:01.867758Z",
     "shell.execute_reply.started": "2021-12-07T04:08:54.376878Z"
    },
    "papermill": {
     "duration": 0.025863,
     "end_time": "2021-12-14T05:01:01.867898",
     "exception": false,
     "start_time": "2021-12-14T05:01:01.842035",
     "status": "completed"
    },
    "tags": []
   },
   "outputs": [
    {
     "data": {
      "text/plain": [
       "{'Negative': 0, 'Positive': 1}"
      ]
     },
     "execution_count": 12,
     "metadata": {},
     "output_type": "execute_result"
    }
   ],
   "source": [
    "# Class_indices will display the respective class value\n",
    "training_set.class_indices\n"
   ]
  },
  {
   "cell_type": "code",
   "execution_count": 13,
   "id": "a5aa235f",
   "metadata": {
    "execution": {
     "iopub.execute_input": "2021-12-14T05:01:01.909136Z",
     "iopub.status.busy": "2021-12-14T05:01:01.908296Z",
     "iopub.status.idle": "2021-12-14T05:01:01.913182Z",
     "shell.execute_reply": "2021-12-14T05:01:01.913631Z",
     "shell.execute_reply.started": "2021-12-07T04:08:54.385164Z"
    },
    "papermill": {
     "duration": 0.026967,
     "end_time": "2021-12-14T05:01:01.913774",
     "exception": false,
     "start_time": "2021-12-14T05:01:01.886807",
     "status": "completed"
    },
    "tags": []
   },
   "outputs": [
    {
     "name": "stdout",
     "output_type": "stream",
     "text": [
      "17\n",
      "4\n"
     ]
    }
   ],
   "source": [
    "# To check no.of folders in each\n",
    "print(len(training_set))\n",
    "print(len(test_set))"
   ]
  },
  {
   "cell_type": "markdown",
   "id": "a030da1f",
   "metadata": {
    "papermill": {
     "duration": 0.01919,
     "end_time": "2021-12-14T05:01:01.952386",
     "exception": false,
     "start_time": "2021-12-14T05:01:01.933196",
     "status": "completed"
    },
    "tags": []
   },
   "source": [
    "# Model Fitting"
   ]
  },
  {
   "cell_type": "code",
   "execution_count": 14,
   "id": "ceb79a78",
   "metadata": {
    "execution": {
     "iopub.execute_input": "2021-12-14T05:01:02.000413Z",
     "iopub.status.busy": "2021-12-14T05:01:01.999514Z",
     "iopub.status.idle": "2021-12-14T05:01:02.007851Z",
     "shell.execute_reply": "2021-12-14T05:01:02.007359Z",
     "shell.execute_reply.started": "2021-12-07T04:08:54.402271Z"
    },
    "papermill": {
     "duration": 0.035134,
     "end_time": "2021-12-14T05:01:02.007975",
     "exception": false,
     "start_time": "2021-12-14T05:01:01.972841",
     "status": "completed"
    },
    "tags": []
   },
   "outputs": [],
   "source": [
    "# Loss function is used to find the errors or deviations in learning process\n",
    "# Optimizer is used to optimize the input weights\n",
    "# Metrics is used to measure the performance\n",
    "model.compile(optimizer=Adam(learning_rate=1.00),\n",
    "    loss=\"binary_crossentropy\",\n",
    "    metrics=['accuracy'])"
   ]
  },
  {
   "cell_type": "code",
   "execution_count": 15,
   "id": "897b0e71",
   "metadata": {
    "execution": {
     "iopub.execute_input": "2021-12-14T05:01:02.053170Z",
     "iopub.status.busy": "2021-12-14T05:01:02.052259Z",
     "iopub.status.idle": "2021-12-14T05:07:44.623821Z",
     "shell.execute_reply": "2021-12-14T05:07:44.624301Z"
    },
    "papermill": {
     "duration": 402.597316,
     "end_time": "2021-12-14T05:07:44.624485",
     "exception": false,
     "start_time": "2021-12-14T05:01:02.027169",
     "status": "completed"
    },
    "tags": []
   },
   "outputs": [
    {
     "name": "stderr",
     "output_type": "stream",
     "text": [
      "2021-12-14 05:01:10.075561: I tensorflow/compiler/mlir/mlir_graph_optimization_pass.cc:185] None of the MLIR Optimization Passes are enabled (registered 2)\n"
     ]
    },
    {
     "name": "stdout",
     "output_type": "stream",
     "text": [
      "Epoch 1/2\n"
     ]
    },
    {
     "name": "stderr",
     "output_type": "stream",
     "text": [
      "2021-12-14 05:01:19.349291: I tensorflow/stream_executor/cuda/cuda_dnn.cc:369] Loaded cuDNN version 8005\n",
      "2021-12-14 05:01:23.557762: W tensorflow/core/kernels/gpu_utils.cc:49] Failed to allocate memory for convolution redzone checking; skipping this check. This is benign and only means that we won't check cudnn for out-of-bounds reads and writes. This message will only be printed once.\n"
     ]
    },
    {
     "name": "stdout",
     "output_type": "stream",
     "text": [
      "17/17 [==============================] - 225s 11s/step - loss: 728.4943 - accuracy: 0.4958 - val_loss: 0.7191 - val_accuracy: 0.5055\n",
      "Epoch 2/2\n",
      "17/17 [==============================] - 132s 8s/step - loss: 28.5759 - accuracy: 0.5065 - val_loss: 0.7259 - val_accuracy: 0.5055\n"
     ]
    }
   ],
   "source": [
    "# fit() is used to train the model \n",
    "# len(training_set) is 32042/500 = 65\n",
    "# len(test_set) is 7958/500 = 16\n",
    "mod = model.fit(\n",
    "  training_set,\n",
    "  validation_data=test_set,\n",
    "  epochs=2,\n",
    "  steps_per_epoch=len(training_set),\n",
    "  validation_steps=len(test_set)\n",
    ")"
   ]
  },
  {
   "cell_type": "code",
   "execution_count": 16,
   "id": "edf42ba7",
   "metadata": {
    "execution": {
     "iopub.execute_input": "2021-12-14T05:07:44.700359Z",
     "iopub.status.busy": "2021-12-14T05:07:44.699712Z",
     "iopub.status.idle": "2021-12-14T05:07:44.907414Z",
     "shell.execute_reply": "2021-12-14T05:07:44.907866Z"
    },
    "papermill": {
     "duration": 0.254428,
     "end_time": "2021-12-14T05:07:44.908035",
     "exception": false,
     "start_time": "2021-12-14T05:07:44.653607",
     "status": "completed"
    },
    "tags": []
   },
   "outputs": [
    {
     "data": {
      "text/plain": [
       "['64_1.00_25%']"
      ]
     },
     "execution_count": 16,
     "metadata": {},
     "output_type": "execute_result"
    }
   ],
   "source": [
    "# To save the particular model in .h5 format\n",
    "import tensorflow as tf\n",
    "from tensorflow.keras.models import load_model\n",
    "model.save('64_0.10_25%.h5')\n",
    "\n",
    "\n",
    "\n",
    "import joblib\n",
    "joblib.dump(mod.history,'64_1.00_25%')"
   ]
  }
 ],
 "metadata": {
  "kernelspec": {
   "display_name": "Python 3",
   "language": "python",
   "name": "python3"
  },
  "language_info": {
   "codemirror_mode": {
    "name": "ipython",
    "version": 3
   },
   "file_extension": ".py",
   "mimetype": "text/x-python",
   "name": "python",
   "nbconvert_exporter": "python",
   "pygments_lexer": "ipython3",
   "version": "3.7.12"
  },
  "papermill": {
   "default_parameters": {},
   "duration": 428.700966,
   "end_time": "2021-12-14T05:07:48.532867",
   "environment_variables": {},
   "exception": null,
   "input_path": "__notebook__.ipynb",
   "output_path": "__notebook__.ipynb",
   "parameters": {},
   "start_time": "2021-12-14T05:00:39.831901",
   "version": "2.3.3"
  }
 },
 "nbformat": 4,
 "nbformat_minor": 5
}
