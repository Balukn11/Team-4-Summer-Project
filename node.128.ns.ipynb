{
 "cells": [
  {
   "cell_type": "code",
   "execution_count": 1,
   "id": "e43d1f36",
   "metadata": {
    "_cell_guid": "b1076dfc-b9ad-4769-8c92-a6c4dae69d19",
    "_uuid": "8f2839f25d086af736a60e9eeb907d3b93b6e0e5",
    "execution": {
     "iopub.execute_input": "2021-12-14T04:54:32.673660Z",
     "iopub.status.busy": "2021-12-14T04:54:32.671852Z",
     "iopub.status.idle": "2021-12-14T04:54:32.982802Z",
     "shell.execute_reply": "2021-12-14T04:54:32.982136Z"
    },
    "papermill": {
     "duration": 0.31926,
     "end_time": "2021-12-14T04:54:32.982967",
     "exception": false,
     "start_time": "2021-12-14T04:54:32.663707",
     "status": "completed"
    },
    "tags": []
   },
   "outputs": [
    {
     "data": {
      "text/plain": [
       "<function matplotlib.pyplot.show(close=None, block=None)>"
      ]
     },
     "execution_count": 1,
     "metadata": {},
     "output_type": "execute_result"
    },
    {
     "data": {
      "image/png": "[encoded data removed]",
      "text/plain": [
       "<Figure size 432x288 with 1 Axes>"
      ]
     },
     "metadata": {
      "needs_background": "light"
     },
     "output_type": "display_data"
    }
   ],
   "source": [
    "import matplotlib.pyplot as plt\n",
    "import numpy as np\n",
    "a=0.2\n",
    "\n",
    "x=[\"100\",\"75\",\"50\",\"25\"]\n",
    "lr_0_01=[98.8,98.5,98.4,98.8]\n",
    "lr_0_10=[49.6,95.6,86.4,50.5]\n",
    "lr_1_00=[50.5,69.4,49.5,87.4]\n",
    "\n",
    "bar1=np.arange(len(x))\n",
    "bar2=[i+a for i in bar1]\n",
    "bar3=[i+a for i in bar2]\n",
    "\n",
    "plt.bar(bar1,lr_0_01,a,label=\"0.01\")\n",
    "plt.bar(bar2,lr_0_10,a,label=\"0.10\")\n",
    "plt.bar(bar3,lr_1_00,a,label=\"1.00\")\n",
    "\n",
    "plt.xlabel(\"Image dataset\")\n",
    "plt.ylabel(\"Model Accuracy\")\n",
    "plt.title(\"Node Size: 128\" )\n",
    "plt.xticks(bar1+a,x)\n",
    "#plt.grid()\n",
    "plt.legend(loc='lower right')\n",
    "plt.savefig('ns_128.png')\n",
    "plt.show"
   ]
  }
 ],
 "metadata": {
  "kernelspec": {
   "display_name": "Python 3",
   "language": "python",
   "name": "python3"
  },
  "language_info": {
   "codemirror_mode": {
    "name": "ipython",
    "version": 3
   },
   "file_extension": ".py",
   "mimetype": "text/x-python",
   "name": "python",
   "nbconvert_exporter": "python",
   "pygments_lexer": "ipython3",
   "version": "3.7.12"
  },
  "papermill": {
   "default_parameters": {},
   "duration": 10.648164,
   "end_time": "2021-12-14T04:54:33.596959",
   "environment_variables": {},
   "exception": null,
   "input_path": "__notebook__.ipynb",
   "output_path": "__notebook__.ipynb",
   "parameters": {},
   "start_time": "2021-12-14T04:54:22.948795",
   "version": "2.3.3"
  }
 },
 "nbformat": 4,
 "nbformat_minor": 5
}
