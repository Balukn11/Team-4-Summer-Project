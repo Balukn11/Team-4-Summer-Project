{
 "cells": [
  {
   "cell_type": "code",
   "execution_count": 1,
   "id": "41c06443",
   "metadata": {
    "execution": {
     "iopub.execute_input": "2021-11-15T17:27:25.636295Z",
     "iopub.status.busy": "2021-11-15T17:27:25.634705Z",
     "iopub.status.idle": "2021-11-15T17:27:25.643776Z",
     "shell.execute_reply": "2021-11-15T17:27:25.643246Z",
     "shell.execute_reply.started": "2021-11-15T13:19:19.489676Z"
    },
    "papermill": {
     "duration": 0.03336,
     "end_time": "2021-11-15T17:27:25.643927",
     "exception": false,
     "start_time": "2021-11-15T17:27:25.610567",
     "status": "completed"
    },
    "tags": []
   },
   "outputs": [],
   "source": [
    "img_size = [227,227] #List which stores the resolution\n",
    "main_train = '../input/crack-detection/Main/Train' #Stores the path of the train directory\n",
    "main_test = '../input/crack-detection/Main/Test' #Stores the path of the test directory"
   ]
  },
  {
   "cell_type": "markdown",
   "id": "6dbc971d",
   "metadata": {
    "papermill": {
     "duration": 0.015229,
     "end_time": "2021-11-15T17:27:25.676198",
     "exception": false,
     "start_time": "2021-11-15T17:27:25.660969",
     "status": "completed"
    },
    "tags": []
   },
   "source": [
    "# **Import Statements**"
   ]
  },
  {
   "cell_type": "code",
   "execution_count": 2,
   "id": "21f64522",
   "metadata": {
    "execution": {
     "iopub.execute_input": "2021-11-15T17:27:25.712548Z",
     "iopub.status.busy": "2021-11-15T17:27:25.711951Z",
     "iopub.status.idle": "2021-11-15T17:27:30.470483Z",
     "shell.execute_reply": "2021-11-15T17:27:30.469870Z",
     "shell.execute_reply.started": "2021-11-15T13:19:22.641001Z"
    },
    "papermill": {
     "duration": 4.778758,
     "end_time": "2021-11-15T17:27:30.470628",
     "exception": false,
     "start_time": "2021-11-15T17:27:25.691870",
     "status": "completed"
    },
    "tags": []
   },
   "outputs": [],
   "source": [
    "from tensorflow.keras.layers import Input,Dense,Flatten,Dropout\n",
    "from tensorflow.keras.models import Model,Sequential\n",
    "from tensorflow.keras.applications.vgg16 import VGG16,preprocess_input\n",
    "from matplotlib import pyplot as plt\n",
    "import numpy as np\n",
    "from tensorflow.keras.preprocessing import image\n",
    "from tensorflow.keras.optimizers import Adam\n",
    "from tensorflow.keras.preprocessing.image import ImageDataGenerator"
   ]
  },
  {
   "cell_type": "markdown",
   "id": "fc5bc36d",
   "metadata": {
    "papermill": {
     "duration": 0.015138,
     "end_time": "2021-11-15T17:27:30.501291",
     "exception": false,
     "start_time": "2021-11-15T17:27:30.486153",
     "status": "completed"
    },
    "tags": []
   },
   "source": [
    "# **VGG16 Model Building**"
   ]
  },
  {
   "cell_type": "code",
   "execution_count": 3,
   "id": "f5c2548b",
   "metadata": {
    "execution": {
     "iopub.execute_input": "2021-11-15T17:27:30.538320Z",
     "iopub.status.busy": "2021-11-15T17:27:30.537646Z",
     "iopub.status.idle": "2021-11-15T17:27:33.710040Z",
     "shell.execute_reply": "2021-11-15T17:27:33.709520Z",
     "shell.execute_reply.started": "2021-11-15T13:19:23.996129Z"
    },
    "papermill": {
     "duration": 3.193693,
     "end_time": "2021-11-15T17:27:33.710177",
     "exception": false,
     "start_time": "2021-11-15T17:27:30.516484",
     "status": "completed"
    },
    "tags": []
   },
   "outputs": [
    {
     "name": "stderr",
     "output_type": "stream",
     "text": [
      "2021-11-15 17:27:30.618880: I tensorflow/stream_executor/cuda/cuda_gpu_executor.cc:937] successful NUMA node read from SysFS had negative value (-1), but there must be at least one NUMA node, so returning NUMA node zero\n",
      "2021-11-15 17:27:30.744728: I tensorflow/stream_executor/cuda/cuda_gpu_executor.cc:937] successful NUMA node read from SysFS had negative value (-1), but there must be at least one NUMA node, so returning NUMA node zero\n",
      "2021-11-15 17:27:30.745479: I tensorflow/stream_executor/cuda/cuda_gpu_executor.cc:937] successful NUMA node read from SysFS had negative value (-1), but there must be at least one NUMA node, so returning NUMA node zero\n",
      "2021-11-15 17:27:30.746605: I tensorflow/core/platform/cpu_feature_guard.cc:142] This TensorFlow binary is optimized with oneAPI Deep Neural Network Library (oneDNN) to use the following CPU instructions in performance-critical operations:  AVX2 AVX512F FMA\n",
      "To enable them in other operations, rebuild TensorFlow with the appropriate compiler flags.\n",
      "2021-11-15 17:27:30.753843: I tensorflow/stream_executor/cuda/cuda_gpu_executor.cc:937] successful NUMA node read from SysFS had negative value (-1), but there must be at least one NUMA node, so returning NUMA node zero\n",
      "2021-11-15 17:27:30.754505: I tensorflow/stream_executor/cuda/cuda_gpu_executor.cc:937] successful NUMA node read from SysFS had negative value (-1), but there must be at least one NUMA node, so returning NUMA node zero\n",
      "2021-11-15 17:27:30.755283: I tensorflow/stream_executor/cuda/cuda_gpu_executor.cc:937] successful NUMA node read from SysFS had negative value (-1), but there must be at least one NUMA node, so returning NUMA node zero\n",
      "2021-11-15 17:27:32.698787: I tensorflow/stream_executor/cuda/cuda_gpu_executor.cc:937] successful NUMA node read from SysFS had negative value (-1), but there must be at least one NUMA node, so returning NUMA node zero\n",
      "2021-11-15 17:27:32.699635: I tensorflow/stream_executor/cuda/cuda_gpu_executor.cc:937] successful NUMA node read from SysFS had negative value (-1), but there must be at least one NUMA node, so returning NUMA node zero\n",
      "2021-11-15 17:27:32.700364: I tensorflow/stream_executor/cuda/cuda_gpu_executor.cc:937] successful NUMA node read from SysFS had negative value (-1), but there must be at least one NUMA node, so returning NUMA node zero\n",
      "2021-11-15 17:27:32.700968: I tensorflow/core/common_runtime/gpu/gpu_device.cc:1510] Created device /job:localhost/replica:0/task:0/device:GPU:0 with 15403 MB memory:  -> device: 0, name: Tesla P100-PCIE-16GB, pci bus id: 0000:00:04.0, compute capability: 6.0\n"
     ]
    },
    {
     "name": "stdout",
     "output_type": "stream",
     "text": [
      "Downloading data from https://storage.googleapis.com/tensorflow/keras-applications/vgg16/vgg16_weights_tf_dim_ordering_tf_kernels_notop.h5\n",
      "58892288/58889256 [==============================] - 0s 0us/step\n",
      "58900480/58889256 [==============================] - 0s 0us/step\n"
     ]
    }
   ],
   "source": [
    "vgg_model = VGG16(include_top=False,\n",
    "    weights=\"imagenet\",\n",
    "    input_shape=img_size + [3])\n",
    "\n",
    "# Loading the VGG16 pre trained model\n",
    "\n",
    "# include_top - this specifies whether the final layer before the output layer has to be include \n",
    "# or not. If included then there will be 1000 number of classes at the output.\n",
    "\n",
    "# Weights are trained using imagenet"
   ]
  },
  {
   "cell_type": "code",
   "execution_count": 4,
   "id": "c3e4b253",
   "metadata": {
    "execution": {
     "iopub.execute_input": "2021-11-15T17:27:33.756663Z",
     "iopub.status.busy": "2021-11-15T17:27:33.755779Z",
     "iopub.status.idle": "2021-11-15T17:27:33.763312Z",
     "shell.execute_reply": "2021-11-15T17:27:33.763680Z",
     "shell.execute_reply.started": "2021-11-15T13:19:26.352348Z"
    },
    "papermill": {
     "duration": 0.035161,
     "end_time": "2021-11-15T17:27:33.763839",
     "exception": false,
     "start_time": "2021-11-15T17:27:33.728678",
     "status": "completed"
    },
    "tags": []
   },
   "outputs": [
    {
     "name": "stdout",
     "output_type": "stream",
     "text": [
      "Model: \"vgg16\"\n",
      "_________________________________________________________________\n",
      "Layer (type)                 Output Shape              Param #   \n",
      "=================================================================\n",
      "input_1 (InputLayer)         [(None, 227, 227, 3)]     0         \n",
      "_________________________________________________________________\n",
      "block1_conv1 (Conv2D)        (None, 227, 227, 64)      1792      \n",
      "_________________________________________________________________\n",
      "block1_conv2 (Conv2D)        (None, 227, 227, 64)      36928     \n",
      "_________________________________________________________________\n",
      "block1_pool (MaxPooling2D)   (None, 113, 113, 64)      0         \n",
      "_________________________________________________________________\n",
      "block2_conv1 (Conv2D)        (None, 113, 113, 128)     73856     \n",
      "_________________________________________________________________\n",
      "block2_conv2 (Conv2D)        (None, 113, 113, 128)     147584    \n",
      "_________________________________________________________________\n",
      "block2_pool (MaxPooling2D)   (None, 56, 56, 128)       0         \n",
      "_________________________________________________________________\n",
      "block3_conv1 (Conv2D)        (None, 56, 56, 256)       295168    \n",
      "_________________________________________________________________\n",
      "block3_conv2 (Conv2D)        (None, 56, 56, 256)       590080    \n",
      "_________________________________________________________________\n",
      "block3_conv3 (Conv2D)        (None, 56, 56, 256)       590080    \n",
      "_________________________________________________________________\n",
      "block3_pool (MaxPooling2D)   (None, 28, 28, 256)       0         \n",
      "_________________________________________________________________\n",
      "block4_conv1 (Conv2D)        (None, 28, 28, 512)       1180160   \n",
      "_________________________________________________________________\n",
      "block4_conv2 (Conv2D)        (None, 28, 28, 512)       2359808   \n",
      "_________________________________________________________________\n",
      "block4_conv3 (Conv2D)        (None, 28, 28, 512)       2359808   \n",
      "_________________________________________________________________\n",
      "block4_pool (MaxPooling2D)   (None, 14, 14, 512)       0         \n",
      "_________________________________________________________________\n",
      "block5_conv1 (Conv2D)        (None, 14, 14, 512)       2359808   \n",
      "_________________________________________________________________\n",
      "block5_conv2 (Conv2D)        (None, 14, 14, 512)       2359808   \n",
      "_________________________________________________________________\n",
      "block5_conv3 (Conv2D)        (None, 14, 14, 512)       2359808   \n",
      "_________________________________________________________________\n",
      "block5_pool (MaxPooling2D)   (None, 7, 7, 512)         0         \n",
      "=================================================================\n",
      "Total params: 14,714,688\n",
      "Trainable params: 14,714,688\n",
      "Non-trainable params: 0\n",
      "_________________________________________________________________\n"
     ]
    }
   ],
   "source": [
    "# To print the hidden layer summary of vgg model without top layer\n",
    "vgg_model.summary()"
   ]
  },
  {
   "cell_type": "code",
   "execution_count": 5,
   "id": "e863a5be",
   "metadata": {
    "execution": {
     "iopub.execute_input": "2021-11-15T17:27:33.805357Z",
     "iopub.status.busy": "2021-11-15T17:27:33.804673Z",
     "iopub.status.idle": "2021-11-15T17:27:33.806917Z",
     "shell.execute_reply": "2021-11-15T17:27:33.807341Z",
     "shell.execute_reply.started": "2021-11-15T13:19:27.641846Z"
    },
    "papermill": {
     "duration": 0.024889,
     "end_time": "2021-11-15T17:27:33.807456",
     "exception": false,
     "start_time": "2021-11-15T17:27:33.782567",
     "status": "completed"
    },
    "tags": []
   },
   "outputs": [],
   "source": [
    "# To fix the weights of the pre trained model\n",
    "for lay in vgg_model.layers:\n",
    "    lay.trainable = False"
   ]
  },
  {
   "cell_type": "code",
   "execution_count": 6,
   "id": "64644e72",
   "metadata": {
    "execution": {
     "iopub.execute_input": "2021-11-15T17:27:33.848344Z",
     "iopub.status.busy": "2021-11-15T17:27:33.847534Z",
     "iopub.status.idle": "2021-11-15T17:27:33.859367Z",
     "shell.execute_reply": "2021-11-15T17:27:33.859964Z",
     "shell.execute_reply.started": "2021-11-15T13:19:31.36035Z"
    },
    "papermill": {
     "duration": 0.034194,
     "end_time": "2021-11-15T17:27:33.860117",
     "exception": false,
     "start_time": "2021-11-15T17:27:33.825923",
     "status": "completed"
    },
    "tags": []
   },
   "outputs": [
    {
     "name": "stdout",
     "output_type": "stream",
     "text": [
      "Model: \"vgg16\"\n",
      "_________________________________________________________________\n",
      "Layer (type)                 Output Shape              Param #   \n",
      "=================================================================\n",
      "input_1 (InputLayer)         [(None, 227, 227, 3)]     0         \n",
      "_________________________________________________________________\n",
      "block1_conv1 (Conv2D)        (None, 227, 227, 64)      1792      \n",
      "_________________________________________________________________\n",
      "block1_conv2 (Conv2D)        (None, 227, 227, 64)      36928     \n",
      "_________________________________________________________________\n",
      "block1_pool (MaxPooling2D)   (None, 113, 113, 64)      0         \n",
      "_________________________________________________________________\n",
      "block2_conv1 (Conv2D)        (None, 113, 113, 128)     73856     \n",
      "_________________________________________________________________\n",
      "block2_conv2 (Conv2D)        (None, 113, 113, 128)     147584    \n",
      "_________________________________________________________________\n",
      "block2_pool (MaxPooling2D)   (None, 56, 56, 128)       0         \n",
      "_________________________________________________________________\n",
      "block3_conv1 (Conv2D)        (None, 56, 56, 256)       295168    \n",
      "_________________________________________________________________\n",
      "block3_conv2 (Conv2D)        (None, 56, 56, 256)       590080    \n",
      "_________________________________________________________________\n",
      "block3_conv3 (Conv2D)        (None, 56, 56, 256)       590080    \n",
      "_________________________________________________________________\n",
      "block3_pool (MaxPooling2D)   (None, 28, 28, 256)       0         \n",
      "_________________________________________________________________\n",
      "block4_conv1 (Conv2D)        (None, 28, 28, 512)       1180160   \n",
      "_________________________________________________________________\n",
      "block4_conv2 (Conv2D)        (None, 28, 28, 512)       2359808   \n",
      "_________________________________________________________________\n",
      "block4_conv3 (Conv2D)        (None, 28, 28, 512)       2359808   \n",
      "_________________________________________________________________\n",
      "block4_pool (MaxPooling2D)   (None, 14, 14, 512)       0         \n",
      "_________________________________________________________________\n",
      "block5_conv1 (Conv2D)        (None, 14, 14, 512)       2359808   \n",
      "_________________________________________________________________\n",
      "block5_conv2 (Conv2D)        (None, 14, 14, 512)       2359808   \n",
      "_________________________________________________________________\n",
      "block5_conv3 (Conv2D)        (None, 14, 14, 512)       2359808   \n",
      "_________________________________________________________________\n",
      "block5_pool (MaxPooling2D)   (None, 7, 7, 512)         0         \n",
      "=================================================================\n",
      "Total params: 14,714,688\n",
      "Trainable params: 0\n",
      "Non-trainable params: 14,714,688\n",
      "_________________________________________________________________\n"
     ]
    }
   ],
   "source": [
    "vgg_model.summary()"
   ]
  },
  {
   "cell_type": "code",
   "execution_count": 7,
   "id": "a51a4c48",
   "metadata": {
    "execution": {
     "iopub.execute_input": "2021-11-15T17:27:33.902484Z",
     "iopub.status.busy": "2021-11-15T17:27:33.901863Z",
     "iopub.status.idle": "2021-11-15T17:27:33.917497Z",
     "shell.execute_reply": "2021-11-15T17:27:33.917046Z",
     "shell.execute_reply.started": "2021-11-15T13:19:32.763092Z"
    },
    "papermill": {
     "duration": 0.037936,
     "end_time": "2021-11-15T17:27:33.917597",
     "exception": false,
     "start_time": "2021-11-15T17:27:33.879661",
     "status": "completed"
    },
    "tags": []
   },
   "outputs": [
    {
     "name": "stdout",
     "output_type": "stream",
     "text": [
      "2\n",
      "2\n"
     ]
    }
   ],
   "source": [
    "# to list out number of folders in train and test folder\n",
    "import os\n",
    "folders_train1 = os.listdir(main_train)\n",
    "print(len(folders_train1))\n",
    "\n",
    "folders_test1 = os.listdir(main_test)\n",
    "print(len(folders_test1))"
   ]
  },
  {
   "cell_type": "code",
   "execution_count": 8,
   "id": "de3b3917",
   "metadata": {
    "execution": {
     "iopub.execute_input": "2021-11-15T17:27:33.961777Z",
     "iopub.status.busy": "2021-11-15T17:27:33.961154Z",
     "iopub.status.idle": "2021-11-15T17:27:33.964152Z",
     "shell.execute_reply": "2021-11-15T17:27:33.964567Z",
     "shell.execute_reply.started": "2021-11-15T13:19:34.691017Z"
    },
    "papermill": {
     "duration": 0.027947,
     "end_time": "2021-11-15T17:27:33.964681",
     "exception": false,
     "start_time": "2021-11-15T17:27:33.936734",
     "status": "completed"
    },
    "tags": []
   },
   "outputs": [
    {
     "data": {
      "text/plain": [
       "<KerasTensor: shape=(None, 7, 7, 512) dtype=float32 (created by layer 'block5_pool')>"
      ]
     },
     "execution_count": 8,
     "metadata": {},
     "output_type": "execute_result"
    }
   ],
   "source": [
    "#outputs the last layer\n",
    "vgg_model.output"
   ]
  },
  {
   "cell_type": "code",
   "execution_count": 9,
   "id": "b7d9fde3",
   "metadata": {
    "execution": {
     "iopub.execute_input": "2021-11-15T17:27:34.007506Z",
     "iopub.status.busy": "2021-11-15T17:27:34.006891Z",
     "iopub.status.idle": "2021-11-15T17:27:34.009442Z",
     "shell.execute_reply": "2021-11-15T17:27:34.009864Z",
     "shell.execute_reply.started": "2021-11-15T13:19:36.170864Z"
    },
    "papermill": {
     "duration": 0.026078,
     "end_time": "2021-11-15T17:27:34.009978",
     "exception": false,
     "start_time": "2021-11-15T17:27:33.983900",
     "status": "completed"
    },
    "tags": []
   },
   "outputs": [
    {
     "data": {
      "text/plain": [
       "<KerasTensor: shape=(None, 227, 227, 3) dtype=float32 (created by layer 'input_1')>"
      ]
     },
     "execution_count": 9,
     "metadata": {},
     "output_type": "execute_result"
    }
   ],
   "source": [
    "#inputs of the layer\n",
    "vgg_model.input"
   ]
  },
  {
   "cell_type": "code",
   "execution_count": 10,
   "id": "26d5e96d",
   "metadata": {
    "execution": {
     "iopub.execute_input": "2021-11-15T17:27:34.055544Z",
     "iopub.status.busy": "2021-11-15T17:27:34.054743Z",
     "iopub.status.idle": "2021-11-15T17:27:34.089332Z",
     "shell.execute_reply": "2021-11-15T17:27:34.089743Z",
     "shell.execute_reply.started": "2021-11-15T13:20:54.744075Z"
    },
    "papermill": {
     "duration": 0.060393,
     "end_time": "2021-11-15T17:27:34.089916",
     "exception": false,
     "start_time": "2021-11-15T17:27:34.029523",
     "status": "completed"
    },
    "tags": []
   },
   "outputs": [
    {
     "name": "stdout",
     "output_type": "stream",
     "text": [
      "Model: \"model\"\n",
      "_________________________________________________________________\n",
      "Layer (type)                 Output Shape              Param #   \n",
      "=================================================================\n",
      "input_1 (InputLayer)         [(None, 227, 227, 3)]     0         \n",
      "_________________________________________________________________\n",
      "block1_conv1 (Conv2D)        (None, 227, 227, 64)      1792      \n",
      "_________________________________________________________________\n",
      "block1_conv2 (Conv2D)        (None, 227, 227, 64)      36928     \n",
      "_________________________________________________________________\n",
      "block1_pool (MaxPooling2D)   (None, 113, 113, 64)      0         \n",
      "_________________________________________________________________\n",
      "block2_conv1 (Conv2D)        (None, 113, 113, 128)     73856     \n",
      "_________________________________________________________________\n",
      "block2_conv2 (Conv2D)        (None, 113, 113, 128)     147584    \n",
      "_________________________________________________________________\n",
      "block2_pool (MaxPooling2D)   (None, 56, 56, 128)       0         \n",
      "_________________________________________________________________\n",
      "block3_conv1 (Conv2D)        (None, 56, 56, 256)       295168    \n",
      "_________________________________________________________________\n",
      "block3_conv2 (Conv2D)        (None, 56, 56, 256)       590080    \n",
      "_________________________________________________________________\n",
      "block3_conv3 (Conv2D)        (None, 56, 56, 256)       590080    \n",
      "_________________________________________________________________\n",
      "block3_pool (MaxPooling2D)   (None, 28, 28, 256)       0         \n",
      "_________________________________________________________________\n",
      "block4_conv1 (Conv2D)        (None, 28, 28, 512)       1180160   \n",
      "_________________________________________________________________\n",
      "block4_conv2 (Conv2D)        (None, 28, 28, 512)       2359808   \n",
      "_________________________________________________________________\n",
      "block4_conv3 (Conv2D)        (None, 28, 28, 512)       2359808   \n",
      "_________________________________________________________________\n",
      "block4_pool (MaxPooling2D)   (None, 14, 14, 512)       0         \n",
      "_________________________________________________________________\n",
      "block5_conv1 (Conv2D)        (None, 14, 14, 512)       2359808   \n",
      "_________________________________________________________________\n",
      "block5_conv2 (Conv2D)        (None, 14, 14, 512)       2359808   \n",
      "_________________________________________________________________\n",
      "block5_conv3 (Conv2D)        (None, 14, 14, 512)       2359808   \n",
      "_________________________________________________________________\n",
      "block5_pool (MaxPooling2D)   (None, 7, 7, 512)         0         \n",
      "_________________________________________________________________\n",
      "first_flatten (Flatten)      (None, 25088)             0         \n",
      "_________________________________________________________________\n",
      "dense (Dense)                (None, 128)               3211392   \n",
      "_________________________________________________________________\n",
      "dropout (Dropout)            (None, 128)               0         \n",
      "_________________________________________________________________\n",
      "dense_1 (Dense)              (None, 2)                 258       \n",
      "=================================================================\n",
      "Total params: 17,926,338\n",
      "Trainable params: 3,211,650\n",
      "Non-trainable params: 14,714,688\n",
      "_________________________________________________________________\n"
     ]
    }
   ],
   "source": [
    "# Flatten() is used to convert the last layer to vector or as fully connected\n",
    "x = Flatten(name=\"first_flatten\")(vgg_model.output)\n",
    "# Dense() is a fully connected layer and produces 128 outputs.\n",
    "# relu layer is used to convert the negative nubers to 0 and retains +ve as such.\n",
    "pred = Dense(128, activation=\"relu\")(x)\n",
    "#Dropout() layer is used to randomly remove 50% of the networks.\n",
    "pred = Dropout(0.5)(pred)\n",
    "# Dense() layer is added such that it outputs only two classess \n",
    "# Softmax activation layer produces probabilities for different classess.\n",
    "pred = Dense(2,activation='softmax')(pred)\n",
    "# Model() is used to group layers\n",
    "model = Model(inputs=vgg_model.input,outputs=pred)\n",
    "model.summary()"
   ]
  },
  {
   "cell_type": "markdown",
   "id": "3c2f3fc8",
   "metadata": {
    "papermill": {
     "duration": 0.019788,
     "end_time": "2021-11-15T17:27:34.129664",
     "exception": false,
     "start_time": "2021-11-15T17:27:34.109876",
     "status": "completed"
    },
    "tags": []
   },
   "source": [
    "# **Image Augmentation**"
   ]
  },
  {
   "cell_type": "code",
   "execution_count": 11,
   "id": "5af3bd39",
   "metadata": {
    "execution": {
     "iopub.execute_input": "2021-11-15T17:27:34.176843Z",
     "iopub.status.busy": "2021-11-15T17:27:34.175854Z",
     "iopub.status.idle": "2021-11-15T17:28:03.192483Z",
     "shell.execute_reply": "2021-11-15T17:28:03.193042Z",
     "shell.execute_reply.started": "2021-11-15T13:21:01.573955Z"
    },
    "papermill": {
     "duration": 29.043768,
     "end_time": "2021-11-15T17:28:03.193206",
     "exception": false,
     "start_time": "2021-11-15T17:27:34.149438",
     "status": "completed"
    },
    "tags": []
   },
   "outputs": [
    {
     "name": "stdout",
     "output_type": "stream",
     "text": [
      "Found 32042 images belonging to 2 classes.\n",
      "Found 7958 images belonging to 2 classes.\n"
     ]
    }
   ],
   "source": [
    "#ImageDataGenerator is used to modify the train and test images w.r.t the properties mentioned\n",
    "train_datagen = ImageDataGenerator(rescale = 1/255.0,\n",
    "                                   shear_range = 0.2,\n",
    "                                   zoom_range = 0.2,\n",
    "                                   rotation_range=20,\n",
    "                                   width_shift_range=0.2, \n",
    "                                   height_shift_range=0.2,\n",
    "                                   horizontal_flip = True)\n",
    "\n",
    "test_datagen = ImageDataGenerator(rescale = 1/255.0,\n",
    "                                   shear_range = 0.2,\n",
    "                                   zoom_range = 0.2,\n",
    "                                   rotation_range=20,\n",
    "                                   width_shift_range=0.2, \n",
    "                                   height_shift_range=0.2,\n",
    "                                   horizontal_flip = True)\n",
    "\n",
    "# flow_from_directory() is used to convert all the images in the specific directory\n",
    "training_set = train_datagen.flow_from_directory(directory = main_train,\n",
    "                                                 target_size = (227,227),\n",
    "                                                 batch_size = 500,\n",
    "                                                 )\n",
    "\n",
    "test_set = test_datagen.flow_from_directory(directory = main_test,\n",
    "                                                 target_size = (227,227),\n",
    "                                                 batch_size = 500,\n",
    "                                                 )"
   ]
  },
  {
   "cell_type": "code",
   "execution_count": 12,
   "id": "dbb6b0ea",
   "metadata": {
    "execution": {
     "iopub.execute_input": "2021-11-15T17:28:03.239616Z",
     "iopub.status.busy": "2021-11-15T17:28:03.238908Z",
     "iopub.status.idle": "2021-11-15T17:28:03.241735Z",
     "shell.execute_reply": "2021-11-15T17:28:03.242192Z",
     "shell.execute_reply.started": "2021-11-15T13:21:38.051469Z"
    },
    "papermill": {
     "duration": 0.028175,
     "end_time": "2021-11-15T17:28:03.242325",
     "exception": false,
     "start_time": "2021-11-15T17:28:03.214150",
     "status": "completed"
    },
    "tags": []
   },
   "outputs": [
    {
     "data": {
      "text/plain": [
       "{'Negative': 0, 'Positive': 1}"
      ]
     },
     "execution_count": 12,
     "metadata": {},
     "output_type": "execute_result"
    }
   ],
   "source": [
    "# Class_indices will display the respective class value\n",
    "training_set.class_indices"
   ]
  },
  {
   "cell_type": "code",
   "execution_count": 13,
   "id": "8010c260",
   "metadata": {
    "execution": {
     "iopub.execute_input": "2021-11-15T17:28:03.288249Z",
     "iopub.status.busy": "2021-11-15T17:28:03.287455Z",
     "iopub.status.idle": "2021-11-15T17:28:03.290455Z",
     "shell.execute_reply": "2021-11-15T17:28:03.290939Z",
     "shell.execute_reply.started": "2021-11-15T13:21:39.224759Z"
    },
    "papermill": {
     "duration": 0.027808,
     "end_time": "2021-11-15T17:28:03.291060",
     "exception": false,
     "start_time": "2021-11-15T17:28:03.263252",
     "status": "completed"
    },
    "tags": []
   },
   "outputs": [
    {
     "name": "stdout",
     "output_type": "stream",
     "text": [
      "65\n",
      "16\n"
     ]
    }
   ],
   "source": [
    "# To check no.of folders in each\n",
    "print(len(training_set))\n",
    "print(len(test_set))"
   ]
  },
  {
   "cell_type": "markdown",
   "id": "b22dcd40",
   "metadata": {
    "papermill": {
     "duration": 0.021199,
     "end_time": "2021-11-15T17:28:03.333517",
     "exception": false,
     "start_time": "2021-11-15T17:28:03.312318",
     "status": "completed"
    },
    "tags": []
   },
   "source": [
    "# **Model Fitting**"
   ]
  },
  {
   "cell_type": "code",
   "execution_count": 14,
   "id": "05a26ebb",
   "metadata": {
    "execution": {
     "iopub.execute_input": "2021-11-15T17:28:03.386269Z",
     "iopub.status.busy": "2021-11-15T17:28:03.385471Z",
     "iopub.status.idle": "2021-11-15T17:28:03.392890Z",
     "shell.execute_reply": "2021-11-15T17:28:03.392427Z",
     "shell.execute_reply.started": "2021-11-15T13:21:53.297922Z"
    },
    "papermill": {
     "duration": 0.038115,
     "end_time": "2021-11-15T17:28:03.392995",
     "exception": false,
     "start_time": "2021-11-15T17:28:03.354880",
     "status": "completed"
    },
    "tags": []
   },
   "outputs": [],
   "source": [
    "# Loss function is used to find the errors or deviations in learning process\n",
    "# Optimizer is used to optimize the input weights\n",
    "# Metrics is used to measure the performance\n",
    "model.compile(optimizer=Adam(learning_rate=0.01),\n",
    "    loss=\"binary_crossentropy\",\n",
    "    metrics=['accuracy'])"
   ]
  },
  {
   "cell_type": "code",
   "execution_count": 15,
   "id": "15946e7f",
   "metadata": {
    "execution": {
     "iopub.execute_input": "2021-11-15T17:28:03.440340Z",
     "iopub.status.busy": "2021-11-15T17:28:03.439551Z",
     "iopub.status.idle": "2021-11-15T17:50:27.414519Z",
     "shell.execute_reply": "2021-11-15T17:50:27.415202Z",
     "shell.execute_reply.started": "2021-11-15T13:21:59.551735Z"
    },
    "papermill": {
     "duration": 1344.001254,
     "end_time": "2021-11-15T17:50:27.415407",
     "exception": false,
     "start_time": "2021-11-15T17:28:03.414153",
     "status": "completed"
    },
    "tags": []
   },
   "outputs": [
    {
     "name": "stderr",
     "output_type": "stream",
     "text": [
      "2021-11-15 17:28:12.190585: I tensorflow/compiler/mlir/mlir_graph_optimization_pass.cc:185] None of the MLIR Optimization Passes are enabled (registered 2)\n"
     ]
    },
    {
     "name": "stdout",
     "output_type": "stream",
     "text": [
      "Epoch 1/2\n"
     ]
    },
    {
     "name": "stderr",
     "output_type": "stream",
     "text": [
      "2021-11-15 17:28:22.309201: I tensorflow/stream_executor/cuda/cuda_dnn.cc:369] Loaded cuDNN version 8005\n",
      "2021-11-15 17:28:26.344825: W tensorflow/core/kernels/gpu_utils.cc:49] Failed to allocate memory for convolution redzone checking; skipping this check. This is benign and only means that we won't check cudnn for out-of-bounds reads and writes. This message will only be printed once.\n"
     ]
    },
    {
     "name": "stdout",
     "output_type": "stream",
     "text": [
      "65/65 [==============================] - 809s 12s/step - loss: 1.0682 - accuracy: 0.8963 - val_loss: 0.0736 - val_accuracy: 0.9829\n",
      "Epoch 2/2\n",
      "65/65 [==============================] - 526s 8s/step - loss: 0.0952 - accuracy: 0.9725 - val_loss: 0.0382 - val_accuracy: 0.9886\n"
     ]
    }
   ],
   "source": [
    "# fit() is used to train the model \n",
    "# len(training_set) is 32042/500 = 65\n",
    "# len(test_set) is 7958/500 = 16\n",
    "mod = model.fit(\n",
    "  training_set,\n",
    "  validation_data=test_set,\n",
    "  epochs=2,\n",
    "  steps_per_epoch=len(training_set),\n",
    "  validation_steps=len(test_set)\n",
    ")"
   ]
  },
  {
   "cell_type": "markdown",
   "id": "43a708ed",
   "metadata": {
    "papermill": {
     "duration": 0.056783,
     "end_time": "2021-11-15T17:50:27.528936",
     "exception": false,
     "start_time": "2021-11-15T17:50:27.472153",
     "status": "completed"
    },
    "tags": []
   },
   "source": [
    "# **Model Saving**"
   ]
  },
  {
   "cell_type": "code",
   "execution_count": 16,
   "id": "ae0c26dd",
   "metadata": {
    "execution": {
     "iopub.execute_input": "2021-11-15T17:50:27.656027Z",
     "iopub.status.busy": "2021-11-15T17:50:27.652811Z",
     "iopub.status.idle": "2021-11-15T17:50:27.840695Z",
     "shell.execute_reply": "2021-11-15T17:50:27.839776Z",
     "shell.execute_reply.started": "2021-11-15T14:14:32.088169Z"
    },
    "papermill": {
     "duration": 0.255386,
     "end_time": "2021-11-15T17:50:27.840859",
     "exception": false,
     "start_time": "2021-11-15T17:50:27.585473",
     "status": "completed"
    },
    "tags": []
   },
   "outputs": [],
   "source": [
    "# To save the particular model in .h5 format\n",
    "import tensorflow as tf\n",
    "from tensorflow.keras.models import load_model\n",
    "model.save('vgg16_v1.h5') "
   ]
  },
  {
   "cell_type": "markdown",
   "id": "4098299e",
   "metadata": {
    "papermill": {
     "duration": 0.055667,
     "end_time": "2021-11-15T17:50:27.953084",
     "exception": false,
     "start_time": "2021-11-15T17:50:27.897417",
     "status": "completed"
    },
    "tags": []
   },
   "source": [
    "# **Visualizing the Result**"
   ]
  },
  {
   "cell_type": "code",
   "execution_count": 17,
   "id": "1ddc4bcd",
   "metadata": {
    "execution": {
     "iopub.execute_input": "2021-11-15T17:50:28.085376Z",
     "iopub.status.busy": "2021-11-15T17:50:28.081426Z",
     "iopub.status.idle": "2021-11-15T17:50:28.345425Z",
     "shell.execute_reply": "2021-11-15T17:50:28.345835Z"
    },
    "papermill": {
     "duration": 0.335707,
     "end_time": "2021-11-15T17:50:28.345989",
     "exception": false,
     "start_time": "2021-11-15T17:50:28.010282",
     "status": "completed"
    },
    "tags": []
   },
   "outputs": [
    {
     "data": {
      "image/png": "[encoded data removed]",
      "text/plain": [
       "<Figure size 432x288 with 1 Axes>"
      ]
     },
     "metadata": {},
     "output_type": "display_data"
    }
   ],
   "source": [
    "from matplotlib import pyplot as plt\n",
    "# N represents the no.of Epochs\n",
    "N = 2\n",
    "# ggplot is the basic style frame work\n",
    "plt.style.use(\"ggplot\")\n",
    "plt.figure()\n",
    "# plot() is used to plot the graph with resp x & y values from history.\n",
    "plt.plot(np.arange(1, N+1), mod.history[\"accuracy\"], label=\"train_acc\")\n",
    "plt.plot(np.arange(1, N+1), mod.history[\"val_accuracy\"], label=\"val_acc\")\n",
    "# title() is used to display the heading for the graph.\n",
    "plt.title(\"Train/Test Accuracy\")\n",
    "# xlabel() and ylabel() is used to print the axis titles.\n",
    "plt.xlabel(\"No.of Epochs\")\n",
    "plt.ylabel(\"Accuracy\")\n",
    "# legend() is used to place axis details.\n",
    "plt.legend(loc=\"upper left\")\n",
    "# to save the plot.\n",
    "plt.savefig('accv1.png')"
   ]
  },
  {
   "cell_type": "code",
   "execution_count": 18,
   "id": "f0c54e0a",
   "metadata": {
    "execution": {
     "iopub.execute_input": "2021-11-15T17:50:28.494206Z",
     "iopub.status.busy": "2021-11-15T17:50:28.464699Z",
     "iopub.status.idle": "2021-11-15T17:50:28.723088Z",
     "shell.execute_reply": "2021-11-15T17:50:28.723486Z"
    },
    "papermill": {
     "duration": 0.319422,
     "end_time": "2021-11-15T17:50:28.723635",
     "exception": false,
     "start_time": "2021-11-15T17:50:28.404213",
     "status": "completed"
    },
    "tags": []
   },
   "outputs": [
    {
     "data": {
      "image/png": "[encoded data removed]",
      "text/plain": [
       "<Figure size 432x288 with 1 Axes>"
      ]
     },
     "metadata": {},
     "output_type": "display_data"
    }
   ],
   "source": [
    "N = 2\n",
    "plt.style.use(\"ggplot\")\n",
    "plt.figure()\n",
    "plt.plot(np.arange(1, N+1), mod.history[\"loss\"], label=\"train_loss\")\n",
    "plt.plot(np.arange(1, N+1), mod.history[\"val_loss\"], label=\"val_loss\")\n",
    "plt.title(\"Training/Test Loss\")\n",
    "plt.xlabel(\"No.of Epochs\")\n",
    "plt.ylabel(\"Loss\")\n",
    "plt.legend(loc=\"lower left\")\n",
    "plt.savefig('lossv1.png')"
   ]
  },
  {
   "cell_type": "code",
   "execution_count": null,
   "id": "408a2348",
   "metadata": {
    "papermill": {
     "duration": 0.057746,
     "end_time": "2021-11-15T17:50:28.839232",
     "exception": false,
     "start_time": "2021-11-15T17:50:28.781486",
     "status": "completed"
    },
    "tags": []
   },
   "outputs": [],
   "source": []
  }
 ],
 "metadata": {
  "kernelspec": {
   "display_name": "Python 3",
   "language": "python",
   "name": "python3"
  },
  "language_info": {
   "codemirror_mode": {
    "name": "ipython",
    "version": 3
   },
   "file_extension": ".py",
   "mimetype": "text/x-python",
   "name": "python",
   "nbconvert_exporter": "python",
   "pygments_lexer": "ipython3",
   "version": "3.7.10"
  },
  "papermill": {
   "default_parameters": {},
   "duration": 1394.184133,
   "end_time": "2021-11-15T17:50:32.067691",
   "environment_variables": {},
   "exception": null,
   "input_path": "__notebook__.ipynb",
   "output_path": "__notebook__.ipynb",
   "parameters": {},
   "start_time": "2021-11-15T17:27:17.883558",
   "version": "2.3.3"
  }
 },
 "nbformat": 4,
 "nbformat_minor": 5
}
