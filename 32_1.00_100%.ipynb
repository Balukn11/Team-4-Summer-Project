{
 "cells": [
  {
   "cell_type": "code",
   "execution_count": 1,
   "id": "0155ebbb",
   "metadata": {
    "_cell_guid": "b1076dfc-b9ad-4769-8c92-a6c4dae69d19",
    "_uuid": "8f2839f25d086af736a60e9eeb907d3b93b6e0e5",
    "execution": {
     "iopub.execute_input": "2021-12-07T06:02:06.473728Z",
     "iopub.status.busy": "2021-12-07T06:02:06.472247Z",
     "iopub.status.idle": "2021-12-07T06:02:06.482411Z",
     "shell.execute_reply": "2021-12-07T06:02:06.481835Z",
     "shell.execute_reply.started": "2021-12-07T05:36:17.530077Z"
    },
    "papermill": {
     "duration": 0.027769,
     "end_time": "2021-12-07T06:02:06.482561",
     "exception": false,
     "start_time": "2021-12-07T06:02:06.454792",
     "status": "completed"
    },
    "tags": []
   },
   "outputs": [],
   "source": [
    "img_size = [227,227] #List which stores the resolution\n",
    "main_train = '../input/crack-detection/Main/Train' #Stores the path of the train directory\n",
    "main_test = '../input/crack-detection/Main/Test' #Stores the path of the test directory"
   ]
  },
  {
   "cell_type": "markdown",
   "id": "2ac13490",
   "metadata": {
    "papermill": {
     "duration": 0.01831,
     "end_time": "2021-12-07T06:02:06.524605",
     "exception": false,
     "start_time": "2021-12-07T06:02:06.506295",
     "status": "completed"
    },
    "tags": []
   },
   "source": [
    "# **Import Statements**"
   ]
  },
  {
   "cell_type": "code",
   "execution_count": 2,
   "id": "4e035966",
   "metadata": {
    "execution": {
     "iopub.execute_input": "2021-12-07T06:02:06.573966Z",
     "iopub.status.busy": "2021-12-07T06:02:06.573375Z",
     "iopub.status.idle": "2021-12-07T06:02:11.549239Z",
     "shell.execute_reply": "2021-12-07T06:02:11.548768Z",
     "shell.execute_reply.started": "2021-12-07T05:36:17.561845Z"
    },
    "papermill": {
     "duration": 5.003269,
     "end_time": "2021-12-07T06:02:11.549365",
     "exception": false,
     "start_time": "2021-12-07T06:02:06.546096",
     "status": "completed"
    },
    "tags": []
   },
   "outputs": [],
   "source": [
    "from tensorflow.keras.layers import Input,Dense,Flatten,Dropout\n",
    "from tensorflow.keras.models import Model,Sequential\n",
    "from tensorflow.keras.applications.vgg16 import VGG16,preprocess_input\n",
    "from matplotlib import pyplot as plt\n",
    "import numpy as np\n",
    "from tensorflow.keras.preprocessing import image\n",
    "from tensorflow.keras.optimizers import Adam\n",
    "from tensorflow.keras.preprocessing.image import ImageDataGenerator"
   ]
  },
  {
   "cell_type": "markdown",
   "id": "de3d3fb0",
   "metadata": {
    "papermill": {
     "duration": 0.01224,
     "end_time": "2021-12-07T06:02:11.574319",
     "exception": false,
     "start_time": "2021-12-07T06:02:11.562079",
     "status": "completed"
    },
    "tags": []
   },
   "source": [
    "# **VGG16 Model Building**"
   ]
  },
  {
   "cell_type": "code",
   "execution_count": 3,
   "id": "a207c935",
   "metadata": {
    "execution": {
     "iopub.execute_input": "2021-12-07T06:02:11.605759Z",
     "iopub.status.busy": "2021-12-07T06:02:11.605172Z",
     "iopub.status.idle": "2021-12-07T06:02:14.678396Z",
     "shell.execute_reply": "2021-12-07T06:02:14.678831Z",
     "shell.execute_reply.started": "2021-12-07T05:36:27.476911Z"
    },
    "papermill": {
     "duration": 3.092025,
     "end_time": "2021-12-07T06:02:14.678992",
     "exception": false,
     "start_time": "2021-12-07T06:02:11.586967",
     "status": "completed"
    },
    "tags": []
   },
   "outputs": [
    {
     "name": "stderr",
     "output_type": "stream",
     "text": [
      "2021-12-07 06:02:11.684703: I tensorflow/stream_executor/cuda/cuda_gpu_executor.cc:937] successful NUMA node read from SysFS had negative value (-1), but there must be at least one NUMA node, so returning NUMA node zero\n"
     ]
    },
    {
     "name": "stdout",
     "output_type": "stream",
     "text": [
      "Downloading data from https://storage.googleapis.com/tensorflow/keras-applications/vgg16/vgg16_weights_tf_dim_ordering_tf_kernels_notop.h5\n",
      "58892288/58889256 [==============================] - 0s 0us/step\n",
      "58900480/58889256 [==============================] - 0s 0us/step\n"
     ]
    },
    {
     "name": "stderr",
     "output_type": "stream",
     "text": [
      "2021-12-07 06:02:11.784578: I tensorflow/stream_executor/cuda/cuda_gpu_executor.cc:937] successful NUMA node read from SysFS had negative value (-1), but there must be at least one NUMA node, so returning NUMA node zero\n",
      "2021-12-07 06:02:11.785269: I tensorflow/stream_executor/cuda/cuda_gpu_executor.cc:937] successful NUMA node read from SysFS had negative value (-1), but there must be at least one NUMA node, so returning NUMA node zero\n",
      "2021-12-07 06:02:11.786385: I tensorflow/core/platform/cpu_feature_guard.cc:142] This TensorFlow binary is optimized with oneAPI Deep Neural Network Library (oneDNN) to use the following CPU instructions in performance-critical operations:  AVX2 AVX512F FMA\n",
      "To enable them in other operations, rebuild TensorFlow with the appropriate compiler flags.\n",
      "2021-12-07 06:02:11.787501: I tensorflow/stream_executor/cuda/cuda_gpu_executor.cc:937] successful NUMA node read from SysFS had negative value (-1), but there must be at least one NUMA node, so returning NUMA node zero\n",
      "2021-12-07 06:02:11.788178: I tensorflow/stream_executor/cuda/cuda_gpu_executor.cc:937] successful NUMA node read from SysFS had negative value (-1), but there must be at least one NUMA node, so returning NUMA node zero\n",
      "2021-12-07 06:02:11.788812: I tensorflow/stream_executor/cuda/cuda_gpu_executor.cc:937] successful NUMA node read from SysFS had negative value (-1), but there must be at least one NUMA node, so returning NUMA node zero\n",
      "2021-12-07 06:02:13.685942: I tensorflow/stream_executor/cuda/cuda_gpu_executor.cc:937] successful NUMA node read from SysFS had negative value (-1), but there must be at least one NUMA node, so returning NUMA node zero\n",
      "2021-12-07 06:02:13.686715: I tensorflow/stream_executor/cuda/cuda_gpu_executor.cc:937] successful NUMA node read from SysFS had negative value (-1), but there must be at least one NUMA node, so returning NUMA node zero\n",
      "2021-12-07 06:02:13.687359: I tensorflow/stream_executor/cuda/cuda_gpu_executor.cc:937] successful NUMA node read from SysFS had negative value (-1), but there must be at least one NUMA node, so returning NUMA node zero\n",
      "2021-12-07 06:02:13.687965: I tensorflow/core/common_runtime/gpu/gpu_device.cc:1510] Created device /job:localhost/replica:0/task:0/device:GPU:0 with 15403 MB memory:  -> device: 0, name: Tesla P100-PCIE-16GB, pci bus id: 0000:00:04.0, compute capability: 6.0\n"
     ]
    }
   ],
   "source": [
    "vgg_model = VGG16(include_top=False,\n",
    "    weights=\"imagenet\",\n",
    "    input_shape=img_size + [3])\n",
    "\n",
    "# Loading the VGG16 pre trained model\n",
    "\n",
    "# include_top - this specifies whether the final layer before the output layer has to be include \n",
    "# or not. If included then there will be 1000 number of classes at the output.\n",
    "\n",
    "# Weights are trained using imagenet"
   ]
  },
  {
   "cell_type": "code",
   "execution_count": 4,
   "id": "631ffa40",
   "metadata": {
    "execution": {
     "iopub.execute_input": "2021-12-07T06:02:14.714680Z",
     "iopub.status.busy": "2021-12-07T06:02:14.714148Z",
     "iopub.status.idle": "2021-12-07T06:02:14.727090Z",
     "shell.execute_reply": "2021-12-07T06:02:14.727692Z",
     "shell.execute_reply.started": "2021-12-07T05:36:34.452979Z"
    },
    "papermill": {
     "duration": 0.033083,
     "end_time": "2021-12-07T06:02:14.727860",
     "exception": false,
     "start_time": "2021-12-07T06:02:14.694777",
     "status": "completed"
    },
    "tags": []
   },
   "outputs": [
    {
     "name": "stdout",
     "output_type": "stream",
     "text": [
      "Model: \"vgg16\"\n",
      "_________________________________________________________________\n",
      "Layer (type)                 Output Shape              Param #   \n",
      "=================================================================\n",
      "input_1 (InputLayer)         [(None, 227, 227, 3)]     0         \n",
      "_________________________________________________________________\n",
      "block1_conv1 (Conv2D)        (None, 227, 227, 64)      1792      \n",
      "_________________________________________________________________\n",
      "block1_conv2 (Conv2D)        (None, 227, 227, 64)      36928     \n",
      "_________________________________________________________________\n",
      "block1_pool (MaxPooling2D)   (None, 113, 113, 64)      0         \n",
      "_________________________________________________________________\n",
      "block2_conv1 (Conv2D)        (None, 113, 113, 128)     73856     \n",
      "_________________________________________________________________\n",
      "block2_conv2 (Conv2D)        (None, 113, 113, 128)     147584    \n",
      "_________________________________________________________________\n",
      "block2_pool (MaxPooling2D)   (None, 56, 56, 128)       0         \n",
      "_________________________________________________________________\n",
      "block3_conv1 (Conv2D)        (None, 56, 56, 256)       295168    \n",
      "_________________________________________________________________\n",
      "block3_conv2 (Conv2D)        (None, 56, 56, 256)       590080    \n",
      "_________________________________________________________________\n",
      "block3_conv3 (Conv2D)        (None, 56, 56, 256)       590080    \n",
      "_________________________________________________________________\n",
      "block3_pool (MaxPooling2D)   (None, 28, 28, 256)       0         \n",
      "_________________________________________________________________\n",
      "block4_conv1 (Conv2D)        (None, 28, 28, 512)       1180160   \n",
      "_________________________________________________________________\n",
      "block4_conv2 (Conv2D)        (None, 28, 28, 512)       2359808   \n",
      "_________________________________________________________________\n",
      "block4_conv3 (Conv2D)        (None, 28, 28, 512)       2359808   \n",
      "_________________________________________________________________\n",
      "block4_pool (MaxPooling2D)   (None, 14, 14, 512)       0         \n",
      "_________________________________________________________________\n",
      "block5_conv1 (Conv2D)        (None, 14, 14, 512)       2359808   \n",
      "_________________________________________________________________\n",
      "block5_conv2 (Conv2D)        (None, 14, 14, 512)       2359808   \n",
      "_________________________________________________________________\n",
      "block5_conv3 (Conv2D)        (None, 14, 14, 512)       2359808   \n",
      "_________________________________________________________________\n",
      "block5_pool (MaxPooling2D)   (None, 7, 7, 512)         0         \n",
      "=================================================================\n",
      "Total params: 14,714,688\n",
      "Trainable params: 14,714,688\n",
      "Non-trainable params: 0\n",
      "_________________________________________________________________\n"
     ]
    }
   ],
   "source": [
    "# To print the hidden layer summary of vgg model without top layer\n",
    "vgg_model.summary()"
   ]
  },
  {
   "cell_type": "code",
   "execution_count": 5,
   "id": "4ff8e77e",
   "metadata": {
    "execution": {
     "iopub.execute_input": "2021-12-07T06:02:14.764072Z",
     "iopub.status.busy": "2021-12-07T06:02:14.763352Z",
     "iopub.status.idle": "2021-12-07T06:02:14.765789Z",
     "shell.execute_reply": "2021-12-07T06:02:14.765335Z",
     "shell.execute_reply.started": "2021-12-07T05:36:37.735624Z"
    },
    "papermill": {
     "duration": 0.021935,
     "end_time": "2021-12-07T06:02:14.765894",
     "exception": false,
     "start_time": "2021-12-07T06:02:14.743959",
     "status": "completed"
    },
    "tags": []
   },
   "outputs": [],
   "source": [
    "# To fix the weights of the pre trained model\n",
    "for lay in vgg_model.layers:\n",
    "    lay.trainable = False"
   ]
  },
  {
   "cell_type": "code",
   "execution_count": 6,
   "id": "41d961eb",
   "metadata": {
    "execution": {
     "iopub.execute_input": "2021-12-07T06:02:14.802338Z",
     "iopub.status.busy": "2021-12-07T06:02:14.801008Z",
     "iopub.status.idle": "2021-12-07T06:02:14.812481Z",
     "shell.execute_reply": "2021-12-07T06:02:14.811970Z",
     "shell.execute_reply.started": "2021-12-07T05:36:40.68509Z"
    },
    "papermill": {
     "duration": 0.03148,
     "end_time": "2021-12-07T06:02:14.812606",
     "exception": false,
     "start_time": "2021-12-07T06:02:14.781126",
     "status": "completed"
    },
    "tags": []
   },
   "outputs": [
    {
     "name": "stdout",
     "output_type": "stream",
     "text": [
      "Model: \"vgg16\"\n",
      "_________________________________________________________________\n",
      "Layer (type)                 Output Shape              Param #   \n",
      "=================================================================\n",
      "input_1 (InputLayer)         [(None, 227, 227, 3)]     0         \n",
      "_________________________________________________________________\n",
      "block1_conv1 (Conv2D)        (None, 227, 227, 64)      1792      \n",
      "_________________________________________________________________\n",
      "block1_conv2 (Conv2D)        (None, 227, 227, 64)      36928     \n",
      "_________________________________________________________________\n",
      "block1_pool (MaxPooling2D)   (None, 113, 113, 64)      0         \n",
      "_________________________________________________________________\n",
      "block2_conv1 (Conv2D)        (None, 113, 113, 128)     73856     \n",
      "_________________________________________________________________\n",
      "block2_conv2 (Conv2D)        (None, 113, 113, 128)     147584    \n",
      "_________________________________________________________________\n",
      "block2_pool (MaxPooling2D)   (None, 56, 56, 128)       0         \n",
      "_________________________________________________________________\n",
      "block3_conv1 (Conv2D)        (None, 56, 56, 256)       295168    \n",
      "_________________________________________________________________\n",
      "block3_conv2 (Conv2D)        (None, 56, 56, 256)       590080    \n",
      "_________________________________________________________________\n",
      "block3_conv3 (Conv2D)        (None, 56, 56, 256)       590080    \n",
      "_________________________________________________________________\n",
      "block3_pool (MaxPooling2D)   (None, 28, 28, 256)       0         \n",
      "_________________________________________________________________\n",
      "block4_conv1 (Conv2D)        (None, 28, 28, 512)       1180160   \n",
      "_________________________________________________________________\n",
      "block4_conv2 (Conv2D)        (None, 28, 28, 512)       2359808   \n",
      "_________________________________________________________________\n",
      "block4_conv3 (Conv2D)        (None, 28, 28, 512)       2359808   \n",
      "_________________________________________________________________\n",
      "block4_pool (MaxPooling2D)   (None, 14, 14, 512)       0         \n",
      "_________________________________________________________________\n",
      "block5_conv1 (Conv2D)        (None, 14, 14, 512)       2359808   \n",
      "_________________________________________________________________\n",
      "block5_conv2 (Conv2D)        (None, 14, 14, 512)       2359808   \n",
      "_________________________________________________________________\n",
      "block5_conv3 (Conv2D)        (None, 14, 14, 512)       2359808   \n",
      "_________________________________________________________________\n",
      "block5_pool (MaxPooling2D)   (None, 7, 7, 512)         0         \n",
      "=================================================================\n",
      "Total params: 14,714,688\n",
      "Trainable params: 0\n",
      "Non-trainable params: 14,714,688\n",
      "_________________________________________________________________\n"
     ]
    }
   ],
   "source": [
    "vgg_model.summary()"
   ]
  },
  {
   "cell_type": "code",
   "execution_count": 7,
   "id": "ccdcfcb6",
   "metadata": {
    "execution": {
     "iopub.execute_input": "2021-12-07T06:02:14.866050Z",
     "iopub.status.busy": "2021-12-07T06:02:14.865353Z",
     "iopub.status.idle": "2021-12-07T06:02:14.883460Z",
     "shell.execute_reply": "2021-12-07T06:02:14.884332Z",
     "shell.execute_reply.started": "2021-12-07T05:36:43.502639Z"
    },
    "papermill": {
     "duration": 0.048977,
     "end_time": "2021-12-07T06:02:14.884532",
     "exception": false,
     "start_time": "2021-12-07T06:02:14.835555",
     "status": "completed"
    },
    "tags": []
   },
   "outputs": [
    {
     "name": "stdout",
     "output_type": "stream",
     "text": [
      "2\n",
      "2\n"
     ]
    }
   ],
   "source": [
    "# to list out number of folders in train and test folder\n",
    "import os\n",
    "folders_train1 = os.listdir(main_train)\n",
    "print(len(folders_train1))\n",
    "\n",
    "folders_test1 = os.listdir(main_test)\n",
    "print(len(folders_test1))"
   ]
  },
  {
   "cell_type": "code",
   "execution_count": 8,
   "id": "8f19038f",
   "metadata": {
    "execution": {
     "iopub.execute_input": "2021-12-07T06:02:14.949040Z",
     "iopub.status.busy": "2021-12-07T06:02:14.948189Z",
     "iopub.status.idle": "2021-12-07T06:02:14.954350Z",
     "shell.execute_reply": "2021-12-07T06:02:14.954992Z",
     "shell.execute_reply.started": "2021-12-07T05:36:46.470611Z"
    },
    "papermill": {
     "duration": 0.042848,
     "end_time": "2021-12-07T06:02:14.955181",
     "exception": false,
     "start_time": "2021-12-07T06:02:14.912333",
     "status": "completed"
    },
    "tags": []
   },
   "outputs": [
    {
     "data": {
      "text/plain": [
       "<KerasTensor: shape=(None, 7, 7, 512) dtype=float32 (created by layer 'block5_pool')>"
      ]
     },
     "execution_count": 8,
     "metadata": {},
     "output_type": "execute_result"
    }
   ],
   "source": [
    "#outputs the last layer\n",
    "vgg_model.output\n"
   ]
  },
  {
   "cell_type": "code",
   "execution_count": 9,
   "id": "860f27ea",
   "metadata": {
    "execution": {
     "iopub.execute_input": "2021-12-07T06:02:15.001904Z",
     "iopub.status.busy": "2021-12-07T06:02:15.001184Z",
     "iopub.status.idle": "2021-12-07T06:02:15.004413Z",
     "shell.execute_reply": "2021-12-07T06:02:15.004003Z",
     "shell.execute_reply.started": "2021-12-07T05:36:50.773362Z"
    },
    "papermill": {
     "duration": 0.023321,
     "end_time": "2021-12-07T06:02:15.004512",
     "exception": false,
     "start_time": "2021-12-07T06:02:14.981191",
     "status": "completed"
    },
    "tags": []
   },
   "outputs": [
    {
     "data": {
      "text/plain": [
       "<KerasTensor: shape=(None, 227, 227, 3) dtype=float32 (created by layer 'input_1')>"
      ]
     },
     "execution_count": 9,
     "metadata": {},
     "output_type": "execute_result"
    }
   ],
   "source": [
    "#inputs of the layer\n",
    "vgg_model.input"
   ]
  },
  {
   "cell_type": "code",
   "execution_count": 10,
   "id": "f740a96c",
   "metadata": {
    "execution": {
     "iopub.execute_input": "2021-12-07T06:02:15.045301Z",
     "iopub.status.busy": "2021-12-07T06:02:15.044553Z",
     "iopub.status.idle": "2021-12-07T06:02:15.079551Z",
     "shell.execute_reply": "2021-12-07T06:02:15.080141Z"
    },
    "papermill": {
     "duration": 0.05929,
     "end_time": "2021-12-07T06:02:15.080300",
     "exception": false,
     "start_time": "2021-12-07T06:02:15.021010",
     "status": "completed"
    },
    "tags": []
   },
   "outputs": [
    {
     "name": "stdout",
     "output_type": "stream",
     "text": [
      "Model: \"model\"\n",
      "_________________________________________________________________\n",
      "Layer (type)                 Output Shape              Param #   \n",
      "=================================================================\n",
      "input_1 (InputLayer)         [(None, 227, 227, 3)]     0         \n",
      "_________________________________________________________________\n",
      "block1_conv1 (Conv2D)        (None, 227, 227, 64)      1792      \n",
      "_________________________________________________________________\n",
      "block1_conv2 (Conv2D)        (None, 227, 227, 64)      36928     \n",
      "_________________________________________________________________\n",
      "block1_pool (MaxPooling2D)   (None, 113, 113, 64)      0         \n",
      "_________________________________________________________________\n",
      "block2_conv1 (Conv2D)        (None, 113, 113, 128)     73856     \n",
      "_________________________________________________________________\n",
      "block2_conv2 (Conv2D)        (None, 113, 113, 128)     147584    \n",
      "_________________________________________________________________\n",
      "block2_pool (MaxPooling2D)   (None, 56, 56, 128)       0         \n",
      "_________________________________________________________________\n",
      "block3_conv1 (Conv2D)        (None, 56, 56, 256)       295168    \n",
      "_________________________________________________________________\n",
      "block3_conv2 (Conv2D)        (None, 56, 56, 256)       590080    \n",
      "_________________________________________________________________\n",
      "block3_conv3 (Conv2D)        (None, 56, 56, 256)       590080    \n",
      "_________________________________________________________________\n",
      "block3_pool (MaxPooling2D)   (None, 28, 28, 256)       0         \n",
      "_________________________________________________________________\n",
      "block4_conv1 (Conv2D)        (None, 28, 28, 512)       1180160   \n",
      "_________________________________________________________________\n",
      "block4_conv2 (Conv2D)        (None, 28, 28, 512)       2359808   \n",
      "_________________________________________________________________\n",
      "block4_conv3 (Conv2D)        (None, 28, 28, 512)       2359808   \n",
      "_________________________________________________________________\n",
      "block4_pool (MaxPooling2D)   (None, 14, 14, 512)       0         \n",
      "_________________________________________________________________\n",
      "block5_conv1 (Conv2D)        (None, 14, 14, 512)       2359808   \n",
      "_________________________________________________________________\n",
      "block5_conv2 (Conv2D)        (None, 14, 14, 512)       2359808   \n",
      "_________________________________________________________________\n",
      "block5_conv3 (Conv2D)        (None, 14, 14, 512)       2359808   \n",
      "_________________________________________________________________\n",
      "block5_pool (MaxPooling2D)   (None, 7, 7, 512)         0         \n",
      "_________________________________________________________________\n",
      "first_flatten (Flatten)      (None, 25088)             0         \n",
      "_________________________________________________________________\n",
      "dense (Dense)                (None, 32)                802848    \n",
      "_________________________________________________________________\n",
      "dropout (Dropout)            (None, 32)                0         \n",
      "_________________________________________________________________\n",
      "dense_1 (Dense)              (None, 2)                 66        \n",
      "=================================================================\n",
      "Total params: 15,517,602\n",
      "Trainable params: 802,914\n",
      "Non-trainable params: 14,714,688\n",
      "_________________________________________________________________\n"
     ]
    }
   ],
   "source": [
    "# Flatten() is used to convert the last layer to vector or as fully connected\n",
    "x = Flatten(name=\"first_flatten\")(vgg_model.output)\n",
    "# Dense() is a fully connected layer and produces 128 outputs.\n",
    "# relu layer is used to convert the negative nubers to 0 and retains +ve as such.\n",
    "pred = Dense(32, activation=\"relu\")(x)\n",
    "#Dropout() layer is used to randomly remove 50% of the networks.\n",
    "pred = Dropout(0.5)(pred)\n",
    "# Dense() layer is added such that it outputs only two classess \n",
    "# Softmax activation layer produces probabilities for different classess.\n",
    "pred = Dense(2,activation='softmax')(pred)\n",
    "# Model() is used to group layers\n",
    "model = Model(inputs=vgg_model.input,outputs=pred)\n",
    "model.summary()"
   ]
  },
  {
   "cell_type": "markdown",
   "id": "d3a74c86",
   "metadata": {
    "papermill": {
     "duration": 0.016755,
     "end_time": "2021-12-07T06:02:15.114925",
     "exception": false,
     "start_time": "2021-12-07T06:02:15.098170",
     "status": "completed"
    },
    "tags": []
   },
   "source": [
    "# **Image Augmentation**"
   ]
  },
  {
   "cell_type": "code",
   "execution_count": 11,
   "id": "24efb514",
   "metadata": {
    "execution": {
     "iopub.execute_input": "2021-12-07T06:02:15.155991Z",
     "iopub.status.busy": "2021-12-07T06:02:15.155434Z",
     "iopub.status.idle": "2021-12-07T06:02:37.598567Z",
     "shell.execute_reply": "2021-12-07T06:02:37.599167Z"
    },
    "papermill": {
     "duration": 22.467405,
     "end_time": "2021-12-07T06:02:37.599362",
     "exception": false,
     "start_time": "2021-12-07T06:02:15.131957",
     "status": "completed"
    },
    "tags": []
   },
   "outputs": [
    {
     "name": "stdout",
     "output_type": "stream",
     "text": [
      "Found 32042 images belonging to 2 classes.\n",
      "Found 7958 images belonging to 2 classes.\n"
     ]
    }
   ],
   "source": [
    "#ImageDataGenerator is used to modify the train and test images w.r.t the properties mentioned\n",
    "train_datagen = ImageDataGenerator(rescale = 1/255.0,\n",
    "                                   shear_range = 0.2,\n",
    "                                   zoom_range = 0.2,\n",
    "                                   rotation_range=20,\n",
    "                                   width_shift_range=0.2, \n",
    "                                   height_shift_range=0.2,\n",
    "                                   horizontal_flip = True)\n",
    "\n",
    "test_datagen = ImageDataGenerator(rescale = 1/255.0,\n",
    "                                   shear_range = 0.2,\n",
    "                                   zoom_range = 0.2,\n",
    "                                   rotation_range=20,\n",
    "                                   width_shift_range=0.2, \n",
    "                                   height_shift_range=0.2,\n",
    "                                   horizontal_flip = True)\n",
    "\n",
    "# flow_from_directory() is used to convert all the images in the specific directory\n",
    "training_set = train_datagen.flow_from_directory(directory = main_train,\n",
    "                                                 target_size = (227,227),\n",
    "                                                 batch_size = 500,\n",
    "                                                 )\n",
    "\n",
    "test_set = test_datagen.flow_from_directory(directory = main_test,\n",
    "                                                 target_size = (227,227),\n",
    "                                                 batch_size = 500,\n",
    "                                                 )"
   ]
  },
  {
   "cell_type": "code",
   "execution_count": 12,
   "id": "5b0c4244",
   "metadata": {
    "execution": {
     "iopub.execute_input": "2021-12-07T06:02:37.641197Z",
     "iopub.status.busy": "2021-12-07T06:02:37.640708Z",
     "iopub.status.idle": "2021-12-07T06:02:37.645237Z",
     "shell.execute_reply": "2021-12-07T06:02:37.644820Z"
    },
    "papermill": {
     "duration": 0.027111,
     "end_time": "2021-12-07T06:02:37.645336",
     "exception": false,
     "start_time": "2021-12-07T06:02:37.618225",
     "status": "completed"
    },
    "tags": []
   },
   "outputs": [
    {
     "data": {
      "text/plain": [
       "{'Negative': 0, 'Positive': 1}"
      ]
     },
     "execution_count": 12,
     "metadata": {},
     "output_type": "execute_result"
    }
   ],
   "source": [
    "# Class_indices will display the respective class value\n",
    "training_set.class_indices"
   ]
  },
  {
   "cell_type": "code",
   "execution_count": 13,
   "id": "16a3ac58",
   "metadata": {
    "execution": {
     "iopub.execute_input": "2021-12-07T06:02:37.685621Z",
     "iopub.status.busy": "2021-12-07T06:02:37.685016Z",
     "iopub.status.idle": "2021-12-07T06:02:37.687806Z",
     "shell.execute_reply": "2021-12-07T06:02:37.688208Z"
    },
    "papermill": {
     "duration": 0.024997,
     "end_time": "2021-12-07T06:02:37.688332",
     "exception": false,
     "start_time": "2021-12-07T06:02:37.663335",
     "status": "completed"
    },
    "tags": []
   },
   "outputs": [
    {
     "name": "stdout",
     "output_type": "stream",
     "text": [
      "65\n",
      "16\n"
     ]
    }
   ],
   "source": [
    "# To check no.of folders in each\n",
    "print(len(training_set))\n",
    "print(len(test_set))"
   ]
  },
  {
   "cell_type": "code",
   "execution_count": 14,
   "id": "085b1b77",
   "metadata": {
    "execution": {
     "iopub.execute_input": "2021-12-07T06:02:37.736435Z",
     "iopub.status.busy": "2021-12-07T06:02:37.735713Z",
     "iopub.status.idle": "2021-12-07T06:02:37.742695Z",
     "shell.execute_reply": "2021-12-07T06:02:37.741716Z",
     "shell.execute_reply.started": "2021-12-07T05:57:00.084007Z"
    },
    "papermill": {
     "duration": 0.034964,
     "end_time": "2021-12-07T06:02:37.742804",
     "exception": false,
     "start_time": "2021-12-07T06:02:37.707840",
     "status": "completed"
    },
    "tags": []
   },
   "outputs": [],
   "source": [
    "# Loss function is used to find the errors or deviations in learning process\n",
    "# Optimizer is used to optimize the input weights\n",
    "# Metrics is used to measure the performance\n",
    "model.compile(optimizer=Adam(learning_rate=1.00),\n",
    "    loss=\"binary_crossentropy\",\n",
    "    metrics=['accuracy'])"
   ]
  },
  {
   "cell_type": "markdown",
   "id": "957d1272",
   "metadata": {
    "papermill": {
     "duration": 0.018376,
     "end_time": "2021-12-07T06:02:37.779747",
     "exception": false,
     "start_time": "2021-12-07T06:02:37.761371",
     "status": "completed"
    },
    "tags": []
   },
   "source": [
    "# **Model Fitting**"
   ]
  },
  {
   "cell_type": "code",
   "execution_count": 15,
   "id": "1a97c01c",
   "metadata": {
    "execution": {
     "iopub.execute_input": "2021-12-07T06:02:37.821039Z",
     "iopub.status.busy": "2021-12-07T06:02:37.820219Z",
     "iopub.status.idle": "2021-12-07T06:22:57.315668Z",
     "shell.execute_reply": "2021-12-07T06:22:57.315103Z"
    },
    "papermill": {
     "duration": 1219.517855,
     "end_time": "2021-12-07T06:22:57.315850",
     "exception": false,
     "start_time": "2021-12-07T06:02:37.797995",
     "status": "completed"
    },
    "tags": []
   },
   "outputs": [
    {
     "name": "stderr",
     "output_type": "stream",
     "text": [
      "2021-12-07 06:02:45.290750: I tensorflow/compiler/mlir/mlir_graph_optimization_pass.cc:185] None of the MLIR Optimization Passes are enabled (registered 2)\n"
     ]
    },
    {
     "name": "stdout",
     "output_type": "stream",
     "text": [
      "Epoch 1/2\n"
     ]
    },
    {
     "name": "stderr",
     "output_type": "stream",
     "text": [
      "2021-12-07 06:02:54.651149: I tensorflow/stream_executor/cuda/cuda_dnn.cc:369] Loaded cuDNN version 8005\n",
      "2021-12-07 06:02:58.724919: W tensorflow/core/kernels/gpu_utils.cc:49] Failed to allocate memory for convolution redzone checking; skipping this check. This is benign and only means that we won't check cudnn for out-of-bounds reads and writes. This message will only be printed once.\n"
     ]
    },
    {
     "name": "stdout",
     "output_type": "stream",
     "text": [
      "65/65 [==============================] - 710s 10s/step - loss: 301.7256 - accuracy: 0.5005 - val_loss: 0.6936 - val_accuracy: 0.5053\n",
      "Epoch 2/2\n",
      "65/65 [==============================] - 499s 8s/step - loss: 0.6939 - accuracy: 0.4987 - val_loss: 0.6965 - val_accuracy: 0.5053\n"
     ]
    }
   ],
   "source": [
    "# fit() is used to train the model \n",
    "# len(training_set) is 32042/500 = 65\n",
    "# len(test_set) is 7958/500 = 16\n",
    "mod = model.fit(\n",
    "  training_set,\n",
    "  validation_data=test_set,\n",
    "  epochs=2,\n",
    "  steps_per_epoch=len(training_set),\n",
    "  validation_steps=len(test_set)\n",
    ")"
   ]
  },
  {
   "cell_type": "markdown",
   "id": "4f82d922",
   "metadata": {
    "papermill": {
     "duration": 0.052929,
     "end_time": "2021-12-07T06:22:57.421739",
     "exception": false,
     "start_time": "2021-12-07T06:22:57.368810",
     "status": "completed"
    },
    "tags": []
   },
   "source": [
    "# **Model Saving**"
   ]
  },
  {
   "cell_type": "code",
   "execution_count": 16,
   "id": "b8c8d7dc",
   "metadata": {
    "execution": {
     "iopub.execute_input": "2021-12-07T06:22:57.538849Z",
     "iopub.status.busy": "2021-12-07T06:22:57.529277Z",
     "iopub.status.idle": "2021-12-07T06:22:57.731835Z",
     "shell.execute_reply": "2021-12-07T06:22:57.731134Z"
    },
    "papermill": {
     "duration": 0.257512,
     "end_time": "2021-12-07T06:22:57.731965",
     "exception": false,
     "start_time": "2021-12-07T06:22:57.474453",
     "status": "completed"
    },
    "tags": []
   },
   "outputs": [
    {
     "data": {
      "text/plain": [
       "['32_1.00_100%']"
      ]
     },
     "execution_count": 16,
     "metadata": {},
     "output_type": "execute_result"
    }
   ],
   "source": [
    "# To save the particular model in .h5 format\n",
    "import tensorflow as tf\n",
    "from tensorflow.keras.models import load_model\n",
    "model.save('32_1.00_100%.h5')\n",
    "\n",
    "\n",
    "\n",
    "import joblib\n",
    "joblib.dump(mod.history,'32_1.00_100%')"
   ]
  }
 ],
 "metadata": {
  "kernelspec": {
   "display_name": "Python 3",
   "language": "python",
   "name": "python3"
  },
  "language_info": {
   "codemirror_mode": {
    "name": "ipython",
    "version": 3
   },
   "file_extension": ".py",
   "mimetype": "text/x-python",
   "name": "python",
   "nbconvert_exporter": "python",
   "pygments_lexer": "ipython3",
   "version": "3.7.12"
  },
  "papermill": {
   "default_parameters": {},
   "duration": 1262.777691,
   "end_time": "2021-12-07T06:23:01.147336",
   "environment_variables": {},
   "exception": null,
   "input_path": "__notebook__.ipynb",
   "output_path": "__notebook__.ipynb",
   "parameters": {},
   "start_time": "2021-12-07T06:01:58.369645",
   "version": "2.3.3"
  }
 },
 "nbformat": 4,
 "nbformat_minor": 5
}
