{
 "cells": [
  {
   "cell_type": "code",
   "execution_count": 1,
   "id": "d1ba09d7",
   "metadata": {
    "_cell_guid": "b1076dfc-b9ad-4769-8c92-a6c4dae69d19",
    "_uuid": "8f2839f25d086af736a60e9eeb907d3b93b6e0e5",
    "execution": {
     "iopub.execute_input": "2021-12-07T05:09:22.623641Z",
     "iopub.status.busy": "2021-12-07T05:09:22.622751Z",
     "iopub.status.idle": "2021-12-07T05:09:22.626614Z",
     "shell.execute_reply": "2021-12-07T05:09:22.626053Z",
     "shell.execute_reply.started": "2021-12-07T03:39:32.170643Z"
    },
    "papermill": {
     "duration": 0.028818,
     "end_time": "2021-12-07T05:09:22.626754",
     "exception": false,
     "start_time": "2021-12-07T05:09:22.597936",
     "status": "completed"
    },
    "tags": []
   },
   "outputs": [],
   "source": [
    "img_size = [227,227] #List which stores the resolution\n",
    "main_train = '../input/crack-detection/Main/Train' #Stores the path of the train directory\n",
    "main_test = '../input/crack-detection/Main/Test' #Stores the path of the test directory"
   ]
  },
  {
   "cell_type": "markdown",
   "id": "e834afbf",
   "metadata": {
    "papermill": {
     "duration": 0.012129,
     "end_time": "2021-12-07T05:09:22.651650",
     "exception": false,
     "start_time": "2021-12-07T05:09:22.639521",
     "status": "completed"
    },
    "tags": []
   },
   "source": [
    "# **Import Statements**"
   ]
  },
  {
   "cell_type": "code",
   "execution_count": 2,
   "id": "344a11b9",
   "metadata": {
    "execution": {
     "iopub.execute_input": "2021-12-07T05:09:22.681944Z",
     "iopub.status.busy": "2021-12-07T05:09:22.681323Z",
     "iopub.status.idle": "2021-12-07T05:09:27.360944Z",
     "shell.execute_reply": "2021-12-07T05:09:27.360435Z",
     "shell.execute_reply.started": "2021-12-07T03:40:10.718234Z"
    },
    "papermill": {
     "duration": 4.697006,
     "end_time": "2021-12-07T05:09:27.361074",
     "exception": false,
     "start_time": "2021-12-07T05:09:22.664068",
     "status": "completed"
    },
    "tags": []
   },
   "outputs": [],
   "source": [
    "from tensorflow.keras.layers import Input,Dense,Flatten,Dropout\n",
    "from tensorflow.keras.models import Model,Sequential\n",
    "from tensorflow.keras.applications.vgg16 import VGG16,preprocess_input\n",
    "from matplotlib import pyplot as plt\n",
    "import numpy as np\n",
    "from tensorflow.keras.preprocessing import image\n",
    "from tensorflow.keras.optimizers import Adam\n",
    "from tensorflow.keras.preprocessing.image import ImageDataGenerator"
   ]
  },
  {
   "cell_type": "markdown",
   "id": "3f11b5b8",
   "metadata": {
    "papermill": {
     "duration": 0.011855,
     "end_time": "2021-12-07T05:09:27.385848",
     "exception": false,
     "start_time": "2021-12-07T05:09:27.373993",
     "status": "completed"
    },
    "tags": []
   },
   "source": [
    "# **VGG16 Model Building**"
   ]
  },
  {
   "cell_type": "code",
   "execution_count": 3,
   "id": "4028cc64",
   "metadata": {
    "execution": {
     "iopub.execute_input": "2021-12-07T05:09:27.416568Z",
     "iopub.status.busy": "2021-12-07T05:09:27.415870Z",
     "iopub.status.idle": "2021-12-07T05:09:30.149415Z",
     "shell.execute_reply": "2021-12-07T05:09:30.148384Z",
     "shell.execute_reply.started": "2021-12-07T03:49:10.183481Z"
    },
    "papermill": {
     "duration": 2.751869,
     "end_time": "2021-12-07T05:09:30.149585",
     "exception": false,
     "start_time": "2021-12-07T05:09:27.397716",
     "status": "completed"
    },
    "tags": []
   },
   "outputs": [
    {
     "name": "stderr",
     "output_type": "stream",
     "text": [
      "2021-12-07 05:09:27.497284: I tensorflow/stream_executor/cuda/cuda_gpu_executor.cc:937] successful NUMA node read from SysFS had negative value (-1), but there must be at least one NUMA node, so returning NUMA node zero\n",
      "2021-12-07 05:09:27.580660: I tensorflow/stream_executor/cuda/cuda_gpu_executor.cc:937] successful NUMA node read from SysFS had negative value (-1), but there must be at least one NUMA node, so returning NUMA node zero\n",
      "2021-12-07 05:09:27.581337: I tensorflow/stream_executor/cuda/cuda_gpu_executor.cc:937] successful NUMA node read from SysFS had negative value (-1), but there must be at least one NUMA node, so returning NUMA node zero\n",
      "2021-12-07 05:09:27.582425: I tensorflow/core/platform/cpu_feature_guard.cc:142] This TensorFlow binary is optimized with oneAPI Deep Neural Network Library (oneDNN) to use the following CPU instructions in performance-critical operations:  AVX2 AVX512F FMA\n",
      "To enable them in other operations, rebuild TensorFlow with the appropriate compiler flags.\n",
      "2021-12-07 05:09:27.583178: I tensorflow/stream_executor/cuda/cuda_gpu_executor.cc:937] successful NUMA node read from SysFS had negative value (-1), but there must be at least one NUMA node, so returning NUMA node zero\n",
      "2021-12-07 05:09:27.583842: I tensorflow/stream_executor/cuda/cuda_gpu_executor.cc:937] successful NUMA node read from SysFS had negative value (-1), but there must be at least one NUMA node, so returning NUMA node zero\n",
      "2021-12-07 05:09:27.584421: I tensorflow/stream_executor/cuda/cuda_gpu_executor.cc:937] successful NUMA node read from SysFS had negative value (-1), but there must be at least one NUMA node, so returning NUMA node zero\n",
      "2021-12-07 05:09:29.205289: I tensorflow/stream_executor/cuda/cuda_gpu_executor.cc:937] successful NUMA node read from SysFS had negative value (-1), but there must be at least one NUMA node, so returning NUMA node zero\n",
      "2021-12-07 05:09:29.206167: I tensorflow/stream_executor/cuda/cuda_gpu_executor.cc:937] successful NUMA node read from SysFS had negative value (-1), but there must be at least one NUMA node, so returning NUMA node zero\n",
      "2021-12-07 05:09:29.206824: I tensorflow/stream_executor/cuda/cuda_gpu_executor.cc:937] successful NUMA node read from SysFS had negative value (-1), but there must be at least one NUMA node, so returning NUMA node zero\n",
      "2021-12-07 05:09:29.207391: I tensorflow/core/common_runtime/gpu/gpu_device.cc:1510] Created device /job:localhost/replica:0/task:0/device:GPU:0 with 15403 MB memory:  -> device: 0, name: Tesla P100-PCIE-16GB, pci bus id: 0000:00:04.0, compute capability: 6.0\n"
     ]
    },
    {
     "name": "stdout",
     "output_type": "stream",
     "text": [
      "Downloading data from https://storage.googleapis.com/tensorflow/keras-applications/vgg16/vgg16_weights_tf_dim_ordering_tf_kernels_notop.h5\n",
      "58892288/58889256 [==============================] - 0s 0us/step\n",
      "58900480/58889256 [==============================] - 0s 0us/step\n"
     ]
    }
   ],
   "source": [
    "vgg_model = VGG16(include_top=False,\n",
    "    weights=\"imagenet\",\n",
    "    input_shape=img_size + [3])\n",
    "\n",
    "# Loading the VGG16 pre trained model\n",
    "\n",
    "# include_top - this specifies whether the final layer before the output layer has to be include \n",
    "# or not. If included then there will be 1000 number of classes at the output.\n",
    "\n",
    "# Weights are trained using imagenet"
   ]
  },
  {
   "cell_type": "code",
   "execution_count": 4,
   "id": "a8a96769",
   "metadata": {
    "execution": {
     "iopub.execute_input": "2021-12-07T05:09:30.188339Z",
     "iopub.status.busy": "2021-12-07T05:09:30.187141Z",
     "iopub.status.idle": "2021-12-07T05:09:30.196697Z",
     "shell.execute_reply": "2021-12-07T05:09:30.197081Z",
     "shell.execute_reply.started": "2021-12-07T03:49:35.309944Z"
    },
    "papermill": {
     "duration": 0.032366,
     "end_time": "2021-12-07T05:09:30.197209",
     "exception": false,
     "start_time": "2021-12-07T05:09:30.164843",
     "status": "completed"
    },
    "tags": []
   },
   "outputs": [
    {
     "name": "stdout",
     "output_type": "stream",
     "text": [
      "Model: \"vgg16\"\n",
      "_________________________________________________________________\n",
      "Layer (type)                 Output Shape              Param #   \n",
      "=================================================================\n",
      "input_1 (InputLayer)         [(None, 227, 227, 3)]     0         \n",
      "_________________________________________________________________\n",
      "block1_conv1 (Conv2D)        (None, 227, 227, 64)      1792      \n",
      "_________________________________________________________________\n",
      "block1_conv2 (Conv2D)        (None, 227, 227, 64)      36928     \n",
      "_________________________________________________________________\n",
      "block1_pool (MaxPooling2D)   (None, 113, 113, 64)      0         \n",
      "_________________________________________________________________\n",
      "block2_conv1 (Conv2D)        (None, 113, 113, 128)     73856     \n",
      "_________________________________________________________________\n",
      "block2_conv2 (Conv2D)        (None, 113, 113, 128)     147584    \n",
      "_________________________________________________________________\n",
      "block2_pool (MaxPooling2D)   (None, 56, 56, 128)       0         \n",
      "_________________________________________________________________\n",
      "block3_conv1 (Conv2D)        (None, 56, 56, 256)       295168    \n",
      "_________________________________________________________________\n",
      "block3_conv2 (Conv2D)        (None, 56, 56, 256)       590080    \n",
      "_________________________________________________________________\n",
      "block3_conv3 (Conv2D)        (None, 56, 56, 256)       590080    \n",
      "_________________________________________________________________\n",
      "block3_pool (MaxPooling2D)   (None, 28, 28, 256)       0         \n",
      "_________________________________________________________________\n",
      "block4_conv1 (Conv2D)        (None, 28, 28, 512)       1180160   \n",
      "_________________________________________________________________\n",
      "block4_conv2 (Conv2D)        (None, 28, 28, 512)       2359808   \n",
      "_________________________________________________________________\n",
      "block4_conv3 (Conv2D)        (None, 28, 28, 512)       2359808   \n",
      "_________________________________________________________________\n",
      "block4_pool (MaxPooling2D)   (None, 14, 14, 512)       0         \n",
      "_________________________________________________________________\n",
      "block5_conv1 (Conv2D)        (None, 14, 14, 512)       2359808   \n",
      "_________________________________________________________________\n",
      "block5_conv2 (Conv2D)        (None, 14, 14, 512)       2359808   \n",
      "_________________________________________________________________\n",
      "block5_conv3 (Conv2D)        (None, 14, 14, 512)       2359808   \n",
      "_________________________________________________________________\n",
      "block5_pool (MaxPooling2D)   (None, 7, 7, 512)         0         \n",
      "=================================================================\n",
      "Total params: 14,714,688\n",
      "Trainable params: 14,714,688\n",
      "Non-trainable params: 0\n",
      "_________________________________________________________________\n"
     ]
    }
   ],
   "source": [
    "# To print the hidden layer summary of vgg model without top layer\n",
    "vgg_model.summary()"
   ]
  },
  {
   "cell_type": "code",
   "execution_count": 5,
   "id": "cc9b17d7",
   "metadata": {
    "execution": {
     "iopub.execute_input": "2021-12-07T05:09:30.233364Z",
     "iopub.status.busy": "2021-12-07T05:09:30.232706Z",
     "iopub.status.idle": "2021-12-07T05:09:30.235379Z",
     "shell.execute_reply": "2021-12-07T05:09:30.235846Z",
     "shell.execute_reply.started": "2021-12-07T03:50:04.597592Z"
    },
    "papermill": {
     "duration": 0.023822,
     "end_time": "2021-12-07T05:09:30.235983",
     "exception": false,
     "start_time": "2021-12-07T05:09:30.212161",
     "status": "completed"
    },
    "tags": []
   },
   "outputs": [],
   "source": [
    "# To fix the weights of the pre trained model\n",
    "for lay in vgg_model.layers:\n",
    "    lay.trainable = False"
   ]
  },
  {
   "cell_type": "code",
   "execution_count": 6,
   "id": "634207f8",
   "metadata": {
    "execution": {
     "iopub.execute_input": "2021-12-07T05:09:30.278086Z",
     "iopub.status.busy": "2021-12-07T05:09:30.277227Z",
     "iopub.status.idle": "2021-12-07T05:09:30.285093Z",
     "shell.execute_reply": "2021-12-07T05:09:30.285496Z"
    },
    "papermill": {
     "duration": 0.033102,
     "end_time": "2021-12-07T05:09:30.285634",
     "exception": false,
     "start_time": "2021-12-07T05:09:30.252532",
     "status": "completed"
    },
    "tags": []
   },
   "outputs": [
    {
     "name": "stdout",
     "output_type": "stream",
     "text": [
      "Model: \"vgg16\"\n",
      "_________________________________________________________________\n",
      "Layer (type)                 Output Shape              Param #   \n",
      "=================================================================\n",
      "input_1 (InputLayer)         [(None, 227, 227, 3)]     0         \n",
      "_________________________________________________________________\n",
      "block1_conv1 (Conv2D)        (None, 227, 227, 64)      1792      \n",
      "_________________________________________________________________\n",
      "block1_conv2 (Conv2D)        (None, 227, 227, 64)      36928     \n",
      "_________________________________________________________________\n",
      "block1_pool (MaxPooling2D)   (None, 113, 113, 64)      0         \n",
      "_________________________________________________________________\n",
      "block2_conv1 (Conv2D)        (None, 113, 113, 128)     73856     \n",
      "_________________________________________________________________\n",
      "block2_conv2 (Conv2D)        (None, 113, 113, 128)     147584    \n",
      "_________________________________________________________________\n",
      "block2_pool (MaxPooling2D)   (None, 56, 56, 128)       0         \n",
      "_________________________________________________________________\n",
      "block3_conv1 (Conv2D)        (None, 56, 56, 256)       295168    \n",
      "_________________________________________________________________\n",
      "block3_conv2 (Conv2D)        (None, 56, 56, 256)       590080    \n",
      "_________________________________________________________________\n",
      "block3_conv3 (Conv2D)        (None, 56, 56, 256)       590080    \n",
      "_________________________________________________________________\n",
      "block3_pool (MaxPooling2D)   (None, 28, 28, 256)       0         \n",
      "_________________________________________________________________\n",
      "block4_conv1 (Conv2D)        (None, 28, 28, 512)       1180160   \n",
      "_________________________________________________________________\n",
      "block4_conv2 (Conv2D)        (None, 28, 28, 512)       2359808   \n",
      "_________________________________________________________________\n",
      "block4_conv3 (Conv2D)        (None, 28, 28, 512)       2359808   \n",
      "_________________________________________________________________\n",
      "block4_pool (MaxPooling2D)   (None, 14, 14, 512)       0         \n",
      "_________________________________________________________________\n",
      "block5_conv1 (Conv2D)        (None, 14, 14, 512)       2359808   \n",
      "_________________________________________________________________\n",
      "block5_conv2 (Conv2D)        (None, 14, 14, 512)       2359808   \n",
      "_________________________________________________________________\n",
      "block5_conv3 (Conv2D)        (None, 14, 14, 512)       2359808   \n",
      "_________________________________________________________________\n",
      "block5_pool (MaxPooling2D)   (None, 7, 7, 512)         0         \n",
      "=================================================================\n",
      "Total params: 14,714,688\n",
      "Trainable params: 0\n",
      "Non-trainable params: 14,714,688\n",
      "_________________________________________________________________\n"
     ]
    }
   ],
   "source": [
    "vgg_model.summary()"
   ]
  },
  {
   "cell_type": "code",
   "execution_count": 7,
   "id": "0e32d63d",
   "metadata": {
    "execution": {
     "iopub.execute_input": "2021-12-07T05:09:30.324337Z",
     "iopub.status.busy": "2021-12-07T05:09:30.323729Z",
     "iopub.status.idle": "2021-12-07T05:09:30.344417Z",
     "shell.execute_reply": "2021-12-07T05:09:30.343932Z"
    },
    "papermill": {
     "duration": 0.041977,
     "end_time": "2021-12-07T05:09:30.344561",
     "exception": false,
     "start_time": "2021-12-07T05:09:30.302584",
     "status": "completed"
    },
    "tags": []
   },
   "outputs": [
    {
     "name": "stdout",
     "output_type": "stream",
     "text": [
      "2\n",
      "2\n"
     ]
    }
   ],
   "source": [
    "# to list out number of folders in train and test folder\n",
    "import os\n",
    "folders_train1 = os.listdir(main_train)\n",
    "print(len(folders_train1))\n",
    "\n",
    "folders_test1 = os.listdir(main_test)\n",
    "print(len(folders_test1))"
   ]
  },
  {
   "cell_type": "code",
   "execution_count": 8,
   "id": "4186d17e",
   "metadata": {
    "execution": {
     "iopub.execute_input": "2021-12-07T05:09:30.383790Z",
     "iopub.status.busy": "2021-12-07T05:09:30.383238Z",
     "iopub.status.idle": "2021-12-07T05:09:30.388699Z",
     "shell.execute_reply": "2021-12-07T05:09:30.388247Z"
    },
    "papermill": {
     "duration": 0.027098,
     "end_time": "2021-12-07T05:09:30.388803",
     "exception": false,
     "start_time": "2021-12-07T05:09:30.361705",
     "status": "completed"
    },
    "tags": []
   },
   "outputs": [
    {
     "data": {
      "text/plain": [
       "<KerasTensor: shape=(None, 7, 7, 512) dtype=float32 (created by layer 'block5_pool')>"
      ]
     },
     "execution_count": 8,
     "metadata": {},
     "output_type": "execute_result"
    }
   ],
   "source": [
    "#outputs the last layer\n",
    "vgg_model.output\n"
   ]
  },
  {
   "cell_type": "code",
   "execution_count": 9,
   "id": "2e03a278",
   "metadata": {
    "execution": {
     "iopub.execute_input": "2021-12-07T05:09:30.428184Z",
     "iopub.status.busy": "2021-12-07T05:09:30.427020Z",
     "iopub.status.idle": "2021-12-07T05:09:30.430073Z",
     "shell.execute_reply": "2021-12-07T05:09:30.430505Z"
    },
    "papermill": {
     "duration": 0.025017,
     "end_time": "2021-12-07T05:09:30.430628",
     "exception": false,
     "start_time": "2021-12-07T05:09:30.405611",
     "status": "completed"
    },
    "tags": []
   },
   "outputs": [
    {
     "data": {
      "text/plain": [
       "<KerasTensor: shape=(None, 227, 227, 3) dtype=float32 (created by layer 'input_1')>"
      ]
     },
     "execution_count": 9,
     "metadata": {},
     "output_type": "execute_result"
    }
   ],
   "source": [
    "#inputs of the layer\n",
    "vgg_model.input"
   ]
  },
  {
   "cell_type": "code",
   "execution_count": 10,
   "id": "d41677df",
   "metadata": {
    "execution": {
     "iopub.execute_input": "2021-12-07T05:09:30.471432Z",
     "iopub.status.busy": "2021-12-07T05:09:30.470685Z",
     "iopub.status.idle": "2021-12-07T05:09:30.507629Z",
     "shell.execute_reply": "2021-12-07T05:09:30.508057Z"
    },
    "papermill": {
     "duration": 0.060316,
     "end_time": "2021-12-07T05:09:30.508187",
     "exception": false,
     "start_time": "2021-12-07T05:09:30.447871",
     "status": "completed"
    },
    "tags": []
   },
   "outputs": [
    {
     "name": "stdout",
     "output_type": "stream",
     "text": [
      "Model: \"model\"\n",
      "_________________________________________________________________\n",
      "Layer (type)                 Output Shape              Param #   \n",
      "=================================================================\n",
      "input_1 (InputLayer)         [(None, 227, 227, 3)]     0         \n",
      "_________________________________________________________________\n",
      "block1_conv1 (Conv2D)        (None, 227, 227, 64)      1792      \n",
      "_________________________________________________________________\n",
      "block1_conv2 (Conv2D)        (None, 227, 227, 64)      36928     \n",
      "_________________________________________________________________\n",
      "block1_pool (MaxPooling2D)   (None, 113, 113, 64)      0         \n",
      "_________________________________________________________________\n",
      "block2_conv1 (Conv2D)        (None, 113, 113, 128)     73856     \n",
      "_________________________________________________________________\n",
      "block2_conv2 (Conv2D)        (None, 113, 113, 128)     147584    \n",
      "_________________________________________________________________\n",
      "block2_pool (MaxPooling2D)   (None, 56, 56, 128)       0         \n",
      "_________________________________________________________________\n",
      "block3_conv1 (Conv2D)        (None, 56, 56, 256)       295168    \n",
      "_________________________________________________________________\n",
      "block3_conv2 (Conv2D)        (None, 56, 56, 256)       590080    \n",
      "_________________________________________________________________\n",
      "block3_conv3 (Conv2D)        (None, 56, 56, 256)       590080    \n",
      "_________________________________________________________________\n",
      "block3_pool (MaxPooling2D)   (None, 28, 28, 256)       0         \n",
      "_________________________________________________________________\n",
      "block4_conv1 (Conv2D)        (None, 28, 28, 512)       1180160   \n",
      "_________________________________________________________________\n",
      "block4_conv2 (Conv2D)        (None, 28, 28, 512)       2359808   \n",
      "_________________________________________________________________\n",
      "block4_conv3 (Conv2D)        (None, 28, 28, 512)       2359808   \n",
      "_________________________________________________________________\n",
      "block4_pool (MaxPooling2D)   (None, 14, 14, 512)       0         \n",
      "_________________________________________________________________\n",
      "block5_conv1 (Conv2D)        (None, 14, 14, 512)       2359808   \n",
      "_________________________________________________________________\n",
      "block5_conv2 (Conv2D)        (None, 14, 14, 512)       2359808   \n",
      "_________________________________________________________________\n",
      "block5_conv3 (Conv2D)        (None, 14, 14, 512)       2359808   \n",
      "_________________________________________________________________\n",
      "block5_pool (MaxPooling2D)   (None, 7, 7, 512)         0         \n",
      "_________________________________________________________________\n",
      "first_flatten (Flatten)      (None, 25088)             0         \n",
      "_________________________________________________________________\n",
      "dense (Dense)                (None, 32)                802848    \n",
      "_________________________________________________________________\n",
      "dropout (Dropout)            (None, 32)                0         \n",
      "_________________________________________________________________\n",
      "dense_1 (Dense)              (None, 2)                 66        \n",
      "=================================================================\n",
      "Total params: 15,517,602\n",
      "Trainable params: 802,914\n",
      "Non-trainable params: 14,714,688\n",
      "_________________________________________________________________\n"
     ]
    }
   ],
   "source": [
    "# Flatten() is used to convert the last layer to vector or as fully connected\n",
    "x = Flatten(name=\"first_flatten\")(vgg_model.output)\n",
    "# Dense() is a fully connected layer and produces 128 outputs.\n",
    "# relu layer is used to convert the negative nubers to 0 and retains +ve as such.\n",
    "pred = Dense(32, activation=\"relu\")(x)\n",
    "#Dropout() layer is used to randomly remove 50% of the networks.\n",
    "pred = Dropout(0.5)(pred)\n",
    "# Dense() layer is added such that it outputs only two classess \n",
    "# Softmax activation layer produces probabilities for different classess.\n",
    "pred = Dense(2,activation='softmax')(pred)\n",
    "# Model() is used to group layers\n",
    "model = Model(inputs=vgg_model.input,outputs=pred)\n",
    "model.summary()"
   ]
  },
  {
   "cell_type": "markdown",
   "id": "17140043",
   "metadata": {
    "papermill": {
     "duration": 0.017674,
     "end_time": "2021-12-07T05:09:30.543455",
     "exception": false,
     "start_time": "2021-12-07T05:09:30.525781",
     "status": "completed"
    },
    "tags": []
   },
   "source": [
    "# **Image Augmentation**"
   ]
  },
  {
   "cell_type": "code",
   "execution_count": 11,
   "id": "eced91fa",
   "metadata": {
    "execution": {
     "iopub.execute_input": "2021-12-07T05:09:30.585308Z",
     "iopub.status.busy": "2021-12-07T05:09:30.584796Z",
     "iopub.status.idle": "2021-12-07T05:09:44.517928Z",
     "shell.execute_reply": "2021-12-07T05:09:44.518336Z"
    },
    "papermill": {
     "duration": 13.958046,
     "end_time": "2021-12-07T05:09:44.518498",
     "exception": false,
     "start_time": "2021-12-07T05:09:30.560452",
     "status": "completed"
    },
    "tags": []
   },
   "outputs": [
    {
     "name": "stdout",
     "output_type": "stream",
     "text": [
      "Found 32042 images belonging to 2 classes.\n",
      "Found 7958 images belonging to 2 classes.\n"
     ]
    }
   ],
   "source": [
    "#ImageDataGenerator is used to modify the train and test images w.r.t the properties mentioned\n",
    "train_datagen = ImageDataGenerator(rescale = 1/255.0,\n",
    "                                   shear_range = 0.2,\n",
    "                                   zoom_range = 0.2,\n",
    "                                   rotation_range=20,\n",
    "                                   width_shift_range=0.2, \n",
    "                                   height_shift_range=0.2,\n",
    "                                   horizontal_flip = True)\n",
    "\n",
    "test_datagen = ImageDataGenerator(rescale = 1/255.0,\n",
    "                                   shear_range = 0.2,\n",
    "                                   zoom_range = 0.2,\n",
    "                                   rotation_range=20,\n",
    "                                   width_shift_range=0.2, \n",
    "                                   height_shift_range=0.2,\n",
    "                                   horizontal_flip = True)\n",
    "\n",
    "# flow_from_directory() is used to convert all the images in the specific directory\n",
    "training_set = train_datagen.flow_from_directory(directory = main_train,\n",
    "                                                 target_size = (227,227),\n",
    "                                                 batch_size = 500,\n",
    "                                                 )\n",
    "\n",
    "test_set = test_datagen.flow_from_directory(directory = main_test,\n",
    "                                                 target_size = (227,227),\n",
    "                                                 batch_size = 500,\n",
    "                                                 )"
   ]
  },
  {
   "cell_type": "code",
   "execution_count": 12,
   "id": "6398c0eb",
   "metadata": {
    "execution": {
     "iopub.execute_input": "2021-12-07T05:09:44.558357Z",
     "iopub.status.busy": "2021-12-07T05:09:44.557748Z",
     "iopub.status.idle": "2021-12-07T05:09:44.560275Z",
     "shell.execute_reply": "2021-12-07T05:09:44.560694Z"
    },
    "papermill": {
     "duration": 0.024533,
     "end_time": "2021-12-07T05:09:44.560817",
     "exception": false,
     "start_time": "2021-12-07T05:09:44.536284",
     "status": "completed"
    },
    "tags": []
   },
   "outputs": [
    {
     "data": {
      "text/plain": [
       "{'Negative': 0, 'Positive': 1}"
      ]
     },
     "execution_count": 12,
     "metadata": {},
     "output_type": "execute_result"
    }
   ],
   "source": [
    "# Class_indices will display the respective class value\n",
    "training_set.class_indices"
   ]
  },
  {
   "cell_type": "code",
   "execution_count": 13,
   "id": "368d1796",
   "metadata": {
    "execution": {
     "iopub.execute_input": "2021-12-07T05:09:44.601217Z",
     "iopub.status.busy": "2021-12-07T05:09:44.600623Z",
     "iopub.status.idle": "2021-12-07T05:09:44.603259Z",
     "shell.execute_reply": "2021-12-07T05:09:44.603701Z"
    },
    "papermill": {
     "duration": 0.025132,
     "end_time": "2021-12-07T05:09:44.603820",
     "exception": false,
     "start_time": "2021-12-07T05:09:44.578688",
     "status": "completed"
    },
    "tags": []
   },
   "outputs": [
    {
     "name": "stdout",
     "output_type": "stream",
     "text": [
      "65\n",
      "16\n"
     ]
    }
   ],
   "source": [
    "# To check no.of folders in each\n",
    "print(len(training_set))\n",
    "print(len(test_set))"
   ]
  },
  {
   "cell_type": "code",
   "execution_count": 14,
   "id": "069050c9",
   "metadata": {
    "execution": {
     "iopub.execute_input": "2021-12-07T05:09:44.650637Z",
     "iopub.status.busy": "2021-12-07T05:09:44.649853Z",
     "iopub.status.idle": "2021-12-07T05:09:44.655860Z",
     "shell.execute_reply": "2021-12-07T05:09:44.656231Z"
    },
    "papermill": {
     "duration": 0.034421,
     "end_time": "2021-12-07T05:09:44.656350",
     "exception": false,
     "start_time": "2021-12-07T05:09:44.621929",
     "status": "completed"
    },
    "tags": []
   },
   "outputs": [],
   "source": [
    "# Loss function is used to find the errors or deviations in learning process\n",
    "# Optimizer is used to optimize the input weights\n",
    "# Metrics is used to measure the performance\n",
    "model.compile(optimizer=Adam(learning_rate=0.01),\n",
    "    loss=\"binary_crossentropy\",\n",
    "    metrics=['accuracy'])"
   ]
  },
  {
   "cell_type": "markdown",
   "id": "7d0bc28b",
   "metadata": {
    "papermill": {
     "duration": 0.018409,
     "end_time": "2021-12-07T05:09:44.693104",
     "exception": false,
     "start_time": "2021-12-07T05:09:44.674695",
     "status": "completed"
    },
    "tags": []
   },
   "source": [
    "# **Model Fitting**"
   ]
  },
  {
   "cell_type": "code",
   "execution_count": 15,
   "id": "af0cf64c",
   "metadata": {
    "execution": {
     "iopub.execute_input": "2021-12-07T05:09:44.734708Z",
     "iopub.status.busy": "2021-12-07T05:09:44.734190Z",
     "iopub.status.idle": "2021-12-07T05:29:36.088954Z",
     "shell.execute_reply": "2021-12-07T05:29:36.089352Z"
    },
    "papermill": {
     "duration": 1191.377798,
     "end_time": "2021-12-07T05:29:36.089558",
     "exception": false,
     "start_time": "2021-12-07T05:09:44.711760",
     "status": "completed"
    },
    "tags": []
   },
   "outputs": [
    {
     "name": "stderr",
     "output_type": "stream",
     "text": [
      "2021-12-07 05:09:51.612960: I tensorflow/compiler/mlir/mlir_graph_optimization_pass.cc:185] None of the MLIR Optimization Passes are enabled (registered 2)\n"
     ]
    },
    {
     "name": "stdout",
     "output_type": "stream",
     "text": [
      "Epoch 1/2\n"
     ]
    },
    {
     "name": "stderr",
     "output_type": "stream",
     "text": [
      "2021-12-07 05:09:59.911363: I tensorflow/stream_executor/cuda/cuda_dnn.cc:369] Loaded cuDNN version 8005\n",
      "2021-12-07 05:10:04.126592: W tensorflow/core/kernels/gpu_utils.cc:49] Failed to allocate memory for convolution redzone checking; skipping this check. This is benign and only means that we won't check cudnn for out-of-bounds reads and writes. This message will only be printed once.\n"
     ]
    },
    {
     "name": "stdout",
     "output_type": "stream",
     "text": [
      "65/65 [==============================] - 629s 9s/step - loss: 0.5374 - accuracy: 0.8529 - val_loss: 0.0656 - val_accuracy: 0.9854\n",
      "Epoch 2/2\n",
      "65/65 [==============================] - 500s 8s/step - loss: 0.2038 - accuracy: 0.9268 - val_loss: 0.0520 - val_accuracy: 0.9921\n"
     ]
    }
   ],
   "source": [
    "# fit() is used to train the model \n",
    "# len(training_set) is 32042/500 = 65\n",
    "# len(test_set) is 7958/500 = 16\n",
    "mod = model.fit(\n",
    "  training_set,\n",
    "  validation_data=test_set,\n",
    "  epochs=2,\n",
    "  steps_per_epoch=len(training_set),\n",
    "  validation_steps=len(test_set)\n",
    ")"
   ]
  },
  {
   "cell_type": "markdown",
   "id": "515eafe7",
   "metadata": {
    "papermill": {
     "duration": 0.053522,
     "end_time": "2021-12-07T05:29:36.198109",
     "exception": false,
     "start_time": "2021-12-07T05:29:36.144587",
     "status": "completed"
    },
    "tags": []
   },
   "source": [
    "# **Model Saving**"
   ]
  },
  {
   "cell_type": "code",
   "execution_count": 16,
   "id": "40102f68",
   "metadata": {
    "execution": {
     "iopub.execute_input": "2021-12-07T05:29:36.311579Z",
     "iopub.status.busy": "2021-12-07T05:29:36.310882Z",
     "iopub.status.idle": "2021-12-07T05:29:36.502440Z",
     "shell.execute_reply": "2021-12-07T05:29:36.502014Z"
    },
    "papermill": {
     "duration": 0.250719,
     "end_time": "2021-12-07T05:29:36.502587",
     "exception": false,
     "start_time": "2021-12-07T05:29:36.251868",
     "status": "completed"
    },
    "tags": []
   },
   "outputs": [
    {
     "data": {
      "text/plain": [
       "['32_0.01_100%']"
      ]
     },
     "execution_count": 16,
     "metadata": {},
     "output_type": "execute_result"
    }
   ],
   "source": [
    "# To save the particular model in .h5 format\n",
    "import tensorflow as tf\n",
    "from tensorflow.keras.models import load_model\n",
    "model.save('32_0.01_100%.h5')\n",
    "\n",
    "\n",
    "\n",
    "import joblib\n",
    "joblib.dump(mod.history,'32_0.01_100%')"
   ]
  }
 ],
 "metadata": {
  "kernelspec": {
   "display_name": "Python 3",
   "language": "python",
   "name": "python3"
  },
  "language_info": {
   "codemirror_mode": {
    "name": "ipython",
    "version": 3
   },
   "file_extension": ".py",
   "mimetype": "text/x-python",
   "name": "python",
   "nbconvert_exporter": "python",
   "pygments_lexer": "ipython3",
   "version": "3.7.12"
  },
  "papermill": {
   "default_parameters": {},
   "duration": 1225.837921,
   "end_time": "2021-12-07T05:29:40.131964",
   "environment_variables": {},
   "exception": null,
   "input_path": "__notebook__.ipynb",
   "output_path": "__notebook__.ipynb",
   "parameters": {},
   "start_time": "2021-12-07T05:09:14.294043",
   "version": "2.3.3"
  }
 },
 "nbformat": 4,
 "nbformat_minor": 5
}
