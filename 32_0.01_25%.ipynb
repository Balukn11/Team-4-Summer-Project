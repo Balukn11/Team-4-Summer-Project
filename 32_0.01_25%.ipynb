{
 "cells": [
  {
   "cell_type": "code",
   "execution_count": 1,
   "id": "9a42c47d",
   "metadata": {
    "_cell_guid": "b1076dfc-b9ad-4769-8c92-a6c4dae69d19",
    "_uuid": "8f2839f25d086af736a60e9eeb907d3b93b6e0e5",
    "execution": {
     "iopub.execute_input": "2021-12-07T04:01:17.873281Z",
     "iopub.status.busy": "2021-12-07T04:01:17.871768Z",
     "iopub.status.idle": "2021-12-07T04:01:17.882190Z",
     "shell.execute_reply": "2021-12-07T04:01:17.881604Z",
     "shell.execute_reply.started": "2021-12-07T03:39:32.170643Z"
    },
    "papermill": {
     "duration": 0.028306,
     "end_time": "2021-12-07T04:01:17.882331",
     "exception": false,
     "start_time": "2021-12-07T04:01:17.854025",
     "status": "completed"
    },
    "tags": []
   },
   "outputs": [],
   "source": [
    "img_size = [227,227] #List which stores the resolution\n",
    "main_train = '../input/mit-split-crack/25/Train' #Stores the path of the train directory\n",
    "main_test = '../input/mit-split-crack/25/Test' #Stores the path of the test directory"
   ]
  },
  {
   "cell_type": "markdown",
   "id": "8d97129c",
   "metadata": {
    "papermill": {
     "duration": 0.011833,
     "end_time": "2021-12-07T04:01:17.906933",
     "exception": false,
     "start_time": "2021-12-07T04:01:17.895100",
     "status": "completed"
    },
    "tags": []
   },
   "source": [
    "# **Import Statements**"
   ]
  },
  {
   "cell_type": "code",
   "execution_count": 2,
   "id": "91fd026e",
   "metadata": {
    "execution": {
     "iopub.execute_input": "2021-12-07T04:01:17.936436Z",
     "iopub.status.busy": "2021-12-07T04:01:17.935813Z",
     "iopub.status.idle": "2021-12-07T04:01:23.318473Z",
     "shell.execute_reply": "2021-12-07T04:01:23.317625Z",
     "shell.execute_reply.started": "2021-12-07T03:40:10.718234Z"
    },
    "papermill": {
     "duration": 5.399451,
     "end_time": "2021-12-07T04:01:23.318606",
     "exception": false,
     "start_time": "2021-12-07T04:01:17.919155",
     "status": "completed"
    },
    "tags": []
   },
   "outputs": [],
   "source": [
    "from tensorflow.keras.layers import Input,Dense,Flatten,Dropout\n",
    "from tensorflow.keras.models import Model,Sequential\n",
    "from tensorflow.keras.applications.vgg16 import VGG16,preprocess_input\n",
    "from matplotlib import pyplot as plt\n",
    "import numpy as np\n",
    "from tensorflow.keras.preprocessing import image\n",
    "from tensorflow.keras.optimizers import Adam\n",
    "from tensorflow.keras.preprocessing.image import ImageDataGenerator"
   ]
  },
  {
   "cell_type": "markdown",
   "id": "0c613180",
   "metadata": {
    "papermill": {
     "duration": 0.012521,
     "end_time": "2021-12-07T04:01:23.343426",
     "exception": false,
     "start_time": "2021-12-07T04:01:23.330905",
     "status": "completed"
    },
    "tags": []
   },
   "source": [
    "# **VGG16 Model Building**"
   ]
  },
  {
   "cell_type": "code",
   "execution_count": 3,
   "id": "efee08f2",
   "metadata": {
    "execution": {
     "iopub.execute_input": "2021-12-07T04:01:23.373769Z",
     "iopub.status.busy": "2021-12-07T04:01:23.373234Z",
     "iopub.status.idle": "2021-12-07T04:01:26.384664Z",
     "shell.execute_reply": "2021-12-07T04:01:26.384195Z",
     "shell.execute_reply.started": "2021-12-07T03:49:10.183481Z"
    },
    "papermill": {
     "duration": 3.029481,
     "end_time": "2021-12-07T04:01:26.384794",
     "exception": false,
     "start_time": "2021-12-07T04:01:23.355313",
     "status": "completed"
    },
    "tags": []
   },
   "outputs": [
    {
     "name": "stderr",
     "output_type": "stream",
     "text": [
      "2021-12-07 04:01:23.452891: I tensorflow/stream_executor/cuda/cuda_gpu_executor.cc:937] successful NUMA node read from SysFS had negative value (-1), but there must be at least one NUMA node, so returning NUMA node zero\n",
      "2021-12-07 04:01:23.544918: I tensorflow/stream_executor/cuda/cuda_gpu_executor.cc:937] successful NUMA node read from SysFS had negative value (-1), but there must be at least one NUMA node, so returning NUMA node zero\n",
      "2021-12-07 04:01:23.545627: I tensorflow/stream_executor/cuda/cuda_gpu_executor.cc:937] successful NUMA node read from SysFS had negative value (-1), but there must be at least one NUMA node, so returning NUMA node zero\n",
      "2021-12-07 04:01:23.546724: I tensorflow/core/platform/cpu_feature_guard.cc:142] This TensorFlow binary is optimized with oneAPI Deep Neural Network Library (oneDNN) to use the following CPU instructions in performance-critical operations:  AVX2 AVX512F FMA\n",
      "To enable them in other operations, rebuild TensorFlow with the appropriate compiler flags.\n",
      "2021-12-07 04:01:23.547466: I tensorflow/stream_executor/cuda/cuda_gpu_executor.cc:937] successful NUMA node read from SysFS had negative value (-1), but there must be at least one NUMA node, so returning NUMA node zero\n",
      "2021-12-07 04:01:23.548162: I tensorflow/stream_executor/cuda/cuda_gpu_executor.cc:937] successful NUMA node read from SysFS had negative value (-1), but there must be at least one NUMA node, so returning NUMA node zero\n",
      "2021-12-07 04:01:23.548747: I tensorflow/stream_executor/cuda/cuda_gpu_executor.cc:937] successful NUMA node read from SysFS had negative value (-1), but there must be at least one NUMA node, so returning NUMA node zero\n",
      "2021-12-07 04:01:25.335281: I tensorflow/stream_executor/cuda/cuda_gpu_executor.cc:937] successful NUMA node read from SysFS had negative value (-1), but there must be at least one NUMA node, so returning NUMA node zero\n",
      "2021-12-07 04:01:25.336097: I tensorflow/stream_executor/cuda/cuda_gpu_executor.cc:937] successful NUMA node read from SysFS had negative value (-1), but there must be at least one NUMA node, so returning NUMA node zero\n",
      "2021-12-07 04:01:25.336715: I tensorflow/stream_executor/cuda/cuda_gpu_executor.cc:937] successful NUMA node read from SysFS had negative value (-1), but there must be at least one NUMA node, so returning NUMA node zero\n",
      "2021-12-07 04:01:25.337330: I tensorflow/core/common_runtime/gpu/gpu_device.cc:1510] Created device /job:localhost/replica:0/task:0/device:GPU:0 with 15403 MB memory:  -> device: 0, name: Tesla P100-PCIE-16GB, pci bus id: 0000:00:04.0, compute capability: 6.0\n"
     ]
    },
    {
     "name": "stdout",
     "output_type": "stream",
     "text": [
      "Downloading data from https://storage.googleapis.com/tensorflow/keras-applications/vgg16/vgg16_weights_tf_dim_ordering_tf_kernels_notop.h5\n",
      "58892288/58889256 [==============================] - 0s 0us/step\n",
      "58900480/58889256 [==============================] - 0s 0us/step\n"
     ]
    }
   ],
   "source": [
    "vgg_model = VGG16(include_top=False,\n",
    "    weights=\"imagenet\",\n",
    "    input_shape=img_size + [3])\n",
    "\n",
    "# Loading the VGG16 pre trained model\n",
    "\n",
    "# include_top - this specifies whether the final layer before the output layer has to be include \n",
    "# or not. If included then there will be 1000 number of classes at the output.\n",
    "\n",
    "# Weights are trained using imagenet"
   ]
  },
  {
   "cell_type": "code",
   "execution_count": 4,
   "id": "5e4fc977",
   "metadata": {
    "execution": {
     "iopub.execute_input": "2021-12-07T04:01:26.422392Z",
     "iopub.status.busy": "2021-12-07T04:01:26.421518Z",
     "iopub.status.idle": "2021-12-07T04:01:26.432501Z",
     "shell.execute_reply": "2021-12-07T04:01:26.432072Z",
     "shell.execute_reply.started": "2021-12-07T03:49:35.309944Z"
    },
    "papermill": {
     "duration": 0.032572,
     "end_time": "2021-12-07T04:01:26.432625",
     "exception": false,
     "start_time": "2021-12-07T04:01:26.400053",
     "status": "completed"
    },
    "tags": []
   },
   "outputs": [
    {
     "name": "stdout",
     "output_type": "stream",
     "text": [
      "Model: \"vgg16\"\n",
      "_________________________________________________________________\n",
      "Layer (type)                 Output Shape              Param #   \n",
      "=================================================================\n",
      "input_1 (InputLayer)         [(None, 227, 227, 3)]     0         \n",
      "_________________________________________________________________\n",
      "block1_conv1 (Conv2D)        (None, 227, 227, 64)      1792      \n",
      "_________________________________________________________________\n",
      "block1_conv2 (Conv2D)        (None, 227, 227, 64)      36928     \n",
      "_________________________________________________________________\n",
      "block1_pool (MaxPooling2D)   (None, 113, 113, 64)      0         \n",
      "_________________________________________________________________\n",
      "block2_conv1 (Conv2D)        (None, 113, 113, 128)     73856     \n",
      "_________________________________________________________________\n",
      "block2_conv2 (Conv2D)        (None, 113, 113, 128)     147584    \n",
      "_________________________________________________________________\n",
      "block2_pool (MaxPooling2D)   (None, 56, 56, 128)       0         \n",
      "_________________________________________________________________\n",
      "block3_conv1 (Conv2D)        (None, 56, 56, 256)       295168    \n",
      "_________________________________________________________________\n",
      "block3_conv2 (Conv2D)        (None, 56, 56, 256)       590080    \n",
      "_________________________________________________________________\n",
      "block3_conv3 (Conv2D)        (None, 56, 56, 256)       590080    \n",
      "_________________________________________________________________\n",
      "block3_pool (MaxPooling2D)   (None, 28, 28, 256)       0         \n",
      "_________________________________________________________________\n",
      "block4_conv1 (Conv2D)        (None, 28, 28, 512)       1180160   \n",
      "_________________________________________________________________\n",
      "block4_conv2 (Conv2D)        (None, 28, 28, 512)       2359808   \n",
      "_________________________________________________________________\n",
      "block4_conv3 (Conv2D)        (None, 28, 28, 512)       2359808   \n",
      "_________________________________________________________________\n",
      "block4_pool (MaxPooling2D)   (None, 14, 14, 512)       0         \n",
      "_________________________________________________________________\n",
      "block5_conv1 (Conv2D)        (None, 14, 14, 512)       2359808   \n",
      "_________________________________________________________________\n",
      "block5_conv2 (Conv2D)        (None, 14, 14, 512)       2359808   \n",
      "_________________________________________________________________\n",
      "block5_conv3 (Conv2D)        (None, 14, 14, 512)       2359808   \n",
      "_________________________________________________________________\n",
      "block5_pool (MaxPooling2D)   (None, 7, 7, 512)         0         \n",
      "=================================================================\n",
      "Total params: 14,714,688\n",
      "Trainable params: 14,714,688\n",
      "Non-trainable params: 0\n",
      "_________________________________________________________________\n"
     ]
    }
   ],
   "source": [
    "# To print the hidden layer summary of vgg model without top layer\n",
    "vgg_model.summary()"
   ]
  },
  {
   "cell_type": "code",
   "execution_count": 5,
   "id": "b2f85eda",
   "metadata": {
    "execution": {
     "iopub.execute_input": "2021-12-07T04:01:26.467340Z",
     "iopub.status.busy": "2021-12-07T04:01:26.466611Z",
     "iopub.status.idle": "2021-12-07T04:01:26.468756Z",
     "shell.execute_reply": "2021-12-07T04:01:26.469180Z",
     "shell.execute_reply.started": "2021-12-07T03:50:04.597592Z"
    },
    "papermill": {
     "duration": 0.021634,
     "end_time": "2021-12-07T04:01:26.469312",
     "exception": false,
     "start_time": "2021-12-07T04:01:26.447678",
     "status": "completed"
    },
    "tags": []
   },
   "outputs": [],
   "source": [
    "# To fix the weights of the pre trained model\n",
    "for lay in vgg_model.layers:\n",
    "    lay.trainable = False"
   ]
  },
  {
   "cell_type": "code",
   "execution_count": 6,
   "id": "6be0c8b2",
   "metadata": {
    "execution": {
     "iopub.execute_input": "2021-12-07T04:01:26.507455Z",
     "iopub.status.busy": "2021-12-07T04:01:26.504282Z",
     "iopub.status.idle": "2021-12-07T04:01:26.514731Z",
     "shell.execute_reply": "2021-12-07T04:01:26.514314Z"
    },
    "papermill": {
     "duration": 0.030727,
     "end_time": "2021-12-07T04:01:26.514838",
     "exception": false,
     "start_time": "2021-12-07T04:01:26.484111",
     "status": "completed"
    },
    "tags": []
   },
   "outputs": [
    {
     "name": "stdout",
     "output_type": "stream",
     "text": [
      "Model: \"vgg16\"\n",
      "_________________________________________________________________\n",
      "Layer (type)                 Output Shape              Param #   \n",
      "=================================================================\n",
      "input_1 (InputLayer)         [(None, 227, 227, 3)]     0         \n",
      "_________________________________________________________________\n",
      "block1_conv1 (Conv2D)        (None, 227, 227, 64)      1792      \n",
      "_________________________________________________________________\n",
      "block1_conv2 (Conv2D)        (None, 227, 227, 64)      36928     \n",
      "_________________________________________________________________\n",
      "block1_pool (MaxPooling2D)   (None, 113, 113, 64)      0         \n",
      "_________________________________________________________________\n",
      "block2_conv1 (Conv2D)        (None, 113, 113, 128)     73856     \n",
      "_________________________________________________________________\n",
      "block2_conv2 (Conv2D)        (None, 113, 113, 128)     147584    \n",
      "_________________________________________________________________\n",
      "block2_pool (MaxPooling2D)   (None, 56, 56, 128)       0         \n",
      "_________________________________________________________________\n",
      "block3_conv1 (Conv2D)        (None, 56, 56, 256)       295168    \n",
      "_________________________________________________________________\n",
      "block3_conv2 (Conv2D)        (None, 56, 56, 256)       590080    \n",
      "_________________________________________________________________\n",
      "block3_conv3 (Conv2D)        (None, 56, 56, 256)       590080    \n",
      "_________________________________________________________________\n",
      "block3_pool (MaxPooling2D)   (None, 28, 28, 256)       0         \n",
      "_________________________________________________________________\n",
      "block4_conv1 (Conv2D)        (None, 28, 28, 512)       1180160   \n",
      "_________________________________________________________________\n",
      "block4_conv2 (Conv2D)        (None, 28, 28, 512)       2359808   \n",
      "_________________________________________________________________\n",
      "block4_conv3 (Conv2D)        (None, 28, 28, 512)       2359808   \n",
      "_________________________________________________________________\n",
      "block4_pool (MaxPooling2D)   (None, 14, 14, 512)       0         \n",
      "_________________________________________________________________\n",
      "block5_conv1 (Conv2D)        (None, 14, 14, 512)       2359808   \n",
      "_________________________________________________________________\n",
      "block5_conv2 (Conv2D)        (None, 14, 14, 512)       2359808   \n",
      "_________________________________________________________________\n",
      "block5_conv3 (Conv2D)        (None, 14, 14, 512)       2359808   \n",
      "_________________________________________________________________\n",
      "block5_pool (MaxPooling2D)   (None, 7, 7, 512)         0         \n",
      "=================================================================\n",
      "Total params: 14,714,688\n",
      "Trainable params: 0\n",
      "Non-trainable params: 14,714,688\n",
      "_________________________________________________________________\n"
     ]
    }
   ],
   "source": [
    "vgg_model.summary()"
   ]
  },
  {
   "cell_type": "code",
   "execution_count": 7,
   "id": "49fa2d6f",
   "metadata": {
    "execution": {
     "iopub.execute_input": "2021-12-07T04:01:26.549907Z",
     "iopub.status.busy": "2021-12-07T04:01:26.549278Z",
     "iopub.status.idle": "2021-12-07T04:01:26.557362Z",
     "shell.execute_reply": "2021-12-07T04:01:26.557915Z"
    },
    "papermill": {
     "duration": 0.027855,
     "end_time": "2021-12-07T04:01:26.558070",
     "exception": false,
     "start_time": "2021-12-07T04:01:26.530215",
     "status": "completed"
    },
    "tags": []
   },
   "outputs": [
    {
     "name": "stdout",
     "output_type": "stream",
     "text": [
      "2\n",
      "2\n"
     ]
    }
   ],
   "source": [
    "# to list out number of folders in train and test folder\n",
    "import os\n",
    "folders_train1 = os.listdir(main_train)\n",
    "print(len(folders_train1))\n",
    "\n",
    "folders_test1 = os.listdir(main_test)\n",
    "print(len(folders_test1))"
   ]
  },
  {
   "cell_type": "code",
   "execution_count": 8,
   "id": "50931165",
   "metadata": {
    "execution": {
     "iopub.execute_input": "2021-12-07T04:01:26.595200Z",
     "iopub.status.busy": "2021-12-07T04:01:26.594537Z",
     "iopub.status.idle": "2021-12-07T04:01:26.597474Z",
     "shell.execute_reply": "2021-12-07T04:01:26.597884Z"
    },
    "papermill": {
     "duration": 0.02439,
     "end_time": "2021-12-07T04:01:26.598016",
     "exception": false,
     "start_time": "2021-12-07T04:01:26.573626",
     "status": "completed"
    },
    "tags": []
   },
   "outputs": [
    {
     "data": {
      "text/plain": [
       "<KerasTensor: shape=(None, 7, 7, 512) dtype=float32 (created by layer 'block5_pool')>"
      ]
     },
     "execution_count": 8,
     "metadata": {},
     "output_type": "execute_result"
    }
   ],
   "source": [
    "#outputs the last layer\n",
    "vgg_model.output\n"
   ]
  },
  {
   "cell_type": "code",
   "execution_count": 9,
   "id": "65e3ffe5",
   "metadata": {
    "execution": {
     "iopub.execute_input": "2021-12-07T04:01:26.634300Z",
     "iopub.status.busy": "2021-12-07T04:01:26.633513Z",
     "iopub.status.idle": "2021-12-07T04:01:26.636801Z",
     "shell.execute_reply": "2021-12-07T04:01:26.636306Z"
    },
    "papermill": {
     "duration": 0.02287,
     "end_time": "2021-12-07T04:01:26.636935",
     "exception": false,
     "start_time": "2021-12-07T04:01:26.614065",
     "status": "completed"
    },
    "tags": []
   },
   "outputs": [
    {
     "data": {
      "text/plain": [
       "<KerasTensor: shape=(None, 227, 227, 3) dtype=float32 (created by layer 'input_1')>"
      ]
     },
     "execution_count": 9,
     "metadata": {},
     "output_type": "execute_result"
    }
   ],
   "source": [
    "#inputs of the layer\n",
    "vgg_model.input"
   ]
  },
  {
   "cell_type": "code",
   "execution_count": 10,
   "id": "fc8a916c",
   "metadata": {
    "execution": {
     "iopub.execute_input": "2021-12-07T04:01:26.676061Z",
     "iopub.status.busy": "2021-12-07T04:01:26.675282Z",
     "iopub.status.idle": "2021-12-07T04:01:26.713544Z",
     "shell.execute_reply": "2021-12-07T04:01:26.714451Z"
    },
    "papermill": {
     "duration": 0.061326,
     "end_time": "2021-12-07T04:01:26.714646",
     "exception": false,
     "start_time": "2021-12-07T04:01:26.653320",
     "status": "completed"
    },
    "tags": []
   },
   "outputs": [
    {
     "name": "stdout",
     "output_type": "stream",
     "text": [
      "Model: \"model\"\n",
      "_________________________________________________________________\n",
      "Layer (type)                 Output Shape              Param #   \n",
      "=================================================================\n",
      "input_1 (InputLayer)         [(None, 227, 227, 3)]     0         \n",
      "_________________________________________________________________\n",
      "block1_conv1 (Conv2D)        (None, 227, 227, 64)      1792      \n",
      "_________________________________________________________________\n",
      "block1_conv2 (Conv2D)        (None, 227, 227, 64)      36928     \n",
      "_________________________________________________________________\n",
      "block1_pool (MaxPooling2D)   (None, 113, 113, 64)      0         \n",
      "_________________________________________________________________\n",
      "block2_conv1 (Conv2D)        (None, 113, 113, 128)     73856     \n",
      "_________________________________________________________________\n",
      "block2_conv2 (Conv2D)        (None, 113, 113, 128)     147584    \n",
      "_________________________________________________________________\n",
      "block2_pool (MaxPooling2D)   (None, 56, 56, 128)       0         \n",
      "_________________________________________________________________\n",
      "block3_conv1 (Conv2D)        (None, 56, 56, 256)       295168    \n",
      "_________________________________________________________________\n",
      "block3_conv2 (Conv2D)        (None, 56, 56, 256)       590080    \n",
      "_________________________________________________________________\n",
      "block3_conv3 (Conv2D)        (None, 56, 56, 256)       590080    \n",
      "_________________________________________________________________\n",
      "block3_pool (MaxPooling2D)   (None, 28, 28, 256)       0         \n",
      "_________________________________________________________________\n",
      "block4_conv1 (Conv2D)        (None, 28, 28, 512)       1180160   \n",
      "_________________________________________________________________\n",
      "block4_conv2 (Conv2D)        (None, 28, 28, 512)       2359808   \n",
      "_________________________________________________________________\n",
      "block4_conv3 (Conv2D)        (None, 28, 28, 512)       2359808   \n",
      "_________________________________________________________________\n",
      "block4_pool (MaxPooling2D)   (None, 14, 14, 512)       0         \n",
      "_________________________________________________________________\n",
      "block5_conv1 (Conv2D)        (None, 14, 14, 512)       2359808   \n",
      "_________________________________________________________________\n",
      "block5_conv2 (Conv2D)        (None, 14, 14, 512)       2359808   \n",
      "_________________________________________________________________\n",
      "block5_conv3 (Conv2D)        (None, 14, 14, 512)       2359808   \n",
      "_________________________________________________________________\n",
      "block5_pool (MaxPooling2D)   (None, 7, 7, 512)         0         \n",
      "_________________________________________________________________\n",
      "first_flatten (Flatten)      (None, 25088)             0         \n",
      "_________________________________________________________________\n",
      "dense (Dense)                (None, 32)                802848    \n",
      "_________________________________________________________________\n",
      "dropout (Dropout)            (None, 32)                0         \n",
      "_________________________________________________________________\n",
      "dense_1 (Dense)              (None, 2)                 66        \n",
      "=================================================================\n",
      "Total params: 15,517,602\n",
      "Trainable params: 802,914\n",
      "Non-trainable params: 14,714,688\n",
      "_________________________________________________________________\n"
     ]
    }
   ],
   "source": [
    "# Flatten() is used to convert the last layer to vector or as fully connected\n",
    "x = Flatten(name=\"first_flatten\")(vgg_model.output)\n",
    "# Dense() is a fully connected layer and produces 128 outputs.\n",
    "# relu layer is used to convert the negative nubers to 0 and retains +ve as such.\n",
    "pred = Dense(32, activation=\"relu\")(x)\n",
    "#Dropout() layer is used to randomly remove 50% of the networks.\n",
    "pred = Dropout(0.5)(pred)\n",
    "# Dense() layer is added such that it outputs only two classess \n",
    "# Softmax activation layer produces probabilities for different classess.\n",
    "pred = Dense(2,activation='softmax')(pred)\n",
    "# Model() is used to group layers\n",
    "model = Model(inputs=vgg_model.input,outputs=pred)\n",
    "model.summary()"
   ]
  },
  {
   "cell_type": "markdown",
   "id": "1c3b4d5b",
   "metadata": {
    "papermill": {
     "duration": 0.017105,
     "end_time": "2021-12-07T04:01:26.750125",
     "exception": false,
     "start_time": "2021-12-07T04:01:26.733020",
     "status": "completed"
    },
    "tags": []
   },
   "source": [
    "# **Image Augmentation**"
   ]
  },
  {
   "cell_type": "code",
   "execution_count": 11,
   "id": "7e91930c",
   "metadata": {
    "execution": {
     "iopub.execute_input": "2021-12-07T04:01:26.791964Z",
     "iopub.status.busy": "2021-12-07T04:01:26.791237Z",
     "iopub.status.idle": "2021-12-07T04:01:29.668062Z",
     "shell.execute_reply": "2021-12-07T04:01:29.667142Z"
    },
    "papermill": {
     "duration": 2.90092,
     "end_time": "2021-12-07T04:01:29.668205",
     "exception": false,
     "start_time": "2021-12-07T04:01:26.767285",
     "status": "completed"
    },
    "tags": []
   },
   "outputs": [
    {
     "name": "stdout",
     "output_type": "stream",
     "text": [
      "Found 8054 images belonging to 2 classes.\n",
      "Found 1992 images belonging to 2 classes.\n"
     ]
    }
   ],
   "source": [
    "#ImageDataGenerator is used to modify the train and test images w.r.t the properties mentioned\n",
    "train_datagen = ImageDataGenerator(rescale = 1/255.0,\n",
    "                                   shear_range = 0.2,\n",
    "                                   zoom_range = 0.2,\n",
    "                                   rotation_range=20,\n",
    "                                   width_shift_range=0.2, \n",
    "                                   height_shift_range=0.2,\n",
    "                                   horizontal_flip = True)\n",
    "\n",
    "test_datagen = ImageDataGenerator(rescale = 1/255.0,\n",
    "                                   shear_range = 0.2,\n",
    "                                   zoom_range = 0.2,\n",
    "                                   rotation_range=20,\n",
    "                                   width_shift_range=0.2, \n",
    "                                   height_shift_range=0.2,\n",
    "                                   horizontal_flip = True)\n",
    "\n",
    "# flow_from_directory() is used to convert all the images in the specific directory\n",
    "training_set = train_datagen.flow_from_directory(directory = main_train,\n",
    "                                                 target_size = (227,227),\n",
    "                                                 batch_size = 500,\n",
    "                                                 )\n",
    "\n",
    "test_set = test_datagen.flow_from_directory(directory = main_test,\n",
    "                                                 target_size = (227,227),\n",
    "                                                 batch_size = 500,\n",
    "                                                 )"
   ]
  },
  {
   "cell_type": "code",
   "execution_count": 12,
   "id": "0c71f434",
   "metadata": {
    "execution": {
     "iopub.execute_input": "2021-12-07T04:01:29.709926Z",
     "iopub.status.busy": "2021-12-07T04:01:29.708779Z",
     "iopub.status.idle": "2021-12-07T04:01:29.711843Z",
     "shell.execute_reply": "2021-12-07T04:01:29.712278Z"
    },
    "papermill": {
     "duration": 0.026122,
     "end_time": "2021-12-07T04:01:29.712413",
     "exception": false,
     "start_time": "2021-12-07T04:01:29.686291",
     "status": "completed"
    },
    "tags": []
   },
   "outputs": [
    {
     "data": {
      "text/plain": [
       "{'Negative': 0, 'Positive': 1}"
      ]
     },
     "execution_count": 12,
     "metadata": {},
     "output_type": "execute_result"
    }
   ],
   "source": [
    "# Class_indices will display the respective class value\n",
    "training_set.class_indices"
   ]
  },
  {
   "cell_type": "code",
   "execution_count": 13,
   "id": "50d37b61",
   "metadata": {
    "execution": {
     "iopub.execute_input": "2021-12-07T04:01:29.755623Z",
     "iopub.status.busy": "2021-12-07T04:01:29.754082Z",
     "iopub.status.idle": "2021-12-07T04:01:29.758001Z",
     "shell.execute_reply": "2021-12-07T04:01:29.757529Z"
    },
    "papermill": {
     "duration": 0.027676,
     "end_time": "2021-12-07T04:01:29.758125",
     "exception": false,
     "start_time": "2021-12-07T04:01:29.730449",
     "status": "completed"
    },
    "tags": []
   },
   "outputs": [
    {
     "name": "stdout",
     "output_type": "stream",
     "text": [
      "17\n",
      "4\n"
     ]
    }
   ],
   "source": [
    "# To check no.of folders in each\n",
    "print(len(training_set))\n",
    "print(len(test_set))"
   ]
  },
  {
   "cell_type": "code",
   "execution_count": 14,
   "id": "902a2faf",
   "metadata": {
    "execution": {
     "iopub.execute_input": "2021-12-07T04:01:29.804982Z",
     "iopub.status.busy": "2021-12-07T04:01:29.804162Z",
     "iopub.status.idle": "2021-12-07T04:01:29.810152Z",
     "shell.execute_reply": "2021-12-07T04:01:29.809665Z"
    },
    "papermill": {
     "duration": 0.033357,
     "end_time": "2021-12-07T04:01:29.810270",
     "exception": false,
     "start_time": "2021-12-07T04:01:29.776913",
     "status": "completed"
    },
    "tags": []
   },
   "outputs": [],
   "source": [
    "# Loss function is used to find the errors or deviations in learning process\n",
    "# Optimizer is used to optimize the input weights\n",
    "# Metrics is used to measure the performance\n",
    "model.compile(optimizer=Adam(learning_rate=0.01),\n",
    "    loss=\"binary_crossentropy\",\n",
    "    metrics=['accuracy'])"
   ]
  },
  {
   "cell_type": "markdown",
   "id": "28159a4a",
   "metadata": {
    "papermill": {
     "duration": 0.01828,
     "end_time": "2021-12-07T04:01:29.847486",
     "exception": false,
     "start_time": "2021-12-07T04:01:29.829206",
     "status": "completed"
    },
    "tags": []
   },
   "source": [
    "# **Model Fitting**"
   ]
  },
  {
   "cell_type": "code",
   "execution_count": 15,
   "id": "74d821e2",
   "metadata": {
    "execution": {
     "iopub.execute_input": "2021-12-07T04:01:29.890166Z",
     "iopub.status.busy": "2021-12-07T04:01:29.889350Z",
     "iopub.status.idle": "2021-12-07T04:07:08.049888Z",
     "shell.execute_reply": "2021-12-07T04:07:08.050365Z"
    },
    "papermill": {
     "duration": 338.184169,
     "end_time": "2021-12-07T04:07:08.050524",
     "exception": false,
     "start_time": "2021-12-07T04:01:29.866355",
     "status": "completed"
    },
    "tags": []
   },
   "outputs": [
    {
     "name": "stderr",
     "output_type": "stream",
     "text": [
      "2021-12-07 04:01:36.852004: I tensorflow/compiler/mlir/mlir_graph_optimization_pass.cc:185] None of the MLIR Optimization Passes are enabled (registered 2)\n"
     ]
    },
    {
     "name": "stdout",
     "output_type": "stream",
     "text": [
      "Epoch 1/2\n"
     ]
    },
    {
     "name": "stderr",
     "output_type": "stream",
     "text": [
      "2021-12-07 04:01:44.933152: I tensorflow/stream_executor/cuda/cuda_dnn.cc:369] Loaded cuDNN version 8005\n",
      "2021-12-07 04:01:49.003480: W tensorflow/core/kernels/gpu_utils.cc:49] Failed to allocate memory for convolution redzone checking; skipping this check. This is benign and only means that we won't check cudnn for out-of-bounds reads and writes. This message will only be printed once.\n"
     ]
    },
    {
     "name": "stdout",
     "output_type": "stream",
     "text": [
      "17/17 [==============================] - 201s 10s/step - loss: 1.6865 - accuracy: 0.6556 - val_loss: 0.2188 - val_accuracy: 0.9182\n",
      "Epoch 2/2\n",
      "17/17 [==============================] - 130s 8s/step - loss: 0.4255 - accuracy: 0.6881 - val_loss: 0.1265 - val_accuracy: 0.9282\n"
     ]
    }
   ],
   "source": [
    "# fit() is used to train the model \n",
    "# len(training_set) is 32042/500 = 65\n",
    "# len(test_set) is 7958/500 = 16\n",
    "mod = model.fit(\n",
    "  training_set,\n",
    "  validation_data=test_set,\n",
    "  epochs=2,\n",
    "  steps_per_epoch=len(training_set),\n",
    "  validation_steps=len(test_set)\n",
    ")"
   ]
  },
  {
   "cell_type": "markdown",
   "id": "762f3ee5",
   "metadata": {
    "papermill": {
     "duration": 0.028604,
     "end_time": "2021-12-07T04:07:08.108659",
     "exception": false,
     "start_time": "2021-12-07T04:07:08.080055",
     "status": "completed"
    },
    "tags": []
   },
   "source": [
    "# **Model Saving**"
   ]
  },
  {
   "cell_type": "code",
   "execution_count": 16,
   "id": "cc3197c0",
   "metadata": {
    "execution": {
     "iopub.execute_input": "2021-12-07T04:07:08.182693Z",
     "iopub.status.busy": "2021-12-07T04:07:08.181871Z",
     "iopub.status.idle": "2021-12-07T04:07:08.350246Z",
     "shell.execute_reply": "2021-12-07T04:07:08.350651Z"
    },
    "papermill": {
     "duration": 0.212987,
     "end_time": "2021-12-07T04:07:08.350807",
     "exception": false,
     "start_time": "2021-12-07T04:07:08.137820",
     "status": "completed"
    },
    "tags": []
   },
   "outputs": [
    {
     "data": {
      "text/plain": [
       "['32_0.01_25%']"
      ]
     },
     "execution_count": 16,
     "metadata": {},
     "output_type": "execute_result"
    }
   ],
   "source": [
    "# To save the particular model in .h5 format\n",
    "import tensorflow as tf\n",
    "from tensorflow.keras.models import load_model\n",
    "model.save('32_0.01_25%.h5')\n",
    "\n",
    "\n",
    "\n",
    "import joblib\n",
    "joblib.dump(mod.history,'32_0.01_25%')"
   ]
  }
 ],
 "metadata": {
  "kernelspec": {
   "display_name": "Python 3",
   "language": "python",
   "name": "python3"
  },
  "language_info": {
   "codemirror_mode": {
    "name": "ipython",
    "version": 3
   },
   "file_extension": ".py",
   "mimetype": "text/x-python",
   "name": "python",
   "nbconvert_exporter": "python",
   "pygments_lexer": "ipython3",
   "version": "3.7.12"
  },
  "papermill": {
   "default_parameters": {},
   "duration": 362.477746,
   "end_time": "2021-12-07T04:07:12.082009",
   "environment_variables": {},
   "exception": null,
   "input_path": "__notebook__.ipynb",
   "output_path": "__notebook__.ipynb",
   "parameters": {},
   "start_time": "2021-12-07T04:01:09.604263",
   "version": "2.3.3"
  }
 },
 "nbformat": 4,
 "nbformat_minor": 5
}
