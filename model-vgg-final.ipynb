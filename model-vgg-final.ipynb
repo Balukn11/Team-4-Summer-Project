{
 "cells": [
  {
   "cell_type": "markdown",
   "id": "da31d761",
   "metadata": {
    "papermill": {
     "duration": 0.015267,
     "end_time": "2021-10-21T07:50:55.651209",
     "exception": false,
     "start_time": "2021-10-21T07:50:55.635942",
     "status": "completed"
    },
    "tags": []
   },
   "source": [
    "# **Model Building**"
   ]
  },
  {
   "cell_type": "code",
   "execution_count": 1,
   "id": "89360b3c",
   "metadata": {
    "execution": {
     "iopub.execute_input": "2021-10-21T07:50:55.685824Z",
     "iopub.status.busy": "2021-10-21T07:50:55.684361Z",
     "iopub.status.idle": "2021-10-21T07:50:55.766565Z",
     "shell.execute_reply": "2021-10-21T07:50:55.767039Z",
     "shell.execute_reply.started": "2021-10-21T07:50:35.472578Z"
    },
    "papermill": {
     "duration": 0.100351,
     "end_time": "2021-10-21T07:50:55.767308",
     "exception": false,
     "start_time": "2021-10-21T07:50:55.666957",
     "status": "completed"
    },
    "tags": []
   },
   "outputs": [],
   "source": [
    "img_size = [227,227] #List which stores the resolution\n",
    "main_train = '../input/crack-detection/Main/Train' #Stores the path of the train directory\n",
    "main_test = '../input/crack-detection/Main/Test' #Stores the path of the test directory"
   ]
  },
  {
   "cell_type": "code",
   "execution_count": 2,
   "id": "f9b32af8",
   "metadata": {
    "execution": {
     "iopub.execute_input": "2021-10-21T07:50:55.800704Z",
     "iopub.status.busy": "2021-10-21T07:50:55.800019Z",
     "iopub.status.idle": "2021-10-21T07:51:00.265551Z",
     "shell.execute_reply": "2021-10-21T07:51:00.265075Z",
     "shell.execute_reply.started": "2021-10-21T06:41:35.634206Z"
    },
    "papermill": {
     "duration": 4.484159,
     "end_time": "2021-10-21T07:51:00.265715",
     "exception": false,
     "start_time": "2021-10-21T07:50:55.781556",
     "status": "completed"
    },
    "tags": []
   },
   "outputs": [
    {
     "name": "stderr",
     "output_type": "stream",
     "text": [
      "2021-10-21 07:50:56.307154: I tensorflow/stream_executor/platform/default/dso_loader.cc:49] Successfully opened dynamic library libcudart.so.11.0\n"
     ]
    }
   ],
   "source": [
    "from tensorflow.keras.layers import Input,Dense,Flatten\n",
    "from tensorflow.keras.models import Model,Sequential\n",
    "from tensorflow.keras.applications.vgg16 import VGG16,preprocess_input\n",
    "from matplotlib import pyplot as plt\n",
    "import numpy as np\n",
    "from tensorflow.keras.preprocessing import image\n",
    "from tensorflow.keras.preprocessing.image import ImageDataGenerator"
   ]
  },
  {
   "cell_type": "code",
   "execution_count": 3,
   "id": "59ba9a02",
   "metadata": {
    "execution": {
     "iopub.execute_input": "2021-10-21T07:51:00.303810Z",
     "iopub.status.busy": "2021-10-21T07:51:00.302985Z",
     "iopub.status.idle": "2021-10-21T07:51:02.845117Z",
     "shell.execute_reply": "2021-10-21T07:51:02.844478Z",
     "shell.execute_reply.started": "2021-10-21T06:41:35.772245Z"
    },
    "papermill": {
     "duration": 2.564759,
     "end_time": "2021-10-21T07:51:02.845256",
     "exception": false,
     "start_time": "2021-10-21T07:51:00.280497",
     "status": "completed"
    },
    "tags": []
   },
   "outputs": [
    {
     "name": "stderr",
     "output_type": "stream",
     "text": [
      "2021-10-21 07:51:00.324447: I tensorflow/compiler/jit/xla_cpu_device.cc:41] Not creating XLA devices, tf_xla_enable_xla_devices not set\n",
      "2021-10-21 07:51:00.327520: I tensorflow/stream_executor/platform/default/dso_loader.cc:49] Successfully opened dynamic library libcuda.so.1\n",
      "2021-10-21 07:51:00.366762: I tensorflow/stream_executor/cuda/cuda_gpu_executor.cc:941] successful NUMA node read from SysFS had negative value (-1), but there must be at least one NUMA node, so returning NUMA node zero\n",
      "2021-10-21 07:51:00.367419: I tensorflow/core/common_runtime/gpu/gpu_device.cc:1720] Found device 0 with properties: \n",
      "pciBusID: 0000:00:04.0 name: Tesla P100-PCIE-16GB computeCapability: 6.0\n",
      "coreClock: 1.3285GHz coreCount: 56 deviceMemorySize: 15.90GiB deviceMemoryBandwidth: 681.88GiB/s\n",
      "2021-10-21 07:51:00.367483: I tensorflow/stream_executor/platform/default/dso_loader.cc:49] Successfully opened dynamic library libcudart.so.11.0\n",
      "2021-10-21 07:51:00.392777: I tensorflow/stream_executor/platform/default/dso_loader.cc:49] Successfully opened dynamic library libcublas.so.11\n",
      "2021-10-21 07:51:00.392870: I tensorflow/stream_executor/platform/default/dso_loader.cc:49] Successfully opened dynamic library libcublasLt.so.11\n",
      "2021-10-21 07:51:00.410019: I tensorflow/stream_executor/platform/default/dso_loader.cc:49] Successfully opened dynamic library libcufft.so.10\n",
      "2021-10-21 07:51:00.418614: I tensorflow/stream_executor/platform/default/dso_loader.cc:49] Successfully opened dynamic library libcurand.so.10\n",
      "2021-10-21 07:51:00.442030: I tensorflow/stream_executor/platform/default/dso_loader.cc:49] Successfully opened dynamic library libcusolver.so.10\n",
      "2021-10-21 07:51:00.451260: I tensorflow/stream_executor/platform/default/dso_loader.cc:49] Successfully opened dynamic library libcusparse.so.11\n",
      "2021-10-21 07:51:00.455582: I tensorflow/stream_executor/platform/default/dso_loader.cc:49] Successfully opened dynamic library libcudnn.so.8\n",
      "2021-10-21 07:51:00.455831: I tensorflow/stream_executor/cuda/cuda_gpu_executor.cc:941] successful NUMA node read from SysFS had negative value (-1), but there must be at least one NUMA node, so returning NUMA node zero\n",
      "2021-10-21 07:51:00.456616: I tensorflow/stream_executor/cuda/cuda_gpu_executor.cc:941] successful NUMA node read from SysFS had negative value (-1), but there must be at least one NUMA node, so returning NUMA node zero\n",
      "2021-10-21 07:51:00.458371: I tensorflow/core/common_runtime/gpu/gpu_device.cc:1862] Adding visible gpu devices: 0\n",
      "2021-10-21 07:51:00.458872: I tensorflow/core/platform/cpu_feature_guard.cc:142] This TensorFlow binary is optimized with oneAPI Deep Neural Network Library (oneDNN) to use the following CPU instructions in performance-critical operations:  AVX2 AVX512F FMA\n",
      "To enable them in other operations, rebuild TensorFlow with the appropriate compiler flags.\n",
      "2021-10-21 07:51:00.459171: I tensorflow/compiler/jit/xla_gpu_device.cc:99] Not creating XLA devices, tf_xla_enable_xla_devices not set\n",
      "2021-10-21 07:51:00.459358: I tensorflow/stream_executor/cuda/cuda_gpu_executor.cc:941] successful NUMA node read from SysFS had negative value (-1), but there must be at least one NUMA node, so returning NUMA node zero\n",
      "2021-10-21 07:51:00.460049: I tensorflow/core/common_runtime/gpu/gpu_device.cc:1720] Found device 0 with properties: \n",
      "pciBusID: 0000:00:04.0 name: Tesla P100-PCIE-16GB computeCapability: 6.0\n",
      "coreClock: 1.3285GHz coreCount: 56 deviceMemorySize: 15.90GiB deviceMemoryBandwidth: 681.88GiB/s\n",
      "2021-10-21 07:51:00.460107: I tensorflow/stream_executor/platform/default/dso_loader.cc:49] Successfully opened dynamic library libcudart.so.11.0\n",
      "2021-10-21 07:51:00.460142: I tensorflow/stream_executor/platform/default/dso_loader.cc:49] Successfully opened dynamic library libcublas.so.11\n",
      "2021-10-21 07:51:00.460166: I tensorflow/stream_executor/platform/default/dso_loader.cc:49] Successfully opened dynamic library libcublasLt.so.11\n",
      "2021-10-21 07:51:00.460189: I tensorflow/stream_executor/platform/default/dso_loader.cc:49] Successfully opened dynamic library libcufft.so.10\n",
      "2021-10-21 07:51:00.460212: I tensorflow/stream_executor/platform/default/dso_loader.cc:49] Successfully opened dynamic library libcurand.so.10\n",
      "2021-10-21 07:51:00.460235: I tensorflow/stream_executor/platform/default/dso_loader.cc:49] Successfully opened dynamic library libcusolver.so.10\n",
      "2021-10-21 07:51:00.460260: I tensorflow/stream_executor/platform/default/dso_loader.cc:49] Successfully opened dynamic library libcusparse.so.11\n",
      "2021-10-21 07:51:00.460296: I tensorflow/stream_executor/platform/default/dso_loader.cc:49] Successfully opened dynamic library libcudnn.so.8\n",
      "2021-10-21 07:51:00.460399: I tensorflow/stream_executor/cuda/cuda_gpu_executor.cc:941] successful NUMA node read from SysFS had negative value (-1), but there must be at least one NUMA node, so returning NUMA node zero\n",
      "2021-10-21 07:51:00.461032: I tensorflow/stream_executor/cuda/cuda_gpu_executor.cc:941] successful NUMA node read from SysFS had negative value (-1), but there must be at least one NUMA node, so returning NUMA node zero\n",
      "2021-10-21 07:51:00.461577: I tensorflow/core/common_runtime/gpu/gpu_device.cc:1862] Adding visible gpu devices: 0\n",
      "2021-10-21 07:51:00.462539: I tensorflow/stream_executor/platform/default/dso_loader.cc:49] Successfully opened dynamic library libcudart.so.11.0\n",
      "2021-10-21 07:51:01.884245: I tensorflow/core/common_runtime/gpu/gpu_device.cc:1261] Device interconnect StreamExecutor with strength 1 edge matrix:\n",
      "2021-10-21 07:51:01.884296: I tensorflow/core/common_runtime/gpu/gpu_device.cc:1267]      0 \n",
      "2021-10-21 07:51:01.884309: I tensorflow/core/common_runtime/gpu/gpu_device.cc:1280] 0:   N \n",
      "2021-10-21 07:51:01.887226: I tensorflow/stream_executor/cuda/cuda_gpu_executor.cc:941] successful NUMA node read from SysFS had negative value (-1), but there must be at least one NUMA node, so returning NUMA node zero\n",
      "2021-10-21 07:51:01.887978: I tensorflow/stream_executor/cuda/cuda_gpu_executor.cc:941] successful NUMA node read from SysFS had negative value (-1), but there must be at least one NUMA node, so returning NUMA node zero\n",
      "2021-10-21 07:51:01.888577: I tensorflow/stream_executor/cuda/cuda_gpu_executor.cc:941] successful NUMA node read from SysFS had negative value (-1), but there must be at least one NUMA node, so returning NUMA node zero\n",
      "2021-10-21 07:51:01.889148: I tensorflow/core/common_runtime/gpu/gpu_device.cc:1406] Created TensorFlow device (/job:localhost/replica:0/task:0/device:GPU:0 with 14957 MB memory) -> physical GPU (device: 0, name: Tesla P100-PCIE-16GB, pci bus id: 0000:00:04.0, compute capability: 6.0)\n"
     ]
    },
    {
     "name": "stdout",
     "output_type": "stream",
     "text": [
      "Downloading data from https://storage.googleapis.com/tensorflow/keras-applications/vgg16/vgg16_weights_tf_dim_ordering_tf_kernels_notop.h5\n",
      "58892288/58889256 [==============================] - 0s 0us/step\n"
     ]
    }
   ],
   "source": [
    "vgg_model = VGG16(include_top=False,\n",
    "    weights=\"imagenet\",\n",
    "    input_shape=img_size + [3])\n",
    "\n",
    "# Loading the VGG16 pre trained model\n",
    "\n",
    "# include_top - this specifies whether the final layer before the output layer has to be include \n",
    "# or not. If included then there will be 1000 number of classes at the output.\n",
    "\n",
    "# Weights are trained using imagenet"
   ]
  },
  {
   "cell_type": "code",
   "execution_count": 4,
   "id": "7759f6c0",
   "metadata": {
    "execution": {
     "iopub.execute_input": "2021-10-21T07:51:02.890457Z",
     "iopub.status.busy": "2021-10-21T07:51:02.882213Z",
     "iopub.status.idle": "2021-10-21T07:51:02.894517Z",
     "shell.execute_reply": "2021-10-21T07:51:02.894092Z",
     "shell.execute_reply.started": "2021-10-21T06:41:37.787656Z"
    },
    "papermill": {
     "duration": 0.03298,
     "end_time": "2021-10-21T07:51:02.894635",
     "exception": false,
     "start_time": "2021-10-21T07:51:02.861655",
     "status": "completed"
    },
    "tags": []
   },
   "outputs": [
    {
     "name": "stdout",
     "output_type": "stream",
     "text": [
      "Model: \"vgg16\"\n",
      "_________________________________________________________________\n",
      "Layer (type)                 Output Shape              Param #   \n",
      "=================================================================\n",
      "input_1 (InputLayer)         [(None, 227, 227, 3)]     0         \n",
      "_________________________________________________________________\n",
      "block1_conv1 (Conv2D)        (None, 227, 227, 64)      1792      \n",
      "_________________________________________________________________\n",
      "block1_conv2 (Conv2D)        (None, 227, 227, 64)      36928     \n",
      "_________________________________________________________________\n",
      "block1_pool (MaxPooling2D)   (None, 113, 113, 64)      0         \n",
      "_________________________________________________________________\n",
      "block2_conv1 (Conv2D)        (None, 113, 113, 128)     73856     \n",
      "_________________________________________________________________\n",
      "block2_conv2 (Conv2D)        (None, 113, 113, 128)     147584    \n",
      "_________________________________________________________________\n",
      "block2_pool (MaxPooling2D)   (None, 56, 56, 128)       0         \n",
      "_________________________________________________________________\n",
      "block3_conv1 (Conv2D)        (None, 56, 56, 256)       295168    \n",
      "_________________________________________________________________\n",
      "block3_conv2 (Conv2D)        (None, 56, 56, 256)       590080    \n",
      "_________________________________________________________________\n",
      "block3_conv3 (Conv2D)        (None, 56, 56, 256)       590080    \n",
      "_________________________________________________________________\n",
      "block3_pool (MaxPooling2D)   (None, 28, 28, 256)       0         \n",
      "_________________________________________________________________\n",
      "block4_conv1 (Conv2D)        (None, 28, 28, 512)       1180160   \n",
      "_________________________________________________________________\n",
      "block4_conv2 (Conv2D)        (None, 28, 28, 512)       2359808   \n",
      "_________________________________________________________________\n",
      "block4_conv3 (Conv2D)        (None, 28, 28, 512)       2359808   \n",
      "_________________________________________________________________\n",
      "block4_pool (MaxPooling2D)   (None, 14, 14, 512)       0         \n",
      "_________________________________________________________________\n",
      "block5_conv1 (Conv2D)        (None, 14, 14, 512)       2359808   \n",
      "_________________________________________________________________\n",
      "block5_conv2 (Conv2D)        (None, 14, 14, 512)       2359808   \n",
      "_________________________________________________________________\n",
      "block5_conv3 (Conv2D)        (None, 14, 14, 512)       2359808   \n",
      "_________________________________________________________________\n",
      "block5_pool (MaxPooling2D)   (None, 7, 7, 512)         0         \n",
      "=================================================================\n",
      "Total params: 14,714,688\n",
      "Trainable params: 14,714,688\n",
      "Non-trainable params: 0\n",
      "_________________________________________________________________\n"
     ]
    }
   ],
   "source": [
    "# To print the hidden layer summary of vgg model without top layer\n",
    "vgg_model.summary()"
   ]
  },
  {
   "cell_type": "code",
   "execution_count": 5,
   "id": "992177f2",
   "metadata": {
    "execution": {
     "iopub.execute_input": "2021-10-21T07:51:02.933927Z",
     "iopub.status.busy": "2021-10-21T07:51:02.933241Z",
     "iopub.status.idle": "2021-10-21T07:51:02.935604Z",
     "shell.execute_reply": "2021-10-21T07:51:02.936055Z",
     "shell.execute_reply.started": "2021-10-21T06:41:37.80354Z"
    },
    "papermill": {
     "duration": 0.024234,
     "end_time": "2021-10-21T07:51:02.936191",
     "exception": false,
     "start_time": "2021-10-21T07:51:02.911957",
     "status": "completed"
    },
    "tags": []
   },
   "outputs": [],
   "source": [
    "# To fix the weights of the pre trained model\n",
    "for lay in vgg_model.layers:\n",
    "    lay.trainable = False"
   ]
  },
  {
   "cell_type": "code",
   "execution_count": 6,
   "id": "ab337d54",
   "metadata": {
    "execution": {
     "iopub.execute_input": "2021-10-21T07:51:02.978547Z",
     "iopub.status.busy": "2021-10-21T07:51:02.975382Z",
     "iopub.status.idle": "2021-10-21T07:51:02.992027Z",
     "shell.execute_reply": "2021-10-21T07:51:02.992784Z",
     "shell.execute_reply.started": "2021-10-21T06:41:37.811103Z"
    },
    "papermill": {
     "duration": 0.038803,
     "end_time": "2021-10-21T07:51:02.992945",
     "exception": false,
     "start_time": "2021-10-21T07:51:02.954142",
     "status": "completed"
    },
    "tags": []
   },
   "outputs": [
    {
     "name": "stdout",
     "output_type": "stream",
     "text": [
      "Model: \"vgg16\"\n",
      "_________________________________________________________________\n",
      "Layer (type)                 Output Shape              Param #   \n",
      "=================================================================\n",
      "input_1 (InputLayer)         [(None, 227, 227, 3)]     0         \n",
      "_________________________________________________________________\n",
      "block1_conv1 (Conv2D)        (None, 227, 227, 64)      1792      \n",
      "_________________________________________________________________\n",
      "block1_conv2 (Conv2D)        (None, 227, 227, 64)      36928     \n",
      "_________________________________________________________________\n",
      "block1_pool (MaxPooling2D)   (None, 113, 113, 64)      0         \n",
      "_________________________________________________________________\n",
      "block2_conv1 (Conv2D)        (None, 113, 113, 128)     73856     \n",
      "_________________________________________________________________\n",
      "block2_conv2 (Conv2D)        (None, 113, 113, 128)     147584    \n",
      "_________________________________________________________________\n",
      "block2_pool (MaxPooling2D)   (None, 56, 56, 128)       0         \n",
      "_________________________________________________________________\n",
      "block3_conv1 (Conv2D)        (None, 56, 56, 256)       295168    \n",
      "_________________________________________________________________\n",
      "block3_conv2 (Conv2D)        (None, 56, 56, 256)       590080    \n",
      "_________________________________________________________________\n",
      "block3_conv3 (Conv2D)        (None, 56, 56, 256)       590080    \n",
      "_________________________________________________________________\n",
      "block3_pool (MaxPooling2D)   (None, 28, 28, 256)       0         \n",
      "_________________________________________________________________\n",
      "block4_conv1 (Conv2D)        (None, 28, 28, 512)       1180160   \n",
      "_________________________________________________________________\n",
      "block4_conv2 (Conv2D)        (None, 28, 28, 512)       2359808   \n",
      "_________________________________________________________________\n",
      "block4_conv3 (Conv2D)        (None, 28, 28, 512)       2359808   \n",
      "_________________________________________________________________\n",
      "block4_pool (MaxPooling2D)   (None, 14, 14, 512)       0         \n",
      "_________________________________________________________________\n",
      "block5_conv1 (Conv2D)        (None, 14, 14, 512)       2359808   \n",
      "_________________________________________________________________\n",
      "block5_conv2 (Conv2D)        (None, 14, 14, 512)       2359808   \n",
      "_________________________________________________________________\n",
      "block5_conv3 (Conv2D)        (None, 14, 14, 512)       2359808   \n",
      "_________________________________________________________________\n",
      "block5_pool (MaxPooling2D)   (None, 7, 7, 512)         0         \n",
      "=================================================================\n",
      "Total params: 14,714,688\n",
      "Trainable params: 0\n",
      "Non-trainable params: 14,714,688\n",
      "_________________________________________________________________\n"
     ]
    }
   ],
   "source": [
    "vgg_model.summary()"
   ]
  },
  {
   "cell_type": "code",
   "execution_count": 7,
   "id": "ad00cde0",
   "metadata": {
    "execution": {
     "iopub.execute_input": "2021-10-21T07:51:03.036114Z",
     "iopub.status.busy": "2021-10-21T07:51:03.035477Z",
     "iopub.status.idle": "2021-10-21T07:51:03.071903Z",
     "shell.execute_reply": "2021-10-21T07:51:03.072340Z",
     "shell.execute_reply.started": "2021-10-21T06:41:37.83049Z"
    },
    "papermill": {
     "duration": 0.061341,
     "end_time": "2021-10-21T07:51:03.072526",
     "exception": false,
     "start_time": "2021-10-21T07:51:03.011185",
     "status": "completed"
    },
    "tags": []
   },
   "outputs": [
    {
     "name": "stdout",
     "output_type": "stream",
     "text": [
      "2\n",
      "2\n"
     ]
    }
   ],
   "source": [
    "# to list out number of folders in train and test folder\n",
    "import os\n",
    "folders_train1 = os.listdir(main_train)\n",
    "print(len(folders_train1))\n",
    "\n",
    "folders_test1 = os.listdir(main_test)\n",
    "print(len(folders_test1))"
   ]
  },
  {
   "cell_type": "code",
   "execution_count": 8,
   "id": "5c4187e0",
   "metadata": {
    "execution": {
     "iopub.execute_input": "2021-10-21T07:51:03.118542Z",
     "iopub.status.busy": "2021-10-21T07:51:03.117887Z",
     "iopub.status.idle": "2021-10-21T07:51:03.121143Z",
     "shell.execute_reply": "2021-10-21T07:51:03.121565Z",
     "shell.execute_reply.started": "2021-10-21T06:41:37.845891Z"
    },
    "papermill": {
     "duration": 0.029669,
     "end_time": "2021-10-21T07:51:03.121723",
     "exception": false,
     "start_time": "2021-10-21T07:51:03.092054",
     "status": "completed"
    },
    "tags": []
   },
   "outputs": [
    {
     "data": {
      "text/plain": [
       "<KerasTensor: shape=(None, 7, 7, 512) dtype=float32 (created by layer 'block5_pool')>"
      ]
     },
     "execution_count": 8,
     "metadata": {},
     "output_type": "execute_result"
    }
   ],
   "source": [
    "#outputs the last layer\n",
    "vgg_model.output"
   ]
  },
  {
   "cell_type": "code",
   "execution_count": 9,
   "id": "1183a459",
   "metadata": {
    "execution": {
     "iopub.execute_input": "2021-10-21T07:51:03.169683Z",
     "iopub.status.busy": "2021-10-21T07:51:03.168104Z",
     "iopub.status.idle": "2021-10-21T07:51:03.171847Z",
     "shell.execute_reply": "2021-10-21T07:51:03.171355Z",
     "shell.execute_reply.started": "2021-10-21T06:41:37.854125Z"
    },
    "papermill": {
     "duration": 0.030912,
     "end_time": "2021-10-21T07:51:03.171970",
     "exception": false,
     "start_time": "2021-10-21T07:51:03.141058",
     "status": "completed"
    },
    "tags": []
   },
   "outputs": [
    {
     "data": {
      "text/plain": [
       "<KerasTensor: shape=(None, 227, 227, 3) dtype=float32 (created by layer 'input_1')>"
      ]
     },
     "execution_count": 9,
     "metadata": {},
     "output_type": "execute_result"
    }
   ],
   "source": [
    "#inputs of the layer\n",
    "vgg_model.input"
   ]
  },
  {
   "cell_type": "code",
   "execution_count": 10,
   "id": "f445332d",
   "metadata": {
    "execution": {
     "iopub.execute_input": "2021-10-21T07:51:03.217330Z",
     "iopub.status.busy": "2021-10-21T07:51:03.216486Z",
     "iopub.status.idle": "2021-10-21T07:51:03.244625Z",
     "shell.execute_reply": "2021-10-21T07:51:03.243590Z",
     "shell.execute_reply.started": "2021-10-21T06:41:37.862411Z"
    },
    "papermill": {
     "duration": 0.053097,
     "end_time": "2021-10-21T07:51:03.244779",
     "exception": false,
     "start_time": "2021-10-21T07:51:03.191682",
     "status": "completed"
    },
    "tags": []
   },
   "outputs": [
    {
     "name": "stdout",
     "output_type": "stream",
     "text": [
      "Model: \"model\"\n",
      "_________________________________________________________________\n",
      "Layer (type)                 Output Shape              Param #   \n",
      "=================================================================\n",
      "input_1 (InputLayer)         [(None, 227, 227, 3)]     0         \n",
      "_________________________________________________________________\n",
      "block1_conv1 (Conv2D)        (None, 227, 227, 64)      1792      \n",
      "_________________________________________________________________\n",
      "block1_conv2 (Conv2D)        (None, 227, 227, 64)      36928     \n",
      "_________________________________________________________________\n",
      "block1_pool (MaxPooling2D)   (None, 113, 113, 64)      0         \n",
      "_________________________________________________________________\n",
      "block2_conv1 (Conv2D)        (None, 113, 113, 128)     73856     \n",
      "_________________________________________________________________\n",
      "block2_conv2 (Conv2D)        (None, 113, 113, 128)     147584    \n",
      "_________________________________________________________________\n",
      "block2_pool (MaxPooling2D)   (None, 56, 56, 128)       0         \n",
      "_________________________________________________________________\n",
      "block3_conv1 (Conv2D)        (None, 56, 56, 256)       295168    \n",
      "_________________________________________________________________\n",
      "block3_conv2 (Conv2D)        (None, 56, 56, 256)       590080    \n",
      "_________________________________________________________________\n",
      "block3_conv3 (Conv2D)        (None, 56, 56, 256)       590080    \n",
      "_________________________________________________________________\n",
      "block3_pool (MaxPooling2D)   (None, 28, 28, 256)       0         \n",
      "_________________________________________________________________\n",
      "block4_conv1 (Conv2D)        (None, 28, 28, 512)       1180160   \n",
      "_________________________________________________________________\n",
      "block4_conv2 (Conv2D)        (None, 28, 28, 512)       2359808   \n",
      "_________________________________________________________________\n",
      "block4_conv3 (Conv2D)        (None, 28, 28, 512)       2359808   \n",
      "_________________________________________________________________\n",
      "block4_pool (MaxPooling2D)   (None, 14, 14, 512)       0         \n",
      "_________________________________________________________________\n",
      "block5_conv1 (Conv2D)        (None, 14, 14, 512)       2359808   \n",
      "_________________________________________________________________\n",
      "block5_conv2 (Conv2D)        (None, 14, 14, 512)       2359808   \n",
      "_________________________________________________________________\n",
      "block5_conv3 (Conv2D)        (None, 14, 14, 512)       2359808   \n",
      "_________________________________________________________________\n",
      "block5_pool (MaxPooling2D)   (None, 7, 7, 512)         0         \n",
      "_________________________________________________________________\n",
      "first_flatten (Flatten)      (None, 25088)             0         \n",
      "_________________________________________________________________\n",
      "dense (Dense)                (None, 2)                 50178     \n",
      "=================================================================\n",
      "Total params: 14,764,866\n",
      "Trainable params: 50,178\n",
      "Non-trainable params: 14,714,688\n",
      "_________________________________________________________________\n"
     ]
    }
   ],
   "source": [
    "# Flatten() is used to convert the last layer to vector or as fully connected\n",
    "x = Flatten(name=\"first_flatten\")(vgg_model.output)\n",
    "# Dense() layer is added such that it outputs only two classess \n",
    "# Softmax activation layer produces probabilities for different classess.\n",
    "pred = Dense(2,activation='softmax')(x)\n",
    "# Model() is used to group layers\n",
    "model = Model(inputs=vgg_model.input,outputs=pred)\n",
    "model.summary()"
   ]
  },
  {
   "cell_type": "markdown",
   "id": "9e100964",
   "metadata": {
    "papermill": {
     "duration": 0.019284,
     "end_time": "2021-10-21T07:51:03.284399",
     "exception": false,
     "start_time": "2021-10-21T07:51:03.265115",
     "status": "completed"
    },
    "tags": []
   },
   "source": [
    "# **Image Augmentation**"
   ]
  },
  {
   "cell_type": "code",
   "execution_count": 11,
   "id": "4985950f",
   "metadata": {
    "execution": {
     "iopub.execute_input": "2021-10-21T07:51:03.330648Z",
     "iopub.status.busy": "2021-10-21T07:51:03.329771Z",
     "iopub.status.idle": "2021-10-21T07:51:23.185483Z",
     "shell.execute_reply": "2021-10-21T07:51:23.185874Z",
     "shell.execute_reply.started": "2021-10-21T06:41:47.866131Z"
    },
    "papermill": {
     "duration": 19.881932,
     "end_time": "2021-10-21T07:51:23.186030",
     "exception": false,
     "start_time": "2021-10-21T07:51:03.304098",
     "status": "completed"
    },
    "tags": []
   },
   "outputs": [
    {
     "name": "stdout",
     "output_type": "stream",
     "text": [
      "Found 32042 images belonging to 2 classes.\n",
      "Found 7958 images belonging to 2 classes.\n"
     ]
    }
   ],
   "source": [
    "#ImageDataGenerator is used to modify the train and test images w.r.t the properties mentioned\n",
    "train_datagen = ImageDataGenerator(rescale = 1/255.0,\n",
    "                                   shear_range = 0.2,\n",
    "                                   zoom_range = 0.2,\n",
    "                                   horizontal_flip = True)\n",
    "\n",
    "test_datagen = ImageDataGenerator(rescale = 1/255.0)\n",
    "\n",
    "# flow_from_directory() is used to convert all the images in the specific directory\n",
    "training_set = train_datagen.flow_from_directory(directory = main_train,\n",
    "                                                 target_size = (227,227),\n",
    "                                                 batch_size = 500,\n",
    "                                                 )\n",
    "\n",
    "test_set = test_datagen.flow_from_directory(directory = main_test,\n",
    "                                                 target_size = (227,227),\n",
    "                                                 batch_size = 500,\n",
    "                                                 )"
   ]
  },
  {
   "cell_type": "code",
   "execution_count": 12,
   "id": "136fac4d",
   "metadata": {
    "execution": {
     "iopub.execute_input": "2021-10-21T07:51:23.228129Z",
     "iopub.status.busy": "2021-10-21T07:51:23.227340Z",
     "iopub.status.idle": "2021-10-21T07:51:23.230491Z",
     "shell.execute_reply": "2021-10-21T07:51:23.230953Z",
     "shell.execute_reply.started": "2021-10-21T06:43:04.558717Z"
    },
    "papermill": {
     "duration": 0.026491,
     "end_time": "2021-10-21T07:51:23.231097",
     "exception": false,
     "start_time": "2021-10-21T07:51:23.204606",
     "status": "completed"
    },
    "tags": []
   },
   "outputs": [
    {
     "data": {
      "text/plain": [
       "{'Negative': 0, 'Positive': 1}"
      ]
     },
     "execution_count": 12,
     "metadata": {},
     "output_type": "execute_result"
    }
   ],
   "source": [
    "# Class_indices will display the respective class value\n",
    "training_set.class_indices"
   ]
  },
  {
   "cell_type": "code",
   "execution_count": 13,
   "id": "d28902b9",
   "metadata": {
    "execution": {
     "iopub.execute_input": "2021-10-21T07:51:23.273554Z",
     "iopub.status.busy": "2021-10-21T07:51:23.272885Z",
     "iopub.status.idle": "2021-10-21T07:51:23.275647Z",
     "shell.execute_reply": "2021-10-21T07:51:23.276073Z",
     "shell.execute_reply.started": "2021-10-21T07:05:02.833791Z"
    },
    "papermill": {
     "duration": 0.026028,
     "end_time": "2021-10-21T07:51:23.276201",
     "exception": false,
     "start_time": "2021-10-21T07:51:23.250173",
     "status": "completed"
    },
    "tags": []
   },
   "outputs": [
    {
     "name": "stdout",
     "output_type": "stream",
     "text": [
      "65\n",
      "16\n"
     ]
    }
   ],
   "source": [
    "print(len(training_set))\n",
    "print(len(test_set))"
   ]
  },
  {
   "cell_type": "markdown",
   "id": "fef0a844",
   "metadata": {
    "papermill": {
     "duration": 0.018786,
     "end_time": "2021-10-21T07:51:23.313959",
     "exception": false,
     "start_time": "2021-10-21T07:51:23.295173",
     "status": "completed"
    },
    "tags": []
   },
   "source": [
    "# **Model Fit**"
   ]
  },
  {
   "cell_type": "code",
   "execution_count": 14,
   "id": "801d2075",
   "metadata": {
    "execution": {
     "iopub.execute_input": "2021-10-21T07:51:23.364644Z",
     "iopub.status.busy": "2021-10-21T07:51:23.363852Z",
     "iopub.status.idle": "2021-10-21T07:51:23.372520Z",
     "shell.execute_reply": "2021-10-21T07:51:23.371895Z",
     "shell.execute_reply.started": "2021-10-21T06:53:19.361249Z"
    },
    "papermill": {
     "duration": 0.039826,
     "end_time": "2021-10-21T07:51:23.372649",
     "exception": false,
     "start_time": "2021-10-21T07:51:23.332823",
     "status": "completed"
    },
    "tags": []
   },
   "outputs": [],
   "source": [
    "# Loss function is used to find the errors or deviations in learning process\n",
    "# Optimizer is used to optimize the input weights\n",
    "# Metrics is used to measure the performance\n",
    "model.compile(optimizer=\"adam\",\n",
    "    loss=\"binary_crossentropy\",\n",
    "    metrics=['accuracy'])"
   ]
  },
  {
   "cell_type": "code",
   "execution_count": 15,
   "id": "29e4ff47",
   "metadata": {
    "execution": {
     "iopub.execute_input": "2021-10-21T07:51:23.415308Z",
     "iopub.status.busy": "2021-10-21T07:51:23.414706Z",
     "iopub.status.idle": "2021-10-21T08:08:48.996842Z",
     "shell.execute_reply": "2021-10-21T08:08:48.997376Z",
     "shell.execute_reply.started": "2021-10-21T07:07:29.008086Z"
    },
    "papermill": {
     "duration": 1045.606045,
     "end_time": "2021-10-21T08:08:48.997535",
     "exception": false,
     "start_time": "2021-10-21T07:51:23.391490",
     "status": "completed"
    },
    "tags": []
   },
   "outputs": [
    {
     "name": "stderr",
     "output_type": "stream",
     "text": [
      "2021-10-21 07:51:30.064965: I tensorflow/compiler/mlir/mlir_graph_optimization_pass.cc:116] None of the MLIR optimization passes are enabled (registered 2)\n",
      "2021-10-21 07:51:30.069105: I tensorflow/core/platform/profile_utils/cpu_utils.cc:112] CPU Frequency: 2000194999 Hz\n"
     ]
    },
    {
     "name": "stdout",
     "output_type": "stream",
     "text": [
      "Epoch 1/2\n"
     ]
    },
    {
     "name": "stderr",
     "output_type": "stream",
     "text": [
      "2021-10-21 07:51:30.721225: I tensorflow/stream_executor/platform/default/dso_loader.cc:49] Successfully opened dynamic library libcublas.so.11\n",
      "2021-10-21 07:51:31.634546: I tensorflow/stream_executor/platform/default/dso_loader.cc:49] Successfully opened dynamic library libcublasLt.so.11\n",
      "2021-10-21 07:51:37.978309: I tensorflow/stream_executor/platform/default/dso_loader.cc:49] Successfully opened dynamic library libcudnn.so.8\n",
      "2021-10-21 07:51:43.225052: W tensorflow/core/kernels/gpu_utils.cc:49] Failed to allocate memory for convolution redzone checking; skipping this check. This is benign and only means that we won't check cudnn for out-of-bounds reads and writes. This message will only be printed once.\n"
     ]
    },
    {
     "name": "stdout",
     "output_type": "stream",
     "text": [
      "65/65 [==============================] - 612s 9s/step - loss: 0.2733 - accuracy: 0.8761 - val_loss: 0.0375 - val_accuracy: 0.9912\n",
      "Epoch 2/2\n",
      "65/65 [==============================] - 427s 7s/step - loss: 0.0384 - accuracy: 0.9908 - val_loss: 0.0261 - val_accuracy: 0.9937\n"
     ]
    }
   ],
   "source": [
    "# fit() is used to train the model \n",
    "# len(training_set) is 32042/500 = 65\n",
    "# len(test_set) is 7958/500 = 16\n",
    "mod = model.fit(\n",
    "  training_set,\n",
    "  validation_data=test_set,\n",
    "  epochs=2,\n",
    "  steps_per_epoch=len(training_set),\n",
    "  validation_steps=len(test_set)\n",
    ")"
   ]
  },
  {
   "cell_type": "code",
   "execution_count": 16,
   "id": "30c91bc3",
   "metadata": {
    "execution": {
     "iopub.execute_input": "2021-10-21T08:08:49.116943Z",
     "iopub.status.busy": "2021-10-21T08:08:49.116066Z",
     "iopub.status.idle": "2021-10-21T08:08:49.230283Z",
     "shell.execute_reply": "2021-10-21T08:08:49.229781Z",
     "shell.execute_reply.started": "2021-10-21T07:28:02.63862Z"
    },
    "papermill": {
     "duration": 0.178627,
     "end_time": "2021-10-21T08:08:49.230403",
     "exception": false,
     "start_time": "2021-10-21T08:08:49.051776",
     "status": "completed"
    },
    "tags": []
   },
   "outputs": [],
   "source": [
    "# To save the particular model in .h5 format\n",
    "import tensorflow as tf\n",
    "from tensorflow.keras.models import load_model\n",
    "model.save('vggmodelfinal.h5') "
   ]
  },
  {
   "cell_type": "code",
   "execution_count": 17,
   "id": "c92dd7b7",
   "metadata": {
    "execution": {
     "iopub.execute_input": "2021-10-21T08:08:49.378646Z",
     "iopub.status.busy": "2021-10-21T08:08:49.360716Z",
     "iopub.status.idle": "2021-10-21T08:08:49.656092Z",
     "shell.execute_reply": "2021-10-21T08:08:49.656493Z",
     "shell.execute_reply.started": "2021-10-21T07:30:57.509956Z"
    },
    "papermill": {
     "duration": 0.371845,
     "end_time": "2021-10-21T08:08:49.656704",
     "exception": false,
     "start_time": "2021-10-21T08:08:49.284859",
     "status": "completed"
    },
    "tags": []
   },
   "outputs": [
    {
     "data": {
      "image/png": "[encoded data removed]",
      "text/plain": [
       "<Figure size 432x288 with 1 Axes>"
      ]
     },
     "metadata": {},
     "output_type": "display_data"
    }
   ],
   "source": [
    "from matplotlib import pyplot as plt\n",
    "N = 2\n",
    "plt.style.use(\"ggplot\")\n",
    "plt.figure()\n",
    "plt.plot(np.arange(0, N), mod.history[\"loss\"], label=\"train_loss\")\n",
    "plt.plot(np.arange(0, N), mod.history[\"val_loss\"], label=\"val_loss\")\n",
    "plt.plot(np.arange(0, N), mod.history[\"accuracy\"], label=\"train_acc\")\n",
    "plt.plot(np.arange(0, N), mod.history[\"val_accuracy\"], label=\"val_acc\")\n",
    "plt.title(\"Training Loss and Accuracy\")\n",
    "plt.xlabel(\"Epoch #\")\n",
    "plt.ylabel(\"Loss/Accuracy\")\n",
    "plt.legend(loc=\"lower left\")\n",
    "plt.savefig('grp.png')"
   ]
  },
  {
   "cell_type": "code",
   "execution_count": null,
   "id": "f9ea43d5",
   "metadata": {
    "papermill": {
     "duration": 0.056021,
     "end_time": "2021-10-21T08:08:49.769333",
     "exception": false,
     "start_time": "2021-10-21T08:08:49.713312",
     "status": "completed"
    },
    "tags": []
   },
   "outputs": [],
   "source": []
  }
 ],
 "metadata": {
  "kernelspec": {
   "display_name": "Python 3",
   "language": "python",
   "name": "python3"
  },
  "language_info": {
   "codemirror_mode": {
    "name": "ipython",
    "version": 3
   },
   "file_extension": ".py",
   "mimetype": "text/x-python",
   "name": "python",
   "nbconvert_exporter": "python",
   "pygments_lexer": "ipython3",
   "version": "3.7.10"
  },
  "papermill": {
   "default_parameters": {},
   "duration": 1083.907596,
   "end_time": "2021-10-21T08:08:52.890901",
   "environment_variables": {},
   "exception": null,
   "input_path": "__notebook__.ipynb",
   "output_path": "__notebook__.ipynb",
   "parameters": {},
   "start_time": "2021-10-21T07:50:48.983305",
   "version": "2.3.3"
  }
 },
 "nbformat": 4,
 "nbformat_minor": 5
}
