{
 "cells": [
  {
   "cell_type": "code",
   "execution_count": 1,
   "id": "51dddddb",
   "metadata": {
    "execution": {
     "iopub.execute_input": "2021-12-07T03:58:17.704954Z",
     "iopub.status.busy": "2021-12-07T03:58:17.703473Z",
     "iopub.status.idle": "2021-12-07T03:58:17.713262Z",
     "shell.execute_reply": "2021-12-07T03:58:17.713741Z",
     "shell.execute_reply.started": "2021-12-07T03:51:03.35878Z"
    },
    "papermill": {
     "duration": 0.028226,
     "end_time": "2021-12-07T03:58:17.713981",
     "exception": false,
     "start_time": "2021-12-07T03:58:17.685755",
     "status": "completed"
    },
    "tags": []
   },
   "outputs": [],
   "source": [
    "img_size = [227,227] #List which stores the resolution\n",
    "main_train = '../input/mit-split-crack/25/Train' #Stores the path of the train directory\n",
    "main_test = '../input/mit-split-crack/25/Test' #Stores the path of the test directory"
   ]
  },
  {
   "cell_type": "markdown",
   "id": "e429d67f",
   "metadata": {
    "papermill": {
     "duration": 0.013001,
     "end_time": "2021-12-07T03:58:17.741386",
     "exception": false,
     "start_time": "2021-12-07T03:58:17.728385",
     "status": "completed"
    },
    "tags": []
   },
   "source": [
    "#   Import Statements"
   ]
  },
  {
   "cell_type": "code",
   "execution_count": 2,
   "id": "6e21e9af",
   "metadata": {
    "execution": {
     "iopub.execute_input": "2021-12-07T03:58:17.771577Z",
     "iopub.status.busy": "2021-12-07T03:58:17.771016Z",
     "iopub.status.idle": "2021-12-07T03:58:22.888032Z",
     "shell.execute_reply": "2021-12-07T03:58:22.887489Z",
     "shell.execute_reply.started": "2021-12-07T03:53:41.550431Z"
    },
    "papermill": {
     "duration": 5.134073,
     "end_time": "2021-12-07T03:58:22.888162",
     "exception": false,
     "start_time": "2021-12-07T03:58:17.754089",
     "status": "completed"
    },
    "tags": []
   },
   "outputs": [],
   "source": [
    "from tensorflow.keras.layers import Input,Dense,Flatten,Dropout\n",
    "from tensorflow.keras.models import Model,Sequential\n",
    "from tensorflow.keras.applications.vgg16 import VGG16,preprocess_input\n",
    "from matplotlib import pyplot as plt\n",
    "import numpy as np\n",
    "from tensorflow.keras.preprocessing import image\n",
    "from tensorflow.keras.optimizers import Adam\n",
    "from tensorflow.keras.preprocessing.image import ImageDataGenerator"
   ]
  },
  {
   "cell_type": "markdown",
   "id": "c9e0a8b1",
   "metadata": {
    "papermill": {
     "duration": 0.012959,
     "end_time": "2021-12-07T03:58:22.914344",
     "exception": false,
     "start_time": "2021-12-07T03:58:22.901385",
     "status": "completed"
    },
    "tags": []
   },
   "source": [
    "# VGG16 Model Building"
   ]
  },
  {
   "cell_type": "code",
   "execution_count": 3,
   "id": "bdb1ef64",
   "metadata": {
    "execution": {
     "iopub.execute_input": "2021-12-07T03:58:22.945523Z",
     "iopub.status.busy": "2021-12-07T03:58:22.944924Z",
     "iopub.status.idle": "2021-12-07T03:58:26.823866Z",
     "shell.execute_reply": "2021-12-07T03:58:26.822910Z",
     "shell.execute_reply.started": "2021-12-07T03:53:45.25118Z"
    },
    "papermill": {
     "duration": 3.897149,
     "end_time": "2021-12-07T03:58:26.824012",
     "exception": false,
     "start_time": "2021-12-07T03:58:22.926863",
     "status": "completed"
    },
    "tags": []
   },
   "outputs": [
    {
     "name": "stderr",
     "output_type": "stream",
     "text": [
      "2021-12-07 03:58:23.028371: I tensorflow/stream_executor/cuda/cuda_gpu_executor.cc:937] successful NUMA node read from SysFS had negative value (-1), but there must be at least one NUMA node, so returning NUMA node zero\n",
      "2021-12-07 03:58:23.125094: I tensorflow/stream_executor/cuda/cuda_gpu_executor.cc:937] successful NUMA node read from SysFS had negative value (-1), but there must be at least one NUMA node, so returning NUMA node zero\n",
      "2021-12-07 03:58:23.125811: I tensorflow/stream_executor/cuda/cuda_gpu_executor.cc:937] successful NUMA node read from SysFS had negative value (-1), but there must be at least one NUMA node, so returning NUMA node zero\n",
      "2021-12-07 03:58:23.127040: I tensorflow/core/platform/cpu_feature_guard.cc:142] This TensorFlow binary is optimized with oneAPI Deep Neural Network Library (oneDNN) to use the following CPU instructions in performance-critical operations:  AVX2 AVX512F FMA\n",
      "To enable them in other operations, rebuild TensorFlow with the appropriate compiler flags.\n",
      "2021-12-07 03:58:23.128338: I tensorflow/stream_executor/cuda/cuda_gpu_executor.cc:937] successful NUMA node read from SysFS had negative value (-1), but there must be at least one NUMA node, so returning NUMA node zero\n",
      "2021-12-07 03:58:23.129055: I tensorflow/stream_executor/cuda/cuda_gpu_executor.cc:937] successful NUMA node read from SysFS had negative value (-1), but there must be at least one NUMA node, so returning NUMA node zero\n",
      "2021-12-07 03:58:23.129657: I tensorflow/stream_executor/cuda/cuda_gpu_executor.cc:937] successful NUMA node read from SysFS had negative value (-1), but there must be at least one NUMA node, so returning NUMA node zero\n",
      "2021-12-07 03:58:25.029198: I tensorflow/stream_executor/cuda/cuda_gpu_executor.cc:937] successful NUMA node read from SysFS had negative value (-1), but there must be at least one NUMA node, so returning NUMA node zero\n",
      "2021-12-07 03:58:25.029988: I tensorflow/stream_executor/cuda/cuda_gpu_executor.cc:937] successful NUMA node read from SysFS had negative value (-1), but there must be at least one NUMA node, so returning NUMA node zero\n",
      "2021-12-07 03:58:25.030624: I tensorflow/stream_executor/cuda/cuda_gpu_executor.cc:937] successful NUMA node read from SysFS had negative value (-1), but there must be at least one NUMA node, so returning NUMA node zero\n",
      "2021-12-07 03:58:25.031212: I tensorflow/core/common_runtime/gpu/gpu_device.cc:1510] Created device /job:localhost/replica:0/task:0/device:GPU:0 with 15403 MB memory:  -> device: 0, name: Tesla P100-PCIE-16GB, pci bus id: 0000:00:04.0, compute capability: 6.0\n"
     ]
    },
    {
     "name": "stdout",
     "output_type": "stream",
     "text": [
      "Downloading data from https://storage.googleapis.com/tensorflow/keras-applications/vgg16/vgg16_weights_tf_dim_ordering_tf_kernels_notop.h5\n",
      "58892288/58889256 [==============================] - 1s 0us/step\n",
      "58900480/58889256 [==============================] - 1s 0us/step\n"
     ]
    }
   ],
   "source": [
    "vgg_model = VGG16(include_top=False,\n",
    "    weights=\"imagenet\",\n",
    "    input_shape=img_size + [3])\n",
    "\n",
    "# Loading the VGG16 pre trained model\n",
    "\n",
    "# include_top - this specifies whether the final layer before the output layer has to be include \n",
    "# or not. If included then there will be 1000 number of classes at the output.\n",
    "\n",
    "# Weights are trained using imagenet"
   ]
  },
  {
   "cell_type": "code",
   "execution_count": 4,
   "id": "8b6d4ba0",
   "metadata": {
    "execution": {
     "iopub.execute_input": "2021-12-07T03:58:26.867143Z",
     "iopub.status.busy": "2021-12-07T03:58:26.866318Z",
     "iopub.status.idle": "2021-12-07T03:58:26.874929Z",
     "shell.execute_reply": "2021-12-07T03:58:26.874472Z",
     "shell.execute_reply.started": "2021-12-07T03:43:47.148806Z"
    },
    "papermill": {
     "duration": 0.034316,
     "end_time": "2021-12-07T03:58:26.875051",
     "exception": false,
     "start_time": "2021-12-07T03:58:26.840735",
     "status": "completed"
    },
    "tags": []
   },
   "outputs": [
    {
     "name": "stdout",
     "output_type": "stream",
     "text": [
      "Model: \"vgg16\"\n",
      "_________________________________________________________________\n",
      "Layer (type)                 Output Shape              Param #   \n",
      "=================================================================\n",
      "input_1 (InputLayer)         [(None, 227, 227, 3)]     0         \n",
      "_________________________________________________________________\n",
      "block1_conv1 (Conv2D)        (None, 227, 227, 64)      1792      \n",
      "_________________________________________________________________\n",
      "block1_conv2 (Conv2D)        (None, 227, 227, 64)      36928     \n",
      "_________________________________________________________________\n",
      "block1_pool (MaxPooling2D)   (None, 113, 113, 64)      0         \n",
      "_________________________________________________________________\n",
      "block2_conv1 (Conv2D)        (None, 113, 113, 128)     73856     \n",
      "_________________________________________________________________\n",
      "block2_conv2 (Conv2D)        (None, 113, 113, 128)     147584    \n",
      "_________________________________________________________________\n",
      "block2_pool (MaxPooling2D)   (None, 56, 56, 128)       0         \n",
      "_________________________________________________________________\n",
      "block3_conv1 (Conv2D)        (None, 56, 56, 256)       295168    \n",
      "_________________________________________________________________\n",
      "block3_conv2 (Conv2D)        (None, 56, 56, 256)       590080    \n",
      "_________________________________________________________________\n",
      "block3_conv3 (Conv2D)        (None, 56, 56, 256)       590080    \n",
      "_________________________________________________________________\n",
      "block3_pool (MaxPooling2D)   (None, 28, 28, 256)       0         \n",
      "_________________________________________________________________\n",
      "block4_conv1 (Conv2D)        (None, 28, 28, 512)       1180160   \n",
      "_________________________________________________________________\n",
      "block4_conv2 (Conv2D)        (None, 28, 28, 512)       2359808   \n",
      "_________________________________________________________________\n",
      "block4_conv3 (Conv2D)        (None, 28, 28, 512)       2359808   \n",
      "_________________________________________________________________\n",
      "block4_pool (MaxPooling2D)   (None, 14, 14, 512)       0         \n",
      "_________________________________________________________________\n",
      "block5_conv1 (Conv2D)        (None, 14, 14, 512)       2359808   \n",
      "_________________________________________________________________\n",
      "block5_conv2 (Conv2D)        (None, 14, 14, 512)       2359808   \n",
      "_________________________________________________________________\n",
      "block5_conv3 (Conv2D)        (None, 14, 14, 512)       2359808   \n",
      "_________________________________________________________________\n",
      "block5_pool (MaxPooling2D)   (None, 7, 7, 512)         0         \n",
      "=================================================================\n",
      "Total params: 14,714,688\n",
      "Trainable params: 14,714,688\n",
      "Non-trainable params: 0\n",
      "_________________________________________________________________\n"
     ]
    }
   ],
   "source": [
    "# To print the hidden layer summary of vgg model without top layer\n",
    "vgg_model.summary()"
   ]
  },
  {
   "cell_type": "code",
   "execution_count": 5,
   "id": "03e78e7d",
   "metadata": {
    "execution": {
     "iopub.execute_input": "2021-12-07T03:58:26.912926Z",
     "iopub.status.busy": "2021-12-07T03:58:26.912189Z",
     "iopub.status.idle": "2021-12-07T03:58:26.914193Z",
     "shell.execute_reply": "2021-12-07T03:58:26.914562Z",
     "shell.execute_reply.started": "2021-12-07T03:43:47.151425Z"
    },
    "papermill": {
     "duration": 0.02274,
     "end_time": "2021-12-07T03:58:26.914709",
     "exception": false,
     "start_time": "2021-12-07T03:58:26.891969",
     "status": "completed"
    },
    "tags": []
   },
   "outputs": [],
   "source": [
    "# To fix the weights of the pre trained model\n",
    "for lay in vgg_model.layers:\n",
    "    lay.trainable = False"
   ]
  },
  {
   "cell_type": "code",
   "execution_count": 6,
   "id": "3aa82142",
   "metadata": {
    "execution": {
     "iopub.execute_input": "2021-12-07T03:58:26.955371Z",
     "iopub.status.busy": "2021-12-07T03:58:26.953459Z",
     "iopub.status.idle": "2021-12-07T03:58:26.964975Z",
     "shell.execute_reply": "2021-12-07T03:58:26.964548Z",
     "shell.execute_reply.started": "2021-12-07T03:43:47.152834Z"
    },
    "papermill": {
     "duration": 0.033261,
     "end_time": "2021-12-07T03:58:26.965082",
     "exception": false,
     "start_time": "2021-12-07T03:58:26.931821",
     "status": "completed"
    },
    "tags": []
   },
   "outputs": [
    {
     "name": "stdout",
     "output_type": "stream",
     "text": [
      "Model: \"vgg16\"\n",
      "_________________________________________________________________\n",
      "Layer (type)                 Output Shape              Param #   \n",
      "=================================================================\n",
      "input_1 (InputLayer)         [(None, 227, 227, 3)]     0         \n",
      "_________________________________________________________________\n",
      "block1_conv1 (Conv2D)        (None, 227, 227, 64)      1792      \n",
      "_________________________________________________________________\n",
      "block1_conv2 (Conv2D)        (None, 227, 227, 64)      36928     \n",
      "_________________________________________________________________\n",
      "block1_pool (MaxPooling2D)   (None, 113, 113, 64)      0         \n",
      "_________________________________________________________________\n",
      "block2_conv1 (Conv2D)        (None, 113, 113, 128)     73856     \n",
      "_________________________________________________________________\n",
      "block2_conv2 (Conv2D)        (None, 113, 113, 128)     147584    \n",
      "_________________________________________________________________\n",
      "block2_pool (MaxPooling2D)   (None, 56, 56, 128)       0         \n",
      "_________________________________________________________________\n",
      "block3_conv1 (Conv2D)        (None, 56, 56, 256)       295168    \n",
      "_________________________________________________________________\n",
      "block3_conv2 (Conv2D)        (None, 56, 56, 256)       590080    \n",
      "_________________________________________________________________\n",
      "block3_conv3 (Conv2D)        (None, 56, 56, 256)       590080    \n",
      "_________________________________________________________________\n",
      "block3_pool (MaxPooling2D)   (None, 28, 28, 256)       0         \n",
      "_________________________________________________________________\n",
      "block4_conv1 (Conv2D)        (None, 28, 28, 512)       1180160   \n",
      "_________________________________________________________________\n",
      "block4_conv2 (Conv2D)        (None, 28, 28, 512)       2359808   \n",
      "_________________________________________________________________\n",
      "block4_conv3 (Conv2D)        (None, 28, 28, 512)       2359808   \n",
      "_________________________________________________________________\n",
      "block4_pool (MaxPooling2D)   (None, 14, 14, 512)       0         \n",
      "_________________________________________________________________\n",
      "block5_conv1 (Conv2D)        (None, 14, 14, 512)       2359808   \n",
      "_________________________________________________________________\n",
      "block5_conv2 (Conv2D)        (None, 14, 14, 512)       2359808   \n",
      "_________________________________________________________________\n",
      "block5_conv3 (Conv2D)        (None, 14, 14, 512)       2359808   \n",
      "_________________________________________________________________\n",
      "block5_pool (MaxPooling2D)   (None, 7, 7, 512)         0         \n",
      "=================================================================\n",
      "Total params: 14,714,688\n",
      "Trainable params: 0\n",
      "Non-trainable params: 14,714,688\n",
      "_________________________________________________________________\n"
     ]
    }
   ],
   "source": [
    "vgg_model.summary()"
   ]
  },
  {
   "cell_type": "code",
   "execution_count": 7,
   "id": "2a03cb83",
   "metadata": {
    "execution": {
     "iopub.execute_input": "2021-12-07T03:58:27.002880Z",
     "iopub.status.busy": "2021-12-07T03:58:27.002347Z",
     "iopub.status.idle": "2021-12-07T03:58:27.024203Z",
     "shell.execute_reply": "2021-12-07T03:58:27.023502Z",
     "shell.execute_reply.started": "2021-12-07T03:43:47.154072Z"
    },
    "papermill": {
     "duration": 0.042063,
     "end_time": "2021-12-07T03:58:27.024339",
     "exception": false,
     "start_time": "2021-12-07T03:58:26.982276",
     "status": "completed"
    },
    "tags": []
   },
   "outputs": [
    {
     "name": "stdout",
     "output_type": "stream",
     "text": [
      "2\n",
      "2\n"
     ]
    }
   ],
   "source": [
    "# to list out number of folders in train and test folder\n",
    "import os\n",
    "folders_train1 = os.listdir(main_train)\n",
    "print(len(folders_train1))\n",
    "\n",
    "folders_test1 = os.listdir(main_test)\n",
    "print(len(folders_test1))"
   ]
  },
  {
   "cell_type": "code",
   "execution_count": 8,
   "id": "92c172da",
   "metadata": {
    "execution": {
     "iopub.execute_input": "2021-12-07T03:58:27.065100Z",
     "iopub.status.busy": "2021-12-07T03:58:27.064329Z",
     "iopub.status.idle": "2021-12-07T03:58:27.067402Z",
     "shell.execute_reply": "2021-12-07T03:58:27.067836Z",
     "shell.execute_reply.started": "2021-12-07T03:43:47.155462Z"
    },
    "papermill": {
     "duration": 0.02573,
     "end_time": "2021-12-07T03:58:27.067962",
     "exception": false,
     "start_time": "2021-12-07T03:58:27.042232",
     "status": "completed"
    },
    "tags": []
   },
   "outputs": [
    {
     "data": {
      "text/plain": [
       "<KerasTensor: shape=(None, 7, 7, 512) dtype=float32 (created by layer 'block5_pool')>"
      ]
     },
     "execution_count": 8,
     "metadata": {},
     "output_type": "execute_result"
    }
   ],
   "source": [
    "#outputs the last layer\n",
    "vgg_model.output"
   ]
  },
  {
   "cell_type": "code",
   "execution_count": 9,
   "id": "5ab55e75",
   "metadata": {
    "execution": {
     "iopub.execute_input": "2021-12-07T03:58:27.107004Z",
     "iopub.status.busy": "2021-12-07T03:58:27.106230Z",
     "iopub.status.idle": "2021-12-07T03:58:27.109511Z",
     "shell.execute_reply": "2021-12-07T03:58:27.109103Z",
     "shell.execute_reply.started": "2021-12-07T03:43:47.157531Z"
    },
    "papermill": {
     "duration": 0.024355,
     "end_time": "2021-12-07T03:58:27.109606",
     "exception": false,
     "start_time": "2021-12-07T03:58:27.085251",
     "status": "completed"
    },
    "tags": []
   },
   "outputs": [
    {
     "data": {
      "text/plain": [
       "<KerasTensor: shape=(None, 227, 227, 3) dtype=float32 (created by layer 'input_1')>"
      ]
     },
     "execution_count": 9,
     "metadata": {},
     "output_type": "execute_result"
    }
   ],
   "source": [
    "#inputs of the layer\n",
    "vgg_model.input"
   ]
  },
  {
   "cell_type": "code",
   "execution_count": 10,
   "id": "984c0cc5",
   "metadata": {
    "execution": {
     "iopub.execute_input": "2021-12-07T03:58:27.155842Z",
     "iopub.status.busy": "2021-12-07T03:58:27.150831Z",
     "iopub.status.idle": "2021-12-07T03:58:27.186155Z",
     "shell.execute_reply": "2021-12-07T03:58:27.186733Z",
     "shell.execute_reply.started": "2021-12-07T03:43:47.159107Z"
    },
    "papermill": {
     "duration": 0.059366,
     "end_time": "2021-12-07T03:58:27.186883",
     "exception": false,
     "start_time": "2021-12-07T03:58:27.127517",
     "status": "completed"
    },
    "tags": []
   },
   "outputs": [
    {
     "name": "stdout",
     "output_type": "stream",
     "text": [
      "Model: \"model\"\n",
      "_________________________________________________________________\n",
      "Layer (type)                 Output Shape              Param #   \n",
      "=================================================================\n",
      "input_1 (InputLayer)         [(None, 227, 227, 3)]     0         \n",
      "_________________________________________________________________\n",
      "block1_conv1 (Conv2D)        (None, 227, 227, 64)      1792      \n",
      "_________________________________________________________________\n",
      "block1_conv2 (Conv2D)        (None, 227, 227, 64)      36928     \n",
      "_________________________________________________________________\n",
      "block1_pool (MaxPooling2D)   (None, 113, 113, 64)      0         \n",
      "_________________________________________________________________\n",
      "block2_conv1 (Conv2D)        (None, 113, 113, 128)     73856     \n",
      "_________________________________________________________________\n",
      "block2_conv2 (Conv2D)        (None, 113, 113, 128)     147584    \n",
      "_________________________________________________________________\n",
      "block2_pool (MaxPooling2D)   (None, 56, 56, 128)       0         \n",
      "_________________________________________________________________\n",
      "block3_conv1 (Conv2D)        (None, 56, 56, 256)       295168    \n",
      "_________________________________________________________________\n",
      "block3_conv2 (Conv2D)        (None, 56, 56, 256)       590080    \n",
      "_________________________________________________________________\n",
      "block3_conv3 (Conv2D)        (None, 56, 56, 256)       590080    \n",
      "_________________________________________________________________\n",
      "block3_pool (MaxPooling2D)   (None, 28, 28, 256)       0         \n",
      "_________________________________________________________________\n",
      "block4_conv1 (Conv2D)        (None, 28, 28, 512)       1180160   \n",
      "_________________________________________________________________\n",
      "block4_conv2 (Conv2D)        (None, 28, 28, 512)       2359808   \n",
      "_________________________________________________________________\n",
      "block4_conv3 (Conv2D)        (None, 28, 28, 512)       2359808   \n",
      "_________________________________________________________________\n",
      "block4_pool (MaxPooling2D)   (None, 14, 14, 512)       0         \n",
      "_________________________________________________________________\n",
      "block5_conv1 (Conv2D)        (None, 14, 14, 512)       2359808   \n",
      "_________________________________________________________________\n",
      "block5_conv2 (Conv2D)        (None, 14, 14, 512)       2359808   \n",
      "_________________________________________________________________\n",
      "block5_conv3 (Conv2D)        (None, 14, 14, 512)       2359808   \n",
      "_________________________________________________________________\n",
      "block5_pool (MaxPooling2D)   (None, 7, 7, 512)         0         \n",
      "_________________________________________________________________\n",
      "first_flatten (Flatten)      (None, 25088)             0         \n",
      "_________________________________________________________________\n",
      "dense (Dense)                (None, 64)                1605696   \n",
      "_________________________________________________________________\n",
      "dropout (Dropout)            (None, 64)                0         \n",
      "_________________________________________________________________\n",
      "dense_1 (Dense)              (None, 2)                 130       \n",
      "=================================================================\n",
      "Total params: 16,320,514\n",
      "Trainable params: 1,605,826\n",
      "Non-trainable params: 14,714,688\n",
      "_________________________________________________________________\n"
     ]
    }
   ],
   "source": [
    "# Flatten() is used to convert the last layer to vector or as fully connected\n",
    "x = Flatten(name=\"first_flatten\")(vgg_model.output)\n",
    "# Dense() is a fully connected layer and produces 128 outputs.\n",
    "# relu layer is used to convert the negative nubers to 0 and retains +ve as such.\n",
    "pred = Dense(64, activation=\"relu\")(x)\n",
    "#Dropout() layer is used to randomly remove 50% of the networks.\n",
    "pred = Dropout(0.5)(pred)\n",
    "# Dense() layer is added such that it outputs only two classess \n",
    "# Softmax activation layer produces probabilities for different classess.\n",
    "pred = Dense(2,activation='softmax')(pred)\n",
    "# Model() is used to group layers\n",
    "model = Model(inputs=vgg_model.input,outputs=pred)\n",
    "model.summary()"
   ]
  },
  {
   "cell_type": "markdown",
   "id": "29637ee7",
   "metadata": {
    "papermill": {
     "duration": 0.018145,
     "end_time": "2021-12-07T03:58:27.223643",
     "exception": false,
     "start_time": "2021-12-07T03:58:27.205498",
     "status": "completed"
    },
    "tags": []
   },
   "source": [
    "# Image Augmentation"
   ]
  },
  {
   "cell_type": "code",
   "execution_count": 11,
   "id": "47b01796",
   "metadata": {
    "execution": {
     "iopub.execute_input": "2021-12-07T03:58:27.267072Z",
     "iopub.status.busy": "2021-12-07T03:58:27.266343Z",
     "iopub.status.idle": "2021-12-07T03:58:29.979868Z",
     "shell.execute_reply": "2021-12-07T03:58:29.980271Z",
     "shell.execute_reply.started": "2021-12-07T03:43:47.160731Z"
    },
    "papermill": {
     "duration": 2.73841,
     "end_time": "2021-12-07T03:58:29.980432",
     "exception": false,
     "start_time": "2021-12-07T03:58:27.242022",
     "status": "completed"
    },
    "tags": []
   },
   "outputs": [
    {
     "name": "stdout",
     "output_type": "stream",
     "text": [
      "Found 8054 images belonging to 2 classes.\n",
      "Found 1992 images belonging to 2 classes.\n"
     ]
    }
   ],
   "source": [
    "#ImageDataGenerator is used to modify the train and test images w.r.t the properties mentioned\n",
    "train_datagen = ImageDataGenerator(rescale = 1/255.0,\n",
    "                                   shear_range = 0.2,\n",
    "                                   zoom_range = 0.2,\n",
    "                                   rotation_range=20,\n",
    "                                   width_shift_range=0.2, \n",
    "                                   height_shift_range=0.2,\n",
    "                                   horizontal_flip = True)\n",
    "\n",
    "test_datagen = ImageDataGenerator(rescale = 1/255.0,\n",
    "                                   shear_range = 0.2,\n",
    "                                   zoom_range = 0.2,\n",
    "                                   rotation_range=20,\n",
    "                                   width_shift_range=0.2, \n",
    "                                   height_shift_range=0.2,\n",
    "                                   horizontal_flip = True)\n",
    "\n",
    "# flow_from_directory() is used to convert all the images in the specific directory\n",
    "training_set = train_datagen.flow_from_directory(directory = main_train,\n",
    "                                                 target_size = (227,227),\n",
    "                                                 batch_size = 500,\n",
    "                                                 )\n",
    "\n",
    "test_set = test_datagen.flow_from_directory(directory = main_test,\n",
    "                                                 target_size = (227,227),\n",
    "                                                 batch_size = 500,\n",
    "                                                 )"
   ]
  },
  {
   "cell_type": "code",
   "execution_count": 12,
   "id": "0875c3a3",
   "metadata": {
    "execution": {
     "iopub.execute_input": "2021-12-07T03:58:30.027567Z",
     "iopub.status.busy": "2021-12-07T03:58:30.026817Z",
     "iopub.status.idle": "2021-12-07T03:58:30.029848Z",
     "shell.execute_reply": "2021-12-07T03:58:30.030283Z",
     "shell.execute_reply.started": "2021-12-07T03:43:47.163354Z"
    },
    "papermill": {
     "duration": 0.028925,
     "end_time": "2021-12-07T03:58:30.030404",
     "exception": false,
     "start_time": "2021-12-07T03:58:30.001479",
     "status": "completed"
    },
    "tags": []
   },
   "outputs": [
    {
     "data": {
      "text/plain": [
       "{'Negative': 0, 'Positive': 1}"
      ]
     },
     "execution_count": 12,
     "metadata": {},
     "output_type": "execute_result"
    }
   ],
   "source": [
    "# Class_indices will display the respective class value\n",
    "training_set.class_indices\n"
   ]
  },
  {
   "cell_type": "code",
   "execution_count": 13,
   "id": "f964fa7f",
   "metadata": {
    "execution": {
     "iopub.execute_input": "2021-12-07T03:58:30.077482Z",
     "iopub.status.busy": "2021-12-07T03:58:30.076794Z",
     "iopub.status.idle": "2021-12-07T03:58:30.079705Z",
     "shell.execute_reply": "2021-12-07T03:58:30.080300Z",
     "shell.execute_reply.started": "2021-12-07T03:43:47.164579Z"
    },
    "papermill": {
     "duration": 0.02851,
     "end_time": "2021-12-07T03:58:30.080466",
     "exception": false,
     "start_time": "2021-12-07T03:58:30.051956",
     "status": "completed"
    },
    "tags": []
   },
   "outputs": [
    {
     "name": "stdout",
     "output_type": "stream",
     "text": [
      "17\n",
      "4\n"
     ]
    }
   ],
   "source": [
    "# To check no.of folders in each\n",
    "print(len(training_set))\n",
    "print(len(test_set))"
   ]
  },
  {
   "cell_type": "markdown",
   "id": "3dd890c7",
   "metadata": {
    "papermill": {
     "duration": 0.020841,
     "end_time": "2021-12-07T03:58:30.123874",
     "exception": false,
     "start_time": "2021-12-07T03:58:30.103033",
     "status": "completed"
    },
    "tags": []
   },
   "source": [
    "# Model Fitting"
   ]
  },
  {
   "cell_type": "code",
   "execution_count": 14,
   "id": "8270cce2",
   "metadata": {
    "execution": {
     "iopub.execute_input": "2021-12-07T03:58:30.170783Z",
     "iopub.status.busy": "2021-12-07T03:58:30.170273Z",
     "iopub.status.idle": "2021-12-07T03:58:30.177412Z",
     "shell.execute_reply": "2021-12-07T03:58:30.176999Z",
     "shell.execute_reply.started": "2021-12-07T03:43:47.16597Z"
    },
    "papermill": {
     "duration": 0.034388,
     "end_time": "2021-12-07T03:58:30.177523",
     "exception": false,
     "start_time": "2021-12-07T03:58:30.143135",
     "status": "completed"
    },
    "tags": []
   },
   "outputs": [],
   "source": [
    "# Loss function is used to find the errors or deviations in learning process\n",
    "# Optimizer is used to optimize the input weights\n",
    "# Metrics is used to measure the performance\n",
    "model.compile(optimizer=Adam(learning_rate=0.01),\n",
    "    loss=\"binary_crossentropy\",\n",
    "    metrics=['accuracy'])"
   ]
  },
  {
   "cell_type": "code",
   "execution_count": 15,
   "id": "aeb8a274",
   "metadata": {
    "execution": {
     "iopub.execute_input": "2021-12-07T03:58:30.220910Z",
     "iopub.status.busy": "2021-12-07T03:58:30.220042Z",
     "iopub.status.idle": "2021-12-07T04:04:19.449264Z",
     "shell.execute_reply": "2021-12-07T04:04:19.449721Z",
     "shell.execute_reply.started": "2021-12-07T03:43:47.167374Z"
    },
    "papermill": {
     "duration": 349.253037,
     "end_time": "2021-12-07T04:04:19.449902",
     "exception": false,
     "start_time": "2021-12-07T03:58:30.196865",
     "status": "completed"
    },
    "tags": []
   },
   "outputs": [
    {
     "name": "stderr",
     "output_type": "stream",
     "text": [
      "2021-12-07 03:58:37.408430: I tensorflow/compiler/mlir/mlir_graph_optimization_pass.cc:185] None of the MLIR Optimization Passes are enabled (registered 2)\n"
     ]
    },
    {
     "name": "stdout",
     "output_type": "stream",
     "text": [
      "Epoch 1/2\n"
     ]
    },
    {
     "name": "stderr",
     "output_type": "stream",
     "text": [
      "2021-12-07 03:58:45.808611: I tensorflow/stream_executor/cuda/cuda_dnn.cc:369] Loaded cuDNN version 8005\n",
      "2021-12-07 03:58:49.847651: W tensorflow/core/kernels/gpu_utils.cc:49] Failed to allocate memory for convolution redzone checking; skipping this check. This is benign and only means that we won't check cudnn for out-of-bounds reads and writes. This message will only be printed once.\n"
     ]
    },
    {
     "name": "stdout",
     "output_type": "stream",
     "text": [
      "17/17 [==============================] - 211s 11s/step - loss: 4.6840 - accuracy: 0.7247 - val_loss: 0.4240 - val_accuracy: 0.9036\n",
      "Epoch 2/2\n",
      "17/17 [==============================] - 131s 8s/step - loss: 0.4094 - accuracy: 0.7934 - val_loss: 0.1894 - val_accuracy: 0.9553\n"
     ]
    }
   ],
   "source": [
    "# fit() is used to train the model \n",
    "# len(training_set) is 32042/500 = 65\n",
    "# len(test_set) is 7958/500 = 16\n",
    "mod = model.fit(\n",
    "  training_set,\n",
    "  validation_data=test_set,\n",
    "  epochs=2,\n",
    "  steps_per_epoch=len(training_set),\n",
    "  validation_steps=len(test_set)\n",
    ")"
   ]
  },
  {
   "cell_type": "code",
   "execution_count": 16,
   "id": "bd10ce2d",
   "metadata": {
    "execution": {
     "iopub.execute_input": "2021-12-07T04:04:19.523986Z",
     "iopub.status.busy": "2021-12-07T04:04:19.519468Z",
     "iopub.status.idle": "2021-12-07T04:04:19.697839Z",
     "shell.execute_reply": "2021-12-07T04:04:19.698503Z"
    },
    "papermill": {
     "duration": 0.218648,
     "end_time": "2021-12-07T04:04:19.698652",
     "exception": false,
     "start_time": "2021-12-07T04:04:19.480004",
     "status": "completed"
    },
    "tags": []
   },
   "outputs": [
    {
     "data": {
      "text/plain": [
       "['64_0.01_25%']"
      ]
     },
     "execution_count": 16,
     "metadata": {},
     "output_type": "execute_result"
    }
   ],
   "source": [
    "# To save the particular model in .h5 format\n",
    "import tensorflow as tf\n",
    "from tensorflow.keras.models import load_model\n",
    "model.save('64_0.01_25%.h5')\n",
    "\n",
    "\n",
    "\n",
    "import joblib\n",
    "joblib.dump(mod.history,'64_0.01_25%')"
   ]
  }
 ],
 "metadata": {
  "kernelspec": {
   "display_name": "Python 3",
   "language": "python",
   "name": "python3"
  },
  "language_info": {
   "codemirror_mode": {
    "name": "ipython",
    "version": 3
   },
   "file_extension": ".py",
   "mimetype": "text/x-python",
   "name": "python",
   "nbconvert_exporter": "python",
   "pygments_lexer": "ipython3",
   "version": "3.7.12"
  },
  "papermill": {
   "default_parameters": {},
   "duration": 373.610693,
   "end_time": "2021-12-07T04:04:22.948261",
   "environment_variables": {},
   "exception": null,
   "input_path": "__notebook__.ipynb",
   "output_path": "__notebook__.ipynb",
   "parameters": {},
   "start_time": "2021-12-07T03:58:09.337568",
   "version": "2.3.3"
  }
 },
 "nbformat": 4,
 "nbformat_minor": 5
}
