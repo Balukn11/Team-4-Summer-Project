{
 "cells": [
  {
   "cell_type": "code",
   "execution_count": 1,
   "id": "1ba2fb44",
   "metadata": {
    "execution": {
     "iopub.execute_input": "2021-12-14T04:33:09.994345Z",
     "iopub.status.busy": "2021-12-14T04:33:09.993557Z",
     "iopub.status.idle": "2021-12-14T04:33:09.998826Z",
     "shell.execute_reply": "2021-12-14T04:33:09.999200Z",
     "shell.execute_reply.started": "2021-12-07T04:08:41.197953Z"
    },
    "papermill": {
     "duration": 0.028807,
     "end_time": "2021-12-14T04:33:09.999441",
     "exception": false,
     "start_time": "2021-12-14T04:33:09.970634",
     "status": "completed"
    },
    "tags": []
   },
   "outputs": [],
   "source": [
    "img_size = [227,227] #List which stores the resolution\n",
    "main_train = '../input/crack-detection/Main/Train' #Stores the path of the train directory\n",
    "main_test = '../input/crack-detection/Main/Test' #Stores the path of the test directory"
   ]
  },
  {
   "cell_type": "markdown",
   "id": "1a3ec702",
   "metadata": {
    "papermill": {
     "duration": 0.012962,
     "end_time": "2021-12-14T04:33:10.027476",
     "exception": false,
     "start_time": "2021-12-14T04:33:10.014514",
     "status": "completed"
    },
    "tags": []
   },
   "source": [
    "#   Import Statements"
   ]
  },
  {
   "cell_type": "code",
   "execution_count": 2,
   "id": "f9f4f6e5",
   "metadata": {
    "execution": {
     "iopub.execute_input": "2021-12-14T04:33:10.059128Z",
     "iopub.status.busy": "2021-12-14T04:33:10.058525Z",
     "iopub.status.idle": "2021-12-14T04:33:14.898796Z",
     "shell.execute_reply": "2021-12-14T04:33:14.899237Z",
     "shell.execute_reply.started": "2021-12-07T04:08:41.205493Z"
    },
    "papermill": {
     "duration": 4.858526,
     "end_time": "2021-12-14T04:33:14.899427",
     "exception": false,
     "start_time": "2021-12-14T04:33:10.040901",
     "status": "completed"
    },
    "tags": []
   },
   "outputs": [],
   "source": [
    "from tensorflow.keras.layers import Input,Dense,Flatten,Dropout\n",
    "from tensorflow.keras.models import Model,Sequential\n",
    "from tensorflow.keras.applications.vgg16 import VGG16,preprocess_input\n",
    "from matplotlib import pyplot as plt\n",
    "import numpy as np\n",
    "from tensorflow.keras.preprocessing import image\n",
    "from tensorflow.keras.optimizers import Adam\n",
    "from tensorflow.keras.preprocessing.image import ImageDataGenerator"
   ]
  },
  {
   "cell_type": "markdown",
   "id": "93ef7987",
   "metadata": {
    "papermill": {
     "duration": 0.012897,
     "end_time": "2021-12-14T04:33:14.925736",
     "exception": false,
     "start_time": "2021-12-14T04:33:14.912839",
     "status": "completed"
    },
    "tags": []
   },
   "source": [
    "# VGG16 Model Building"
   ]
  },
  {
   "cell_type": "code",
   "execution_count": 3,
   "id": "b09f8727",
   "metadata": {
    "execution": {
     "iopub.execute_input": "2021-12-14T04:33:14.958237Z",
     "iopub.status.busy": "2021-12-14T04:33:14.957700Z",
     "iopub.status.idle": "2021-12-14T04:33:18.024716Z",
     "shell.execute_reply": "2021-12-14T04:33:18.024220Z",
     "shell.execute_reply.started": "2021-12-07T04:08:41.218227Z"
    },
    "papermill": {
     "duration": 3.086188,
     "end_time": "2021-12-14T04:33:18.024846",
     "exception": false,
     "start_time": "2021-12-14T04:33:14.938658",
     "status": "completed"
    },
    "tags": []
   },
   "outputs": [
    {
     "name": "stderr",
     "output_type": "stream",
     "text": [
      "2021-12-14 04:33:15.037520: I tensorflow/stream_executor/cuda/cuda_gpu_executor.cc:937] successful NUMA node read from SysFS had negative value (-1), but there must be at least one NUMA node, so returning NUMA node zero\n",
      "2021-12-14 04:33:15.133722: I tensorflow/stream_executor/cuda/cuda_gpu_executor.cc:937] successful NUMA node read from SysFS had negative value (-1), but there must be at least one NUMA node, so returning NUMA node zero\n",
      "2021-12-14 04:33:15.134534: I tensorflow/stream_executor/cuda/cuda_gpu_executor.cc:937] successful NUMA node read from SysFS had negative value (-1), but there must be at least one NUMA node, so returning NUMA node zero\n",
      "2021-12-14 04:33:15.135661: I tensorflow/core/platform/cpu_feature_guard.cc:142] This TensorFlow binary is optimized with oneAPI Deep Neural Network Library (oneDNN) to use the following CPU instructions in performance-critical operations:  AVX2 AVX512F FMA\n",
      "To enable them in other operations, rebuild TensorFlow with the appropriate compiler flags.\n",
      "2021-12-14 04:33:15.136538: I tensorflow/stream_executor/cuda/cuda_gpu_executor.cc:937] successful NUMA node read from SysFS had negative value (-1), but there must be at least one NUMA node, so returning NUMA node zero\n",
      "2021-12-14 04:33:15.137222: I tensorflow/stream_executor/cuda/cuda_gpu_executor.cc:937] successful NUMA node read from SysFS had negative value (-1), but there must be at least one NUMA node, so returning NUMA node zero\n",
      "2021-12-14 04:33:15.137829: I tensorflow/stream_executor/cuda/cuda_gpu_executor.cc:937] successful NUMA node read from SysFS had negative value (-1), but there must be at least one NUMA node, so returning NUMA node zero\n",
      "2021-12-14 04:33:17.056800: I tensorflow/stream_executor/cuda/cuda_gpu_executor.cc:937] successful NUMA node read from SysFS had negative value (-1), but there must be at least one NUMA node, so returning NUMA node zero\n",
      "2021-12-14 04:33:17.057605: I tensorflow/stream_executor/cuda/cuda_gpu_executor.cc:937] successful NUMA node read from SysFS had negative value (-1), but there must be at least one NUMA node, so returning NUMA node zero\n",
      "2021-12-14 04:33:17.058281: I tensorflow/stream_executor/cuda/cuda_gpu_executor.cc:937] successful NUMA node read from SysFS had negative value (-1), but there must be at least one NUMA node, so returning NUMA node zero\n",
      "2021-12-14 04:33:17.058869: I tensorflow/core/common_runtime/gpu/gpu_device.cc:1510] Created device /job:localhost/replica:0/task:0/device:GPU:0 with 15403 MB memory:  -> device: 0, name: Tesla P100-PCIE-16GB, pci bus id: 0000:00:04.0, compute capability: 6.0\n"
     ]
    },
    {
     "name": "stdout",
     "output_type": "stream",
     "text": [
      "Downloading data from https://storage.googleapis.com/tensorflow/keras-applications/vgg16/vgg16_weights_tf_dim_ordering_tf_kernels_notop.h5\n",
      "58892288/58889256 [==============================] - 0s 0us/step\n",
      "58900480/58889256 [==============================] - 0s 0us/step\n"
     ]
    }
   ],
   "source": [
    "vgg_model = VGG16(include_top=False,\n",
    "    weights=\"imagenet\",\n",
    "    input_shape=img_size + [3])\n",
    "\n",
    "# Loading the VGG16 pre trained model\n",
    "\n",
    "# include_top - this specifies whether the final layer before the output layer has to be include \n",
    "# or not. If included then there will be 1000 number of classes at the output.\n",
    "\n",
    "# Weights are trained using imagenet"
   ]
  },
  {
   "cell_type": "code",
   "execution_count": 4,
   "id": "6e2daca9",
   "metadata": {
    "execution": {
     "iopub.execute_input": "2021-12-14T04:33:18.068080Z",
     "iopub.status.busy": "2021-12-14T04:33:18.063381Z",
     "iopub.status.idle": "2021-12-14T04:33:18.075322Z",
     "shell.execute_reply": "2021-12-14T04:33:18.074882Z",
     "shell.execute_reply.started": "2021-12-07T04:08:41.505497Z"
    },
    "papermill": {
     "duration": 0.034143,
     "end_time": "2021-12-14T04:33:18.075442",
     "exception": false,
     "start_time": "2021-12-14T04:33:18.041299",
     "status": "completed"
    },
    "tags": []
   },
   "outputs": [
    {
     "name": "stdout",
     "output_type": "stream",
     "text": [
      "Model: \"vgg16\"\n",
      "_________________________________________________________________\n",
      "Layer (type)                 Output Shape              Param #   \n",
      "=================================================================\n",
      "input_1 (InputLayer)         [(None, 227, 227, 3)]     0         \n",
      "_________________________________________________________________\n",
      "block1_conv1 (Conv2D)        (None, 227, 227, 64)      1792      \n",
      "_________________________________________________________________\n",
      "block1_conv2 (Conv2D)        (None, 227, 227, 64)      36928     \n",
      "_________________________________________________________________\n",
      "block1_pool (MaxPooling2D)   (None, 113, 113, 64)      0         \n",
      "_________________________________________________________________\n",
      "block2_conv1 (Conv2D)        (None, 113, 113, 128)     73856     \n",
      "_________________________________________________________________\n",
      "block2_conv2 (Conv2D)        (None, 113, 113, 128)     147584    \n",
      "_________________________________________________________________\n",
      "block2_pool (MaxPooling2D)   (None, 56, 56, 128)       0         \n",
      "_________________________________________________________________\n",
      "block3_conv1 (Conv2D)        (None, 56, 56, 256)       295168    \n",
      "_________________________________________________________________\n",
      "block3_conv2 (Conv2D)        (None, 56, 56, 256)       590080    \n",
      "_________________________________________________________________\n",
      "block3_conv3 (Conv2D)        (None, 56, 56, 256)       590080    \n",
      "_________________________________________________________________\n",
      "block3_pool (MaxPooling2D)   (None, 28, 28, 256)       0         \n",
      "_________________________________________________________________\n",
      "block4_conv1 (Conv2D)        (None, 28, 28, 512)       1180160   \n",
      "_________________________________________________________________\n",
      "block4_conv2 (Conv2D)        (None, 28, 28, 512)       2359808   \n",
      "_________________________________________________________________\n",
      "block4_conv3 (Conv2D)        (None, 28, 28, 512)       2359808   \n",
      "_________________________________________________________________\n",
      "block4_pool (MaxPooling2D)   (None, 14, 14, 512)       0         \n",
      "_________________________________________________________________\n",
      "block5_conv1 (Conv2D)        (None, 14, 14, 512)       2359808   \n",
      "_________________________________________________________________\n",
      "block5_conv2 (Conv2D)        (None, 14, 14, 512)       2359808   \n",
      "_________________________________________________________________\n",
      "block5_conv3 (Conv2D)        (None, 14, 14, 512)       2359808   \n",
      "_________________________________________________________________\n",
      "block5_pool (MaxPooling2D)   (None, 7, 7, 512)         0         \n",
      "=================================================================\n",
      "Total params: 14,714,688\n",
      "Trainable params: 14,714,688\n",
      "Non-trainable params: 0\n",
      "_________________________________________________________________\n"
     ]
    }
   ],
   "source": [
    "# To print the hidden layer summary of vgg model without top layer\n",
    "vgg_model.summary()"
   ]
  },
  {
   "cell_type": "code",
   "execution_count": 5,
   "id": "7cfee6dc",
   "metadata": {
    "execution": {
     "iopub.execute_input": "2021-12-14T04:33:18.112168Z",
     "iopub.status.busy": "2021-12-14T04:33:18.111653Z",
     "iopub.status.idle": "2021-12-14T04:33:18.115213Z",
     "shell.execute_reply": "2021-12-14T04:33:18.114790Z",
     "shell.execute_reply.started": "2021-12-07T04:08:41.527902Z"
    },
    "papermill": {
     "duration": 0.023391,
     "end_time": "2021-12-14T04:33:18.115338",
     "exception": false,
     "start_time": "2021-12-14T04:33:18.091947",
     "status": "completed"
    },
    "tags": []
   },
   "outputs": [],
   "source": [
    "# To fix the weights of the pre trained model\n",
    "for lay in vgg_model.layers:\n",
    "    lay.trainable = False"
   ]
  },
  {
   "cell_type": "code",
   "execution_count": 6,
   "id": "97aad394",
   "metadata": {
    "execution": {
     "iopub.execute_input": "2021-12-14T04:33:18.155583Z",
     "iopub.status.busy": "2021-12-14T04:33:18.154703Z",
     "iopub.status.idle": "2021-12-14T04:33:18.162380Z",
     "shell.execute_reply": "2021-12-14T04:33:18.161612Z",
     "shell.execute_reply.started": "2021-12-07T04:08:41.533529Z"
    },
    "papermill": {
     "duration": 0.030381,
     "end_time": "2021-12-14T04:33:18.162489",
     "exception": false,
     "start_time": "2021-12-14T04:33:18.132108",
     "status": "completed"
    },
    "tags": []
   },
   "outputs": [
    {
     "name": "stdout",
     "output_type": "stream",
     "text": [
      "Model: \"vgg16\"\n",
      "_________________________________________________________________\n",
      "Layer (type)                 Output Shape              Param #   \n",
      "=================================================================\n",
      "input_1 (InputLayer)         [(None, 227, 227, 3)]     0         \n",
      "_________________________________________________________________\n",
      "block1_conv1 (Conv2D)        (None, 227, 227, 64)      1792      \n",
      "_________________________________________________________________\n",
      "block1_conv2 (Conv2D)        (None, 227, 227, 64)      36928     \n",
      "_________________________________________________________________\n",
      "block1_pool (MaxPooling2D)   (None, 113, 113, 64)      0         \n",
      "_________________________________________________________________\n",
      "block2_conv1 (Conv2D)        (None, 113, 113, 128)     73856     \n",
      "_________________________________________________________________\n",
      "block2_conv2 (Conv2D)        (None, 113, 113, 128)     147584    \n",
      "_________________________________________________________________\n",
      "block2_pool (MaxPooling2D)   (None, 56, 56, 128)       0         \n",
      "_________________________________________________________________\n",
      "block3_conv1 (Conv2D)        (None, 56, 56, 256)       295168    \n",
      "_________________________________________________________________\n",
      "block3_conv2 (Conv2D)        (None, 56, 56, 256)       590080    \n",
      "_________________________________________________________________\n",
      "block3_conv3 (Conv2D)        (None, 56, 56, 256)       590080    \n",
      "_________________________________________________________________\n",
      "block3_pool (MaxPooling2D)   (None, 28, 28, 256)       0         \n",
      "_________________________________________________________________\n",
      "block4_conv1 (Conv2D)        (None, 28, 28, 512)       1180160   \n",
      "_________________________________________________________________\n",
      "block4_conv2 (Conv2D)        (None, 28, 28, 512)       2359808   \n",
      "_________________________________________________________________\n",
      "block4_conv3 (Conv2D)        (None, 28, 28, 512)       2359808   \n",
      "_________________________________________________________________\n",
      "block4_pool (MaxPooling2D)   (None, 14, 14, 512)       0         \n",
      "_________________________________________________________________\n",
      "block5_conv1 (Conv2D)        (None, 14, 14, 512)       2359808   \n",
      "_________________________________________________________________\n",
      "block5_conv2 (Conv2D)        (None, 14, 14, 512)       2359808   \n",
      "_________________________________________________________________\n",
      "block5_conv3 (Conv2D)        (None, 14, 14, 512)       2359808   \n",
      "_________________________________________________________________\n",
      "block5_pool (MaxPooling2D)   (None, 7, 7, 512)         0         \n",
      "=================================================================\n",
      "Total params: 14,714,688\n",
      "Trainable params: 0\n",
      "Non-trainable params: 14,714,688\n",
      "_________________________________________________________________\n"
     ]
    }
   ],
   "source": [
    "vgg_model.summary()"
   ]
  },
  {
   "cell_type": "code",
   "execution_count": 7,
   "id": "4d7e35bd",
   "metadata": {
    "execution": {
     "iopub.execute_input": "2021-12-14T04:33:18.198532Z",
     "iopub.status.busy": "2021-12-14T04:33:18.197996Z",
     "iopub.status.idle": "2021-12-14T04:33:18.220762Z",
     "shell.execute_reply": "2021-12-14T04:33:18.220157Z",
     "shell.execute_reply.started": "2021-12-07T04:08:41.552395Z"
    },
    "papermill": {
     "duration": 0.042155,
     "end_time": "2021-12-14T04:33:18.220894",
     "exception": false,
     "start_time": "2021-12-14T04:33:18.178739",
     "status": "completed"
    },
    "tags": []
   },
   "outputs": [
    {
     "name": "stdout",
     "output_type": "stream",
     "text": [
      "2\n",
      "2\n"
     ]
    }
   ],
   "source": [
    "# to list out number of folders in train and test folder\n",
    "import os\n",
    "folders_train1 = os.listdir(main_train)\n",
    "print(len(folders_train1))\n",
    "\n",
    "folders_test1 = os.listdir(main_test)\n",
    "print(len(folders_test1))"
   ]
  },
  {
   "cell_type": "code",
   "execution_count": 8,
   "id": "34341c1f",
   "metadata": {
    "execution": {
     "iopub.execute_input": "2021-12-14T04:33:18.260906Z",
     "iopub.status.busy": "2021-12-14T04:33:18.260299Z",
     "iopub.status.idle": "2021-12-14T04:33:18.263192Z",
     "shell.execute_reply": "2021-12-14T04:33:18.263610Z",
     "shell.execute_reply.started": "2021-12-07T04:08:41.571715Z"
    },
    "papermill": {
     "duration": 0.025336,
     "end_time": "2021-12-14T04:33:18.263723",
     "exception": false,
     "start_time": "2021-12-14T04:33:18.238387",
     "status": "completed"
    },
    "tags": []
   },
   "outputs": [
    {
     "data": {
      "text/plain": [
       "<KerasTensor: shape=(None, 7, 7, 512) dtype=float32 (created by layer 'block5_pool')>"
      ]
     },
     "execution_count": 8,
     "metadata": {},
     "output_type": "execute_result"
    }
   ],
   "source": [
    "#outputs the last layer\n",
    "vgg_model.output"
   ]
  },
  {
   "cell_type": "code",
   "execution_count": 9,
   "id": "313e04d2",
   "metadata": {
    "execution": {
     "iopub.execute_input": "2021-12-14T04:33:18.301095Z",
     "iopub.status.busy": "2021-12-14T04:33:18.300547Z",
     "iopub.status.idle": "2021-12-14T04:33:18.305625Z",
     "shell.execute_reply": "2021-12-14T04:33:18.305204Z",
     "shell.execute_reply.started": "2021-12-07T04:08:41.580796Z"
    },
    "papermill": {
     "duration": 0.025275,
     "end_time": "2021-12-14T04:33:18.305729",
     "exception": false,
     "start_time": "2021-12-14T04:33:18.280454",
     "status": "completed"
    },
    "tags": []
   },
   "outputs": [
    {
     "data": {
      "text/plain": [
       "<KerasTensor: shape=(None, 227, 227, 3) dtype=float32 (created by layer 'input_1')>"
      ]
     },
     "execution_count": 9,
     "metadata": {},
     "output_type": "execute_result"
    }
   ],
   "source": [
    "#inputs of the layer\n",
    "vgg_model.input"
   ]
  },
  {
   "cell_type": "code",
   "execution_count": 10,
   "id": "e6c02034",
   "metadata": {
    "execution": {
     "iopub.execute_input": "2021-12-14T04:33:18.347505Z",
     "iopub.status.busy": "2021-12-14T04:33:18.346717Z",
     "iopub.status.idle": "2021-12-14T04:33:18.382965Z",
     "shell.execute_reply": "2021-12-14T04:33:18.382513Z",
     "shell.execute_reply.started": "2021-12-07T04:08:41.591857Z"
    },
    "papermill": {
     "duration": 0.060019,
     "end_time": "2021-12-14T04:33:18.383080",
     "exception": false,
     "start_time": "2021-12-14T04:33:18.323061",
     "status": "completed"
    },
    "tags": []
   },
   "outputs": [
    {
     "name": "stdout",
     "output_type": "stream",
     "text": [
      "Model: \"model\"\n",
      "_________________________________________________________________\n",
      "Layer (type)                 Output Shape              Param #   \n",
      "=================================================================\n",
      "input_1 (InputLayer)         [(None, 227, 227, 3)]     0         \n",
      "_________________________________________________________________\n",
      "block1_conv1 (Conv2D)        (None, 227, 227, 64)      1792      \n",
      "_________________________________________________________________\n",
      "block1_conv2 (Conv2D)        (None, 227, 227, 64)      36928     \n",
      "_________________________________________________________________\n",
      "block1_pool (MaxPooling2D)   (None, 113, 113, 64)      0         \n",
      "_________________________________________________________________\n",
      "block2_conv1 (Conv2D)        (None, 113, 113, 128)     73856     \n",
      "_________________________________________________________________\n",
      "block2_conv2 (Conv2D)        (None, 113, 113, 128)     147584    \n",
      "_________________________________________________________________\n",
      "block2_pool (MaxPooling2D)   (None, 56, 56, 128)       0         \n",
      "_________________________________________________________________\n",
      "block3_conv1 (Conv2D)        (None, 56, 56, 256)       295168    \n",
      "_________________________________________________________________\n",
      "block3_conv2 (Conv2D)        (None, 56, 56, 256)       590080    \n",
      "_________________________________________________________________\n",
      "block3_conv3 (Conv2D)        (None, 56, 56, 256)       590080    \n",
      "_________________________________________________________________\n",
      "block3_pool (MaxPooling2D)   (None, 28, 28, 256)       0         \n",
      "_________________________________________________________________\n",
      "block4_conv1 (Conv2D)        (None, 28, 28, 512)       1180160   \n",
      "_________________________________________________________________\n",
      "block4_conv2 (Conv2D)        (None, 28, 28, 512)       2359808   \n",
      "_________________________________________________________________\n",
      "block4_conv3 (Conv2D)        (None, 28, 28, 512)       2359808   \n",
      "_________________________________________________________________\n",
      "block4_pool (MaxPooling2D)   (None, 14, 14, 512)       0         \n",
      "_________________________________________________________________\n",
      "block5_conv1 (Conv2D)        (None, 14, 14, 512)       2359808   \n",
      "_________________________________________________________________\n",
      "block5_conv2 (Conv2D)        (None, 14, 14, 512)       2359808   \n",
      "_________________________________________________________________\n",
      "block5_conv3 (Conv2D)        (None, 14, 14, 512)       2359808   \n",
      "_________________________________________________________________\n",
      "block5_pool (MaxPooling2D)   (None, 7, 7, 512)         0         \n",
      "_________________________________________________________________\n",
      "first_flatten (Flatten)      (None, 25088)             0         \n",
      "_________________________________________________________________\n",
      "dense (Dense)                (None, 64)                1605696   \n",
      "_________________________________________________________________\n",
      "dropout (Dropout)            (None, 64)                0         \n",
      "_________________________________________________________________\n",
      "dense_1 (Dense)              (None, 2)                 130       \n",
      "=================================================================\n",
      "Total params: 16,320,514\n",
      "Trainable params: 1,605,826\n",
      "Non-trainable params: 14,714,688\n",
      "_________________________________________________________________\n"
     ]
    }
   ],
   "source": [
    "# Flatten() is used to convert the last layer to vector or as fully connected\n",
    "x = Flatten(name=\"first_flatten\")(vgg_model.output)\n",
    "# Dense() is a fully connected layer and produces 128 outputs.\n",
    "# relu layer is used to convert the negative nubers to 0 and retains +ve as such.\n",
    "pred = Dense(64, activation=\"relu\")(x)\n",
    "#Dropout() layer is used to randomly remove 50% of the networks.\n",
    "pred = Dropout(0.5)(pred)\n",
    "# Dense() layer is added such that it outputs only two classess \n",
    "# Softmax activation layer produces probabilities for different classess.\n",
    "pred = Dense(2,activation='softmax')(pred)\n",
    "# Model() is used to group layers\n",
    "model = Model(inputs=vgg_model.input,outputs=pred)\n",
    "model.summary()"
   ]
  },
  {
   "cell_type": "markdown",
   "id": "7f7b8081",
   "metadata": {
    "papermill": {
     "duration": 0.017221,
     "end_time": "2021-12-14T04:33:18.418013",
     "exception": false,
     "start_time": "2021-12-14T04:33:18.400792",
     "status": "completed"
    },
    "tags": []
   },
   "source": [
    "# Image Augmentation"
   ]
  },
  {
   "cell_type": "code",
   "execution_count": 11,
   "id": "af14efef",
   "metadata": {
    "execution": {
     "iopub.execute_input": "2021-12-14T04:33:18.461188Z",
     "iopub.status.busy": "2021-12-14T04:33:18.459843Z",
     "iopub.status.idle": "2021-12-14T04:33:56.042161Z",
     "shell.execute_reply": "2021-12-14T04:33:56.042563Z",
     "shell.execute_reply.started": "2021-12-07T04:08:41.638604Z"
    },
    "papermill": {
     "duration": 37.607329,
     "end_time": "2021-12-14T04:33:56.042723",
     "exception": false,
     "start_time": "2021-12-14T04:33:18.435394",
     "status": "completed"
    },
    "tags": []
   },
   "outputs": [
    {
     "name": "stdout",
     "output_type": "stream",
     "text": [
      "Found 32042 images belonging to 2 classes.\n",
      "Found 7958 images belonging to 2 classes.\n"
     ]
    }
   ],
   "source": [
    "#ImageDataGenerator is used to modify the train and test images w.r.t the properties mentioned\n",
    "train_datagen = ImageDataGenerator(rescale = 1/255.0,\n",
    "                                   shear_range = 0.2,\n",
    "                                   zoom_range = 0.2,\n",
    "                                   rotation_range=20,\n",
    "                                   width_shift_range=0.2, \n",
    "                                   height_shift_range=0.2,\n",
    "                                   horizontal_flip = True)\n",
    "\n",
    "test_datagen = ImageDataGenerator(rescale = 1/255.0,\n",
    "                                   shear_range = 0.2,\n",
    "                                   zoom_range = 0.2,\n",
    "                                   rotation_range=20,\n",
    "                                   width_shift_range=0.2, \n",
    "                                   height_shift_range=0.2,\n",
    "                                   horizontal_flip = True)\n",
    "\n",
    "# flow_from_directory() is used to convert all the images in the specific directory\n",
    "training_set = train_datagen.flow_from_directory(directory = main_train,\n",
    "                                                 target_size = (227,227),\n",
    "                                                 batch_size = 500,\n",
    "                                                 )                                                                                                                                                                                                                                                                                                                                                                                                                                                                                                                                                                                                                                                                                                                                                                                                                                                                                                                                                                                                                                                                                                                                                                                                                                                                                                                                                                                                                                                                                                                                                                                                                                                                                                                                                                                                                                                                                                                                                                                                                                                                                                                                                                                                                                                                                                                                                                                                                   \n",
    "\n",
    "test_set = test_datagen.flow_from_directory(directory = main_test,\n",
    "                                                 target_size = (227,227),\n",
    "                                                 batch_size = 500,\n",
    "                                                 )"
   ]
  },
  {
   "cell_type": "code",
   "execution_count": 12,
   "id": "42e2a3e6",
   "metadata": {
    "execution": {
     "iopub.execute_input": "2021-12-14T04:33:56.083954Z",
     "iopub.status.busy": "2021-12-14T04:33:56.083319Z",
     "iopub.status.idle": "2021-12-14T04:33:56.085871Z",
     "shell.execute_reply": "2021-12-14T04:33:56.086337Z",
     "shell.execute_reply.started": "2021-12-07T04:08:54.376878Z"
    },
    "papermill": {
     "duration": 0.025418,
     "end_time": "2021-12-14T04:33:56.086464",
     "exception": false,
     "start_time": "2021-12-14T04:33:56.061046",
     "status": "completed"
    },
    "tags": []
   },
   "outputs": [
    {
     "data": {
      "text/plain": [
       "{'Negative': 0, 'Positive': 1}"
      ]
     },
     "execution_count": 12,
     "metadata": {},
     "output_type": "execute_result"
    }
   ],
   "source": [
    "# Class_indices will display the respective class value\n",
    "training_set.class_indices\n"
   ]
  },
  {
   "cell_type": "code",
   "execution_count": 13,
   "id": "57a0e186",
   "metadata": {
    "execution": {
     "iopub.execute_input": "2021-12-14T04:33:56.138186Z",
     "iopub.status.busy": "2021-12-14T04:33:56.136802Z",
     "iopub.status.idle": "2021-12-14T04:33:56.141925Z",
     "shell.execute_reply": "2021-12-14T04:33:56.141253Z",
     "shell.execute_reply.started": "2021-12-07T04:08:54.385164Z"
    },
    "papermill": {
     "duration": 0.035719,
     "end_time": "2021-12-14T04:33:56.142075",
     "exception": false,
     "start_time": "2021-12-14T04:33:56.106356",
     "status": "completed"
    },
    "tags": []
   },
   "outputs": [
    {
     "name": "stdout",
     "output_type": "stream",
     "text": [
      "65\n",
      "16\n"
     ]
    }
   ],
   "source": [
    "# To check no.of folders in each\n",
    "print(len(training_set))\n",
    "print(len(test_set))"
   ]
  },
  {
   "cell_type": "markdown",
   "id": "662d68ba",
   "metadata": {
    "papermill": {
     "duration": 0.034157,
     "end_time": "2021-12-14T04:33:56.217171",
     "exception": false,
     "start_time": "2021-12-14T04:33:56.183014",
     "status": "completed"
    },
    "tags": []
   },
   "source": [
    "# Model Fitting"
   ]
  },
  {
   "cell_type": "code",
   "execution_count": 14,
   "id": "91b37307",
   "metadata": {
    "execution": {
     "iopub.execute_input": "2021-12-14T04:33:56.300048Z",
     "iopub.status.busy": "2021-12-14T04:33:56.299217Z",
     "iopub.status.idle": "2021-12-14T04:33:56.312549Z",
     "shell.execute_reply": "2021-12-14T04:33:56.313346Z",
     "shell.execute_reply.started": "2021-12-07T04:08:54.402271Z"
    },
    "papermill": {
     "duration": 0.053054,
     "end_time": "2021-12-14T04:33:56.313482",
     "exception": false,
     "start_time": "2021-12-14T04:33:56.260428",
     "status": "completed"
    },
    "tags": []
   },
   "outputs": [],
   "source": [
    "# Loss function is used to find the errors or deviations in learning process\n",
    "# Optimizer is used to optimize the input weights\n",
    "# Metrics is used to measure the performance\n",
    "model.compile(optimizer=Adam(learning_rate=1.00),\n",
    "    loss=\"binary_crossentropy\",\n",
    "    metrics=['accuracy'])"
   ]
  },
  {
   "cell_type": "code",
   "execution_count": 15,
   "id": "e4793de7",
   "metadata": {
    "execution": {
     "iopub.execute_input": "2021-12-14T04:33:56.383075Z",
     "iopub.status.busy": "2021-12-14T04:33:56.382189Z",
     "iopub.status.idle": "2021-12-14T04:56:18.806910Z",
     "shell.execute_reply": "2021-12-14T04:56:18.807668Z"
    },
    "papermill": {
     "duration": 1342.464097,
     "end_time": "2021-12-14T04:56:18.807907",
     "exception": false,
     "start_time": "2021-12-14T04:33:56.343810",
     "status": "completed"
    },
    "tags": []
   },
   "outputs": [
    {
     "name": "stderr",
     "output_type": "stream",
     "text": [
      "2021-12-14 04:34:04.417668: I tensorflow/compiler/mlir/mlir_graph_optimization_pass.cc:185] None of the MLIR Optimization Passes are enabled (registered 2)\n"
     ]
    },
    {
     "name": "stdout",
     "output_type": "stream",
     "text": [
      "Epoch 1/2\n"
     ]
    },
    {
     "name": "stderr",
     "output_type": "stream",
     "text": [
      "2021-12-14 04:34:13.884801: I tensorflow/stream_executor/cuda/cuda_dnn.cc:369] Loaded cuDNN version 8005\n",
      "2021-12-14 04:34:17.935297: W tensorflow/core/kernels/gpu_utils.cc:49] Failed to allocate memory for convolution redzone checking; skipping this check. This is benign and only means that we won't check cudnn for out-of-bounds reads and writes. This message will only be printed once.\n"
     ]
    },
    {
     "name": "stdout",
     "output_type": "stream",
     "text": [
      "65/65 [==============================] - 753s 11s/step - loss: 383.0222 - accuracy: 0.5114 - val_loss: 0.9096 - val_accuracy: 0.4946\n",
      "Epoch 2/2\n",
      "65/65 [==============================] - 532s 8s/step - loss: 32.8730 - accuracy: 0.4972 - val_loss: 0.6938 - val_accuracy: 0.4951\n"
     ]
    }
   ],
   "source": [
    "# fit() is used to train the model \n",
    "# len(training_set) is 32042/500 = 65\n",
    "# len(test_set) is 7958/500 = 16\n",
    "mod = model.fit(\n",
    "  training_set,\n",
    "  validation_data=test_set,\n",
    "  epochs=2,\n",
    "  steps_per_epoch=len(training_set),\n",
    "  validation_steps=len(test_set)\n",
    ")"
   ]
  },
  {
   "cell_type": "code",
   "execution_count": 16,
   "id": "1311fb01",
   "metadata": {
    "execution": {
     "iopub.execute_input": "2021-12-14T04:56:19.003074Z",
     "iopub.status.busy": "2021-12-14T04:56:18.998130Z",
     "iopub.status.idle": "2021-12-14T04:56:19.288090Z",
     "shell.execute_reply": "2021-12-14T04:56:19.289328Z"
    },
    "papermill": {
     "duration": 0.385112,
     "end_time": "2021-12-14T04:56:19.289535",
     "exception": false,
     "start_time": "2021-12-14T04:56:18.904423",
     "status": "completed"
    },
    "tags": []
   },
   "outputs": [
    {
     "data": {
      "text/plain": [
       "['64_1.00_100%']"
      ]
     },
     "execution_count": 16,
     "metadata": {},
     "output_type": "execute_result"
    }
   ],
   "source": [
    "# To save the particular model in .h5 format\n",
    "import tensorflow as tf\n",
    "from tensorflow.keras.models import load_model\n",
    "model.save('64_0.10_25%.h5')\n",
    "\n",
    "\n",
    "\n",
    "import joblib\n",
    "joblib.dump(mod.history,'64_1.00_100%')"
   ]
  }
 ],
 "metadata": {
  "kernelspec": {
   "display_name": "Python 3",
   "language": "python",
   "name": "python3"
  },
  "language_info": {
   "codemirror_mode": {
    "name": "ipython",
    "version": 3
   },
   "file_extension": ".py",
   "mimetype": "text/x-python",
   "name": "python",
   "nbconvert_exporter": "python",
   "pygments_lexer": "ipython3",
   "version": "3.7.12"
  },
  "papermill": {
   "default_parameters": {},
   "duration": 1400.741735,
   "end_time": "2021-12-14T04:56:22.974212",
   "environment_variables": {},
   "exception": null,
   "input_path": "__notebook__.ipynb",
   "output_path": "__notebook__.ipynb",
   "parameters": {},
   "start_time": "2021-12-14T04:33:02.232477",
   "version": "2.3.3"
  }
 },
 "nbformat": 4,
 "nbformat_minor": 5
}
