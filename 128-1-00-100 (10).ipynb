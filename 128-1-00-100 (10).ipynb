{
 "cells": [
  {
   "cell_type": "code",
   "execution_count": 1,
   "id": "adef4d72",
   "metadata": {
    "_cell_guid": "b1076dfc-b9ad-4769-8c92-a6c4dae69d19",
    "_uuid": "8f2839f25d086af736a60e9eeb907d3b93b6e0e5",
    "execution": {
     "iopub.execute_input": "2021-12-07T06:29:23.349423Z",
     "iopub.status.busy": "2021-12-07T06:29:23.348674Z",
     "iopub.status.idle": "2021-12-07T06:29:23.352225Z",
     "shell.execute_reply": "2021-12-07T06:29:23.351654Z"
    },
    "papermill": {
     "duration": 0.028449,
     "end_time": "2021-12-07T06:29:23.352357",
     "exception": false,
     "start_time": "2021-12-07T06:29:23.323908",
     "status": "completed"
    },
    "tags": []
   },
   "outputs": [],
   "source": [
    "img_size = [227,227] #List which stores the resolution\n",
    "main_train = '../input/mit-split-crack/25/Train' #Stores the path of the train directory\n",
    "main_test = '../input/mit-split-crack/25/Test' #Stores the path of the test directory"
   ]
  },
  {
   "cell_type": "markdown",
   "id": "5c0b2062",
   "metadata": {
    "papermill": {
     "duration": 0.012333,
     "end_time": "2021-12-07T06:29:23.377369",
     "exception": false,
     "start_time": "2021-12-07T06:29:23.365036",
     "status": "completed"
    },
    "tags": []
   },
   "source": [
    "# **Import Statements**"
   ]
  },
  {
   "cell_type": "code",
   "execution_count": 2,
   "id": "367e5ba5",
   "metadata": {
    "execution": {
     "iopub.execute_input": "2021-12-07T06:29:23.407374Z",
     "iopub.status.busy": "2021-12-07T06:29:23.406745Z",
     "iopub.status.idle": "2021-12-07T06:29:28.440313Z",
     "shell.execute_reply": "2021-12-07T06:29:28.439769Z"
    },
    "papermill": {
     "duration": 5.050553,
     "end_time": "2021-12-07T06:29:28.440446",
     "exception": false,
     "start_time": "2021-12-07T06:29:23.389893",
     "status": "completed"
    },
    "tags": []
   },
   "outputs": [],
   "source": [
    "from tensorflow.keras.layers import Input,Dense,Flatten,Dropout\n",
    "from tensorflow.keras.models import Model,Sequential\n",
    "from tensorflow.keras.applications.vgg16 import VGG16,preprocess_input\n",
    "from matplotlib import pyplot as plt\n",
    "import numpy as np\n",
    "from tensorflow.keras.preprocessing import image\n",
    "from tensorflow.keras.optimizers import Adam\n",
    "from tensorflow.keras.preprocessing.image import ImageDataGenerator"
   ]
  },
  {
   "cell_type": "markdown",
   "id": "577896f4",
   "metadata": {
    "papermill": {
     "duration": 0.012207,
     "end_time": "2021-12-07T06:29:28.465601",
     "exception": false,
     "start_time": "2021-12-07T06:29:28.453394",
     "status": "completed"
    },
    "tags": []
   },
   "source": [
    "# **VGG16 Model Building**"
   ]
  },
  {
   "cell_type": "code",
   "execution_count": 3,
   "id": "ad4ea7d2",
   "metadata": {
    "execution": {
     "iopub.execute_input": "2021-12-07T06:29:28.496271Z",
     "iopub.status.busy": "2021-12-07T06:29:28.495739Z",
     "iopub.status.idle": "2021-12-07T06:29:31.588868Z",
     "shell.execute_reply": "2021-12-07T06:29:31.587996Z"
    },
    "papermill": {
     "duration": 3.111206,
     "end_time": "2021-12-07T06:29:31.589042",
     "exception": false,
     "start_time": "2021-12-07T06:29:28.477836",
     "status": "completed"
    },
    "tags": []
   },
   "outputs": [
    {
     "name": "stderr",
     "output_type": "stream",
     "text": [
      "2021-12-07 06:29:28.583003: I tensorflow/stream_executor/cuda/cuda_gpu_executor.cc:937] successful NUMA node read from SysFS had negative value (-1), but there must be at least one NUMA node, so returning NUMA node zero\n",
      "2021-12-07 06:29:28.677553: I tensorflow/stream_executor/cuda/cuda_gpu_executor.cc:937] successful NUMA node read from SysFS had negative value (-1), but there must be at least one NUMA node, so returning NUMA node zero\n",
      "2021-12-07 06:29:28.678252: I tensorflow/stream_executor/cuda/cuda_gpu_executor.cc:937] successful NUMA node read from SysFS had negative value (-1), but there must be at least one NUMA node, so returning NUMA node zero\n",
      "2021-12-07 06:29:28.679312: I tensorflow/core/platform/cpu_feature_guard.cc:142] This TensorFlow binary is optimized with oneAPI Deep Neural Network Library (oneDNN) to use the following CPU instructions in performance-critical operations:  AVX2 AVX512F FMA\n",
      "To enable them in other operations, rebuild TensorFlow with the appropriate compiler flags.\n",
      "2021-12-07 06:29:28.682378: I tensorflow/stream_executor/cuda/cuda_gpu_executor.cc:937] successful NUMA node read from SysFS had negative value (-1), but there must be at least one NUMA node, so returning NUMA node zero\n",
      "2021-12-07 06:29:28.683094: I tensorflow/stream_executor/cuda/cuda_gpu_executor.cc:937] successful NUMA node read from SysFS had negative value (-1), but there must be at least one NUMA node, so returning NUMA node zero\n",
      "2021-12-07 06:29:28.683714: I tensorflow/stream_executor/cuda/cuda_gpu_executor.cc:937] successful NUMA node read from SysFS had negative value (-1), but there must be at least one NUMA node, so returning NUMA node zero\n",
      "2021-12-07 06:29:30.530724: I tensorflow/stream_executor/cuda/cuda_gpu_executor.cc:937] successful NUMA node read from SysFS had negative value (-1), but there must be at least one NUMA node, so returning NUMA node zero\n",
      "2021-12-07 06:29:30.531562: I tensorflow/stream_executor/cuda/cuda_gpu_executor.cc:937] successful NUMA node read from SysFS had negative value (-1), but there must be at least one NUMA node, so returning NUMA node zero\n",
      "2021-12-07 06:29:30.532210: I tensorflow/stream_executor/cuda/cuda_gpu_executor.cc:937] successful NUMA node read from SysFS had negative value (-1), but there must be at least one NUMA node, so returning NUMA node zero\n",
      "2021-12-07 06:29:30.532788: I tensorflow/core/common_runtime/gpu/gpu_device.cc:1510] Created device /job:localhost/replica:0/task:0/device:GPU:0 with 15403 MB memory:  -> device: 0, name: Tesla P100-PCIE-16GB, pci bus id: 0000:00:04.0, compute capability: 6.0\n"
     ]
    },
    {
     "name": "stdout",
     "output_type": "stream",
     "text": [
      "Downloading data from https://storage.googleapis.com/tensorflow/keras-applications/vgg16/vgg16_weights_tf_dim_ordering_tf_kernels_notop.h5\n",
      "58892288/58889256 [==============================] - 0s 0us/step\n",
      "58900480/58889256 [==============================] - 0s 0us/step\n"
     ]
    }
   ],
   "source": [
    "vgg_model = VGG16(include_top=False,\n",
    "    weights=\"imagenet\",\n",
    "    input_shape=img_size + [3])\n",
    "\n",
    "# Loading the VGG16 pre trained model\n",
    "\n",
    "# include_top - this specifies whether the final layer before the output layer has to be include \n",
    "# or not. If included then there will be 1000 number of classes at the output.\n",
    "\n",
    "# Weights are trained using imagenet"
   ]
  },
  {
   "cell_type": "code",
   "execution_count": 4,
   "id": "b0ffd442",
   "metadata": {
    "execution": {
     "iopub.execute_input": "2021-12-07T06:29:31.630358Z",
     "iopub.status.busy": "2021-12-07T06:29:31.627304Z",
     "iopub.status.idle": "2021-12-07T06:29:31.637147Z",
     "shell.execute_reply": "2021-12-07T06:29:31.636711Z"
    },
    "papermill": {
     "duration": 0.032168,
     "end_time": "2021-12-07T06:29:31.637262",
     "exception": false,
     "start_time": "2021-12-07T06:29:31.605094",
     "status": "completed"
    },
    "tags": []
   },
   "outputs": [
    {
     "name": "stdout",
     "output_type": "stream",
     "text": [
      "Model: \"vgg16\"\n",
      "_________________________________________________________________\n",
      "Layer (type)                 Output Shape              Param #   \n",
      "=================================================================\n",
      "input_1 (InputLayer)         [(None, 227, 227, 3)]     0         \n",
      "_________________________________________________________________\n",
      "block1_conv1 (Conv2D)        (None, 227, 227, 64)      1792      \n",
      "_________________________________________________________________\n",
      "block1_conv2 (Conv2D)        (None, 227, 227, 64)      36928     \n",
      "_________________________________________________________________\n",
      "block1_pool (MaxPooling2D)   (None, 113, 113, 64)      0         \n",
      "_________________________________________________________________\n",
      "block2_conv1 (Conv2D)        (None, 113, 113, 128)     73856     \n",
      "_________________________________________________________________\n",
      "block2_conv2 (Conv2D)        (None, 113, 113, 128)     147584    \n",
      "_________________________________________________________________\n",
      "block2_pool (MaxPooling2D)   (None, 56, 56, 128)       0         \n",
      "_________________________________________________________________\n",
      "block3_conv1 (Conv2D)        (None, 56, 56, 256)       295168    \n",
      "_________________________________________________________________\n",
      "block3_conv2 (Conv2D)        (None, 56, 56, 256)       590080    \n",
      "_________________________________________________________________\n",
      "block3_conv3 (Conv2D)        (None, 56, 56, 256)       590080    \n",
      "_________________________________________________________________\n",
      "block3_pool (MaxPooling2D)   (None, 28, 28, 256)       0         \n",
      "_________________________________________________________________\n",
      "block4_conv1 (Conv2D)        (None, 28, 28, 512)       1180160   \n",
      "_________________________________________________________________\n",
      "block4_conv2 (Conv2D)        (None, 28, 28, 512)       2359808   \n",
      "_________________________________________________________________\n",
      "block4_conv3 (Conv2D)        (None, 28, 28, 512)       2359808   \n",
      "_________________________________________________________________\n",
      "block4_pool (MaxPooling2D)   (None, 14, 14, 512)       0         \n",
      "_________________________________________________________________\n",
      "block5_conv1 (Conv2D)        (None, 14, 14, 512)       2359808   \n",
      "_________________________________________________________________\n",
      "block5_conv2 (Conv2D)        (None, 14, 14, 512)       2359808   \n",
      "_________________________________________________________________\n",
      "block5_conv3 (Conv2D)        (None, 14, 14, 512)       2359808   \n",
      "_________________________________________________________________\n",
      "block5_pool (MaxPooling2D)   (None, 7, 7, 512)         0         \n",
      "=================================================================\n",
      "Total params: 14,714,688\n",
      "Trainable params: 14,714,688\n",
      "Non-trainable params: 0\n",
      "_________________________________________________________________\n"
     ]
    }
   ],
   "source": [
    "# To print the hidden layer summary of vgg model without top layer\n",
    "vgg_model.summary()"
   ]
  },
  {
   "cell_type": "code",
   "execution_count": 5,
   "id": "6feb81ba",
   "metadata": {
    "execution": {
     "iopub.execute_input": "2021-12-07T06:29:31.674825Z",
     "iopub.status.busy": "2021-12-07T06:29:31.673266Z",
     "iopub.status.idle": "2021-12-07T06:29:31.675446Z",
     "shell.execute_reply": "2021-12-07T06:29:31.675833Z"
    },
    "papermill": {
     "duration": 0.022586,
     "end_time": "2021-12-07T06:29:31.675976",
     "exception": false,
     "start_time": "2021-12-07T06:29:31.653390",
     "status": "completed"
    },
    "tags": []
   },
   "outputs": [],
   "source": [
    "# To fix the weights of the pre trained model\n",
    "for lay in vgg_model.layers:\n",
    "    lay.trainable = False"
   ]
  },
  {
   "cell_type": "code",
   "execution_count": 6,
   "id": "96b794b8",
   "metadata": {
    "execution": {
     "iopub.execute_input": "2021-12-07T06:29:31.713146Z",
     "iopub.status.busy": "2021-12-07T06:29:31.711841Z",
     "iopub.status.idle": "2021-12-07T06:29:31.724638Z",
     "shell.execute_reply": "2021-12-07T06:29:31.724118Z"
    },
    "papermill": {
     "duration": 0.032578,
     "end_time": "2021-12-07T06:29:31.724739",
     "exception": false,
     "start_time": "2021-12-07T06:29:31.692161",
     "status": "completed"
    },
    "tags": []
   },
   "outputs": [
    {
     "name": "stdout",
     "output_type": "stream",
     "text": [
      "Model: \"vgg16\"\n",
      "_________________________________________________________________\n",
      "Layer (type)                 Output Shape              Param #   \n",
      "=================================================================\n",
      "input_1 (InputLayer)         [(None, 227, 227, 3)]     0         \n",
      "_________________________________________________________________\n",
      "block1_conv1 (Conv2D)        (None, 227, 227, 64)      1792      \n",
      "_________________________________________________________________\n",
      "block1_conv2 (Conv2D)        (None, 227, 227, 64)      36928     \n",
      "_________________________________________________________________\n",
      "block1_pool (MaxPooling2D)   (None, 113, 113, 64)      0         \n",
      "_________________________________________________________________\n",
      "block2_conv1 (Conv2D)        (None, 113, 113, 128)     73856     \n",
      "_________________________________________________________________\n",
      "block2_conv2 (Conv2D)        (None, 113, 113, 128)     147584    \n",
      "_________________________________________________________________\n",
      "block2_pool (MaxPooling2D)   (None, 56, 56, 128)       0         \n",
      "_________________________________________________________________\n",
      "block3_conv1 (Conv2D)        (None, 56, 56, 256)       295168    \n",
      "_________________________________________________________________\n",
      "block3_conv2 (Conv2D)        (None, 56, 56, 256)       590080    \n",
      "_________________________________________________________________\n",
      "block3_conv3 (Conv2D)        (None, 56, 56, 256)       590080    \n",
      "_________________________________________________________________\n",
      "block3_pool (MaxPooling2D)   (None, 28, 28, 256)       0         \n",
      "_________________________________________________________________\n",
      "block4_conv1 (Conv2D)        (None, 28, 28, 512)       1180160   \n",
      "_________________________________________________________________\n",
      "block4_conv2 (Conv2D)        (None, 28, 28, 512)       2359808   \n",
      "_________________________________________________________________\n",
      "block4_conv3 (Conv2D)        (None, 28, 28, 512)       2359808   \n",
      "_________________________________________________________________\n",
      "block4_pool (MaxPooling2D)   (None, 14, 14, 512)       0         \n",
      "_________________________________________________________________\n",
      "block5_conv1 (Conv2D)        (None, 14, 14, 512)       2359808   \n",
      "_________________________________________________________________\n",
      "block5_conv2 (Conv2D)        (None, 14, 14, 512)       2359808   \n",
      "_________________________________________________________________\n",
      "block5_conv3 (Conv2D)        (None, 14, 14, 512)       2359808   \n",
      "_________________________________________________________________\n",
      "block5_pool (MaxPooling2D)   (None, 7, 7, 512)         0         \n",
      "=================================================================\n",
      "Total params: 14,714,688\n",
      "Trainable params: 0\n",
      "Non-trainable params: 14,714,688\n",
      "_________________________________________________________________\n"
     ]
    }
   ],
   "source": [
    "vgg_model.summary()"
   ]
  },
  {
   "cell_type": "code",
   "execution_count": 7,
   "id": "dd4b204d",
   "metadata": {
    "execution": {
     "iopub.execute_input": "2021-12-07T06:29:31.761494Z",
     "iopub.status.busy": "2021-12-07T06:29:31.760998Z",
     "iopub.status.idle": "2021-12-07T06:29:31.778338Z",
     "shell.execute_reply": "2021-12-07T06:29:31.778706Z"
    },
    "papermill": {
     "duration": 0.037802,
     "end_time": "2021-12-07T06:29:31.778821",
     "exception": false,
     "start_time": "2021-12-07T06:29:31.741019",
     "status": "completed"
    },
    "tags": []
   },
   "outputs": [
    {
     "name": "stdout",
     "output_type": "stream",
     "text": [
      "2\n",
      "2\n"
     ]
    }
   ],
   "source": [
    "# to list out number of folders in train and test folder\n",
    "import os\n",
    "folders_train1 = os.listdir(main_train)\n",
    "print(len(folders_train1))\n",
    "\n",
    "folders_test1 = os.listdir(main_test)\n",
    "print(len(folders_test1))"
   ]
  },
  {
   "cell_type": "code",
   "execution_count": 8,
   "id": "1ff40d6c",
   "metadata": {
    "execution": {
     "iopub.execute_input": "2021-12-07T06:29:31.818210Z",
     "iopub.status.busy": "2021-12-07T06:29:31.817412Z",
     "iopub.status.idle": "2021-12-07T06:29:31.820405Z",
     "shell.execute_reply": "2021-12-07T06:29:31.820817Z"
    },
    "papermill": {
     "duration": 0.025068,
     "end_time": "2021-12-07T06:29:31.820952",
     "exception": false,
     "start_time": "2021-12-07T06:29:31.795884",
     "status": "completed"
    },
    "tags": []
   },
   "outputs": [
    {
     "data": {
      "text/plain": [
       "<KerasTensor: shape=(None, 7, 7, 512) dtype=float32 (created by layer 'block5_pool')>"
      ]
     },
     "execution_count": 8,
     "metadata": {},
     "output_type": "execute_result"
    }
   ],
   "source": [
    "#outputs the last layer\n",
    "vgg_model.output"
   ]
  },
  {
   "cell_type": "code",
   "execution_count": 9,
   "id": "3d378841",
   "metadata": {
    "execution": {
     "iopub.execute_input": "2021-12-07T06:29:31.860566Z",
     "iopub.status.busy": "2021-12-07T06:29:31.857918Z",
     "iopub.status.idle": "2021-12-07T06:29:31.863298Z",
     "shell.execute_reply": "2021-12-07T06:29:31.862829Z"
    },
    "papermill": {
     "duration": 0.025295,
     "end_time": "2021-12-07T06:29:31.863400",
     "exception": false,
     "start_time": "2021-12-07T06:29:31.838105",
     "status": "completed"
    },
    "tags": []
   },
   "outputs": [
    {
     "data": {
      "text/plain": [
       "<KerasTensor: shape=(None, 227, 227, 3) dtype=float32 (created by layer 'input_1')>"
      ]
     },
     "execution_count": 9,
     "metadata": {},
     "output_type": "execute_result"
    }
   ],
   "source": [
    "#inputs of the layer\n",
    "vgg_model.input"
   ]
  },
  {
   "cell_type": "code",
   "execution_count": 10,
   "id": "c515c442",
   "metadata": {
    "execution": {
     "iopub.execute_input": "2021-12-07T06:29:31.906037Z",
     "iopub.status.busy": "2021-12-07T06:29:31.904699Z",
     "iopub.status.idle": "2021-12-07T06:29:31.940466Z",
     "shell.execute_reply": "2021-12-07T06:29:31.940888Z"
    },
    "papermill": {
     "duration": 0.05964,
     "end_time": "2021-12-07T06:29:31.941029",
     "exception": false,
     "start_time": "2021-12-07T06:29:31.881389",
     "status": "completed"
    },
    "tags": []
   },
   "outputs": [
    {
     "name": "stdout",
     "output_type": "stream",
     "text": [
      "Model: \"model\"\n",
      "_________________________________________________________________\n",
      "Layer (type)                 Output Shape              Param #   \n",
      "=================================================================\n",
      "input_1 (InputLayer)         [(None, 227, 227, 3)]     0         \n",
      "_________________________________________________________________\n",
      "block1_conv1 (Conv2D)        (None, 227, 227, 64)      1792      \n",
      "_________________________________________________________________\n",
      "block1_conv2 (Conv2D)        (None, 227, 227, 64)      36928     \n",
      "_________________________________________________________________\n",
      "block1_pool (MaxPooling2D)   (None, 113, 113, 64)      0         \n",
      "_________________________________________________________________\n",
      "block2_conv1 (Conv2D)        (None, 113, 113, 128)     73856     \n",
      "_________________________________________________________________\n",
      "block2_conv2 (Conv2D)        (None, 113, 113, 128)     147584    \n",
      "_________________________________________________________________\n",
      "block2_pool (MaxPooling2D)   (None, 56, 56, 128)       0         \n",
      "_________________________________________________________________\n",
      "block3_conv1 (Conv2D)        (None, 56, 56, 256)       295168    \n",
      "_________________________________________________________________\n",
      "block3_conv2 (Conv2D)        (None, 56, 56, 256)       590080    \n",
      "_________________________________________________________________\n",
      "block3_conv3 (Conv2D)        (None, 56, 56, 256)       590080    \n",
      "_________________________________________________________________\n",
      "block3_pool (MaxPooling2D)   (None, 28, 28, 256)       0         \n",
      "_________________________________________________________________\n",
      "block4_conv1 (Conv2D)        (None, 28, 28, 512)       1180160   \n",
      "_________________________________________________________________\n",
      "block4_conv2 (Conv2D)        (None, 28, 28, 512)       2359808   \n",
      "_________________________________________________________________\n",
      "block4_conv3 (Conv2D)        (None, 28, 28, 512)       2359808   \n",
      "_________________________________________________________________\n",
      "block4_pool (MaxPooling2D)   (None, 14, 14, 512)       0         \n",
      "_________________________________________________________________\n",
      "block5_conv1 (Conv2D)        (None, 14, 14, 512)       2359808   \n",
      "_________________________________________________________________\n",
      "block5_conv2 (Conv2D)        (None, 14, 14, 512)       2359808   \n",
      "_________________________________________________________________\n",
      "block5_conv3 (Conv2D)        (None, 14, 14, 512)       2359808   \n",
      "_________________________________________________________________\n",
      "block5_pool (MaxPooling2D)   (None, 7, 7, 512)         0         \n",
      "_________________________________________________________________\n",
      "first_flatten (Flatten)      (None, 25088)             0         \n",
      "_________________________________________________________________\n",
      "dense (Dense)                (None, 128)               3211392   \n",
      "_________________________________________________________________\n",
      "dropout (Dropout)            (None, 128)               0         \n",
      "_________________________________________________________________\n",
      "dense_1 (Dense)              (None, 2)                 258       \n",
      "=================================================================\n",
      "Total params: 17,926,338\n",
      "Trainable params: 3,211,650\n",
      "Non-trainable params: 14,714,688\n",
      "_________________________________________________________________\n"
     ]
    }
   ],
   "source": [
    "# Flatten() is used to convert the last layer to vector or as fully connected\n",
    "x = Flatten(name=\"first_flatten\")(vgg_model.output)\n",
    "# Dense() is a fully connected layer and produces 128 outputs.\n",
    "# relu layer is used to convert the negative nubers to 0 and retains +ve as such.\n",
    "pred = Dense(128, activation=\"relu\")(x)\n",
    "#Dropout() layer is used to randomly remove 50% of the networks.\n",
    "pred = Dropout(0.5)(pred)\n",
    "# Dense() layer is added such that it outputs only two classess \n",
    "# Softmax activation layer produces probabilities for different classess.\n",
    "pred = Dense(2,activation='softmax')(pred)\n",
    "# Model() is used to group layers\n",
    "model = Model(inputs=vgg_model.input,outputs=pred)\n",
    "model.summary()"
   ]
  },
  {
   "cell_type": "markdown",
   "id": "e4320b4a",
   "metadata": {
    "papermill": {
     "duration": 0.018364,
     "end_time": "2021-12-07T06:29:31.978164",
     "exception": false,
     "start_time": "2021-12-07T06:29:31.959800",
     "status": "completed"
    },
    "tags": []
   },
   "source": [
    "# **Image Augmentation**"
   ]
  },
  {
   "cell_type": "code",
   "execution_count": 11,
   "id": "2c661eee",
   "metadata": {
    "execution": {
     "iopub.execute_input": "2021-12-07T06:29:32.030813Z",
     "iopub.status.busy": "2021-12-07T06:29:32.030071Z",
     "iopub.status.idle": "2021-12-07T06:29:34.352002Z",
     "shell.execute_reply": "2021-12-07T06:29:34.352649Z"
    },
    "papermill": {
     "duration": 2.35601,
     "end_time": "2021-12-07T06:29:34.352799",
     "exception": false,
     "start_time": "2021-12-07T06:29:31.996789",
     "status": "completed"
    },
    "tags": []
   },
   "outputs": [
    {
     "name": "stdout",
     "output_type": "stream",
     "text": [
      "Found 8054 images belonging to 2 classes.\n",
      "Found 1992 images belonging to 2 classes.\n"
     ]
    }
   ],
   "source": [
    "#ImageDataGenerator is used to modify the train and test images w.r.t the properties mentioned\n",
    "train_datagen = ImageDataGenerator(rescale = 1/255.0,\n",
    "                                   shear_range = 0.2,\n",
    "                                   zoom_range = 0.2,\n",
    "                                   rotation_range=20,\n",
    "                                   width_shift_range=0.2, \n",
    "                                   height_shift_range=0.2,\n",
    "                                   horizontal_flip = True)\n",
    "\n",
    "test_datagen = ImageDataGenerator(rescale = 1/255.0,\n",
    "                                   shear_range = 0.2,\n",
    "                                   zoom_range = 0.2,\n",
    "                                   rotation_range=20,\n",
    "                                   width_shift_range=0.2, \n",
    "                                   height_shift_range=0.2,\n",
    "                                   horizontal_flip = True)\n",
    "\n",
    "# flow_from_directory() is used to convert all the images in the specific directory\n",
    "training_set = train_datagen.flow_from_directory(directory = main_train,\n",
    "                                                 target_size = (227,227),\n",
    "                                                 batch_size = 500,\n",
    "                                                 )\n",
    "\n",
    "test_set = test_datagen.flow_from_directory(directory = main_test,\n",
    "                                                 target_size = (227,227),\n",
    "                                                 batch_size = 500,\n",
    "                                                 )"
   ]
  },
  {
   "cell_type": "code",
   "execution_count": 12,
   "id": "43c33705",
   "metadata": {
    "execution": {
     "iopub.execute_input": "2021-12-07T06:29:34.396105Z",
     "iopub.status.busy": "2021-12-07T06:29:34.395401Z",
     "iopub.status.idle": "2021-12-07T06:29:34.397855Z",
     "shell.execute_reply": "2021-12-07T06:29:34.398264Z"
    },
    "papermill": {
     "duration": 0.026745,
     "end_time": "2021-12-07T06:29:34.398387",
     "exception": false,
     "start_time": "2021-12-07T06:29:34.371642",
     "status": "completed"
    },
    "tags": []
   },
   "outputs": [
    {
     "data": {
      "text/plain": [
       "{'Negative': 0, 'Positive': 1}"
      ]
     },
     "execution_count": 12,
     "metadata": {},
     "output_type": "execute_result"
    }
   ],
   "source": [
    "# Class_indices will display the respective class value\n",
    "training_set.class_indices"
   ]
  },
  {
   "cell_type": "code",
   "execution_count": 13,
   "id": "b05eb3fc",
   "metadata": {
    "execution": {
     "iopub.execute_input": "2021-12-07T06:29:34.440482Z",
     "iopub.status.busy": "2021-12-07T06:29:34.439884Z",
     "iopub.status.idle": "2021-12-07T06:29:34.442525Z",
     "shell.execute_reply": "2021-12-07T06:29:34.443017Z"
    },
    "papermill": {
     "duration": 0.025663,
     "end_time": "2021-12-07T06:29:34.443136",
     "exception": false,
     "start_time": "2021-12-07T06:29:34.417473",
     "status": "completed"
    },
    "tags": []
   },
   "outputs": [
    {
     "name": "stdout",
     "output_type": "stream",
     "text": [
      "17\n",
      "4\n"
     ]
    }
   ],
   "source": [
    "# To check no.of folders in each\n",
    "print(len(training_set))\n",
    "print(len(test_set))"
   ]
  },
  {
   "cell_type": "markdown",
   "id": "d51b1876",
   "metadata": {
    "papermill": {
     "duration": 0.019251,
     "end_time": "2021-12-07T06:29:34.482698",
     "exception": false,
     "start_time": "2021-12-07T06:29:34.463447",
     "status": "completed"
    },
    "tags": []
   },
   "source": [
    "# **Model Fitting**"
   ]
  },
  {
   "cell_type": "code",
   "execution_count": 14,
   "id": "4a2522d3",
   "metadata": {
    "execution": {
     "iopub.execute_input": "2021-12-07T06:29:34.542860Z",
     "iopub.status.busy": "2021-12-07T06:29:34.542003Z",
     "iopub.status.idle": "2021-12-07T06:29:34.552198Z",
     "shell.execute_reply": "2021-12-07T06:29:34.553230Z"
    },
    "papermill": {
     "duration": 0.051318,
     "end_time": "2021-12-07T06:29:34.553478",
     "exception": false,
     "start_time": "2021-12-07T06:29:34.502160",
     "status": "completed"
    },
    "tags": []
   },
   "outputs": [],
   "source": [
    "# Loss function is used to find the errors or deviations in learning process\n",
    "# Optimizer is used to optimize the input weights\n",
    "# Metrics is used to measure the performance\n",
    "model.compile(optimizer=Adam(learning_rate=1.00),\n",
    "    loss=\"binary_crossentropy\",\n",
    "    metrics=['accuracy'])"
   ]
  },
  {
   "cell_type": "code",
   "execution_count": 15,
   "id": "36388b8a",
   "metadata": {
    "execution": {
     "iopub.execute_input": "2021-12-07T06:29:34.638356Z",
     "iopub.status.busy": "2021-12-07T06:29:34.637601Z",
     "iopub.status.idle": "2021-12-07T06:36:26.733991Z",
     "shell.execute_reply": "2021-12-07T06:36:26.733468Z"
    },
    "papermill": {
     "duration": 412.137718,
     "end_time": "2021-12-07T06:36:26.734152",
     "exception": false,
     "start_time": "2021-12-07T06:29:34.596434",
     "status": "completed"
    },
    "tags": []
   },
   "outputs": [
    {
     "name": "stderr",
     "output_type": "stream",
     "text": [
      "2021-12-07 06:29:42.253237: I tensorflow/compiler/mlir/mlir_graph_optimization_pass.cc:185] None of the MLIR Optimization Passes are enabled (registered 2)\n"
     ]
    },
    {
     "name": "stdout",
     "output_type": "stream",
     "text": [
      "Epoch 1/2\n"
     ]
    },
    {
     "name": "stderr",
     "output_type": "stream",
     "text": [
      "2021-12-07 06:29:49.803861: I tensorflow/stream_executor/cuda/cuda_dnn.cc:369] Loaded cuDNN version 8005\n",
      "2021-12-07 06:29:53.900628: W tensorflow/core/kernels/gpu_utils.cc:49] Failed to allocate memory for convolution redzone checking; skipping this check. This is benign and only means that we won't check cudnn for out-of-bounds reads and writes. This message will only be printed once.\n"
     ]
    },
    {
     "name": "stdout",
     "output_type": "stream",
     "text": [
      "17/17 [==============================] - 220s 11s/step - loss: 2094.6934 - accuracy: 0.7288 - val_loss: 65.9933 - val_accuracy: 0.8916\n",
      "Epoch 2/2\n",
      "17/17 [==============================] - 129s 8s/step - loss: 19.9024 - accuracy: 0.8388 - val_loss: 1.3141 - val_accuracy: 0.8740\n"
     ]
    }
   ],
   "source": [
    "# fit() is used to train the model \n",
    "# len(training_set) is 32042/500 = 65\n",
    "# len(test_set) is 7958/500 = 16\n",
    "mod = model.fit(\n",
    "  training_set,\n",
    "  validation_data=test_set,\n",
    "  epochs=2,\n",
    "  steps_per_epoch=len(training_set),\n",
    "  validation_steps=len(test_set)\n",
    ")"
   ]
  },
  {
   "cell_type": "markdown",
   "id": "fdc0aabf",
   "metadata": {
    "papermill": {
     "duration": 0.030317,
     "end_time": "2021-12-07T06:36:26.797076",
     "exception": false,
     "start_time": "2021-12-07T06:36:26.766759",
     "status": "completed"
    },
    "tags": []
   },
   "source": [
    "# **Model Saving**"
   ]
  },
  {
   "cell_type": "code",
   "execution_count": 16,
   "id": "390e1679",
   "metadata": {
    "execution": {
     "iopub.execute_input": "2021-12-07T06:36:26.873162Z",
     "iopub.status.busy": "2021-12-07T06:36:26.872384Z",
     "iopub.status.idle": "2021-12-07T06:36:27.084353Z",
     "shell.execute_reply": "2021-12-07T06:36:27.085102Z",
     "shell.execute_reply.started": "2021-12-07T04:35:02.891841Z"
    },
    "papermill": {
     "duration": 0.25751,
     "end_time": "2021-12-07T06:36:27.085270",
     "exception": false,
     "start_time": "2021-12-07T06:36:26.827760",
     "status": "completed"
    },
    "tags": []
   },
   "outputs": [
    {
     "data": {
      "text/plain": [
       "['128_1.00__25%']"
      ]
     },
     "execution_count": 16,
     "metadata": {},
     "output_type": "execute_result"
    }
   ],
   "source": [
    "# To save the particular model in .h5 format\n",
    "import tensorflow as tf\n",
    "from tensorflow.keras.models import load_model\n",
    "model.save('128_1.00__25%.h5')\n",
    "\n",
    "\n",
    "\n",
    "import joblib\n",
    "joblib.dump(mod.history,'128_1.00__25%')\n"
   ]
  },
  {
   "cell_type": "code",
   "execution_count": null,
   "id": "b054815f",
   "metadata": {
    "papermill": {
     "duration": 0.033251,
     "end_time": "2021-12-07T06:36:27.154413",
     "exception": false,
     "start_time": "2021-12-07T06:36:27.121162",
     "status": "completed"
    },
    "tags": []
   },
   "outputs": [],
   "source": []
  }
 ],
 "metadata": {
  "kernelspec": {
   "display_name": "Python 3",
   "language": "python",
   "name": "python3"
  },
  "language_info": {
   "codemirror_mode": {
    "name": "ipython",
    "version": 3
   },
   "file_extension": ".py",
   "mimetype": "text/x-python",
   "name": "python",
   "nbconvert_exporter": "python",
   "pygments_lexer": "ipython3",
   "version": "3.7.12"
  },
  "papermill": {
   "default_parameters": {},
   "duration": 435.546583,
   "end_time": "2021-12-07T06:36:30.763117",
   "environment_variables": {},
   "exception": null,
   "input_path": "__notebook__.ipynb",
   "output_path": "__notebook__.ipynb",
   "parameters": {},
   "start_time": "2021-12-07T06:29:15.216534",
   "version": "2.3.3"
  }
 },
 "nbformat": 4,
 "nbformat_minor": 5
}
