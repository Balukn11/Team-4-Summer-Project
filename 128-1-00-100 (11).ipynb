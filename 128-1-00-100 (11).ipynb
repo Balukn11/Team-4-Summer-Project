{
 "cells": [
  {
   "cell_type": "code",
   "execution_count": 1,
   "id": "de424c4f",
   "metadata": {
    "_cell_guid": "b1076dfc-b9ad-4769-8c92-a6c4dae69d19",
    "_uuid": "8f2839f25d086af736a60e9eeb907d3b93b6e0e5",
    "execution": {
     "iopub.execute_input": "2021-12-13T07:56:47.482850Z",
     "iopub.status.busy": "2021-12-13T07:56:47.482061Z",
     "iopub.status.idle": "2021-12-13T07:56:47.486147Z",
     "shell.execute_reply": "2021-12-13T07:56:47.485590Z"
    },
    "papermill": {
     "duration": 0.028422,
     "end_time": "2021-12-13T07:56:47.486279",
     "exception": false,
     "start_time": "2021-12-13T07:56:47.457857",
     "status": "completed"
    },
    "tags": []
   },
   "outputs": [],
   "source": [
    "img_size = [227,227] #List which stores the resolution\n",
    "main_train = '../input/mit-split-crack/50/Train' #Stores the path of the train directory\n",
    "main_test = '../input/mit-split-crack/50/Test' #Stores the path of the test directory"
   ]
  },
  {
   "cell_type": "markdown",
   "id": "fc5412fd",
   "metadata": {
    "papermill": {
     "duration": 0.012308,
     "end_time": "2021-12-13T07:56:47.511879",
     "exception": false,
     "start_time": "2021-12-13T07:56:47.499571",
     "status": "completed"
    },
    "tags": []
   },
   "source": [
    "# **Import Statements**"
   ]
  },
  {
   "cell_type": "code",
   "execution_count": 2,
   "id": "16f3bdd1",
   "metadata": {
    "execution": {
     "iopub.execute_input": "2021-12-13T07:56:47.542790Z",
     "iopub.status.busy": "2021-12-13T07:56:47.542130Z",
     "iopub.status.idle": "2021-12-13T07:56:52.574714Z",
     "shell.execute_reply": "2021-12-13T07:56:52.575187Z"
    },
    "papermill": {
     "duration": 5.049554,
     "end_time": "2021-12-13T07:56:52.575346",
     "exception": false,
     "start_time": "2021-12-13T07:56:47.525792",
     "status": "completed"
    },
    "tags": []
   },
   "outputs": [],
   "source": [
    "from tensorflow.keras.layers import Input,Dense,Flatten,Dropout\n",
    "from tensorflow.keras.models import Model,Sequential\n",
    "from tensorflow.keras.applications.vgg16 import VGG16,preprocess_input\n",
    "from matplotlib import pyplot as plt\n",
    "import numpy as np\n",
    "from tensorflow.keras.preprocessing import image\n",
    "from tensorflow.keras.optimizers import Adam\n",
    "from tensorflow.keras.preprocessing.image import ImageDataGenerator"
   ]
  },
  {
   "cell_type": "markdown",
   "id": "7e1c9e83",
   "metadata": {
    "papermill": {
     "duration": 0.014453,
     "end_time": "2021-12-13T07:56:52.603309",
     "exception": false,
     "start_time": "2021-12-13T07:56:52.588856",
     "status": "completed"
    },
    "tags": []
   },
   "source": [
    "# **VGG16 Model Building**"
   ]
  },
  {
   "cell_type": "code",
   "execution_count": 3,
   "id": "32667370",
   "metadata": {
    "execution": {
     "iopub.execute_input": "2021-12-13T07:56:52.636138Z",
     "iopub.status.busy": "2021-12-13T07:56:52.635607Z",
     "iopub.status.idle": "2021-12-13T07:56:55.661798Z",
     "shell.execute_reply": "2021-12-13T07:56:55.661280Z"
    },
    "papermill": {
     "duration": 3.045396,
     "end_time": "2021-12-13T07:56:55.661932",
     "exception": false,
     "start_time": "2021-12-13T07:56:52.616536",
     "status": "completed"
    },
    "tags": []
   },
   "outputs": [
    {
     "name": "stderr",
     "output_type": "stream",
     "text": [
      "2021-12-13 07:56:52.723579: I tensorflow/stream_executor/cuda/cuda_gpu_executor.cc:937] successful NUMA node read from SysFS had negative value (-1), but there must be at least one NUMA node, so returning NUMA node zero\n",
      "2021-12-13 07:56:52.822911: I tensorflow/stream_executor/cuda/cuda_gpu_executor.cc:937] successful NUMA node read from SysFS had negative value (-1), but there must be at least one NUMA node, so returning NUMA node zero\n",
      "2021-12-13 07:56:52.823720: I tensorflow/stream_executor/cuda/cuda_gpu_executor.cc:937] successful NUMA node read from SysFS had negative value (-1), but there must be at least one NUMA node, so returning NUMA node zero\n",
      "2021-12-13 07:56:52.825083: I tensorflow/core/platform/cpu_feature_guard.cc:142] This TensorFlow binary is optimized with oneAPI Deep Neural Network Library (oneDNN) to use the following CPU instructions in performance-critical operations:  AVX2 AVX512F FMA\n",
      "To enable them in other operations, rebuild TensorFlow with the appropriate compiler flags.\n",
      "2021-12-13 07:56:52.826285: I tensorflow/stream_executor/cuda/cuda_gpu_executor.cc:937] successful NUMA node read from SysFS had negative value (-1), but there must be at least one NUMA node, so returning NUMA node zero\n",
      "2021-12-13 07:56:52.827530: I tensorflow/stream_executor/cuda/cuda_gpu_executor.cc:937] successful NUMA node read from SysFS had negative value (-1), but there must be at least one NUMA node, so returning NUMA node zero\n",
      "2021-12-13 07:56:52.828468: I tensorflow/stream_executor/cuda/cuda_gpu_executor.cc:937] successful NUMA node read from SysFS had negative value (-1), but there must be at least one NUMA node, so returning NUMA node zero\n",
      "2021-12-13 07:56:54.596887: I tensorflow/stream_executor/cuda/cuda_gpu_executor.cc:937] successful NUMA node read from SysFS had negative value (-1), but there must be at least one NUMA node, so returning NUMA node zero\n",
      "2021-12-13 07:56:54.597701: I tensorflow/stream_executor/cuda/cuda_gpu_executor.cc:937] successful NUMA node read from SysFS had negative value (-1), but there must be at least one NUMA node, so returning NUMA node zero\n",
      "2021-12-13 07:56:54.598391: I tensorflow/stream_executor/cuda/cuda_gpu_executor.cc:937] successful NUMA node read from SysFS had negative value (-1), but there must be at least one NUMA node, so returning NUMA node zero\n",
      "2021-12-13 07:56:54.599040: I tensorflow/core/common_runtime/gpu/gpu_device.cc:1510] Created device /job:localhost/replica:0/task:0/device:GPU:0 with 15403 MB memory:  -> device: 0, name: Tesla P100-PCIE-16GB, pci bus id: 0000:00:04.0, compute capability: 6.0\n"
     ]
    },
    {
     "name": "stdout",
     "output_type": "stream",
     "text": [
      "Downloading data from https://storage.googleapis.com/tensorflow/keras-applications/vgg16/vgg16_weights_tf_dim_ordering_tf_kernels_notop.h5\n",
      "58892288/58889256 [==============================] - 0s 0us/step\n",
      "58900480/58889256 [==============================] - 0s 0us/step\n"
     ]
    }
   ],
   "source": [
    "vgg_model = VGG16(include_top=False,\n",
    "    weights=\"imagenet\",\n",
    "    input_shape=img_size + [3])\n",
    "\n",
    "# Loading the VGG16 pre trained model\n",
    "\n",
    "# include_top - this specifies whether the final layer before the output layer has to be include \n",
    "# or not. If included then there will be 1000 number of classes at the output.\n",
    "\n",
    "# Weights are trained using imagenet"
   ]
  },
  {
   "cell_type": "code",
   "execution_count": 4,
   "id": "ed1790a9",
   "metadata": {
    "execution": {
     "iopub.execute_input": "2021-12-13T07:56:55.703636Z",
     "iopub.status.busy": "2021-12-13T07:56:55.699598Z",
     "iopub.status.idle": "2021-12-13T07:56:55.711121Z",
     "shell.execute_reply": "2021-12-13T07:56:55.711673Z"
    },
    "papermill": {
     "duration": 0.033571,
     "end_time": "2021-12-13T07:56:55.711845",
     "exception": false,
     "start_time": "2021-12-13T07:56:55.678274",
     "status": "completed"
    },
    "tags": []
   },
   "outputs": [
    {
     "name": "stdout",
     "output_type": "stream",
     "text": [
      "Model: \"vgg16\"\n",
      "_________________________________________________________________\n",
      "Layer (type)                 Output Shape              Param #   \n",
      "=================================================================\n",
      "input_1 (InputLayer)         [(None, 227, 227, 3)]     0         \n",
      "_________________________________________________________________\n",
      "block1_conv1 (Conv2D)        (None, 227, 227, 64)      1792      \n",
      "_________________________________________________________________\n",
      "block1_conv2 (Conv2D)        (None, 227, 227, 64)      36928     \n",
      "_________________________________________________________________\n",
      "block1_pool (MaxPooling2D)   (None, 113, 113, 64)      0         \n",
      "_________________________________________________________________\n",
      "block2_conv1 (Conv2D)        (None, 113, 113, 128)     73856     \n",
      "_________________________________________________________________\n",
      "block2_conv2 (Conv2D)        (None, 113, 113, 128)     147584    \n",
      "_________________________________________________________________\n",
      "block2_pool (MaxPooling2D)   (None, 56, 56, 128)       0         \n",
      "_________________________________________________________________\n",
      "block3_conv1 (Conv2D)        (None, 56, 56, 256)       295168    \n",
      "_________________________________________________________________\n",
      "block3_conv2 (Conv2D)        (None, 56, 56, 256)       590080    \n",
      "_________________________________________________________________\n",
      "block3_conv3 (Conv2D)        (None, 56, 56, 256)       590080    \n",
      "_________________________________________________________________\n",
      "block3_pool (MaxPooling2D)   (None, 28, 28, 256)       0         \n",
      "_________________________________________________________________\n",
      "block4_conv1 (Conv2D)        (None, 28, 28, 512)       1180160   \n",
      "_________________________________________________________________\n",
      "block4_conv2 (Conv2D)        (None, 28, 28, 512)       2359808   \n",
      "_________________________________________________________________\n",
      "block4_conv3 (Conv2D)        (None, 28, 28, 512)       2359808   \n",
      "_________________________________________________________________\n",
      "block4_pool (MaxPooling2D)   (None, 14, 14, 512)       0         \n",
      "_________________________________________________________________\n",
      "block5_conv1 (Conv2D)        (None, 14, 14, 512)       2359808   \n",
      "_________________________________________________________________\n",
      "block5_conv2 (Conv2D)        (None, 14, 14, 512)       2359808   \n",
      "_________________________________________________________________\n",
      "block5_conv3 (Conv2D)        (None, 14, 14, 512)       2359808   \n",
      "_________________________________________________________________\n",
      "block5_pool (MaxPooling2D)   (None, 7, 7, 512)         0         \n",
      "=================================================================\n",
      "Total params: 14,714,688\n",
      "Trainable params: 14,714,688\n",
      "Non-trainable params: 0\n",
      "_________________________________________________________________\n"
     ]
    }
   ],
   "source": [
    "# To print the hidden layer summary of vgg model without top layer\n",
    "vgg_model.summary()"
   ]
  },
  {
   "cell_type": "code",
   "execution_count": 5,
   "id": "f9f48492",
   "metadata": {
    "execution": {
     "iopub.execute_input": "2021-12-13T07:56:55.747223Z",
     "iopub.status.busy": "2021-12-13T07:56:55.746468Z",
     "iopub.status.idle": "2021-12-13T07:56:55.751205Z",
     "shell.execute_reply": "2021-12-13T07:56:55.750700Z"
    },
    "papermill": {
     "duration": 0.022605,
     "end_time": "2021-12-13T07:56:55.751305",
     "exception": false,
     "start_time": "2021-12-13T07:56:55.728700",
     "status": "completed"
    },
    "tags": []
   },
   "outputs": [],
   "source": [
    "# To fix the weights of the pre trained model\n",
    "for lay in vgg_model.layers:\n",
    "    lay.trainable = False"
   ]
  },
  {
   "cell_type": "code",
   "execution_count": 6,
   "id": "120d0f26",
   "metadata": {
    "execution": {
     "iopub.execute_input": "2021-12-13T07:56:55.788532Z",
     "iopub.status.busy": "2021-12-13T07:56:55.787733Z",
     "iopub.status.idle": "2021-12-13T07:56:55.798123Z",
     "shell.execute_reply": "2021-12-13T07:56:55.797691Z"
    },
    "papermill": {
     "duration": 0.031257,
     "end_time": "2021-12-13T07:56:55.798221",
     "exception": false,
     "start_time": "2021-12-13T07:56:55.766964",
     "status": "completed"
    },
    "tags": []
   },
   "outputs": [
    {
     "name": "stdout",
     "output_type": "stream",
     "text": [
      "Model: \"vgg16\"\n",
      "_________________________________________________________________\n",
      "Layer (type)                 Output Shape              Param #   \n",
      "=================================================================\n",
      "input_1 (InputLayer)         [(None, 227, 227, 3)]     0         \n",
      "_________________________________________________________________\n",
      "block1_conv1 (Conv2D)        (None, 227, 227, 64)      1792      \n",
      "_________________________________________________________________\n",
      "block1_conv2 (Conv2D)        (None, 227, 227, 64)      36928     \n",
      "_________________________________________________________________\n",
      "block1_pool (MaxPooling2D)   (None, 113, 113, 64)      0         \n",
      "_________________________________________________________________\n",
      "block2_conv1 (Conv2D)        (None, 113, 113, 128)     73856     \n",
      "_________________________________________________________________\n",
      "block2_conv2 (Conv2D)        (None, 113, 113, 128)     147584    \n",
      "_________________________________________________________________\n",
      "block2_pool (MaxPooling2D)   (None, 56, 56, 128)       0         \n",
      "_________________________________________________________________\n",
      "block3_conv1 (Conv2D)        (None, 56, 56, 256)       295168    \n",
      "_________________________________________________________________\n",
      "block3_conv2 (Conv2D)        (None, 56, 56, 256)       590080    \n",
      "_________________________________________________________________\n",
      "block3_conv3 (Conv2D)        (None, 56, 56, 256)       590080    \n",
      "_________________________________________________________________\n",
      "block3_pool (MaxPooling2D)   (None, 28, 28, 256)       0         \n",
      "_________________________________________________________________\n",
      "block4_conv1 (Conv2D)        (None, 28, 28, 512)       1180160   \n",
      "_________________________________________________________________\n",
      "block4_conv2 (Conv2D)        (None, 28, 28, 512)       2359808   \n",
      "_________________________________________________________________\n",
      "block4_conv3 (Conv2D)        (None, 28, 28, 512)       2359808   \n",
      "_________________________________________________________________\n",
      "block4_pool (MaxPooling2D)   (None, 14, 14, 512)       0         \n",
      "_________________________________________________________________\n",
      "block5_conv1 (Conv2D)        (None, 14, 14, 512)       2359808   \n",
      "_________________________________________________________________\n",
      "block5_conv2 (Conv2D)        (None, 14, 14, 512)       2359808   \n",
      "_________________________________________________________________\n",
      "block5_conv3 (Conv2D)        (None, 14, 14, 512)       2359808   \n",
      "_________________________________________________________________\n",
      "block5_pool (MaxPooling2D)   (None, 7, 7, 512)         0         \n",
      "=================================================================\n",
      "Total params: 14,714,688\n",
      "Trainable params: 0\n",
      "Non-trainable params: 14,714,688\n",
      "_________________________________________________________________\n"
     ]
    }
   ],
   "source": [
    "vgg_model.summary()"
   ]
  },
  {
   "cell_type": "code",
   "execution_count": 7,
   "id": "037e33df",
   "metadata": {
    "execution": {
     "iopub.execute_input": "2021-12-13T07:56:55.833856Z",
     "iopub.status.busy": "2021-12-13T07:56:55.833323Z",
     "iopub.status.idle": "2021-12-13T07:56:55.850583Z",
     "shell.execute_reply": "2021-12-13T07:56:55.849948Z"
    },
    "papermill": {
     "duration": 0.036524,
     "end_time": "2021-12-13T07:56:55.850716",
     "exception": false,
     "start_time": "2021-12-13T07:56:55.814192",
     "status": "completed"
    },
    "tags": []
   },
   "outputs": [
    {
     "name": "stdout",
     "output_type": "stream",
     "text": [
      "2\n",
      "2\n"
     ]
    }
   ],
   "source": [
    "# to list out number of folders in train and test folder\n",
    "import os\n",
    "folders_train1 = os.listdir(main_train)\n",
    "print(len(folders_train1))\n",
    "\n",
    "folders_test1 = os.listdir(main_test)\n",
    "print(len(folders_test1))"
   ]
  },
  {
   "cell_type": "code",
   "execution_count": 8,
   "id": "dfc34e32",
   "metadata": {
    "execution": {
     "iopub.execute_input": "2021-12-13T07:56:55.889738Z",
     "iopub.status.busy": "2021-12-13T07:56:55.888964Z",
     "iopub.status.idle": "2021-12-13T07:56:55.892053Z",
     "shell.execute_reply": "2021-12-13T07:56:55.892450Z"
    },
    "papermill": {
     "duration": 0.024858,
     "end_time": "2021-12-13T07:56:55.892572",
     "exception": false,
     "start_time": "2021-12-13T07:56:55.867714",
     "status": "completed"
    },
    "tags": []
   },
   "outputs": [
    {
     "data": {
      "text/plain": [
       "<KerasTensor: shape=(None, 7, 7, 512) dtype=float32 (created by layer 'block5_pool')>"
      ]
     },
     "execution_count": 8,
     "metadata": {},
     "output_type": "execute_result"
    }
   ],
   "source": [
    "#outputs the last layer\n",
    "vgg_model.output"
   ]
  },
  {
   "cell_type": "code",
   "execution_count": 9,
   "id": "69f83676",
   "metadata": {
    "execution": {
     "iopub.execute_input": "2021-12-13T07:56:55.930247Z",
     "iopub.status.busy": "2021-12-13T07:56:55.929569Z",
     "iopub.status.idle": "2021-12-13T07:56:55.932233Z",
     "shell.execute_reply": "2021-12-13T07:56:55.932708Z"
    },
    "papermill": {
     "duration": 0.023516,
     "end_time": "2021-12-13T07:56:55.932826",
     "exception": false,
     "start_time": "2021-12-13T07:56:55.909310",
     "status": "completed"
    },
    "tags": []
   },
   "outputs": [
    {
     "data": {
      "text/plain": [
       "<KerasTensor: shape=(None, 227, 227, 3) dtype=float32 (created by layer 'input_1')>"
      ]
     },
     "execution_count": 9,
     "metadata": {},
     "output_type": "execute_result"
    }
   ],
   "source": [
    "#inputs of the layer\n",
    "vgg_model.input"
   ]
  },
  {
   "cell_type": "code",
   "execution_count": 10,
   "id": "a3f1d1cb",
   "metadata": {
    "execution": {
     "iopub.execute_input": "2021-12-13T07:56:55.972977Z",
     "iopub.status.busy": "2021-12-13T07:56:55.972030Z",
     "iopub.status.idle": "2021-12-13T07:56:56.009305Z",
     "shell.execute_reply": "2021-12-13T07:56:56.009855Z"
    },
    "papermill": {
     "duration": 0.0602,
     "end_time": "2021-12-13T07:56:56.010028",
     "exception": false,
     "start_time": "2021-12-13T07:56:55.949828",
     "status": "completed"
    },
    "tags": []
   },
   "outputs": [
    {
     "name": "stdout",
     "output_type": "stream",
     "text": [
      "Model: \"model\"\n",
      "_________________________________________________________________\n",
      "Layer (type)                 Output Shape              Param #   \n",
      "=================================================================\n",
      "input_1 (InputLayer)         [(None, 227, 227, 3)]     0         \n",
      "_________________________________________________________________\n",
      "block1_conv1 (Conv2D)        (None, 227, 227, 64)      1792      \n",
      "_________________________________________________________________\n",
      "block1_conv2 (Conv2D)        (None, 227, 227, 64)      36928     \n",
      "_________________________________________________________________\n",
      "block1_pool (MaxPooling2D)   (None, 113, 113, 64)      0         \n",
      "_________________________________________________________________\n",
      "block2_conv1 (Conv2D)        (None, 113, 113, 128)     73856     \n",
      "_________________________________________________________________\n",
      "block2_conv2 (Conv2D)        (None, 113, 113, 128)     147584    \n",
      "_________________________________________________________________\n",
      "block2_pool (MaxPooling2D)   (None, 56, 56, 128)       0         \n",
      "_________________________________________________________________\n",
      "block3_conv1 (Conv2D)        (None, 56, 56, 256)       295168    \n",
      "_________________________________________________________________\n",
      "block3_conv2 (Conv2D)        (None, 56, 56, 256)       590080    \n",
      "_________________________________________________________________\n",
      "block3_conv3 (Conv2D)        (None, 56, 56, 256)       590080    \n",
      "_________________________________________________________________\n",
      "block3_pool (MaxPooling2D)   (None, 28, 28, 256)       0         \n",
      "_________________________________________________________________\n",
      "block4_conv1 (Conv2D)        (None, 28, 28, 512)       1180160   \n",
      "_________________________________________________________________\n",
      "block4_conv2 (Conv2D)        (None, 28, 28, 512)       2359808   \n",
      "_________________________________________________________________\n",
      "block4_conv3 (Conv2D)        (None, 28, 28, 512)       2359808   \n",
      "_________________________________________________________________\n",
      "block4_pool (MaxPooling2D)   (None, 14, 14, 512)       0         \n",
      "_________________________________________________________________\n",
      "block5_conv1 (Conv2D)        (None, 14, 14, 512)       2359808   \n",
      "_________________________________________________________________\n",
      "block5_conv2 (Conv2D)        (None, 14, 14, 512)       2359808   \n",
      "_________________________________________________________________\n",
      "block5_conv3 (Conv2D)        (None, 14, 14, 512)       2359808   \n",
      "_________________________________________________________________\n",
      "block5_pool (MaxPooling2D)   (None, 7, 7, 512)         0         \n",
      "_________________________________________________________________\n",
      "first_flatten (Flatten)      (None, 25088)             0         \n",
      "_________________________________________________________________\n",
      "dense (Dense)                (None, 128)               3211392   \n",
      "_________________________________________________________________\n",
      "dropout (Dropout)            (None, 128)               0         \n",
      "_________________________________________________________________\n",
      "dense_1 (Dense)              (None, 2)                 258       \n",
      "=================================================================\n",
      "Total params: 17,926,338\n",
      "Trainable params: 3,211,650\n",
      "Non-trainable params: 14,714,688\n",
      "_________________________________________________________________\n"
     ]
    }
   ],
   "source": [
    "# Flatten() is used to convert the last layer to vector or as fully connected\n",
    "x = Flatten(name=\"first_flatten\")(vgg_model.output)\n",
    "# Dense() is a fully connected layer and produces 128 outputs.\n",
    "# relu layer is used to convert the negative nubers to 0 and retains +ve as such.\n",
    "pred = Dense(128, activation=\"relu\")(x)\n",
    "#Dropout() layer is used to randomly remove 50% of the networks.\n",
    "pred = Dropout(0.5)(pred)\n",
    "# Dense() layer is added such that it outputs only two classess \n",
    "# Softmax activation layer produces probabilities for different classess.\n",
    "pred = Dense(2,activation='softmax')(pred)\n",
    "# Model() is used to group layers\n",
    "model = Model(inputs=vgg_model.input,outputs=pred)\n",
    "model.summary()"
   ]
  },
  {
   "cell_type": "markdown",
   "id": "8fca84ef",
   "metadata": {
    "papermill": {
     "duration": 0.017704,
     "end_time": "2021-12-13T07:56:56.046182",
     "exception": false,
     "start_time": "2021-12-13T07:56:56.028478",
     "status": "completed"
    },
    "tags": []
   },
   "source": [
    "# **Image Augmentation**"
   ]
  },
  {
   "cell_type": "code",
   "execution_count": 11,
   "id": "502ad03d",
   "metadata": {
    "execution": {
     "iopub.execute_input": "2021-12-13T07:56:56.088566Z",
     "iopub.status.busy": "2021-12-13T07:56:56.087879Z",
     "iopub.status.idle": "2021-12-13T07:57:03.451620Z",
     "shell.execute_reply": "2021-12-13T07:57:03.452048Z"
    },
    "papermill": {
     "duration": 7.388151,
     "end_time": "2021-12-13T07:57:03.452205",
     "exception": false,
     "start_time": "2021-12-13T07:56:56.064054",
     "status": "completed"
    },
    "tags": []
   },
   "outputs": [
    {
     "name": "stdout",
     "output_type": "stream",
     "text": [
      "Found 15904 images belonging to 2 classes.\n",
      "Found 3958 images belonging to 2 classes.\n"
     ]
    }
   ],
   "source": [
    "#ImageDataGenerator is used to modify the train and test images w.r.t the properties mentioned\n",
    "train_datagen = ImageDataGenerator(rescale = 1/255.0,\n",
    "                                   shear_range = 0.2,\n",
    "                                   zoom_range = 0.2,\n",
    "                                   rotation_range=20,\n",
    "                                   width_shift_range=0.2, \n",
    "                                   height_shift_range=0.2,\n",
    "                                   horizontal_flip = True)\n",
    "\n",
    "test_datagen = ImageDataGenerator(rescale = 1/255.0,\n",
    "                                   shear_range = 0.2,\n",
    "                                   zoom_range = 0.2,\n",
    "                                   rotation_range=20,\n",
    "                                   width_shift_range=0.2, \n",
    "                                   height_shift_range=0.2,\n",
    "                                   horizontal_flip = True)\n",
    "\n",
    "# flow_from_directory() is used to convert all the images in the specific directory\n",
    "training_set = train_datagen.flow_from_directory(directory = main_train,\n",
    "                                                 target_size = (227,227),\n",
    "                                                 batch_size = 500,\n",
    "                                                 )\n",
    "\n",
    "test_set = test_datagen.flow_from_directory(directory = main_test,\n",
    "                                                 target_size = (227,227),\n",
    "                                                 batch_size = 500,\n",
    "                                                 )"
   ]
  },
  {
   "cell_type": "code",
   "execution_count": 12,
   "id": "a2614934",
   "metadata": {
    "execution": {
     "iopub.execute_input": "2021-12-13T07:57:03.494255Z",
     "iopub.status.busy": "2021-12-13T07:57:03.493641Z",
     "iopub.status.idle": "2021-12-13T07:57:03.496165Z",
     "shell.execute_reply": "2021-12-13T07:57:03.496574Z"
    },
    "papermill": {
     "duration": 0.025639,
     "end_time": "2021-12-13T07:57:03.496694",
     "exception": false,
     "start_time": "2021-12-13T07:57:03.471055",
     "status": "completed"
    },
    "tags": []
   },
   "outputs": [
    {
     "data": {
      "text/plain": [
       "{'Negative': 0, 'Positive': 1}"
      ]
     },
     "execution_count": 12,
     "metadata": {},
     "output_type": "execute_result"
    }
   ],
   "source": [
    "# Class_indices will display the respective class value\n",
    "training_set.class_indices"
   ]
  },
  {
   "cell_type": "code",
   "execution_count": 13,
   "id": "70a1651b",
   "metadata": {
    "execution": {
     "iopub.execute_input": "2021-12-13T07:57:03.538802Z",
     "iopub.status.busy": "2021-12-13T07:57:03.537958Z",
     "iopub.status.idle": "2021-12-13T07:57:03.541524Z",
     "shell.execute_reply": "2021-12-13T07:57:03.542048Z"
    },
    "papermill": {
     "duration": 0.026521,
     "end_time": "2021-12-13T07:57:03.542205",
     "exception": false,
     "start_time": "2021-12-13T07:57:03.515684",
     "status": "completed"
    },
    "tags": []
   },
   "outputs": [
    {
     "name": "stdout",
     "output_type": "stream",
     "text": [
      "32\n",
      "8\n"
     ]
    }
   ],
   "source": [
    "# To check no.of folders in each\n",
    "print(len(training_set))\n",
    "print(len(test_set))"
   ]
  },
  {
   "cell_type": "markdown",
   "id": "419d90f4",
   "metadata": {
    "papermill": {
     "duration": 0.01913,
     "end_time": "2021-12-13T07:57:03.581582",
     "exception": false,
     "start_time": "2021-12-13T07:57:03.562452",
     "status": "completed"
    },
    "tags": []
   },
   "source": [
    "# **Model Fitting**"
   ]
  },
  {
   "cell_type": "code",
   "execution_count": 14,
   "id": "0d3fda62",
   "metadata": {
    "execution": {
     "iopub.execute_input": "2021-12-13T07:57:03.629557Z",
     "iopub.status.busy": "2021-12-13T07:57:03.628779Z",
     "iopub.status.idle": "2021-12-13T07:57:03.635414Z",
     "shell.execute_reply": "2021-12-13T07:57:03.634970Z"
    },
    "papermill": {
     "duration": 0.034722,
     "end_time": "2021-12-13T07:57:03.635526",
     "exception": false,
     "start_time": "2021-12-13T07:57:03.600804",
     "status": "completed"
    },
    "tags": []
   },
   "outputs": [],
   "source": [
    "# Loss function is used to find the errors or deviations in learning process\n",
    "# Optimizer is used to optimize the input weights\n",
    "# Metrics is used to measure the performance\n",
    "model.compile(optimizer=Adam(learning_rate=1.00),\n",
    "    loss=\"binary_crossentropy\",\n",
    "    metrics=['accuracy'])"
   ]
  },
  {
   "cell_type": "code",
   "execution_count": 15,
   "id": "e3c9010f",
   "metadata": {
    "execution": {
     "iopub.execute_input": "2021-12-13T07:57:03.680049Z",
     "iopub.status.busy": "2021-12-13T07:57:03.679557Z",
     "iopub.status.idle": "2021-12-13T08:07:54.492457Z",
     "shell.execute_reply": "2021-12-13T08:07:54.492943Z"
    },
    "papermill": {
     "duration": 650.837835,
     "end_time": "2021-12-13T08:07:54.493110",
     "exception": false,
     "start_time": "2021-12-13T07:57:03.655275",
     "status": "completed"
    },
    "tags": []
   },
   "outputs": [
    {
     "name": "stderr",
     "output_type": "stream",
     "text": [
      "2021-12-13 07:57:10.342760: I tensorflow/compiler/mlir/mlir_graph_optimization_pass.cc:185] None of the MLIR Optimization Passes are enabled (registered 2)\n"
     ]
    },
    {
     "name": "stdout",
     "output_type": "stream",
     "text": [
      "Epoch 1/2\n"
     ]
    },
    {
     "name": "stderr",
     "output_type": "stream",
     "text": [
      "2021-12-13 07:57:19.005605: I tensorflow/stream_executor/cuda/cuda_dnn.cc:369] Loaded cuDNN version 8005\n",
      "2021-12-13 07:57:23.138214: W tensorflow/core/kernels/gpu_utils.cc:49] Failed to allocate memory for convolution redzone checking; skipping this check. This is benign and only means that we won't check cudnn for out-of-bounds reads and writes. This message will only be printed once.\n"
     ]
    },
    {
     "name": "stdout",
     "output_type": "stream",
     "text": [
      "32/32 [==============================] - 372s 11s/step - loss: 956.3652 - accuracy: 0.6161 - val_loss: 0.6695 - val_accuracy: 0.5043\n",
      "Epoch 2/2\n",
      "32/32 [==============================] - 261s 8s/step - loss: 12.0951 - accuracy: 0.5030 - val_loss: 623.4969 - val_accuracy: 0.4957\n"
     ]
    }
   ],
   "source": [
    "# fit() is used to train the model \n",
    "# len(training_set) is 32042/500 = 65\n",
    "# len(test_set) is 7958/500 = 16\n",
    "mod = model.fit(\n",
    "  training_set,\n",
    "  validation_data=test_set,\n",
    "  epochs=2,\n",
    "  steps_per_epoch=len(training_set),\n",
    "  validation_steps=len(test_set)\n",
    ")"
   ]
  },
  {
   "cell_type": "markdown",
   "id": "c7d67895",
   "metadata": {
    "papermill": {
     "duration": 0.037524,
     "end_time": "2021-12-13T08:07:54.568367",
     "exception": false,
     "start_time": "2021-12-13T08:07:54.530843",
     "status": "completed"
    },
    "tags": []
   },
   "source": [
    "# **Model Saving**"
   ]
  },
  {
   "cell_type": "code",
   "execution_count": 16,
   "id": "ab20d290",
   "metadata": {
    "execution": {
     "iopub.execute_input": "2021-12-13T08:07:54.659859Z",
     "iopub.status.busy": "2021-12-13T08:07:54.649204Z",
     "iopub.status.idle": "2021-12-13T08:07:54.911048Z",
     "shell.execute_reply": "2021-12-13T08:07:54.911507Z",
     "shell.execute_reply.started": "2021-12-07T04:35:02.891841Z"
    },
    "papermill": {
     "duration": 0.305863,
     "end_time": "2021-12-13T08:07:54.911683",
     "exception": false,
     "start_time": "2021-12-13T08:07:54.605820",
     "status": "completed"
    },
    "tags": []
   },
   "outputs": [
    {
     "data": {
      "text/plain": [
       "['128_1.00__50%']"
      ]
     },
     "execution_count": 16,
     "metadata": {},
     "output_type": "execute_result"
    }
   ],
   "source": [
    "# To save the particular model in .h5 format\n",
    "import tensorflow as tf\n",
    "from tensorflow.keras.models import load_model\n",
    "model.save('128_1.00__50%.h5')\n",
    "\n",
    "\n",
    "\n",
    "import joblib\n",
    "joblib.dump(mod.history,'128_1.00__50%')\n"
   ]
  },
  {
   "cell_type": "code",
   "execution_count": null,
   "id": "3adea242",
   "metadata": {
    "papermill": {
     "duration": 0.044457,
     "end_time": "2021-12-13T08:07:54.998453",
     "exception": false,
     "start_time": "2021-12-13T08:07:54.953996",
     "status": "completed"
    },
    "tags": []
   },
   "outputs": [],
   "source": []
  }
 ],
 "metadata": {
  "kernelspec": {
   "display_name": "Python 3",
   "language": "python",
   "name": "python3"
  },
  "language_info": {
   "codemirror_mode": {
    "name": "ipython",
    "version": 3
   },
   "file_extension": ".py",
   "mimetype": "text/x-python",
   "name": "python",
   "nbconvert_exporter": "python",
   "pygments_lexer": "ipython3",
   "version": "3.7.12"
  },
  "papermill": {
   "default_parameters": {},
   "duration": 679.590599,
   "end_time": "2021-12-13T08:07:58.645890",
   "environment_variables": {},
   "exception": null,
   "input_path": "__notebook__.ipynb",
   "output_path": "__notebook__.ipynb",
   "parameters": {},
   "start_time": "2021-12-13T07:56:39.055291",
   "version": "2.3.3"
  }
 },
 "nbformat": 4,
 "nbformat_minor": 5
}
