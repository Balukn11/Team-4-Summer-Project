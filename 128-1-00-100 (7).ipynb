{
 "cells": [
  {
   "cell_type": "code",
   "execution_count": 1,
   "id": "2a49bdc3",
   "metadata": {
    "_cell_guid": "b1076dfc-b9ad-4769-8c92-a6c4dae69d19",
    "_uuid": "8f2839f25d086af736a60e9eeb907d3b93b6e0e5",
    "execution": {
     "iopub.execute_input": "2021-12-07T05:29:36.562629Z",
     "iopub.status.busy": "2021-12-07T05:29:36.561784Z",
     "iopub.status.idle": "2021-12-07T05:29:36.565431Z",
     "shell.execute_reply": "2021-12-07T05:29:36.564956Z"
    },
    "papermill": {
     "duration": 0.031154,
     "end_time": "2021-12-07T05:29:36.565569",
     "exception": false,
     "start_time": "2021-12-07T05:29:36.534415",
     "status": "completed"
    },
    "tags": []
   },
   "outputs": [],
   "source": [
    "img_size = [227,227] #List which stores the resolution\n",
    "main_train = '../input/mit-split-crack/50/Train' #Stores the path of the train directory\n",
    "main_test = '../input/mit-split-crack/50/Test' #Stores the path of the test directory"
   ]
  },
  {
   "cell_type": "markdown",
   "id": "654ede7d",
   "metadata": {
    "papermill": {
     "duration": 0.011928,
     "end_time": "2021-12-07T05:29:36.590129",
     "exception": false,
     "start_time": "2021-12-07T05:29:36.578201",
     "status": "completed"
    },
    "tags": []
   },
   "source": [
    "# **Import Statements**"
   ]
  },
  {
   "cell_type": "code",
   "execution_count": 2,
   "id": "39cc5eae",
   "metadata": {
    "execution": {
     "iopub.execute_input": "2021-12-07T05:29:36.618807Z",
     "iopub.status.busy": "2021-12-07T05:29:36.618215Z",
     "iopub.status.idle": "2021-12-07T05:29:41.455799Z",
     "shell.execute_reply": "2021-12-07T05:29:41.455270Z"
    },
    "papermill": {
     "duration": 4.853856,
     "end_time": "2021-12-07T05:29:41.455931",
     "exception": false,
     "start_time": "2021-12-07T05:29:36.602075",
     "status": "completed"
    },
    "tags": []
   },
   "outputs": [],
   "source": [
    "from tensorflow.keras.layers import Input,Dense,Flatten,Dropout\n",
    "from tensorflow.keras.models import Model,Sequential\n",
    "from tensorflow.keras.applications.vgg16 import VGG16,preprocess_input\n",
    "from matplotlib import pyplot as plt\n",
    "import numpy as np\n",
    "from tensorflow.keras.preprocessing import image\n",
    "from tensorflow.keras.optimizers import Adam\n",
    "from tensorflow.keras.preprocessing.image import ImageDataGenerator"
   ]
  },
  {
   "cell_type": "markdown",
   "id": "a85afe86",
   "metadata": {
    "papermill": {
     "duration": 0.012107,
     "end_time": "2021-12-07T05:29:41.480812",
     "exception": false,
     "start_time": "2021-12-07T05:29:41.468705",
     "status": "completed"
    },
    "tags": []
   },
   "source": [
    "# **VGG16 Model Building**"
   ]
  },
  {
   "cell_type": "code",
   "execution_count": 3,
   "id": "df8f8b05",
   "metadata": {
    "execution": {
     "iopub.execute_input": "2021-12-07T05:29:41.511777Z",
     "iopub.status.busy": "2021-12-07T05:29:41.511011Z",
     "iopub.status.idle": "2021-12-07T05:29:44.292619Z",
     "shell.execute_reply": "2021-12-07T05:29:44.293074Z"
    },
    "papermill": {
     "duration": 2.800292,
     "end_time": "2021-12-07T05:29:44.293234",
     "exception": false,
     "start_time": "2021-12-07T05:29:41.492942",
     "status": "completed"
    },
    "tags": []
   },
   "outputs": [
    {
     "name": "stderr",
     "output_type": "stream",
     "text": [
      "2021-12-07 05:29:41.593363: I tensorflow/stream_executor/cuda/cuda_gpu_executor.cc:937] successful NUMA node read from SysFS had negative value (-1), but there must be at least one NUMA node, so returning NUMA node zero\n",
      "2021-12-07 05:29:41.697899: I tensorflow/stream_executor/cuda/cuda_gpu_executor.cc:937] successful NUMA node read from SysFS had negative value (-1), but there must be at least one NUMA node, so returning NUMA node zero\n",
      "2021-12-07 05:29:41.698560: I tensorflow/stream_executor/cuda/cuda_gpu_executor.cc:937] successful NUMA node read from SysFS had negative value (-1), but there must be at least one NUMA node, so returning NUMA node zero\n",
      "2021-12-07 05:29:41.699834: I tensorflow/core/platform/cpu_feature_guard.cc:142] This TensorFlow binary is optimized with oneAPI Deep Neural Network Library (oneDNN) to use the following CPU instructions in performance-critical operations:  AVX2 AVX512F FMA\n",
      "To enable them in other operations, rebuild TensorFlow with the appropriate compiler flags.\n",
      "2021-12-07 05:29:41.700587: I tensorflow/stream_executor/cuda/cuda_gpu_executor.cc:937] successful NUMA node read from SysFS had negative value (-1), but there must be at least one NUMA node, so returning NUMA node zero\n",
      "2021-12-07 05:29:41.701260: I tensorflow/stream_executor/cuda/cuda_gpu_executor.cc:937] successful NUMA node read from SysFS had negative value (-1), but there must be at least one NUMA node, so returning NUMA node zero\n",
      "2021-12-07 05:29:41.701908: I tensorflow/stream_executor/cuda/cuda_gpu_executor.cc:937] successful NUMA node read from SysFS had negative value (-1), but there must be at least one NUMA node, so returning NUMA node zero\n",
      "2021-12-07 05:29:43.308109: I tensorflow/stream_executor/cuda/cuda_gpu_executor.cc:937] successful NUMA node read from SysFS had negative value (-1), but there must be at least one NUMA node, so returning NUMA node zero\n",
      "2021-12-07 05:29:43.308902: I tensorflow/stream_executor/cuda/cuda_gpu_executor.cc:937] successful NUMA node read from SysFS had negative value (-1), but there must be at least one NUMA node, so returning NUMA node zero\n",
      "2021-12-07 05:29:43.309506: I tensorflow/stream_executor/cuda/cuda_gpu_executor.cc:937] successful NUMA node read from SysFS had negative value (-1), but there must be at least one NUMA node, so returning NUMA node zero\n",
      "2021-12-07 05:29:43.310125: I tensorflow/core/common_runtime/gpu/gpu_device.cc:1510] Created device /job:localhost/replica:0/task:0/device:GPU:0 with 15403 MB memory:  -> device: 0, name: Tesla P100-PCIE-16GB, pci bus id: 0000:00:04.0, compute capability: 6.0\n"
     ]
    },
    {
     "name": "stdout",
     "output_type": "stream",
     "text": [
      "Downloading data from https://storage.googleapis.com/tensorflow/keras-applications/vgg16/vgg16_weights_tf_dim_ordering_tf_kernels_notop.h5\n",
      "58892288/58889256 [==============================] - 0s 0us/step\n",
      "58900480/58889256 [==============================] - 0s 0us/step\n"
     ]
    }
   ],
   "source": [
    "vgg_model = VGG16(include_top=False,\n",
    "    weights=\"imagenet\",\n",
    "    input_shape=img_size + [3])\n",
    "\n",
    "# Loading the VGG16 pre trained model\n",
    "\n",
    "# include_top - this specifies whether the final layer before the output layer has to be include \n",
    "# or not. If included then there will be 1000 number of classes at the output.\n",
    "\n",
    "# Weights are trained using imagenet"
   ]
  },
  {
   "cell_type": "code",
   "execution_count": 4,
   "id": "4bb504ef",
   "metadata": {
    "execution": {
     "iopub.execute_input": "2021-12-07T05:29:44.334448Z",
     "iopub.status.busy": "2021-12-07T05:29:44.332994Z",
     "iopub.status.idle": "2021-12-07T05:29:44.340199Z",
     "shell.execute_reply": "2021-12-07T05:29:44.339743Z"
    },
    "papermill": {
     "duration": 0.031181,
     "end_time": "2021-12-07T05:29:44.340311",
     "exception": false,
     "start_time": "2021-12-07T05:29:44.309130",
     "status": "completed"
    },
    "tags": []
   },
   "outputs": [
    {
     "name": "stdout",
     "output_type": "stream",
     "text": [
      "Model: \"vgg16\"\n",
      "_________________________________________________________________\n",
      "Layer (type)                 Output Shape              Param #   \n",
      "=================================================================\n",
      "input_1 (InputLayer)         [(None, 227, 227, 3)]     0         \n",
      "_________________________________________________________________\n",
      "block1_conv1 (Conv2D)        (None, 227, 227, 64)      1792      \n",
      "_________________________________________________________________\n",
      "block1_conv2 (Conv2D)        (None, 227, 227, 64)      36928     \n",
      "_________________________________________________________________\n",
      "block1_pool (MaxPooling2D)   (None, 113, 113, 64)      0         \n",
      "_________________________________________________________________\n",
      "block2_conv1 (Conv2D)        (None, 113, 113, 128)     73856     \n",
      "_________________________________________________________________\n",
      "block2_conv2 (Conv2D)        (None, 113, 113, 128)     147584    \n",
      "_________________________________________________________________\n",
      "block2_pool (MaxPooling2D)   (None, 56, 56, 128)       0         \n",
      "_________________________________________________________________\n",
      "block3_conv1 (Conv2D)        (None, 56, 56, 256)       295168    \n",
      "_________________________________________________________________\n",
      "block3_conv2 (Conv2D)        (None, 56, 56, 256)       590080    \n",
      "_________________________________________________________________\n",
      "block3_conv3 (Conv2D)        (None, 56, 56, 256)       590080    \n",
      "_________________________________________________________________\n",
      "block3_pool (MaxPooling2D)   (None, 28, 28, 256)       0         \n",
      "_________________________________________________________________\n",
      "block4_conv1 (Conv2D)        (None, 28, 28, 512)       1180160   \n",
      "_________________________________________________________________\n",
      "block4_conv2 (Conv2D)        (None, 28, 28, 512)       2359808   \n",
      "_________________________________________________________________\n",
      "block4_conv3 (Conv2D)        (None, 28, 28, 512)       2359808   \n",
      "_________________________________________________________________\n",
      "block4_pool (MaxPooling2D)   (None, 14, 14, 512)       0         \n",
      "_________________________________________________________________\n",
      "block5_conv1 (Conv2D)        (None, 14, 14, 512)       2359808   \n",
      "_________________________________________________________________\n",
      "block5_conv2 (Conv2D)        (None, 14, 14, 512)       2359808   \n",
      "_________________________________________________________________\n",
      "block5_conv3 (Conv2D)        (None, 14, 14, 512)       2359808   \n",
      "_________________________________________________________________\n",
      "block5_pool (MaxPooling2D)   (None, 7, 7, 512)         0         \n",
      "=================================================================\n",
      "Total params: 14,714,688\n",
      "Trainable params: 14,714,688\n",
      "Non-trainable params: 0\n",
      "_________________________________________________________________\n"
     ]
    }
   ],
   "source": [
    "# To print the hidden layer summary of vgg model without top layer\n",
    "vgg_model.summary()"
   ]
  },
  {
   "cell_type": "code",
   "execution_count": 5,
   "id": "ce8ec5b8",
   "metadata": {
    "execution": {
     "iopub.execute_input": "2021-12-07T05:29:44.375916Z",
     "iopub.status.busy": "2021-12-07T05:29:44.375126Z",
     "iopub.status.idle": "2021-12-07T05:29:44.377406Z",
     "shell.execute_reply": "2021-12-07T05:29:44.376912Z"
    },
    "papermill": {
     "duration": 0.02149,
     "end_time": "2021-12-07T05:29:44.377511",
     "exception": false,
     "start_time": "2021-12-07T05:29:44.356021",
     "status": "completed"
    },
    "tags": []
   },
   "outputs": [],
   "source": [
    "# To fix the weights of the pre trained model\n",
    "for lay in vgg_model.layers:\n",
    "    lay.trainable = False"
   ]
  },
  {
   "cell_type": "code",
   "execution_count": 6,
   "id": "0c9c7ce1",
   "metadata": {
    "execution": {
     "iopub.execute_input": "2021-12-07T05:29:44.416993Z",
     "iopub.status.busy": "2021-12-07T05:29:44.413937Z",
     "iopub.status.idle": "2021-12-07T05:29:44.424429Z",
     "shell.execute_reply": "2021-12-07T05:29:44.424013Z"
    },
    "papermill": {
     "duration": 0.031021,
     "end_time": "2021-12-07T05:29:44.424529",
     "exception": false,
     "start_time": "2021-12-07T05:29:44.393508",
     "status": "completed"
    },
    "tags": []
   },
   "outputs": [
    {
     "name": "stdout",
     "output_type": "stream",
     "text": [
      "Model: \"vgg16\"\n",
      "_________________________________________________________________\n",
      "Layer (type)                 Output Shape              Param #   \n",
      "=================================================================\n",
      "input_1 (InputLayer)         [(None, 227, 227, 3)]     0         \n",
      "_________________________________________________________________\n",
      "block1_conv1 (Conv2D)        (None, 227, 227, 64)      1792      \n",
      "_________________________________________________________________\n",
      "block1_conv2 (Conv2D)        (None, 227, 227, 64)      36928     \n",
      "_________________________________________________________________\n",
      "block1_pool (MaxPooling2D)   (None, 113, 113, 64)      0         \n",
      "_________________________________________________________________\n",
      "block2_conv1 (Conv2D)        (None, 113, 113, 128)     73856     \n",
      "_________________________________________________________________\n",
      "block2_conv2 (Conv2D)        (None, 113, 113, 128)     147584    \n",
      "_________________________________________________________________\n",
      "block2_pool (MaxPooling2D)   (None, 56, 56, 128)       0         \n",
      "_________________________________________________________________\n",
      "block3_conv1 (Conv2D)        (None, 56, 56, 256)       295168    \n",
      "_________________________________________________________________\n",
      "block3_conv2 (Conv2D)        (None, 56, 56, 256)       590080    \n",
      "_________________________________________________________________\n",
      "block3_conv3 (Conv2D)        (None, 56, 56, 256)       590080    \n",
      "_________________________________________________________________\n",
      "block3_pool (MaxPooling2D)   (None, 28, 28, 256)       0         \n",
      "_________________________________________________________________\n",
      "block4_conv1 (Conv2D)        (None, 28, 28, 512)       1180160   \n",
      "_________________________________________________________________\n",
      "block4_conv2 (Conv2D)        (None, 28, 28, 512)       2359808   \n",
      "_________________________________________________________________\n",
      "block4_conv3 (Conv2D)        (None, 28, 28, 512)       2359808   \n",
      "_________________________________________________________________\n",
      "block4_pool (MaxPooling2D)   (None, 14, 14, 512)       0         \n",
      "_________________________________________________________________\n",
      "block5_conv1 (Conv2D)        (None, 14, 14, 512)       2359808   \n",
      "_________________________________________________________________\n",
      "block5_conv2 (Conv2D)        (None, 14, 14, 512)       2359808   \n",
      "_________________________________________________________________\n",
      "block5_conv3 (Conv2D)        (None, 14, 14, 512)       2359808   \n",
      "_________________________________________________________________\n",
      "block5_pool (MaxPooling2D)   (None, 7, 7, 512)         0         \n",
      "=================================================================\n",
      "Total params: 14,714,688\n",
      "Trainable params: 0\n",
      "Non-trainable params: 14,714,688\n",
      "_________________________________________________________________\n"
     ]
    }
   ],
   "source": [
    "vgg_model.summary()"
   ]
  },
  {
   "cell_type": "code",
   "execution_count": 7,
   "id": "221b1c84",
   "metadata": {
    "execution": {
     "iopub.execute_input": "2021-12-07T05:29:44.459891Z",
     "iopub.status.busy": "2021-12-07T05:29:44.459303Z",
     "iopub.status.idle": "2021-12-07T05:29:44.474823Z",
     "shell.execute_reply": "2021-12-07T05:29:44.474355Z"
    },
    "papermill": {
     "duration": 0.034593,
     "end_time": "2021-12-07T05:29:44.474931",
     "exception": false,
     "start_time": "2021-12-07T05:29:44.440338",
     "status": "completed"
    },
    "tags": []
   },
   "outputs": [
    {
     "name": "stdout",
     "output_type": "stream",
     "text": [
      "2\n",
      "2\n"
     ]
    }
   ],
   "source": [
    "# to list out number of folders in train and test folder\n",
    "import os\n",
    "folders_train1 = os.listdir(main_train)\n",
    "print(len(folders_train1))\n",
    "\n",
    "folders_test1 = os.listdir(main_test)\n",
    "print(len(folders_test1))"
   ]
  },
  {
   "cell_type": "code",
   "execution_count": 8,
   "id": "c7b621f9",
   "metadata": {
    "execution": {
     "iopub.execute_input": "2021-12-07T05:29:44.510461Z",
     "iopub.status.busy": "2021-12-07T05:29:44.509701Z",
     "iopub.status.idle": "2021-12-07T05:29:44.516224Z",
     "shell.execute_reply": "2021-12-07T05:29:44.516683Z"
    },
    "papermill": {
     "duration": 0.025647,
     "end_time": "2021-12-07T05:29:44.516797",
     "exception": false,
     "start_time": "2021-12-07T05:29:44.491150",
     "status": "completed"
    },
    "tags": []
   },
   "outputs": [
    {
     "data": {
      "text/plain": [
       "<KerasTensor: shape=(None, 7, 7, 512) dtype=float32 (created by layer 'block5_pool')>"
      ]
     },
     "execution_count": 8,
     "metadata": {},
     "output_type": "execute_result"
    }
   ],
   "source": [
    "#outputs the last layer\n",
    "vgg_model.output"
   ]
  },
  {
   "cell_type": "code",
   "execution_count": 9,
   "id": "44fa806f",
   "metadata": {
    "execution": {
     "iopub.execute_input": "2021-12-07T05:29:44.554230Z",
     "iopub.status.busy": "2021-12-07T05:29:44.553558Z",
     "iopub.status.idle": "2021-12-07T05:29:44.556248Z",
     "shell.execute_reply": "2021-12-07T05:29:44.556659Z"
    },
    "papermill": {
     "duration": 0.023287,
     "end_time": "2021-12-07T05:29:44.556772",
     "exception": false,
     "start_time": "2021-12-07T05:29:44.533485",
     "status": "completed"
    },
    "tags": []
   },
   "outputs": [
    {
     "data": {
      "text/plain": [
       "<KerasTensor: shape=(None, 227, 227, 3) dtype=float32 (created by layer 'input_1')>"
      ]
     },
     "execution_count": 9,
     "metadata": {},
     "output_type": "execute_result"
    }
   ],
   "source": [
    "#inputs of the layer\n",
    "vgg_model.input"
   ]
  },
  {
   "cell_type": "code",
   "execution_count": 10,
   "id": "2ee9dece",
   "metadata": {
    "execution": {
     "iopub.execute_input": "2021-12-07T05:29:44.598425Z",
     "iopub.status.busy": "2021-12-07T05:29:44.597540Z",
     "iopub.status.idle": "2021-12-07T05:29:44.635796Z",
     "shell.execute_reply": "2021-12-07T05:29:44.635272Z"
    },
    "papermill": {
     "duration": 0.062256,
     "end_time": "2021-12-07T05:29:44.635923",
     "exception": false,
     "start_time": "2021-12-07T05:29:44.573667",
     "status": "completed"
    },
    "tags": []
   },
   "outputs": [
    {
     "name": "stdout",
     "output_type": "stream",
     "text": [
      "Model: \"model\"\n",
      "_________________________________________________________________\n",
      "Layer (type)                 Output Shape              Param #   \n",
      "=================================================================\n",
      "input_1 (InputLayer)         [(None, 227, 227, 3)]     0         \n",
      "_________________________________________________________________\n",
      "block1_conv1 (Conv2D)        (None, 227, 227, 64)      1792      \n",
      "_________________________________________________________________\n",
      "block1_conv2 (Conv2D)        (None, 227, 227, 64)      36928     \n",
      "_________________________________________________________________\n",
      "block1_pool (MaxPooling2D)   (None, 113, 113, 64)      0         \n",
      "_________________________________________________________________\n",
      "block2_conv1 (Conv2D)        (None, 113, 113, 128)     73856     \n",
      "_________________________________________________________________\n",
      "block2_conv2 (Conv2D)        (None, 113, 113, 128)     147584    \n",
      "_________________________________________________________________\n",
      "block2_pool (MaxPooling2D)   (None, 56, 56, 128)       0         \n",
      "_________________________________________________________________\n",
      "block3_conv1 (Conv2D)        (None, 56, 56, 256)       295168    \n",
      "_________________________________________________________________\n",
      "block3_conv2 (Conv2D)        (None, 56, 56, 256)       590080    \n",
      "_________________________________________________________________\n",
      "block3_conv3 (Conv2D)        (None, 56, 56, 256)       590080    \n",
      "_________________________________________________________________\n",
      "block3_pool (MaxPooling2D)   (None, 28, 28, 256)       0         \n",
      "_________________________________________________________________\n",
      "block4_conv1 (Conv2D)        (None, 28, 28, 512)       1180160   \n",
      "_________________________________________________________________\n",
      "block4_conv2 (Conv2D)        (None, 28, 28, 512)       2359808   \n",
      "_________________________________________________________________\n",
      "block4_conv3 (Conv2D)        (None, 28, 28, 512)       2359808   \n",
      "_________________________________________________________________\n",
      "block4_pool (MaxPooling2D)   (None, 14, 14, 512)       0         \n",
      "_________________________________________________________________\n",
      "block5_conv1 (Conv2D)        (None, 14, 14, 512)       2359808   \n",
      "_________________________________________________________________\n",
      "block5_conv2 (Conv2D)        (None, 14, 14, 512)       2359808   \n",
      "_________________________________________________________________\n",
      "block5_conv3 (Conv2D)        (None, 14, 14, 512)       2359808   \n",
      "_________________________________________________________________\n",
      "block5_pool (MaxPooling2D)   (None, 7, 7, 512)         0         \n",
      "_________________________________________________________________\n",
      "first_flatten (Flatten)      (None, 25088)             0         \n",
      "_________________________________________________________________\n",
      "dense (Dense)                (None, 128)               3211392   \n",
      "_________________________________________________________________\n",
      "dropout (Dropout)            (None, 128)               0         \n",
      "_________________________________________________________________\n",
      "dense_1 (Dense)              (None, 2)                 258       \n",
      "=================================================================\n",
      "Total params: 17,926,338\n",
      "Trainable params: 3,211,650\n",
      "Non-trainable params: 14,714,688\n",
      "_________________________________________________________________\n"
     ]
    }
   ],
   "source": [
    "# Flatten() is used to convert the last layer to vector or as fully connected\n",
    "x = Flatten(name=\"first_flatten\")(vgg_model.output)\n",
    "# Dense() is a fully connected layer and produces 128 outputs.\n",
    "# relu layer is used to convert the negative nubers to 0 and retains +ve as such.\n",
    "pred = Dense(128, activation=\"relu\")(x)\n",
    "#Dropout() layer is used to randomly remove 50% of the networks.\n",
    "pred = Dropout(0.5)(pred)\n",
    "# Dense() layer is added such that it outputs only two classess \n",
    "# Softmax activation layer produces probabilities for different classess.\n",
    "pred = Dense(2,activation='softmax')(pred)\n",
    "# Model() is used to group layers\n",
    "model = Model(inputs=vgg_model.input,outputs=pred)\n",
    "model.summary()"
   ]
  },
  {
   "cell_type": "markdown",
   "id": "06448720",
   "metadata": {
    "papermill": {
     "duration": 0.018584,
     "end_time": "2021-12-07T05:29:44.673307",
     "exception": false,
     "start_time": "2021-12-07T05:29:44.654723",
     "status": "completed"
    },
    "tags": []
   },
   "source": [
    "# **Image Augmentation**"
   ]
  },
  {
   "cell_type": "code",
   "execution_count": 11,
   "id": "2dd77ffb",
   "metadata": {
    "execution": {
     "iopub.execute_input": "2021-12-07T05:29:44.715401Z",
     "iopub.status.busy": "2021-12-07T05:29:44.714523Z",
     "iopub.status.idle": "2021-12-07T05:29:57.962715Z",
     "shell.execute_reply": "2021-12-07T05:29:57.963144Z"
    },
    "papermill": {
     "duration": 13.272615,
     "end_time": "2021-12-07T05:29:57.963406",
     "exception": false,
     "start_time": "2021-12-07T05:29:44.690791",
     "status": "completed"
    },
    "tags": []
   },
   "outputs": [
    {
     "name": "stdout",
     "output_type": "stream",
     "text": [
      "Found 15904 images belonging to 2 classes.\n",
      "Found 3958 images belonging to 2 classes.\n"
     ]
    }
   ],
   "source": [
    "#ImageDataGenerator is used to modify the train and test images w.r.t the properties mentioned\n",
    "train_datagen = ImageDataGenerator(rescale = 1/255.0,\n",
    "                                   shear_range = 0.2,\n",
    "                                   zoom_range = 0.2,\n",
    "                                   rotation_range=20,\n",
    "                                   width_shift_range=0.2, \n",
    "                                   height_shift_range=0.2,\n",
    "                                   horizontal_flip = True)\n",
    "\n",
    "test_datagen = ImageDataGenerator(rescale = 1/255.0,\n",
    "                                   shear_range = 0.2,\n",
    "                                   zoom_range = 0.2,\n",
    "                                   rotation_range=20,\n",
    "                                   width_shift_range=0.2, \n",
    "                                   height_shift_range=0.2,\n",
    "                                   horizontal_flip = True)\n",
    "\n",
    "# flow_from_directory() is used to convert all the images in the specific directory\n",
    "training_set = train_datagen.flow_from_directory(directory = main_train,\n",
    "                                                 target_size = (227,227),\n",
    "                                                 batch_size = 500,\n",
    "                                                 )\n",
    "\n",
    "test_set = test_datagen.flow_from_directory(directory = main_test,\n",
    "                                                 target_size = (227,227),\n",
    "                                                 batch_size = 500,\n",
    "                                                 )"
   ]
  },
  {
   "cell_type": "code",
   "execution_count": 12,
   "id": "29c05370",
   "metadata": {
    "execution": {
     "iopub.execute_input": "2021-12-07T05:29:58.006339Z",
     "iopub.status.busy": "2021-12-07T05:29:58.005538Z",
     "iopub.status.idle": "2021-12-07T05:29:58.008479Z",
     "shell.execute_reply": "2021-12-07T05:29:58.008905Z"
    },
    "papermill": {
     "duration": 0.02676,
     "end_time": "2021-12-07T05:29:58.009039",
     "exception": false,
     "start_time": "2021-12-07T05:29:57.982279",
     "status": "completed"
    },
    "tags": []
   },
   "outputs": [
    {
     "data": {
      "text/plain": [
       "{'Negative': 0, 'Positive': 1}"
      ]
     },
     "execution_count": 12,
     "metadata": {},
     "output_type": "execute_result"
    }
   ],
   "source": [
    "# Class_indices will display the respective class value\n",
    "training_set.class_indices"
   ]
  },
  {
   "cell_type": "code",
   "execution_count": 13,
   "id": "cea5ef9d",
   "metadata": {
    "execution": {
     "iopub.execute_input": "2021-12-07T05:29:58.051900Z",
     "iopub.status.busy": "2021-12-07T05:29:58.051250Z",
     "iopub.status.idle": "2021-12-07T05:29:58.053808Z",
     "shell.execute_reply": "2021-12-07T05:29:58.054217Z"
    },
    "papermill": {
     "duration": 0.026678,
     "end_time": "2021-12-07T05:29:58.054344",
     "exception": false,
     "start_time": "2021-12-07T05:29:58.027666",
     "status": "completed"
    },
    "tags": []
   },
   "outputs": [
    {
     "name": "stdout",
     "output_type": "stream",
     "text": [
      "32\n",
      "8\n"
     ]
    }
   ],
   "source": [
    "# To check no.of folders in each\n",
    "print(len(training_set))\n",
    "print(len(test_set))"
   ]
  },
  {
   "cell_type": "markdown",
   "id": "5b307dc1",
   "metadata": {
    "papermill": {
     "duration": 0.018881,
     "end_time": "2021-12-07T05:29:58.092151",
     "exception": false,
     "start_time": "2021-12-07T05:29:58.073270",
     "status": "completed"
    },
    "tags": []
   },
   "source": [
    "# **Model Fitting**"
   ]
  },
  {
   "cell_type": "code",
   "execution_count": 14,
   "id": "942c1f35",
   "metadata": {
    "execution": {
     "iopub.execute_input": "2021-12-07T05:29:58.141334Z",
     "iopub.status.busy": "2021-12-07T05:29:58.140434Z",
     "iopub.status.idle": "2021-12-07T05:29:58.147216Z",
     "shell.execute_reply": "2021-12-07T05:29:58.146321Z"
    },
    "papermill": {
     "duration": 0.035864,
     "end_time": "2021-12-07T05:29:58.147337",
     "exception": false,
     "start_time": "2021-12-07T05:29:58.111473",
     "status": "completed"
    },
    "tags": []
   },
   "outputs": [],
   "source": [
    "# Loss function is used to find the errors or deviations in learning process\n",
    "# Optimizer is used to optimize the input weights\n",
    "# Metrics is used to measure the performance\n",
    "model.compile(optimizer=Adam(learning_rate=0.10),\n",
    "    loss=\"binary_crossentropy\",\n",
    "    metrics=['accuracy'])"
   ]
  },
  {
   "cell_type": "code",
   "execution_count": 15,
   "id": "03db579e",
   "metadata": {
    "execution": {
     "iopub.execute_input": "2021-12-07T05:29:58.192629Z",
     "iopub.status.busy": "2021-12-07T05:29:58.191852Z",
     "iopub.status.idle": "2021-12-07T05:40:54.886996Z",
     "shell.execute_reply": "2021-12-07T05:40:54.887662Z"
    },
    "papermill": {
     "duration": 656.720355,
     "end_time": "2021-12-07T05:40:54.887866",
     "exception": false,
     "start_time": "2021-12-07T05:29:58.167511",
     "status": "completed"
    },
    "tags": []
   },
   "outputs": [
    {
     "name": "stderr",
     "output_type": "stream",
     "text": [
      "2021-12-07 05:30:05.866117: I tensorflow/compiler/mlir/mlir_graph_optimization_pass.cc:185] None of the MLIR Optimization Passes are enabled (registered 2)\n"
     ]
    },
    {
     "name": "stdout",
     "output_type": "stream",
     "text": [
      "Epoch 1/2\n"
     ]
    },
    {
     "name": "stderr",
     "output_type": "stream",
     "text": [
      "2021-12-07 05:30:15.224495: I tensorflow/stream_executor/cuda/cuda_dnn.cc:369] Loaded cuDNN version 8005\n",
      "2021-12-07 05:30:19.293105: W tensorflow/core/kernels/gpu_utils.cc:49] Failed to allocate memory for convolution redzone checking; skipping this check. This is benign and only means that we won't check cudnn for out-of-bounds reads and writes. This message will only be printed once.\n"
     ]
    },
    {
     "name": "stdout",
     "output_type": "stream",
     "text": [
      "32/32 [==============================] - 387s 11s/step - loss: 32.8045 - accuracy: 0.7098 - val_loss: 0.4279 - val_accuracy: 0.8095\n",
      "Epoch 2/2\n",
      "32/32 [==============================] - 256s 8s/step - loss: 0.6819 - accuracy: 0.7603 - val_loss: 0.4109 - val_accuracy: 0.8648\n"
     ]
    }
   ],
   "source": [
    "# fit() is used to train the model \n",
    "# len(training_set) is 32042/500 = 65\n",
    "# len(test_set) is 7958/500 = 16\n",
    "mod = model.fit(\n",
    "  training_set,\n",
    "  validation_data=test_set,\n",
    "  epochs=2,\n",
    "  steps_per_epoch=len(training_set),\n",
    "  validation_steps=len(test_set)\n",
    ")"
   ]
  },
  {
   "cell_type": "markdown",
   "id": "b72e695e",
   "metadata": {
    "papermill": {
     "duration": 0.039097,
     "end_time": "2021-12-07T05:40:54.969066",
     "exception": false,
     "start_time": "2021-12-07T05:40:54.929969",
     "status": "completed"
    },
    "tags": []
   },
   "source": [
    "# **Model Saving**"
   ]
  },
  {
   "cell_type": "code",
   "execution_count": 16,
   "id": "38ef8a4d",
   "metadata": {
    "execution": {
     "iopub.execute_input": "2021-12-07T05:40:55.059780Z",
     "iopub.status.busy": "2021-12-07T05:40:55.058967Z",
     "iopub.status.idle": "2021-12-07T05:40:55.297516Z",
     "shell.execute_reply": "2021-12-07T05:40:55.297083Z",
     "shell.execute_reply.started": "2021-12-07T04:35:02.891841Z"
    },
    "papermill": {
     "duration": 0.290976,
     "end_time": "2021-12-07T05:40:55.297658",
     "exception": false,
     "start_time": "2021-12-07T05:40:55.006682",
     "status": "completed"
    },
    "tags": []
   },
   "outputs": [
    {
     "data": {
      "text/plain": [
       "['128_0.10__50%']"
      ]
     },
     "execution_count": 16,
     "metadata": {},
     "output_type": "execute_result"
    }
   ],
   "source": [
    "# To save the particular model in .h5 format\n",
    "import tensorflow as tf\n",
    "from tensorflow.keras.models import load_model\n",
    "model.save('128_0.10__50%.h5')\n",
    "\n",
    "\n",
    "\n",
    "import joblib\n",
    "joblib.dump(mod.history,'128_0.10__50%')\n"
   ]
  },
  {
   "cell_type": "code",
   "execution_count": null,
   "id": "576d4d95",
   "metadata": {
    "papermill": {
     "duration": 0.037171,
     "end_time": "2021-12-07T05:40:55.372455",
     "exception": false,
     "start_time": "2021-12-07T05:40:55.335284",
     "status": "completed"
    },
    "tags": []
   },
   "outputs": [],
   "source": []
  }
 ],
 "metadata": {
  "kernelspec": {
   "display_name": "Python 3",
   "language": "python",
   "name": "python3"
  },
  "language_info": {
   "codemirror_mode": {
    "name": "ipython",
    "version": 3
   },
   "file_extension": ".py",
   "mimetype": "text/x-python",
   "name": "python",
   "nbconvert_exporter": "python",
   "pygments_lexer": "ipython3",
   "version": "3.7.12"
  },
  "papermill": {
   "default_parameters": {},
   "duration": 690.549785,
   "end_time": "2021-12-07T05:40:58.948617",
   "environment_variables": {},
   "exception": null,
   "input_path": "__notebook__.ipynb",
   "output_path": "__notebook__.ipynb",
   "parameters": {},
   "start_time": "2021-12-07T05:29:28.398832",
   "version": "2.3.3"
  }
 },
 "nbformat": 4,
 "nbformat_minor": 5
}
