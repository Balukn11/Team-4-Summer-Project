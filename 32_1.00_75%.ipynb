{
 "cells": [
  {
   "cell_type": "code",
   "execution_count": 1,
   "id": "d394af75",
   "metadata": {
    "_cell_guid": "b1076dfc-b9ad-4769-8c92-a6c4dae69d19",
    "_uuid": "8f2839f25d086af736a60e9eeb907d3b93b6e0e5",
    "execution": {
     "iopub.execute_input": "2021-12-08T15:45:50.410910Z",
     "iopub.status.busy": "2021-12-08T15:45:50.409442Z",
     "iopub.status.idle": "2021-12-08T15:45:50.418830Z",
     "shell.execute_reply": "2021-12-08T15:45:50.419371Z",
     "shell.execute_reply.started": "2021-12-07T05:36:17.530077Z"
    },
    "papermill": {
     "duration": 0.028696,
     "end_time": "2021-12-08T15:45:50.419585",
     "exception": false,
     "start_time": "2021-12-08T15:45:50.390889",
     "status": "completed"
    },
    "tags": []
   },
   "outputs": [],
   "source": [
    "img_size = [227,227] #List which stores the resolution\n",
    "main_train = '../input/mit-split-crack/75/Train' #Stores the path of the train directory\n",
    "main_test = '../input/mit-split-crack/75/Test' #Stores the path of the test directory"
   ]
  },
  {
   "cell_type": "markdown",
   "id": "33c80cfd",
   "metadata": {
    "papermill": {
     "duration": 0.012547,
     "end_time": "2021-12-08T15:45:50.446800",
     "exception": false,
     "start_time": "2021-12-08T15:45:50.434253",
     "status": "completed"
    },
    "tags": []
   },
   "source": [
    "# **Import Statements**"
   ]
  },
  {
   "cell_type": "code",
   "execution_count": 2,
   "id": "9f66e4ca",
   "metadata": {
    "execution": {
     "iopub.execute_input": "2021-12-08T15:45:50.477108Z",
     "iopub.status.busy": "2021-12-08T15:45:50.476561Z",
     "iopub.status.idle": "2021-12-08T15:45:55.408217Z",
     "shell.execute_reply": "2021-12-08T15:45:55.407460Z",
     "shell.execute_reply.started": "2021-12-07T05:36:17.561845Z"
    },
    "papermill": {
     "duration": 4.948844,
     "end_time": "2021-12-08T15:45:55.408393",
     "exception": false,
     "start_time": "2021-12-08T15:45:50.459549",
     "status": "completed"
    },
    "tags": []
   },
   "outputs": [],
   "source": [
    "from tensorflow.keras.layers import Input,Dense,Flatten,Dropout\n",
    "from tensorflow.keras.models import Model,Sequential\n",
    "from tensorflow.keras.applications.vgg16 import VGG16,preprocess_input\n",
    "from matplotlib import pyplot as plt\n",
    "import numpy as np\n",
    "from tensorflow.keras.preprocessing import image\n",
    "from tensorflow.keras.optimizers import Adam\n",
    "from tensorflow.keras.preprocessing.image import ImageDataGenerator"
   ]
  },
  {
   "cell_type": "markdown",
   "id": "f8015ebb",
   "metadata": {
    "papermill": {
     "duration": 0.012453,
     "end_time": "2021-12-08T15:45:55.434667",
     "exception": false,
     "start_time": "2021-12-08T15:45:55.422214",
     "status": "completed"
    },
    "tags": []
   },
   "source": [
    "# **VGG16 Model Building**"
   ]
  },
  {
   "cell_type": "code",
   "execution_count": 3,
   "id": "947fd2c1",
   "metadata": {
    "execution": {
     "iopub.execute_input": "2021-12-08T15:45:55.466160Z",
     "iopub.status.busy": "2021-12-08T15:45:55.465514Z",
     "iopub.status.idle": "2021-12-08T15:45:58.396906Z",
     "shell.execute_reply": "2021-12-08T15:45:58.397331Z",
     "shell.execute_reply.started": "2021-12-07T05:36:27.476911Z"
    },
    "papermill": {
     "duration": 2.950291,
     "end_time": "2021-12-08T15:45:58.397501",
     "exception": false,
     "start_time": "2021-12-08T15:45:55.447210",
     "status": "completed"
    },
    "tags": []
   },
   "outputs": [
    {
     "name": "stderr",
     "output_type": "stream",
     "text": [
      "2021-12-08 15:45:55.545823: I tensorflow/stream_executor/cuda/cuda_gpu_executor.cc:937] successful NUMA node read from SysFS had negative value (-1), but there must be at least one NUMA node, so returning NUMA node zero\n",
      "2021-12-08 15:45:55.633702: I tensorflow/stream_executor/cuda/cuda_gpu_executor.cc:937] successful NUMA node read from SysFS had negative value (-1), but there must be at least one NUMA node, so returning NUMA node zero\n",
      "2021-12-08 15:45:55.634409: I tensorflow/stream_executor/cuda/cuda_gpu_executor.cc:937] successful NUMA node read from SysFS had negative value (-1), but there must be at least one NUMA node, so returning NUMA node zero\n",
      "2021-12-08 15:45:55.635487: I tensorflow/core/platform/cpu_feature_guard.cc:142] This TensorFlow binary is optimized with oneAPI Deep Neural Network Library (oneDNN) to use the following CPU instructions in performance-critical operations:  AVX2 AVX512F FMA\n",
      "To enable them in other operations, rebuild TensorFlow with the appropriate compiler flags.\n",
      "2021-12-08 15:45:55.636238: I tensorflow/stream_executor/cuda/cuda_gpu_executor.cc:937] successful NUMA node read from SysFS had negative value (-1), but there must be at least one NUMA node, so returning NUMA node zero\n",
      "2021-12-08 15:45:55.636915: I tensorflow/stream_executor/cuda/cuda_gpu_executor.cc:937] successful NUMA node read from SysFS had negative value (-1), but there must be at least one NUMA node, so returning NUMA node zero\n",
      "2021-12-08 15:45:55.637557: I tensorflow/stream_executor/cuda/cuda_gpu_executor.cc:937] successful NUMA node read from SysFS had negative value (-1), but there must be at least one NUMA node, so returning NUMA node zero\n",
      "2021-12-08 15:45:57.439176: I tensorflow/stream_executor/cuda/cuda_gpu_executor.cc:937] successful NUMA node read from SysFS had negative value (-1), but there must be at least one NUMA node, so returning NUMA node zero\n",
      "2021-12-08 15:45:57.439964: I tensorflow/stream_executor/cuda/cuda_gpu_executor.cc:937] successful NUMA node read from SysFS had negative value (-1), but there must be at least one NUMA node, so returning NUMA node zero\n",
      "2021-12-08 15:45:57.440625: I tensorflow/stream_executor/cuda/cuda_gpu_executor.cc:937] successful NUMA node read from SysFS had negative value (-1), but there must be at least one NUMA node, so returning NUMA node zero\n",
      "2021-12-08 15:45:57.441229: I tensorflow/core/common_runtime/gpu/gpu_device.cc:1510] Created device /job:localhost/replica:0/task:0/device:GPU:0 with 15403 MB memory:  -> device: 0, name: Tesla P100-PCIE-16GB, pci bus id: 0000:00:04.0, compute capability: 6.0\n"
     ]
    },
    {
     "name": "stdout",
     "output_type": "stream",
     "text": [
      "Downloading data from https://storage.googleapis.com/tensorflow/keras-applications/vgg16/vgg16_weights_tf_dim_ordering_tf_kernels_notop.h5\n",
      "58892288/58889256 [==============================] - 0s 0us/step\n",
      "58900480/58889256 [==============================] - 0s 0us/step\n"
     ]
    }
   ],
   "source": [
    "vgg_model = VGG16(include_top=False,\n",
    "    weights=\"imagenet\",\n",
    "    input_shape=img_size + [3])\n",
    "\n",
    "# Loading the VGG16 pre trained model\n",
    "\n",
    "# include_top - this specifies whether the final layer before the output layer has to be include \n",
    "# or not. If included then there will be 1000 number of classes at the output.\n",
    "\n",
    "# Weights are trained using imagenet"
   ]
  },
  {
   "cell_type": "code",
   "execution_count": 4,
   "id": "0c802a18",
   "metadata": {
    "execution": {
     "iopub.execute_input": "2021-12-08T15:45:58.438618Z",
     "iopub.status.busy": "2021-12-08T15:45:58.435944Z",
     "iopub.status.idle": "2021-12-08T15:45:58.446934Z",
     "shell.execute_reply": "2021-12-08T15:45:58.447724Z",
     "shell.execute_reply.started": "2021-12-07T05:36:34.452979Z"
    },
    "papermill": {
     "duration": 0.034751,
     "end_time": "2021-12-08T15:45:58.447858",
     "exception": false,
     "start_time": "2021-12-08T15:45:58.413107",
     "status": "completed"
    },
    "tags": []
   },
   "outputs": [
    {
     "name": "stdout",
     "output_type": "stream",
     "text": [
      "Model: \"vgg16\"\n",
      "_________________________________________________________________\n",
      "Layer (type)                 Output Shape              Param #   \n",
      "=================================================================\n",
      "input_1 (InputLayer)         [(None, 227, 227, 3)]     0         \n",
      "_________________________________________________________________\n",
      "block1_conv1 (Conv2D)        (None, 227, 227, 64)      1792      \n",
      "_________________________________________________________________\n",
      "block1_conv2 (Conv2D)        (None, 227, 227, 64)      36928     \n",
      "_________________________________________________________________\n",
      "block1_pool (MaxPooling2D)   (None, 113, 113, 64)      0         \n",
      "_________________________________________________________________\n",
      "block2_conv1 (Conv2D)        (None, 113, 113, 128)     73856     \n",
      "_________________________________________________________________\n",
      "block2_conv2 (Conv2D)        (None, 113, 113, 128)     147584    \n",
      "_________________________________________________________________\n",
      "block2_pool (MaxPooling2D)   (None, 56, 56, 128)       0         \n",
      "_________________________________________________________________\n",
      "block3_conv1 (Conv2D)        (None, 56, 56, 256)       295168    \n",
      "_________________________________________________________________\n",
      "block3_conv2 (Conv2D)        (None, 56, 56, 256)       590080    \n",
      "_________________________________________________________________\n",
      "block3_conv3 (Conv2D)        (None, 56, 56, 256)       590080    \n",
      "_________________________________________________________________\n",
      "block3_pool (MaxPooling2D)   (None, 28, 28, 256)       0         \n",
      "_________________________________________________________________\n",
      "block4_conv1 (Conv2D)        (None, 28, 28, 512)       1180160   \n",
      "_________________________________________________________________\n",
      "block4_conv2 (Conv2D)        (None, 28, 28, 512)       2359808   \n",
      "_________________________________________________________________\n",
      "block4_conv3 (Conv2D)        (None, 28, 28, 512)       2359808   \n",
      "_________________________________________________________________\n",
      "block4_pool (MaxPooling2D)   (None, 14, 14, 512)       0         \n",
      "_________________________________________________________________\n",
      "block5_conv1 (Conv2D)        (None, 14, 14, 512)       2359808   \n",
      "_________________________________________________________________\n",
      "block5_conv2 (Conv2D)        (None, 14, 14, 512)       2359808   \n",
      "_________________________________________________________________\n",
      "block5_conv3 (Conv2D)        (None, 14, 14, 512)       2359808   \n",
      "_________________________________________________________________\n",
      "block5_pool (MaxPooling2D)   (None, 7, 7, 512)         0         \n",
      "=================================================================\n",
      "Total params: 14,714,688\n",
      "Trainable params: 14,714,688\n",
      "Non-trainable params: 0\n",
      "_________________________________________________________________\n"
     ]
    }
   ],
   "source": [
    "# To print the hidden layer summary of vgg model without top layer\n",
    "vgg_model.summary()"
   ]
  },
  {
   "cell_type": "code",
   "execution_count": 5,
   "id": "e452f6f6",
   "metadata": {
    "execution": {
     "iopub.execute_input": "2021-12-08T15:45:58.483019Z",
     "iopub.status.busy": "2021-12-08T15:45:58.482323Z",
     "iopub.status.idle": "2021-12-08T15:45:58.484948Z",
     "shell.execute_reply": "2021-12-08T15:45:58.484531Z",
     "shell.execute_reply.started": "2021-12-07T05:36:37.735624Z"
    },
    "papermill": {
     "duration": 0.021794,
     "end_time": "2021-12-08T15:45:58.485057",
     "exception": false,
     "start_time": "2021-12-08T15:45:58.463263",
     "status": "completed"
    },
    "tags": []
   },
   "outputs": [],
   "source": [
    "# To fix the weights of the pre trained model\n",
    "for lay in vgg_model.layers:\n",
    "    lay.trainable = False"
   ]
  },
  {
   "cell_type": "code",
   "execution_count": 6,
   "id": "f98bca6c",
   "metadata": {
    "execution": {
     "iopub.execute_input": "2021-12-08T15:45:58.521828Z",
     "iopub.status.busy": "2021-12-08T15:45:58.521031Z",
     "iopub.status.idle": "2021-12-08T15:45:58.531246Z",
     "shell.execute_reply": "2021-12-08T15:45:58.530651Z",
     "shell.execute_reply.started": "2021-12-07T05:36:40.68509Z"
    },
    "papermill": {
     "duration": 0.031006,
     "end_time": "2021-12-08T15:45:58.531400",
     "exception": false,
     "start_time": "2021-12-08T15:45:58.500394",
     "status": "completed"
    },
    "tags": []
   },
   "outputs": [
    {
     "name": "stdout",
     "output_type": "stream",
     "text": [
      "Model: \"vgg16\"\n",
      "_________________________________________________________________\n",
      "Layer (type)                 Output Shape              Param #   \n",
      "=================================================================\n",
      "input_1 (InputLayer)         [(None, 227, 227, 3)]     0         \n",
      "_________________________________________________________________\n",
      "block1_conv1 (Conv2D)        (None, 227, 227, 64)      1792      \n",
      "_________________________________________________________________\n",
      "block1_conv2 (Conv2D)        (None, 227, 227, 64)      36928     \n",
      "_________________________________________________________________\n",
      "block1_pool (MaxPooling2D)   (None, 113, 113, 64)      0         \n",
      "_________________________________________________________________\n",
      "block2_conv1 (Conv2D)        (None, 113, 113, 128)     73856     \n",
      "_________________________________________________________________\n",
      "block2_conv2 (Conv2D)        (None, 113, 113, 128)     147584    \n",
      "_________________________________________________________________\n",
      "block2_pool (MaxPooling2D)   (None, 56, 56, 128)       0         \n",
      "_________________________________________________________________\n",
      "block3_conv1 (Conv2D)        (None, 56, 56, 256)       295168    \n",
      "_________________________________________________________________\n",
      "block3_conv2 (Conv2D)        (None, 56, 56, 256)       590080    \n",
      "_________________________________________________________________\n",
      "block3_conv3 (Conv2D)        (None, 56, 56, 256)       590080    \n",
      "_________________________________________________________________\n",
      "block3_pool (MaxPooling2D)   (None, 28, 28, 256)       0         \n",
      "_________________________________________________________________\n",
      "block4_conv1 (Conv2D)        (None, 28, 28, 512)       1180160   \n",
      "_________________________________________________________________\n",
      "block4_conv2 (Conv2D)        (None, 28, 28, 512)       2359808   \n",
      "_________________________________________________________________\n",
      "block4_conv3 (Conv2D)        (None, 28, 28, 512)       2359808   \n",
      "_________________________________________________________________\n",
      "block4_pool (MaxPooling2D)   (None, 14, 14, 512)       0         \n",
      "_________________________________________________________________\n",
      "block5_conv1 (Conv2D)        (None, 14, 14, 512)       2359808   \n",
      "_________________________________________________________________\n",
      "block5_conv2 (Conv2D)        (None, 14, 14, 512)       2359808   \n",
      "_________________________________________________________________\n",
      "block5_conv3 (Conv2D)        (None, 14, 14, 512)       2359808   \n",
      "_________________________________________________________________\n",
      "block5_pool (MaxPooling2D)   (None, 7, 7, 512)         0         \n",
      "=================================================================\n",
      "Total params: 14,714,688\n",
      "Trainable params: 0\n",
      "Non-trainable params: 14,714,688\n",
      "_________________________________________________________________\n"
     ]
    }
   ],
   "source": [
    "vgg_model.summary()"
   ]
  },
  {
   "cell_type": "code",
   "execution_count": 7,
   "id": "f67f32fe",
   "metadata": {
    "execution": {
     "iopub.execute_input": "2021-12-08T15:45:58.567116Z",
     "iopub.status.busy": "2021-12-08T15:45:58.566623Z",
     "iopub.status.idle": "2021-12-08T15:45:58.605903Z",
     "shell.execute_reply": "2021-12-08T15:45:58.606321Z",
     "shell.execute_reply.started": "2021-12-07T05:36:43.502639Z"
    },
    "papermill": {
     "duration": 0.058777,
     "end_time": "2021-12-08T15:45:58.606451",
     "exception": false,
     "start_time": "2021-12-08T15:45:58.547674",
     "status": "completed"
    },
    "tags": []
   },
   "outputs": [
    {
     "name": "stdout",
     "output_type": "stream",
     "text": [
      "2\n",
      "2\n"
     ]
    }
   ],
   "source": [
    "# to list out number of folders in train and test folder\n",
    "import os\n",
    "folders_train1 = os.listdir(main_train)\n",
    "print(len(folders_train1))\n",
    "\n",
    "folders_test1 = os.listdir(main_test)\n",
    "print(len(folders_test1))"
   ]
  },
  {
   "cell_type": "code",
   "execution_count": 8,
   "id": "d1fe4b91",
   "metadata": {
    "execution": {
     "iopub.execute_input": "2021-12-08T15:45:58.644694Z",
     "iopub.status.busy": "2021-12-08T15:45:58.643895Z",
     "iopub.status.idle": "2021-12-08T15:45:58.647060Z",
     "shell.execute_reply": "2021-12-08T15:45:58.647493Z",
     "shell.execute_reply.started": "2021-12-07T05:36:46.470611Z"
    },
    "papermill": {
     "duration": 0.025388,
     "end_time": "2021-12-08T15:45:58.647615",
     "exception": false,
     "start_time": "2021-12-08T15:45:58.622227",
     "status": "completed"
    },
    "tags": []
   },
   "outputs": [
    {
     "data": {
      "text/plain": [
       "<KerasTensor: shape=(None, 7, 7, 512) dtype=float32 (created by layer 'block5_pool')>"
      ]
     },
     "execution_count": 8,
     "metadata": {},
     "output_type": "execute_result"
    }
   ],
   "source": [
    "#outputs the last layer\n",
    "vgg_model.output\n"
   ]
  },
  {
   "cell_type": "code",
   "execution_count": 9,
   "id": "83b1c0ed",
   "metadata": {
    "execution": {
     "iopub.execute_input": "2021-12-08T15:45:58.684331Z",
     "iopub.status.busy": "2021-12-08T15:45:58.683565Z",
     "iopub.status.idle": "2021-12-08T15:45:58.686816Z",
     "shell.execute_reply": "2021-12-08T15:45:58.686304Z",
     "shell.execute_reply.started": "2021-12-07T05:36:50.773362Z"
    },
    "papermill": {
     "duration": 0.022807,
     "end_time": "2021-12-08T15:45:58.686917",
     "exception": false,
     "start_time": "2021-12-08T15:45:58.664110",
     "status": "completed"
    },
    "tags": []
   },
   "outputs": [
    {
     "data": {
      "text/plain": [
       "<KerasTensor: shape=(None, 227, 227, 3) dtype=float32 (created by layer 'input_1')>"
      ]
     },
     "execution_count": 9,
     "metadata": {},
     "output_type": "execute_result"
    }
   ],
   "source": [
    "#inputs of the layer\n",
    "vgg_model.input"
   ]
  },
  {
   "cell_type": "code",
   "execution_count": 10,
   "id": "a57f379d",
   "metadata": {
    "execution": {
     "iopub.execute_input": "2021-12-08T15:45:58.726712Z",
     "iopub.status.busy": "2021-12-08T15:45:58.725889Z",
     "iopub.status.idle": "2021-12-08T15:45:58.762171Z",
     "shell.execute_reply": "2021-12-08T15:45:58.762611Z"
    },
    "papermill": {
     "duration": 0.059657,
     "end_time": "2021-12-08T15:45:58.762746",
     "exception": false,
     "start_time": "2021-12-08T15:45:58.703089",
     "status": "completed"
    },
    "tags": []
   },
   "outputs": [
    {
     "name": "stdout",
     "output_type": "stream",
     "text": [
      "Model: \"model\"\n",
      "_________________________________________________________________\n",
      "Layer (type)                 Output Shape              Param #   \n",
      "=================================================================\n",
      "input_1 (InputLayer)         [(None, 227, 227, 3)]     0         \n",
      "_________________________________________________________________\n",
      "block1_conv1 (Conv2D)        (None, 227, 227, 64)      1792      \n",
      "_________________________________________________________________\n",
      "block1_conv2 (Conv2D)        (None, 227, 227, 64)      36928     \n",
      "_________________________________________________________________\n",
      "block1_pool (MaxPooling2D)   (None, 113, 113, 64)      0         \n",
      "_________________________________________________________________\n",
      "block2_conv1 (Conv2D)        (None, 113, 113, 128)     73856     \n",
      "_________________________________________________________________\n",
      "block2_conv2 (Conv2D)        (None, 113, 113, 128)     147584    \n",
      "_________________________________________________________________\n",
      "block2_pool (MaxPooling2D)   (None, 56, 56, 128)       0         \n",
      "_________________________________________________________________\n",
      "block3_conv1 (Conv2D)        (None, 56, 56, 256)       295168    \n",
      "_________________________________________________________________\n",
      "block3_conv2 (Conv2D)        (None, 56, 56, 256)       590080    \n",
      "_________________________________________________________________\n",
      "block3_conv3 (Conv2D)        (None, 56, 56, 256)       590080    \n",
      "_________________________________________________________________\n",
      "block3_pool (MaxPooling2D)   (None, 28, 28, 256)       0         \n",
      "_________________________________________________________________\n",
      "block4_conv1 (Conv2D)        (None, 28, 28, 512)       1180160   \n",
      "_________________________________________________________________\n",
      "block4_conv2 (Conv2D)        (None, 28, 28, 512)       2359808   \n",
      "_________________________________________________________________\n",
      "block4_conv3 (Conv2D)        (None, 28, 28, 512)       2359808   \n",
      "_________________________________________________________________\n",
      "block4_pool (MaxPooling2D)   (None, 14, 14, 512)       0         \n",
      "_________________________________________________________________\n",
      "block5_conv1 (Conv2D)        (None, 14, 14, 512)       2359808   \n",
      "_________________________________________________________________\n",
      "block5_conv2 (Conv2D)        (None, 14, 14, 512)       2359808   \n",
      "_________________________________________________________________\n",
      "block5_conv3 (Conv2D)        (None, 14, 14, 512)       2359808   \n",
      "_________________________________________________________________\n",
      "block5_pool (MaxPooling2D)   (None, 7, 7, 512)         0         \n",
      "_________________________________________________________________\n",
      "first_flatten (Flatten)      (None, 25088)             0         \n",
      "_________________________________________________________________\n",
      "dense (Dense)                (None, 32)                802848    \n",
      "_________________________________________________________________\n",
      "dropout (Dropout)            (None, 32)                0         \n",
      "_________________________________________________________________\n",
      "dense_1 (Dense)              (None, 2)                 66        \n",
      "=================================================================\n",
      "Total params: 15,517,602\n",
      "Trainable params: 802,914\n",
      "Non-trainable params: 14,714,688\n",
      "_________________________________________________________________\n"
     ]
    }
   ],
   "source": [
    "# Flatten() is used to convert the last layer to vector or as fully connected\n",
    "x = Flatten(name=\"first_flatten\")(vgg_model.output)\n",
    "# Dense() is a fully connected layer and produces 128 outputs.\n",
    "# relu layer is used to convert the negative nubers to 0 and retains +ve as such.\n",
    "pred = Dense(32, activation=\"relu\")(x)\n",
    "#Dropout() layer is used to randomly remove 50% of the networks.\n",
    "pred = Dropout(0.5)(pred)\n",
    "# Dense() layer is added such that it outputs only two classess \n",
    "# Softmax activation layer produces probabilities for different classess.\n",
    "pred = Dense(2,activation='softmax')(pred)\n",
    "# Model() is used to group layers\n",
    "model = Model(inputs=vgg_model.input,outputs=pred)\n",
    "model.summary()"
   ]
  },
  {
   "cell_type": "markdown",
   "id": "32527a42",
   "metadata": {
    "papermill": {
     "duration": 0.017,
     "end_time": "2021-12-08T15:45:58.796706",
     "exception": false,
     "start_time": "2021-12-08T15:45:58.779706",
     "status": "completed"
    },
    "tags": []
   },
   "source": [
    "# **Image Augmentation**"
   ]
  },
  {
   "cell_type": "code",
   "execution_count": 11,
   "id": "58aaf524",
   "metadata": {
    "execution": {
     "iopub.execute_input": "2021-12-08T15:45:58.834008Z",
     "iopub.status.busy": "2021-12-08T15:45:58.833171Z",
     "iopub.status.idle": "2021-12-08T15:46:29.762671Z",
     "shell.execute_reply": "2021-12-08T15:46:29.763238Z"
    },
    "papermill": {
     "duration": 30.949533,
     "end_time": "2021-12-08T15:46:29.763448",
     "exception": false,
     "start_time": "2021-12-08T15:45:58.813915",
     "status": "completed"
    },
    "tags": []
   },
   "outputs": [
    {
     "name": "stdout",
     "output_type": "stream",
     "text": [
      "Found 23948 images belonging to 2 classes.\n",
      "Found 6006 images belonging to 2 classes.\n"
     ]
    }
   ],
   "source": [
    "#ImageDataGenerator is used to modify the train and test images w.r.t the properties mentioned\n",
    "train_datagen = ImageDataGenerator(rescale = 1/255.0,\n",
    "                                   shear_range = 0.2,\n",
    "                                   zoom_range = 0.2,\n",
    "                                   rotation_range=20,\n",
    "                                   width_shift_range=0.2, \n",
    "                                   height_shift_range=0.2,\n",
    "                                   horizontal_flip = True)\n",
    "\n",
    "test_datagen = ImageDataGenerator(rescale = 1/255.0,\n",
    "                                   shear_range = 0.2,\n",
    "                                   zoom_range = 0.2,\n",
    "                                   rotation_range=20,\n",
    "                                   width_shift_range=0.2, \n",
    "                                   height_shift_range=0.2,\n",
    "                                   horizontal_flip = True)\n",
    "\n",
    "# flow_from_directory() is used to convert all the images in the specific directory\n",
    "training_set = train_datagen.flow_from_directory(directory = main_train,\n",
    "                                                 target_size = (227,227),\n",
    "                                                 batch_size = 500,\n",
    "                                                 )\n",
    "\n",
    "test_set = test_datagen.flow_from_directory(directory = main_test,\n",
    "                                                 target_size = (227,227),\n",
    "                                                 batch_size = 500,\n",
    "                                                 )"
   ]
  },
  {
   "cell_type": "code",
   "execution_count": 12,
   "id": "0c4c1cc9",
   "metadata": {
    "execution": {
     "iopub.execute_input": "2021-12-08T15:46:29.802571Z",
     "iopub.status.busy": "2021-12-08T15:46:29.801796Z",
     "iopub.status.idle": "2021-12-08T15:46:29.806878Z",
     "shell.execute_reply": "2021-12-08T15:46:29.807269Z"
    },
    "papermill": {
     "duration": 0.025506,
     "end_time": "2021-12-08T15:46:29.807412",
     "exception": false,
     "start_time": "2021-12-08T15:46:29.781906",
     "status": "completed"
    },
    "tags": []
   },
   "outputs": [
    {
     "data": {
      "text/plain": [
       "{'Negative': 0, 'Positive': 1}"
      ]
     },
     "execution_count": 12,
     "metadata": {},
     "output_type": "execute_result"
    }
   ],
   "source": [
    "# Class_indices will display the respective class value\n",
    "training_set.class_indices"
   ]
  },
  {
   "cell_type": "code",
   "execution_count": 13,
   "id": "52495230",
   "metadata": {
    "execution": {
     "iopub.execute_input": "2021-12-08T15:46:29.850945Z",
     "iopub.status.busy": "2021-12-08T15:46:29.850191Z",
     "iopub.status.idle": "2021-12-08T15:46:29.853244Z",
     "shell.execute_reply": "2021-12-08T15:46:29.853709Z"
    },
    "papermill": {
     "duration": 0.028389,
     "end_time": "2021-12-08T15:46:29.853847",
     "exception": false,
     "start_time": "2021-12-08T15:46:29.825458",
     "status": "completed"
    },
    "tags": []
   },
   "outputs": [
    {
     "name": "stdout",
     "output_type": "stream",
     "text": [
      "48\n",
      "13\n"
     ]
    }
   ],
   "source": [
    "# To check no.of folders in each\n",
    "print(len(training_set))\n",
    "print(len(test_set))"
   ]
  },
  {
   "cell_type": "code",
   "execution_count": 14,
   "id": "2e7f7eb7",
   "metadata": {
    "execution": {
     "iopub.execute_input": "2021-12-08T15:46:29.904737Z",
     "iopub.status.busy": "2021-12-08T15:46:29.903953Z",
     "iopub.status.idle": "2021-12-08T15:46:29.909571Z",
     "shell.execute_reply": "2021-12-08T15:46:29.909116Z",
     "shell.execute_reply.started": "2021-12-07T05:57:00.084007Z"
    },
    "papermill": {
     "duration": 0.036229,
     "end_time": "2021-12-08T15:46:29.909680",
     "exception": false,
     "start_time": "2021-12-08T15:46:29.873451",
     "status": "completed"
    },
    "tags": []
   },
   "outputs": [],
   "source": [
    "# Loss function is used to find the errors or deviations in learning process\n",
    "# Optimizer is used to optimize the input weights\n",
    "# Metrics is used to measure the performance\n",
    "model.compile(optimizer=Adam(learning_rate=1.00),\n",
    "    loss=\"binary_crossentropy\",\n",
    "    metrics=['accuracy'])"
   ]
  },
  {
   "cell_type": "markdown",
   "id": "39a31e05",
   "metadata": {
    "papermill": {
     "duration": 0.018067,
     "end_time": "2021-12-08T15:46:29.945887",
     "exception": false,
     "start_time": "2021-12-08T15:46:29.927820",
     "status": "completed"
    },
    "tags": []
   },
   "source": [
    "# **Model Fitting**"
   ]
  },
  {
   "cell_type": "code",
   "execution_count": 15,
   "id": "569feeb1",
   "metadata": {
    "execution": {
     "iopub.execute_input": "2021-12-08T15:46:29.988522Z",
     "iopub.status.busy": "2021-12-08T15:46:29.987014Z",
     "iopub.status.idle": "2021-12-08T16:03:04.842675Z",
     "shell.execute_reply": "2021-12-08T16:03:04.843170Z"
    },
    "papermill": {
     "duration": 994.879222,
     "end_time": "2021-12-08T16:03:04.843368",
     "exception": false,
     "start_time": "2021-12-08T15:46:29.964146",
     "status": "completed"
    },
    "tags": []
   },
   "outputs": [
    {
     "name": "stderr",
     "output_type": "stream",
     "text": [
      "2021-12-08 15:46:39.365450: I tensorflow/compiler/mlir/mlir_graph_optimization_pass.cc:185] None of the MLIR Optimization Passes are enabled (registered 2)\n"
     ]
    },
    {
     "name": "stdout",
     "output_type": "stream",
     "text": [
      "Epoch 1/2\n"
     ]
    },
    {
     "name": "stderr",
     "output_type": "stream",
     "text": [
      "2021-12-08 15:46:50.013050: I tensorflow/stream_executor/cuda/cuda_dnn.cc:369] Loaded cuDNN version 8005\n",
      "2021-12-08 15:46:54.091176: W tensorflow/core/kernels/gpu_utils.cc:49] Failed to allocate memory for convolution redzone checking; skipping this check. This is benign and only means that we won't check cudnn for out-of-bounds reads and writes. This message will only be printed once.\n"
     ]
    },
    {
     "name": "stdout",
     "output_type": "stream",
     "text": [
      "48/48 [==============================] - 608s 12s/step - loss: 405.3544 - accuracy: 0.4942 - val_loss: 0.6955 - val_accuracy: 0.4987\n",
      "Epoch 2/2\n",
      "48/48 [==============================] - 377s 8s/step - loss: 0.6941 - accuracy: 0.4985 - val_loss: 0.6943 - val_accuracy: 0.4987\n"
     ]
    }
   ],
   "source": [
    "# fit() is used to train the model \n",
    "# len(training_set) is 32042/500 = 65\n",
    "# len(test_set) is 7958/500 = 16\n",
    "mod = model.fit(\n",
    "  training_set,\n",
    "  validation_data=test_set,\n",
    "  epochs=2,\n",
    "  steps_per_epoch=len(training_set),\n",
    "  validation_steps=len(test_set)\n",
    ")"
   ]
  },
  {
   "cell_type": "markdown",
   "id": "9c0e6464",
   "metadata": {
    "papermill": {
     "duration": 0.046084,
     "end_time": "2021-12-08T16:03:04.934416",
     "exception": false,
     "start_time": "2021-12-08T16:03:04.888332",
     "status": "completed"
    },
    "tags": []
   },
   "source": [
    "# **Model Saving**"
   ]
  },
  {
   "cell_type": "code",
   "execution_count": 16,
   "id": "b2e23e62",
   "metadata": {
    "execution": {
     "iopub.execute_input": "2021-12-08T16:03:05.039502Z",
     "iopub.status.busy": "2021-12-08T16:03:05.038673Z",
     "iopub.status.idle": "2021-12-08T16:03:05.236947Z",
     "shell.execute_reply": "2021-12-08T16:03:05.237396Z"
    },
    "papermill": {
     "duration": 0.258421,
     "end_time": "2021-12-08T16:03:05.237554",
     "exception": false,
     "start_time": "2021-12-08T16:03:04.979133",
     "status": "completed"
    },
    "tags": []
   },
   "outputs": [
    {
     "data": {
      "text/plain": [
       "['32_1.00_75%']"
      ]
     },
     "execution_count": 16,
     "metadata": {},
     "output_type": "execute_result"
    }
   ],
   "source": [
    "# To save the particular model in .h5 format\n",
    "import tensorflow as tf\n",
    "from tensorflow.keras.models import load_model\n",
    "model.save('32_1.00_75%.h5')\n",
    "\n",
    "\n",
    "\n",
    "import joblib\n",
    "joblib.dump(mod.history,'32_1.00_75%')"
   ]
  }
 ],
 "metadata": {
  "kernelspec": {
   "display_name": "Python 3",
   "language": "python",
   "name": "python3"
  },
  "language_info": {
   "codemirror_mode": {
    "name": "ipython",
    "version": 3
   },
   "file_extension": ".py",
   "mimetype": "text/x-python",
   "name": "python",
   "nbconvert_exporter": "python",
   "pygments_lexer": "ipython3",
   "version": "3.7.12"
  },
  "papermill": {
   "default_parameters": {},
   "duration": 1046.752202,
   "end_time": "2021-12-08T16:03:08.842396",
   "environment_variables": {},
   "exception": null,
   "input_path": "__notebook__.ipynb",
   "output_path": "__notebook__.ipynb",
   "parameters": {},
   "start_time": "2021-12-08T15:45:42.090194",
   "version": "2.3.3"
  }
 },
 "nbformat": 4,
 "nbformat_minor": 5
}
