{
 "cells": [
  {
   "cell_type": "markdown",
   "id": "54c662d3",
   "metadata": {
    "papermill": {
     "duration": 0.010013,
     "end_time": "2021-12-07T05:06:54.724077",
     "exception": false,
     "start_time": "2021-12-07T05:06:54.714064",
     "status": "completed"
    },
    "tags": []
   },
   "source": [
    "# Importing the DataSet"
   ]
  },
  {
   "cell_type": "code",
   "execution_count": 1,
   "id": "2cd58d41",
   "metadata": {
    "execution": {
     "iopub.execute_input": "2021-12-07T05:06:54.749768Z",
     "iopub.status.busy": "2021-12-07T05:06:54.748212Z",
     "iopub.status.idle": "2021-12-07T05:06:54.757514Z",
     "shell.execute_reply": "2021-12-07T05:06:54.757934Z",
     "shell.execute_reply.started": "2021-12-07T04:11:31.17275Z"
    },
    "papermill": {
     "duration": 0.023052,
     "end_time": "2021-12-07T05:06:54.758134",
     "exception": false,
     "start_time": "2021-12-07T05:06:54.735082",
     "status": "completed"
    },
    "tags": []
   },
   "outputs": [],
   "source": [
    "img_size = [227,227] #List which stores the resolution\n",
    "main_train = '../input/mit-split-crack/75/Train' #Stores the path of the train directory\n",
    "main_test = '../input/mit-split-crack/75/Test' #Stores the path of the test directory"
   ]
  },
  {
   "cell_type": "code",
   "execution_count": 2,
   "id": "0d210801",
   "metadata": {
    "execution": {
     "iopub.execute_input": "2021-12-07T05:06:54.780717Z",
     "iopub.status.busy": "2021-12-07T05:06:54.780122Z",
     "iopub.status.idle": "2021-12-07T05:06:59.731123Z",
     "shell.execute_reply": "2021-12-07T05:06:59.730540Z",
     "shell.execute_reply.started": "2021-12-07T04:12:54.3895Z"
    },
    "papermill": {
     "duration": 4.96412,
     "end_time": "2021-12-07T05:06:59.731260",
     "exception": false,
     "start_time": "2021-12-07T05:06:54.767140",
     "status": "completed"
    },
    "tags": []
   },
   "outputs": [],
   "source": [
    "from tensorflow.keras.layers import Input,Dense,Flatten,Dropout\n",
    "from tensorflow.keras.models import Model,Sequential\n",
    "from tensorflow.keras.applications.vgg16 import VGG16,preprocess_input\n",
    "from matplotlib import pyplot as plt\n",
    "import numpy as np\n",
    "from tensorflow.keras.preprocessing import image\n",
    "from tensorflow.keras.optimizers import Adam\n",
    "from tensorflow.keras.preprocessing.image import ImageDataGenerator"
   ]
  },
  {
   "cell_type": "markdown",
   "id": "da42f51f",
   "metadata": {
    "papermill": {
     "duration": 0.009733,
     "end_time": "2021-12-07T05:06:59.750298",
     "exception": false,
     "start_time": "2021-12-07T05:06:59.740565",
     "status": "completed"
    },
    "tags": []
   },
   "source": [
    "# Model Building"
   ]
  },
  {
   "cell_type": "code",
   "execution_count": 3,
   "id": "0600e80c",
   "metadata": {
    "execution": {
     "iopub.execute_input": "2021-12-07T05:06:59.774248Z",
     "iopub.status.busy": "2021-12-07T05:06:59.771279Z",
     "iopub.status.idle": "2021-12-07T05:07:02.723956Z",
     "shell.execute_reply": "2021-12-07T05:07:02.723278Z",
     "shell.execute_reply.started": "2021-12-07T03:17:35.187792Z"
    },
    "papermill": {
     "duration": 2.964839,
     "end_time": "2021-12-07T05:07:02.724093",
     "exception": false,
     "start_time": "2021-12-07T05:06:59.759254",
     "status": "completed"
    },
    "tags": []
   },
   "outputs": [
    {
     "name": "stderr",
     "output_type": "stream",
     "text": [
      "2021-12-07 05:06:59.854741: I tensorflow/stream_executor/cuda/cuda_gpu_executor.cc:937] successful NUMA node read from SysFS had negative value (-1), but there must be at least one NUMA node, so returning NUMA node zero\n",
      "2021-12-07 05:06:59.943162: I tensorflow/stream_executor/cuda/cuda_gpu_executor.cc:937] successful NUMA node read from SysFS had negative value (-1), but there must be at least one NUMA node, so returning NUMA node zero\n",
      "2021-12-07 05:06:59.943862: I tensorflow/stream_executor/cuda/cuda_gpu_executor.cc:937] successful NUMA node read from SysFS had negative value (-1), but there must be at least one NUMA node, so returning NUMA node zero\n",
      "2021-12-07 05:06:59.944945: I tensorflow/core/platform/cpu_feature_guard.cc:142] This TensorFlow binary is optimized with oneAPI Deep Neural Network Library (oneDNN) to use the following CPU instructions in performance-critical operations:  AVX2 AVX512F FMA\n",
      "To enable them in other operations, rebuild TensorFlow with the appropriate compiler flags.\n",
      "2021-12-07 05:06:59.945639: I tensorflow/stream_executor/cuda/cuda_gpu_executor.cc:937] successful NUMA node read from SysFS had negative value (-1), but there must be at least one NUMA node, so returning NUMA node zero\n",
      "2021-12-07 05:06:59.946305: I tensorflow/stream_executor/cuda/cuda_gpu_executor.cc:937] successful NUMA node read from SysFS had negative value (-1), but there must be at least one NUMA node, so returning NUMA node zero\n",
      "2021-12-07 05:06:59.946913: I tensorflow/stream_executor/cuda/cuda_gpu_executor.cc:937] successful NUMA node read from SysFS had negative value (-1), but there must be at least one NUMA node, so returning NUMA node zero\n",
      "2021-12-07 05:07:01.762501: I tensorflow/stream_executor/cuda/cuda_gpu_executor.cc:937] successful NUMA node read from SysFS had negative value (-1), but there must be at least one NUMA node, so returning NUMA node zero\n",
      "2021-12-07 05:07:01.763329: I tensorflow/stream_executor/cuda/cuda_gpu_executor.cc:937] successful NUMA node read from SysFS had negative value (-1), but there must be at least one NUMA node, so returning NUMA node zero\n",
      "2021-12-07 05:07:01.764068: I tensorflow/stream_executor/cuda/cuda_gpu_executor.cc:937] successful NUMA node read from SysFS had negative value (-1), but there must be at least one NUMA node, so returning NUMA node zero\n",
      "2021-12-07 05:07:01.764680: I tensorflow/core/common_runtime/gpu/gpu_device.cc:1510] Created device /job:localhost/replica:0/task:0/device:GPU:0 with 15403 MB memory:  -> device: 0, name: Tesla P100-PCIE-16GB, pci bus id: 0000:00:04.0, compute capability: 6.0\n"
     ]
    },
    {
     "name": "stdout",
     "output_type": "stream",
     "text": [
      "Downloading data from https://storage.googleapis.com/tensorflow/keras-applications/vgg16/vgg16_weights_tf_dim_ordering_tf_kernels_notop.h5\n",
      "58892288/58889256 [==============================] - 0s 0us/step\n",
      "58900480/58889256 [==============================] - 0s 0us/step\n"
     ]
    }
   ],
   "source": [
    "vgg_model = VGG16(include_top=False,\n",
    "    weights=\"imagenet\",\n",
    "    input_shape=img_size + [3])\n",
    "\n",
    "# Loading the VGG16 pre trained model\n",
    "\n",
    "# include_top - this specifies whether the final layer before the output layer has to be include \n",
    "# or not. If included then there will be 1000 number of classes at the output.\n",
    "\n",
    "# Weights are trained using imagenet"
   ]
  },
  {
   "cell_type": "code",
   "execution_count": 4,
   "id": "20ca713f",
   "metadata": {
    "execution": {
     "iopub.execute_input": "2021-12-07T05:07:02.753777Z",
     "iopub.status.busy": "2021-12-07T05:07:02.752939Z",
     "iopub.status.idle": "2021-12-07T05:07:02.767559Z",
     "shell.execute_reply": "2021-12-07T05:07:02.767061Z",
     "shell.execute_reply.started": "2021-12-07T03:17:50.149428Z"
    },
    "papermill": {
     "duration": 0.031132,
     "end_time": "2021-12-07T05:07:02.767671",
     "exception": false,
     "start_time": "2021-12-07T05:07:02.736539",
     "status": "completed"
    },
    "tags": []
   },
   "outputs": [
    {
     "name": "stdout",
     "output_type": "stream",
     "text": [
      "Model: \"vgg16\"\n",
      "_________________________________________________________________\n",
      "Layer (type)                 Output Shape              Param #   \n",
      "=================================================================\n",
      "input_1 (InputLayer)         [(None, 227, 227, 3)]     0         \n",
      "_________________________________________________________________\n",
      "block1_conv1 (Conv2D)        (None, 227, 227, 64)      1792      \n",
      "_________________________________________________________________\n",
      "block1_conv2 (Conv2D)        (None, 227, 227, 64)      36928     \n",
      "_________________________________________________________________\n",
      "block1_pool (MaxPooling2D)   (None, 113, 113, 64)      0         \n",
      "_________________________________________________________________\n",
      "block2_conv1 (Conv2D)        (None, 113, 113, 128)     73856     \n",
      "_________________________________________________________________\n",
      "block2_conv2 (Conv2D)        (None, 113, 113, 128)     147584    \n",
      "_________________________________________________________________\n",
      "block2_pool (MaxPooling2D)   (None, 56, 56, 128)       0         \n",
      "_________________________________________________________________\n",
      "block3_conv1 (Conv2D)        (None, 56, 56, 256)       295168    \n",
      "_________________________________________________________________\n",
      "block3_conv2 (Conv2D)        (None, 56, 56, 256)       590080    \n",
      "_________________________________________________________________\n",
      "block3_conv3 (Conv2D)        (None, 56, 56, 256)       590080    \n",
      "_________________________________________________________________\n",
      "block3_pool (MaxPooling2D)   (None, 28, 28, 256)       0         \n",
      "_________________________________________________________________\n",
      "block4_conv1 (Conv2D)        (None, 28, 28, 512)       1180160   \n",
      "_________________________________________________________________\n",
      "block4_conv2 (Conv2D)        (None, 28, 28, 512)       2359808   \n",
      "_________________________________________________________________\n",
      "block4_conv3 (Conv2D)        (None, 28, 28, 512)       2359808   \n",
      "_________________________________________________________________\n",
      "block4_pool (MaxPooling2D)   (None, 14, 14, 512)       0         \n",
      "_________________________________________________________________\n",
      "block5_conv1 (Conv2D)        (None, 14, 14, 512)       2359808   \n",
      "_________________________________________________________________\n",
      "block5_conv2 (Conv2D)        (None, 14, 14, 512)       2359808   \n",
      "_________________________________________________________________\n",
      "block5_conv3 (Conv2D)        (None, 14, 14, 512)       2359808   \n",
      "_________________________________________________________________\n",
      "block5_pool (MaxPooling2D)   (None, 7, 7, 512)         0         \n",
      "=================================================================\n",
      "Total params: 14,714,688\n",
      "Trainable params: 0\n",
      "Non-trainable params: 14,714,688\n",
      "_________________________________________________________________\n"
     ]
    }
   ],
   "source": [
    "# To fix the weights of the pre trained model\n",
    "for lay in vgg_model.layers:\n",
    "    lay.trainable = False\n",
    "vgg_model.summary()"
   ]
  },
  {
   "cell_type": "code",
   "execution_count": 5,
   "id": "49fb1e72",
   "metadata": {
    "execution": {
     "iopub.execute_input": "2021-12-07T05:07:02.802549Z",
     "iopub.status.busy": "2021-12-07T05:07:02.799741Z",
     "iopub.status.idle": "2021-12-07T05:07:02.836973Z",
     "shell.execute_reply": "2021-12-07T05:07:02.837648Z",
     "shell.execute_reply.started": "2021-12-07T03:19:18.506504Z"
    },
    "papermill": {
     "duration": 0.057236,
     "end_time": "2021-12-07T05:07:02.837781",
     "exception": false,
     "start_time": "2021-12-07T05:07:02.780545",
     "status": "completed"
    },
    "tags": []
   },
   "outputs": [
    {
     "name": "stdout",
     "output_type": "stream",
     "text": [
      "Model: \"model\"\n",
      "_________________________________________________________________\n",
      "Layer (type)                 Output Shape              Param #   \n",
      "=================================================================\n",
      "input_1 (InputLayer)         [(None, 227, 227, 3)]     0         \n",
      "_________________________________________________________________\n",
      "block1_conv1 (Conv2D)        (None, 227, 227, 64)      1792      \n",
      "_________________________________________________________________\n",
      "block1_conv2 (Conv2D)        (None, 227, 227, 64)      36928     \n",
      "_________________________________________________________________\n",
      "block1_pool (MaxPooling2D)   (None, 113, 113, 64)      0         \n",
      "_________________________________________________________________\n",
      "block2_conv1 (Conv2D)        (None, 113, 113, 128)     73856     \n",
      "_________________________________________________________________\n",
      "block2_conv2 (Conv2D)        (None, 113, 113, 128)     147584    \n",
      "_________________________________________________________________\n",
      "block2_pool (MaxPooling2D)   (None, 56, 56, 128)       0         \n",
      "_________________________________________________________________\n",
      "block3_conv1 (Conv2D)        (None, 56, 56, 256)       295168    \n",
      "_________________________________________________________________\n",
      "block3_conv2 (Conv2D)        (None, 56, 56, 256)       590080    \n",
      "_________________________________________________________________\n",
      "block3_conv3 (Conv2D)        (None, 56, 56, 256)       590080    \n",
      "_________________________________________________________________\n",
      "block3_pool (MaxPooling2D)   (None, 28, 28, 256)       0         \n",
      "_________________________________________________________________\n",
      "block4_conv1 (Conv2D)        (None, 28, 28, 512)       1180160   \n",
      "_________________________________________________________________\n",
      "block4_conv2 (Conv2D)        (None, 28, 28, 512)       2359808   \n",
      "_________________________________________________________________\n",
      "block4_conv3 (Conv2D)        (None, 28, 28, 512)       2359808   \n",
      "_________________________________________________________________\n",
      "block4_pool (MaxPooling2D)   (None, 14, 14, 512)       0         \n",
      "_________________________________________________________________\n",
      "block5_conv1 (Conv2D)        (None, 14, 14, 512)       2359808   \n",
      "_________________________________________________________________\n",
      "block5_conv2 (Conv2D)        (None, 14, 14, 512)       2359808   \n",
      "_________________________________________________________________\n",
      "block5_conv3 (Conv2D)        (None, 14, 14, 512)       2359808   \n",
      "_________________________________________________________________\n",
      "block5_pool (MaxPooling2D)   (None, 7, 7, 512)         0         \n",
      "_________________________________________________________________\n",
      "first_flatten (Flatten)      (None, 25088)             0         \n",
      "_________________________________________________________________\n",
      "dense (Dense)                (None, 256)               6422784   \n",
      "_________________________________________________________________\n",
      "dropout (Dropout)            (None, 256)               0         \n",
      "_________________________________________________________________\n",
      "dense_1 (Dense)              (None, 2)                 514       \n",
      "=================================================================\n",
      "Total params: 21,137,986\n",
      "Trainable params: 6,423,298\n",
      "Non-trainable params: 14,714,688\n",
      "_________________________________________________________________\n"
     ]
    }
   ],
   "source": [
    "# Flatten() is used to convert the last layer to vector or as fully connected\n",
    "x = Flatten(name=\"first_flatten\")(vgg_model.output)\n",
    "# Dense() is a fully connected layer and produces 128 outputs.\n",
    "# relu layer is used to convert the negative nubers to 0 and retains +ve as such.\n",
    "pred = Dense(256, activation=\"relu\")(x)\n",
    "#Dropout() layer is used to randomly remove 50% of the networks.\n",
    "pred = Dropout(0.5)(pred)\n",
    "# Dense() layer is added such that it outputs only two classess \n",
    "# Softmax activation layer produces probabilities for different classess.\n",
    "pred = Dense(2,activation='softmax')(pred)\n",
    "# Model() is used to group layers\n",
    "model = Model(inputs=vgg_model.input,outputs=pred)\n",
    "model.summary()"
   ]
  },
  {
   "cell_type": "markdown",
   "id": "c7a0dffd",
   "metadata": {
    "papermill": {
     "duration": 0.012545,
     "end_time": "2021-12-07T05:07:02.863085",
     "exception": false,
     "start_time": "2021-12-07T05:07:02.850540",
     "status": "completed"
    },
    "tags": []
   },
   "source": [
    "# Image Augmentation"
   ]
  },
  {
   "cell_type": "code",
   "execution_count": 6,
   "id": "c6d0f79b",
   "metadata": {
    "execution": {
     "iopub.execute_input": "2021-12-07T05:07:02.895432Z",
     "iopub.status.busy": "2021-12-07T05:07:02.894657Z",
     "iopub.status.idle": "2021-12-07T05:07:20.623070Z",
     "shell.execute_reply": "2021-12-07T05:07:20.623631Z",
     "shell.execute_reply.started": "2021-12-07T04:12:59.766387Z"
    },
    "papermill": {
     "duration": 17.747986,
     "end_time": "2021-12-07T05:07:20.623796",
     "exception": false,
     "start_time": "2021-12-07T05:07:02.875810",
     "status": "completed"
    },
    "tags": []
   },
   "outputs": [
    {
     "name": "stdout",
     "output_type": "stream",
     "text": [
      "Found 23948 images belonging to 2 classes.\n",
      "Found 6006 images belonging to 2 classes.\n"
     ]
    }
   ],
   "source": [
    "#ImageDataGenerator is used to modify the train and test images w.r.t the properties mentioned\n",
    "train_datagen = ImageDataGenerator(rescale = 1/255.0,\n",
    "                                   shear_range = 0.2,\n",
    "                                   zoom_range = 0.2,\n",
    "                                   rotation_range=20,\n",
    "                                   width_shift_range=0.2, \n",
    "                                   height_shift_range=0.2,\n",
    "                                   horizontal_flip = True)\n",
    "\n",
    "test_datagen = ImageDataGenerator(rescale = 1/255.0,\n",
    "                                   shear_range = 0.2,\n",
    "                                   zoom_range = 0.2,\n",
    "                                   rotation_range=20,\n",
    "                                   width_shift_range=0.2, \n",
    "                                   height_shift_range=0.2,\n",
    "                                   horizontal_flip = True)\n",
    "\n",
    "# flow_from_directory() is used to convert all the images in the specific directory\n",
    "training_set = train_datagen.flow_from_directory(directory = main_train,\n",
    "                                                 target_size = (227,227),\n",
    "                                                 batch_size = 500,\n",
    "                                                 )\n",
    "\n",
    "test_set = test_datagen.flow_from_directory(directory = main_test,\n",
    "                                                 target_size = (227,227),\n",
    "                                                 batch_size = 500,\n",
    "                                                 )"
   ]
  },
  {
   "cell_type": "markdown",
   "id": "6e144d04",
   "metadata": {
    "papermill": {
     "duration": 0.013464,
     "end_time": "2021-12-07T05:07:20.651430",
     "exception": false,
     "start_time": "2021-12-07T05:07:20.637966",
     "status": "completed"
    },
    "tags": []
   },
   "source": [
    "# Model Fitting"
   ]
  },
  {
   "cell_type": "code",
   "execution_count": 7,
   "id": "da08205a",
   "metadata": {
    "execution": {
     "iopub.execute_input": "2021-12-07T05:07:20.688831Z",
     "iopub.status.busy": "2021-12-07T05:07:20.687884Z",
     "iopub.status.idle": "2021-12-07T05:07:20.693746Z",
     "shell.execute_reply": "2021-12-07T05:07:20.694151Z",
     "shell.execute_reply.started": "2021-12-07T03:20:35.116279Z"
    },
    "papermill": {
     "duration": 0.029582,
     "end_time": "2021-12-07T05:07:20.694288",
     "exception": false,
     "start_time": "2021-12-07T05:07:20.664706",
     "status": "completed"
    },
    "tags": []
   },
   "outputs": [],
   "source": [
    "# Loss function is used to find the errors or deviations in learning process\n",
    "# Optimizer is used to optimize the input weights\n",
    "# Metrics is used to measure the performance\n",
    "model.compile(optimizer=Adam(learning_rate=0.10),\n",
    "    loss=\"binary_crossentropy\",\n",
    "    metrics=['accuracy'])"
   ]
  },
  {
   "cell_type": "code",
   "execution_count": 8,
   "id": "2470b2f1",
   "metadata": {
    "execution": {
     "iopub.execute_input": "2021-12-07T05:07:20.726523Z",
     "iopub.status.busy": "2021-12-07T05:07:20.725823Z",
     "iopub.status.idle": "2021-12-07T05:24:29.559207Z",
     "shell.execute_reply": "2021-12-07T05:24:29.559850Z",
     "shell.execute_reply.started": "2021-12-07T03:27:04.737592Z"
    },
    "papermill": {
     "duration": 1028.85248,
     "end_time": "2021-12-07T05:24:29.560010",
     "exception": false,
     "start_time": "2021-12-07T05:07:20.707530",
     "status": "completed"
    },
    "tags": []
   },
   "outputs": [
    {
     "name": "stderr",
     "output_type": "stream",
     "text": [
      "2021-12-07 05:07:28.689278: I tensorflow/compiler/mlir/mlir_graph_optimization_pass.cc:185] None of the MLIR Optimization Passes are enabled (registered 2)\n"
     ]
    },
    {
     "name": "stdout",
     "output_type": "stream",
     "text": [
      "Epoch 1/2\n"
     ]
    },
    {
     "name": "stderr",
     "output_type": "stream",
     "text": [
      "2021-12-07 05:07:37.913959: I tensorflow/stream_executor/cuda/cuda_dnn.cc:369] Loaded cuDNN version 8005\n",
      "2021-12-07 05:07:42.062417: W tensorflow/core/kernels/gpu_utils.cc:49] Failed to allocate memory for convolution redzone checking; skipping this check. This is benign and only means that we won't check cudnn for out-of-bounds reads and writes. This message will only be printed once.\n"
     ]
    },
    {
     "name": "stdout",
     "output_type": "stream",
     "text": [
      "48/48 [==============================] - 579s 11s/step - loss: 49.4386 - accuracy: 0.5112 - val_loss: 0.6948 - val_accuracy: 0.4987\n",
      "Epoch 2/2\n",
      "48/48 [==============================] - 398s 8s/step - loss: 0.6934 - accuracy: 0.5014 - val_loss: 0.6934 - val_accuracy: 0.4987\n"
     ]
    }
   ],
   "source": [
    "# fit() is used to train the model \n",
    "\n",
    "mod = model.fit(\n",
    "  training_set,\n",
    "  validation_data=test_set,\n",
    "  epochs=2,\n",
    "  steps_per_epoch=len(training_set),\n",
    "  validation_steps=len(test_set)\n",
    ")"
   ]
  },
  {
   "cell_type": "code",
   "execution_count": 9,
   "id": "bedd5141",
   "metadata": {
    "execution": {
     "iopub.execute_input": "2021-12-07T05:24:29.654567Z",
     "iopub.status.busy": "2021-12-07T05:24:29.653770Z",
     "iopub.status.idle": "2021-12-07T05:24:29.960303Z",
     "shell.execute_reply": "2021-12-07T05:24:29.960744Z",
     "shell.execute_reply.started": "2021-12-07T03:34:46.099747Z"
    },
    "papermill": {
     "duration": 0.360583,
     "end_time": "2021-12-07T05:24:29.960909",
     "exception": false,
     "start_time": "2021-12-07T05:24:29.600326",
     "status": "completed"
    },
    "tags": []
   },
   "outputs": [
    {
     "data": {
      "text/plain": [
       "['256_0.10_75%']"
      ]
     },
     "execution_count": 9,
     "metadata": {},
     "output_type": "execute_result"
    }
   ],
   "source": [
    "# To save the particular model in .h5 format\n",
    "import tensorflow as tf\n",
    "from tensorflow.keras.models import load_model\n",
    "model.save('256_0.10_75%.h5')\n",
    "\n",
    "import joblib\n",
    "joblib.dump(mod.history,'256_0.10_75%')"
   ]
  },
  {
   "cell_type": "code",
   "execution_count": null,
   "id": "7ed9b4a0",
   "metadata": {
    "papermill": {
     "duration": 0.040553,
     "end_time": "2021-12-07T05:24:30.042152",
     "exception": false,
     "start_time": "2021-12-07T05:24:30.001599",
     "status": "completed"
    },
    "tags": []
   },
   "outputs": [],
   "source": []
  }
 ],
 "metadata": {
  "kernelspec": {
   "display_name": "Python 3",
   "language": "python",
   "name": "python3"
  },
  "language_info": {
   "codemirror_mode": {
    "name": "ipython",
    "version": 3
   },
   "file_extension": ".py",
   "mimetype": "text/x-python",
   "name": "python",
   "nbconvert_exporter": "python",
   "pygments_lexer": "ipython3",
   "version": "3.7.12"
  },
  "papermill": {
   "default_parameters": {},
   "duration": 1066.664374,
   "end_time": "2021-12-07T05:24:32.916763",
   "environment_variables": {},
   "exception": null,
   "input_path": "__notebook__.ipynb",
   "output_path": "__notebook__.ipynb",
   "parameters": {},
   "start_time": "2021-12-07T05:06:46.252389",
   "version": "2.3.3"
  }
 },
 "nbformat": 4,
 "nbformat_minor": 5
}
