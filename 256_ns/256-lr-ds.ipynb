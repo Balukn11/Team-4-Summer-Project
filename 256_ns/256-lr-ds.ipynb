{
 "cells": [
  {
   "cell_type": "markdown",
   "id": "25a89324",
   "metadata": {
    "papermill": {
     "duration": 0.013443,
     "end_time": "2021-12-07T13:44:32.627340",
     "exception": false,
     "start_time": "2021-12-07T13:44:32.613897",
     "status": "completed"
    },
    "tags": []
   },
   "source": [
    "# Importing the DataSet"
   ]
  },
  {
   "cell_type": "code",
   "execution_count": 1,
   "id": "aaa3ae26",
   "metadata": {
    "execution": {
     "iopub.execute_input": "2021-12-07T13:44:32.668508Z",
     "iopub.status.busy": "2021-12-07T13:44:32.667025Z",
     "iopub.status.idle": "2021-12-07T13:44:32.671365Z",
     "shell.execute_reply": "2021-12-07T13:44:32.670775Z",
     "shell.execute_reply.started": "2021-12-07T04:11:31.17275Z"
    },
    "papermill": {
     "duration": 0.030314,
     "end_time": "2021-12-07T13:44:32.671510",
     "exception": false,
     "start_time": "2021-12-07T13:44:32.641196",
     "status": "completed"
    },
    "tags": []
   },
   "outputs": [],
   "source": [
    "img_size = [227,227] #List which stores the resolution\n",
    "main_train = '../input/crack-detection/Main/Train' #Stores the path of the train directory\n",
    "main_test = '../input/crack-detection/Main/Test' #Stores the path of the test directory"
   ]
  },
  {
   "cell_type": "code",
   "execution_count": 2,
   "id": "9c0ee2a9",
   "metadata": {
    "execution": {
     "iopub.execute_input": "2021-12-07T13:44:32.702569Z",
     "iopub.status.busy": "2021-12-07T13:44:32.701650Z",
     "iopub.status.idle": "2021-12-07T13:44:38.340681Z",
     "shell.execute_reply": "2021-12-07T13:44:38.340117Z",
     "shell.execute_reply.started": "2021-12-07T04:12:54.3895Z"
    },
    "papermill": {
     "duration": 5.657265,
     "end_time": "2021-12-07T13:44:38.341001",
     "exception": false,
     "start_time": "2021-12-07T13:44:32.683736",
     "status": "completed"
    },
    "tags": []
   },
   "outputs": [],
   "source": [
    "from tensorflow.keras.layers import Input,Dense,Flatten,Dropout\n",
    "from tensorflow.keras.models import Model,Sequential\n",
    "from tensorflow.keras.applications.vgg16 import VGG16,preprocess_input\n",
    "from matplotlib import pyplot as plt\n",
    "import numpy as np\n",
    "from tensorflow.keras.preprocessing import image\n",
    "from tensorflow.keras.optimizers import Adam\n",
    "from tensorflow.keras.preprocessing.image import ImageDataGenerator"
   ]
  },
  {
   "cell_type": "markdown",
   "id": "e6253912",
   "metadata": {
    "papermill": {
     "duration": 0.0122,
     "end_time": "2021-12-07T13:44:38.366039",
     "exception": false,
     "start_time": "2021-12-07T13:44:38.353839",
     "status": "completed"
    },
    "tags": []
   },
   "source": [
    "# Model Building"
   ]
  },
  {
   "cell_type": "code",
   "execution_count": 3,
   "id": "319fe3d0",
   "metadata": {
    "execution": {
     "iopub.execute_input": "2021-12-07T13:44:38.398370Z",
     "iopub.status.busy": "2021-12-07T13:44:38.397575Z",
     "iopub.status.idle": "2021-12-07T13:44:42.489505Z",
     "shell.execute_reply": "2021-12-07T13:44:42.490124Z",
     "shell.execute_reply.started": "2021-12-07T03:17:35.187792Z"
    },
    "papermill": {
     "duration": 4.111795,
     "end_time": "2021-12-07T13:44:42.490351",
     "exception": false,
     "start_time": "2021-12-07T13:44:38.378556",
     "status": "completed"
    },
    "tags": []
   },
   "outputs": [
    {
     "name": "stderr",
     "output_type": "stream",
     "text": [
      "2021-12-07 13:44:38.484020: I tensorflow/stream_executor/cuda/cuda_gpu_executor.cc:937] successful NUMA node read from SysFS had negative value (-1), but there must be at least one NUMA node, so returning NUMA node zero\n",
      "2021-12-07 13:44:38.583075: I tensorflow/stream_executor/cuda/cuda_gpu_executor.cc:937] successful NUMA node read from SysFS had negative value (-1), but there must be at least one NUMA node, so returning NUMA node zero\n",
      "2021-12-07 13:44:38.584220: I tensorflow/stream_executor/cuda/cuda_gpu_executor.cc:937] successful NUMA node read from SysFS had negative value (-1), but there must be at least one NUMA node, so returning NUMA node zero\n",
      "2021-12-07 13:44:38.586096: I tensorflow/core/platform/cpu_feature_guard.cc:142] This TensorFlow binary is optimized with oneAPI Deep Neural Network Library (oneDNN) to use the following CPU instructions in performance-critical operations:  AVX2 FMA\n",
      "To enable them in other operations, rebuild TensorFlow with the appropriate compiler flags.\n",
      "2021-12-07 13:44:38.587077: I tensorflow/stream_executor/cuda/cuda_gpu_executor.cc:937] successful NUMA node read from SysFS had negative value (-1), but there must be at least one NUMA node, so returning NUMA node zero\n",
      "2021-12-07 13:44:38.588037: I tensorflow/stream_executor/cuda/cuda_gpu_executor.cc:937] successful NUMA node read from SysFS had negative value (-1), but there must be at least one NUMA node, so returning NUMA node zero\n",
      "2021-12-07 13:44:38.588973: I tensorflow/stream_executor/cuda/cuda_gpu_executor.cc:937] successful NUMA node read from SysFS had negative value (-1), but there must be at least one NUMA node, so returning NUMA node zero\n",
      "2021-12-07 13:44:40.817638: I tensorflow/stream_executor/cuda/cuda_gpu_executor.cc:937] successful NUMA node read from SysFS had negative value (-1), but there must be at least one NUMA node, so returning NUMA node zero\n",
      "2021-12-07 13:44:40.818675: I tensorflow/stream_executor/cuda/cuda_gpu_executor.cc:937] successful NUMA node read from SysFS had negative value (-1), but there must be at least one NUMA node, so returning NUMA node zero\n",
      "2021-12-07 13:44:40.819613: I tensorflow/stream_executor/cuda/cuda_gpu_executor.cc:937] successful NUMA node read from SysFS had negative value (-1), but there must be at least one NUMA node, so returning NUMA node zero\n",
      "2021-12-07 13:44:40.820589: I tensorflow/core/common_runtime/gpu/gpu_device.cc:1510] Created device /job:localhost/replica:0/task:0/device:GPU:0 with 15403 MB memory:  -> device: 0, name: Tesla P100-PCIE-16GB, pci bus id: 0000:00:04.0, compute capability: 6.0\n"
     ]
    },
    {
     "name": "stdout",
     "output_type": "stream",
     "text": [
      "Downloading data from https://storage.googleapis.com/tensorflow/keras-applications/vgg16/vgg16_weights_tf_dim_ordering_tf_kernels_notop.h5\n",
      "58892288/58889256 [==============================] - 1s 0us/step\n",
      "58900480/58889256 [==============================] - 1s 0us/step\n"
     ]
    }
   ],
   "source": [
    "vgg_model = VGG16(include_top=False,\n",
    "    weights=\"imagenet\",\n",
    "    input_shape=img_size + [3])\n",
    "\n",
    "# Loading the VGG16 pre trained model\n",
    "\n",
    "# include_top - this specifies whether the final layer before the output layer has to be include \n",
    "# or not. If included then there will be 1000 number of classes at the output.\n",
    "\n",
    "# Weights are trained using imagenet"
   ]
  },
  {
   "cell_type": "code",
   "execution_count": 4,
   "id": "66ded0cc",
   "metadata": {
    "execution": {
     "iopub.execute_input": "2021-12-07T13:44:42.541240Z",
     "iopub.status.busy": "2021-12-07T13:44:42.539455Z",
     "iopub.status.idle": "2021-12-07T13:44:42.561131Z",
     "shell.execute_reply": "2021-12-07T13:44:42.560482Z",
     "shell.execute_reply.started": "2021-12-07T03:17:50.149428Z"
    },
    "papermill": {
     "duration": 0.049899,
     "end_time": "2021-12-07T13:44:42.561305",
     "exception": false,
     "start_time": "2021-12-07T13:44:42.511406",
     "status": "completed"
    },
    "tags": []
   },
   "outputs": [
    {
     "name": "stdout",
     "output_type": "stream",
     "text": [
      "Model: \"vgg16\"\n",
      "_________________________________________________________________\n",
      "Layer (type)                 Output Shape              Param #   \n",
      "=================================================================\n",
      "input_1 (InputLayer)         [(None, 227, 227, 3)]     0         \n",
      "_________________________________________________________________\n",
      "block1_conv1 (Conv2D)        (None, 227, 227, 64)      1792      \n",
      "_________________________________________________________________\n",
      "block1_conv2 (Conv2D)        (None, 227, 227, 64)      36928     \n",
      "_________________________________________________________________\n",
      "block1_pool (MaxPooling2D)   (None, 113, 113, 64)      0         \n",
      "_________________________________________________________________\n",
      "block2_conv1 (Conv2D)        (None, 113, 113, 128)     73856     \n",
      "_________________________________________________________________\n",
      "block2_conv2 (Conv2D)        (None, 113, 113, 128)     147584    \n",
      "_________________________________________________________________\n",
      "block2_pool (MaxPooling2D)   (None, 56, 56, 128)       0         \n",
      "_________________________________________________________________\n",
      "block3_conv1 (Conv2D)        (None, 56, 56, 256)       295168    \n",
      "_________________________________________________________________\n",
      "block3_conv2 (Conv2D)        (None, 56, 56, 256)       590080    \n",
      "_________________________________________________________________\n",
      "block3_conv3 (Conv2D)        (None, 56, 56, 256)       590080    \n",
      "_________________________________________________________________\n",
      "block3_pool (MaxPooling2D)   (None, 28, 28, 256)       0         \n",
      "_________________________________________________________________\n",
      "block4_conv1 (Conv2D)        (None, 28, 28, 512)       1180160   \n",
      "_________________________________________________________________\n",
      "block4_conv2 (Conv2D)        (None, 28, 28, 512)       2359808   \n",
      "_________________________________________________________________\n",
      "block4_conv3 (Conv2D)        (None, 28, 28, 512)       2359808   \n",
      "_________________________________________________________________\n",
      "block4_pool (MaxPooling2D)   (None, 14, 14, 512)       0         \n",
      "_________________________________________________________________\n",
      "block5_conv1 (Conv2D)        (None, 14, 14, 512)       2359808   \n",
      "_________________________________________________________________\n",
      "block5_conv2 (Conv2D)        (None, 14, 14, 512)       2359808   \n",
      "_________________________________________________________________\n",
      "block5_conv3 (Conv2D)        (None, 14, 14, 512)       2359808   \n",
      "_________________________________________________________________\n",
      "block5_pool (MaxPooling2D)   (None, 7, 7, 512)         0         \n",
      "=================================================================\n",
      "Total params: 14,714,688\n",
      "Trainable params: 0\n",
      "Non-trainable params: 14,714,688\n",
      "_________________________________________________________________\n"
     ]
    }
   ],
   "source": [
    "# To fix the weights of the pre trained model\n",
    "for lay in vgg_model.layers:\n",
    "    lay.trainable = False\n",
    "vgg_model.summary()"
   ]
  },
  {
   "cell_type": "code",
   "execution_count": 5,
   "id": "1d3b8e0d",
   "metadata": {
    "execution": {
     "iopub.execute_input": "2021-12-07T13:44:42.612402Z",
     "iopub.status.busy": "2021-12-07T13:44:42.609847Z",
     "iopub.status.idle": "2021-12-07T13:44:42.663752Z",
     "shell.execute_reply": "2021-12-07T13:44:42.663177Z",
     "shell.execute_reply.started": "2021-12-07T03:19:18.506504Z"
    },
    "papermill": {
     "duration": 0.081239,
     "end_time": "2021-12-07T13:44:42.663941",
     "exception": false,
     "start_time": "2021-12-07T13:44:42.582702",
     "status": "completed"
    },
    "tags": []
   },
   "outputs": [
    {
     "name": "stdout",
     "output_type": "stream",
     "text": [
      "Model: \"model\"\n",
      "_________________________________________________________________\n",
      "Layer (type)                 Output Shape              Param #   \n",
      "=================================================================\n",
      "input_1 (InputLayer)         [(None, 227, 227, 3)]     0         \n",
      "_________________________________________________________________\n",
      "block1_conv1 (Conv2D)        (None, 227, 227, 64)      1792      \n",
      "_________________________________________________________________\n",
      "block1_conv2 (Conv2D)        (None, 227, 227, 64)      36928     \n",
      "_________________________________________________________________\n",
      "block1_pool (MaxPooling2D)   (None, 113, 113, 64)      0         \n",
      "_________________________________________________________________\n",
      "block2_conv1 (Conv2D)        (None, 113, 113, 128)     73856     \n",
      "_________________________________________________________________\n",
      "block2_conv2 (Conv2D)        (None, 113, 113, 128)     147584    \n",
      "_________________________________________________________________\n",
      "block2_pool (MaxPooling2D)   (None, 56, 56, 128)       0         \n",
      "_________________________________________________________________\n",
      "block3_conv1 (Conv2D)        (None, 56, 56, 256)       295168    \n",
      "_________________________________________________________________\n",
      "block3_conv2 (Conv2D)        (None, 56, 56, 256)       590080    \n",
      "_________________________________________________________________\n",
      "block3_conv3 (Conv2D)        (None, 56, 56, 256)       590080    \n",
      "_________________________________________________________________\n",
      "block3_pool (MaxPooling2D)   (None, 28, 28, 256)       0         \n",
      "_________________________________________________________________\n",
      "block4_conv1 (Conv2D)        (None, 28, 28, 512)       1180160   \n",
      "_________________________________________________________________\n",
      "block4_conv2 (Conv2D)        (None, 28, 28, 512)       2359808   \n",
      "_________________________________________________________________\n",
      "block4_conv3 (Conv2D)        (None, 28, 28, 512)       2359808   \n",
      "_________________________________________________________________\n",
      "block4_pool (MaxPooling2D)   (None, 14, 14, 512)       0         \n",
      "_________________________________________________________________\n",
      "block5_conv1 (Conv2D)        (None, 14, 14, 512)       2359808   \n",
      "_________________________________________________________________\n",
      "block5_conv2 (Conv2D)        (None, 14, 14, 512)       2359808   \n",
      "_________________________________________________________________\n",
      "block5_conv3 (Conv2D)        (None, 14, 14, 512)       2359808   \n",
      "_________________________________________________________________\n",
      "block5_pool (MaxPooling2D)   (None, 7, 7, 512)         0         \n",
      "_________________________________________________________________\n",
      "first_flatten (Flatten)      (None, 25088)             0         \n",
      "_________________________________________________________________\n",
      "dense (Dense)                (None, 256)               6422784   \n",
      "_________________________________________________________________\n",
      "dropout (Dropout)            (None, 256)               0         \n",
      "_________________________________________________________________\n",
      "dense_1 (Dense)              (None, 2)                 514       \n",
      "=================================================================\n",
      "Total params: 21,137,986\n",
      "Trainable params: 6,423,298\n",
      "Non-trainable params: 14,714,688\n",
      "_________________________________________________________________\n"
     ]
    }
   ],
   "source": [
    "# Flatten() is used to convert the last layer to vector or as fully connected\n",
    "x = Flatten(name=\"first_flatten\")(vgg_model.output)\n",
    "# Dense() is a fully connected layer and produces 128 outputs.\n",
    "# relu layer is used to convert the negative nubers to 0 and retains +ve as such.\n",
    "pred = Dense(256, activation=\"relu\")(x)\n",
    "#Dropout() layer is used to randomly remove 50% of the networks.\n",
    "pred = Dropout(0.5)(pred)\n",
    "# Dense() layer is added such that it outputs only two classess \n",
    "# Softmax activation layer produces probabilities for different classess.\n",
    "pred = Dense(2,activation='softmax')(pred)\n",
    "# Model() is used to group layers\n",
    "model = Model(inputs=vgg_model.input,outputs=pred)\n",
    "model.summary()"
   ]
  },
  {
   "cell_type": "markdown",
   "id": "878281bf",
   "metadata": {
    "papermill": {
     "duration": 0.020681,
     "end_time": "2021-12-07T13:44:42.705257",
     "exception": false,
     "start_time": "2021-12-07T13:44:42.684576",
     "status": "completed"
    },
    "tags": []
   },
   "source": [
    "# Image Augmentation"
   ]
  },
  {
   "cell_type": "code",
   "execution_count": 6,
   "id": "3085ab02",
   "metadata": {
    "execution": {
     "iopub.execute_input": "2021-12-07T13:44:42.756450Z",
     "iopub.status.busy": "2021-12-07T13:44:42.755674Z",
     "iopub.status.idle": "2021-12-07T13:45:18.799010Z",
     "shell.execute_reply": "2021-12-07T13:45:18.798490Z",
     "shell.execute_reply.started": "2021-12-07T04:12:59.766387Z"
    },
    "papermill": {
     "duration": 36.073218,
     "end_time": "2021-12-07T13:45:18.799176",
     "exception": false,
     "start_time": "2021-12-07T13:44:42.725958",
     "status": "completed"
    },
    "tags": []
   },
   "outputs": [
    {
     "name": "stdout",
     "output_type": "stream",
     "text": [
      "Found 32042 images belonging to 2 classes.\n",
      "Found 7958 images belonging to 2 classes.\n"
     ]
    }
   ],
   "source": [
    "#ImageDataGenerator is used to modify the train and test images w.r.t the properties mentioned\n",
    "train_datagen = ImageDataGenerator(rescale = 1/255.0,\n",
    "                                   shear_range = 0.2,\n",
    "                                   zoom_range = 0.2,\n",
    "                                   rotation_range=20,\n",
    "                                   width_shift_range=0.2, \n",
    "                                   height_shift_range=0.2,\n",
    "                                   horizontal_flip = True)\n",
    "\n",
    "test_datagen = ImageDataGenerator(rescale = 1/255.0,\n",
    "                                   shear_range = 0.2,\n",
    "                                   zoom_range = 0.2,\n",
    "                                   rotation_range=20,\n",
    "                                   width_shift_range=0.2, \n",
    "                                   height_shift_range=0.2,\n",
    "                                   horizontal_flip = True)\n",
    "\n",
    "# flow_from_directory() is used to convert all the images in the specific directory\n",
    "training_set = train_datagen.flow_from_directory(directory = main_train,\n",
    "                                                 target_size = (227,227),\n",
    "                                                 batch_size = 500,\n",
    "                                                 )\n",
    "\n",
    "test_set = test_datagen.flow_from_directory(directory = main_test,\n",
    "                                                 target_size = (227,227),\n",
    "                                                 batch_size = 500,\n",
    "                                                 )"
   ]
  },
  {
   "cell_type": "markdown",
   "id": "dbe5573a",
   "metadata": {
    "papermill": {
     "duration": 0.022377,
     "end_time": "2021-12-07T13:45:18.841830",
     "exception": false,
     "start_time": "2021-12-07T13:45:18.819453",
     "status": "completed"
    },
    "tags": []
   },
   "source": [
    "# Model Fitting"
   ]
  },
  {
   "cell_type": "code",
   "execution_count": 7,
   "id": "5d2c9bbd",
   "metadata": {
    "execution": {
     "iopub.execute_input": "2021-12-07T13:45:18.893254Z",
     "iopub.status.busy": "2021-12-07T13:45:18.892153Z",
     "iopub.status.idle": "2021-12-07T13:45:18.902911Z",
     "shell.execute_reply": "2021-12-07T13:45:18.902124Z",
     "shell.execute_reply.started": "2021-12-07T03:20:35.116279Z"
    },
    "papermill": {
     "duration": 0.040908,
     "end_time": "2021-12-07T13:45:18.903077",
     "exception": false,
     "start_time": "2021-12-07T13:45:18.862169",
     "status": "completed"
    },
    "tags": []
   },
   "outputs": [],
   "source": [
    "# Loss function is used to find the errors or deviations in learning process\n",
    "# Optimizer is used to optimize the input weights\n",
    "# Metrics is used to measure the performance\n",
    "model.compile(optimizer=Adam(learning_rate=1.00),\n",
    "    loss=\"binary_crossentropy\",\n",
    "    metrics=['accuracy'])"
   ]
  },
  {
   "cell_type": "code",
   "execution_count": 8,
   "id": "fdf0eaec",
   "metadata": {
    "execution": {
     "iopub.execute_input": "2021-12-07T13:45:18.950619Z",
     "iopub.status.busy": "2021-12-07T13:45:18.948977Z",
     "iopub.status.idle": "2021-12-07T14:09:24.039341Z",
     "shell.execute_reply": "2021-12-07T14:09:24.040082Z",
     "shell.execute_reply.started": "2021-12-07T03:27:04.737592Z"
    },
    "papermill": {
     "duration": 1445.116863,
     "end_time": "2021-12-07T14:09:24.040373",
     "exception": false,
     "start_time": "2021-12-07T13:45:18.923510",
     "status": "completed"
    },
    "tags": []
   },
   "outputs": [
    {
     "name": "stderr",
     "output_type": "stream",
     "text": [
      "2021-12-07 13:45:26.905369: I tensorflow/compiler/mlir/mlir_graph_optimization_pass.cc:185] None of the MLIR Optimization Passes are enabled (registered 2)\n"
     ]
    },
    {
     "name": "stdout",
     "output_type": "stream",
     "text": [
      "Epoch 1/2\n"
     ]
    },
    {
     "name": "stderr",
     "output_type": "stream",
     "text": [
      "2021-12-07 13:45:37.505261: I tensorflow/stream_executor/cuda/cuda_dnn.cc:369] Loaded cuDNN version 8005\n",
      "2021-12-07 13:45:41.632049: W tensorflow/core/kernels/gpu_utils.cc:49] Failed to allocate memory for convolution redzone checking; skipping this check. This is benign and only means that we won't check cudnn for out-of-bounds reads and writes. This message will only be printed once.\n"
     ]
    },
    {
     "name": "stdout",
     "output_type": "stream",
     "text": [
      "65/65 [==============================] - 804s 12s/step - loss: 1849.3131 - accuracy: 0.5183 - val_loss: 0.6973 - val_accuracy: 0.4947\n",
      "Epoch 2/2\n",
      "65/65 [==============================] - 574s 9s/step - loss: 2.0462 - accuracy: 0.4993 - val_loss: 0.6934 - val_accuracy: 0.5053\n"
     ]
    }
   ],
   "source": [
    "# fit() is used to train the model \n",
    "\n",
    "mod = model.fit(\n",
    "  training_set,\n",
    "  validation_data=test_set,\n",
    "  epochs=2,\n",
    "  steps_per_epoch=len(training_set),\n",
    "  validation_steps=len(test_set)\n",
    ")"
   ]
  },
  {
   "cell_type": "code",
   "execution_count": 9,
   "id": "de16f959",
   "metadata": {
    "execution": {
     "iopub.execute_input": "2021-12-07T14:09:24.186394Z",
     "iopub.status.busy": "2021-12-07T14:09:24.185348Z",
     "iopub.status.idle": "2021-12-07T14:09:24.511520Z",
     "shell.execute_reply": "2021-12-07T14:09:24.512094Z",
     "shell.execute_reply.started": "2021-12-07T03:34:46.099747Z"
    },
    "papermill": {
     "duration": 0.406256,
     "end_time": "2021-12-07T14:09:24.512304",
     "exception": false,
     "start_time": "2021-12-07T14:09:24.106048",
     "status": "completed"
    },
    "tags": []
   },
   "outputs": [
    {
     "data": {
      "text/plain": [
       "['256_1.00_100%']"
      ]
     },
     "execution_count": 9,
     "metadata": {},
     "output_type": "execute_result"
    }
   ],
   "source": [
    "# To save the particular model in .h5 format\n",
    "import tensorflow as tf\n",
    "from tensorflow.keras.models import load_model\n",
    "model.save('256_1.00_100%.h5')\n",
    "\n",
    "import joblib\n",
    "joblib.dump(mod.history,'256_1.00_100%')"
   ]
  },
  {
   "cell_type": "code",
   "execution_count": 10,
   "id": "fb74a6c0",
   "metadata": {
    "execution": {
     "iopub.execute_input": "2021-12-07T14:09:24.645441Z",
     "iopub.status.busy": "2021-12-07T14:09:24.644323Z",
     "iopub.status.idle": "2021-12-07T14:09:24.646566Z",
     "shell.execute_reply": "2021-12-07T14:09:24.647152Z",
     "shell.execute_reply.started": "2021-12-07T12:37:25.885630Z"
    },
    "papermill": {
     "duration": 0.073015,
     "end_time": "2021-12-07T14:09:24.647292",
     "exception": false,
     "start_time": "2021-12-07T14:09:24.574277",
     "status": "completed"
    },
    "tags": []
   },
   "outputs": [],
   "source": [
    "#import joblib\n",
    "\n",
    "#k=joblib.load('kaggle kernels output balasubramaniankn/256-lr-ds -p /path/to/dest')\n",
    "\n",
    "#print(k[\"loss\"])"
   ]
  },
  {
   "cell_type": "code",
   "execution_count": null,
   "id": "96eb2bca",
   "metadata": {
    "papermill": {
     "duration": 0.065503,
     "end_time": "2021-12-07T14:09:24.778070",
     "exception": false,
     "start_time": "2021-12-07T14:09:24.712567",
     "status": "completed"
    },
    "tags": []
   },
   "outputs": [],
   "source": []
  }
 ],
 "metadata": {
  "kernelspec": {
   "display_name": "Python 3",
   "language": "python",
   "name": "python3"
  },
  "language_info": {
   "codemirror_mode": {
    "name": "ipython",
    "version": 3
   },
   "file_extension": ".py",
   "mimetype": "text/x-python",
   "name": "python",
   "nbconvert_exporter": "python",
   "pygments_lexer": "ipython3",
   "version": "3.7.12"
  },
  "papermill": {
   "default_parameters": {},
   "duration": 1505.775114,
   "end_time": "2021-12-07T14:09:27.945942",
   "environment_variables": {},
   "exception": null,
   "input_path": "__notebook__.ipynb",
   "output_path": "__notebook__.ipynb",
   "parameters": {},
   "start_time": "2021-12-07T13:44:22.170828",
   "version": "2.3.3"
  }
 },
 "nbformat": 4,
 "nbformat_minor": 5
}
