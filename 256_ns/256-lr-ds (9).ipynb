{
 "cells": [
  {
   "cell_type": "markdown",
   "id": "533eba3e",
   "metadata": {
    "papermill": {
     "duration": 0.014053,
     "end_time": "2021-12-07T04:14:17.878105",
     "exception": false,
     "start_time": "2021-12-07T04:14:17.864052",
     "status": "completed"
    },
    "tags": []
   },
   "source": [
    "# Importing the DataSet"
   ]
  },
  {
   "cell_type": "code",
   "execution_count": 1,
   "id": "d0a85817",
   "metadata": {
    "execution": {
     "iopub.execute_input": "2021-12-07T04:14:17.918118Z",
     "iopub.status.busy": "2021-12-07T04:14:17.917079Z",
     "iopub.status.idle": "2021-12-07T04:14:17.925390Z",
     "shell.execute_reply": "2021-12-07T04:14:17.924758Z",
     "shell.execute_reply.started": "2021-12-07T04:11:31.172750Z"
    },
    "papermill": {
     "duration": 0.031861,
     "end_time": "2021-12-07T04:14:17.925566",
     "exception": false,
     "start_time": "2021-12-07T04:14:17.893705",
     "status": "completed"
    },
    "tags": []
   },
   "outputs": [],
   "source": [
    "img_size = [227,227] #List which stores the resolution\n",
    "main_train = '../input/mit-split-crack/75/Train' #Stores the path of the train directory\n",
    "main_test = '../input/mit-split-crack/75/Test' #Stores the path of the test directory"
   ]
  },
  {
   "cell_type": "code",
   "execution_count": 2,
   "id": "bf78cb31",
   "metadata": {
    "execution": {
     "iopub.execute_input": "2021-12-07T04:14:17.955720Z",
     "iopub.status.busy": "2021-12-07T04:14:17.954908Z",
     "iopub.status.idle": "2021-12-07T04:14:23.867464Z",
     "shell.execute_reply": "2021-12-07T04:14:23.866447Z",
     "shell.execute_reply.started": "2021-12-07T04:12:54.389500Z"
    },
    "papermill": {
     "duration": 5.930176,
     "end_time": "2021-12-07T04:14:23.867611",
     "exception": false,
     "start_time": "2021-12-07T04:14:17.937435",
     "status": "completed"
    },
    "tags": []
   },
   "outputs": [],
   "source": [
    "from tensorflow.keras.layers import Input,Dense,Flatten,Dropout\n",
    "from tensorflow.keras.models import Model,Sequential\n",
    "from tensorflow.keras.applications.vgg16 import VGG16,preprocess_input\n",
    "from matplotlib import pyplot as plt\n",
    "import numpy as np\n",
    "from tensorflow.keras.preprocessing import image\n",
    "from tensorflow.keras.optimizers import Adam\n",
    "from tensorflow.keras.preprocessing.image import ImageDataGenerator"
   ]
  },
  {
   "cell_type": "markdown",
   "id": "835171f7",
   "metadata": {
    "papermill": {
     "duration": 0.013242,
     "end_time": "2021-12-07T04:14:23.893499",
     "exception": false,
     "start_time": "2021-12-07T04:14:23.880257",
     "status": "completed"
    },
    "tags": []
   },
   "source": [
    "# Model Building"
   ]
  },
  {
   "cell_type": "code",
   "execution_count": 3,
   "id": "56c7849c",
   "metadata": {
    "execution": {
     "iopub.execute_input": "2021-12-07T04:14:23.926082Z",
     "iopub.status.busy": "2021-12-07T04:14:23.925406Z",
     "iopub.status.idle": "2021-12-07T04:14:27.893512Z",
     "shell.execute_reply": "2021-12-07T04:14:27.892857Z",
     "shell.execute_reply.started": "2021-12-07T03:17:35.187792Z"
    },
    "papermill": {
     "duration": 3.987842,
     "end_time": "2021-12-07T04:14:27.893666",
     "exception": false,
     "start_time": "2021-12-07T04:14:23.905824",
     "status": "completed"
    },
    "tags": []
   },
   "outputs": [
    {
     "name": "stderr",
     "output_type": "stream",
     "text": [
      "2021-12-07 04:14:24.020908: I tensorflow/stream_executor/cuda/cuda_gpu_executor.cc:937] successful NUMA node read from SysFS had negative value (-1), but there must be at least one NUMA node, so returning NUMA node zero\n",
      "2021-12-07 04:14:24.147353: I tensorflow/stream_executor/cuda/cuda_gpu_executor.cc:937] successful NUMA node read from SysFS had negative value (-1), but there must be at least one NUMA node, so returning NUMA node zero\n",
      "2021-12-07 04:14:24.148402: I tensorflow/stream_executor/cuda/cuda_gpu_executor.cc:937] successful NUMA node read from SysFS had negative value (-1), but there must be at least one NUMA node, so returning NUMA node zero\n",
      "2021-12-07 04:14:24.150535: I tensorflow/core/platform/cpu_feature_guard.cc:142] This TensorFlow binary is optimized with oneAPI Deep Neural Network Library (oneDNN) to use the following CPU instructions in performance-critical operations:  AVX2 FMA\n",
      "To enable them in other operations, rebuild TensorFlow with the appropriate compiler flags.\n",
      "2021-12-07 04:14:24.151871: I tensorflow/stream_executor/cuda/cuda_gpu_executor.cc:937] successful NUMA node read from SysFS had negative value (-1), but there must be at least one NUMA node, so returning NUMA node zero\n",
      "2021-12-07 04:14:24.152909: I tensorflow/stream_executor/cuda/cuda_gpu_executor.cc:937] successful NUMA node read from SysFS had negative value (-1), but there must be at least one NUMA node, so returning NUMA node zero\n",
      "2021-12-07 04:14:24.153893: I tensorflow/stream_executor/cuda/cuda_gpu_executor.cc:937] successful NUMA node read from SysFS had negative value (-1), but there must be at least one NUMA node, so returning NUMA node zero\n",
      "2021-12-07 04:14:26.448155: I tensorflow/stream_executor/cuda/cuda_gpu_executor.cc:937] successful NUMA node read from SysFS had negative value (-1), but there must be at least one NUMA node, so returning NUMA node zero\n",
      "2021-12-07 04:14:26.449197: I tensorflow/stream_executor/cuda/cuda_gpu_executor.cc:937] successful NUMA node read from SysFS had negative value (-1), but there must be at least one NUMA node, so returning NUMA node zero\n",
      "2021-12-07 04:14:26.450188: I tensorflow/stream_executor/cuda/cuda_gpu_executor.cc:937] successful NUMA node read from SysFS had negative value (-1), but there must be at least one NUMA node, so returning NUMA node zero\n",
      "2021-12-07 04:14:26.451213: I tensorflow/core/common_runtime/gpu/gpu_device.cc:1510] Created device /job:localhost/replica:0/task:0/device:GPU:0 with 15403 MB memory:  -> device: 0, name: Tesla P100-PCIE-16GB, pci bus id: 0000:00:04.0, compute capability: 6.0\n"
     ]
    },
    {
     "name": "stdout",
     "output_type": "stream",
     "text": [
      "Downloading data from https://storage.googleapis.com/tensorflow/keras-applications/vgg16/vgg16_weights_tf_dim_ordering_tf_kernels_notop.h5\n",
      "58892288/58889256 [==============================] - 1s 0us/step\n",
      "58900480/58889256 [==============================] - 1s 0us/step\n"
     ]
    }
   ],
   "source": [
    "vgg_model = VGG16(include_top=False,\n",
    "    weights=\"imagenet\",\n",
    "    input_shape=img_size + [3])\n",
    "\n",
    "# Loading the VGG16 pre trained model\n",
    "\n",
    "# include_top - this specifies whether the final layer before the output layer has to be include \n",
    "# or not. If included then there will be 1000 number of classes at the output.\n",
    "\n",
    "# Weights are trained using imagenet"
   ]
  },
  {
   "cell_type": "code",
   "execution_count": 4,
   "id": "62c7eade",
   "metadata": {
    "execution": {
     "iopub.execute_input": "2021-12-07T04:14:27.944331Z",
     "iopub.status.busy": "2021-12-07T04:14:27.942596Z",
     "iopub.status.idle": "2021-12-07T04:14:27.956636Z",
     "shell.execute_reply": "2021-12-07T04:14:27.957125Z",
     "shell.execute_reply.started": "2021-12-07T03:17:50.149428Z"
    },
    "papermill": {
     "duration": 0.044024,
     "end_time": "2021-12-07T04:14:27.957267",
     "exception": false,
     "start_time": "2021-12-07T04:14:27.913243",
     "status": "completed"
    },
    "tags": []
   },
   "outputs": [
    {
     "name": "stdout",
     "output_type": "stream",
     "text": [
      "Model: \"vgg16\"\n",
      "_________________________________________________________________\n",
      "Layer (type)                 Output Shape              Param #   \n",
      "=================================================================\n",
      "input_1 (InputLayer)         [(None, 227, 227, 3)]     0         \n",
      "_________________________________________________________________\n",
      "block1_conv1 (Conv2D)        (None, 227, 227, 64)      1792      \n",
      "_________________________________________________________________\n",
      "block1_conv2 (Conv2D)        (None, 227, 227, 64)      36928     \n",
      "_________________________________________________________________\n",
      "block1_pool (MaxPooling2D)   (None, 113, 113, 64)      0         \n",
      "_________________________________________________________________\n",
      "block2_conv1 (Conv2D)        (None, 113, 113, 128)     73856     \n",
      "_________________________________________________________________\n",
      "block2_conv2 (Conv2D)        (None, 113, 113, 128)     147584    \n",
      "_________________________________________________________________\n",
      "block2_pool (MaxPooling2D)   (None, 56, 56, 128)       0         \n",
      "_________________________________________________________________\n",
      "block3_conv1 (Conv2D)        (None, 56, 56, 256)       295168    \n",
      "_________________________________________________________________\n",
      "block3_conv2 (Conv2D)        (None, 56, 56, 256)       590080    \n",
      "_________________________________________________________________\n",
      "block3_conv3 (Conv2D)        (None, 56, 56, 256)       590080    \n",
      "_________________________________________________________________\n",
      "block3_pool (MaxPooling2D)   (None, 28, 28, 256)       0         \n",
      "_________________________________________________________________\n",
      "block4_conv1 (Conv2D)        (None, 28, 28, 512)       1180160   \n",
      "_________________________________________________________________\n",
      "block4_conv2 (Conv2D)        (None, 28, 28, 512)       2359808   \n",
      "_________________________________________________________________\n",
      "block4_conv3 (Conv2D)        (None, 28, 28, 512)       2359808   \n",
      "_________________________________________________________________\n",
      "block4_pool (MaxPooling2D)   (None, 14, 14, 512)       0         \n",
      "_________________________________________________________________\n",
      "block5_conv1 (Conv2D)        (None, 14, 14, 512)       2359808   \n",
      "_________________________________________________________________\n",
      "block5_conv2 (Conv2D)        (None, 14, 14, 512)       2359808   \n",
      "_________________________________________________________________\n",
      "block5_conv3 (Conv2D)        (None, 14, 14, 512)       2359808   \n",
      "_________________________________________________________________\n",
      "block5_pool (MaxPooling2D)   (None, 7, 7, 512)         0         \n",
      "=================================================================\n",
      "Total params: 14,714,688\n",
      "Trainable params: 0\n",
      "Non-trainable params: 14,714,688\n",
      "_________________________________________________________________\n"
     ]
    }
   ],
   "source": [
    "# To fix the weights of the pre trained model\n",
    "for lay in vgg_model.layers:\n",
    "    lay.trainable = False\n",
    "vgg_model.summary()"
   ]
  },
  {
   "cell_type": "code",
   "execution_count": 5,
   "id": "90315a9f",
   "metadata": {
    "execution": {
     "iopub.execute_input": "2021-12-07T04:14:28.001550Z",
     "iopub.status.busy": "2021-12-07T04:14:28.000564Z",
     "iopub.status.idle": "2021-12-07T04:14:28.047406Z",
     "shell.execute_reply": "2021-12-07T04:14:28.048561Z",
     "shell.execute_reply.started": "2021-12-07T03:19:18.506504Z"
    },
    "papermill": {
     "duration": 0.073595,
     "end_time": "2021-12-07T04:14:28.048728",
     "exception": false,
     "start_time": "2021-12-07T04:14:27.975133",
     "status": "completed"
    },
    "tags": []
   },
   "outputs": [
    {
     "name": "stdout",
     "output_type": "stream",
     "text": [
      "Model: \"model\"\n",
      "_________________________________________________________________\n",
      "Layer (type)                 Output Shape              Param #   \n",
      "=================================================================\n",
      "input_1 (InputLayer)         [(None, 227, 227, 3)]     0         \n",
      "_________________________________________________________________\n",
      "block1_conv1 (Conv2D)        (None, 227, 227, 64)      1792      \n",
      "_________________________________________________________________\n",
      "block1_conv2 (Conv2D)        (None, 227, 227, 64)      36928     \n",
      "_________________________________________________________________\n",
      "block1_pool (MaxPooling2D)   (None, 113, 113, 64)      0         \n",
      "_________________________________________________________________\n",
      "block2_conv1 (Conv2D)        (None, 113, 113, 128)     73856     \n",
      "_________________________________________________________________\n",
      "block2_conv2 (Conv2D)        (None, 113, 113, 128)     147584    \n",
      "_________________________________________________________________\n",
      "block2_pool (MaxPooling2D)   (None, 56, 56, 128)       0         \n",
      "_________________________________________________________________\n",
      "block3_conv1 (Conv2D)        (None, 56, 56, 256)       295168    \n",
      "_________________________________________________________________\n",
      "block3_conv2 (Conv2D)        (None, 56, 56, 256)       590080    \n",
      "_________________________________________________________________\n",
      "block3_conv3 (Conv2D)        (None, 56, 56, 256)       590080    \n",
      "_________________________________________________________________\n",
      "block3_pool (MaxPooling2D)   (None, 28, 28, 256)       0         \n",
      "_________________________________________________________________\n",
      "block4_conv1 (Conv2D)        (None, 28, 28, 512)       1180160   \n",
      "_________________________________________________________________\n",
      "block4_conv2 (Conv2D)        (None, 28, 28, 512)       2359808   \n",
      "_________________________________________________________________\n",
      "block4_conv3 (Conv2D)        (None, 28, 28, 512)       2359808   \n",
      "_________________________________________________________________\n",
      "block4_pool (MaxPooling2D)   (None, 14, 14, 512)       0         \n",
      "_________________________________________________________________\n",
      "block5_conv1 (Conv2D)        (None, 14, 14, 512)       2359808   \n",
      "_________________________________________________________________\n",
      "block5_conv2 (Conv2D)        (None, 14, 14, 512)       2359808   \n",
      "_________________________________________________________________\n",
      "block5_conv3 (Conv2D)        (None, 14, 14, 512)       2359808   \n",
      "_________________________________________________________________\n",
      "block5_pool (MaxPooling2D)   (None, 7, 7, 512)         0         \n",
      "_________________________________________________________________\n",
      "first_flatten (Flatten)      (None, 25088)             0         \n",
      "_________________________________________________________________\n",
      "dense (Dense)                (None, 256)               6422784   \n",
      "_________________________________________________________________\n",
      "dropout (Dropout)            (None, 256)               0         \n",
      "_________________________________________________________________\n",
      "dense_1 (Dense)              (None, 2)                 514       \n",
      "=================================================================\n",
      "Total params: 21,137,986\n",
      "Trainable params: 6,423,298\n",
      "Non-trainable params: 14,714,688\n",
      "_________________________________________________________________\n"
     ]
    }
   ],
   "source": [
    "# Flatten() is used to convert the last layer to vector or as fully connected\n",
    "x = Flatten(name=\"first_flatten\")(vgg_model.output)\n",
    "# Dense() is a fully connected layer and produces 128 outputs.\n",
    "# relu layer is used to convert the negative nubers to 0 and retains +ve as such.\n",
    "pred = Dense(256, activation=\"relu\")(x)\n",
    "#Dropout() layer is used to randomly remove 50% of the networks.\n",
    "pred = Dropout(0.5)(pred)\n",
    "# Dense() layer is added such that it outputs only two classess \n",
    "# Softmax activation layer produces probabilities for different classess.\n",
    "pred = Dense(2,activation='softmax')(pred)\n",
    "# Model() is used to group layers\n",
    "model = Model(inputs=vgg_model.input,outputs=pred)\n",
    "model.summary()"
   ]
  },
  {
   "cell_type": "markdown",
   "id": "6aa441dd",
   "metadata": {
    "papermill": {
     "duration": 0.018511,
     "end_time": "2021-12-07T04:14:28.086440",
     "exception": false,
     "start_time": "2021-12-07T04:14:28.067929",
     "status": "completed"
    },
    "tags": []
   },
   "source": [
    "# Image Augmentation"
   ]
  },
  {
   "cell_type": "code",
   "execution_count": 6,
   "id": "2e9eb9f7",
   "metadata": {
    "execution": {
     "iopub.execute_input": "2021-12-07T04:14:28.145709Z",
     "iopub.status.busy": "2021-12-07T04:14:28.144648Z",
     "iopub.status.idle": "2021-12-07T04:14:51.028740Z",
     "shell.execute_reply": "2021-12-07T04:14:51.028054Z",
     "shell.execute_reply.started": "2021-12-07T04:12:59.766387Z"
    },
    "papermill": {
     "duration": 22.923531,
     "end_time": "2021-12-07T04:14:51.028931",
     "exception": false,
     "start_time": "2021-12-07T04:14:28.105400",
     "status": "completed"
    },
    "tags": []
   },
   "outputs": [
    {
     "name": "stdout",
     "output_type": "stream",
     "text": [
      "Found 23948 images belonging to 2 classes.\n",
      "Found 6006 images belonging to 2 classes.\n"
     ]
    }
   ],
   "source": [
    "#ImageDataGenerator is used to modify the train and test images w.r.t the properties mentioned\n",
    "train_datagen = ImageDataGenerator(rescale = 1/255.0,\n",
    "                                   shear_range = 0.2,\n",
    "                                   zoom_range = 0.2,\n",
    "                                   rotation_range=20,\n",
    "                                   width_shift_range=0.2, \n",
    "                                   height_shift_range=0.2,\n",
    "                                   horizontal_flip = True)\n",
    "\n",
    "test_datagen = ImageDataGenerator(rescale = 1/255.0,\n",
    "                                   shear_range = 0.2,\n",
    "                                   zoom_range = 0.2,\n",
    "                                   rotation_range=20,\n",
    "                                   width_shift_range=0.2, \n",
    "                                   height_shift_range=0.2,\n",
    "                                   horizontal_flip = True)\n",
    "\n",
    "# flow_from_directory() is used to convert all the images in the specific directory\n",
    "training_set = train_datagen.flow_from_directory(directory = main_train,\n",
    "                                                 target_size = (227,227),\n",
    "                                                 batch_size = 500,\n",
    "                                                 )\n",
    "\n",
    "test_set = test_datagen.flow_from_directory(directory = main_test,\n",
    "                                                 target_size = (227,227),\n",
    "                                                 batch_size = 500,\n",
    "                                                 )"
   ]
  },
  {
   "cell_type": "markdown",
   "id": "0ee43319",
   "metadata": {
    "papermill": {
     "duration": 0.019004,
     "end_time": "2021-12-07T04:14:51.068192",
     "exception": false,
     "start_time": "2021-12-07T04:14:51.049188",
     "status": "completed"
    },
    "tags": []
   },
   "source": [
    "# Model Fitting"
   ]
  },
  {
   "cell_type": "code",
   "execution_count": 7,
   "id": "ded14e11",
   "metadata": {
    "execution": {
     "iopub.execute_input": "2021-12-07T04:14:51.118942Z",
     "iopub.status.busy": "2021-12-07T04:14:51.117798Z",
     "iopub.status.idle": "2021-12-07T04:14:51.126251Z",
     "shell.execute_reply": "2021-12-07T04:14:51.125554Z",
     "shell.execute_reply.started": "2021-12-07T03:20:35.116279Z"
    },
    "papermill": {
     "duration": 0.038598,
     "end_time": "2021-12-07T04:14:51.126416",
     "exception": false,
     "start_time": "2021-12-07T04:14:51.087818",
     "status": "completed"
    },
    "tags": []
   },
   "outputs": [],
   "source": [
    "# Loss function is used to find the errors or deviations in learning process\n",
    "# Optimizer is used to optimize the input weights\n",
    "# Metrics is used to measure the performance\n",
    "model.compile(optimizer=Adam(learning_rate=0.01),\n",
    "    loss=\"binary_crossentropy\",\n",
    "    metrics=['accuracy'])"
   ]
  },
  {
   "cell_type": "code",
   "execution_count": 8,
   "id": "f18295e2",
   "metadata": {
    "execution": {
     "iopub.execute_input": "2021-12-07T04:14:51.170537Z",
     "iopub.status.busy": "2021-12-07T04:14:51.169273Z",
     "iopub.status.idle": "2021-12-07T04:31:19.867728Z",
     "shell.execute_reply": "2021-12-07T04:31:19.868281Z",
     "shell.execute_reply.started": "2021-12-07T03:27:04.737592Z"
    },
    "papermill": {
     "duration": 988.723773,
     "end_time": "2021-12-07T04:31:19.868560",
     "exception": false,
     "start_time": "2021-12-07T04:14:51.144787",
     "status": "completed"
    },
    "tags": []
   },
   "outputs": [
    {
     "name": "stderr",
     "output_type": "stream",
     "text": [
      "2021-12-07 04:14:58.540488: I tensorflow/compiler/mlir/mlir_graph_optimization_pass.cc:185] None of the MLIR Optimization Passes are enabled (registered 2)\n"
     ]
    },
    {
     "name": "stdout",
     "output_type": "stream",
     "text": [
      "Epoch 1/2\n"
     ]
    },
    {
     "name": "stderr",
     "output_type": "stream",
     "text": [
      "2021-12-07 04:15:08.087273: I tensorflow/stream_executor/cuda/cuda_dnn.cc:369] Loaded cuDNN version 8005\n",
      "2021-12-07 04:15:12.364765: W tensorflow/core/kernels/gpu_utils.cc:49] Failed to allocate memory for convolution redzone checking; skipping this check. This is benign and only means that we won't check cudnn for out-of-bounds reads and writes. This message will only be printed once.\n"
     ]
    },
    {
     "name": "stdout",
     "output_type": "stream",
     "text": [
      "48/48 [==============================] - 524s 10s/step - loss: 1.5852 - accuracy: 0.9221 - val_loss: 0.0496 - val_accuracy: 0.9832\n",
      "Epoch 2/2\n",
      "48/48 [==============================] - 418s 9s/step - loss: 0.0519 - accuracy: 0.9837 - val_loss: 0.0341 - val_accuracy: 0.9900\n"
     ]
    }
   ],
   "source": [
    "# fit() is used to train the model \n",
    "\n",
    "mod = model.fit(\n",
    "  training_set,\n",
    "  validation_data=test_set,\n",
    "  epochs=2,\n",
    "  steps_per_epoch=len(training_set),\n",
    "  validation_steps=len(test_set)\n",
    ")"
   ]
  },
  {
   "cell_type": "code",
   "execution_count": 9,
   "id": "a1a9fc9a",
   "metadata": {
    "execution": {
     "iopub.execute_input": "2021-12-07T04:31:19.998549Z",
     "iopub.status.busy": "2021-12-07T04:31:19.997391Z",
     "iopub.status.idle": "2021-12-07T04:31:20.447065Z",
     "shell.execute_reply": "2021-12-07T04:31:20.447888Z",
     "shell.execute_reply.started": "2021-12-07T03:34:46.099747Z"
    },
    "papermill": {
     "duration": 0.520029,
     "end_time": "2021-12-07T04:31:20.448123",
     "exception": false,
     "start_time": "2021-12-07T04:31:19.928094",
     "status": "completed"
    },
    "tags": []
   },
   "outputs": [
    {
     "data": {
      "text/plain": [
       "['256_0.01_75%']"
      ]
     },
     "execution_count": 9,
     "metadata": {},
     "output_type": "execute_result"
    }
   ],
   "source": [
    "# To save the particular model in .h5 format\n",
    "import tensorflow as tf\n",
    "from tensorflow.keras.models import load_model\n",
    "model.save('256_0.01_75%.h5')\n",
    "\n",
    "import joblib\n",
    "joblib.dump(mod.history,'256_0.01_75%')"
   ]
  },
  {
   "cell_type": "code",
   "execution_count": null,
   "id": "489e4980",
   "metadata": {
    "papermill": {
     "duration": 0.094228,
     "end_time": "2021-12-07T04:31:20.636857",
     "exception": false,
     "start_time": "2021-12-07T04:31:20.542629",
     "status": "completed"
    },
    "tags": []
   },
   "outputs": [],
   "source": []
  }
 ],
 "metadata": {
  "kernelspec": {
   "display_name": "Python 3",
   "language": "python",
   "name": "python3"
  },
  "language_info": {
   "codemirror_mode": {
    "name": "ipython",
    "version": 3
   },
   "file_extension": ".py",
   "mimetype": "text/x-python",
   "name": "python",
   "nbconvert_exporter": "python",
   "pygments_lexer": "ipython3",
   "version": "3.7.12"
  },
  "papermill": {
   "default_parameters": {},
   "duration": 1036.124484,
   "end_time": "2021-12-07T04:31:23.484148",
   "environment_variables": {},
   "exception": null,
   "input_path": "__notebook__.ipynb",
   "output_path": "__notebook__.ipynb",
   "parameters": {},
   "start_time": "2021-12-07T04:14:07.359664",
   "version": "2.3.3"
  }
 },
 "nbformat": 4,
 "nbformat_minor": 5
}
