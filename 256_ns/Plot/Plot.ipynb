{
 "cells": [
  {
   "cell_type": "code",
   "execution_count": 27,
   "id": "079f8f6d",
   "metadata": {},
   "outputs": [
    {
     "data": {
      "text/plain": [
       "<function matplotlib.pyplot.show(close=None, block=None)>"
      ]
     },
     "execution_count": 27,
     "metadata": {},
     "output_type": "execute_result"
    },
    {
     "data": {
      "image/png": "[encoded data removed]",
      "text/plain": [
       "<Figure size 432x288 with 1 Axes>"
      ]
     },
     "metadata": {
      "needs_background": "light"
     },
     "output_type": "display_data"
    }
   ],
   "source": [
    "import matplotlib.pyplot as plt\n",
    "import numpy as np\n",
    "a=0.3\n",
    "\n",
    "x=[\"100\",\"75\",\"50\",\"25\"]\n",
    "lr_0_01=[98.0,98.3,99.0,99.06]\n",
    "lr_0_10=[96.7,95.2,49.8,97.9]\n",
    "lr_1_00=[81.1,75.2,49.9,50.5]\n",
    "\n",
    "bar1=np.arange(len(x))\n",
    "bar2=[i+a for i in bar1]\n",
    "bar3=[i+a for i in bar2]\n",
    "\n",
    "plt.bar(bar1,lr_0_01,a,label=\"0.01\")\n",
    "plt.bar(bar2,lr_0_10,a,label=\"0.10\")\n",
    "plt.bar(bar3,lr_1_00,a,label=\"1.00\")\n",
    "\n",
    "plt.xlabel(\"Image dataset\")\n",
    "plt.ylabel(\"Model Accuracy\")\n",
    "plt.title(\"Node Size: 256\" )\n",
    "plt.xticks(bar1+a,x)\n",
    "#plt.grid()\n",
    "plt.legend()\n",
    "plt.savefig('ns_256.png')\n",
    "plt.show"
   ]
  },
  {
   "cell_type": "code",
   "execution_count": null,
   "id": "7a2eaf0e",
   "metadata": {},
   "outputs": [],
   "source": []
  }
 ],
 "metadata": {
  "kernelspec": {
   "display_name": "Python 3",
   "language": "python",
   "name": "python3"
  },
  "language_info": {
   "codemirror_mode": {
    "name": "ipython",
    "version": 3
   },
   "file_extension": ".py",
   "mimetype": "text/x-python",
   "name": "python",
   "nbconvert_exporter": "python",
   "pygments_lexer": "ipython3",
   "version": "3.8.8"
  }
 },
 "nbformat": 4,
 "nbformat_minor": 5
}
