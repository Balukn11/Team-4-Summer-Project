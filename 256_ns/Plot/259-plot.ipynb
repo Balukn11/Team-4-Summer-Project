{
 "cells": [
  {
   "cell_type": "code",
   "execution_count": 1,
   "id": "a2e76a13",
   "metadata": {
    "execution": {
     "iopub.execute_input": "2021-12-14T04:09:48.139986Z",
     "iopub.status.busy": "2021-12-14T04:09:48.139027Z",
     "iopub.status.idle": "2021-12-14T04:09:48.414454Z",
     "shell.execute_reply": "2021-12-14T04:09:48.413704Z",
     "shell.execute_reply.started": "2021-12-14T04:08:49.680196Z"
    },
    "papermill": {
     "duration": 0.292836,
     "end_time": "2021-12-14T04:09:48.414614",
     "exception": false,
     "start_time": "2021-12-14T04:09:48.121778",
     "status": "completed"
    },
    "tags": []
   },
   "outputs": [
    {
     "data": {
      "text/plain": [
       "<function matplotlib.pyplot.show(close=None, block=None)>"
      ]
     },
     "execution_count": 1,
     "metadata": {},
     "output_type": "execute_result"
    },
    {
     "data": {
      "image/png": "[encoded data removed]",
      "text/plain": [
       "<Figure size 432x288 with 1 Axes>"
      ]
     },
     "metadata": {
      "needs_background": "light"
     },
     "output_type": "display_data"
    }
   ],
   "source": [
    "import matplotlib.pyplot as plt\n",
    "import numpy as np\n",
    "a=0.2\n",
    "\n",
    "x=[\"100\",\"75\",\"50\",\"25\"]\n",
    "lr_0_01=[99.06,99.0,98.3,98.0]\n",
    "lr_0_10=[97.9,49.8,95.2,96.7]\n",
    "lr_1_00=[50.5,49.9,75.2,81.1]\n",
    "\n",
    "bar1=np.arange(len(x))\n",
    "bar2=[i+a for i in bar1]\n",
    "bar3=[i+a for i in bar2]\n",
    "\n",
    "plt.bar(bar1,lr_0_01,a,label=\"0.01\")\n",
    "plt.bar(bar2,lr_0_10,a,label=\"0.10\")\n",
    "plt.bar(bar3,lr_1_00,a,label=\"1.00\")\n",
    "\n",
    "plt.xlabel(\"Image dataset\")\n",
    "plt.ylabel(\"Model Accuracy\")\n",
    "plt.title(\"Node Size: 256\" )\n",
    "plt.xticks(bar1+a,x)\n",
    "#plt.grid()\n",
    "plt.legend(loc='lower right')\n",
    "plt.savefig('ns_256.png')\n",
    "plt.show"
   ]
  },
  {
   "cell_type": "code",
   "execution_count": null,
   "id": "f4a6e26e",
   "metadata": {
    "papermill": {
     "duration": 0.003166,
     "end_time": "2021-12-14T04:09:48.423252",
     "exception": false,
     "start_time": "2021-12-14T04:09:48.420086",
     "status": "completed"
    },
    "tags": []
   },
   "outputs": [],
   "source": []
  }
 ],
 "metadata": {
  "kernelspec": {
   "display_name": "Python 3",
   "language": "python",
   "name": "python3"
  },
  "language_info": {
   "codemirror_mode": {
    "name": "ipython",
    "version": 3
   },
   "file_extension": ".py",
   "mimetype": "text/x-python",
   "name": "python",
   "nbconvert_exporter": "python",
   "pygments_lexer": "ipython3",
   "version": "3.7.12"
  },
  "papermill": {
   "default_parameters": {},
   "duration": 9.243795,
   "end_time": "2021-12-14T04:09:48.835119",
   "environment_variables": {},
   "exception": null,
   "input_path": "__notebook__.ipynb",
   "output_path": "__notebook__.ipynb",
   "parameters": {},
   "start_time": "2021-12-14T04:09:39.591324",
   "version": "2.3.3"
  }
 },
 "nbformat": 4,
 "nbformat_minor": 5
}
