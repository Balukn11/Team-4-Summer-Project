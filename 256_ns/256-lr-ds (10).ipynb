{
 "cells": [
  {
   "cell_type": "markdown",
   "id": "40e466ee",
   "metadata": {
    "papermill": {
     "duration": 0.019391,
     "end_time": "2021-12-07T03:59:00.276170",
     "exception": false,
     "start_time": "2021-12-07T03:59:00.256779",
     "status": "completed"
    },
    "tags": []
   },
   "source": [
    "# Importing the DataSet"
   ]
  },
  {
   "cell_type": "code",
   "execution_count": 1,
   "id": "9f4ecf1f",
   "metadata": {
    "execution": {
     "iopub.execute_input": "2021-12-07T03:59:00.323488Z",
     "iopub.status.busy": "2021-12-07T03:59:00.322729Z",
     "iopub.status.idle": "2021-12-07T03:59:00.331936Z",
     "shell.execute_reply": "2021-12-07T03:59:00.329663Z",
     "shell.execute_reply.started": "2021-12-07T03:16:55.481747Z"
    },
    "papermill": {
     "duration": 0.041654,
     "end_time": "2021-12-07T03:59:00.332487",
     "exception": false,
     "start_time": "2021-12-07T03:59:00.290833",
     "status": "completed"
    },
    "tags": []
   },
   "outputs": [],
   "source": [
    "img_size = [227,227] #List which stores the resolution\n",
    "main_train = '../input/mit-split-crack/50/Train' #Stores the path of the train directory\n",
    "main_test = '../input/mit-split-crack/50/Test' #Stores the path of the test directory"
   ]
  },
  {
   "cell_type": "code",
   "execution_count": 2,
   "id": "94865d16",
   "metadata": {
    "execution": {
     "iopub.execute_input": "2021-12-07T03:59:00.359599Z",
     "iopub.status.busy": "2021-12-07T03:59:00.359050Z",
     "iopub.status.idle": "2021-12-07T03:59:05.445106Z",
     "shell.execute_reply": "2021-12-07T03:59:05.444567Z",
     "shell.execute_reply.started": "2021-12-07T03:17:03.85912Z"
    },
    "papermill": {
     "duration": 5.100114,
     "end_time": "2021-12-07T03:59:05.445234",
     "exception": false,
     "start_time": "2021-12-07T03:59:00.345120",
     "status": "completed"
    },
    "tags": []
   },
   "outputs": [],
   "source": [
    "from tensorflow.keras.layers import Input,Dense,Flatten,Dropout\n",
    "from tensorflow.keras.models import Model,Sequential\n",
    "from tensorflow.keras.applications.vgg16 import VGG16,preprocess_input\n",
    "from matplotlib import pyplot as plt\n",
    "import numpy as np\n",
    "from tensorflow.keras.preprocessing import image\n",
    "from tensorflow.keras.optimizers import Adam\n",
    "from tensorflow.keras.preprocessing.image import ImageDataGenerator"
   ]
  },
  {
   "cell_type": "markdown",
   "id": "a0885a29",
   "metadata": {
    "papermill": {
     "duration": 0.009409,
     "end_time": "2021-12-07T03:59:05.464383",
     "exception": false,
     "start_time": "2021-12-07T03:59:05.454974",
     "status": "completed"
    },
    "tags": []
   },
   "source": [
    "# Model Building"
   ]
  },
  {
   "cell_type": "code",
   "execution_count": 3,
   "id": "51cc79dc",
   "metadata": {
    "execution": {
     "iopub.execute_input": "2021-12-07T03:59:05.490747Z",
     "iopub.status.busy": "2021-12-07T03:59:05.490022Z",
     "iopub.status.idle": "2021-12-07T03:59:08.461339Z",
     "shell.execute_reply": "2021-12-07T03:59:08.460420Z",
     "shell.execute_reply.started": "2021-12-07T03:17:35.187792Z"
    },
    "papermill": {
     "duration": 2.987383,
     "end_time": "2021-12-07T03:59:08.461557",
     "exception": false,
     "start_time": "2021-12-07T03:59:05.474174",
     "status": "completed"
    },
    "tags": []
   },
   "outputs": [
    {
     "name": "stderr",
     "output_type": "stream",
     "text": [
      "2021-12-07 03:59:05.573813: I tensorflow/stream_executor/cuda/cuda_gpu_executor.cc:937] successful NUMA node read from SysFS had negative value (-1), but there must be at least one NUMA node, so returning NUMA node zero\n",
      "2021-12-07 03:59:05.667096: I tensorflow/stream_executor/cuda/cuda_gpu_executor.cc:937] successful NUMA node read from SysFS had negative value (-1), but there must be at least one NUMA node, so returning NUMA node zero\n",
      "2021-12-07 03:59:05.667844: I tensorflow/stream_executor/cuda/cuda_gpu_executor.cc:937] successful NUMA node read from SysFS had negative value (-1), but there must be at least one NUMA node, so returning NUMA node zero\n",
      "2021-12-07 03:59:05.669069: I tensorflow/core/platform/cpu_feature_guard.cc:142] This TensorFlow binary is optimized with oneAPI Deep Neural Network Library (oneDNN) to use the following CPU instructions in performance-critical operations:  AVX2 AVX512F FMA\n",
      "To enable them in other operations, rebuild TensorFlow with the appropriate compiler flags.\n",
      "2021-12-07 03:59:05.670170: I tensorflow/stream_executor/cuda/cuda_gpu_executor.cc:937] successful NUMA node read from SysFS had negative value (-1), but there must be at least one NUMA node, so returning NUMA node zero\n",
      "2021-12-07 03:59:05.670858: I tensorflow/stream_executor/cuda/cuda_gpu_executor.cc:937] successful NUMA node read from SysFS had negative value (-1), but there must be at least one NUMA node, so returning NUMA node zero\n",
      "2021-12-07 03:59:05.671455: I tensorflow/stream_executor/cuda/cuda_gpu_executor.cc:937] successful NUMA node read from SysFS had negative value (-1), but there must be at least one NUMA node, so returning NUMA node zero\n",
      "2021-12-07 03:59:07.490101: I tensorflow/stream_executor/cuda/cuda_gpu_executor.cc:937] successful NUMA node read from SysFS had negative value (-1), but there must be at least one NUMA node, so returning NUMA node zero\n",
      "2021-12-07 03:59:07.490966: I tensorflow/stream_executor/cuda/cuda_gpu_executor.cc:937] successful NUMA node read from SysFS had negative value (-1), but there must be at least one NUMA node, so returning NUMA node zero\n",
      "2021-12-07 03:59:07.491626: I tensorflow/stream_executor/cuda/cuda_gpu_executor.cc:937] successful NUMA node read from SysFS had negative value (-1), but there must be at least one NUMA node, so returning NUMA node zero\n",
      "2021-12-07 03:59:07.492198: I tensorflow/core/common_runtime/gpu/gpu_device.cc:1510] Created device /job:localhost/replica:0/task:0/device:GPU:0 with 15403 MB memory:  -> device: 0, name: Tesla P100-PCIE-16GB, pci bus id: 0000:00:04.0, compute capability: 6.0\n"
     ]
    },
    {
     "name": "stdout",
     "output_type": "stream",
     "text": [
      "Downloading data from https://storage.googleapis.com/tensorflow/keras-applications/vgg16/vgg16_weights_tf_dim_ordering_tf_kernels_notop.h5\n",
      "58892288/58889256 [==============================] - 0s 0us/step\n",
      "58900480/58889256 [==============================] - 0s 0us/step\n"
     ]
    }
   ],
   "source": [
    "vgg_model = VGG16(include_top=False,\n",
    "    weights=\"imagenet\",\n",
    "    input_shape=img_size + [3])\n",
    "\n",
    "# Loading the VGG16 pre trained model\n",
    "\n",
    "# include_top - this specifies whether the final layer before the output layer has to be include \n",
    "# or not. If included then there will be 1000 number of classes at the output.\n",
    "\n",
    "# Weights are trained using imagenet"
   ]
  },
  {
   "cell_type": "code",
   "execution_count": 4,
   "id": "450da101",
   "metadata": {
    "execution": {
     "iopub.execute_input": "2021-12-07T03:59:08.499179Z",
     "iopub.status.busy": "2021-12-07T03:59:08.494667Z",
     "iopub.status.idle": "2021-12-07T03:59:08.505339Z",
     "shell.execute_reply": "2021-12-07T03:59:08.505834Z",
     "shell.execute_reply.started": "2021-12-07T03:17:50.149428Z"
    },
    "papermill": {
     "duration": 0.032212,
     "end_time": "2021-12-07T03:59:08.505986",
     "exception": false,
     "start_time": "2021-12-07T03:59:08.473774",
     "status": "completed"
    },
    "tags": []
   },
   "outputs": [
    {
     "name": "stdout",
     "output_type": "stream",
     "text": [
      "Model: \"vgg16\"\n",
      "_________________________________________________________________\n",
      "Layer (type)                 Output Shape              Param #   \n",
      "=================================================================\n",
      "input_1 (InputLayer)         [(None, 227, 227, 3)]     0         \n",
      "_________________________________________________________________\n",
      "block1_conv1 (Conv2D)        (None, 227, 227, 64)      1792      \n",
      "_________________________________________________________________\n",
      "block1_conv2 (Conv2D)        (None, 227, 227, 64)      36928     \n",
      "_________________________________________________________________\n",
      "block1_pool (MaxPooling2D)   (None, 113, 113, 64)      0         \n",
      "_________________________________________________________________\n",
      "block2_conv1 (Conv2D)        (None, 113, 113, 128)     73856     \n",
      "_________________________________________________________________\n",
      "block2_conv2 (Conv2D)        (None, 113, 113, 128)     147584    \n",
      "_________________________________________________________________\n",
      "block2_pool (MaxPooling2D)   (None, 56, 56, 128)       0         \n",
      "_________________________________________________________________\n",
      "block3_conv1 (Conv2D)        (None, 56, 56, 256)       295168    \n",
      "_________________________________________________________________\n",
      "block3_conv2 (Conv2D)        (None, 56, 56, 256)       590080    \n",
      "_________________________________________________________________\n",
      "block3_conv3 (Conv2D)        (None, 56, 56, 256)       590080    \n",
      "_________________________________________________________________\n",
      "block3_pool (MaxPooling2D)   (None, 28, 28, 256)       0         \n",
      "_________________________________________________________________\n",
      "block4_conv1 (Conv2D)        (None, 28, 28, 512)       1180160   \n",
      "_________________________________________________________________\n",
      "block4_conv2 (Conv2D)        (None, 28, 28, 512)       2359808   \n",
      "_________________________________________________________________\n",
      "block4_conv3 (Conv2D)        (None, 28, 28, 512)       2359808   \n",
      "_________________________________________________________________\n",
      "block4_pool (MaxPooling2D)   (None, 14, 14, 512)       0         \n",
      "_________________________________________________________________\n",
      "block5_conv1 (Conv2D)        (None, 14, 14, 512)       2359808   \n",
      "_________________________________________________________________\n",
      "block5_conv2 (Conv2D)        (None, 14, 14, 512)       2359808   \n",
      "_________________________________________________________________\n",
      "block5_conv3 (Conv2D)        (None, 14, 14, 512)       2359808   \n",
      "_________________________________________________________________\n",
      "block5_pool (MaxPooling2D)   (None, 7, 7, 512)         0         \n",
      "=================================================================\n",
      "Total params: 14,714,688\n",
      "Trainable params: 0\n",
      "Non-trainable params: 14,714,688\n",
      "_________________________________________________________________\n"
     ]
    }
   ],
   "source": [
    "# To fix the weights of the pre trained model\n",
    "for lay in vgg_model.layers:\n",
    "    lay.trainable = False\n",
    "vgg_model.summary()"
   ]
  },
  {
   "cell_type": "code",
   "execution_count": 5,
   "id": "43c1ee54",
   "metadata": {
    "execution": {
     "iopub.execute_input": "2021-12-07T03:59:08.536056Z",
     "iopub.status.busy": "2021-12-07T03:59:08.535278Z",
     "iopub.status.idle": "2021-12-07T03:59:08.573076Z",
     "shell.execute_reply": "2021-12-07T03:59:08.573661Z",
     "shell.execute_reply.started": "2021-12-07T03:19:18.506504Z"
    },
    "papermill": {
     "duration": 0.056197,
     "end_time": "2021-12-07T03:59:08.573826",
     "exception": false,
     "start_time": "2021-12-07T03:59:08.517629",
     "status": "completed"
    },
    "tags": []
   },
   "outputs": [
    {
     "name": "stdout",
     "output_type": "stream",
     "text": [
      "Model: \"model\"\n",
      "_________________________________________________________________\n",
      "Layer (type)                 Output Shape              Param #   \n",
      "=================================================================\n",
      "input_1 (InputLayer)         [(None, 227, 227, 3)]     0         \n",
      "_________________________________________________________________\n",
      "block1_conv1 (Conv2D)        (None, 227, 227, 64)      1792      \n",
      "_________________________________________________________________\n",
      "block1_conv2 (Conv2D)        (None, 227, 227, 64)      36928     \n",
      "_________________________________________________________________\n",
      "block1_pool (MaxPooling2D)   (None, 113, 113, 64)      0         \n",
      "_________________________________________________________________\n",
      "block2_conv1 (Conv2D)        (None, 113, 113, 128)     73856     \n",
      "_________________________________________________________________\n",
      "block2_conv2 (Conv2D)        (None, 113, 113, 128)     147584    \n",
      "_________________________________________________________________\n",
      "block2_pool (MaxPooling2D)   (None, 56, 56, 128)       0         \n",
      "_________________________________________________________________\n",
      "block3_conv1 (Conv2D)        (None, 56, 56, 256)       295168    \n",
      "_________________________________________________________________\n",
      "block3_conv2 (Conv2D)        (None, 56, 56, 256)       590080    \n",
      "_________________________________________________________________\n",
      "block3_conv3 (Conv2D)        (None, 56, 56, 256)       590080    \n",
      "_________________________________________________________________\n",
      "block3_pool (MaxPooling2D)   (None, 28, 28, 256)       0         \n",
      "_________________________________________________________________\n",
      "block4_conv1 (Conv2D)        (None, 28, 28, 512)       1180160   \n",
      "_________________________________________________________________\n",
      "block4_conv2 (Conv2D)        (None, 28, 28, 512)       2359808   \n",
      "_________________________________________________________________\n",
      "block4_conv3 (Conv2D)        (None, 28, 28, 512)       2359808   \n",
      "_________________________________________________________________\n",
      "block4_pool (MaxPooling2D)   (None, 14, 14, 512)       0         \n",
      "_________________________________________________________________\n",
      "block5_conv1 (Conv2D)        (None, 14, 14, 512)       2359808   \n",
      "_________________________________________________________________\n",
      "block5_conv2 (Conv2D)        (None, 14, 14, 512)       2359808   \n",
      "_________________________________________________________________\n",
      "block5_conv3 (Conv2D)        (None, 14, 14, 512)       2359808   \n",
      "_________________________________________________________________\n",
      "block5_pool (MaxPooling2D)   (None, 7, 7, 512)         0         \n",
      "_________________________________________________________________\n",
      "first_flatten (Flatten)      (None, 25088)             0         \n",
      "_________________________________________________________________\n",
      "dense (Dense)                (None, 256)               6422784   \n",
      "_________________________________________________________________\n",
      "dropout (Dropout)            (None, 256)               0         \n",
      "_________________________________________________________________\n",
      "dense_1 (Dense)              (None, 2)                 514       \n",
      "=================================================================\n",
      "Total params: 21,137,986\n",
      "Trainable params: 6,423,298\n",
      "Non-trainable params: 14,714,688\n",
      "_________________________________________________________________\n"
     ]
    }
   ],
   "source": [
    "# Flatten() is used to convert the last layer to vector or as fully connected\n",
    "x = Flatten(name=\"first_flatten\")(vgg_model.output)\n",
    "# Dense() is a fully connected layer and produces 128 outputs.\n",
    "# relu layer is used to convert the negative nubers to 0 and retains +ve as such.\n",
    "pred = Dense(256, activation=\"relu\")(x)\n",
    "#Dropout() layer is used to randomly remove 50% of the networks.\n",
    "pred = Dropout(0.5)(pred)\n",
    "# Dense() layer is added such that it outputs only two classess \n",
    "# Softmax activation layer produces probabilities for different classess.\n",
    "pred = Dense(2,activation='softmax')(pred)\n",
    "# Model() is used to group layers\n",
    "model = Model(inputs=vgg_model.input,outputs=pred)\n",
    "model.summary()"
   ]
  },
  {
   "cell_type": "markdown",
   "id": "9a8ab632",
   "metadata": {
    "papermill": {
     "duration": 0.012483,
     "end_time": "2021-12-07T03:59:08.599236",
     "exception": false,
     "start_time": "2021-12-07T03:59:08.586753",
     "status": "completed"
    },
    "tags": []
   },
   "source": [
    "# Image Augmentation"
   ]
  },
  {
   "cell_type": "code",
   "execution_count": 6,
   "id": "87794e7c",
   "metadata": {
    "execution": {
     "iopub.execute_input": "2021-12-07T03:59:08.630838Z",
     "iopub.status.busy": "2021-12-07T03:59:08.630208Z",
     "iopub.status.idle": "2021-12-07T03:59:20.921045Z",
     "shell.execute_reply": "2021-12-07T03:59:20.921808Z",
     "shell.execute_reply.started": "2021-12-07T03:19:47.138297Z"
    },
    "papermill": {
     "duration": 12.310519,
     "end_time": "2021-12-07T03:59:20.922025",
     "exception": false,
     "start_time": "2021-12-07T03:59:08.611506",
     "status": "completed"
    },
    "tags": []
   },
   "outputs": [
    {
     "name": "stdout",
     "output_type": "stream",
     "text": [
      "Found 15904 images belonging to 2 classes.\n",
      "Found 3958 images belonging to 2 classes.\n"
     ]
    }
   ],
   "source": [
    "#ImageDataGenerator is used to modify the train and test images w.r.t the properties mentioned\n",
    "train_datagen = ImageDataGenerator(rescale = 1/255.0,\n",
    "                                   shear_range = 0.2,\n",
    "                                   zoom_range = 0.2,\n",
    "                                   rotation_range=20,\n",
    "                                   width_shift_range=0.2, \n",
    "                                   height_shift_range=0.2,\n",
    "                                   horizontal_flip = True)\n",
    "\n",
    "test_datagen = ImageDataGenerator(rescale = 1/255.0,\n",
    "                                   shear_range = 0.2,\n",
    "                                   zoom_range = 0.2,\n",
    "                                   rotation_range=20,\n",
    "                                   width_shift_range=0.2, \n",
    "                                   height_shift_range=0.2,\n",
    "                                   horizontal_flip = True)\n",
    "\n",
    "# flow_from_directory() is used to convert all the images in the specific directory\n",
    "training_set = train_datagen.flow_from_directory(directory = main_train,\n",
    "                                                 target_size = (227,227),\n",
    "                                                 batch_size = 500,\n",
    "                                                 )\n",
    "\n",
    "test_set = test_datagen.flow_from_directory(directory = main_test,\n",
    "                                                 target_size = (227,227),\n",
    "                                                 batch_size = 500,\n",
    "                                                 )"
   ]
  },
  {
   "cell_type": "markdown",
   "id": "63aaaf4e",
   "metadata": {
    "papermill": {
     "duration": 0.012573,
     "end_time": "2021-12-07T03:59:20.948861",
     "exception": false,
     "start_time": "2021-12-07T03:59:20.936288",
     "status": "completed"
    },
    "tags": []
   },
   "source": [
    "# Model Fitting"
   ]
  },
  {
   "cell_type": "code",
   "execution_count": 7,
   "id": "9eedd97d",
   "metadata": {
    "execution": {
     "iopub.execute_input": "2021-12-07T03:59:20.985439Z",
     "iopub.status.busy": "2021-12-07T03:59:20.984536Z",
     "iopub.status.idle": "2021-12-07T03:59:20.990997Z",
     "shell.execute_reply": "2021-12-07T03:59:20.990562Z",
     "shell.execute_reply.started": "2021-12-07T03:20:35.116279Z"
    },
    "papermill": {
     "duration": 0.029276,
     "end_time": "2021-12-07T03:59:20.991106",
     "exception": false,
     "start_time": "2021-12-07T03:59:20.961830",
     "status": "completed"
    },
    "tags": []
   },
   "outputs": [],
   "source": [
    "# Loss function is used to find the errors or deviations in learning process\n",
    "# Optimizer is used to optimize the input weights\n",
    "# Metrics is used to measure the performance\n",
    "model.compile(optimizer=Adam(learning_rate=0.01),\n",
    "    loss=\"binary_crossentropy\",\n",
    "    metrics=['accuracy'])"
   ]
  },
  {
   "cell_type": "code",
   "execution_count": 8,
   "id": "2d6c6423",
   "metadata": {
    "execution": {
     "iopub.execute_input": "2021-12-07T03:59:21.021958Z",
     "iopub.status.busy": "2021-12-07T03:59:21.021088Z",
     "iopub.status.idle": "2021-12-07T04:10:12.381550Z",
     "shell.execute_reply": "2021-12-07T04:10:12.381054Z",
     "shell.execute_reply.started": "2021-12-07T03:27:04.737592Z"
    },
    "papermill": {
     "duration": 651.377595,
     "end_time": "2021-12-07T04:10:12.381723",
     "exception": false,
     "start_time": "2021-12-07T03:59:21.004128",
     "status": "completed"
    },
    "tags": []
   },
   "outputs": [
    {
     "name": "stderr",
     "output_type": "stream",
     "text": [
      "2021-12-07 03:59:27.933727: I tensorflow/compiler/mlir/mlir_graph_optimization_pass.cc:185] None of the MLIR Optimization Passes are enabled (registered 2)\n"
     ]
    },
    {
     "name": "stdout",
     "output_type": "stream",
     "text": [
      "Epoch 1/2\n"
     ]
    },
    {
     "name": "stderr",
     "output_type": "stream",
     "text": [
      "2021-12-07 03:59:36.577115: I tensorflow/stream_executor/cuda/cuda_dnn.cc:369] Loaded cuDNN version 8005\n",
      "2021-12-07 03:59:40.659589: W tensorflow/core/kernels/gpu_utils.cc:49] Failed to allocate memory for convolution redzone checking; skipping this check. This is benign and only means that we won't check cudnn for out-of-bounds reads and writes. This message will only be printed once.\n"
     ]
    },
    {
     "name": "stdout",
     "output_type": "stream",
     "text": [
      "32/32 [==============================] - 359s 10s/step - loss: 3.3491 - accuracy: 0.8421 - val_loss: 0.1080 - val_accuracy: 0.9636\n",
      "Epoch 2/2\n",
      "32/32 [==============================] - 247s 8s/step - loss: 0.1078 - accuracy: 0.9688 - val_loss: 0.0567 - val_accuracy: 0.9838\n"
     ]
    }
   ],
   "source": [
    "# fit() is used to train the model \n",
    "\n",
    "mod = model.fit(\n",
    "  training_set,\n",
    "  validation_data=test_set,\n",
    "  epochs=2,\n",
    "  steps_per_epoch=len(training_set),\n",
    "  validation_steps=len(test_set)\n",
    ")"
   ]
  },
  {
   "cell_type": "code",
   "execution_count": 9,
   "id": "17f644eb",
   "metadata": {
    "execution": {
     "iopub.execute_input": "2021-12-07T04:10:12.450893Z",
     "iopub.status.busy": "2021-12-07T04:10:12.450283Z",
     "iopub.status.idle": "2021-12-07T04:10:12.771534Z",
     "shell.execute_reply": "2021-12-07T04:10:12.771116Z",
     "shell.execute_reply.started": "2021-12-07T03:34:46.099747Z"
    },
    "papermill": {
     "duration": 0.357014,
     "end_time": "2021-12-07T04:10:12.771692",
     "exception": false,
     "start_time": "2021-12-07T04:10:12.414678",
     "status": "completed"
    },
    "tags": []
   },
   "outputs": [
    {
     "data": {
      "text/plain": [
       "['256_0.01_50%']"
      ]
     },
     "execution_count": 9,
     "metadata": {},
     "output_type": "execute_result"
    }
   ],
   "source": [
    "# To save the particular model in .h5 format\n",
    "import tensorflow as tf\n",
    "from tensorflow.keras.models import load_model\n",
    "model.save('256_0.01_50%.h5')\n",
    "\n",
    "import joblib\n",
    "joblib.dump(mod.history,'256_0.01_50%')"
   ]
  },
  {
   "cell_type": "code",
   "execution_count": null,
   "id": "8ecf65ed",
   "metadata": {
    "papermill": {
     "duration": 0.030795,
     "end_time": "2021-12-07T04:10:12.833633",
     "exception": false,
     "start_time": "2021-12-07T04:10:12.802838",
     "status": "completed"
    },
    "tags": []
   },
   "outputs": [],
   "source": []
  }
 ],
 "metadata": {
  "kernelspec": {
   "display_name": "Python 3",
   "language": "python",
   "name": "python3"
  },
  "language_info": {
   "codemirror_mode": {
    "name": "ipython",
    "version": 3
   },
   "file_extension": ".py",
   "mimetype": "text/x-python",
   "name": "python",
   "nbconvert_exporter": "python",
   "pygments_lexer": "ipython3",
   "version": "3.7.12"
  },
  "papermill": {
   "default_parameters": {},
   "duration": 683.611079,
   "end_time": "2021-12-07T04:10:15.854311",
   "environment_variables": {},
   "exception": null,
   "input_path": "__notebook__.ipynb",
   "output_path": "__notebook__.ipynb",
   "parameters": {},
   "start_time": "2021-12-07T03:58:52.243232",
   "version": "2.3.3"
  }
 },
 "nbformat": 4,
 "nbformat_minor": 5
}
