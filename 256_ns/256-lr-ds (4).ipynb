{
 "cells": [
  {
   "cell_type": "markdown",
   "id": "2670775f",
   "metadata": {
    "papermill": {
     "duration": 0.010371,
     "end_time": "2021-12-07T05:39:39.767732",
     "exception": false,
     "start_time": "2021-12-07T05:39:39.757361",
     "status": "completed"
    },
    "tags": []
   },
   "source": [
    "# Importing the DataSet"
   ]
  },
  {
   "cell_type": "code",
   "execution_count": 1,
   "id": "da06a359",
   "metadata": {
    "execution": {
     "iopub.execute_input": "2021-12-07T05:39:39.799514Z",
     "iopub.status.busy": "2021-12-07T05:39:39.798411Z",
     "iopub.status.idle": "2021-12-07T05:39:39.801770Z",
     "shell.execute_reply": "2021-12-07T05:39:39.802234Z",
     "shell.execute_reply.started": "2021-12-07T04:11:31.17275Z"
    },
    "papermill": {
     "duration": 0.025024,
     "end_time": "2021-12-07T05:39:39.802471",
     "exception": false,
     "start_time": "2021-12-07T05:39:39.777447",
     "status": "completed"
    },
    "tags": []
   },
   "outputs": [],
   "source": [
    "img_size = [227,227] #List which stores the resolution\n",
    "main_train = '../input/mit-split-crack/50/Train' #Stores the path of the train directory\n",
    "main_test = '../input/mit-split-crack/50/Test' #Stores the path of the test directory"
   ]
  },
  {
   "cell_type": "code",
   "execution_count": 2,
   "id": "30e71181",
   "metadata": {
    "execution": {
     "iopub.execute_input": "2021-12-07T05:39:39.826032Z",
     "iopub.status.busy": "2021-12-07T05:39:39.825442Z",
     "iopub.status.idle": "2021-12-07T05:39:45.113985Z",
     "shell.execute_reply": "2021-12-07T05:39:45.113491Z",
     "shell.execute_reply.started": "2021-12-07T04:12:54.3895Z"
    },
    "papermill": {
     "duration": 5.302664,
     "end_time": "2021-12-07T05:39:45.114116",
     "exception": false,
     "start_time": "2021-12-07T05:39:39.811452",
     "status": "completed"
    },
    "tags": []
   },
   "outputs": [],
   "source": [
    "from tensorflow.keras.layers import Input,Dense,Flatten,Dropout\n",
    "from tensorflow.keras.models import Model,Sequential\n",
    "from tensorflow.keras.applications.vgg16 import VGG16,preprocess_input\n",
    "from matplotlib import pyplot as plt\n",
    "import numpy as np\n",
    "from tensorflow.keras.preprocessing import image\n",
    "from tensorflow.keras.optimizers import Adam\n",
    "from tensorflow.keras.preprocessing.image import ImageDataGenerator"
   ]
  },
  {
   "cell_type": "markdown",
   "id": "9148ccd5",
   "metadata": {
    "papermill": {
     "duration": 0.008989,
     "end_time": "2021-12-07T05:39:45.132589",
     "exception": false,
     "start_time": "2021-12-07T05:39:45.123600",
     "status": "completed"
    },
    "tags": []
   },
   "source": [
    "# Model Building"
   ]
  },
  {
   "cell_type": "code",
   "execution_count": 3,
   "id": "f71fb2cc",
   "metadata": {
    "execution": {
     "iopub.execute_input": "2021-12-07T05:39:45.157242Z",
     "iopub.status.busy": "2021-12-07T05:39:45.153248Z",
     "iopub.status.idle": "2021-12-07T05:39:48.205683Z",
     "shell.execute_reply": "2021-12-07T05:39:48.205158Z",
     "shell.execute_reply.started": "2021-12-07T03:17:35.187792Z"
    },
    "papermill": {
     "duration": 3.064132,
     "end_time": "2021-12-07T05:39:48.205832",
     "exception": false,
     "start_time": "2021-12-07T05:39:45.141700",
     "status": "completed"
    },
    "tags": []
   },
   "outputs": [
    {
     "name": "stderr",
     "output_type": "stream",
     "text": [
      "2021-12-07 05:39:45.240901: I tensorflow/stream_executor/cuda/cuda_gpu_executor.cc:937] successful NUMA node read from SysFS had negative value (-1), but there must be at least one NUMA node, so returning NUMA node zero\n",
      "2021-12-07 05:39:45.335014: I tensorflow/stream_executor/cuda/cuda_gpu_executor.cc:937] successful NUMA node read from SysFS had negative value (-1), but there must be at least one NUMA node, so returning NUMA node zero\n",
      "2021-12-07 05:39:45.335802: I tensorflow/stream_executor/cuda/cuda_gpu_executor.cc:937] successful NUMA node read from SysFS had negative value (-1), but there must be at least one NUMA node, so returning NUMA node zero\n",
      "2021-12-07 05:39:45.336918: I tensorflow/core/platform/cpu_feature_guard.cc:142] This TensorFlow binary is optimized with oneAPI Deep Neural Network Library (oneDNN) to use the following CPU instructions in performance-critical operations:  AVX2 AVX512F FMA\n",
      "To enable them in other operations, rebuild TensorFlow with the appropriate compiler flags.\n",
      "2021-12-07 05:39:45.338140: I tensorflow/stream_executor/cuda/cuda_gpu_executor.cc:937] successful NUMA node read from SysFS had negative value (-1), but there must be at least one NUMA node, so returning NUMA node zero\n",
      "2021-12-07 05:39:45.338870: I tensorflow/stream_executor/cuda/cuda_gpu_executor.cc:937] successful NUMA node read from SysFS had negative value (-1), but there must be at least one NUMA node, so returning NUMA node zero\n",
      "2021-12-07 05:39:45.339607: I tensorflow/stream_executor/cuda/cuda_gpu_executor.cc:937] successful NUMA node read from SysFS had negative value (-1), but there must be at least one NUMA node, so returning NUMA node zero\n",
      "2021-12-07 05:39:47.225055: I tensorflow/stream_executor/cuda/cuda_gpu_executor.cc:937] successful NUMA node read from SysFS had negative value (-1), but there must be at least one NUMA node, so returning NUMA node zero\n",
      "2021-12-07 05:39:47.226016: I tensorflow/stream_executor/cuda/cuda_gpu_executor.cc:937] successful NUMA node read from SysFS had negative value (-1), but there must be at least one NUMA node, so returning NUMA node zero\n",
      "2021-12-07 05:39:47.226825: I tensorflow/stream_executor/cuda/cuda_gpu_executor.cc:937] successful NUMA node read from SysFS had negative value (-1), but there must be at least one NUMA node, so returning NUMA node zero\n",
      "2021-12-07 05:39:47.227524: I tensorflow/core/common_runtime/gpu/gpu_device.cc:1510] Created device /job:localhost/replica:0/task:0/device:GPU:0 with 15403 MB memory:  -> device: 0, name: Tesla P100-PCIE-16GB, pci bus id: 0000:00:04.0, compute capability: 6.0\n"
     ]
    },
    {
     "name": "stdout",
     "output_type": "stream",
     "text": [
      "Downloading data from https://storage.googleapis.com/tensorflow/keras-applications/vgg16/vgg16_weights_tf_dim_ordering_tf_kernels_notop.h5\n",
      "58892288/58889256 [==============================] - 0s 0us/step\n",
      "58900480/58889256 [==============================] - 0s 0us/step\n"
     ]
    }
   ],
   "source": [
    "vgg_model = VGG16(include_top=False,\n",
    "    weights=\"imagenet\",\n",
    "    input_shape=img_size + [3])\n",
    "\n",
    "# Loading the VGG16 pre trained model\n",
    "\n",
    "# include_top - this specifies whether the final layer before the output layer has to be include \n",
    "# or not. If included then there will be 1000 number of classes at the output.\n",
    "\n",
    "# Weights are trained using imagenet"
   ]
  },
  {
   "cell_type": "code",
   "execution_count": 4,
   "id": "5a00732d",
   "metadata": {
    "execution": {
     "iopub.execute_input": "2021-12-07T05:39:48.242171Z",
     "iopub.status.busy": "2021-12-07T05:39:48.238293Z",
     "iopub.status.idle": "2021-12-07T05:39:48.248588Z",
     "shell.execute_reply": "2021-12-07T05:39:48.249189Z",
     "shell.execute_reply.started": "2021-12-07T03:17:50.149428Z"
    },
    "papermill": {
     "duration": 0.031219,
     "end_time": "2021-12-07T05:39:48.249378",
     "exception": false,
     "start_time": "2021-12-07T05:39:48.218159",
     "status": "completed"
    },
    "tags": []
   },
   "outputs": [
    {
     "name": "stdout",
     "output_type": "stream",
     "text": [
      "Model: \"vgg16\"\n",
      "_________________________________________________________________\n",
      "Layer (type)                 Output Shape              Param #   \n",
      "=================================================================\n",
      "input_1 (InputLayer)         [(None, 227, 227, 3)]     0         \n",
      "_________________________________________________________________\n",
      "block1_conv1 (Conv2D)        (None, 227, 227, 64)      1792      \n",
      "_________________________________________________________________\n",
      "block1_conv2 (Conv2D)        (None, 227, 227, 64)      36928     \n",
      "_________________________________________________________________\n",
      "block1_pool (MaxPooling2D)   (None, 113, 113, 64)      0         \n",
      "_________________________________________________________________\n",
      "block2_conv1 (Conv2D)        (None, 113, 113, 128)     73856     \n",
      "_________________________________________________________________\n",
      "block2_conv2 (Conv2D)        (None, 113, 113, 128)     147584    \n",
      "_________________________________________________________________\n",
      "block2_pool (MaxPooling2D)   (None, 56, 56, 128)       0         \n",
      "_________________________________________________________________\n",
      "block3_conv1 (Conv2D)        (None, 56, 56, 256)       295168    \n",
      "_________________________________________________________________\n",
      "block3_conv2 (Conv2D)        (None, 56, 56, 256)       590080    \n",
      "_________________________________________________________________\n",
      "block3_conv3 (Conv2D)        (None, 56, 56, 256)       590080    \n",
      "_________________________________________________________________\n",
      "block3_pool (MaxPooling2D)   (None, 28, 28, 256)       0         \n",
      "_________________________________________________________________\n",
      "block4_conv1 (Conv2D)        (None, 28, 28, 512)       1180160   \n",
      "_________________________________________________________________\n",
      "block4_conv2 (Conv2D)        (None, 28, 28, 512)       2359808   \n",
      "_________________________________________________________________\n",
      "block4_conv3 (Conv2D)        (None, 28, 28, 512)       2359808   \n",
      "_________________________________________________________________\n",
      "block4_pool (MaxPooling2D)   (None, 14, 14, 512)       0         \n",
      "_________________________________________________________________\n",
      "block5_conv1 (Conv2D)        (None, 14, 14, 512)       2359808   \n",
      "_________________________________________________________________\n",
      "block5_conv2 (Conv2D)        (None, 14, 14, 512)       2359808   \n",
      "_________________________________________________________________\n",
      "block5_conv3 (Conv2D)        (None, 14, 14, 512)       2359808   \n",
      "_________________________________________________________________\n",
      "block5_pool (MaxPooling2D)   (None, 7, 7, 512)         0         \n",
      "=================================================================\n",
      "Total params: 14,714,688\n",
      "Trainable params: 0\n",
      "Non-trainable params: 14,714,688\n",
      "_________________________________________________________________\n"
     ]
    }
   ],
   "source": [
    "# To fix the weights of the pre trained model\n",
    "for lay in vgg_model.layers:\n",
    "    lay.trainable = False\n",
    "vgg_model.summary()"
   ]
  },
  {
   "cell_type": "code",
   "execution_count": 5,
   "id": "ca4087cf",
   "metadata": {
    "execution": {
     "iopub.execute_input": "2021-12-07T05:39:48.284011Z",
     "iopub.status.busy": "2021-12-07T05:39:48.281962Z",
     "iopub.status.idle": "2021-12-07T05:39:48.317855Z",
     "shell.execute_reply": "2021-12-07T05:39:48.318458Z",
     "shell.execute_reply.started": "2021-12-07T03:19:18.506504Z"
    },
    "papermill": {
     "duration": 0.056457,
     "end_time": "2021-12-07T05:39:48.318630",
     "exception": false,
     "start_time": "2021-12-07T05:39:48.262173",
     "status": "completed"
    },
    "tags": []
   },
   "outputs": [
    {
     "name": "stdout",
     "output_type": "stream",
     "text": [
      "Model: \"model\"\n",
      "_________________________________________________________________\n",
      "Layer (type)                 Output Shape              Param #   \n",
      "=================================================================\n",
      "input_1 (InputLayer)         [(None, 227, 227, 3)]     0         \n",
      "_________________________________________________________________\n",
      "block1_conv1 (Conv2D)        (None, 227, 227, 64)      1792      \n",
      "_________________________________________________________________\n",
      "block1_conv2 (Conv2D)        (None, 227, 227, 64)      36928     \n",
      "_________________________________________________________________\n",
      "block1_pool (MaxPooling2D)   (None, 113, 113, 64)      0         \n",
      "_________________________________________________________________\n",
      "block2_conv1 (Conv2D)        (None, 113, 113, 128)     73856     \n",
      "_________________________________________________________________\n",
      "block2_conv2 (Conv2D)        (None, 113, 113, 128)     147584    \n",
      "_________________________________________________________________\n",
      "block2_pool (MaxPooling2D)   (None, 56, 56, 128)       0         \n",
      "_________________________________________________________________\n",
      "block3_conv1 (Conv2D)        (None, 56, 56, 256)       295168    \n",
      "_________________________________________________________________\n",
      "block3_conv2 (Conv2D)        (None, 56, 56, 256)       590080    \n",
      "_________________________________________________________________\n",
      "block3_conv3 (Conv2D)        (None, 56, 56, 256)       590080    \n",
      "_________________________________________________________________\n",
      "block3_pool (MaxPooling2D)   (None, 28, 28, 256)       0         \n",
      "_________________________________________________________________\n",
      "block4_conv1 (Conv2D)        (None, 28, 28, 512)       1180160   \n",
      "_________________________________________________________________\n",
      "block4_conv2 (Conv2D)        (None, 28, 28, 512)       2359808   \n",
      "_________________________________________________________________\n",
      "block4_conv3 (Conv2D)        (None, 28, 28, 512)       2359808   \n",
      "_________________________________________________________________\n",
      "block4_pool (MaxPooling2D)   (None, 14, 14, 512)       0         \n",
      "_________________________________________________________________\n",
      "block5_conv1 (Conv2D)        (None, 14, 14, 512)       2359808   \n",
      "_________________________________________________________________\n",
      "block5_conv2 (Conv2D)        (None, 14, 14, 512)       2359808   \n",
      "_________________________________________________________________\n",
      "block5_conv3 (Conv2D)        (None, 14, 14, 512)       2359808   \n",
      "_________________________________________________________________\n",
      "block5_pool (MaxPooling2D)   (None, 7, 7, 512)         0         \n",
      "_________________________________________________________________\n",
      "first_flatten (Flatten)      (None, 25088)             0         \n",
      "_________________________________________________________________\n",
      "dense (Dense)                (None, 256)               6422784   \n",
      "_________________________________________________________________\n",
      "dropout (Dropout)            (None, 256)               0         \n",
      "_________________________________________________________________\n",
      "dense_1 (Dense)              (None, 2)                 514       \n",
      "=================================================================\n",
      "Total params: 21,137,986\n",
      "Trainable params: 6,423,298\n",
      "Non-trainable params: 14,714,688\n",
      "_________________________________________________________________\n"
     ]
    }
   ],
   "source": [
    "# Flatten() is used to convert the last layer to vector or as fully connected\n",
    "x = Flatten(name=\"first_flatten\")(vgg_model.output)\n",
    "# Dense() is a fully connected layer and produces 128 outputs.\n",
    "# relu layer is used to convert the negative nubers to 0 and retains +ve as such.\n",
    "pred = Dense(256, activation=\"relu\")(x)\n",
    "#Dropout() layer is used to randomly remove 50% of the networks.\n",
    "pred = Dropout(0.5)(pred)\n",
    "# Dense() layer is added such that it outputs only two classess \n",
    "# Softmax activation layer produces probabilities for different classess.\n",
    "pred = Dense(2,activation='softmax')(pred)\n",
    "# Model() is used to group layers\n",
    "model = Model(inputs=vgg_model.input,outputs=pred)\n",
    "model.summary()"
   ]
  },
  {
   "cell_type": "markdown",
   "id": "38647ded",
   "metadata": {
    "papermill": {
     "duration": 0.012499,
     "end_time": "2021-12-07T05:39:48.344297",
     "exception": false,
     "start_time": "2021-12-07T05:39:48.331798",
     "status": "completed"
    },
    "tags": []
   },
   "source": [
    "# Image Augmentation"
   ]
  },
  {
   "cell_type": "code",
   "execution_count": 6,
   "id": "7c44abe5",
   "metadata": {
    "execution": {
     "iopub.execute_input": "2021-12-07T05:39:48.377667Z",
     "iopub.status.busy": "2021-12-07T05:39:48.376792Z",
     "iopub.status.idle": "2021-12-07T05:39:57.730898Z",
     "shell.execute_reply": "2021-12-07T05:39:57.730419Z",
     "shell.execute_reply.started": "2021-12-07T04:12:59.766387Z"
    },
    "papermill": {
     "duration": 9.373626,
     "end_time": "2021-12-07T05:39:57.731037",
     "exception": false,
     "start_time": "2021-12-07T05:39:48.357411",
     "status": "completed"
    },
    "tags": []
   },
   "outputs": [
    {
     "name": "stdout",
     "output_type": "stream",
     "text": [
      "Found 15904 images belonging to 2 classes.\n",
      "Found 3958 images belonging to 2 classes.\n"
     ]
    }
   ],
   "source": [
    "#ImageDataGenerator is used to modify the train and test images w.r.t the properties mentioned\n",
    "train_datagen = ImageDataGenerator(rescale = 1/255.0,\n",
    "                                   shear_range = 0.2,\n",
    "                                   zoom_range = 0.2,\n",
    "                                   rotation_range=20,\n",
    "                                   width_shift_range=0.2, \n",
    "                                   height_shift_range=0.2,\n",
    "                                   horizontal_flip = True)\n",
    "\n",
    "test_datagen = ImageDataGenerator(rescale = 1/255.0,\n",
    "                                   shear_range = 0.2,\n",
    "                                   zoom_range = 0.2,\n",
    "                                   rotation_range=20,\n",
    "                                   width_shift_range=0.2, \n",
    "                                   height_shift_range=0.2,\n",
    "                                   horizontal_flip = True)\n",
    "\n",
    "# flow_from_directory() is used to convert all the images in the specific directory\n",
    "training_set = train_datagen.flow_from_directory(directory = main_train,\n",
    "                                                 target_size = (227,227),\n",
    "                                                 batch_size = 500,\n",
    "                                                 )\n",
    "\n",
    "test_set = test_datagen.flow_from_directory(directory = main_test,\n",
    "                                                 target_size = (227,227),\n",
    "                                                 batch_size = 500,\n",
    "                                                 )"
   ]
  },
  {
   "cell_type": "markdown",
   "id": "5ccbc0ca",
   "metadata": {
    "papermill": {
     "duration": 0.013419,
     "end_time": "2021-12-07T05:39:57.758725",
     "exception": false,
     "start_time": "2021-12-07T05:39:57.745306",
     "status": "completed"
    },
    "tags": []
   },
   "source": [
    "# Model Fitting"
   ]
  },
  {
   "cell_type": "code",
   "execution_count": 7,
   "id": "5641fd46",
   "metadata": {
    "execution": {
     "iopub.execute_input": "2021-12-07T05:39:57.795079Z",
     "iopub.status.busy": "2021-12-07T05:39:57.794271Z",
     "iopub.status.idle": "2021-12-07T05:39:57.800212Z",
     "shell.execute_reply": "2021-12-07T05:39:57.800680Z",
     "shell.execute_reply.started": "2021-12-07T03:20:35.116279Z"
    },
    "papermill": {
     "duration": 0.028785,
     "end_time": "2021-12-07T05:39:57.800839",
     "exception": false,
     "start_time": "2021-12-07T05:39:57.772054",
     "status": "completed"
    },
    "tags": []
   },
   "outputs": [],
   "source": [
    "# Loss function is used to find the errors or deviations in learning process\n",
    "# Optimizer is used to optimize the input weights\n",
    "# Metrics is used to measure the performance\n",
    "model.compile(optimizer=Adam(learning_rate=1.00),\n",
    "    loss=\"binary_crossentropy\",\n",
    "    metrics=['accuracy'])"
   ]
  },
  {
   "cell_type": "code",
   "execution_count": 8,
   "id": "b202553f",
   "metadata": {
    "execution": {
     "iopub.execute_input": "2021-12-07T05:39:57.832560Z",
     "iopub.status.busy": "2021-12-07T05:39:57.831777Z",
     "iopub.status.idle": "2021-12-07T05:50:25.685420Z",
     "shell.execute_reply": "2021-12-07T05:50:25.685883Z",
     "shell.execute_reply.started": "2021-12-07T03:27:04.737592Z"
    },
    "papermill": {
     "duration": 627.872118,
     "end_time": "2021-12-07T05:50:25.686050",
     "exception": false,
     "start_time": "2021-12-07T05:39:57.813932",
     "status": "completed"
    },
    "tags": []
   },
   "outputs": [
    {
     "name": "stderr",
     "output_type": "stream",
     "text": [
      "2021-12-07 05:40:04.837965: I tensorflow/compiler/mlir/mlir_graph_optimization_pass.cc:185] None of the MLIR Optimization Passes are enabled (registered 2)\n"
     ]
    },
    {
     "name": "stdout",
     "output_type": "stream",
     "text": [
      "Epoch 1/2\n"
     ]
    },
    {
     "name": "stderr",
     "output_type": "stream",
     "text": [
      "2021-12-07 05:40:13.023698: I tensorflow/stream_executor/cuda/cuda_dnn.cc:369] Loaded cuDNN version 8005\n",
      "2021-12-07 05:40:17.276141: W tensorflow/core/kernels/gpu_utils.cc:49] Failed to allocate memory for convolution redzone checking; skipping this check. This is benign and only means that we won't check cudnn for out-of-bounds reads and writes. This message will only be printed once.\n"
     ]
    },
    {
     "name": "stdout",
     "output_type": "stream",
     "text": [
      "32/32 [==============================] - 367s 11s/step - loss: 5581.0566 - accuracy: 0.6569 - val_loss: 0.5777 - val_accuracy: 0.7388\n",
      "Epoch 2/2\n",
      "32/32 [==============================] - 253s 8s/step - loss: 54.7578 - accuracy: 0.6628 - val_loss: 0.5701 - val_accuracy: 0.7527\n"
     ]
    }
   ],
   "source": [
    "# fit() is used to train the model \n",
    "\n",
    "mod = model.fit(\n",
    "  training_set,\n",
    "  validation_data=test_set,\n",
    "  epochs=2,\n",
    "  steps_per_epoch=len(training_set),\n",
    "  validation_steps=len(test_set)\n",
    ")"
   ]
  },
  {
   "cell_type": "code",
   "execution_count": 9,
   "id": "438cbf18",
   "metadata": {
    "execution": {
     "iopub.execute_input": "2021-12-07T05:50:25.764978Z",
     "iopub.status.busy": "2021-12-07T05:50:25.764172Z",
     "iopub.status.idle": "2021-12-07T05:50:26.088456Z",
     "shell.execute_reply": "2021-12-07T05:50:26.088012Z",
     "shell.execute_reply.started": "2021-12-07T03:34:46.099747Z"
    },
    "papermill": {
     "duration": 0.370801,
     "end_time": "2021-12-07T05:50:26.088579",
     "exception": false,
     "start_time": "2021-12-07T05:50:25.717778",
     "status": "completed"
    },
    "tags": []
   },
   "outputs": [
    {
     "data": {
      "text/plain": [
       "['256_1.00_50%']"
      ]
     },
     "execution_count": 9,
     "metadata": {},
     "output_type": "execute_result"
    }
   ],
   "source": [
    "# To save the particular model in .h5 format\n",
    "import tensorflow as tf\n",
    "from tensorflow.keras.models import load_model\n",
    "model.save('256_1.00_50%.h5')\n",
    "\n",
    "import joblib\n",
    "joblib.dump(mod.history,'256_1.00_50%')"
   ]
  },
  {
   "cell_type": "code",
   "execution_count": null,
   "id": "87cfbd6d",
   "metadata": {
    "papermill": {
     "duration": 0.033052,
     "end_time": "2021-12-07T05:50:26.156141",
     "exception": false,
     "start_time": "2021-12-07T05:50:26.123089",
     "status": "completed"
    },
    "tags": []
   },
   "outputs": [],
   "source": []
  }
 ],
 "metadata": {
  "kernelspec": {
   "display_name": "Python 3",
   "language": "python",
   "name": "python3"
  },
  "language_info": {
   "codemirror_mode": {
    "name": "ipython",
    "version": 3
   },
   "file_extension": ".py",
   "mimetype": "text/x-python",
   "name": "python",
   "nbconvert_exporter": "python",
   "pygments_lexer": "ipython3",
   "version": "3.7.12"
  },
  "papermill": {
   "default_parameters": {},
   "duration": 658.694343,
   "end_time": "2021-12-07T05:50:29.876656",
   "environment_variables": {},
   "exception": null,
   "input_path": "__notebook__.ipynb",
   "output_path": "__notebook__.ipynb",
   "parameters": {},
   "start_time": "2021-12-07T05:39:31.182313",
   "version": "2.3.3"
  }
 },
 "nbformat": 4,
 "nbformat_minor": 5
}
