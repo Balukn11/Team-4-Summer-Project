{
 "cells": [
  {
   "cell_type": "code",
   "execution_count": null,
   "id": "021fcb5e",
   "metadata": {
    "scrolled": false
   },
   "outputs": [],
   "source": [
    "import os\n",
    "import random\n",
    "no_of_postive = ('D:\\Team-4\\Main\\positive')\n",
    "no_of_negative =('D:\\Team-4\\Main\\negative')\n",
    "print(\"No.of positive images: \" ,len(no_of_postive))\n",
    "print(\"No.of negative images: \" ,len(no_of_negative))"
   ]
  },
  {
   "cell_type": "code",
   "execution_count": 47,
   "id": "b2f6628c",
   "metadata": {},
   "outputs": [],
   "source": [
    "data_pos_25 = 'D:\\Team-4\\DATASETS\\25\\data\\positive'\n",
    "data_neg_25 = 'D:\\Team-4\\DATASETS\\25\\data\\negative'\n",
    "\n",
    "test_pos_25 = 'D:\\Team-4\\DATASETS\\25\\test\\positive'\n",
    "test_neg_25 = 'D:\\Team-4\\DATASETS\\25\\test\\negative'\n",
    "\n",
    "train_pos_25 = 'D:\\Team-4\\DATASETS\\25\\train\\positive'\n",
    "train_neg_25 = 'D:\\Team-4\\DATASETS\\25\\train\\negative'\n",
    "\n",
    "data_pos_75 ='D:\\Team-4\\DATASETS\\75\\data\\positive'\n",
    "data_neg_75 ='D:\\Team-4\\DATASETS\\75\\data\\negative'\n",
    "\n",
    "test_pos_75 = 'D:\\Team-4\\DATASETS\\75\\test\\positive'\n",
    "test_neg_75 = 'D:\\Team-4\\DATASETS\\75\\test\\negative'\n",
    " \n",
    "train_pos_75 = 'D:\\Team-4\\DATASETS\\75\\train\\positive'\n",
    "train_neg_75 = 'D:\\Team-4\\DATASETS\\75\\train\\negative'\n",
    "\n",
    "main_pos ='D:\\Team-4\\Main\\positive'\n",
    "main_neg = 'D:\\Team-4\\Main\\negative'"
   ]
  },
  {
   "cell_type": "code",
   "execution_count": null,
   "id": "4a17aeb5",
   "metadata": {},
   "outputs": [],
   "source": [
    "for f in no_of_positive:\n",
    "    if random.random() > 0.75:\n",
    "        shutil.move(f'{main_pos}\\\\{f}',data_pos_25)\n",
    "    else:\n",
    "        shutil.move(f'{main_pos}\\\\{f}',data_pos_75)"
   ]
  },
  {
   "cell_type": "code",
   "execution_count": null,
   "id": "7f621bdb",
   "metadata": {},
   "outputs": [],
   "source": [
    "for f1 in no_of_negative:\n",
    "    if random.random() > 0.75:\n",
    "        shutil.move(f'{main_neg}\\\\{f}',data_neg_25)\n",
    "    else:\n",
    "        shutil.move(f'{main_neg}\\\\{f}',data_neg_75)"
   ]
  },
  {
   "cell_type": "code",
   "execution_count": null,
   "id": "2898cfb9",
   "metadata": {},
   "outputs": [],
   "source": [
    "no_of_positive_25 = os.listdir(data_pos_25)\n",
    "  for f in no_of_positive_25:\n",
    "    if random.random() > 0.80:\n",
    "        shutil.move(f'{data_pos_25}\\\\{f}',test_pos_25)\n",
    "    else:\n",
    "        shutil.move(f'{data_pos_25}\\\\{f}',train_pos_25)"
   ]
  },
  {
   "cell_type": "code",
   "execution_count": null,
   "id": "42bf8bd7",
   "metadata": {},
   "outputs": [],
   "source": [
    "no_of_negative_25 = os.listdir(data_neg_25)\n",
    "  for f in no_of_negative_25:\n",
    "    if random.random() > 0.80:\n",
    "        shutil.move(f'{data_neg_25}\\\\{f}',test_neg_25)\n",
    "    else:\n",
    "        shutil.move(f'{data_neg_25}\\\\{f}',train_neg_25)"
   ]
  },
  {
   "cell_type": "code",
   "execution_count": null,
   "id": "72221322",
   "metadata": {},
   "outputs": [],
   "source": [
    "no_of_positive_75 = os.listdir(data_pos_75)\n",
    "  for f in no_of_positive_75:\n",
    "    if random.random() > 0.80:\n",
    "        shutil.move(f'{data_pos_75}\\\\{f}',test_pos_75)\n",
    "    else:\n",
    "        shutil.move(f'{data_pos_75}\\\\{f}',train_pos_75)"
   ]
  },
  {
   "cell_type": "code",
   "execution_count": null,
   "id": "fd6a52aa",
   "metadata": {},
   "outputs": [],
   "source": [
    "no_of_negative_75 = os.listdir(data_neg_75)\n",
    "  for f in no_of_negative_25:\n",
    "    if random.random() > 0.80:\n",
    "        shutil.move(f'{data_neg_75}\\\\{f}',test_neg_75)\n",
    "    else:\n",
    "        shutil.move(f'{data_neg_75}\\\\{f}',train_neg_75)"
   ]
  },
  {
   "cell_type": "code",
   "execution_count": null,
   "id": "17361a21",
   "metadata": {},
   "outputs": [],
   "source": [
    "no_of_positive_50 = os.listdir(data_pos_50)\n",
    "  for f in no_of_positive_50:\n",
    "    if random.random() > 0.50:\n",
    "        shutil.move(f'{data_pos_50}\\\\{f}',test_pos_50)\n",
    "    else:\n",
    "        shutil.move(f'{data_pos_50}\\\\{f}',train_pos_50)"
   ]
  }
 ],
 "metadata": {
  "kernelspec": {
   "display_name": "Python 3 (ipykernel)",
   "language": "python",
   "name": "python3"
  },
  "language_info": {
   "codemirror_mode": {
    "name": "ipython",
    "version": 3
   },
   "file_extension": ".py",
   "mimetype": "text/x-python",
   "name": "python",
   "nbconvert_exporter": "python",
   "pygments_lexer": "ipython3",
   "version": "3.10.1"
  }
 },
 "nbformat": 4,
 "nbformat_minor": 5
}
