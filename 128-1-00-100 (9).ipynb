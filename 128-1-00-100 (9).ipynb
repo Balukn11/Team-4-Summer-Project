{
 "cells": [
  {
   "cell_type": "code",
   "execution_count": 1,
   "id": "c82f4d91",
   "metadata": {
    "_cell_guid": "b1076dfc-b9ad-4769-8c92-a6c4dae69d19",
    "_uuid": "8f2839f25d086af736a60e9eeb907d3b93b6e0e5",
    "execution": {
     "iopub.execute_input": "2021-12-07T06:05:00.446548Z",
     "iopub.status.busy": "2021-12-07T06:05:00.445051Z",
     "iopub.status.idle": "2021-12-07T06:05:00.456411Z",
     "shell.execute_reply": "2021-12-07T06:05:00.457398Z"
    },
    "papermill": {
     "duration": 0.043245,
     "end_time": "2021-12-07T06:05:00.457738",
     "exception": false,
     "start_time": "2021-12-07T06:05:00.414493",
     "status": "completed"
    },
    "tags": []
   },
   "outputs": [],
   "source": [
    "img_size = [227,227] #List which stores the resolution\n",
    "main_train = '../input/crack-detection/Main/Train' #Stores the path of the train directory\n",
    "main_test = '../input/crack-detection/Main/Test' #Stores the path of the test directory"
   ]
  },
  {
   "cell_type": "markdown",
   "id": "efd69f89",
   "metadata": {
    "papermill": {
     "duration": 0.012136,
     "end_time": "2021-12-07T06:05:00.489355",
     "exception": false,
     "start_time": "2021-12-07T06:05:00.477219",
     "status": "completed"
    },
    "tags": []
   },
   "source": [
    "# **Import Statements**"
   ]
  },
  {
   "cell_type": "code",
   "execution_count": 2,
   "id": "a56cc8ec",
   "metadata": {
    "execution": {
     "iopub.execute_input": "2021-12-07T06:05:00.518189Z",
     "iopub.status.busy": "2021-12-07T06:05:00.517389Z",
     "iopub.status.idle": "2021-12-07T06:05:05.808103Z",
     "shell.execute_reply": "2021-12-07T06:05:05.807476Z"
    },
    "papermill": {
     "duration": 5.306597,
     "end_time": "2021-12-07T06:05:05.808240",
     "exception": false,
     "start_time": "2021-12-07T06:05:00.501643",
     "status": "completed"
    },
    "tags": []
   },
   "outputs": [],
   "source": [
    "from tensorflow.keras.layers import Input,Dense,Flatten,Dropout\n",
    "from tensorflow.keras.models import Model,Sequential\n",
    "from tensorflow.keras.applications.vgg16 import VGG16,preprocess_input\n",
    "from matplotlib import pyplot as plt\n",
    "import numpy as np\n",
    "from tensorflow.keras.preprocessing import image\n",
    "from tensorflow.keras.optimizers import Adam\n",
    "from tensorflow.keras.preprocessing.image import ImageDataGenerator"
   ]
  },
  {
   "cell_type": "markdown",
   "id": "f1e0a8be",
   "metadata": {
    "papermill": {
     "duration": 0.013021,
     "end_time": "2021-12-07T06:05:05.834198",
     "exception": false,
     "start_time": "2021-12-07T06:05:05.821177",
     "status": "completed"
    },
    "tags": []
   },
   "source": [
    "# **VGG16 Model Building**"
   ]
  },
  {
   "cell_type": "code",
   "execution_count": 3,
   "id": "eceda226",
   "metadata": {
    "execution": {
     "iopub.execute_input": "2021-12-07T06:05:05.865951Z",
     "iopub.status.busy": "2021-12-07T06:05:05.865377Z",
     "iopub.status.idle": "2021-12-07T06:05:09.055509Z",
     "shell.execute_reply": "2021-12-07T06:05:09.054954Z"
    },
    "papermill": {
     "duration": 3.208488,
     "end_time": "2021-12-07T06:05:09.055675",
     "exception": false,
     "start_time": "2021-12-07T06:05:05.847187",
     "status": "completed"
    },
    "tags": []
   },
   "outputs": [
    {
     "name": "stderr",
     "output_type": "stream",
     "text": [
      "2021-12-07 06:05:05.947848: I tensorflow/stream_executor/cuda/cuda_gpu_executor.cc:937] successful NUMA node read from SysFS had negative value (-1), but there must be at least one NUMA node, so returning NUMA node zero\n",
      "2021-12-07 06:05:06.041360: I tensorflow/stream_executor/cuda/cuda_gpu_executor.cc:937] successful NUMA node read from SysFS had negative value (-1), but there must be at least one NUMA node, so returning NUMA node zero\n",
      "2021-12-07 06:05:06.042052: I tensorflow/stream_executor/cuda/cuda_gpu_executor.cc:937] successful NUMA node read from SysFS had negative value (-1), but there must be at least one NUMA node, so returning NUMA node zero\n",
      "2021-12-07 06:05:06.043119: I tensorflow/core/platform/cpu_feature_guard.cc:142] This TensorFlow binary is optimized with oneAPI Deep Neural Network Library (oneDNN) to use the following CPU instructions in performance-critical operations:  AVX2 AVX512F FMA\n",
      "To enable them in other operations, rebuild TensorFlow with the appropriate compiler flags.\n",
      "2021-12-07 06:05:06.044185: I tensorflow/stream_executor/cuda/cuda_gpu_executor.cc:937] successful NUMA node read from SysFS had negative value (-1), but there must be at least one NUMA node, so returning NUMA node zero\n",
      "2021-12-07 06:05:06.044833: I tensorflow/stream_executor/cuda/cuda_gpu_executor.cc:937] successful NUMA node read from SysFS had negative value (-1), but there must be at least one NUMA node, so returning NUMA node zero\n",
      "2021-12-07 06:05:06.045415: I tensorflow/stream_executor/cuda/cuda_gpu_executor.cc:937] successful NUMA node read from SysFS had negative value (-1), but there must be at least one NUMA node, so returning NUMA node zero\n",
      "2021-12-07 06:05:07.890634: I tensorflow/stream_executor/cuda/cuda_gpu_executor.cc:937] successful NUMA node read from SysFS had negative value (-1), but there must be at least one NUMA node, so returning NUMA node zero\n",
      "2021-12-07 06:05:07.891425: I tensorflow/stream_executor/cuda/cuda_gpu_executor.cc:937] successful NUMA node read from SysFS had negative value (-1), but there must be at least one NUMA node, so returning NUMA node zero\n",
      "2021-12-07 06:05:07.892189: I tensorflow/stream_executor/cuda/cuda_gpu_executor.cc:937] successful NUMA node read from SysFS had negative value (-1), but there must be at least one NUMA node, so returning NUMA node zero\n",
      "2021-12-07 06:05:07.892886: I tensorflow/core/common_runtime/gpu/gpu_device.cc:1510] Created device /job:localhost/replica:0/task:0/device:GPU:0 with 15403 MB memory:  -> device: 0, name: Tesla P100-PCIE-16GB, pci bus id: 0000:00:04.0, compute capability: 6.0\n"
     ]
    },
    {
     "name": "stdout",
     "output_type": "stream",
     "text": [
      "Downloading data from https://storage.googleapis.com/tensorflow/keras-applications/vgg16/vgg16_weights_tf_dim_ordering_tf_kernels_notop.h5\n",
      "58892288/58889256 [==============================] - 1s 0us/step\n",
      "58900480/58889256 [==============================] - 1s 0us/step\n"
     ]
    }
   ],
   "source": [
    "vgg_model = VGG16(include_top=False,\n",
    "    weights=\"imagenet\",\n",
    "    input_shape=img_size + [3])\n",
    "\n",
    "# Loading the VGG16 pre trained model\n",
    "\n",
    "# include_top - this specifies whether the final layer before the output layer has to be include \n",
    "# or not. If included then there will be 1000 number of classes at the output.\n",
    "\n",
    "# Weights are trained using imagenet"
   ]
  },
  {
   "cell_type": "code",
   "execution_count": 4,
   "id": "9673a9cc",
   "metadata": {
    "execution": {
     "iopub.execute_input": "2021-12-07T06:05:09.097204Z",
     "iopub.status.busy": "2021-12-07T06:05:09.091338Z",
     "iopub.status.idle": "2021-12-07T06:05:09.104193Z",
     "shell.execute_reply": "2021-12-07T06:05:09.103757Z"
    },
    "papermill": {
     "duration": 0.032595,
     "end_time": "2021-12-07T06:05:09.104299",
     "exception": false,
     "start_time": "2021-12-07T06:05:09.071704",
     "status": "completed"
    },
    "tags": []
   },
   "outputs": [
    {
     "name": "stdout",
     "output_type": "stream",
     "text": [
      "Model: \"vgg16\"\n",
      "_________________________________________________________________\n",
      "Layer (type)                 Output Shape              Param #   \n",
      "=================================================================\n",
      "input_1 (InputLayer)         [(None, 227, 227, 3)]     0         \n",
      "_________________________________________________________________\n",
      "block1_conv1 (Conv2D)        (None, 227, 227, 64)      1792      \n",
      "_________________________________________________________________\n",
      "block1_conv2 (Conv2D)        (None, 227, 227, 64)      36928     \n",
      "_________________________________________________________________\n",
      "block1_pool (MaxPooling2D)   (None, 113, 113, 64)      0         \n",
      "_________________________________________________________________\n",
      "block2_conv1 (Conv2D)        (None, 113, 113, 128)     73856     \n",
      "_________________________________________________________________\n",
      "block2_conv2 (Conv2D)        (None, 113, 113, 128)     147584    \n",
      "_________________________________________________________________\n",
      "block2_pool (MaxPooling2D)   (None, 56, 56, 128)       0         \n",
      "_________________________________________________________________\n",
      "block3_conv1 (Conv2D)        (None, 56, 56, 256)       295168    \n",
      "_________________________________________________________________\n",
      "block3_conv2 (Conv2D)        (None, 56, 56, 256)       590080    \n",
      "_________________________________________________________________\n",
      "block3_conv3 (Conv2D)        (None, 56, 56, 256)       590080    \n",
      "_________________________________________________________________\n",
      "block3_pool (MaxPooling2D)   (None, 28, 28, 256)       0         \n",
      "_________________________________________________________________\n",
      "block4_conv1 (Conv2D)        (None, 28, 28, 512)       1180160   \n",
      "_________________________________________________________________\n",
      "block4_conv2 (Conv2D)        (None, 28, 28, 512)       2359808   \n",
      "_________________________________________________________________\n",
      "block4_conv3 (Conv2D)        (None, 28, 28, 512)       2359808   \n",
      "_________________________________________________________________\n",
      "block4_pool (MaxPooling2D)   (None, 14, 14, 512)       0         \n",
      "_________________________________________________________________\n",
      "block5_conv1 (Conv2D)        (None, 14, 14, 512)       2359808   \n",
      "_________________________________________________________________\n",
      "block5_conv2 (Conv2D)        (None, 14, 14, 512)       2359808   \n",
      "_________________________________________________________________\n",
      "block5_conv3 (Conv2D)        (None, 14, 14, 512)       2359808   \n",
      "_________________________________________________________________\n",
      "block5_pool (MaxPooling2D)   (None, 7, 7, 512)         0         \n",
      "=================================================================\n",
      "Total params: 14,714,688\n",
      "Trainable params: 14,714,688\n",
      "Non-trainable params: 0\n",
      "_________________________________________________________________\n"
     ]
    }
   ],
   "source": [
    "# To print the hidden layer summary of vgg model without top layer\n",
    "vgg_model.summary()"
   ]
  },
  {
   "cell_type": "code",
   "execution_count": 5,
   "id": "6174c765",
   "metadata": {
    "execution": {
     "iopub.execute_input": "2021-12-07T06:05:09.139862Z",
     "iopub.status.busy": "2021-12-07T06:05:09.139227Z",
     "iopub.status.idle": "2021-12-07T06:05:09.141340Z",
     "shell.execute_reply": "2021-12-07T06:05:09.141782Z"
    },
    "papermill": {
     "duration": 0.021854,
     "end_time": "2021-12-07T06:05:09.141910",
     "exception": false,
     "start_time": "2021-12-07T06:05:09.120056",
     "status": "completed"
    },
    "tags": []
   },
   "outputs": [],
   "source": [
    "# To fix the weights of the pre trained model\n",
    "for lay in vgg_model.layers:\n",
    "    lay.trainable = False"
   ]
  },
  {
   "cell_type": "code",
   "execution_count": 6,
   "id": "74ef0ef9",
   "metadata": {
    "execution": {
     "iopub.execute_input": "2021-12-07T06:05:09.180308Z",
     "iopub.status.busy": "2021-12-07T06:05:09.177912Z",
     "iopub.status.idle": "2021-12-07T06:05:09.189078Z",
     "shell.execute_reply": "2021-12-07T06:05:09.188638Z"
    },
    "papermill": {
     "duration": 0.031557,
     "end_time": "2021-12-07T06:05:09.189182",
     "exception": false,
     "start_time": "2021-12-07T06:05:09.157625",
     "status": "completed"
    },
    "tags": []
   },
   "outputs": [
    {
     "name": "stdout",
     "output_type": "stream",
     "text": [
      "Model: \"vgg16\"\n",
      "_________________________________________________________________\n",
      "Layer (type)                 Output Shape              Param #   \n",
      "=================================================================\n",
      "input_1 (InputLayer)         [(None, 227, 227, 3)]     0         \n",
      "_________________________________________________________________\n",
      "block1_conv1 (Conv2D)        (None, 227, 227, 64)      1792      \n",
      "_________________________________________________________________\n",
      "block1_conv2 (Conv2D)        (None, 227, 227, 64)      36928     \n",
      "_________________________________________________________________\n",
      "block1_pool (MaxPooling2D)   (None, 113, 113, 64)      0         \n",
      "_________________________________________________________________\n",
      "block2_conv1 (Conv2D)        (None, 113, 113, 128)     73856     \n",
      "_________________________________________________________________\n",
      "block2_conv2 (Conv2D)        (None, 113, 113, 128)     147584    \n",
      "_________________________________________________________________\n",
      "block2_pool (MaxPooling2D)   (None, 56, 56, 128)       0         \n",
      "_________________________________________________________________\n",
      "block3_conv1 (Conv2D)        (None, 56, 56, 256)       295168    \n",
      "_________________________________________________________________\n",
      "block3_conv2 (Conv2D)        (None, 56, 56, 256)       590080    \n",
      "_________________________________________________________________\n",
      "block3_conv3 (Conv2D)        (None, 56, 56, 256)       590080    \n",
      "_________________________________________________________________\n",
      "block3_pool (MaxPooling2D)   (None, 28, 28, 256)       0         \n",
      "_________________________________________________________________\n",
      "block4_conv1 (Conv2D)        (None, 28, 28, 512)       1180160   \n",
      "_________________________________________________________________\n",
      "block4_conv2 (Conv2D)        (None, 28, 28, 512)       2359808   \n",
      "_________________________________________________________________\n",
      "block4_conv3 (Conv2D)        (None, 28, 28, 512)       2359808   \n",
      "_________________________________________________________________\n",
      "block4_pool (MaxPooling2D)   (None, 14, 14, 512)       0         \n",
      "_________________________________________________________________\n",
      "block5_conv1 (Conv2D)        (None, 14, 14, 512)       2359808   \n",
      "_________________________________________________________________\n",
      "block5_conv2 (Conv2D)        (None, 14, 14, 512)       2359808   \n",
      "_________________________________________________________________\n",
      "block5_conv3 (Conv2D)        (None, 14, 14, 512)       2359808   \n",
      "_________________________________________________________________\n",
      "block5_pool (MaxPooling2D)   (None, 7, 7, 512)         0         \n",
      "=================================================================\n",
      "Total params: 14,714,688\n",
      "Trainable params: 0\n",
      "Non-trainable params: 14,714,688\n",
      "_________________________________________________________________\n"
     ]
    }
   ],
   "source": [
    "vgg_model.summary()"
   ]
  },
  {
   "cell_type": "code",
   "execution_count": 7,
   "id": "6ff2ef98",
   "metadata": {
    "execution": {
     "iopub.execute_input": "2021-12-07T06:05:09.225645Z",
     "iopub.status.busy": "2021-12-07T06:05:09.225136Z",
     "iopub.status.idle": "2021-12-07T06:05:09.246558Z",
     "shell.execute_reply": "2021-12-07T06:05:09.246969Z"
    },
    "papermill": {
     "duration": 0.041171,
     "end_time": "2021-12-07T06:05:09.247101",
     "exception": false,
     "start_time": "2021-12-07T06:05:09.205930",
     "status": "completed"
    },
    "tags": []
   },
   "outputs": [
    {
     "name": "stdout",
     "output_type": "stream",
     "text": [
      "2\n",
      "2\n"
     ]
    }
   ],
   "source": [
    "# to list out number of folders in train and test folder\n",
    "import os\n",
    "folders_train1 = os.listdir(main_train)\n",
    "print(len(folders_train1))\n",
    "\n",
    "folders_test1 = os.listdir(main_test)\n",
    "print(len(folders_test1))"
   ]
  },
  {
   "cell_type": "code",
   "execution_count": 8,
   "id": "dc65e284",
   "metadata": {
    "execution": {
     "iopub.execute_input": "2021-12-07T06:05:09.286024Z",
     "iopub.status.busy": "2021-12-07T06:05:09.285310Z",
     "iopub.status.idle": "2021-12-07T06:05:09.288396Z",
     "shell.execute_reply": "2021-12-07T06:05:09.288830Z"
    },
    "papermill": {
     "duration": 0.025456,
     "end_time": "2021-12-07T06:05:09.288948",
     "exception": false,
     "start_time": "2021-12-07T06:05:09.263492",
     "status": "completed"
    },
    "tags": []
   },
   "outputs": [
    {
     "data": {
      "text/plain": [
       "<KerasTensor: shape=(None, 7, 7, 512) dtype=float32 (created by layer 'block5_pool')>"
      ]
     },
     "execution_count": 8,
     "metadata": {},
     "output_type": "execute_result"
    }
   ],
   "source": [
    "#outputs the last layer\n",
    "vgg_model.output"
   ]
  },
  {
   "cell_type": "code",
   "execution_count": 9,
   "id": "9a85e5cd",
   "metadata": {
    "execution": {
     "iopub.execute_input": "2021-12-07T06:05:09.327303Z",
     "iopub.status.busy": "2021-12-07T06:05:09.326530Z",
     "iopub.status.idle": "2021-12-07T06:05:09.329844Z",
     "shell.execute_reply": "2021-12-07T06:05:09.329297Z"
    },
    "papermill": {
     "duration": 0.02411,
     "end_time": "2021-12-07T06:05:09.329952",
     "exception": false,
     "start_time": "2021-12-07T06:05:09.305842",
     "status": "completed"
    },
    "tags": []
   },
   "outputs": [
    {
     "data": {
      "text/plain": [
       "<KerasTensor: shape=(None, 227, 227, 3) dtype=float32 (created by layer 'input_1')>"
      ]
     },
     "execution_count": 9,
     "metadata": {},
     "output_type": "execute_result"
    }
   ],
   "source": [
    "#inputs of the layer\n",
    "vgg_model.input"
   ]
  },
  {
   "cell_type": "code",
   "execution_count": 10,
   "id": "5449d9f9",
   "metadata": {
    "execution": {
     "iopub.execute_input": "2021-12-07T06:05:09.370770Z",
     "iopub.status.busy": "2021-12-07T06:05:09.369985Z",
     "iopub.status.idle": "2021-12-07T06:05:09.404902Z",
     "shell.execute_reply": "2021-12-07T06:05:09.404369Z"
    },
    "papermill": {
     "duration": 0.057784,
     "end_time": "2021-12-07T06:05:09.405029",
     "exception": false,
     "start_time": "2021-12-07T06:05:09.347245",
     "status": "completed"
    },
    "tags": []
   },
   "outputs": [
    {
     "name": "stdout",
     "output_type": "stream",
     "text": [
      "Model: \"model\"\n",
      "_________________________________________________________________\n",
      "Layer (type)                 Output Shape              Param #   \n",
      "=================================================================\n",
      "input_1 (InputLayer)         [(None, 227, 227, 3)]     0         \n",
      "_________________________________________________________________\n",
      "block1_conv1 (Conv2D)        (None, 227, 227, 64)      1792      \n",
      "_________________________________________________________________\n",
      "block1_conv2 (Conv2D)        (None, 227, 227, 64)      36928     \n",
      "_________________________________________________________________\n",
      "block1_pool (MaxPooling2D)   (None, 113, 113, 64)      0         \n",
      "_________________________________________________________________\n",
      "block2_conv1 (Conv2D)        (None, 113, 113, 128)     73856     \n",
      "_________________________________________________________________\n",
      "block2_conv2 (Conv2D)        (None, 113, 113, 128)     147584    \n",
      "_________________________________________________________________\n",
      "block2_pool (MaxPooling2D)   (None, 56, 56, 128)       0         \n",
      "_________________________________________________________________\n",
      "block3_conv1 (Conv2D)        (None, 56, 56, 256)       295168    \n",
      "_________________________________________________________________\n",
      "block3_conv2 (Conv2D)        (None, 56, 56, 256)       590080    \n",
      "_________________________________________________________________\n",
      "block3_conv3 (Conv2D)        (None, 56, 56, 256)       590080    \n",
      "_________________________________________________________________\n",
      "block3_pool (MaxPooling2D)   (None, 28, 28, 256)       0         \n",
      "_________________________________________________________________\n",
      "block4_conv1 (Conv2D)        (None, 28, 28, 512)       1180160   \n",
      "_________________________________________________________________\n",
      "block4_conv2 (Conv2D)        (None, 28, 28, 512)       2359808   \n",
      "_________________________________________________________________\n",
      "block4_conv3 (Conv2D)        (None, 28, 28, 512)       2359808   \n",
      "_________________________________________________________________\n",
      "block4_pool (MaxPooling2D)   (None, 14, 14, 512)       0         \n",
      "_________________________________________________________________\n",
      "block5_conv1 (Conv2D)        (None, 14, 14, 512)       2359808   \n",
      "_________________________________________________________________\n",
      "block5_conv2 (Conv2D)        (None, 14, 14, 512)       2359808   \n",
      "_________________________________________________________________\n",
      "block5_conv3 (Conv2D)        (None, 14, 14, 512)       2359808   \n",
      "_________________________________________________________________\n",
      "block5_pool (MaxPooling2D)   (None, 7, 7, 512)         0         \n",
      "_________________________________________________________________\n",
      "first_flatten (Flatten)      (None, 25088)             0         \n",
      "_________________________________________________________________\n",
      "dense (Dense)                (None, 128)               3211392   \n",
      "_________________________________________________________________\n",
      "dropout (Dropout)            (None, 128)               0         \n",
      "_________________________________________________________________\n",
      "dense_1 (Dense)              (None, 2)                 258       \n",
      "=================================================================\n",
      "Total params: 17,926,338\n",
      "Trainable params: 3,211,650\n",
      "Non-trainable params: 14,714,688\n",
      "_________________________________________________________________\n"
     ]
    }
   ],
   "source": [
    "# Flatten() is used to convert the last layer to vector or as fully connected\n",
    "x = Flatten(name=\"first_flatten\")(vgg_model.output)\n",
    "# Dense() is a fully connected layer and produces 128 outputs.\n",
    "# relu layer is used to convert the negative nubers to 0 and retains +ve as such.\n",
    "pred = Dense(128, activation=\"relu\")(x)\n",
    "#Dropout() layer is used to randomly remove 50% of the networks.\n",
    "pred = Dropout(0.5)(pred)\n",
    "# Dense() layer is added such that it outputs only two classess \n",
    "# Softmax activation layer produces probabilities for different classess.\n",
    "pred = Dense(2,activation='softmax')(pred)\n",
    "# Model() is used to group layers\n",
    "model = Model(inputs=vgg_model.input,outputs=pred)\n",
    "model.summary()"
   ]
  },
  {
   "cell_type": "markdown",
   "id": "16624466",
   "metadata": {
    "papermill": {
     "duration": 0.017832,
     "end_time": "2021-12-07T06:05:09.440422",
     "exception": false,
     "start_time": "2021-12-07T06:05:09.422590",
     "status": "completed"
    },
    "tags": []
   },
   "source": [
    "# **Image Augmentation**"
   ]
  },
  {
   "cell_type": "code",
   "execution_count": 11,
   "id": "f8dfb206",
   "metadata": {
    "execution": {
     "iopub.execute_input": "2021-12-07T06:05:09.482979Z",
     "iopub.status.busy": "2021-12-07T06:05:09.482198Z",
     "iopub.status.idle": "2021-12-07T06:06:01.726842Z",
     "shell.execute_reply": "2021-12-07T06:06:01.727948Z"
    },
    "papermill": {
     "duration": 52.269715,
     "end_time": "2021-12-07T06:06:01.728162",
     "exception": false,
     "start_time": "2021-12-07T06:05:09.458447",
     "status": "completed"
    },
    "tags": []
   },
   "outputs": [
    {
     "name": "stdout",
     "output_type": "stream",
     "text": [
      "Found 32042 images belonging to 2 classes.\n",
      "Found 7958 images belonging to 2 classes.\n"
     ]
    }
   ],
   "source": [
    "#ImageDataGenerator is used to modify the train and test images w.r.t the properties mentioned\n",
    "train_datagen = ImageDataGenerator(rescale = 1/255.0,\n",
    "                                   shear_range = 0.2,\n",
    "                                   zoom_range = 0.2,\n",
    "                                   rotation_range=20,\n",
    "                                   width_shift_range=0.2, \n",
    "                                   height_shift_range=0.2,\n",
    "                                   horizontal_flip = True)\n",
    "\n",
    "test_datagen = ImageDataGenerator(rescale = 1/255.0,\n",
    "                                   shear_range = 0.2,\n",
    "                                   zoom_range = 0.2,\n",
    "                                   rotation_range=20,\n",
    "                                   width_shift_range=0.2, \n",
    "                                   height_shift_range=0.2,\n",
    "                                   horizontal_flip = True)\n",
    "\n",
    "# flow_from_directory() is used to convert all the images in the specific directory\n",
    "training_set = train_datagen.flow_from_directory(directory = main_train,\n",
    "                                                 target_size = (227,227),\n",
    "                                                 batch_size = 500,\n",
    "                                                 )\n",
    "\n",
    "test_set = test_datagen.flow_from_directory(directory = main_test,\n",
    "                                                 target_size = (227,227),\n",
    "                                                 batch_size = 500,\n",
    "                                                 )"
   ]
  },
  {
   "cell_type": "code",
   "execution_count": 12,
   "id": "9b3fa7d5",
   "metadata": {
    "execution": {
     "iopub.execute_input": "2021-12-07T06:06:01.771473Z",
     "iopub.status.busy": "2021-12-07T06:06:01.770707Z",
     "iopub.status.idle": "2021-12-07T06:06:01.773769Z",
     "shell.execute_reply": "2021-12-07T06:06:01.774189Z"
    },
    "papermill": {
     "duration": 0.025864,
     "end_time": "2021-12-07T06:06:01.774314",
     "exception": false,
     "start_time": "2021-12-07T06:06:01.748450",
     "status": "completed"
    },
    "tags": []
   },
   "outputs": [
    {
     "data": {
      "text/plain": [
       "{'Negative': 0, 'Positive': 1}"
      ]
     },
     "execution_count": 12,
     "metadata": {},
     "output_type": "execute_result"
    }
   ],
   "source": [
    "# Class_indices will display the respective class value\n",
    "training_set.class_indices"
   ]
  },
  {
   "cell_type": "code",
   "execution_count": 13,
   "id": "7f3a8985",
   "metadata": {
    "execution": {
     "iopub.execute_input": "2021-12-07T06:06:01.816728Z",
     "iopub.status.busy": "2021-12-07T06:06:01.815968Z",
     "iopub.status.idle": "2021-12-07T06:06:01.819923Z",
     "shell.execute_reply": "2021-12-07T06:06:01.819228Z"
    },
    "papermill": {
     "duration": 0.026049,
     "end_time": "2021-12-07T06:06:01.820074",
     "exception": false,
     "start_time": "2021-12-07T06:06:01.794025",
     "status": "completed"
    },
    "tags": []
   },
   "outputs": [
    {
     "name": "stdout",
     "output_type": "stream",
     "text": [
      "65\n",
      "16\n"
     ]
    }
   ],
   "source": [
    "# To check no.of folders in each\n",
    "print(len(training_set))\n",
    "print(len(test_set))"
   ]
  },
  {
   "cell_type": "markdown",
   "id": "a05740bf",
   "metadata": {
    "papermill": {
     "duration": 0.019417,
     "end_time": "2021-12-07T06:06:01.859645",
     "exception": false,
     "start_time": "2021-12-07T06:06:01.840228",
     "status": "completed"
    },
    "tags": []
   },
   "source": [
    "# **Model Fitting**"
   ]
  },
  {
   "cell_type": "code",
   "execution_count": 14,
   "id": "b58b360e",
   "metadata": {
    "execution": {
     "iopub.execute_input": "2021-12-07T06:06:01.909730Z",
     "iopub.status.busy": "2021-12-07T06:06:01.908892Z",
     "iopub.status.idle": "2021-12-07T06:06:01.915748Z",
     "shell.execute_reply": "2021-12-07T06:06:01.915237Z"
    },
    "papermill": {
     "duration": 0.03717,
     "end_time": "2021-12-07T06:06:01.915855",
     "exception": false,
     "start_time": "2021-12-07T06:06:01.878685",
     "status": "completed"
    },
    "tags": []
   },
   "outputs": [],
   "source": [
    "# Loss function is used to find the errors or deviations in learning process\n",
    "# Optimizer is used to optimize the input weights\n",
    "# Metrics is used to measure the performance\n",
    "model.compile(optimizer=Adam(learning_rate=0.10),\n",
    "    loss=\"binary_crossentropy\",\n",
    "    metrics=['accuracy'])"
   ]
  },
  {
   "cell_type": "code",
   "execution_count": 15,
   "id": "82ededec",
   "metadata": {
    "execution": {
     "iopub.execute_input": "2021-12-07T06:06:01.960960Z",
     "iopub.status.busy": "2021-12-07T06:06:01.959487Z",
     "iopub.status.idle": "2021-12-07T06:26:54.671999Z",
     "shell.execute_reply": "2021-12-07T06:26:54.671391Z"
    },
    "papermill": {
     "duration": 1252.735886,
     "end_time": "2021-12-07T06:26:54.672165",
     "exception": false,
     "start_time": "2021-12-07T06:06:01.936279",
     "status": "completed"
    },
    "tags": []
   },
   "outputs": [
    {
     "name": "stderr",
     "output_type": "stream",
     "text": [
      "2021-12-07 06:06:10.190623: I tensorflow/compiler/mlir/mlir_graph_optimization_pass.cc:185] None of the MLIR Optimization Passes are enabled (registered 2)\n"
     ]
    },
    {
     "name": "stdout",
     "output_type": "stream",
     "text": [
      "Epoch 1/2\n"
     ]
    },
    {
     "name": "stderr",
     "output_type": "stream",
     "text": [
      "2021-12-07 06:06:18.993561: I tensorflow/stream_executor/cuda/cuda_dnn.cc:369] Loaded cuDNN version 8005\n",
      "2021-12-07 06:06:23.060880: W tensorflow/core/kernels/gpu_utils.cc:49] Failed to allocate memory for convolution redzone checking; skipping this check. This is benign and only means that we won't check cudnn for out-of-bounds reads and writes. This message will only be printed once.\n"
     ]
    },
    {
     "name": "stdout",
     "output_type": "stream",
     "text": [
      "65/65 [==============================] - 680s 10s/step - loss: 13.3000 - accuracy: 0.5318 - val_loss: 0.6925 - val_accuracy: 0.5053\n",
      "Epoch 2/2\n",
      "65/65 [==============================] - 508s 8s/step - loss: 0.6929 - accuracy: 0.5031 - val_loss: 0.6929 - val_accuracy: 0.4965\n"
     ]
    }
   ],
   "source": [
    "# fit() is used to train the model \n",
    "# len(training_set) is 32042/500 = 65\n",
    "# len(test_set) is 7958/500 = 16\n",
    "mod = model.fit(\n",
    "  training_set,\n",
    "  validation_data=test_set,\n",
    "  epochs=2,\n",
    "  steps_per_epoch=len(training_set),\n",
    "  validation_steps=len(test_set)\n",
    ")"
   ]
  },
  {
   "cell_type": "markdown",
   "id": "d6a2d487",
   "metadata": {
    "papermill": {
     "duration": 0.054293,
     "end_time": "2021-12-07T06:26:54.781521",
     "exception": false,
     "start_time": "2021-12-07T06:26:54.727228",
     "status": "completed"
    },
    "tags": []
   },
   "source": [
    "# **Model Saving**"
   ]
  },
  {
   "cell_type": "code",
   "execution_count": 16,
   "id": "c1cd9159",
   "metadata": {
    "execution": {
     "iopub.execute_input": "2021-12-07T06:26:54.910009Z",
     "iopub.status.busy": "2021-12-07T06:26:54.909107Z",
     "iopub.status.idle": "2021-12-07T06:26:55.145059Z",
     "shell.execute_reply": "2021-12-07T06:26:55.144368Z",
     "shell.execute_reply.started": "2021-12-07T04:35:02.891841Z"
    },
    "papermill": {
     "duration": 0.308428,
     "end_time": "2021-12-07T06:26:55.145186",
     "exception": false,
     "start_time": "2021-12-07T06:26:54.836758",
     "status": "completed"
    },
    "tags": []
   },
   "outputs": [
    {
     "data": {
      "text/plain": [
       "['128_0.10__100%']"
      ]
     },
     "execution_count": 16,
     "metadata": {},
     "output_type": "execute_result"
    }
   ],
   "source": [
    "# To save the particular model in .h5 format\n",
    "import tensorflow as tf\n",
    "from tensorflow.keras.models import load_model\n",
    "model.save('128_0.10__100%.h5')\n",
    "\n",
    "\n",
    "\n",
    "import joblib\n",
    "joblib.dump(mod.history,'128_0.10__100%')\n"
   ]
  },
  {
   "cell_type": "code",
   "execution_count": null,
   "id": "f073d314",
   "metadata": {
    "papermill": {
     "duration": 0.054862,
     "end_time": "2021-12-07T06:26:55.255918",
     "exception": false,
     "start_time": "2021-12-07T06:26:55.201056",
     "status": "completed"
    },
    "tags": []
   },
   "outputs": [],
   "source": []
  }
 ],
 "metadata": {
  "kernelspec": {
   "display_name": "Python 3",
   "language": "python",
   "name": "python3"
  },
  "language_info": {
   "codemirror_mode": {
    "name": "ipython",
    "version": 3
   },
   "file_extension": ".py",
   "mimetype": "text/x-python",
   "name": "python",
   "nbconvert_exporter": "python",
   "pygments_lexer": "ipython3",
   "version": "3.7.12"
  },
  "papermill": {
   "default_parameters": {},
   "duration": 1325.894103,
   "end_time": "2021-12-07T06:26:58.256283",
   "environment_variables": {},
   "exception": null,
   "input_path": "__notebook__.ipynb",
   "output_path": "__notebook__.ipynb",
   "parameters": {},
   "start_time": "2021-12-07T06:04:52.362180",
   "version": "2.3.3"
  }
 },
 "nbformat": 4,
 "nbformat_minor": 5
}
