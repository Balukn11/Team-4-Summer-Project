{
 "cells": [
  {
   "cell_type": "code",
   "execution_count": 1,
   "id": "be56bce9",
   "metadata": {
    "_cell_guid": "b1076dfc-b9ad-4769-8c92-a6c4dae69d19",
    "_uuid": "8f2839f25d086af736a60e9eeb907d3b93b6e0e5",
    "execution": {
     "iopub.execute_input": "2021-12-08T16:25:44.261857Z",
     "iopub.status.busy": "2021-12-08T16:25:44.260363Z",
     "iopub.status.idle": "2021-12-08T16:25:44.270031Z",
     "shell.execute_reply": "2021-12-08T16:25:44.269534Z",
     "shell.execute_reply.started": "2021-12-07T05:36:17.530077Z"
    },
    "papermill": {
     "duration": 0.027157,
     "end_time": "2021-12-08T16:25:44.270171",
     "exception": false,
     "start_time": "2021-12-08T16:25:44.243014",
     "status": "completed"
    },
    "tags": []
   },
   "outputs": [],
   "source": [
    "img_size = [227,227] #List which stores the resolution\n",
    "main_train = '../input/mit-split-crack/50/Train' #Stores the path of the train directory\n",
    "main_test = '../input/mit-split-crack/50/Test' #Stores the path of the test directory"
   ]
  },
  {
   "cell_type": "markdown",
   "id": "cbaa377e",
   "metadata": {
    "papermill": {
     "duration": 0.012337,
     "end_time": "2021-12-08T16:25:44.295397",
     "exception": false,
     "start_time": "2021-12-08T16:25:44.283060",
     "status": "completed"
    },
    "tags": []
   },
   "source": [
    "# **Import Statements**"
   ]
  },
  {
   "cell_type": "code",
   "execution_count": 2,
   "id": "066297c5",
   "metadata": {
    "execution": {
     "iopub.execute_input": "2021-12-08T16:25:44.326075Z",
     "iopub.status.busy": "2021-12-08T16:25:44.325344Z",
     "iopub.status.idle": "2021-12-08T16:25:49.029065Z",
     "shell.execute_reply": "2021-12-08T16:25:49.028589Z",
     "shell.execute_reply.started": "2021-12-07T05:36:17.561845Z"
    },
    "papermill": {
     "duration": 4.720721,
     "end_time": "2021-12-08T16:25:49.029223",
     "exception": false,
     "start_time": "2021-12-08T16:25:44.308502",
     "status": "completed"
    },
    "tags": []
   },
   "outputs": [],
   "source": [
    "from tensorflow.keras.layers import Input,Dense,Flatten,Dropout\n",
    "from tensorflow.keras.models import Model,Sequential\n",
    "from tensorflow.keras.applications.vgg16 import VGG16,preprocess_input\n",
    "from matplotlib import pyplot as plt\n",
    "import numpy as np\n",
    "from tensorflow.keras.preprocessing import image\n",
    "from tensorflow.keras.optimizers import Adam\n",
    "from tensorflow.keras.preprocessing.image import ImageDataGenerator"
   ]
  },
  {
   "cell_type": "markdown",
   "id": "c7b427ae",
   "metadata": {
    "papermill": {
     "duration": 0.012517,
     "end_time": "2021-12-08T16:25:49.054774",
     "exception": false,
     "start_time": "2021-12-08T16:25:49.042257",
     "status": "completed"
    },
    "tags": []
   },
   "source": [
    "# **VGG16 Model Building**"
   ]
  },
  {
   "cell_type": "code",
   "execution_count": 3,
   "id": "e7cdaeab",
   "metadata": {
    "execution": {
     "iopub.execute_input": "2021-12-08T16:25:49.086081Z",
     "iopub.status.busy": "2021-12-08T16:25:49.085496Z",
     "iopub.status.idle": "2021-12-08T16:25:51.773482Z",
     "shell.execute_reply": "2021-12-08T16:25:51.772968Z",
     "shell.execute_reply.started": "2021-12-07T05:36:27.476911Z"
    },
    "papermill": {
     "duration": 2.706347,
     "end_time": "2021-12-08T16:25:51.773622",
     "exception": false,
     "start_time": "2021-12-08T16:25:49.067275",
     "status": "completed"
    },
    "tags": []
   },
   "outputs": [
    {
     "name": "stderr",
     "output_type": "stream",
     "text": [
      "2021-12-08 16:25:49.172736: I tensorflow/stream_executor/cuda/cuda_gpu_executor.cc:937] successful NUMA node read from SysFS had negative value (-1), but there must be at least one NUMA node, so returning NUMA node zero\n",
      "2021-12-08 16:25:49.247999: I tensorflow/stream_executor/cuda/cuda_gpu_executor.cc:937] successful NUMA node read from SysFS had negative value (-1), but there must be at least one NUMA node, so returning NUMA node zero\n",
      "2021-12-08 16:25:49.248707: I tensorflow/stream_executor/cuda/cuda_gpu_executor.cc:937] successful NUMA node read from SysFS had negative value (-1), but there must be at least one NUMA node, so returning NUMA node zero\n",
      "2021-12-08 16:25:49.249781: I tensorflow/core/platform/cpu_feature_guard.cc:142] This TensorFlow binary is optimized with oneAPI Deep Neural Network Library (oneDNN) to use the following CPU instructions in performance-critical operations:  AVX2 AVX512F FMA\n",
      "To enable them in other operations, rebuild TensorFlow with the appropriate compiler flags.\n",
      "2021-12-08 16:25:49.250854: I tensorflow/stream_executor/cuda/cuda_gpu_executor.cc:937] successful NUMA node read from SysFS had negative value (-1), but there must be at least one NUMA node, so returning NUMA node zero\n",
      "2021-12-08 16:25:49.251530: I tensorflow/stream_executor/cuda/cuda_gpu_executor.cc:937] successful NUMA node read from SysFS had negative value (-1), but there must be at least one NUMA node, so returning NUMA node zero\n",
      "2021-12-08 16:25:49.252176: I tensorflow/stream_executor/cuda/cuda_gpu_executor.cc:937] successful NUMA node read from SysFS had negative value (-1), but there must be at least one NUMA node, so returning NUMA node zero\n",
      "2021-12-08 16:25:50.769485: I tensorflow/stream_executor/cuda/cuda_gpu_executor.cc:937] successful NUMA node read from SysFS had negative value (-1), but there must be at least one NUMA node, so returning NUMA node zero\n",
      "2021-12-08 16:25:50.770244: I tensorflow/stream_executor/cuda/cuda_gpu_executor.cc:937] successful NUMA node read from SysFS had negative value (-1), but there must be at least one NUMA node, so returning NUMA node zero\n",
      "2021-12-08 16:25:50.770868: I tensorflow/stream_executor/cuda/cuda_gpu_executor.cc:937] successful NUMA node read from SysFS had negative value (-1), but there must be at least one NUMA node, so returning NUMA node zero\n",
      "2021-12-08 16:25:50.771441: I tensorflow/core/common_runtime/gpu/gpu_device.cc:1510] Created device /job:localhost/replica:0/task:0/device:GPU:0 with 15403 MB memory:  -> device: 0, name: Tesla P100-PCIE-16GB, pci bus id: 0000:00:04.0, compute capability: 6.0\n"
     ]
    },
    {
     "name": "stdout",
     "output_type": "stream",
     "text": [
      "Downloading data from https://storage.googleapis.com/tensorflow/keras-applications/vgg16/vgg16_weights_tf_dim_ordering_tf_kernels_notop.h5\n",
      "58892288/58889256 [==============================] - 0s 0us/step\n",
      "58900480/58889256 [==============================] - 0s 0us/step\n"
     ]
    }
   ],
   "source": [
    "vgg_model = VGG16(include_top=False,\n",
    "    weights=\"imagenet\",\n",
    "    input_shape=img_size + [3])\n",
    "\n",
    "# Loading the VGG16 pre trained model\n",
    "\n",
    "# include_top - this specifies whether the final layer before the output layer has to be include \n",
    "# or not. If included then there will be 1000 number of classes at the output.\n",
    "\n",
    "# Weights are trained using imagenet"
   ]
  },
  {
   "cell_type": "code",
   "execution_count": 4,
   "id": "26054c2e",
   "metadata": {
    "execution": {
     "iopub.execute_input": "2021-12-08T16:25:51.815536Z",
     "iopub.status.busy": "2021-12-08T16:25:51.814734Z",
     "iopub.status.idle": "2021-12-08T16:25:51.820719Z",
     "shell.execute_reply": "2021-12-08T16:25:51.821315Z",
     "shell.execute_reply.started": "2021-12-07T05:36:34.452979Z"
    },
    "papermill": {
     "duration": 0.031717,
     "end_time": "2021-12-08T16:25:51.821477",
     "exception": false,
     "start_time": "2021-12-08T16:25:51.789760",
     "status": "completed"
    },
    "tags": []
   },
   "outputs": [
    {
     "name": "stdout",
     "output_type": "stream",
     "text": [
      "Model: \"vgg16\"\n",
      "_________________________________________________________________\n",
      "Layer (type)                 Output Shape              Param #   \n",
      "=================================================================\n",
      "input_1 (InputLayer)         [(None, 227, 227, 3)]     0         \n",
      "_________________________________________________________________\n",
      "block1_conv1 (Conv2D)        (None, 227, 227, 64)      1792      \n",
      "_________________________________________________________________\n",
      "block1_conv2 (Conv2D)        (None, 227, 227, 64)      36928     \n",
      "_________________________________________________________________\n",
      "block1_pool (MaxPooling2D)   (None, 113, 113, 64)      0         \n",
      "_________________________________________________________________\n",
      "block2_conv1 (Conv2D)        (None, 113, 113, 128)     73856     \n",
      "_________________________________________________________________\n",
      "block2_conv2 (Conv2D)        (None, 113, 113, 128)     147584    \n",
      "_________________________________________________________________\n",
      "block2_pool (MaxPooling2D)   (None, 56, 56, 128)       0         \n",
      "_________________________________________________________________\n",
      "block3_conv1 (Conv2D)        (None, 56, 56, 256)       295168    \n",
      "_________________________________________________________________\n",
      "block3_conv2 (Conv2D)        (None, 56, 56, 256)       590080    \n",
      "_________________________________________________________________\n",
      "block3_conv3 (Conv2D)        (None, 56, 56, 256)       590080    \n",
      "_________________________________________________________________\n",
      "block3_pool (MaxPooling2D)   (None, 28, 28, 256)       0         \n",
      "_________________________________________________________________\n",
      "block4_conv1 (Conv2D)        (None, 28, 28, 512)       1180160   \n",
      "_________________________________________________________________\n",
      "block4_conv2 (Conv2D)        (None, 28, 28, 512)       2359808   \n",
      "_________________________________________________________________\n",
      "block4_conv3 (Conv2D)        (None, 28, 28, 512)       2359808   \n",
      "_________________________________________________________________\n",
      "block4_pool (MaxPooling2D)   (None, 14, 14, 512)       0         \n",
      "_________________________________________________________________\n",
      "block5_conv1 (Conv2D)        (None, 14, 14, 512)       2359808   \n",
      "_________________________________________________________________\n",
      "block5_conv2 (Conv2D)        (None, 14, 14, 512)       2359808   \n",
      "_________________________________________________________________\n",
      "block5_conv3 (Conv2D)        (None, 14, 14, 512)       2359808   \n",
      "_________________________________________________________________\n",
      "block5_pool (MaxPooling2D)   (None, 7, 7, 512)         0         \n",
      "=================================================================\n",
      "Total params: 14,714,688\n",
      "Trainable params: 14,714,688\n",
      "Non-trainable params: 0\n",
      "_________________________________________________________________\n"
     ]
    }
   ],
   "source": [
    "# To print the hidden layer summary of vgg model without top layer\n",
    "vgg_model.summary()"
   ]
  },
  {
   "cell_type": "code",
   "execution_count": 5,
   "id": "21a7201f",
   "metadata": {
    "execution": {
     "iopub.execute_input": "2021-12-08T16:25:51.858233Z",
     "iopub.status.busy": "2021-12-08T16:25:51.857599Z",
     "iopub.status.idle": "2021-12-08T16:25:51.860417Z",
     "shell.execute_reply": "2021-12-08T16:25:51.859958Z",
     "shell.execute_reply.started": "2021-12-07T05:36:37.735624Z"
    },
    "papermill": {
     "duration": 0.022456,
     "end_time": "2021-12-08T16:25:51.860526",
     "exception": false,
     "start_time": "2021-12-08T16:25:51.838070",
     "status": "completed"
    },
    "tags": []
   },
   "outputs": [],
   "source": [
    "# To fix the weights of the pre trained model\n",
    "for lay in vgg_model.layers:\n",
    "    lay.trainable = False"
   ]
  },
  {
   "cell_type": "code",
   "execution_count": 6,
   "id": "1c1149a4",
   "metadata": {
    "execution": {
     "iopub.execute_input": "2021-12-08T16:25:51.900216Z",
     "iopub.status.busy": "2021-12-08T16:25:51.899339Z",
     "iopub.status.idle": "2021-12-08T16:25:51.906988Z",
     "shell.execute_reply": "2021-12-08T16:25:51.906575Z",
     "shell.execute_reply.started": "2021-12-07T05:36:40.68509Z"
    },
    "papermill": {
     "duration": 0.030644,
     "end_time": "2021-12-08T16:25:51.907087",
     "exception": false,
     "start_time": "2021-12-08T16:25:51.876443",
     "status": "completed"
    },
    "tags": []
   },
   "outputs": [
    {
     "name": "stdout",
     "output_type": "stream",
     "text": [
      "Model: \"vgg16\"\n",
      "_________________________________________________________________\n",
      "Layer (type)                 Output Shape              Param #   \n",
      "=================================================================\n",
      "input_1 (InputLayer)         [(None, 227, 227, 3)]     0         \n",
      "_________________________________________________________________\n",
      "block1_conv1 (Conv2D)        (None, 227, 227, 64)      1792      \n",
      "_________________________________________________________________\n",
      "block1_conv2 (Conv2D)        (None, 227, 227, 64)      36928     \n",
      "_________________________________________________________________\n",
      "block1_pool (MaxPooling2D)   (None, 113, 113, 64)      0         \n",
      "_________________________________________________________________\n",
      "block2_conv1 (Conv2D)        (None, 113, 113, 128)     73856     \n",
      "_________________________________________________________________\n",
      "block2_conv2 (Conv2D)        (None, 113, 113, 128)     147584    \n",
      "_________________________________________________________________\n",
      "block2_pool (MaxPooling2D)   (None, 56, 56, 128)       0         \n",
      "_________________________________________________________________\n",
      "block3_conv1 (Conv2D)        (None, 56, 56, 256)       295168    \n",
      "_________________________________________________________________\n",
      "block3_conv2 (Conv2D)        (None, 56, 56, 256)       590080    \n",
      "_________________________________________________________________\n",
      "block3_conv3 (Conv2D)        (None, 56, 56, 256)       590080    \n",
      "_________________________________________________________________\n",
      "block3_pool (MaxPooling2D)   (None, 28, 28, 256)       0         \n",
      "_________________________________________________________________\n",
      "block4_conv1 (Conv2D)        (None, 28, 28, 512)       1180160   \n",
      "_________________________________________________________________\n",
      "block4_conv2 (Conv2D)        (None, 28, 28, 512)       2359808   \n",
      "_________________________________________________________________\n",
      "block4_conv3 (Conv2D)        (None, 28, 28, 512)       2359808   \n",
      "_________________________________________________________________\n",
      "block4_pool (MaxPooling2D)   (None, 14, 14, 512)       0         \n",
      "_________________________________________________________________\n",
      "block5_conv1 (Conv2D)        (None, 14, 14, 512)       2359808   \n",
      "_________________________________________________________________\n",
      "block5_conv2 (Conv2D)        (None, 14, 14, 512)       2359808   \n",
      "_________________________________________________________________\n",
      "block5_conv3 (Conv2D)        (None, 14, 14, 512)       2359808   \n",
      "_________________________________________________________________\n",
      "block5_pool (MaxPooling2D)   (None, 7, 7, 512)         0         \n",
      "=================================================================\n",
      "Total params: 14,714,688\n",
      "Trainable params: 0\n",
      "Non-trainable params: 14,714,688\n",
      "_________________________________________________________________\n"
     ]
    }
   ],
   "source": [
    "vgg_model.summary()"
   ]
  },
  {
   "cell_type": "code",
   "execution_count": 7,
   "id": "eb0418d9",
   "metadata": {
    "execution": {
     "iopub.execute_input": "2021-12-08T16:25:51.943483Z",
     "iopub.status.busy": "2021-12-08T16:25:51.942879Z",
     "iopub.status.idle": "2021-12-08T16:25:51.970643Z",
     "shell.execute_reply": "2021-12-08T16:25:51.970207Z",
     "shell.execute_reply.started": "2021-12-07T05:36:43.502639Z"
    },
    "papermill": {
     "duration": 0.047217,
     "end_time": "2021-12-08T16:25:51.970743",
     "exception": false,
     "start_time": "2021-12-08T16:25:51.923526",
     "status": "completed"
    },
    "tags": []
   },
   "outputs": [
    {
     "name": "stdout",
     "output_type": "stream",
     "text": [
      "2\n",
      "2\n"
     ]
    }
   ],
   "source": [
    "# to list out number of folders in train and test folder\n",
    "import os\n",
    "folders_train1 = os.listdir(main_train)\n",
    "print(len(folders_train1))\n",
    "\n",
    "folders_test1 = os.listdir(main_test)\n",
    "print(len(folders_test1))"
   ]
  },
  {
   "cell_type": "code",
   "execution_count": 8,
   "id": "7d7fff3d",
   "metadata": {
    "execution": {
     "iopub.execute_input": "2021-12-08T16:25:52.010393Z",
     "iopub.status.busy": "2021-12-08T16:25:52.009481Z",
     "iopub.status.idle": "2021-12-08T16:25:52.012577Z",
     "shell.execute_reply": "2021-12-08T16:25:52.012965Z",
     "shell.execute_reply.started": "2021-12-07T05:36:46.470611Z"
    },
    "papermill": {
     "duration": 0.025465,
     "end_time": "2021-12-08T16:25:52.013074",
     "exception": false,
     "start_time": "2021-12-08T16:25:51.987609",
     "status": "completed"
    },
    "tags": []
   },
   "outputs": [
    {
     "data": {
      "text/plain": [
       "<KerasTensor: shape=(None, 7, 7, 512) dtype=float32 (created by layer 'block5_pool')>"
      ]
     },
     "execution_count": 8,
     "metadata": {},
     "output_type": "execute_result"
    }
   ],
   "source": [
    "#outputs the last layer\n",
    "vgg_model.output\n"
   ]
  },
  {
   "cell_type": "code",
   "execution_count": 9,
   "id": "0083ddc6",
   "metadata": {
    "execution": {
     "iopub.execute_input": "2021-12-08T16:25:52.050250Z",
     "iopub.status.busy": "2021-12-08T16:25:52.049733Z",
     "iopub.status.idle": "2021-12-08T16:25:52.054692Z",
     "shell.execute_reply": "2021-12-08T16:25:52.054266Z",
     "shell.execute_reply.started": "2021-12-07T05:36:50.773362Z"
    },
    "papermill": {
     "duration": 0.024927,
     "end_time": "2021-12-08T16:25:52.054789",
     "exception": false,
     "start_time": "2021-12-08T16:25:52.029862",
     "status": "completed"
    },
    "tags": []
   },
   "outputs": [
    {
     "data": {
      "text/plain": [
       "<KerasTensor: shape=(None, 227, 227, 3) dtype=float32 (created by layer 'input_1')>"
      ]
     },
     "execution_count": 9,
     "metadata": {},
     "output_type": "execute_result"
    }
   ],
   "source": [
    "#inputs of the layer\n",
    "vgg_model.input"
   ]
  },
  {
   "cell_type": "code",
   "execution_count": 10,
   "id": "4e4b41b9",
   "metadata": {
    "execution": {
     "iopub.execute_input": "2021-12-08T16:25:52.095123Z",
     "iopub.status.busy": "2021-12-08T16:25:52.094643Z",
     "iopub.status.idle": "2021-12-08T16:25:52.128576Z",
     "shell.execute_reply": "2021-12-08T16:25:52.129251Z"
    },
    "papermill": {
     "duration": 0.057531,
     "end_time": "2021-12-08T16:25:52.129391",
     "exception": false,
     "start_time": "2021-12-08T16:25:52.071860",
     "status": "completed"
    },
    "tags": []
   },
   "outputs": [
    {
     "name": "stdout",
     "output_type": "stream",
     "text": [
      "Model: \"model\"\n",
      "_________________________________________________________________\n",
      "Layer (type)                 Output Shape              Param #   \n",
      "=================================================================\n",
      "input_1 (InputLayer)         [(None, 227, 227, 3)]     0         \n",
      "_________________________________________________________________\n",
      "block1_conv1 (Conv2D)        (None, 227, 227, 64)      1792      \n",
      "_________________________________________________________________\n",
      "block1_conv2 (Conv2D)        (None, 227, 227, 64)      36928     \n",
      "_________________________________________________________________\n",
      "block1_pool (MaxPooling2D)   (None, 113, 113, 64)      0         \n",
      "_________________________________________________________________\n",
      "block2_conv1 (Conv2D)        (None, 113, 113, 128)     73856     \n",
      "_________________________________________________________________\n",
      "block2_conv2 (Conv2D)        (None, 113, 113, 128)     147584    \n",
      "_________________________________________________________________\n",
      "block2_pool (MaxPooling2D)   (None, 56, 56, 128)       0         \n",
      "_________________________________________________________________\n",
      "block3_conv1 (Conv2D)        (None, 56, 56, 256)       295168    \n",
      "_________________________________________________________________\n",
      "block3_conv2 (Conv2D)        (None, 56, 56, 256)       590080    \n",
      "_________________________________________________________________\n",
      "block3_conv3 (Conv2D)        (None, 56, 56, 256)       590080    \n",
      "_________________________________________________________________\n",
      "block3_pool (MaxPooling2D)   (None, 28, 28, 256)       0         \n",
      "_________________________________________________________________\n",
      "block4_conv1 (Conv2D)        (None, 28, 28, 512)       1180160   \n",
      "_________________________________________________________________\n",
      "block4_conv2 (Conv2D)        (None, 28, 28, 512)       2359808   \n",
      "_________________________________________________________________\n",
      "block4_conv3 (Conv2D)        (None, 28, 28, 512)       2359808   \n",
      "_________________________________________________________________\n",
      "block4_pool (MaxPooling2D)   (None, 14, 14, 512)       0         \n",
      "_________________________________________________________________\n",
      "block5_conv1 (Conv2D)        (None, 14, 14, 512)       2359808   \n",
      "_________________________________________________________________\n",
      "block5_conv2 (Conv2D)        (None, 14, 14, 512)       2359808   \n",
      "_________________________________________________________________\n",
      "block5_conv3 (Conv2D)        (None, 14, 14, 512)       2359808   \n",
      "_________________________________________________________________\n",
      "block5_pool (MaxPooling2D)   (None, 7, 7, 512)         0         \n",
      "_________________________________________________________________\n",
      "first_flatten (Flatten)      (None, 25088)             0         \n",
      "_________________________________________________________________\n",
      "dense (Dense)                (None, 32)                802848    \n",
      "_________________________________________________________________\n",
      "dropout (Dropout)            (None, 32)                0         \n",
      "_________________________________________________________________\n",
      "dense_1 (Dense)              (None, 2)                 66        \n",
      "=================================================================\n",
      "Total params: 15,517,602\n",
      "Trainable params: 802,914\n",
      "Non-trainable params: 14,714,688\n",
      "_________________________________________________________________\n"
     ]
    }
   ],
   "source": [
    "# Flatten() is used to convert the last layer to vector or as fully connected\n",
    "x = Flatten(name=\"first_flatten\")(vgg_model.output)\n",
    "# Dense() is a fully connected layer and produces 128 outputs.\n",
    "# relu layer is used to convert the negative nubers to 0 and retains +ve as such.\n",
    "pred = Dense(32, activation=\"relu\")(x)\n",
    "#Dropout() layer is used to randomly remove 50% of the networks.\n",
    "pred = Dropout(0.5)(pred)\n",
    "# Dense() layer is added such that it outputs only two classess \n",
    "# Softmax activation layer produces probabilities for different classess.\n",
    "pred = Dense(2,activation='softmax')(pred)\n",
    "# Model() is used to group layers\n",
    "model = Model(inputs=vgg_model.input,outputs=pred)\n",
    "model.summary()"
   ]
  },
  {
   "cell_type": "markdown",
   "id": "9fdb3c5b",
   "metadata": {
    "papermill": {
     "duration": 0.017291,
     "end_time": "2021-12-08T16:25:52.164188",
     "exception": false,
     "start_time": "2021-12-08T16:25:52.146897",
     "status": "completed"
    },
    "tags": []
   },
   "source": [
    "# **Image Augmentation**"
   ]
  },
  {
   "cell_type": "code",
   "execution_count": 11,
   "id": "abebb912",
   "metadata": {
    "execution": {
     "iopub.execute_input": "2021-12-08T16:25:52.207361Z",
     "iopub.status.busy": "2021-12-08T16:25:52.206771Z",
     "iopub.status.idle": "2021-12-08T16:26:14.144238Z",
     "shell.execute_reply": "2021-12-08T16:26:14.145386Z"
    },
    "papermill": {
     "duration": 21.963361,
     "end_time": "2021-12-08T16:26:14.145591",
     "exception": false,
     "start_time": "2021-12-08T16:25:52.182230",
     "status": "completed"
    },
    "tags": []
   },
   "outputs": [
    {
     "name": "stdout",
     "output_type": "stream",
     "text": [
      "Found 15904 images belonging to 2 classes.\n",
      "Found 3958 images belonging to 2 classes.\n"
     ]
    }
   ],
   "source": [
    "#ImageDataGenerator is used to modify the train and test images w.r.t the properties mentioned\n",
    "train_datagen = ImageDataGenerator(rescale = 1/255.0,\n",
    "                                   shear_range = 0.2,\n",
    "                                   zoom_range = 0.2,\n",
    "                                   rotation_range=20,\n",
    "                                   width_shift_range=0.2, \n",
    "                                   height_shift_range=0.2,\n",
    "                                   horizontal_flip = True)\n",
    "\n",
    "test_datagen = ImageDataGenerator(rescale = 1/255.0,\n",
    "                                   shear_range = 0.2,\n",
    "                                   zoom_range = 0.2,\n",
    "                                   rotation_range=20,\n",
    "                                   width_shift_range=0.2, \n",
    "                                   height_shift_range=0.2,\n",
    "                                   horizontal_flip = True)\n",
    "\n",
    "# flow_from_directory() is used to convert all the images in the specific directory\n",
    "training_set = train_datagen.flow_from_directory(directory = main_train,\n",
    "                                                 target_size = (227,227),\n",
    "                                                 batch_size = 500,\n",
    "                                                 )\n",
    "\n",
    "test_set = test_datagen.flow_from_directory(directory = main_test,\n",
    "                                                 target_size = (227,227),\n",
    "                                                 batch_size = 500,\n",
    "                                                 )"
   ]
  },
  {
   "cell_type": "code",
   "execution_count": 12,
   "id": "7038328b",
   "metadata": {
    "execution": {
     "iopub.execute_input": "2021-12-08T16:26:14.214579Z",
     "iopub.status.busy": "2021-12-08T16:26:14.213738Z",
     "iopub.status.idle": "2021-12-08T16:26:14.217012Z",
     "shell.execute_reply": "2021-12-08T16:26:14.215269Z"
    },
    "papermill": {
     "duration": 0.040927,
     "end_time": "2021-12-08T16:26:14.217166",
     "exception": false,
     "start_time": "2021-12-08T16:26:14.176239",
     "status": "completed"
    },
    "tags": []
   },
   "outputs": [
    {
     "data": {
      "text/plain": [
       "{'Negative': 0, 'Positive': 1}"
      ]
     },
     "execution_count": 12,
     "metadata": {},
     "output_type": "execute_result"
    }
   ],
   "source": [
    "# Class_indices will display the respective class value\n",
    "training_set.class_indices"
   ]
  },
  {
   "cell_type": "code",
   "execution_count": 13,
   "id": "bc006279",
   "metadata": {
    "execution": {
     "iopub.execute_input": "2021-12-08T16:26:14.285017Z",
     "iopub.status.busy": "2021-12-08T16:26:14.284014Z",
     "iopub.status.idle": "2021-12-08T16:26:14.287800Z",
     "shell.execute_reply": "2021-12-08T16:26:14.285804Z"
    },
    "papermill": {
     "duration": 0.040711,
     "end_time": "2021-12-08T16:26:14.287944",
     "exception": false,
     "start_time": "2021-12-08T16:26:14.247233",
     "status": "completed"
    },
    "tags": []
   },
   "outputs": [
    {
     "name": "stdout",
     "output_type": "stream",
     "text": [
      "32\n",
      "8\n"
     ]
    }
   ],
   "source": [
    "# To check no.of folders in each\n",
    "print(len(training_set))\n",
    "print(len(test_set))"
   ]
  },
  {
   "cell_type": "code",
   "execution_count": 14,
   "id": "7f4dd30b",
   "metadata": {
    "execution": {
     "iopub.execute_input": "2021-12-08T16:26:14.360472Z",
     "iopub.status.busy": "2021-12-08T16:26:14.359744Z",
     "iopub.status.idle": "2021-12-08T16:26:14.369769Z",
     "shell.execute_reply": "2021-12-08T16:26:14.370696Z",
     "shell.execute_reply.started": "2021-12-07T05:57:00.084007Z"
    },
    "papermill": {
     "duration": 0.052171,
     "end_time": "2021-12-08T16:26:14.370852",
     "exception": false,
     "start_time": "2021-12-08T16:26:14.318681",
     "status": "completed"
    },
    "tags": []
   },
   "outputs": [],
   "source": [
    "# Loss function is used to find the errors or deviations in learning process\n",
    "# Optimizer is used to optimize the input weights\n",
    "# Metrics is used to measure the performance\n",
    "model.compile(optimizer=Adam(learning_rate=0.10),\n",
    "    loss=\"binary_crossentropy\",\n",
    "    metrics=['accuracy'])"
   ]
  },
  {
   "cell_type": "markdown",
   "id": "6c9654b6",
   "metadata": {
    "papermill": {
     "duration": 0.030727,
     "end_time": "2021-12-08T16:26:14.432495",
     "exception": false,
     "start_time": "2021-12-08T16:26:14.401768",
     "status": "completed"
    },
    "tags": []
   },
   "source": [
    "# **Model Fitting**"
   ]
  },
  {
   "cell_type": "code",
   "execution_count": 15,
   "id": "5fac9414",
   "metadata": {
    "execution": {
     "iopub.execute_input": "2021-12-08T16:26:14.494504Z",
     "iopub.status.busy": "2021-12-08T16:26:14.493711Z",
     "iopub.status.idle": "2021-12-08T16:38:09.390710Z",
     "shell.execute_reply": "2021-12-08T16:38:09.391122Z"
    },
    "papermill": {
     "duration": 714.928142,
     "end_time": "2021-12-08T16:38:09.391350",
     "exception": false,
     "start_time": "2021-12-08T16:26:14.463208",
     "status": "completed"
    },
    "tags": []
   },
   "outputs": [
    {
     "name": "stderr",
     "output_type": "stream",
     "text": [
      "2021-12-08 16:26:23.406607: I tensorflow/compiler/mlir/mlir_graph_optimization_pass.cc:185] None of the MLIR Optimization Passes are enabled (registered 2)\n"
     ]
    },
    {
     "name": "stdout",
     "output_type": "stream",
     "text": [
      "Epoch 1/2\n"
     ]
    },
    {
     "name": "stderr",
     "output_type": "stream",
     "text": [
      "2021-12-08 16:26:33.885364: I tensorflow/stream_executor/cuda/cuda_dnn.cc:369] Loaded cuDNN version 8005\n",
      "2021-12-08 16:26:37.949198: W tensorflow/core/kernels/gpu_utils.cc:49] Failed to allocate memory for convolution redzone checking; skipping this check. This is benign and only means that we won't check cudnn for out-of-bounds reads and writes. This message will only be printed once.\n"
     ]
    },
    {
     "name": "stdout",
     "output_type": "stream",
     "text": [
      "32/32 [==============================] - 444s 13s/step - loss: 2.6419 - accuracy: 0.5111 - val_loss: 0.6920 - val_accuracy: 0.4957\n",
      "Epoch 2/2\n",
      "32/32 [==============================] - 248s 8s/step - loss: 0.6922 - accuracy: 0.5008 - val_loss: 0.6908 - val_accuracy: 0.4957\n"
     ]
    }
   ],
   "source": [
    "# fit() is used to train the model \n",
    "# len(training_set) is 32042/500 = 65\n",
    "# len(test_set) is 7958/500 = 16\n",
    "mod = model.fit(\n",
    "  training_set,\n",
    "  validation_data=test_set,\n",
    "  epochs=2,\n",
    "  steps_per_epoch=len(training_set),\n",
    "  validation_steps=len(test_set)\n",
    ")"
   ]
  },
  {
   "cell_type": "markdown",
   "id": "1e51037d",
   "metadata": {
    "papermill": {
     "duration": 0.036979,
     "end_time": "2021-12-08T16:38:09.467012",
     "exception": false,
     "start_time": "2021-12-08T16:38:09.430033",
     "status": "completed"
    },
    "tags": []
   },
   "source": [
    "# **Model Saving**"
   ]
  },
  {
   "cell_type": "code",
   "execution_count": 16,
   "id": "06f338c0",
   "metadata": {
    "execution": {
     "iopub.execute_input": "2021-12-08T16:38:09.557372Z",
     "iopub.status.busy": "2021-12-08T16:38:09.556567Z",
     "iopub.status.idle": "2021-12-08T16:38:09.749891Z",
     "shell.execute_reply": "2021-12-08T16:38:09.749462Z"
    },
    "papermill": {
     "duration": 0.244999,
     "end_time": "2021-12-08T16:38:09.750010",
     "exception": false,
     "start_time": "2021-12-08T16:38:09.505011",
     "status": "completed"
    },
    "tags": []
   },
   "outputs": [
    {
     "data": {
      "text/plain": [
       "['32_0.10_50%']"
      ]
     },
     "execution_count": 16,
     "metadata": {},
     "output_type": "execute_result"
    }
   ],
   "source": [
    "# To save the particular model in .h5 format\n",
    "import tensorflow as tf\n",
    "from tensorflow.keras.models import load_model\n",
    "model.save('32_0.10_50%.h5')\n",
    "\n",
    "\n",
    "\n",
    "import joblib\n",
    "joblib.dump(mod.history,'32_0.10_50%')"
   ]
  }
 ],
 "metadata": {
  "kernelspec": {
   "display_name": "Python 3",
   "language": "python",
   "name": "python3"
  },
  "language_info": {
   "codemirror_mode": {
    "name": "ipython",
    "version": 3
   },
   "file_extension": ".py",
   "mimetype": "text/x-python",
   "name": "python",
   "nbconvert_exporter": "python",
   "pygments_lexer": "ipython3",
   "version": "3.7.12"
  },
  "papermill": {
   "default_parameters": {},
   "duration": 757.61478,
   "end_time": "2021-12-08T16:38:13.486285",
   "environment_variables": {},
   "exception": null,
   "input_path": "__notebook__.ipynb",
   "output_path": "__notebook__.ipynb",
   "parameters": {},
   "start_time": "2021-12-08T16:25:35.871505",
   "version": "2.3.3"
  }
 },
 "nbformat": 4,
 "nbformat_minor": 5
}
