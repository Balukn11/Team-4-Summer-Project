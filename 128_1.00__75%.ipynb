{
 "cells": [
  {
   "cell_type": "code",
   "execution_count": 1,
   "id": "c678fd34",
   "metadata": {
    "execution": {
     "iopub.execute_input": "2021-12-13T08:19:52.804372Z",
     "iopub.status.busy": "2021-12-13T08:19:52.803519Z",
     "iopub.status.idle": "2021-12-13T08:19:52.807571Z",
     "shell.execute_reply": "2021-12-13T08:19:52.807033Z"
    },
    "papermill": {
     "duration": 0.029498,
     "end_time": "2021-12-13T08:19:52.807721",
     "exception": false,
     "start_time": "2021-12-13T08:19:52.778223",
     "status": "completed"
    },
    "tags": []
   },
   "outputs": [],
   "source": [
    "img_size = [227,227] #List which stores the resolution\n",
    "main_train = '../input/mit-split-crack/75/Train' #Stores the path of the train directory\n",
    "main_test = '../input/mit-split-crack/75/Test' #Stores the path of the test directory"
   ]
  },
  {
   "cell_type": "markdown",
   "id": "45586ba4",
   "metadata": {
    "papermill": {
     "duration": 0.012376,
     "end_time": "2021-12-13T08:19:52.833427",
     "exception": false,
     "start_time": "2021-12-13T08:19:52.821051",
     "status": "completed"
    },
    "tags": []
   },
   "source": [
    "# **Import Statements**"
   ]
  },
  {
   "cell_type": "code",
   "execution_count": 2,
   "id": "8cec4358",
   "metadata": {
    "execution": {
     "iopub.execute_input": "2021-12-13T08:19:52.865026Z",
     "iopub.status.busy": "2021-12-13T08:19:52.864375Z",
     "iopub.status.idle": "2021-12-13T08:19:58.130913Z",
     "shell.execute_reply": "2021-12-13T08:19:58.130111Z"
    },
    "papermill": {
     "duration": 5.284715,
     "end_time": "2021-12-13T08:19:58.131061",
     "exception": false,
     "start_time": "2021-12-13T08:19:52.846346",
     "status": "completed"
    },
    "tags": []
   },
   "outputs": [],
   "source": [
    "from tensorflow.keras.layers import Input,Dense,Flatten,Dropout\n",
    "from tensorflow.keras.models import Model,Sequential\n",
    "from tensorflow.keras.applications.vgg16 import VGG16,preprocess_input\n",
    "from matplotlib import pyplot as plt\n",
    "import numpy as np\n",
    "from tensorflow.keras.preprocessing import image\n",
    "from tensorflow.keras.optimizers import Adam\n",
    "from tensorflow.keras.preprocessing.image import ImageDataGenerator"
   ]
  },
  {
   "cell_type": "markdown",
   "id": "71026c51",
   "metadata": {
    "papermill": {
     "duration": 0.012397,
     "end_time": "2021-12-13T08:19:58.156174",
     "exception": false,
     "start_time": "2021-12-13T08:19:58.143777",
     "status": "completed"
    },
    "tags": []
   },
   "source": [
    "# **VGG16 Model Building**"
   ]
  },
  {
   "cell_type": "code",
   "execution_count": 3,
   "id": "c9bb2046",
   "metadata": {
    "execution": {
     "iopub.execute_input": "2021-12-13T08:19:58.186827Z",
     "iopub.status.busy": "2021-12-13T08:19:58.186004Z",
     "iopub.status.idle": "2021-12-13T08:20:01.214048Z",
     "shell.execute_reply": "2021-12-13T08:20:01.213499Z"
    },
    "papermill": {
     "duration": 3.04597,
     "end_time": "2021-12-13T08:20:01.214187",
     "exception": false,
     "start_time": "2021-12-13T08:19:58.168217",
     "status": "completed"
    },
    "tags": []
   },
   "outputs": [
    {
     "name": "stderr",
     "output_type": "stream",
     "text": [
      "2021-12-13 08:19:58.264529: I tensorflow/stream_executor/cuda/cuda_gpu_executor.cc:937] successful NUMA node read from SysFS had negative value (-1), but there must be at least one NUMA node, so returning NUMA node zero\n",
      "2021-12-13 08:19:58.359938: I tensorflow/stream_executor/cuda/cuda_gpu_executor.cc:937] successful NUMA node read from SysFS had negative value (-1), but there must be at least one NUMA node, so returning NUMA node zero\n",
      "2021-12-13 08:19:58.360592: I tensorflow/stream_executor/cuda/cuda_gpu_executor.cc:937] successful NUMA node read from SysFS had negative value (-1), but there must be at least one NUMA node, so returning NUMA node zero\n",
      "2021-12-13 08:19:58.361685: I tensorflow/core/platform/cpu_feature_guard.cc:142] This TensorFlow binary is optimized with oneAPI Deep Neural Network Library (oneDNN) to use the following CPU instructions in performance-critical operations:  AVX2 AVX512F FMA\n",
      "To enable them in other operations, rebuild TensorFlow with the appropriate compiler flags.\n",
      "2021-12-13 08:19:58.362426: I tensorflow/stream_executor/cuda/cuda_gpu_executor.cc:937] successful NUMA node read from SysFS had negative value (-1), but there must be at least one NUMA node, so returning NUMA node zero\n",
      "2021-12-13 08:19:58.363111: I tensorflow/stream_executor/cuda/cuda_gpu_executor.cc:937] successful NUMA node read from SysFS had negative value (-1), but there must be at least one NUMA node, so returning NUMA node zero\n",
      "2021-12-13 08:19:58.363726: I tensorflow/stream_executor/cuda/cuda_gpu_executor.cc:937] successful NUMA node read from SysFS had negative value (-1), but there must be at least one NUMA node, so returning NUMA node zero\n",
      "2021-12-13 08:20:00.235444: I tensorflow/stream_executor/cuda/cuda_gpu_executor.cc:937] successful NUMA node read from SysFS had negative value (-1), but there must be at least one NUMA node, so returning NUMA node zero\n",
      "2021-12-13 08:20:00.236274: I tensorflow/stream_executor/cuda/cuda_gpu_executor.cc:937] successful NUMA node read from SysFS had negative value (-1), but there must be at least one NUMA node, so returning NUMA node zero\n",
      "2021-12-13 08:20:00.236924: I tensorflow/stream_executor/cuda/cuda_gpu_executor.cc:937] successful NUMA node read from SysFS had negative value (-1), but there must be at least one NUMA node, so returning NUMA node zero\n",
      "2021-12-13 08:20:00.237523: I tensorflow/core/common_runtime/gpu/gpu_device.cc:1510] Created device /job:localhost/replica:0/task:0/device:GPU:0 with 15403 MB memory:  -> device: 0, name: Tesla P100-PCIE-16GB, pci bus id: 0000:00:04.0, compute capability: 6.0\n"
     ]
    },
    {
     "name": "stdout",
     "output_type": "stream",
     "text": [
      "Downloading data from https://storage.googleapis.com/tensorflow/keras-applications/vgg16/vgg16_weights_tf_dim_ordering_tf_kernels_notop.h5\n",
      "58892288/58889256 [==============================] - 0s 0us/step\n",
      "58900480/58889256 [==============================] - 0s 0us/step\n"
     ]
    }
   ],
   "source": [
    "vgg_model = VGG16(include_top=False,\n",
    "    weights=\"imagenet\",\n",
    "    input_shape=img_size + [3])\n",
    "\n",
    "# Loading the VGG16 pre trained model\n",
    "\n",
    "# include_top - this specifies whether the final layer before the output layer has to be include \n",
    "# or not. If included then there will be 1000 number of classes at the output.\n",
    "\n",
    "# Weights are trained using imagenet"
   ]
  },
  {
   "cell_type": "code",
   "execution_count": 4,
   "id": "efde7059",
   "metadata": {
    "execution": {
     "iopub.execute_input": "2021-12-13T08:20:01.249064Z",
     "iopub.status.busy": "2021-12-13T08:20:01.248513Z",
     "iopub.status.idle": "2021-12-13T08:20:01.262058Z",
     "shell.execute_reply": "2021-12-13T08:20:01.262663Z"
    },
    "papermill": {
     "duration": 0.032978,
     "end_time": "2021-12-13T08:20:01.262837",
     "exception": false,
     "start_time": "2021-12-13T08:20:01.229859",
     "status": "completed"
    },
    "tags": []
   },
   "outputs": [
    {
     "name": "stdout",
     "output_type": "stream",
     "text": [
      "Model: \"vgg16\"\n",
      "_________________________________________________________________\n",
      "Layer (type)                 Output Shape              Param #   \n",
      "=================================================================\n",
      "input_1 (InputLayer)         [(None, 227, 227, 3)]     0         \n",
      "_________________________________________________________________\n",
      "block1_conv1 (Conv2D)        (None, 227, 227, 64)      1792      \n",
      "_________________________________________________________________\n",
      "block1_conv2 (Conv2D)        (None, 227, 227, 64)      36928     \n",
      "_________________________________________________________________\n",
      "block1_pool (MaxPooling2D)   (None, 113, 113, 64)      0         \n",
      "_________________________________________________________________\n",
      "block2_conv1 (Conv2D)        (None, 113, 113, 128)     73856     \n",
      "_________________________________________________________________\n",
      "block2_conv2 (Conv2D)        (None, 113, 113, 128)     147584    \n",
      "_________________________________________________________________\n",
      "block2_pool (MaxPooling2D)   (None, 56, 56, 128)       0         \n",
      "_________________________________________________________________\n",
      "block3_conv1 (Conv2D)        (None, 56, 56, 256)       295168    \n",
      "_________________________________________________________________\n",
      "block3_conv2 (Conv2D)        (None, 56, 56, 256)       590080    \n",
      "_________________________________________________________________\n",
      "block3_conv3 (Conv2D)        (None, 56, 56, 256)       590080    \n",
      "_________________________________________________________________\n",
      "block3_pool (MaxPooling2D)   (None, 28, 28, 256)       0         \n",
      "_________________________________________________________________\n",
      "block4_conv1 (Conv2D)        (None, 28, 28, 512)       1180160   \n",
      "_________________________________________________________________\n",
      "block4_conv2 (Conv2D)        (None, 28, 28, 512)       2359808   \n",
      "_________________________________________________________________\n",
      "block4_conv3 (Conv2D)        (None, 28, 28, 512)       2359808   \n",
      "_________________________________________________________________\n",
      "block4_pool (MaxPooling2D)   (None, 14, 14, 512)       0         \n",
      "_________________________________________________________________\n",
      "block5_conv1 (Conv2D)        (None, 14, 14, 512)       2359808   \n",
      "_________________________________________________________________\n",
      "block5_conv2 (Conv2D)        (None, 14, 14, 512)       2359808   \n",
      "_________________________________________________________________\n",
      "block5_conv3 (Conv2D)        (None, 14, 14, 512)       2359808   \n",
      "_________________________________________________________________\n",
      "block5_pool (MaxPooling2D)   (None, 7, 7, 512)         0         \n",
      "=================================================================\n",
      "Total params: 14,714,688\n",
      "Trainable params: 14,714,688\n",
      "Non-trainable params: 0\n",
      "_________________________________________________________________\n"
     ]
    }
   ],
   "source": [
    "# To print the hidden layer summary of vgg model without top layer\n",
    "vgg_model.summary()"
   ]
  },
  {
   "cell_type": "code",
   "execution_count": 5,
   "id": "b93a271c",
   "metadata": {
    "execution": {
     "iopub.execute_input": "2021-12-13T08:20:01.300216Z",
     "iopub.status.busy": "2021-12-13T08:20:01.299407Z",
     "iopub.status.idle": "2021-12-13T08:20:01.301934Z",
     "shell.execute_reply": "2021-12-13T08:20:01.301470Z"
    },
    "papermill": {
     "duration": 0.022425,
     "end_time": "2021-12-13T08:20:01.302044",
     "exception": false,
     "start_time": "2021-12-13T08:20:01.279619",
     "status": "completed"
    },
    "tags": []
   },
   "outputs": [],
   "source": [
    "# To fix the weights of the pre trained model\n",
    "for lay in vgg_model.layers:\n",
    "    lay.trainable = False"
   ]
  },
  {
   "cell_type": "code",
   "execution_count": 6,
   "id": "e7a8ef9a",
   "metadata": {
    "execution": {
     "iopub.execute_input": "2021-12-13T08:20:01.339372Z",
     "iopub.status.busy": "2021-12-13T08:20:01.338549Z",
     "iopub.status.idle": "2021-12-13T08:20:01.349432Z",
     "shell.execute_reply": "2021-12-13T08:20:01.349011Z"
    },
    "papermill": {
     "duration": 0.031083,
     "end_time": "2021-12-13T08:20:01.349531",
     "exception": false,
     "start_time": "2021-12-13T08:20:01.318448",
     "status": "completed"
    },
    "tags": []
   },
   "outputs": [
    {
     "name": "stdout",
     "output_type": "stream",
     "text": [
      "Model: \"vgg16\"\n",
      "_________________________________________________________________\n",
      "Layer (type)                 Output Shape              Param #   \n",
      "=================================================================\n",
      "input_1 (InputLayer)         [(None, 227, 227, 3)]     0         \n",
      "_________________________________________________________________\n",
      "block1_conv1 (Conv2D)        (None, 227, 227, 64)      1792      \n",
      "_________________________________________________________________\n",
      "block1_conv2 (Conv2D)        (None, 227, 227, 64)      36928     \n",
      "_________________________________________________________________\n",
      "block1_pool (MaxPooling2D)   (None, 113, 113, 64)      0         \n",
      "_________________________________________________________________\n",
      "block2_conv1 (Conv2D)        (None, 113, 113, 128)     73856     \n",
      "_________________________________________________________________\n",
      "block2_conv2 (Conv2D)        (None, 113, 113, 128)     147584    \n",
      "_________________________________________________________________\n",
      "block2_pool (MaxPooling2D)   (None, 56, 56, 128)       0         \n",
      "_________________________________________________________________\n",
      "block3_conv1 (Conv2D)        (None, 56, 56, 256)       295168    \n",
      "_________________________________________________________________\n",
      "block3_conv2 (Conv2D)        (None, 56, 56, 256)       590080    \n",
      "_________________________________________________________________\n",
      "block3_conv3 (Conv2D)        (None, 56, 56, 256)       590080    \n",
      "_________________________________________________________________\n",
      "block3_pool (MaxPooling2D)   (None, 28, 28, 256)       0         \n",
      "_________________________________________________________________\n",
      "block4_conv1 (Conv2D)        (None, 28, 28, 512)       1180160   \n",
      "_________________________________________________________________\n",
      "block4_conv2 (Conv2D)        (None, 28, 28, 512)       2359808   \n",
      "_________________________________________________________________\n",
      "block4_conv3 (Conv2D)        (None, 28, 28, 512)       2359808   \n",
      "_________________________________________________________________\n",
      "block4_pool (MaxPooling2D)   (None, 14, 14, 512)       0         \n",
      "_________________________________________________________________\n",
      "block5_conv1 (Conv2D)        (None, 14, 14, 512)       2359808   \n",
      "_________________________________________________________________\n",
      "block5_conv2 (Conv2D)        (None, 14, 14, 512)       2359808   \n",
      "_________________________________________________________________\n",
      "block5_conv3 (Conv2D)        (None, 14, 14, 512)       2359808   \n",
      "_________________________________________________________________\n",
      "block5_pool (MaxPooling2D)   (None, 7, 7, 512)         0         \n",
      "=================================================================\n",
      "Total params: 14,714,688\n",
      "Trainable params: 0\n",
      "Non-trainable params: 14,714,688\n",
      "_________________________________________________________________\n"
     ]
    }
   ],
   "source": [
    "vgg_model.summary()"
   ]
  },
  {
   "cell_type": "code",
   "execution_count": 7,
   "id": "84f020e5",
   "metadata": {
    "execution": {
     "iopub.execute_input": "2021-12-13T08:20:01.385330Z",
     "iopub.status.busy": "2021-12-13T08:20:01.384850Z",
     "iopub.status.idle": "2021-12-13T08:20:01.419029Z",
     "shell.execute_reply": "2021-12-13T08:20:01.419738Z"
    },
    "papermill": {
     "duration": 0.054309,
     "end_time": "2021-12-13T08:20:01.419930",
     "exception": false,
     "start_time": "2021-12-13T08:20:01.365621",
     "status": "completed"
    },
    "tags": []
   },
   "outputs": [
    {
     "name": "stdout",
     "output_type": "stream",
     "text": [
      "2\n",
      "2\n"
     ]
    }
   ],
   "source": [
    "# to list out number of folders in train and test folder\n",
    "import os\n",
    "folders_train1 = os.listdir(main_train)\n",
    "print(len(folders_train1))\n",
    "\n",
    "folders_test1 = os.listdir(main_test)\n",
    "print(len(folders_test1))"
   ]
  },
  {
   "cell_type": "code",
   "execution_count": 8,
   "id": "507bad2f",
   "metadata": {
    "execution": {
     "iopub.execute_input": "2021-12-13T08:20:01.460975Z",
     "iopub.status.busy": "2021-12-13T08:20:01.459574Z",
     "iopub.status.idle": "2021-12-13T08:20:01.464055Z",
     "shell.execute_reply": "2021-12-13T08:20:01.463527Z"
    },
    "papermill": {
     "duration": 0.026719,
     "end_time": "2021-12-13T08:20:01.464154",
     "exception": false,
     "start_time": "2021-12-13T08:20:01.437435",
     "status": "completed"
    },
    "tags": []
   },
   "outputs": [
    {
     "data": {
      "text/plain": [
       "<KerasTensor: shape=(None, 7, 7, 512) dtype=float32 (created by layer 'block5_pool')>"
      ]
     },
     "execution_count": 8,
     "metadata": {},
     "output_type": "execute_result"
    }
   ],
   "source": [
    "#outputs the last layer\n",
    "vgg_model.output"
   ]
  },
  {
   "cell_type": "code",
   "execution_count": 9,
   "id": "9777e5e7",
   "metadata": {
    "execution": {
     "iopub.execute_input": "2021-12-13T08:20:01.504250Z",
     "iopub.status.busy": "2021-12-13T08:20:01.503451Z",
     "iopub.status.idle": "2021-12-13T08:20:01.506853Z",
     "shell.execute_reply": "2021-12-13T08:20:01.506281Z"
    },
    "papermill": {
     "duration": 0.025534,
     "end_time": "2021-12-13T08:20:01.506967",
     "exception": false,
     "start_time": "2021-12-13T08:20:01.481433",
     "status": "completed"
    },
    "tags": []
   },
   "outputs": [
    {
     "data": {
      "text/plain": [
       "<KerasTensor: shape=(None, 227, 227, 3) dtype=float32 (created by layer 'input_1')>"
      ]
     },
     "execution_count": 9,
     "metadata": {},
     "output_type": "execute_result"
    }
   ],
   "source": [
    "#inputs of the layer\n",
    "vgg_model.input"
   ]
  },
  {
   "cell_type": "code",
   "execution_count": 10,
   "id": "218cc1fe",
   "metadata": {
    "execution": {
     "iopub.execute_input": "2021-12-13T08:20:01.550941Z",
     "iopub.status.busy": "2021-12-13T08:20:01.550085Z",
     "iopub.status.idle": "2021-12-13T08:20:01.589187Z",
     "shell.execute_reply": "2021-12-13T08:20:01.589883Z"
    },
    "papermill": {
     "duration": 0.064962,
     "end_time": "2021-12-13T08:20:01.590093",
     "exception": false,
     "start_time": "2021-12-13T08:20:01.525131",
     "status": "completed"
    },
    "tags": []
   },
   "outputs": [
    {
     "name": "stdout",
     "output_type": "stream",
     "text": [
      "Model: \"model\"\n",
      "_________________________________________________________________\n",
      "Layer (type)                 Output Shape              Param #   \n",
      "=================================================================\n",
      "input_1 (InputLayer)         [(None, 227, 227, 3)]     0         \n",
      "_________________________________________________________________\n",
      "block1_conv1 (Conv2D)        (None, 227, 227, 64)      1792      \n",
      "_________________________________________________________________\n",
      "block1_conv2 (Conv2D)        (None, 227, 227, 64)      36928     \n",
      "_________________________________________________________________\n",
      "block1_pool (MaxPooling2D)   (None, 113, 113, 64)      0         \n",
      "_________________________________________________________________\n",
      "block2_conv1 (Conv2D)        (None, 113, 113, 128)     73856     \n",
      "_________________________________________________________________\n",
      "block2_conv2 (Conv2D)        (None, 113, 113, 128)     147584    \n",
      "_________________________________________________________________\n",
      "block2_pool (MaxPooling2D)   (None, 56, 56, 128)       0         \n",
      "_________________________________________________________________\n",
      "block3_conv1 (Conv2D)        (None, 56, 56, 256)       295168    \n",
      "_________________________________________________________________\n",
      "block3_conv2 (Conv2D)        (None, 56, 56, 256)       590080    \n",
      "_________________________________________________________________\n",
      "block3_conv3 (Conv2D)        (None, 56, 56, 256)       590080    \n",
      "_________________________________________________________________\n",
      "block3_pool (MaxPooling2D)   (None, 28, 28, 256)       0         \n",
      "_________________________________________________________________\n",
      "block4_conv1 (Conv2D)        (None, 28, 28, 512)       1180160   \n",
      "_________________________________________________________________\n",
      "block4_conv2 (Conv2D)        (None, 28, 28, 512)       2359808   \n",
      "_________________________________________________________________\n",
      "block4_conv3 (Conv2D)        (None, 28, 28, 512)       2359808   \n",
      "_________________________________________________________________\n",
      "block4_pool (MaxPooling2D)   (None, 14, 14, 512)       0         \n",
      "_________________________________________________________________\n",
      "block5_conv1 (Conv2D)        (None, 14, 14, 512)       2359808   \n",
      "_________________________________________________________________\n",
      "block5_conv2 (Conv2D)        (None, 14, 14, 512)       2359808   \n",
      "_________________________________________________________________\n",
      "block5_conv3 (Conv2D)        (None, 14, 14, 512)       2359808   \n",
      "_________________________________________________________________\n",
      "block5_pool (MaxPooling2D)   (None, 7, 7, 512)         0         \n",
      "_________________________________________________________________\n",
      "first_flatten (Flatten)      (None, 25088)             0         \n",
      "_________________________________________________________________\n",
      "dense (Dense)                (None, 128)               3211392   \n",
      "_________________________________________________________________\n",
      "dropout (Dropout)            (None, 128)               0         \n",
      "_________________________________________________________________\n",
      "dense_1 (Dense)              (None, 2)                 258       \n",
      "=================================================================\n",
      "Total params: 17,926,338\n",
      "Trainable params: 3,211,650\n",
      "Non-trainable params: 14,714,688\n",
      "_________________________________________________________________\n"
     ]
    }
   ],
   "source": [
    "# Flatten() is used to convert the last layer to vector or as fully connected\n",
    "x = Flatten(name=\"first_flatten\")(vgg_model.output)\n",
    "# Dense() is a fully connected layer and produces 128 outputs.\n",
    "# relu layer is used to convert the negative nubers to 0 and retains +ve as such.\n",
    "pred = Dense(128, activation=\"relu\")(x)\n",
    "#Dropout() layer is used to randomly remove 50% of the networks.\n",
    "pred = Dropout(0.5)(pred)\n",
    "# Dense() layer is added such that it outputs only two classess \n",
    "# Softmax activation layer produces probabilities for different classess.\n",
    "pred = Dense(2,activation='softmax')(pred)\n",
    "# Model() is used to group layers\n",
    "model = Model(inputs=vgg_model.input,outputs=pred)\n",
    "model.summary()"
   ]
  },
  {
   "cell_type": "markdown",
   "id": "7c670393",
   "metadata": {
    "papermill": {
     "duration": 0.020531,
     "end_time": "2021-12-13T08:20:01.632268",
     "exception": false,
     "start_time": "2021-12-13T08:20:01.611737",
     "status": "completed"
    },
    "tags": []
   },
   "source": [
    "# **Image Augmentation**"
   ]
  },
  {
   "cell_type": "code",
   "execution_count": 11,
   "id": "87520028",
   "metadata": {
    "execution": {
     "iopub.execute_input": "2021-12-13T08:20:01.681963Z",
     "iopub.status.busy": "2021-12-13T08:20:01.680908Z",
     "iopub.status.idle": "2021-12-13T08:20:31.956518Z",
     "shell.execute_reply": "2021-12-13T08:20:31.956955Z"
    },
    "papermill": {
     "duration": 30.30397,
     "end_time": "2021-12-13T08:20:31.957099",
     "exception": false,
     "start_time": "2021-12-13T08:20:01.653129",
     "status": "completed"
    },
    "tags": []
   },
   "outputs": [
    {
     "name": "stdout",
     "output_type": "stream",
     "text": [
      "Found 23948 images belonging to 2 classes.\n",
      "Found 6006 images belonging to 2 classes.\n"
     ]
    }
   ],
   "source": [
    "#ImageDataGenerator is used to modify the train and test images w.r.t the properties mentioned\n",
    "train_datagen = ImageDataGenerator(rescale = 1/255.0,\n",
    "                                   shear_range = 0.2,\n",
    "                                   zoom_range = 0.2,\n",
    "                                   rotation_range=20,\n",
    "                                   width_shift_range=0.2, \n",
    "                                   height_shift_range=0.2,\n",
    "                                   horizontal_flip = True)\n",
    "\n",
    "test_datagen = ImageDataGenerator(rescale = 1/255.0,\n",
    "                                   shear_range = 0.2,\n",
    "                                   zoom_range = 0.2,\n",
    "                                   rotation_range=20,\n",
    "                                   width_shift_range=0.2, \n",
    "                                   height_shift_range=0.2,\n",
    "                                   horizontal_flip = True)\n",
    "\n",
    "# flow_from_directory() is used to convert all the images in the specific directory\n",
    "training_set = train_datagen.flow_from_directory(directory = main_train,\n",
    "                                                 target_size = (227,227),\n",
    "                                                 batch_size = 500,\n",
    "                                                 )\n",
    "\n",
    "test_set = test_datagen.flow_from_directory(directory = main_test,\n",
    "                                                 target_size = (227,227),\n",
    "                                                 batch_size = 500,\n",
    "                                                 )"
   ]
  },
  {
   "cell_type": "code",
   "execution_count": 12,
   "id": "2a73bb93",
   "metadata": {
    "execution": {
     "iopub.execute_input": "2021-12-13T08:20:32.008182Z",
     "iopub.status.busy": "2021-12-13T08:20:32.007364Z",
     "iopub.status.idle": "2021-12-13T08:20:32.013518Z",
     "shell.execute_reply": "2021-12-13T08:20:32.014296Z"
    },
    "papermill": {
     "duration": 0.038368,
     "end_time": "2021-12-13T08:20:32.014535",
     "exception": false,
     "start_time": "2021-12-13T08:20:31.976167",
     "status": "completed"
    },
    "tags": []
   },
   "outputs": [
    {
     "data": {
      "text/plain": [
       "{'Negative': 0, 'Positive': 1}"
      ]
     },
     "execution_count": 12,
     "metadata": {},
     "output_type": "execute_result"
    }
   ],
   "source": [
    "# Class_indices will display the respective class value\n",
    "training_set.class_indices"
   ]
  },
  {
   "cell_type": "code",
   "execution_count": 13,
   "id": "bc4f59cd",
   "metadata": {
    "execution": {
     "iopub.execute_input": "2021-12-13T08:20:32.086225Z",
     "iopub.status.busy": "2021-12-13T08:20:32.085321Z",
     "iopub.status.idle": "2021-12-13T08:20:32.094676Z",
     "shell.execute_reply": "2021-12-13T08:20:32.095276Z"
    },
    "papermill": {
     "duration": 0.045979,
     "end_time": "2021-12-13T08:20:32.095442",
     "exception": false,
     "start_time": "2021-12-13T08:20:32.049463",
     "status": "completed"
    },
    "tags": []
   },
   "outputs": [
    {
     "name": "stdout",
     "output_type": "stream",
     "text": [
      "48\n",
      "13\n"
     ]
    }
   ],
   "source": [
    "# To check no.of folders in each\n",
    "print(len(training_set))\n",
    "print(len(test_set))"
   ]
  },
  {
   "cell_type": "markdown",
   "id": "897e6d8b",
   "metadata": {
    "papermill": {
     "duration": 0.018951,
     "end_time": "2021-12-13T08:20:32.145180",
     "exception": false,
     "start_time": "2021-12-13T08:20:32.126229",
     "status": "completed"
    },
    "tags": []
   },
   "source": [
    "# **Model Fitting**"
   ]
  },
  {
   "cell_type": "code",
   "execution_count": 14,
   "id": "3d6f347e",
   "metadata": {
    "execution": {
     "iopub.execute_input": "2021-12-13T08:20:32.195107Z",
     "iopub.status.busy": "2021-12-13T08:20:32.194138Z",
     "iopub.status.idle": "2021-12-13T08:20:32.200475Z",
     "shell.execute_reply": "2021-12-13T08:20:32.200062Z"
    },
    "papermill": {
     "duration": 0.036371,
     "end_time": "2021-12-13T08:20:32.200573",
     "exception": false,
     "start_time": "2021-12-13T08:20:32.164202",
     "status": "completed"
    },
    "tags": []
   },
   "outputs": [],
   "source": [
    "# Loss function is used to find the errors or deviations in learning process\n",
    "# Optimizer is used to optimize the input weights\n",
    "# Metrics is used to measure the performance\n",
    "model.compile(optimizer=Adam(learning_rate=1.00),\n",
    "    loss=\"binary_crossentropy\",\n",
    "    metrics=['accuracy'])"
   ]
  },
  {
   "cell_type": "code",
   "execution_count": 15,
   "id": "889e4ef2",
   "metadata": {
    "execution": {
     "iopub.execute_input": "2021-12-13T08:20:32.243622Z",
     "iopub.status.busy": "2021-12-13T08:20:32.242897Z",
     "iopub.status.idle": "2021-12-13T08:38:26.082815Z",
     "shell.execute_reply": "2021-12-13T08:38:26.082216Z"
    },
    "papermill": {
     "duration": 1073.863374,
     "end_time": "2021-12-13T08:38:26.082978",
     "exception": false,
     "start_time": "2021-12-13T08:20:32.219604",
     "status": "completed"
    },
    "tags": []
   },
   "outputs": [
    {
     "name": "stderr",
     "output_type": "stream",
     "text": [
      "2021-12-13 08:20:41.581500: I tensorflow/compiler/mlir/mlir_graph_optimization_pass.cc:185] None of the MLIR Optimization Passes are enabled (registered 2)\n"
     ]
    },
    {
     "name": "stdout",
     "output_type": "stream",
     "text": [
      "Epoch 1/2\n"
     ]
    },
    {
     "name": "stderr",
     "output_type": "stream",
     "text": [
      "2021-12-13 08:20:52.887630: I tensorflow/stream_executor/cuda/cuda_dnn.cc:369] Loaded cuDNN version 8005\n",
      "2021-12-13 08:20:56.955595: W tensorflow/core/kernels/gpu_utils.cc:49] Failed to allocate memory for convolution redzone checking; skipping this check. This is benign and only means that we won't check cudnn for out-of-bounds reads and writes. This message will only be printed once.\n"
     ]
    },
    {
     "name": "stdout",
     "output_type": "stream",
     "text": [
      "48/48 [==============================] - 618s 12s/step - loss: 1339.2234 - accuracy: 0.6778 - val_loss: 0.5272 - val_accuracy: 0.7055\n",
      "Epoch 2/2\n",
      "48/48 [==============================] - 382s 8s/step - loss: 0.7012 - accuracy: 0.6215 - val_loss: 0.5818 - val_accuracy: 0.6945\n"
     ]
    }
   ],
   "source": [
    "# fit() is used to train the model \n",
    "# len(training_set) is 32042/500 = 65\n",
    "# len(test_set) is 7958/500 = 16\n",
    "mod = model.fit(\n",
    "  training_set,\n",
    "  validation_data=test_set,\n",
    "  epochs=2,\n",
    "  steps_per_epoch=len(training_set),\n",
    "  validation_steps=len(test_set)\n",
    ")"
   ]
  },
  {
   "cell_type": "markdown",
   "id": "b9a7ad9f",
   "metadata": {
    "papermill": {
     "duration": 0.046771,
     "end_time": "2021-12-13T08:38:26.176303",
     "exception": false,
     "start_time": "2021-12-13T08:38:26.129532",
     "status": "completed"
    },
    "tags": []
   },
   "source": [
    "# **Model Saving**"
   ]
  },
  {
   "cell_type": "code",
   "execution_count": 16,
   "id": "7ac9d502",
   "metadata": {
    "execution": {
     "iopub.execute_input": "2021-12-13T08:38:26.285580Z",
     "iopub.status.busy": "2021-12-13T08:38:26.276266Z",
     "iopub.status.idle": "2021-12-13T08:38:26.530705Z",
     "shell.execute_reply": "2021-12-13T08:38:26.530244Z",
     "shell.execute_reply.started": "2021-12-07T04:35:02.891841Z"
    },
    "papermill": {
     "duration": 0.306726,
     "end_time": "2021-12-13T08:38:26.530853",
     "exception": false,
     "start_time": "2021-12-13T08:38:26.224127",
     "status": "completed"
    },
    "tags": []
   },
   "outputs": [
    {
     "data": {
      "text/plain": [
       "['128_1.00__75%']"
      ]
     },
     "execution_count": 16,
     "metadata": {},
     "output_type": "execute_result"
    }
   ],
   "source": [
    "# To save the particular model in .h5 format\n",
    "import tensorflow as tf\n",
    "from tensorflow.keras.models import load_model\n",
    "model.save('128_1.00__75%.h5')\n",
    "\n",
    "\n",
    "\n",
    "import joblib\n",
    "joblib.dump(mod.history,'128_1.00__75%')\n"
   ]
  },
  {
   "cell_type": "code",
   "execution_count": null,
   "id": "b591648d",
   "metadata": {
    "papermill": {
     "duration": 0.047961,
     "end_time": "2021-12-13T08:38:26.625755",
     "exception": false,
     "start_time": "2021-12-13T08:38:26.577794",
     "status": "completed"
    },
    "tags": []
   },
   "outputs": [],
   "source": []
  }
 ],
 "metadata": {
  "kernelspec": {
   "display_name": "Python 3",
   "language": "python",
   "name": "python3"
  },
  "language_info": {
   "codemirror_mode": {
    "name": "ipython",
    "version": 3
   },
   "file_extension": ".py",
   "mimetype": "text/x-python",
   "name": "python",
   "nbconvert_exporter": "python",
   "pygments_lexer": "ipython3",
   "version": "3.7.12"
  },
  "papermill": {
   "default_parameters": {},
   "duration": 1125.753444,
   "end_time": "2021-12-13T08:38:30.217976",
   "environment_variables": {},
   "exception": null,
   "input_path": "__notebook__.ipynb",
   "output_path": "__notebook__.ipynb",
   "parameters": {},
   "start_time": "2021-12-13T08:19:44.464532",
   "version": "2.3.3"
  }
 },
 "nbformat": 4,
 "nbformat_minor": 5
}
