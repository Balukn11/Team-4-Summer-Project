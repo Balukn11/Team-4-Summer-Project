{
 "cells": [
  {
   "cell_type": "code",
   "execution_count": 1,
   "id": "84e8458f",
   "metadata": {
    "execution": {
     "iopub.execute_input": "2021-12-07T04:10:57.030356Z",
     "iopub.status.busy": "2021-12-07T04:10:57.028863Z",
     "iopub.status.idle": "2021-12-07T04:10:57.044207Z",
     "shell.execute_reply": "2021-12-07T04:10:57.045017Z",
     "shell.execute_reply.started": "2021-12-07T04:08:41.197953Z"
    },
    "papermill": {
     "duration": 0.043374,
     "end_time": "2021-12-07T04:10:57.045314",
     "exception": false,
     "start_time": "2021-12-07T04:10:57.001940",
     "status": "completed"
    },
    "tags": []
   },
   "outputs": [],
   "source": [
    "img_size = [227,227] #List which stores the resolution\n",
    "main_train = '../input/mit-split-crack/50/Train' #Stores the path of the train directory\n",
    "main_test = '../input/mit-split-crack/50/Test' #Stores the path of the test directory"
   ]
  },
  {
   "cell_type": "markdown",
   "id": "f708e58f",
   "metadata": {
    "papermill": {
     "duration": 0.021521,
     "end_time": "2021-12-07T04:10:57.083761",
     "exception": false,
     "start_time": "2021-12-07T04:10:57.062240",
     "status": "completed"
    },
    "tags": []
   },
   "source": [
    "#   Import Statements"
   ]
  },
  {
   "cell_type": "code",
   "execution_count": 2,
   "id": "340c4a87",
   "metadata": {
    "execution": {
     "iopub.execute_input": "2021-12-07T04:10:57.127862Z",
     "iopub.status.busy": "2021-12-07T04:10:57.127254Z",
     "iopub.status.idle": "2021-12-07T04:11:02.115237Z",
     "shell.execute_reply": "2021-12-07T04:11:02.114602Z",
     "shell.execute_reply.started": "2021-12-07T04:08:41.205493Z"
    },
    "papermill": {
     "duration": 5.007781,
     "end_time": "2021-12-07T04:11:02.115385",
     "exception": false,
     "start_time": "2021-12-07T04:10:57.107604",
     "status": "completed"
    },
    "tags": []
   },
   "outputs": [],
   "source": [
    "from tensorflow.keras.layers import Input,Dense,Flatten,Dropout\n",
    "from tensorflow.keras.models import Model,Sequential\n",
    "from tensorflow.keras.applications.vgg16 import VGG16,preprocess_input\n",
    "from matplotlib import pyplot as plt\n",
    "import numpy as np\n",
    "from tensorflow.keras.preprocessing import image\n",
    "from tensorflow.keras.optimizers import Adam\n",
    "from tensorflow.keras.preprocessing.image import ImageDataGenerator"
   ]
  },
  {
   "cell_type": "markdown",
   "id": "ffa26b87",
   "metadata": {
    "papermill": {
     "duration": 0.013077,
     "end_time": "2021-12-07T04:11:02.142472",
     "exception": false,
     "start_time": "2021-12-07T04:11:02.129395",
     "status": "completed"
    },
    "tags": []
   },
   "source": [
    "# VGG16 Model Building"
   ]
  },
  {
   "cell_type": "code",
   "execution_count": 3,
   "id": "294a0020",
   "metadata": {
    "execution": {
     "iopub.execute_input": "2021-12-07T04:11:02.175253Z",
     "iopub.status.busy": "2021-12-07T04:11:02.174606Z",
     "iopub.status.idle": "2021-12-07T04:11:05.226559Z",
     "shell.execute_reply": "2021-12-07T04:11:05.226070Z",
     "shell.execute_reply.started": "2021-12-07T04:08:41.218227Z"
    },
    "papermill": {
     "duration": 3.071136,
     "end_time": "2021-12-07T04:11:05.226705",
     "exception": false,
     "start_time": "2021-12-07T04:11:02.155569",
     "status": "completed"
    },
    "tags": []
   },
   "outputs": [
    {
     "name": "stderr",
     "output_type": "stream",
     "text": [
      "2021-12-07 04:11:02.250326: I tensorflow/stream_executor/cuda/cuda_gpu_executor.cc:937] successful NUMA node read from SysFS had negative value (-1), but there must be at least one NUMA node, so returning NUMA node zero\n",
      "2021-12-07 04:11:02.346064: I tensorflow/stream_executor/cuda/cuda_gpu_executor.cc:937] successful NUMA node read from SysFS had negative value (-1), but there must be at least one NUMA node, so returning NUMA node zero\n",
      "2021-12-07 04:11:02.346900: I tensorflow/stream_executor/cuda/cuda_gpu_executor.cc:937] successful NUMA node read from SysFS had negative value (-1), but there must be at least one NUMA node, so returning NUMA node zero\n",
      "2021-12-07 04:11:02.348032: I tensorflow/core/platform/cpu_feature_guard.cc:142] This TensorFlow binary is optimized with oneAPI Deep Neural Network Library (oneDNN) to use the following CPU instructions in performance-critical operations:  AVX2 AVX512F FMA\n",
      "To enable them in other operations, rebuild TensorFlow with the appropriate compiler flags.\n",
      "2021-12-07 04:11:02.348934: I tensorflow/stream_executor/cuda/cuda_gpu_executor.cc:937] successful NUMA node read from SysFS had negative value (-1), but there must be at least one NUMA node, so returning NUMA node zero\n",
      "2021-12-07 04:11:02.349717: I tensorflow/stream_executor/cuda/cuda_gpu_executor.cc:937] successful NUMA node read from SysFS had negative value (-1), but there must be at least one NUMA node, so returning NUMA node zero\n",
      "2021-12-07 04:11:02.350324: I tensorflow/stream_executor/cuda/cuda_gpu_executor.cc:937] successful NUMA node read from SysFS had negative value (-1), but there must be at least one NUMA node, so returning NUMA node zero\n",
      "2021-12-07 04:11:04.185250: I tensorflow/stream_executor/cuda/cuda_gpu_executor.cc:937] successful NUMA node read from SysFS had negative value (-1), but there must be at least one NUMA node, so returning NUMA node zero\n",
      "2021-12-07 04:11:04.186072: I tensorflow/stream_executor/cuda/cuda_gpu_executor.cc:937] successful NUMA node read from SysFS had negative value (-1), but there must be at least one NUMA node, so returning NUMA node zero\n",
      "2021-12-07 04:11:04.186709: I tensorflow/stream_executor/cuda/cuda_gpu_executor.cc:937] successful NUMA node read from SysFS had negative value (-1), but there must be at least one NUMA node, so returning NUMA node zero\n",
      "2021-12-07 04:11:04.187277: I tensorflow/core/common_runtime/gpu/gpu_device.cc:1510] Created device /job:localhost/replica:0/task:0/device:GPU:0 with 15403 MB memory:  -> device: 0, name: Tesla P100-PCIE-16GB, pci bus id: 0000:00:04.0, compute capability: 6.0\n"
     ]
    },
    {
     "name": "stdout",
     "output_type": "stream",
     "text": [
      "Downloading data from https://storage.googleapis.com/tensorflow/keras-applications/vgg16/vgg16_weights_tf_dim_ordering_tf_kernels_notop.h5\n",
      "58892288/58889256 [==============================] - 0s 0us/step\n",
      "58900480/58889256 [==============================] - 0s 0us/step\n"
     ]
    }
   ],
   "source": [
    "vgg_model = VGG16(include_top=False,\n",
    "    weights=\"imagenet\",\n",
    "    input_shape=img_size + [3])\n",
    "\n",
    "# Loading the VGG16 pre trained model\n",
    "\n",
    "# include_top - this specifies whether the final layer before the output layer has to be include \n",
    "# or not. If included then there will be 1000 number of classes at the output.\n",
    "\n",
    "# Weights are trained using imagenet"
   ]
  },
  {
   "cell_type": "code",
   "execution_count": 4,
   "id": "c0720fdc",
   "metadata": {
    "execution": {
     "iopub.execute_input": "2021-12-07T04:11:05.270153Z",
     "iopub.status.busy": "2021-12-07T04:11:05.265796Z",
     "iopub.status.idle": "2021-12-07T04:11:05.275792Z",
     "shell.execute_reply": "2021-12-07T04:11:05.276258Z",
     "shell.execute_reply.started": "2021-12-07T04:08:41.505497Z"
    },
    "papermill": {
     "duration": 0.033653,
     "end_time": "2021-12-07T04:11:05.276400",
     "exception": false,
     "start_time": "2021-12-07T04:11:05.242747",
     "status": "completed"
    },
    "tags": []
   },
   "outputs": [
    {
     "name": "stdout",
     "output_type": "stream",
     "text": [
      "Model: \"vgg16\"\n",
      "_________________________________________________________________\n",
      "Layer (type)                 Output Shape              Param #   \n",
      "=================================================================\n",
      "input_1 (InputLayer)         [(None, 227, 227, 3)]     0         \n",
      "_________________________________________________________________\n",
      "block1_conv1 (Conv2D)        (None, 227, 227, 64)      1792      \n",
      "_________________________________________________________________\n",
      "block1_conv2 (Conv2D)        (None, 227, 227, 64)      36928     \n",
      "_________________________________________________________________\n",
      "block1_pool (MaxPooling2D)   (None, 113, 113, 64)      0         \n",
      "_________________________________________________________________\n",
      "block2_conv1 (Conv2D)        (None, 113, 113, 128)     73856     \n",
      "_________________________________________________________________\n",
      "block2_conv2 (Conv2D)        (None, 113, 113, 128)     147584    \n",
      "_________________________________________________________________\n",
      "block2_pool (MaxPooling2D)   (None, 56, 56, 128)       0         \n",
      "_________________________________________________________________\n",
      "block3_conv1 (Conv2D)        (None, 56, 56, 256)       295168    \n",
      "_________________________________________________________________\n",
      "block3_conv2 (Conv2D)        (None, 56, 56, 256)       590080    \n",
      "_________________________________________________________________\n",
      "block3_conv3 (Conv2D)        (None, 56, 56, 256)       590080    \n",
      "_________________________________________________________________\n",
      "block3_pool (MaxPooling2D)   (None, 28, 28, 256)       0         \n",
      "_________________________________________________________________\n",
      "block4_conv1 (Conv2D)        (None, 28, 28, 512)       1180160   \n",
      "_________________________________________________________________\n",
      "block4_conv2 (Conv2D)        (None, 28, 28, 512)       2359808   \n",
      "_________________________________________________________________\n",
      "block4_conv3 (Conv2D)        (None, 28, 28, 512)       2359808   \n",
      "_________________________________________________________________\n",
      "block4_pool (MaxPooling2D)   (None, 14, 14, 512)       0         \n",
      "_________________________________________________________________\n",
      "block5_conv1 (Conv2D)        (None, 14, 14, 512)       2359808   \n",
      "_________________________________________________________________\n",
      "block5_conv2 (Conv2D)        (None, 14, 14, 512)       2359808   \n",
      "_________________________________________________________________\n",
      "block5_conv3 (Conv2D)        (None, 14, 14, 512)       2359808   \n",
      "_________________________________________________________________\n",
      "block5_pool (MaxPooling2D)   (None, 7, 7, 512)         0         \n",
      "=================================================================\n",
      "Total params: 14,714,688\n",
      "Trainable params: 14,714,688\n",
      "Non-trainable params: 0\n",
      "_________________________________________________________________\n"
     ]
    }
   ],
   "source": [
    "# To print the hidden layer summary of vgg model without top layer\n",
    "vgg_model.summary()"
   ]
  },
  {
   "cell_type": "code",
   "execution_count": 5,
   "id": "07a6e3e9",
   "metadata": {
    "execution": {
     "iopub.execute_input": "2021-12-07T04:11:05.312863Z",
     "iopub.status.busy": "2021-12-07T04:11:05.312209Z",
     "iopub.status.idle": "2021-12-07T04:11:05.314864Z",
     "shell.execute_reply": "2021-12-07T04:11:05.314344Z",
     "shell.execute_reply.started": "2021-12-07T04:08:41.527902Z"
    },
    "papermill": {
     "duration": 0.022555,
     "end_time": "2021-12-07T04:11:05.314976",
     "exception": false,
     "start_time": "2021-12-07T04:11:05.292421",
     "status": "completed"
    },
    "tags": []
   },
   "outputs": [],
   "source": [
    "# To fix the weights of the pre trained model\n",
    "for lay in vgg_model.layers:\n",
    "    lay.trainable = False"
   ]
  },
  {
   "cell_type": "code",
   "execution_count": 6,
   "id": "9e3341b1",
   "metadata": {
    "execution": {
     "iopub.execute_input": "2021-12-07T04:11:05.356335Z",
     "iopub.status.busy": "2021-12-07T04:11:05.354713Z",
     "iopub.status.idle": "2021-12-07T04:11:05.362415Z",
     "shell.execute_reply": "2021-12-07T04:11:05.362847Z",
     "shell.execute_reply.started": "2021-12-07T04:08:41.533529Z"
    },
    "papermill": {
     "duration": 0.030836,
     "end_time": "2021-12-07T04:11:05.362977",
     "exception": false,
     "start_time": "2021-12-07T04:11:05.332141",
     "status": "completed"
    },
    "tags": []
   },
   "outputs": [
    {
     "name": "stdout",
     "output_type": "stream",
     "text": [
      "Model: \"vgg16\"\n",
      "_________________________________________________________________\n",
      "Layer (type)                 Output Shape              Param #   \n",
      "=================================================================\n",
      "input_1 (InputLayer)         [(None, 227, 227, 3)]     0         \n",
      "_________________________________________________________________\n",
      "block1_conv1 (Conv2D)        (None, 227, 227, 64)      1792      \n",
      "_________________________________________________________________\n",
      "block1_conv2 (Conv2D)        (None, 227, 227, 64)      36928     \n",
      "_________________________________________________________________\n",
      "block1_pool (MaxPooling2D)   (None, 113, 113, 64)      0         \n",
      "_________________________________________________________________\n",
      "block2_conv1 (Conv2D)        (None, 113, 113, 128)     73856     \n",
      "_________________________________________________________________\n",
      "block2_conv2 (Conv2D)        (None, 113, 113, 128)     147584    \n",
      "_________________________________________________________________\n",
      "block2_pool (MaxPooling2D)   (None, 56, 56, 128)       0         \n",
      "_________________________________________________________________\n",
      "block3_conv1 (Conv2D)        (None, 56, 56, 256)       295168    \n",
      "_________________________________________________________________\n",
      "block3_conv2 (Conv2D)        (None, 56, 56, 256)       590080    \n",
      "_________________________________________________________________\n",
      "block3_conv3 (Conv2D)        (None, 56, 56, 256)       590080    \n",
      "_________________________________________________________________\n",
      "block3_pool (MaxPooling2D)   (None, 28, 28, 256)       0         \n",
      "_________________________________________________________________\n",
      "block4_conv1 (Conv2D)        (None, 28, 28, 512)       1180160   \n",
      "_________________________________________________________________\n",
      "block4_conv2 (Conv2D)        (None, 28, 28, 512)       2359808   \n",
      "_________________________________________________________________\n",
      "block4_conv3 (Conv2D)        (None, 28, 28, 512)       2359808   \n",
      "_________________________________________________________________\n",
      "block4_pool (MaxPooling2D)   (None, 14, 14, 512)       0         \n",
      "_________________________________________________________________\n",
      "block5_conv1 (Conv2D)        (None, 14, 14, 512)       2359808   \n",
      "_________________________________________________________________\n",
      "block5_conv2 (Conv2D)        (None, 14, 14, 512)       2359808   \n",
      "_________________________________________________________________\n",
      "block5_conv3 (Conv2D)        (None, 14, 14, 512)       2359808   \n",
      "_________________________________________________________________\n",
      "block5_pool (MaxPooling2D)   (None, 7, 7, 512)         0         \n",
      "=================================================================\n",
      "Total params: 14,714,688\n",
      "Trainable params: 0\n",
      "Non-trainable params: 14,714,688\n",
      "_________________________________________________________________\n"
     ]
    }
   ],
   "source": [
    "vgg_model.summary()"
   ]
  },
  {
   "cell_type": "code",
   "execution_count": 7,
   "id": "229b19a2",
   "metadata": {
    "execution": {
     "iopub.execute_input": "2021-12-07T04:11:05.401274Z",
     "iopub.status.busy": "2021-12-07T04:11:05.400770Z",
     "iopub.status.idle": "2021-12-07T04:11:05.427896Z",
     "shell.execute_reply": "2021-12-07T04:11:05.427438Z",
     "shell.execute_reply.started": "2021-12-07T04:08:41.552395Z"
    },
    "papermill": {
     "duration": 0.047616,
     "end_time": "2021-12-07T04:11:05.428010",
     "exception": false,
     "start_time": "2021-12-07T04:11:05.380394",
     "status": "completed"
    },
    "tags": []
   },
   "outputs": [
    {
     "name": "stdout",
     "output_type": "stream",
     "text": [
      "2\n",
      "2\n"
     ]
    }
   ],
   "source": [
    "# to list out number of folders in train and test folder\n",
    "import os\n",
    "folders_train1 = os.listdir(main_train)\n",
    "print(len(folders_train1))\n",
    "\n",
    "folders_test1 = os.listdir(main_test)\n",
    "print(len(folders_test1))"
   ]
  },
  {
   "cell_type": "code",
   "execution_count": 8,
   "id": "c4743d34",
   "metadata": {
    "execution": {
     "iopub.execute_input": "2021-12-07T04:11:05.467980Z",
     "iopub.status.busy": "2021-12-07T04:11:05.467181Z",
     "iopub.status.idle": "2021-12-07T04:11:05.470368Z",
     "shell.execute_reply": "2021-12-07T04:11:05.470786Z",
     "shell.execute_reply.started": "2021-12-07T04:08:41.571715Z"
    },
    "papermill": {
     "duration": 0.025979,
     "end_time": "2021-12-07T04:11:05.470904",
     "exception": false,
     "start_time": "2021-12-07T04:11:05.444925",
     "status": "completed"
    },
    "tags": []
   },
   "outputs": [
    {
     "data": {
      "text/plain": [
       "<KerasTensor: shape=(None, 7, 7, 512) dtype=float32 (created by layer 'block5_pool')>"
      ]
     },
     "execution_count": 8,
     "metadata": {},
     "output_type": "execute_result"
    }
   ],
   "source": [
    "#outputs the last layer\n",
    "vgg_model.output"
   ]
  },
  {
   "cell_type": "code",
   "execution_count": 9,
   "id": "78f1f4cc",
   "metadata": {
    "execution": {
     "iopub.execute_input": "2021-12-07T04:11:05.509559Z",
     "iopub.status.busy": "2021-12-07T04:11:05.508776Z",
     "iopub.status.idle": "2021-12-07T04:11:05.512031Z",
     "shell.execute_reply": "2021-12-07T04:11:05.511511Z",
     "shell.execute_reply.started": "2021-12-07T04:08:41.580796Z"
    },
    "papermill": {
     "duration": 0.023987,
     "end_time": "2021-12-07T04:11:05.512132",
     "exception": false,
     "start_time": "2021-12-07T04:11:05.488145",
     "status": "completed"
    },
    "tags": []
   },
   "outputs": [
    {
     "data": {
      "text/plain": [
       "<KerasTensor: shape=(None, 227, 227, 3) dtype=float32 (created by layer 'input_1')>"
      ]
     },
     "execution_count": 9,
     "metadata": {},
     "output_type": "execute_result"
    }
   ],
   "source": [
    "#inputs of the layer\n",
    "vgg_model.input"
   ]
  },
  {
   "cell_type": "code",
   "execution_count": 10,
   "id": "9c5b7ead",
   "metadata": {
    "execution": {
     "iopub.execute_input": "2021-12-07T04:11:05.553637Z",
     "iopub.status.busy": "2021-12-07T04:11:05.552833Z",
     "iopub.status.idle": "2021-12-07T04:11:05.588520Z",
     "shell.execute_reply": "2021-12-07T04:11:05.588084Z",
     "shell.execute_reply.started": "2021-12-07T04:08:41.591857Z"
    },
    "papermill": {
     "duration": 0.058505,
     "end_time": "2021-12-07T04:11:05.588645",
     "exception": false,
     "start_time": "2021-12-07T04:11:05.530140",
     "status": "completed"
    },
    "tags": []
   },
   "outputs": [
    {
     "name": "stdout",
     "output_type": "stream",
     "text": [
      "Model: \"model\"\n",
      "_________________________________________________________________\n",
      "Layer (type)                 Output Shape              Param #   \n",
      "=================================================================\n",
      "input_1 (InputLayer)         [(None, 227, 227, 3)]     0         \n",
      "_________________________________________________________________\n",
      "block1_conv1 (Conv2D)        (None, 227, 227, 64)      1792      \n",
      "_________________________________________________________________\n",
      "block1_conv2 (Conv2D)        (None, 227, 227, 64)      36928     \n",
      "_________________________________________________________________\n",
      "block1_pool (MaxPooling2D)   (None, 113, 113, 64)      0         \n",
      "_________________________________________________________________\n",
      "block2_conv1 (Conv2D)        (None, 113, 113, 128)     73856     \n",
      "_________________________________________________________________\n",
      "block2_conv2 (Conv2D)        (None, 113, 113, 128)     147584    \n",
      "_________________________________________________________________\n",
      "block2_pool (MaxPooling2D)   (None, 56, 56, 128)       0         \n",
      "_________________________________________________________________\n",
      "block3_conv1 (Conv2D)        (None, 56, 56, 256)       295168    \n",
      "_________________________________________________________________\n",
      "block3_conv2 (Conv2D)        (None, 56, 56, 256)       590080    \n",
      "_________________________________________________________________\n",
      "block3_conv3 (Conv2D)        (None, 56, 56, 256)       590080    \n",
      "_________________________________________________________________\n",
      "block3_pool (MaxPooling2D)   (None, 28, 28, 256)       0         \n",
      "_________________________________________________________________\n",
      "block4_conv1 (Conv2D)        (None, 28, 28, 512)       1180160   \n",
      "_________________________________________________________________\n",
      "block4_conv2 (Conv2D)        (None, 28, 28, 512)       2359808   \n",
      "_________________________________________________________________\n",
      "block4_conv3 (Conv2D)        (None, 28, 28, 512)       2359808   \n",
      "_________________________________________________________________\n",
      "block4_pool (MaxPooling2D)   (None, 14, 14, 512)       0         \n",
      "_________________________________________________________________\n",
      "block5_conv1 (Conv2D)        (None, 14, 14, 512)       2359808   \n",
      "_________________________________________________________________\n",
      "block5_conv2 (Conv2D)        (None, 14, 14, 512)       2359808   \n",
      "_________________________________________________________________\n",
      "block5_conv3 (Conv2D)        (None, 14, 14, 512)       2359808   \n",
      "_________________________________________________________________\n",
      "block5_pool (MaxPooling2D)   (None, 7, 7, 512)         0         \n",
      "_________________________________________________________________\n",
      "first_flatten (Flatten)      (None, 25088)             0         \n",
      "_________________________________________________________________\n",
      "dense (Dense)                (None, 64)                1605696   \n",
      "_________________________________________________________________\n",
      "dropout (Dropout)            (None, 64)                0         \n",
      "_________________________________________________________________\n",
      "dense_1 (Dense)              (None, 2)                 130       \n",
      "=================================================================\n",
      "Total params: 16,320,514\n",
      "Trainable params: 1,605,826\n",
      "Non-trainable params: 14,714,688\n",
      "_________________________________________________________________\n"
     ]
    }
   ],
   "source": [
    "# Flatten() is used to convert the last layer to vector or as fully connected\n",
    "x = Flatten(name=\"first_flatten\")(vgg_model.output)\n",
    "# Dense() is a fully connected layer and produces 128 outputs.\n",
    "# relu layer is used to convert the negative nubers to 0 and retains +ve as such.\n",
    "pred = Dense(64, activation=\"relu\")(x)\n",
    "#Dropout() layer is used to randomly remove 50% of the networks.\n",
    "pred = Dropout(0.5)(pred)\n",
    "# Dense() layer is added such that it outputs only two classess \n",
    "# Softmax activation layer produces probabilities for different classess.\n",
    "pred = Dense(2,activation='softmax')(pred)\n",
    "# Model() is used to group layers\n",
    "model = Model(inputs=vgg_model.input,outputs=pred)\n",
    "model.summary()"
   ]
  },
  {
   "cell_type": "markdown",
   "id": "9ccfc504",
   "metadata": {
    "papermill": {
     "duration": 0.018525,
     "end_time": "2021-12-07T04:11:05.625343",
     "exception": false,
     "start_time": "2021-12-07T04:11:05.606818",
     "status": "completed"
    },
    "tags": []
   },
   "source": [
    "# Image Augmentation"
   ]
  },
  {
   "cell_type": "code",
   "execution_count": 11,
   "id": "95d95d93",
   "metadata": {
    "execution": {
     "iopub.execute_input": "2021-12-07T04:11:05.669119Z",
     "iopub.status.busy": "2021-12-07T04:11:05.668406Z",
     "iopub.status.idle": "2021-12-07T04:11:31.065415Z",
     "shell.execute_reply": "2021-12-07T04:11:31.064965Z",
     "shell.execute_reply.started": "2021-12-07T04:08:41.638604Z"
    },
    "papermill": {
     "duration": 25.422302,
     "end_time": "2021-12-07T04:11:31.065547",
     "exception": false,
     "start_time": "2021-12-07T04:11:05.643245",
     "status": "completed"
    },
    "tags": []
   },
   "outputs": [
    {
     "name": "stdout",
     "output_type": "stream",
     "text": [
      "Found 15904 images belonging to 2 classes.\n",
      "Found 3958 images belonging to 2 classes.\n"
     ]
    }
   ],
   "source": [
    "#ImageDataGenerator is used to modify the train and test images w.r.t the properties mentioned\n",
    "train_datagen = ImageDataGenerator(rescale = 1/255.0,\n",
    "                                   shear_range = 0.2,\n",
    "                                   zoom_range = 0.2,\n",
    "                                   rotation_range=20,\n",
    "                                   width_shift_range=0.2, \n",
    "                                   height_shift_range=0.2,\n",
    "                                   horizontal_flip = True)\n",
    "\n",
    "test_datagen = ImageDataGenerator(rescale = 1/255.0,\n",
    "                                   shear_range = 0.2,\n",
    "                                   zoom_range = 0.2,\n",
    "                                   rotation_range=20,\n",
    "                                   width_shift_range=0.2, \n",
    "                                   height_shift_range=0.2,\n",
    "                                   horizontal_flip = True)\n",
    "\n",
    "# flow_from_directory() is used to convert all the images in the specific directory\n",
    "training_set = train_datagen.flow_from_directory(directory = main_train,\n",
    "                                                 target_size = (227,227),\n",
    "                                                 batch_size = 500,\n",
    "                                                 )\n",
    "\n",
    "test_set = test_datagen.flow_from_directory(directory = main_test,\n",
    "                                                 target_size = (227,227),\n",
    "                                                 batch_size = 500,\n",
    "                                                 )"
   ]
  },
  {
   "cell_type": "code",
   "execution_count": 12,
   "id": "36b48ff0",
   "metadata": {
    "execution": {
     "iopub.execute_input": "2021-12-07T04:11:31.107236Z",
     "iopub.status.busy": "2021-12-07T04:11:31.106574Z",
     "iopub.status.idle": "2021-12-07T04:11:31.109201Z",
     "shell.execute_reply": "2021-12-07T04:11:31.109602Z",
     "shell.execute_reply.started": "2021-12-07T04:08:54.376878Z"
    },
    "papermill": {
     "duration": 0.025856,
     "end_time": "2021-12-07T04:11:31.109740",
     "exception": false,
     "start_time": "2021-12-07T04:11:31.083884",
     "status": "completed"
    },
    "tags": []
   },
   "outputs": [
    {
     "data": {
      "text/plain": [
       "{'Negative': 0, 'Positive': 1}"
      ]
     },
     "execution_count": 12,
     "metadata": {},
     "output_type": "execute_result"
    }
   ],
   "source": [
    "# Class_indices will display the respective class value\n",
    "training_set.class_indices\n"
   ]
  },
  {
   "cell_type": "code",
   "execution_count": 13,
   "id": "c3cbe5e7",
   "metadata": {
    "execution": {
     "iopub.execute_input": "2021-12-07T04:11:31.151201Z",
     "iopub.status.busy": "2021-12-07T04:11:31.150595Z",
     "iopub.status.idle": "2021-12-07T04:11:31.153314Z",
     "shell.execute_reply": "2021-12-07T04:11:31.153723Z",
     "shell.execute_reply.started": "2021-12-07T04:08:54.385164Z"
    },
    "papermill": {
     "duration": 0.025868,
     "end_time": "2021-12-07T04:11:31.153842",
     "exception": false,
     "start_time": "2021-12-07T04:11:31.127974",
     "status": "completed"
    },
    "tags": []
   },
   "outputs": [
    {
     "name": "stdout",
     "output_type": "stream",
     "text": [
      "32\n",
      "8\n"
     ]
    }
   ],
   "source": [
    "# To check no.of folders in each\n",
    "print(len(training_set))\n",
    "print(len(test_set))"
   ]
  },
  {
   "cell_type": "markdown",
   "id": "4295d044",
   "metadata": {
    "papermill": {
     "duration": 0.019619,
     "end_time": "2021-12-07T04:11:31.193524",
     "exception": false,
     "start_time": "2021-12-07T04:11:31.173905",
     "status": "completed"
    },
    "tags": []
   },
   "source": [
    "# Model Fitting"
   ]
  },
  {
   "cell_type": "code",
   "execution_count": 14,
   "id": "cb8012bb",
   "metadata": {
    "execution": {
     "iopub.execute_input": "2021-12-07T04:11:31.240728Z",
     "iopub.status.busy": "2021-12-07T04:11:31.239959Z",
     "iopub.status.idle": "2021-12-07T04:11:31.247109Z",
     "shell.execute_reply": "2021-12-07T04:11:31.246655Z",
     "shell.execute_reply.started": "2021-12-07T04:08:54.402271Z"
    },
    "papermill": {
     "duration": 0.03486,
     "end_time": "2021-12-07T04:11:31.247234",
     "exception": false,
     "start_time": "2021-12-07T04:11:31.212374",
     "status": "completed"
    },
    "tags": []
   },
   "outputs": [],
   "source": [
    "# Loss function is used to find the errors or deviations in learning process\n",
    "# Optimizer is used to optimize the input weights\n",
    "# Metrics is used to measure the performance\n",
    "model.compile(optimizer=Adam(learning_rate=0.01),\n",
    "    loss=\"binary_crossentropy\",\n",
    "    metrics=['accuracy'])"
   ]
  },
  {
   "cell_type": "code",
   "execution_count": 15,
   "id": "2207f31c",
   "metadata": {
    "execution": {
     "iopub.execute_input": "2021-12-07T04:11:31.289282Z",
     "iopub.status.busy": "2021-12-07T04:11:31.288428Z",
     "iopub.status.idle": "2021-12-07T04:22:24.273295Z",
     "shell.execute_reply": "2021-12-07T04:22:24.272827Z"
    },
    "papermill": {
     "duration": 653.007445,
     "end_time": "2021-12-07T04:22:24.273433",
     "exception": false,
     "start_time": "2021-12-07T04:11:31.265988",
     "status": "completed"
    },
    "tags": []
   },
   "outputs": [
    {
     "name": "stderr",
     "output_type": "stream",
     "text": [
      "2021-12-07 04:11:39.797500: I tensorflow/compiler/mlir/mlir_graph_optimization_pass.cc:185] None of the MLIR Optimization Passes are enabled (registered 2)\n"
     ]
    },
    {
     "name": "stdout",
     "output_type": "stream",
     "text": [
      "Epoch 1/2\n"
     ]
    },
    {
     "name": "stderr",
     "output_type": "stream",
     "text": [
      "2021-12-07 04:11:49.540371: I tensorflow/stream_executor/cuda/cuda_dnn.cc:369] Loaded cuDNN version 8005\n",
      "2021-12-07 04:11:53.568642: W tensorflow/core/kernels/gpu_utils.cc:49] Failed to allocate memory for convolution redzone checking; skipping this check. This is benign and only means that we won't check cudnn for out-of-bounds reads and writes. This message will only be printed once.\n"
     ]
    },
    {
     "name": "stdout",
     "output_type": "stream",
     "text": [
      "32/32 [==============================] - 379s 11s/step - loss: 0.9170 - accuracy: 0.8986 - val_loss: 0.0841 - val_accuracy: 0.9813\n",
      "Epoch 2/2\n",
      "32/32 [==============================] - 258s 8s/step - loss: 0.1294 - accuracy: 0.9650 - val_loss: 0.0524 - val_accuracy: 0.9843\n"
     ]
    }
   ],
   "source": [
    "# fit() is used to train the model \n",
    "# len(training_set) is 32042/500 = 65\n",
    "# len(test_set) is 7958/500 = 16\n",
    "mod = model.fit(\n",
    "  training_set,\n",
    "  validation_data=test_set,\n",
    "  epochs=2,\n",
    "  steps_per_epoch=len(training_set),\n",
    "  validation_steps=len(test_set)\n",
    ")"
   ]
  },
  {
   "cell_type": "code",
   "execution_count": 16,
   "id": "2de1a938",
   "metadata": {
    "execution": {
     "iopub.execute_input": "2021-12-07T04:22:24.363718Z",
     "iopub.status.busy": "2021-12-07T04:22:24.362918Z",
     "iopub.status.idle": "2021-12-07T04:22:24.557923Z",
     "shell.execute_reply": "2021-12-07T04:22:24.557447Z"
    },
    "papermill": {
     "duration": 0.247463,
     "end_time": "2021-12-07T04:22:24.558055",
     "exception": false,
     "start_time": "2021-12-07T04:22:24.310592",
     "status": "completed"
    },
    "tags": []
   },
   "outputs": [
    {
     "data": {
      "text/plain": [
       "['64_0.01_50%']"
      ]
     },
     "execution_count": 16,
     "metadata": {},
     "output_type": "execute_result"
    }
   ],
   "source": [
    "# To save the particular model in .h5 format\n",
    "import tensorflow as tf\n",
    "from tensorflow.keras.models import load_model\n",
    "model.save('64_0.01_50%.h5')\n",
    "\n",
    "\n",
    "\n",
    "import joblib\n",
    "joblib.dump(mod.history,'64_0.01_50%')"
   ]
  }
 ],
 "metadata": {
  "kernelspec": {
   "display_name": "Python 3",
   "language": "python",
   "name": "python3"
  },
  "language_info": {
   "codemirror_mode": {
    "name": "ipython",
    "version": 3
   },
   "file_extension": ".py",
   "mimetype": "text/x-python",
   "name": "python",
   "nbconvert_exporter": "python",
   "pygments_lexer": "ipython3",
   "version": "3.7.12"
  },
  "papermill": {
   "default_parameters": {},
   "duration": 699.617029,
   "end_time": "2021-12-07T04:22:28.041409",
   "environment_variables": {},
   "exception": null,
   "input_path": "__notebook__.ipynb",
   "output_path": "__notebook__.ipynb",
   "parameters": {},
   "start_time": "2021-12-07T04:10:48.424380",
   "version": "2.3.3"
  }
 },
 "nbformat": 4,
 "nbformat_minor": 5
}
