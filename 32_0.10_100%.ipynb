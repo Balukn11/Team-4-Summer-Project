{
 "cells": [
  {
   "cell_type": "code",
   "execution_count": 1,
   "id": "16f438a5",
   "metadata": {
    "_cell_guid": "b1076dfc-b9ad-4769-8c92-a6c4dae69d19",
    "_uuid": "8f2839f25d086af736a60e9eeb907d3b93b6e0e5",
    "execution": {
     "iopub.execute_input": "2021-12-08T17:27:39.139494Z",
     "iopub.status.busy": "2021-12-08T17:27:39.138029Z",
     "iopub.status.idle": "2021-12-08T17:27:39.150722Z",
     "shell.execute_reply": "2021-12-08T17:27:39.151285Z",
     "shell.execute_reply.started": "2021-12-07T05:36:17.530077Z"
    },
    "papermill": {
     "duration": 0.038886,
     "end_time": "2021-12-08T17:27:39.151558",
     "exception": false,
     "start_time": "2021-12-08T17:27:39.112672",
     "status": "completed"
    },
    "tags": []
   },
   "outputs": [],
   "source": [
    "img_size = [227,227] #List which stores the resolution\n",
    "main_train = '../input/crack-detection/Main/Train' #Stores the path of the train directory\n",
    "main_test = '../input/crack-detection/Main/Test' #Stores the path of the test directory"
   ]
  },
  {
   "cell_type": "markdown",
   "id": "e12a60b7",
   "metadata": {
    "papermill": {
     "duration": 0.020039,
     "end_time": "2021-12-08T17:27:39.192107",
     "exception": false,
     "start_time": "2021-12-08T17:27:39.172068",
     "status": "completed"
    },
    "tags": []
   },
   "source": [
    "# **Import Statements**"
   ]
  },
  {
   "cell_type": "code",
   "execution_count": 2,
   "id": "9b83cf9e",
   "metadata": {
    "execution": {
     "iopub.execute_input": "2021-12-08T17:27:39.238352Z",
     "iopub.status.busy": "2021-12-08T17:27:39.237668Z",
     "iopub.status.idle": "2021-12-08T17:27:44.102004Z",
     "shell.execute_reply": "2021-12-08T17:27:44.101482Z",
     "shell.execute_reply.started": "2021-12-07T05:36:17.561845Z"
    },
    "papermill": {
     "duration": 4.889852,
     "end_time": "2021-12-08T17:27:44.102138",
     "exception": false,
     "start_time": "2021-12-08T17:27:39.212286",
     "status": "completed"
    },
    "tags": []
   },
   "outputs": [],
   "source": [
    "from tensorflow.keras.layers import Input,Dense,Flatten,Dropout\n",
    "from tensorflow.keras.models import Model,Sequential\n",
    "from tensorflow.keras.applications.vgg16 import VGG16,preprocess_input\n",
    "from matplotlib import pyplot as plt\n",
    "import numpy as np\n",
    "from tensorflow.keras.preprocessing import image\n",
    "from tensorflow.keras.optimizers import Adam\n",
    "from tensorflow.keras.preprocessing.image import ImageDataGenerator"
   ]
  },
  {
   "cell_type": "markdown",
   "id": "0cbaf824",
   "metadata": {
    "papermill": {
     "duration": 0.015487,
     "end_time": "2021-12-08T17:27:44.130360",
     "exception": false,
     "start_time": "2021-12-08T17:27:44.114873",
     "status": "completed"
    },
    "tags": []
   },
   "source": [
    "# **VGG16 Model Building**"
   ]
  },
  {
   "cell_type": "code",
   "execution_count": 3,
   "id": "e4c28b44",
   "metadata": {
    "execution": {
     "iopub.execute_input": "2021-12-08T17:27:44.161994Z",
     "iopub.status.busy": "2021-12-08T17:27:44.161411Z",
     "iopub.status.idle": "2021-12-08T17:27:47.367437Z",
     "shell.execute_reply": "2021-12-08T17:27:47.367939Z",
     "shell.execute_reply.started": "2021-12-07T05:36:27.476911Z"
    },
    "papermill": {
     "duration": 3.225141,
     "end_time": "2021-12-08T17:27:47.368098",
     "exception": false,
     "start_time": "2021-12-08T17:27:44.142957",
     "status": "completed"
    },
    "tags": []
   },
   "outputs": [
    {
     "name": "stderr",
     "output_type": "stream",
     "text": [
      "2021-12-08 17:27:44.248187: I tensorflow/stream_executor/cuda/cuda_gpu_executor.cc:937] successful NUMA node read from SysFS had negative value (-1), but there must be at least one NUMA node, so returning NUMA node zero\n",
      "2021-12-08 17:27:44.340030: I tensorflow/stream_executor/cuda/cuda_gpu_executor.cc:937] successful NUMA node read from SysFS had negative value (-1), but there must be at least one NUMA node, so returning NUMA node zero\n",
      "2021-12-08 17:27:44.340752: I tensorflow/stream_executor/cuda/cuda_gpu_executor.cc:937] successful NUMA node read from SysFS had negative value (-1), but there must be at least one NUMA node, so returning NUMA node zero\n",
      "2021-12-08 17:27:44.341850: I tensorflow/core/platform/cpu_feature_guard.cc:142] This TensorFlow binary is optimized with oneAPI Deep Neural Network Library (oneDNN) to use the following CPU instructions in performance-critical operations:  AVX2 AVX512F FMA\n",
      "To enable them in other operations, rebuild TensorFlow with the appropriate compiler flags.\n",
      "2021-12-08 17:27:44.342799: I tensorflow/stream_executor/cuda/cuda_gpu_executor.cc:937] successful NUMA node read from SysFS had negative value (-1), but there must be at least one NUMA node, so returning NUMA node zero\n",
      "2021-12-08 17:27:44.343444: I tensorflow/stream_executor/cuda/cuda_gpu_executor.cc:937] successful NUMA node read from SysFS had negative value (-1), but there must be at least one NUMA node, so returning NUMA node zero\n",
      "2021-12-08 17:27:44.344055: I tensorflow/stream_executor/cuda/cuda_gpu_executor.cc:937] successful NUMA node read from SysFS had negative value (-1), but there must be at least one NUMA node, so returning NUMA node zero\n",
      "2021-12-08 17:27:46.149943: I tensorflow/stream_executor/cuda/cuda_gpu_executor.cc:937] successful NUMA node read from SysFS had negative value (-1), but there must be at least one NUMA node, so returning NUMA node zero\n",
      "2021-12-08 17:27:46.150706: I tensorflow/stream_executor/cuda/cuda_gpu_executor.cc:937] successful NUMA node read from SysFS had negative value (-1), but there must be at least one NUMA node, so returning NUMA node zero\n",
      "2021-12-08 17:27:46.151336: I tensorflow/stream_executor/cuda/cuda_gpu_executor.cc:937] successful NUMA node read from SysFS had negative value (-1), but there must be at least one NUMA node, so returning NUMA node zero\n",
      "2021-12-08 17:27:46.151943: I tensorflow/core/common_runtime/gpu/gpu_device.cc:1510] Created device /job:localhost/replica:0/task:0/device:GPU:0 with 15403 MB memory:  -> device: 0, name: Tesla P100-PCIE-16GB, pci bus id: 0000:00:04.0, compute capability: 6.0\n"
     ]
    },
    {
     "name": "stdout",
     "output_type": "stream",
     "text": [
      "Downloading data from https://storage.googleapis.com/tensorflow/keras-applications/vgg16/vgg16_weights_tf_dim_ordering_tf_kernels_notop.h5\n",
      "58892288/58889256 [==============================] - 0s 0us/step\n",
      "58900480/58889256 [==============================] - 0s 0us/step\n"
     ]
    }
   ],
   "source": [
    "vgg_model = VGG16(include_top=False,\n",
    "    weights=\"imagenet\",\n",
    "    input_shape=img_size + [3])\n",
    "\n",
    "# Loading the VGG16 pre trained model\n",
    "\n",
    "# include_top - this specifies whether the final layer before the output layer has to be include \n",
    "# or not. If included then there will be 1000 number of classes at the output.\n",
    "\n",
    "# Weights are trained using imagenet"
   ]
  },
  {
   "cell_type": "code",
   "execution_count": 4,
   "id": "a8d6f14a",
   "metadata": {
    "execution": {
     "iopub.execute_input": "2021-12-08T17:27:47.406372Z",
     "iopub.status.busy": "2021-12-08T17:27:47.401377Z",
     "iopub.status.idle": "2021-12-08T17:27:47.416141Z",
     "shell.execute_reply": "2021-12-08T17:27:47.416663Z",
     "shell.execute_reply.started": "2021-12-07T05:36:34.452979Z"
    },
    "papermill": {
     "duration": 0.032996,
     "end_time": "2021-12-08T17:27:47.416800",
     "exception": false,
     "start_time": "2021-12-08T17:27:47.383804",
     "status": "completed"
    },
    "tags": []
   },
   "outputs": [
    {
     "name": "stdout",
     "output_type": "stream",
     "text": [
      "Model: \"vgg16\"\n",
      "_________________________________________________________________\n",
      "Layer (type)                 Output Shape              Param #   \n",
      "=================================================================\n",
      "input_1 (InputLayer)         [(None, 227, 227, 3)]     0         \n",
      "_________________________________________________________________\n",
      "block1_conv1 (Conv2D)        (None, 227, 227, 64)      1792      \n",
      "_________________________________________________________________\n",
      "block1_conv2 (Conv2D)        (None, 227, 227, 64)      36928     \n",
      "_________________________________________________________________\n",
      "block1_pool (MaxPooling2D)   (None, 113, 113, 64)      0         \n",
      "_________________________________________________________________\n",
      "block2_conv1 (Conv2D)        (None, 113, 113, 128)     73856     \n",
      "_________________________________________________________________\n",
      "block2_conv2 (Conv2D)        (None, 113, 113, 128)     147584    \n",
      "_________________________________________________________________\n",
      "block2_pool (MaxPooling2D)   (None, 56, 56, 128)       0         \n",
      "_________________________________________________________________\n",
      "block3_conv1 (Conv2D)        (None, 56, 56, 256)       295168    \n",
      "_________________________________________________________________\n",
      "block3_conv2 (Conv2D)        (None, 56, 56, 256)       590080    \n",
      "_________________________________________________________________\n",
      "block3_conv3 (Conv2D)        (None, 56, 56, 256)       590080    \n",
      "_________________________________________________________________\n",
      "block3_pool (MaxPooling2D)   (None, 28, 28, 256)       0         \n",
      "_________________________________________________________________\n",
      "block4_conv1 (Conv2D)        (None, 28, 28, 512)       1180160   \n",
      "_________________________________________________________________\n",
      "block4_conv2 (Conv2D)        (None, 28, 28, 512)       2359808   \n",
      "_________________________________________________________________\n",
      "block4_conv3 (Conv2D)        (None, 28, 28, 512)       2359808   \n",
      "_________________________________________________________________\n",
      "block4_pool (MaxPooling2D)   (None, 14, 14, 512)       0         \n",
      "_________________________________________________________________\n",
      "block5_conv1 (Conv2D)        (None, 14, 14, 512)       2359808   \n",
      "_________________________________________________________________\n",
      "block5_conv2 (Conv2D)        (None, 14, 14, 512)       2359808   \n",
      "_________________________________________________________________\n",
      "block5_conv3 (Conv2D)        (None, 14, 14, 512)       2359808   \n",
      "_________________________________________________________________\n",
      "block5_pool (MaxPooling2D)   (None, 7, 7, 512)         0         \n",
      "=================================================================\n",
      "Total params: 14,714,688\n",
      "Trainable params: 14,714,688\n",
      "Non-trainable params: 0\n",
      "_________________________________________________________________\n"
     ]
    }
   ],
   "source": [
    "# To print the hidden layer summary of vgg model without top layer\n",
    "vgg_model.summary()"
   ]
  },
  {
   "cell_type": "code",
   "execution_count": 5,
   "id": "646b9ea0",
   "metadata": {
    "execution": {
     "iopub.execute_input": "2021-12-08T17:27:47.452992Z",
     "iopub.status.busy": "2021-12-08T17:27:47.452247Z",
     "iopub.status.idle": "2021-12-08T17:27:47.454939Z",
     "shell.execute_reply": "2021-12-08T17:27:47.454351Z",
     "shell.execute_reply.started": "2021-12-07T05:36:37.735624Z"
    },
    "papermill": {
     "duration": 0.022853,
     "end_time": "2021-12-08T17:27:47.455050",
     "exception": false,
     "start_time": "2021-12-08T17:27:47.432197",
     "status": "completed"
    },
    "tags": []
   },
   "outputs": [],
   "source": [
    "# To fix the weights of the pre trained model\n",
    "for lay in vgg_model.layers:\n",
    "    lay.trainable = False"
   ]
  },
  {
   "cell_type": "code",
   "execution_count": 6,
   "id": "0db01d28",
   "metadata": {
    "execution": {
     "iopub.execute_input": "2021-12-08T17:27:47.497258Z",
     "iopub.status.busy": "2021-12-08T17:27:47.496466Z",
     "iopub.status.idle": "2021-12-08T17:27:47.502981Z",
     "shell.execute_reply": "2021-12-08T17:27:47.503347Z",
     "shell.execute_reply.started": "2021-12-07T05:36:40.68509Z"
    },
    "papermill": {
     "duration": 0.032306,
     "end_time": "2021-12-08T17:27:47.503467",
     "exception": false,
     "start_time": "2021-12-08T17:27:47.471161",
     "status": "completed"
    },
    "tags": []
   },
   "outputs": [
    {
     "name": "stdout",
     "output_type": "stream",
     "text": [
      "Model: \"vgg16\"\n",
      "_________________________________________________________________\n",
      "Layer (type)                 Output Shape              Param #   \n",
      "=================================================================\n",
      "input_1 (InputLayer)         [(None, 227, 227, 3)]     0         \n",
      "_________________________________________________________________\n",
      "block1_conv1 (Conv2D)        (None, 227, 227, 64)      1792      \n",
      "_________________________________________________________________\n",
      "block1_conv2 (Conv2D)        (None, 227, 227, 64)      36928     \n",
      "_________________________________________________________________\n",
      "block1_pool (MaxPooling2D)   (None, 113, 113, 64)      0         \n",
      "_________________________________________________________________\n",
      "block2_conv1 (Conv2D)        (None, 113, 113, 128)     73856     \n",
      "_________________________________________________________________\n",
      "block2_conv2 (Conv2D)        (None, 113, 113, 128)     147584    \n",
      "_________________________________________________________________\n",
      "block2_pool (MaxPooling2D)   (None, 56, 56, 128)       0         \n",
      "_________________________________________________________________\n",
      "block3_conv1 (Conv2D)        (None, 56, 56, 256)       295168    \n",
      "_________________________________________________________________\n",
      "block3_conv2 (Conv2D)        (None, 56, 56, 256)       590080    \n",
      "_________________________________________________________________\n",
      "block3_conv3 (Conv2D)        (None, 56, 56, 256)       590080    \n",
      "_________________________________________________________________\n",
      "block3_pool (MaxPooling2D)   (None, 28, 28, 256)       0         \n",
      "_________________________________________________________________\n",
      "block4_conv1 (Conv2D)        (None, 28, 28, 512)       1180160   \n",
      "_________________________________________________________________\n",
      "block4_conv2 (Conv2D)        (None, 28, 28, 512)       2359808   \n",
      "_________________________________________________________________\n",
      "block4_conv3 (Conv2D)        (None, 28, 28, 512)       2359808   \n",
      "_________________________________________________________________\n",
      "block4_pool (MaxPooling2D)   (None, 14, 14, 512)       0         \n",
      "_________________________________________________________________\n",
      "block5_conv1 (Conv2D)        (None, 14, 14, 512)       2359808   \n",
      "_________________________________________________________________\n",
      "block5_conv2 (Conv2D)        (None, 14, 14, 512)       2359808   \n",
      "_________________________________________________________________\n",
      "block5_conv3 (Conv2D)        (None, 14, 14, 512)       2359808   \n",
      "_________________________________________________________________\n",
      "block5_pool (MaxPooling2D)   (None, 7, 7, 512)         0         \n",
      "=================================================================\n",
      "Total params: 14,714,688\n",
      "Trainable params: 0\n",
      "Non-trainable params: 14,714,688\n",
      "_________________________________________________________________\n"
     ]
    }
   ],
   "source": [
    "vgg_model.summary()"
   ]
  },
  {
   "cell_type": "code",
   "execution_count": 7,
   "id": "d137bced",
   "metadata": {
    "execution": {
     "iopub.execute_input": "2021-12-08T17:27:47.540082Z",
     "iopub.status.busy": "2021-12-08T17:27:47.539471Z",
     "iopub.status.idle": "2021-12-08T17:27:47.565840Z",
     "shell.execute_reply": "2021-12-08T17:27:47.565050Z",
     "shell.execute_reply.started": "2021-12-07T05:36:43.502639Z"
    },
    "papermill": {
     "duration": 0.046444,
     "end_time": "2021-12-08T17:27:47.565999",
     "exception": false,
     "start_time": "2021-12-08T17:27:47.519555",
     "status": "completed"
    },
    "tags": []
   },
   "outputs": [
    {
     "name": "stdout",
     "output_type": "stream",
     "text": [
      "2\n",
      "2\n"
     ]
    }
   ],
   "source": [
    "# to list out number of folders in train and test folder\n",
    "import os\n",
    "folders_train1 = os.listdir(main_train)\n",
    "print(len(folders_train1))\n",
    "\n",
    "folders_test1 = os.listdir(main_test)\n",
    "print(len(folders_test1))"
   ]
  },
  {
   "cell_type": "code",
   "execution_count": 8,
   "id": "e5989acb",
   "metadata": {
    "execution": {
     "iopub.execute_input": "2021-12-08T17:27:47.609136Z",
     "iopub.status.busy": "2021-12-08T17:27:47.608402Z",
     "iopub.status.idle": "2021-12-08T17:27:47.612721Z",
     "shell.execute_reply": "2021-12-08T17:27:47.613090Z",
     "shell.execute_reply.started": "2021-12-07T05:36:46.470611Z"
    },
    "papermill": {
     "duration": 0.028019,
     "end_time": "2021-12-08T17:27:47.613207",
     "exception": false,
     "start_time": "2021-12-08T17:27:47.585188",
     "status": "completed"
    },
    "tags": []
   },
   "outputs": [
    {
     "data": {
      "text/plain": [
       "<KerasTensor: shape=(None, 7, 7, 512) dtype=float32 (created by layer 'block5_pool')>"
      ]
     },
     "execution_count": 8,
     "metadata": {},
     "output_type": "execute_result"
    }
   ],
   "source": [
    "#outputs the last layer\n",
    "vgg_model.output\n"
   ]
  },
  {
   "cell_type": "code",
   "execution_count": 9,
   "id": "226768de",
   "metadata": {
    "execution": {
     "iopub.execute_input": "2021-12-08T17:27:47.649319Z",
     "iopub.status.busy": "2021-12-08T17:27:47.648825Z",
     "iopub.status.idle": "2021-12-08T17:27:47.652820Z",
     "shell.execute_reply": "2021-12-08T17:27:47.653198Z",
     "shell.execute_reply.started": "2021-12-07T05:36:50.773362Z"
    },
    "papermill": {
     "duration": 0.023879,
     "end_time": "2021-12-08T17:27:47.653315",
     "exception": false,
     "start_time": "2021-12-08T17:27:47.629436",
     "status": "completed"
    },
    "tags": []
   },
   "outputs": [
    {
     "data": {
      "text/plain": [
       "<KerasTensor: shape=(None, 227, 227, 3) dtype=float32 (created by layer 'input_1')>"
      ]
     },
     "execution_count": 9,
     "metadata": {},
     "output_type": "execute_result"
    }
   ],
   "source": [
    "#inputs of the layer\n",
    "vgg_model.input"
   ]
  },
  {
   "cell_type": "code",
   "execution_count": 10,
   "id": "c634a635",
   "metadata": {
    "execution": {
     "iopub.execute_input": "2021-12-08T17:27:47.689329Z",
     "iopub.status.busy": "2021-12-08T17:27:47.688556Z",
     "iopub.status.idle": "2021-12-08T17:27:47.727698Z",
     "shell.execute_reply": "2021-12-08T17:27:47.728228Z"
    },
    "papermill": {
     "duration": 0.058274,
     "end_time": "2021-12-08T17:27:47.728385",
     "exception": false,
     "start_time": "2021-12-08T17:27:47.670111",
     "status": "completed"
    },
    "tags": []
   },
   "outputs": [
    {
     "name": "stdout",
     "output_type": "stream",
     "text": [
      "Model: \"model\"\n",
      "_________________________________________________________________\n",
      "Layer (type)                 Output Shape              Param #   \n",
      "=================================================================\n",
      "input_1 (InputLayer)         [(None, 227, 227, 3)]     0         \n",
      "_________________________________________________________________\n",
      "block1_conv1 (Conv2D)        (None, 227, 227, 64)      1792      \n",
      "_________________________________________________________________\n",
      "block1_conv2 (Conv2D)        (None, 227, 227, 64)      36928     \n",
      "_________________________________________________________________\n",
      "block1_pool (MaxPooling2D)   (None, 113, 113, 64)      0         \n",
      "_________________________________________________________________\n",
      "block2_conv1 (Conv2D)        (None, 113, 113, 128)     73856     \n",
      "_________________________________________________________________\n",
      "block2_conv2 (Conv2D)        (None, 113, 113, 128)     147584    \n",
      "_________________________________________________________________\n",
      "block2_pool (MaxPooling2D)   (None, 56, 56, 128)       0         \n",
      "_________________________________________________________________\n",
      "block3_conv1 (Conv2D)        (None, 56, 56, 256)       295168    \n",
      "_________________________________________________________________\n",
      "block3_conv2 (Conv2D)        (None, 56, 56, 256)       590080    \n",
      "_________________________________________________________________\n",
      "block3_conv3 (Conv2D)        (None, 56, 56, 256)       590080    \n",
      "_________________________________________________________________\n",
      "block3_pool (MaxPooling2D)   (None, 28, 28, 256)       0         \n",
      "_________________________________________________________________\n",
      "block4_conv1 (Conv2D)        (None, 28, 28, 512)       1180160   \n",
      "_________________________________________________________________\n",
      "block4_conv2 (Conv2D)        (None, 28, 28, 512)       2359808   \n",
      "_________________________________________________________________\n",
      "block4_conv3 (Conv2D)        (None, 28, 28, 512)       2359808   \n",
      "_________________________________________________________________\n",
      "block4_pool (MaxPooling2D)   (None, 14, 14, 512)       0         \n",
      "_________________________________________________________________\n",
      "block5_conv1 (Conv2D)        (None, 14, 14, 512)       2359808   \n",
      "_________________________________________________________________\n",
      "block5_conv2 (Conv2D)        (None, 14, 14, 512)       2359808   \n",
      "_________________________________________________________________\n",
      "block5_conv3 (Conv2D)        (None, 14, 14, 512)       2359808   \n",
      "_________________________________________________________________\n",
      "block5_pool (MaxPooling2D)   (None, 7, 7, 512)         0         \n",
      "_________________________________________________________________\n",
      "first_flatten (Flatten)      (None, 25088)             0         \n",
      "_________________________________________________________________\n",
      "dense (Dense)                (None, 32)                802848    \n",
      "_________________________________________________________________\n",
      "dropout (Dropout)            (None, 32)                0         \n",
      "_________________________________________________________________\n",
      "dense_1 (Dense)              (None, 2)                 66        \n",
      "=================================================================\n",
      "Total params: 15,517,602\n",
      "Trainable params: 802,914\n",
      "Non-trainable params: 14,714,688\n",
      "_________________________________________________________________\n"
     ]
    }
   ],
   "source": [
    "# Flatten() is used to convert the last layer to vector or as fully connected\n",
    "x = Flatten(name=\"first_flatten\")(vgg_model.output)\n",
    "# Dense() is a fully connected layer and produces 128 outputs.\n",
    "# relu layer is used to convert the negative nubers to 0 and retains +ve as such.\n",
    "pred = Dense(32, activation=\"relu\")(x)\n",
    "#Dropout() layer is used to randomly remove 50% of the networks.\n",
    "pred = Dropout(0.5)(pred)\n",
    "# Dense() layer is added such that it outputs only two classess \n",
    "# Softmax activation layer produces probabilities for different classess.\n",
    "pred = Dense(2,activation='softmax')(pred)\n",
    "# Model() is used to group layers\n",
    "model = Model(inputs=vgg_model.input,outputs=pred)\n",
    "model.summary()"
   ]
  },
  {
   "cell_type": "markdown",
   "id": "19587aa7",
   "metadata": {
    "papermill": {
     "duration": 0.01722,
     "end_time": "2021-12-08T17:27:47.763441",
     "exception": false,
     "start_time": "2021-12-08T17:27:47.746221",
     "status": "completed"
    },
    "tags": []
   },
   "source": [
    "# **Image Augmentation**"
   ]
  },
  {
   "cell_type": "code",
   "execution_count": 11,
   "id": "92f6902e",
   "metadata": {
    "execution": {
     "iopub.execute_input": "2021-12-08T17:27:47.804448Z",
     "iopub.status.busy": "2021-12-08T17:27:47.803747Z",
     "iopub.status.idle": "2021-12-08T17:28:22.398856Z",
     "shell.execute_reply": "2021-12-08T17:28:22.399267Z"
    },
    "papermill": {
     "duration": 34.618801,
     "end_time": "2021-12-08T17:28:22.399427",
     "exception": false,
     "start_time": "2021-12-08T17:27:47.780626",
     "status": "completed"
    },
    "tags": []
   },
   "outputs": [
    {
     "name": "stdout",
     "output_type": "stream",
     "text": [
      "Found 32042 images belonging to 2 classes.\n",
      "Found 7958 images belonging to 2 classes.\n"
     ]
    }
   ],
   "source": [
    "#ImageDataGenerator is used to modify the train and test images w.r.t the properties mentioned\n",
    "train_datagen = ImageDataGenerator(rescale = 1/255.0,\n",
    "                                   shear_range = 0.2,\n",
    "                                   zoom_range = 0.2,\n",
    "                                   rotation_range=20,\n",
    "                                   width_shift_range=0.2, \n",
    "                                   height_shift_range=0.2,\n",
    "                                   horizontal_flip = True)\n",
    "\n",
    "test_datagen = ImageDataGenerator(rescale = 1/255.0,\n",
    "                                   shear_range = 0.2,\n",
    "                                   zoom_range = 0.2,\n",
    "                                   rotation_range=20,\n",
    "                                   width_shift_range=0.2, \n",
    "                                   height_shift_range=0.2,\n",
    "                                   horizontal_flip = True)\n",
    "\n",
    "# flow_from_directory() is used to convert all the images in the specific directory\n",
    "training_set = train_datagen.flow_from_directory(directory = main_train,\n",
    "                                                 target_size = (227,227),\n",
    "                                                 batch_size = 500,\n",
    "                                                 )\n",
    "\n",
    "test_set = test_datagen.flow_from_directory(directory = main_test,\n",
    "                                                 target_size = (227,227),\n",
    "                                                 batch_size = 500,\n",
    "                                                 )"
   ]
  },
  {
   "cell_type": "code",
   "execution_count": 12,
   "id": "3941780c",
   "metadata": {
    "execution": {
     "iopub.execute_input": "2021-12-08T17:28:22.439792Z",
     "iopub.status.busy": "2021-12-08T17:28:22.439100Z",
     "iopub.status.idle": "2021-12-08T17:28:22.441804Z",
     "shell.execute_reply": "2021-12-08T17:28:22.442246Z"
    },
    "papermill": {
     "duration": 0.025313,
     "end_time": "2021-12-08T17:28:22.442366",
     "exception": false,
     "start_time": "2021-12-08T17:28:22.417053",
     "status": "completed"
    },
    "tags": []
   },
   "outputs": [
    {
     "data": {
      "text/plain": [
       "{'Negative': 0, 'Positive': 1}"
      ]
     },
     "execution_count": 12,
     "metadata": {},
     "output_type": "execute_result"
    }
   ],
   "source": [
    "# Class_indices will display the respective class value\n",
    "training_set.class_indices"
   ]
  },
  {
   "cell_type": "code",
   "execution_count": 13,
   "id": "7882b051",
   "metadata": {
    "execution": {
     "iopub.execute_input": "2021-12-08T17:28:22.483172Z",
     "iopub.status.busy": "2021-12-08T17:28:22.482211Z",
     "iopub.status.idle": "2021-12-08T17:28:22.486406Z",
     "shell.execute_reply": "2021-12-08T17:28:22.485945Z"
    },
    "papermill": {
     "duration": 0.025722,
     "end_time": "2021-12-08T17:28:22.486510",
     "exception": false,
     "start_time": "2021-12-08T17:28:22.460788",
     "status": "completed"
    },
    "tags": []
   },
   "outputs": [
    {
     "name": "stdout",
     "output_type": "stream",
     "text": [
      "65\n",
      "16\n"
     ]
    }
   ],
   "source": [
    "# To check no.of folders in each\n",
    "print(len(training_set))\n",
    "print(len(test_set))"
   ]
  },
  {
   "cell_type": "code",
   "execution_count": 14,
   "id": "3f2f9bdc",
   "metadata": {
    "execution": {
     "iopub.execute_input": "2021-12-08T17:28:22.534104Z",
     "iopub.status.busy": "2021-12-08T17:28:22.530467Z",
     "iopub.status.idle": "2021-12-08T17:28:22.539941Z",
     "shell.execute_reply": "2021-12-08T17:28:22.540365Z",
     "shell.execute_reply.started": "2021-12-07T05:57:00.084007Z"
    },
    "papermill": {
     "duration": 0.035407,
     "end_time": "2021-12-08T17:28:22.540499",
     "exception": false,
     "start_time": "2021-12-08T17:28:22.505092",
     "status": "completed"
    },
    "tags": []
   },
   "outputs": [],
   "source": [
    "# Loss function is used to find the errors or deviations in learning process\n",
    "# Optimizer is used to optimize the input weights\n",
    "# Metrics is used to measure the performance\n",
    "model.compile(optimizer=Adam(learning_rate=0.10),\n",
    "    loss=\"binary_crossentropy\",\n",
    "    metrics=['accuracy'])"
   ]
  },
  {
   "cell_type": "markdown",
   "id": "67cf937d",
   "metadata": {
    "papermill": {
     "duration": 0.018595,
     "end_time": "2021-12-08T17:28:22.578457",
     "exception": false,
     "start_time": "2021-12-08T17:28:22.559862",
     "status": "completed"
    },
    "tags": []
   },
   "source": [
    "# **Model Fitting**"
   ]
  },
  {
   "cell_type": "code",
   "execution_count": 15,
   "id": "5b21000e",
   "metadata": {
    "execution": {
     "iopub.execute_input": "2021-12-08T17:28:22.621259Z",
     "iopub.status.busy": "2021-12-08T17:28:22.620384Z",
     "iopub.status.idle": "2021-12-08T17:49:51.708795Z",
     "shell.execute_reply": "2021-12-08T17:49:51.709416Z"
    },
    "papermill": {
     "duration": 1289.112482,
     "end_time": "2021-12-08T17:49:51.709673",
     "exception": false,
     "start_time": "2021-12-08T17:28:22.597191",
     "status": "completed"
    },
    "tags": []
   },
   "outputs": [
    {
     "name": "stderr",
     "output_type": "stream",
     "text": [
      "2021-12-08 17:28:31.567963: I tensorflow/compiler/mlir/mlir_graph_optimization_pass.cc:185] None of the MLIR Optimization Passes are enabled (registered 2)\n"
     ]
    },
    {
     "name": "stdout",
     "output_type": "stream",
     "text": [
      "Epoch 1/2\n"
     ]
    },
    {
     "name": "stderr",
     "output_type": "stream",
     "text": [
      "2021-12-08 17:28:42.346580: I tensorflow/stream_executor/cuda/cuda_dnn.cc:369] Loaded cuDNN version 8005\n",
      "2021-12-08 17:28:46.389636: W tensorflow/core/kernels/gpu_utils.cc:49] Failed to allocate memory for convolution redzone checking; skipping this check. This is benign and only means that we won't check cudnn for out-of-bounds reads and writes. This message will only be printed once.\n"
     ]
    },
    {
     "name": "stdout",
     "output_type": "stream",
     "text": [
      "65/65 [==============================] - 781s 12s/step - loss: 6.0650 - accuracy: 0.6969 - val_loss: 0.3173 - val_accuracy: 0.9379\n",
      "Epoch 2/2\n",
      "65/65 [==============================] - 499s 8s/step - loss: 0.5052 - accuracy: 0.7313 - val_loss: 0.2651 - val_accuracy: 0.9675\n"
     ]
    }
   ],
   "source": [
    "# fit() is used to train the model \n",
    "# len(training_set) is 32042/500 = 65\n",
    "# len(test_set) is 7958/500 = 16\n",
    "mod = model.fit(\n",
    "  training_set,\n",
    "  validation_data=test_set,\n",
    "  epochs=2,\n",
    "  steps_per_epoch=len(training_set),\n",
    "  validation_steps=len(test_set)\n",
    ")"
   ]
  },
  {
   "cell_type": "markdown",
   "id": "605f305f",
   "metadata": {
    "papermill": {
     "duration": 0.052507,
     "end_time": "2021-12-08T17:49:51.816697",
     "exception": false,
     "start_time": "2021-12-08T17:49:51.764190",
     "status": "completed"
    },
    "tags": []
   },
   "source": [
    "# **Model Saving**"
   ]
  },
  {
   "cell_type": "code",
   "execution_count": 16,
   "id": "740f74a1",
   "metadata": {
    "execution": {
     "iopub.execute_input": "2021-12-08T17:49:51.937917Z",
     "iopub.status.busy": "2021-12-08T17:49:51.926399Z",
     "iopub.status.idle": "2021-12-08T17:49:52.125646Z",
     "shell.execute_reply": "2021-12-08T17:49:52.126079Z"
    },
    "papermill": {
     "duration": 0.255846,
     "end_time": "2021-12-08T17:49:52.126256",
     "exception": false,
     "start_time": "2021-12-08T17:49:51.870410",
     "status": "completed"
    },
    "tags": []
   },
   "outputs": [
    {
     "data": {
      "text/plain": [
       "['32_0.10_100%']"
      ]
     },
     "execution_count": 16,
     "metadata": {},
     "output_type": "execute_result"
    }
   ],
   "source": [
    "# To save the particular model in .h5 format\n",
    "import tensorflow as tf\n",
    "from tensorflow.keras.models import load_model\n",
    "model.save('32_0.10_100%.h5')\n",
    "\n",
    "\n",
    "\n",
    "import joblib\n",
    "joblib.dump(mod.history,'32_0.10_100%')"
   ]
  }
 ],
 "metadata": {
  "kernelspec": {
   "display_name": "Python 3",
   "language": "python",
   "name": "python3"
  },
  "language_info": {
   "codemirror_mode": {
    "name": "ipython",
    "version": 3
   },
   "file_extension": ".py",
   "mimetype": "text/x-python",
   "name": "python",
   "nbconvert_exporter": "python",
   "pygments_lexer": "ipython3",
   "version": "3.7.12"
  },
  "papermill": {
   "default_parameters": {},
   "duration": 1343.889279,
   "end_time": "2021-12-08T17:49:54.945416",
   "environment_variables": {},
   "exception": null,
   "input_path": "__notebook__.ipynb",
   "output_path": "__notebook__.ipynb",
   "parameters": {},
   "start_time": "2021-12-08T17:27:31.056137",
   "version": "2.3.3"
  }
 },
 "nbformat": 4,
 "nbformat_minor": 5
}
