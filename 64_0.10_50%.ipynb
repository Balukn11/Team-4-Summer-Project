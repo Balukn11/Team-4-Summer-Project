{
 "cells": [
  {
   "cell_type": "code",
   "execution_count": 1,
   "id": "6c10c830",
   "metadata": {
    "execution": {
     "iopub.execute_input": "2021-12-14T05:24:22.902251Z",
     "iopub.status.busy": "2021-12-14T05:24:22.901383Z",
     "iopub.status.idle": "2021-12-14T05:24:22.904895Z",
     "shell.execute_reply": "2021-12-14T05:24:22.905386Z",
     "shell.execute_reply.started": "2021-12-07T04:08:41.197953Z"
    },
    "papermill": {
     "duration": 0.030125,
     "end_time": "2021-12-14T05:24:22.905684",
     "exception": false,
     "start_time": "2021-12-14T05:24:22.875559",
     "status": "completed"
    },
    "tags": []
   },
   "outputs": [],
   "source": [
    "img_size = [227,227] #List which stores the resolution\n",
    "main_train = '../input/mit-split-crack/50/Train' #Stores the path of the train directory\n",
    "main_test = '../input/mit-split-crack/50/Test' #Stores the path of the test directory"
   ]
  },
  {
   "cell_type": "markdown",
   "id": "5d37e84a",
   "metadata": {
    "papermill": {
     "duration": 0.013827,
     "end_time": "2021-12-14T05:24:22.935015",
     "exception": false,
     "start_time": "2021-12-14T05:24:22.921188",
     "status": "completed"
    },
    "tags": []
   },
   "source": [
    "#   Import Statements"
   ]
  },
  {
   "cell_type": "code",
   "execution_count": 2,
   "id": "6c0bb385",
   "metadata": {
    "execution": {
     "iopub.execute_input": "2021-12-14T05:24:22.993173Z",
     "iopub.status.busy": "2021-12-14T05:24:22.992148Z",
     "iopub.status.idle": "2021-12-14T05:24:28.056736Z",
     "shell.execute_reply": "2021-12-14T05:24:28.056051Z",
     "shell.execute_reply.started": "2021-12-07T04:08:41.205493Z"
    },
    "papermill": {
     "duration": 5.099459,
     "end_time": "2021-12-14T05:24:28.056902",
     "exception": false,
     "start_time": "2021-12-14T05:24:22.957443",
     "status": "completed"
    },
    "tags": []
   },
   "outputs": [],
   "source": [
    "from tensorflow.keras.layers import Input,Dense,Flatten,Dropout\n",
    "from tensorflow.keras.models import Model,Sequential\n",
    "from tensorflow.keras.applications.vgg16 import VGG16,preprocess_input\n",
    "from matplotlib import pyplot as plt\n",
    "import numpy as np\n",
    "from tensorflow.keras.preprocessing import image\n",
    "from tensorflow.keras.optimizers import Adam\n",
    "from tensorflow.keras.preprocessing.image import ImageDataGenerator"
   ]
  },
  {
   "cell_type": "markdown",
   "id": "b22212fd",
   "metadata": {
    "papermill": {
     "duration": 0.014923,
     "end_time": "2021-12-14T05:24:28.086612",
     "exception": false,
     "start_time": "2021-12-14T05:24:28.071689",
     "status": "completed"
    },
    "tags": []
   },
   "source": [
    "# VGG16 Model Building"
   ]
  },
  {
   "cell_type": "code",
   "execution_count": 3,
   "id": "680d01ba",
   "metadata": {
    "execution": {
     "iopub.execute_input": "2021-12-14T05:24:28.121133Z",
     "iopub.status.busy": "2021-12-14T05:24:28.120472Z",
     "iopub.status.idle": "2021-12-14T05:24:30.978309Z",
     "shell.execute_reply": "2021-12-14T05:24:30.977552Z",
     "shell.execute_reply.started": "2021-12-07T04:08:41.218227Z"
    },
    "papermill": {
     "duration": 2.877859,
     "end_time": "2021-12-14T05:24:30.978450",
     "exception": false,
     "start_time": "2021-12-14T05:24:28.100591",
     "status": "completed"
    },
    "tags": []
   },
   "outputs": [
    {
     "name": "stderr",
     "output_type": "stream",
     "text": [
      "2021-12-14 05:24:28.199919: I tensorflow/stream_executor/cuda/cuda_gpu_executor.cc:937] successful NUMA node read from SysFS had negative value (-1), but there must be at least one NUMA node, so returning NUMA node zero\n",
      "2021-12-14 05:24:28.281605: I tensorflow/stream_executor/cuda/cuda_gpu_executor.cc:937] successful NUMA node read from SysFS had negative value (-1), but there must be at least one NUMA node, so returning NUMA node zero\n",
      "2021-12-14 05:24:28.282341: I tensorflow/stream_executor/cuda/cuda_gpu_executor.cc:937] successful NUMA node read from SysFS had negative value (-1), but there must be at least one NUMA node, so returning NUMA node zero\n",
      "2021-12-14 05:24:28.283629: I tensorflow/core/platform/cpu_feature_guard.cc:142] This TensorFlow binary is optimized with oneAPI Deep Neural Network Library (oneDNN) to use the following CPU instructions in performance-critical operations:  AVX2 AVX512F FMA\n",
      "To enable them in other operations, rebuild TensorFlow with the appropriate compiler flags.\n",
      "2021-12-14 05:24:28.284699: I tensorflow/stream_executor/cuda/cuda_gpu_executor.cc:937] successful NUMA node read from SysFS had negative value (-1), but there must be at least one NUMA node, so returning NUMA node zero\n",
      "2021-12-14 05:24:28.285631: I tensorflow/stream_executor/cuda/cuda_gpu_executor.cc:937] successful NUMA node read from SysFS had negative value (-1), but there must be at least one NUMA node, so returning NUMA node zero\n",
      "2021-12-14 05:24:28.286499: I tensorflow/stream_executor/cuda/cuda_gpu_executor.cc:937] successful NUMA node read from SysFS had negative value (-1), but there must be at least one NUMA node, so returning NUMA node zero\n",
      "2021-12-14 05:24:29.863285: I tensorflow/stream_executor/cuda/cuda_gpu_executor.cc:937] successful NUMA node read from SysFS had negative value (-1), but there must be at least one NUMA node, so returning NUMA node zero\n",
      "2021-12-14 05:24:29.864202: I tensorflow/stream_executor/cuda/cuda_gpu_executor.cc:937] successful NUMA node read from SysFS had negative value (-1), but there must be at least one NUMA node, so returning NUMA node zero\n",
      "2021-12-14 05:24:29.864954: I tensorflow/stream_executor/cuda/cuda_gpu_executor.cc:937] successful NUMA node read from SysFS had negative value (-1), but there must be at least one NUMA node, so returning NUMA node zero\n",
      "2021-12-14 05:24:29.865629: I tensorflow/core/common_runtime/gpu/gpu_device.cc:1510] Created device /job:localhost/replica:0/task:0/device:GPU:0 with 15403 MB memory:  -> device: 0, name: Tesla P100-PCIE-16GB, pci bus id: 0000:00:04.0, compute capability: 6.0\n"
     ]
    },
    {
     "name": "stdout",
     "output_type": "stream",
     "text": [
      "Downloading data from https://storage.googleapis.com/tensorflow/keras-applications/vgg16/vgg16_weights_tf_dim_ordering_tf_kernels_notop.h5\n",
      "58892288/58889256 [==============================] - 0s 0us/step\n",
      "58900480/58889256 [==============================] - 0s 0us/step\n"
     ]
    }
   ],
   "source": [
    "vgg_model = VGG16(include_top=False,\n",
    "    weights=\"imagenet\",\n",
    "    input_shape=img_size + [3])\n",
    "\n",
    "# Loading the VGG16 pre trained model\n",
    "\n",
    "# include_top - this specifies whether the final layer before the output layer has to be include \n",
    "# or not. If included then there will be 1000 number of classes at the output.\n",
    "\n",
    "# Weights are trained using imagenet"
   ]
  },
  {
   "cell_type": "code",
   "execution_count": 4,
   "id": "124d1a31",
   "metadata": {
    "execution": {
     "iopub.execute_input": "2021-12-14T05:24:31.022582Z",
     "iopub.status.busy": "2021-12-14T05:24:31.021607Z",
     "iopub.status.idle": "2021-12-14T05:24:31.038275Z",
     "shell.execute_reply": "2021-12-14T05:24:31.037777Z",
     "shell.execute_reply.started": "2021-12-07T04:08:41.505497Z"
    },
    "papermill": {
     "duration": 0.039954,
     "end_time": "2021-12-14T05:24:31.038397",
     "exception": false,
     "start_time": "2021-12-14T05:24:30.998443",
     "status": "completed"
    },
    "tags": []
   },
   "outputs": [
    {
     "name": "stdout",
     "output_type": "stream",
     "text": [
      "Model: \"vgg16\"\n",
      "_________________________________________________________________\n",
      "Layer (type)                 Output Shape              Param #   \n",
      "=================================================================\n",
      "input_1 (InputLayer)         [(None, 227, 227, 3)]     0         \n",
      "_________________________________________________________________\n",
      "block1_conv1 (Conv2D)        (None, 227, 227, 64)      1792      \n",
      "_________________________________________________________________\n",
      "block1_conv2 (Conv2D)        (None, 227, 227, 64)      36928     \n",
      "_________________________________________________________________\n",
      "block1_pool (MaxPooling2D)   (None, 113, 113, 64)      0         \n",
      "_________________________________________________________________\n",
      "block2_conv1 (Conv2D)        (None, 113, 113, 128)     73856     \n",
      "_________________________________________________________________\n",
      "block2_conv2 (Conv2D)        (None, 113, 113, 128)     147584    \n",
      "_________________________________________________________________\n",
      "block2_pool (MaxPooling2D)   (None, 56, 56, 128)       0         \n",
      "_________________________________________________________________\n",
      "block3_conv1 (Conv2D)        (None, 56, 56, 256)       295168    \n",
      "_________________________________________________________________\n",
      "block3_conv2 (Conv2D)        (None, 56, 56, 256)       590080    \n",
      "_________________________________________________________________\n",
      "block3_conv3 (Conv2D)        (None, 56, 56, 256)       590080    \n",
      "_________________________________________________________________\n",
      "block3_pool (MaxPooling2D)   (None, 28, 28, 256)       0         \n",
      "_________________________________________________________________\n",
      "block4_conv1 (Conv2D)        (None, 28, 28, 512)       1180160   \n",
      "_________________________________________________________________\n",
      "block4_conv2 (Conv2D)        (None, 28, 28, 512)       2359808   \n",
      "_________________________________________________________________\n",
      "block4_conv3 (Conv2D)        (None, 28, 28, 512)       2359808   \n",
      "_________________________________________________________________\n",
      "block4_pool (MaxPooling2D)   (None, 14, 14, 512)       0         \n",
      "_________________________________________________________________\n",
      "block5_conv1 (Conv2D)        (None, 14, 14, 512)       2359808   \n",
      "_________________________________________________________________\n",
      "block5_conv2 (Conv2D)        (None, 14, 14, 512)       2359808   \n",
      "_________________________________________________________________\n",
      "block5_conv3 (Conv2D)        (None, 14, 14, 512)       2359808   \n",
      "_________________________________________________________________\n",
      "block5_pool (MaxPooling2D)   (None, 7, 7, 512)         0         \n",
      "=================================================================\n",
      "Total params: 14,714,688\n",
      "Trainable params: 14,714,688\n",
      "Non-trainable params: 0\n",
      "_________________________________________________________________\n"
     ]
    }
   ],
   "source": [
    "# To print the hidden layer summary of vgg model without top layer\n",
    "vgg_model.summary()"
   ]
  },
  {
   "cell_type": "code",
   "execution_count": 5,
   "id": "20e8f121",
   "metadata": {
    "execution": {
     "iopub.execute_input": "2021-12-14T05:24:31.081469Z",
     "iopub.status.busy": "2021-12-14T05:24:31.080586Z",
     "iopub.status.idle": "2021-12-14T05:24:31.082447Z",
     "shell.execute_reply": "2021-12-14T05:24:31.082999Z",
     "shell.execute_reply.started": "2021-12-07T04:08:41.527902Z"
    },
    "papermill": {
     "duration": 0.025628,
     "end_time": "2021-12-14T05:24:31.083133",
     "exception": false,
     "start_time": "2021-12-14T05:24:31.057505",
     "status": "completed"
    },
    "tags": []
   },
   "outputs": [],
   "source": [
    "# To fix the weights of the pre trained model\n",
    "for lay in vgg_model.layers:\n",
    "    lay.trainable = False"
   ]
  },
  {
   "cell_type": "code",
   "execution_count": 6,
   "id": "da776c42",
   "metadata": {
    "execution": {
     "iopub.execute_input": "2021-12-14T05:24:31.124009Z",
     "iopub.status.busy": "2021-12-14T05:24:31.123166Z",
     "iopub.status.idle": "2021-12-14T05:24:31.136802Z",
     "shell.execute_reply": "2021-12-14T05:24:31.136312Z",
     "shell.execute_reply.started": "2021-12-07T04:08:41.533529Z"
    },
    "papermill": {
     "duration": 0.035529,
     "end_time": "2021-12-14T05:24:31.136918",
     "exception": false,
     "start_time": "2021-12-14T05:24:31.101389",
     "status": "completed"
    },
    "tags": []
   },
   "outputs": [
    {
     "name": "stdout",
     "output_type": "stream",
     "text": [
      "Model: \"vgg16\"\n",
      "_________________________________________________________________\n",
      "Layer (type)                 Output Shape              Param #   \n",
      "=================================================================\n",
      "input_1 (InputLayer)         [(None, 227, 227, 3)]     0         \n",
      "_________________________________________________________________\n",
      "block1_conv1 (Conv2D)        (None, 227, 227, 64)      1792      \n",
      "_________________________________________________________________\n",
      "block1_conv2 (Conv2D)        (None, 227, 227, 64)      36928     \n",
      "_________________________________________________________________\n",
      "block1_pool (MaxPooling2D)   (None, 113, 113, 64)      0         \n",
      "_________________________________________________________________\n",
      "block2_conv1 (Conv2D)        (None, 113, 113, 128)     73856     \n",
      "_________________________________________________________________\n",
      "block2_conv2 (Conv2D)        (None, 113, 113, 128)     147584    \n",
      "_________________________________________________________________\n",
      "block2_pool (MaxPooling2D)   (None, 56, 56, 128)       0         \n",
      "_________________________________________________________________\n",
      "block3_conv1 (Conv2D)        (None, 56, 56, 256)       295168    \n",
      "_________________________________________________________________\n",
      "block3_conv2 (Conv2D)        (None, 56, 56, 256)       590080    \n",
      "_________________________________________________________________\n",
      "block3_conv3 (Conv2D)        (None, 56, 56, 256)       590080    \n",
      "_________________________________________________________________\n",
      "block3_pool (MaxPooling2D)   (None, 28, 28, 256)       0         \n",
      "_________________________________________________________________\n",
      "block4_conv1 (Conv2D)        (None, 28, 28, 512)       1180160   \n",
      "_________________________________________________________________\n",
      "block4_conv2 (Conv2D)        (None, 28, 28, 512)       2359808   \n",
      "_________________________________________________________________\n",
      "block4_conv3 (Conv2D)        (None, 28, 28, 512)       2359808   \n",
      "_________________________________________________________________\n",
      "block4_pool (MaxPooling2D)   (None, 14, 14, 512)       0         \n",
      "_________________________________________________________________\n",
      "block5_conv1 (Conv2D)        (None, 14, 14, 512)       2359808   \n",
      "_________________________________________________________________\n",
      "block5_conv2 (Conv2D)        (None, 14, 14, 512)       2359808   \n",
      "_________________________________________________________________\n",
      "block5_conv3 (Conv2D)        (None, 14, 14, 512)       2359808   \n",
      "_________________________________________________________________\n",
      "block5_pool (MaxPooling2D)   (None, 7, 7, 512)         0         \n",
      "=================================================================\n",
      "Total params: 14,714,688\n",
      "Trainable params: 0\n",
      "Non-trainable params: 14,714,688\n",
      "_________________________________________________________________\n"
     ]
    }
   ],
   "source": [
    "vgg_model.summary()"
   ]
  },
  {
   "cell_type": "code",
   "execution_count": 7,
   "id": "ebb0f4d7",
   "metadata": {
    "execution": {
     "iopub.execute_input": "2021-12-14T05:24:31.177377Z",
     "iopub.status.busy": "2021-12-14T05:24:31.176857Z",
     "iopub.status.idle": "2021-12-14T05:24:31.211950Z",
     "shell.execute_reply": "2021-12-14T05:24:31.211375Z",
     "shell.execute_reply.started": "2021-12-07T04:08:41.552395Z"
    },
    "papermill": {
     "duration": 0.056811,
     "end_time": "2021-12-14T05:24:31.212095",
     "exception": false,
     "start_time": "2021-12-14T05:24:31.155284",
     "status": "completed"
    },
    "tags": []
   },
   "outputs": [
    {
     "name": "stdout",
     "output_type": "stream",
     "text": [
      "2\n",
      "2\n"
     ]
    }
   ],
   "source": [
    "# to list out number of folders in train and test folder\n",
    "import os\n",
    "folders_train1 = os.listdir(main_train)\n",
    "print(len(folders_train1))\n",
    "\n",
    "folders_test1 = os.listdir(main_test)\n",
    "print(len(folders_test1))"
   ]
  },
  {
   "cell_type": "code",
   "execution_count": 8,
   "id": "b0438e19",
   "metadata": {
    "execution": {
     "iopub.execute_input": "2021-12-14T05:24:31.253672Z",
     "iopub.status.busy": "2021-12-14T05:24:31.252972Z",
     "iopub.status.idle": "2021-12-14T05:24:31.256111Z",
     "shell.execute_reply": "2021-12-14T05:24:31.256500Z",
     "shell.execute_reply.started": "2021-12-07T04:08:41.571715Z"
    },
    "papermill": {
     "duration": 0.026427,
     "end_time": "2021-12-14T05:24:31.256647",
     "exception": false,
     "start_time": "2021-12-14T05:24:31.230220",
     "status": "completed"
    },
    "tags": []
   },
   "outputs": [
    {
     "data": {
      "text/plain": [
       "<KerasTensor: shape=(None, 7, 7, 512) dtype=float32 (created by layer 'block5_pool')>"
      ]
     },
     "execution_count": 8,
     "metadata": {},
     "output_type": "execute_result"
    }
   ],
   "source": [
    "#outputs the last layer\n",
    "vgg_model.output"
   ]
  },
  {
   "cell_type": "code",
   "execution_count": 9,
   "id": "e7a99884",
   "metadata": {
    "execution": {
     "iopub.execute_input": "2021-12-14T05:24:31.296241Z",
     "iopub.status.busy": "2021-12-14T05:24:31.295513Z",
     "iopub.status.idle": "2021-12-14T05:24:31.298353Z",
     "shell.execute_reply": "2021-12-14T05:24:31.298781Z",
     "shell.execute_reply.started": "2021-12-07T04:08:41.580796Z"
    },
    "papermill": {
     "duration": 0.024946,
     "end_time": "2021-12-14T05:24:31.298905",
     "exception": false,
     "start_time": "2021-12-14T05:24:31.273959",
     "status": "completed"
    },
    "tags": []
   },
   "outputs": [
    {
     "data": {
      "text/plain": [
       "<KerasTensor: shape=(None, 227, 227, 3) dtype=float32 (created by layer 'input_1')>"
      ]
     },
     "execution_count": 9,
     "metadata": {},
     "output_type": "execute_result"
    }
   ],
   "source": [
    "#inputs of the layer\n",
    "vgg_model.input"
   ]
  },
  {
   "cell_type": "code",
   "execution_count": 10,
   "id": "d236c788",
   "metadata": {
    "execution": {
     "iopub.execute_input": "2021-12-14T05:24:31.341492Z",
     "iopub.status.busy": "2021-12-14T05:24:31.340645Z",
     "iopub.status.idle": "2021-12-14T05:24:31.379860Z",
     "shell.execute_reply": "2021-12-14T05:24:31.379340Z",
     "shell.execute_reply.started": "2021-12-07T04:08:41.591857Z"
    },
    "papermill": {
     "duration": 0.0632,
     "end_time": "2021-12-14T05:24:31.379979",
     "exception": false,
     "start_time": "2021-12-14T05:24:31.316779",
     "status": "completed"
    },
    "tags": []
   },
   "outputs": [
    {
     "name": "stdout",
     "output_type": "stream",
     "text": [
      "Model: \"model\"\n",
      "_________________________________________________________________\n",
      "Layer (type)                 Output Shape              Param #   \n",
      "=================================================================\n",
      "input_1 (InputLayer)         [(None, 227, 227, 3)]     0         \n",
      "_________________________________________________________________\n",
      "block1_conv1 (Conv2D)        (None, 227, 227, 64)      1792      \n",
      "_________________________________________________________________\n",
      "block1_conv2 (Conv2D)        (None, 227, 227, 64)      36928     \n",
      "_________________________________________________________________\n",
      "block1_pool (MaxPooling2D)   (None, 113, 113, 64)      0         \n",
      "_________________________________________________________________\n",
      "block2_conv1 (Conv2D)        (None, 113, 113, 128)     73856     \n",
      "_________________________________________________________________\n",
      "block2_conv2 (Conv2D)        (None, 113, 113, 128)     147584    \n",
      "_________________________________________________________________\n",
      "block2_pool (MaxPooling2D)   (None, 56, 56, 128)       0         \n",
      "_________________________________________________________________\n",
      "block3_conv1 (Conv2D)        (None, 56, 56, 256)       295168    \n",
      "_________________________________________________________________\n",
      "block3_conv2 (Conv2D)        (None, 56, 56, 256)       590080    \n",
      "_________________________________________________________________\n",
      "block3_conv3 (Conv2D)        (None, 56, 56, 256)       590080    \n",
      "_________________________________________________________________\n",
      "block3_pool (MaxPooling2D)   (None, 28, 28, 256)       0         \n",
      "_________________________________________________________________\n",
      "block4_conv1 (Conv2D)        (None, 28, 28, 512)       1180160   \n",
      "_________________________________________________________________\n",
      "block4_conv2 (Conv2D)        (None, 28, 28, 512)       2359808   \n",
      "_________________________________________________________________\n",
      "block4_conv3 (Conv2D)        (None, 28, 28, 512)       2359808   \n",
      "_________________________________________________________________\n",
      "block4_pool (MaxPooling2D)   (None, 14, 14, 512)       0         \n",
      "_________________________________________________________________\n",
      "block5_conv1 (Conv2D)        (None, 14, 14, 512)       2359808   \n",
      "_________________________________________________________________\n",
      "block5_conv2 (Conv2D)        (None, 14, 14, 512)       2359808   \n",
      "_________________________________________________________________\n",
      "block5_conv3 (Conv2D)        (None, 14, 14, 512)       2359808   \n",
      "_________________________________________________________________\n",
      "block5_pool (MaxPooling2D)   (None, 7, 7, 512)         0         \n",
      "_________________________________________________________________\n",
      "first_flatten (Flatten)      (None, 25088)             0         \n",
      "_________________________________________________________________\n",
      "dense (Dense)                (None, 64)                1605696   \n",
      "_________________________________________________________________\n",
      "dropout (Dropout)            (None, 64)                0         \n",
      "_________________________________________________________________\n",
      "dense_1 (Dense)              (None, 2)                 130       \n",
      "=================================================================\n",
      "Total params: 16,320,514\n",
      "Trainable params: 1,605,826\n",
      "Non-trainable params: 14,714,688\n",
      "_________________________________________________________________\n"
     ]
    }
   ],
   "source": [
    "# Flatten() is used to convert the last layer to vector or as fully connected\n",
    "x = Flatten(name=\"first_flatten\")(vgg_model.output)\n",
    "# Dense() is a fully connected layer and produces 128 outputs.\n",
    "# relu layer is used to convert the negative nubers to 0 and retains +ve as such.\n",
    "pred = Dense(64, activation=\"relu\")(x)\n",
    "#Dropout() layer is used to randomly remove 50% of the networks.\n",
    "pred = Dropout(0.5)(pred)\n",
    "# Dense() layer is added such that it outputs only two classess \n",
    "# Softmax activation layer produces probabilities for different classess.\n",
    "pred = Dense(2,activation='softmax')(pred)\n",
    "# Model() is used to group layers\n",
    "model = Model(inputs=vgg_model.input,outputs=pred)\n",
    "model.summary()"
   ]
  },
  {
   "cell_type": "markdown",
   "id": "02b5e49a",
   "metadata": {
    "papermill": {
     "duration": 0.019303,
     "end_time": "2021-12-14T05:24:31.417916",
     "exception": false,
     "start_time": "2021-12-14T05:24:31.398613",
     "status": "completed"
    },
    "tags": []
   },
   "source": [
    "# Image Augmentation"
   ]
  },
  {
   "cell_type": "code",
   "execution_count": 11,
   "id": "412b431c",
   "metadata": {
    "execution": {
     "iopub.execute_input": "2021-12-14T05:24:31.466360Z",
     "iopub.status.busy": "2021-12-14T05:24:31.465576Z",
     "iopub.status.idle": "2021-12-14T05:24:55.069337Z",
     "shell.execute_reply": "2021-12-14T05:24:55.069823Z",
     "shell.execute_reply.started": "2021-12-07T04:08:41.638604Z"
    },
    "papermill": {
     "duration": 23.632535,
     "end_time": "2021-12-14T05:24:55.070000",
     "exception": false,
     "start_time": "2021-12-14T05:24:31.437465",
     "status": "completed"
    },
    "tags": []
   },
   "outputs": [
    {
     "name": "stdout",
     "output_type": "stream",
     "text": [
      "Found 15904 images belonging to 2 classes.\n",
      "Found 3958 images belonging to 2 classes.\n"
     ]
    }
   ],
   "source": [
    "#ImageDataGenerator is used to modify the train and test images w.r.t the properties mentioned\n",
    "train_datagen = ImageDataGenerator(rescale = 1/255.0,\n",
    "                                   shear_range = 0.2,\n",
    "                                   zoom_range = 0.2,\n",
    "                                   rotation_range=20,\n",
    "                                   width_shift_range=0.2, \n",
    "                                   height_shift_range=0.2,\n",
    "                                   horizontal_flip = True)\n",
    "\n",
    "test_datagen = ImageDataGenerator(rescale = 1/255.0,\n",
    "                                   shear_range = 0.2,\n",
    "                                   zoom_range = 0.2,\n",
    "                                   rotation_range=20,\n",
    "                                   width_shift_range=0.2, \n",
    "                                   height_shift_range=0.2,\n",
    "                                   horizontal_flip = True)\n",
    "\n",
    "# flow_from_directory() is used to convert all the images in the specific directory\n",
    "training_set = train_datagen.flow_from_directory(directory = main_train,\n",
    "                                                 target_size = (227,227),\n",
    "                                                 batch_size = 500,\n",
    "                                                 )                                                                                                                                                                                                                                                                                                                                                                                                                                                                                                                                                                                                                                                                                                                                                                                                                                                                                                                                                                                                                                                                                                                                                                                                                                                                                                                                                                                                                                                                                                                                                                                                                                                                                                                                                                                                                                                                                                                                                                                                                                                                                                                                                                                                                                                                                                                                                                                                                   \n",
    "\n",
    "test_set = test_datagen.flow_from_directory(directory = main_test,\n",
    "                                                 target_size = (227,227),\n",
    "                                                 batch_size = 500,\n",
    "                                                 )"
   ]
  },
  {
   "cell_type": "code",
   "execution_count": 12,
   "id": "485f6d0e",
   "metadata": {
    "execution": {
     "iopub.execute_input": "2021-12-14T05:24:55.113952Z",
     "iopub.status.busy": "2021-12-14T05:24:55.112371Z",
     "iopub.status.idle": "2021-12-14T05:24:55.117142Z",
     "shell.execute_reply": "2021-12-14T05:24:55.116743Z",
     "shell.execute_reply.started": "2021-12-07T04:08:54.376878Z"
    },
    "papermill": {
     "duration": 0.02713,
     "end_time": "2021-12-14T05:24:55.117248",
     "exception": false,
     "start_time": "2021-12-14T05:24:55.090118",
     "status": "completed"
    },
    "tags": []
   },
   "outputs": [
    {
     "data": {
      "text/plain": [
       "{'Negative': 0, 'Positive': 1}"
      ]
     },
     "execution_count": 12,
     "metadata": {},
     "output_type": "execute_result"
    }
   ],
   "source": [
    "# Class_indices will display the respective class value\n",
    "training_set.class_indices\n"
   ]
  },
  {
   "cell_type": "code",
   "execution_count": 13,
   "id": "fd465259",
   "metadata": {
    "execution": {
     "iopub.execute_input": "2021-12-14T05:24:55.159274Z",
     "iopub.status.busy": "2021-12-14T05:24:55.158790Z",
     "iopub.status.idle": "2021-12-14T05:24:55.163421Z",
     "shell.execute_reply": "2021-12-14T05:24:55.163866Z",
     "shell.execute_reply.started": "2021-12-07T04:08:54.385164Z"
    },
    "papermill": {
     "duration": 0.027579,
     "end_time": "2021-12-14T05:24:55.163991",
     "exception": false,
     "start_time": "2021-12-14T05:24:55.136412",
     "status": "completed"
    },
    "tags": []
   },
   "outputs": [
    {
     "name": "stdout",
     "output_type": "stream",
     "text": [
      "32\n",
      "8\n"
     ]
    }
   ],
   "source": [
    "# To check no.of folders in each\n",
    "print(len(training_set))\n",
    "print(len(test_set))"
   ]
  },
  {
   "cell_type": "markdown",
   "id": "5bc9198e",
   "metadata": {
    "papermill": {
     "duration": 0.01892,
     "end_time": "2021-12-14T05:24:55.201998",
     "exception": false,
     "start_time": "2021-12-14T05:24:55.183078",
     "status": "completed"
    },
    "tags": []
   },
   "source": [
    "# Model Fitting"
   ]
  },
  {
   "cell_type": "code",
   "execution_count": 14,
   "id": "3a6169dd",
   "metadata": {
    "execution": {
     "iopub.execute_input": "2021-12-14T05:24:55.250334Z",
     "iopub.status.busy": "2021-12-14T05:24:55.248705Z",
     "iopub.status.idle": "2021-12-14T05:24:55.256510Z",
     "shell.execute_reply": "2021-12-14T05:24:55.256101Z",
     "shell.execute_reply.started": "2021-12-07T04:08:54.402271Z"
    },
    "papermill": {
     "duration": 0.034631,
     "end_time": "2021-12-14T05:24:55.256646",
     "exception": false,
     "start_time": "2021-12-14T05:24:55.222015",
     "status": "completed"
    },
    "tags": []
   },
   "outputs": [],
   "source": [
    "# Loss function is used to find the errors or deviations in learning process\n",
    "# Optimizer is used to optimize the input weights\n",
    "# Metrics is used to measure the performance\n",
    "model.compile(optimizer=Adam(learning_rate=0.10),\n",
    "    loss=\"binary_crossentropy\",\n",
    "    metrics=['accuracy'])"
   ]
  },
  {
   "cell_type": "code",
   "execution_count": 15,
   "id": "91dab7b2",
   "metadata": {
    "execution": {
     "iopub.execute_input": "2021-12-14T05:24:55.300310Z",
     "iopub.status.busy": "2021-12-14T05:24:55.299436Z",
     "iopub.status.idle": "2021-12-14T05:38:50.070706Z",
     "shell.execute_reply": "2021-12-14T05:38:50.069669Z"
    },
    "papermill": {
     "duration": 834.7952,
     "end_time": "2021-12-14T05:38:50.070870",
     "exception": false,
     "start_time": "2021-12-14T05:24:55.275670",
     "status": "completed"
    },
    "tags": []
   },
   "outputs": [
    {
     "name": "stderr",
     "output_type": "stream",
     "text": [
      "2021-12-14 05:25:05.581374: I tensorflow/compiler/mlir/mlir_graph_optimization_pass.cc:185] None of the MLIR Optimization Passes are enabled (registered 2)\n"
     ]
    },
    {
     "name": "stdout",
     "output_type": "stream",
     "text": [
      "Epoch 1/2\n"
     ]
    },
    {
     "name": "stderr",
     "output_type": "stream",
     "text": [
      "2021-12-14 05:25:16.818646: I tensorflow/stream_executor/cuda/cuda_dnn.cc:369] Loaded cuDNN version 8005\n",
      "2021-12-14 05:25:20.839834: W tensorflow/core/kernels/gpu_utils.cc:49] Failed to allocate memory for convolution redzone checking; skipping this check. This is benign and only means that we won't check cudnn for out-of-bounds reads and writes. This message will only be printed once.\n"
     ]
    },
    {
     "name": "stdout",
     "output_type": "stream",
     "text": [
      "32/32 [==============================] - 474s 14s/step - loss: 15.4541 - accuracy: 0.5026 - val_loss: 0.6934 - val_accuracy: 0.4957\n",
      "Epoch 2/2\n",
      "32/32 [==============================] - 266s 8s/step - loss: 1.3497 - accuracy: 0.4926 - val_loss: 0.6934 - val_accuracy: 0.4957\n"
     ]
    }
   ],
   "source": [
    "# fit() is used to train the model \n",
    "# len(training_set) is 32042/500 = 65\n",
    "# len(test_set) is 7958/500 = 16\n",
    "mod = model.fit(\n",
    "  training_set,\n",
    "  validation_data=test_set,\n",
    "  epochs=2,\n",
    "  steps_per_epoch=len(training_set),\n",
    "  validation_steps=len(test_set)\n",
    ")"
   ]
  },
  {
   "cell_type": "code",
   "execution_count": 16,
   "id": "89a6a593",
   "metadata": {
    "execution": {
     "iopub.execute_input": "2021-12-14T05:38:50.162736Z",
     "iopub.status.busy": "2021-12-14T05:38:50.161921Z",
     "iopub.status.idle": "2021-12-14T05:38:50.370222Z",
     "shell.execute_reply": "2021-12-14T05:38:50.369764Z"
    },
    "papermill": {
     "duration": 0.259915,
     "end_time": "2021-12-14T05:38:50.370348",
     "exception": false,
     "start_time": "2021-12-14T05:38:50.110433",
     "status": "completed"
    },
    "tags": []
   },
   "outputs": [
    {
     "data": {
      "text/plain": [
       "['64_0.10_50%']"
      ]
     },
     "execution_count": 16,
     "metadata": {},
     "output_type": "execute_result"
    }
   ],
   "source": [
    "# To save the particular model in .h5 format\n",
    "import tensorflow as tf\n",
    "from tensorflow.keras.models import load_model\n",
    "model.save('64_0.10_25%.h5')\n",
    "\n",
    "\n",
    "\n",
    "import joblib\n",
    "joblib.dump(mod.history,'64_0.10_50%')"
   ]
  }
 ],
 "metadata": {
  "kernelspec": {
   "display_name": "Python 3",
   "language": "python",
   "name": "python3"
  },
  "language_info": {
   "codemirror_mode": {
    "name": "ipython",
    "version": 3
   },
   "file_extension": ".py",
   "mimetype": "text/x-python",
   "name": "python",
   "nbconvert_exporter": "python",
   "pygments_lexer": "ipython3",
   "version": "3.7.12"
  },
  "papermill": {
   "default_parameters": {},
   "duration": 879.878983,
   "end_time": "2021-12-14T05:38:54.054063",
   "environment_variables": {},
   "exception": null,
   "input_path": "__notebook__.ipynb",
   "output_path": "__notebook__.ipynb",
   "parameters": {},
   "start_time": "2021-12-14T05:24:14.175080",
   "version": "2.3.3"
  }
 },
 "nbformat": 4,
 "nbformat_minor": 5
}
