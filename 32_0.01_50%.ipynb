{
 "cells": [
  {
   "cell_type": "code",
   "execution_count": 1,
   "id": "cad05ced",
   "metadata": {
    "_cell_guid": "b1076dfc-b9ad-4769-8c92-a6c4dae69d19",
    "_uuid": "8f2839f25d086af736a60e9eeb907d3b93b6e0e5",
    "execution": {
     "iopub.execute_input": "2021-12-07T04:15:00.827870Z",
     "iopub.status.busy": "2021-12-07T04:15:00.827021Z",
     "iopub.status.idle": "2021-12-07T04:15:00.830669Z",
     "shell.execute_reply": "2021-12-07T04:15:00.830179Z",
     "shell.execute_reply.started": "2021-12-07T03:39:32.170643Z"
    },
    "papermill": {
     "duration": 0.026974,
     "end_time": "2021-12-07T04:15:00.830796",
     "exception": false,
     "start_time": "2021-12-07T04:15:00.803822",
     "status": "completed"
    },
    "tags": []
   },
   "outputs": [],
   "source": [
    "img_size = [227,227] #List which stores the resolution\n",
    "main_train = '../input/mit-split-crack/50/Train' #Stores the path of the train directory\n",
    "main_test = '../input/mit-split-crack/50/Test' #Stores the path of the test directory"
   ]
  },
  {
   "cell_type": "markdown",
   "id": "5d3fa2d3",
   "metadata": {
    "papermill": {
     "duration": 0.013457,
     "end_time": "2021-12-07T04:15:00.858489",
     "exception": false,
     "start_time": "2021-12-07T04:15:00.845032",
     "status": "completed"
    },
    "tags": []
   },
   "source": [
    "# **Import Statements**"
   ]
  },
  {
   "cell_type": "code",
   "execution_count": 2,
   "id": "33d3b5b6",
   "metadata": {
    "execution": {
     "iopub.execute_input": "2021-12-07T04:15:00.890019Z",
     "iopub.status.busy": "2021-12-07T04:15:00.889343Z",
     "iopub.status.idle": "2021-12-07T04:15:05.917652Z",
     "shell.execute_reply": "2021-12-07T04:15:05.917131Z",
     "shell.execute_reply.started": "2021-12-07T03:40:10.718234Z"
    },
    "papermill": {
     "duration": 5.046057,
     "end_time": "2021-12-07T04:15:05.917788",
     "exception": false,
     "start_time": "2021-12-07T04:15:00.871731",
     "status": "completed"
    },
    "tags": []
   },
   "outputs": [],
   "source": [
    "from tensorflow.keras.layers import Input,Dense,Flatten,Dropout\n",
    "from tensorflow.keras.models import Model,Sequential\n",
    "from tensorflow.keras.applications.vgg16 import VGG16,preprocess_input\n",
    "from matplotlib import pyplot as plt\n",
    "import numpy as np\n",
    "from tensorflow.keras.preprocessing import image\n",
    "from tensorflow.keras.optimizers import Adam\n",
    "from tensorflow.keras.preprocessing.image import ImageDataGenerator"
   ]
  },
  {
   "cell_type": "markdown",
   "id": "b4189d6e",
   "metadata": {
    "papermill": {
     "duration": 0.01404,
     "end_time": "2021-12-07T04:15:05.945159",
     "exception": false,
     "start_time": "2021-12-07T04:15:05.931119",
     "status": "completed"
    },
    "tags": []
   },
   "source": [
    "# **VGG16 Model Building**"
   ]
  },
  {
   "cell_type": "code",
   "execution_count": 3,
   "id": "b1f8c589",
   "metadata": {
    "execution": {
     "iopub.execute_input": "2021-12-07T04:15:05.976206Z",
     "iopub.status.busy": "2021-12-07T04:15:05.975588Z",
     "iopub.status.idle": "2021-12-07T04:15:09.007369Z",
     "shell.execute_reply": "2021-12-07T04:15:09.008549Z",
     "shell.execute_reply.started": "2021-12-07T03:49:10.183481Z"
    },
    "papermill": {
     "duration": 3.051258,
     "end_time": "2021-12-07T04:15:09.008759",
     "exception": false,
     "start_time": "2021-12-07T04:15:05.957501",
     "status": "completed"
    },
    "tags": []
   },
   "outputs": [
    {
     "name": "stderr",
     "output_type": "stream",
     "text": [
      "2021-12-07 04:15:06.062344: I tensorflow/stream_executor/cuda/cuda_gpu_executor.cc:937] successful NUMA node read from SysFS had negative value (-1), but there must be at least one NUMA node, so returning NUMA node zero\n",
      "2021-12-07 04:15:06.156987: I tensorflow/stream_executor/cuda/cuda_gpu_executor.cc:937] successful NUMA node read from SysFS had negative value (-1), but there must be at least one NUMA node, so returning NUMA node zero\n",
      "2021-12-07 04:15:06.157670: I tensorflow/stream_executor/cuda/cuda_gpu_executor.cc:937] successful NUMA node read from SysFS had negative value (-1), but there must be at least one NUMA node, so returning NUMA node zero\n",
      "2021-12-07 04:15:06.158762: I tensorflow/core/platform/cpu_feature_guard.cc:142] This TensorFlow binary is optimized with oneAPI Deep Neural Network Library (oneDNN) to use the following CPU instructions in performance-critical operations:  AVX2 AVX512F FMA\n",
      "To enable them in other operations, rebuild TensorFlow with the appropriate compiler flags.\n",
      "2021-12-07 04:15:06.160033: I tensorflow/stream_executor/cuda/cuda_gpu_executor.cc:937] successful NUMA node read from SysFS had negative value (-1), but there must be at least one NUMA node, so returning NUMA node zero\n",
      "2021-12-07 04:15:06.160776: I tensorflow/stream_executor/cuda/cuda_gpu_executor.cc:937] successful NUMA node read from SysFS had negative value (-1), but there must be at least one NUMA node, so returning NUMA node zero\n",
      "2021-12-07 04:15:06.161423: I tensorflow/stream_executor/cuda/cuda_gpu_executor.cc:937] successful NUMA node read from SysFS had negative value (-1), but there must be at least one NUMA node, so returning NUMA node zero\n",
      "2021-12-07 04:15:07.918296: I tensorflow/stream_executor/cuda/cuda_gpu_executor.cc:937] successful NUMA node read from SysFS had negative value (-1), but there must be at least one NUMA node, so returning NUMA node zero\n",
      "2021-12-07 04:15:07.919056: I tensorflow/stream_executor/cuda/cuda_gpu_executor.cc:937] successful NUMA node read from SysFS had negative value (-1), but there must be at least one NUMA node, so returning NUMA node zero\n",
      "2021-12-07 04:15:07.919855: I tensorflow/stream_executor/cuda/cuda_gpu_executor.cc:937] successful NUMA node read from SysFS had negative value (-1), but there must be at least one NUMA node, so returning NUMA node zero\n",
      "2021-12-07 04:15:07.920588: I tensorflow/core/common_runtime/gpu/gpu_device.cc:1510] Created device /job:localhost/replica:0/task:0/device:GPU:0 with 15403 MB memory:  -> device: 0, name: Tesla P100-PCIE-16GB, pci bus id: 0000:00:04.0, compute capability: 6.0\n"
     ]
    },
    {
     "name": "stdout",
     "output_type": "stream",
     "text": [
      "Downloading data from https://storage.googleapis.com/tensorflow/keras-applications/vgg16/vgg16_weights_tf_dim_ordering_tf_kernels_notop.h5\n",
      "58892288/58889256 [==============================] - 0s 0us/step\n",
      "58900480/58889256 [==============================] - 0s 0us/step\n"
     ]
    }
   ],
   "source": [
    "vgg_model = VGG16(include_top=False,\n",
    "    weights=\"imagenet\",\n",
    "    input_shape=img_size + [3])\n",
    "\n",
    "# Loading the VGG16 pre trained model\n",
    "\n",
    "# include_top - this specifies whether the final layer before the output layer has to be include \n",
    "# or not. If included then there will be 1000 number of classes at the output.\n",
    "\n",
    "# Weights are trained using imagenet"
   ]
  },
  {
   "cell_type": "code",
   "execution_count": 4,
   "id": "2db13ee2",
   "metadata": {
    "execution": {
     "iopub.execute_input": "2021-12-07T04:15:09.070719Z",
     "iopub.status.busy": "2021-12-07T04:15:09.069953Z",
     "iopub.status.idle": "2021-12-07T04:15:09.080924Z",
     "shell.execute_reply": "2021-12-07T04:15:09.081510Z",
     "shell.execute_reply.started": "2021-12-07T03:49:35.309944Z"
    },
    "papermill": {
     "duration": 0.046438,
     "end_time": "2021-12-07T04:15:09.081691",
     "exception": false,
     "start_time": "2021-12-07T04:15:09.035253",
     "status": "completed"
    },
    "tags": []
   },
   "outputs": [
    {
     "name": "stdout",
     "output_type": "stream",
     "text": [
      "Model: \"vgg16\"\n",
      "_________________________________________________________________\n",
      "Layer (type)                 Output Shape              Param #   \n",
      "=================================================================\n",
      "input_1 (InputLayer)         [(None, 227, 227, 3)]     0         \n",
      "_________________________________________________________________\n",
      "block1_conv1 (Conv2D)        (None, 227, 227, 64)      1792      \n",
      "_________________________________________________________________\n",
      "block1_conv2 (Conv2D)        (None, 227, 227, 64)      36928     \n",
      "_________________________________________________________________\n",
      "block1_pool (MaxPooling2D)   (None, 113, 113, 64)      0         \n",
      "_________________________________________________________________\n",
      "block2_conv1 (Conv2D)        (None, 113, 113, 128)     73856     \n",
      "_________________________________________________________________\n",
      "block2_conv2 (Conv2D)        (None, 113, 113, 128)     147584    \n",
      "_________________________________________________________________\n",
      "block2_pool (MaxPooling2D)   (None, 56, 56, 128)       0         \n",
      "_________________________________________________________________\n",
      "block3_conv1 (Conv2D)        (None, 56, 56, 256)       295168    \n",
      "_________________________________________________________________\n",
      "block3_conv2 (Conv2D)        (None, 56, 56, 256)       590080    \n",
      "_________________________________________________________________\n",
      "block3_conv3 (Conv2D)        (None, 56, 56, 256)       590080    \n",
      "_________________________________________________________________\n",
      "block3_pool (MaxPooling2D)   (None, 28, 28, 256)       0         \n",
      "_________________________________________________________________\n",
      "block4_conv1 (Conv2D)        (None, 28, 28, 512)       1180160   \n",
      "_________________________________________________________________\n",
      "block4_conv2 (Conv2D)        (None, 28, 28, 512)       2359808   \n",
      "_________________________________________________________________\n",
      "block4_conv3 (Conv2D)        (None, 28, 28, 512)       2359808   \n",
      "_________________________________________________________________\n",
      "block4_pool (MaxPooling2D)   (None, 14, 14, 512)       0         \n",
      "_________________________________________________________________\n",
      "block5_conv1 (Conv2D)        (None, 14, 14, 512)       2359808   \n",
      "_________________________________________________________________\n",
      "block5_conv2 (Conv2D)        (None, 14, 14, 512)       2359808   \n",
      "_________________________________________________________________\n",
      "block5_conv3 (Conv2D)        (None, 14, 14, 512)       2359808   \n",
      "_________________________________________________________________\n",
      "block5_pool (MaxPooling2D)   (None, 7, 7, 512)         0         \n",
      "=================================================================\n",
      "Total params: 14,714,688\n",
      "Trainable params: 14,714,688\n",
      "Non-trainable params: 0\n",
      "_________________________________________________________________\n"
     ]
    }
   ],
   "source": [
    "# To print the hidden layer summary of vgg model without top layer\n",
    "vgg_model.summary()"
   ]
  },
  {
   "cell_type": "code",
   "execution_count": 5,
   "id": "03955997",
   "metadata": {
    "execution": {
     "iopub.execute_input": "2021-12-07T04:15:09.141833Z",
     "iopub.status.busy": "2021-12-07T04:15:09.141083Z",
     "iopub.status.idle": "2021-12-07T04:15:09.144109Z",
     "shell.execute_reply": "2021-12-07T04:15:09.144708Z",
     "shell.execute_reply.started": "2021-12-07T03:50:04.597592Z"
    },
    "papermill": {
     "duration": 0.036636,
     "end_time": "2021-12-07T04:15:09.144882",
     "exception": false,
     "start_time": "2021-12-07T04:15:09.108246",
     "status": "completed"
    },
    "tags": []
   },
   "outputs": [],
   "source": [
    "# To fix the weights of the pre trained model\n",
    "for lay in vgg_model.layers:\n",
    "    lay.trainable = False"
   ]
  },
  {
   "cell_type": "code",
   "execution_count": 6,
   "id": "63ad2e11",
   "metadata": {
    "execution": {
     "iopub.execute_input": "2021-12-07T04:15:09.204490Z",
     "iopub.status.busy": "2021-12-07T04:15:09.203445Z",
     "iopub.status.idle": "2021-12-07T04:15:09.216610Z",
     "shell.execute_reply": "2021-12-07T04:15:09.217561Z"
    },
    "papermill": {
     "duration": 0.047791,
     "end_time": "2021-12-07T04:15:09.217733",
     "exception": false,
     "start_time": "2021-12-07T04:15:09.169942",
     "status": "completed"
    },
    "tags": []
   },
   "outputs": [
    {
     "name": "stdout",
     "output_type": "stream",
     "text": [
      "Model: \"vgg16\"\n",
      "_________________________________________________________________\n",
      "Layer (type)                 Output Shape              Param #   \n",
      "=================================================================\n",
      "input_1 (InputLayer)         [(None, 227, 227, 3)]     0         \n",
      "_________________________________________________________________\n",
      "block1_conv1 (Conv2D)        (None, 227, 227, 64)      1792      \n",
      "_________________________________________________________________\n",
      "block1_conv2 (Conv2D)        (None, 227, 227, 64)      36928     \n",
      "_________________________________________________________________\n",
      "block1_pool (MaxPooling2D)   (None, 113, 113, 64)      0         \n",
      "_________________________________________________________________\n",
      "block2_conv1 (Conv2D)        (None, 113, 113, 128)     73856     \n",
      "_________________________________________________________________\n",
      "block2_conv2 (Conv2D)        (None, 113, 113, 128)     147584    \n",
      "_________________________________________________________________\n",
      "block2_pool (MaxPooling2D)   (None, 56, 56, 128)       0         \n",
      "_________________________________________________________________\n",
      "block3_conv1 (Conv2D)        (None, 56, 56, 256)       295168    \n",
      "_________________________________________________________________\n",
      "block3_conv2 (Conv2D)        (None, 56, 56, 256)       590080    \n",
      "_________________________________________________________________\n",
      "block3_conv3 (Conv2D)        (None, 56, 56, 256)       590080    \n",
      "_________________________________________________________________\n",
      "block3_pool (MaxPooling2D)   (None, 28, 28, 256)       0         \n",
      "_________________________________________________________________\n",
      "block4_conv1 (Conv2D)        (None, 28, 28, 512)       1180160   \n",
      "_________________________________________________________________\n",
      "block4_conv2 (Conv2D)        (None, 28, 28, 512)       2359808   \n",
      "_________________________________________________________________\n",
      "block4_conv3 (Conv2D)        (None, 28, 28, 512)       2359808   \n",
      "_________________________________________________________________\n",
      "block4_pool (MaxPooling2D)   (None, 14, 14, 512)       0         \n",
      "_________________________________________________________________\n",
      "block5_conv1 (Conv2D)        (None, 14, 14, 512)       2359808   \n",
      "_________________________________________________________________\n",
      "block5_conv2 (Conv2D)        (None, 14, 14, 512)       2359808   \n",
      "_________________________________________________________________\n",
      "block5_conv3 (Conv2D)        (None, 14, 14, 512)       2359808   \n",
      "_________________________________________________________________\n",
      "block5_pool (MaxPooling2D)   (None, 7, 7, 512)         0         \n",
      "=================================================================\n",
      "Total params: 14,714,688\n",
      "Trainable params: 0\n",
      "Non-trainable params: 14,714,688\n",
      "_________________________________________________________________\n"
     ]
    }
   ],
   "source": [
    "vgg_model.summary()"
   ]
  },
  {
   "cell_type": "code",
   "execution_count": 7,
   "id": "95b22172",
   "metadata": {
    "execution": {
     "iopub.execute_input": "2021-12-07T04:15:09.277391Z",
     "iopub.status.busy": "2021-12-07T04:15:09.276665Z",
     "iopub.status.idle": "2021-12-07T04:15:09.312562Z",
     "shell.execute_reply": "2021-12-07T04:15:09.313186Z"
    },
    "papermill": {
     "duration": 0.068111,
     "end_time": "2021-12-07T04:15:09.313357",
     "exception": false,
     "start_time": "2021-12-07T04:15:09.245246",
     "status": "completed"
    },
    "tags": []
   },
   "outputs": [
    {
     "name": "stdout",
     "output_type": "stream",
     "text": [
      "2\n",
      "2\n"
     ]
    }
   ],
   "source": [
    "# to list out number of folders in train and test folder\n",
    "import os\n",
    "folders_train1 = os.listdir(main_train)\n",
    "print(len(folders_train1))\n",
    "\n",
    "folders_test1 = os.listdir(main_test)\n",
    "print(len(folders_test1))"
   ]
  },
  {
   "cell_type": "code",
   "execution_count": 8,
   "id": "a0404c87",
   "metadata": {
    "execution": {
     "iopub.execute_input": "2021-12-07T04:15:09.377018Z",
     "iopub.status.busy": "2021-12-07T04:15:09.376301Z",
     "iopub.status.idle": "2021-12-07T04:15:09.381182Z",
     "shell.execute_reply": "2021-12-07T04:15:09.381738Z"
    },
    "papermill": {
     "duration": 0.041055,
     "end_time": "2021-12-07T04:15:09.381902",
     "exception": false,
     "start_time": "2021-12-07T04:15:09.340847",
     "status": "completed"
    },
    "tags": []
   },
   "outputs": [
    {
     "data": {
      "text/plain": [
       "<KerasTensor: shape=(None, 7, 7, 512) dtype=float32 (created by layer 'block5_pool')>"
      ]
     },
     "execution_count": 8,
     "metadata": {},
     "output_type": "execute_result"
    }
   ],
   "source": [
    "#outputs the last layer\n",
    "vgg_model.output\n"
   ]
  },
  {
   "cell_type": "code",
   "execution_count": 9,
   "id": "9c2e56f3",
   "metadata": {
    "execution": {
     "iopub.execute_input": "2021-12-07T04:15:09.446673Z",
     "iopub.status.busy": "2021-12-07T04:15:09.445845Z",
     "iopub.status.idle": "2021-12-07T04:15:09.449114Z",
     "shell.execute_reply": "2021-12-07T04:15:09.447364Z"
    },
    "papermill": {
     "duration": 0.0385,
     "end_time": "2021-12-07T04:15:09.449255",
     "exception": false,
     "start_time": "2021-12-07T04:15:09.410755",
     "status": "completed"
    },
    "tags": []
   },
   "outputs": [
    {
     "data": {
      "text/plain": [
       "<KerasTensor: shape=(None, 227, 227, 3) dtype=float32 (created by layer 'input_1')>"
      ]
     },
     "execution_count": 9,
     "metadata": {},
     "output_type": "execute_result"
    }
   ],
   "source": [
    "#inputs of the layer\n",
    "vgg_model.input"
   ]
  },
  {
   "cell_type": "code",
   "execution_count": 10,
   "id": "64a5ca44",
   "metadata": {
    "execution": {
     "iopub.execute_input": "2021-12-07T04:15:09.521894Z",
     "iopub.status.busy": "2021-12-07T04:15:09.521176Z",
     "iopub.status.idle": "2021-12-07T04:15:09.571996Z",
     "shell.execute_reply": "2021-12-07T04:15:09.573057Z"
    },
    "papermill": {
     "duration": 0.094238,
     "end_time": "2021-12-07T04:15:09.573257",
     "exception": false,
     "start_time": "2021-12-07T04:15:09.479019",
     "status": "completed"
    },
    "tags": []
   },
   "outputs": [
    {
     "name": "stdout",
     "output_type": "stream",
     "text": [
      "Model: \"model\"\n",
      "_________________________________________________________________\n",
      "Layer (type)                 Output Shape              Param #   \n",
      "=================================================================\n",
      "input_1 (InputLayer)         [(None, 227, 227, 3)]     0         \n",
      "_________________________________________________________________\n",
      "block1_conv1 (Conv2D)        (None, 227, 227, 64)      1792      \n",
      "_________________________________________________________________\n",
      "block1_conv2 (Conv2D)        (None, 227, 227, 64)      36928     \n",
      "_________________________________________________________________\n",
      "block1_pool (MaxPooling2D)   (None, 113, 113, 64)      0         \n",
      "_________________________________________________________________\n",
      "block2_conv1 (Conv2D)        (None, 113, 113, 128)     73856     \n",
      "_________________________________________________________________\n",
      "block2_conv2 (Conv2D)        (None, 113, 113, 128)     147584    \n",
      "_________________________________________________________________\n",
      "block2_pool (MaxPooling2D)   (None, 56, 56, 128)       0         \n",
      "_________________________________________________________________\n",
      "block3_conv1 (Conv2D)        (None, 56, 56, 256)       295168    \n",
      "_________________________________________________________________\n",
      "block3_conv2 (Conv2D)        (None, 56, 56, 256)       590080    \n",
      "_________________________________________________________________\n",
      "block3_conv3 (Conv2D)        (None, 56, 56, 256)       590080    \n",
      "_________________________________________________________________\n",
      "block3_pool (MaxPooling2D)   (None, 28, 28, 256)       0         \n",
      "_________________________________________________________________\n",
      "block4_conv1 (Conv2D)        (None, 28, 28, 512)       1180160   \n",
      "_________________________________________________________________\n",
      "block4_conv2 (Conv2D)        (None, 28, 28, 512)       2359808   \n",
      "_________________________________________________________________\n",
      "block4_conv3 (Conv2D)        (None, 28, 28, 512)       2359808   \n",
      "_________________________________________________________________\n",
      "block4_pool (MaxPooling2D)   (None, 14, 14, 512)       0         \n",
      "_________________________________________________________________\n",
      "block5_conv1 (Conv2D)        (None, 14, 14, 512)       2359808   \n",
      "_________________________________________________________________\n",
      "block5_conv2 (Conv2D)        (None, 14, 14, 512)       2359808   \n",
      "_________________________________________________________________\n",
      "block5_conv3 (Conv2D)        (None, 14, 14, 512)       2359808   \n",
      "_________________________________________________________________\n",
      "block5_pool (MaxPooling2D)   (None, 7, 7, 512)         0         \n",
      "_________________________________________________________________\n",
      "first_flatten (Flatten)      (None, 25088)             0         \n",
      "_________________________________________________________________\n",
      "dense (Dense)                (None, 32)                802848    \n",
      "_________________________________________________________________\n",
      "dropout (Dropout)            (None, 32)                0         \n",
      "_________________________________________________________________\n",
      "dense_1 (Dense)              (None, 2)                 66        \n",
      "=================================================================\n",
      "Total params: 15,517,602\n",
      "Trainable params: 802,914\n",
      "Non-trainable params: 14,714,688\n",
      "_________________________________________________________________\n"
     ]
    }
   ],
   "source": [
    "# Flatten() is used to convert the last layer to vector or as fully connected\n",
    "x = Flatten(name=\"first_flatten\")(vgg_model.output)\n",
    "# Dense() is a fully connected layer and produces 128 outputs.\n",
    "# relu layer is used to convert the negative nubers to 0 and retains +ve as such.\n",
    "pred = Dense(32, activation=\"relu\")(x)\n",
    "#Dropout() layer is used to randomly remove 50% of the networks.\n",
    "pred = Dropout(0.5)(pred)\n",
    "# Dense() layer is added such that it outputs only two classess \n",
    "# Softmax activation layer produces probabilities for different classess.\n",
    "pred = Dense(2,activation='softmax')(pred)\n",
    "# Model() is used to group layers\n",
    "model = Model(inputs=vgg_model.input,outputs=pred)\n",
    "model.summary()"
   ]
  },
  {
   "cell_type": "markdown",
   "id": "883cbe52",
   "metadata": {
    "papermill": {
     "duration": 0.03114,
     "end_time": "2021-12-07T04:15:09.636730",
     "exception": false,
     "start_time": "2021-12-07T04:15:09.605590",
     "status": "completed"
    },
    "tags": []
   },
   "source": [
    "# **Image Augmentation**"
   ]
  },
  {
   "cell_type": "code",
   "execution_count": 11,
   "id": "f89b605d",
   "metadata": {
    "execution": {
     "iopub.execute_input": "2021-12-07T04:15:09.714587Z",
     "iopub.status.busy": "2021-12-07T04:15:09.713715Z",
     "iopub.status.idle": "2021-12-07T04:15:26.185243Z",
     "shell.execute_reply": "2021-12-07T04:15:26.185757Z"
    },
    "papermill": {
     "duration": 16.516747,
     "end_time": "2021-12-07T04:15:26.185904",
     "exception": false,
     "start_time": "2021-12-07T04:15:09.669157",
     "status": "completed"
    },
    "tags": []
   },
   "outputs": [
    {
     "name": "stdout",
     "output_type": "stream",
     "text": [
      "Found 15904 images belonging to 2 classes.\n",
      "Found 3958 images belonging to 2 classes.\n"
     ]
    }
   ],
   "source": [
    "#ImageDataGenerator is used to modify the train and test images w.r.t the properties mentioned\n",
    "train_datagen = ImageDataGenerator(rescale = 1/255.0,\n",
    "                                   shear_range = 0.2,\n",
    "                                   zoom_range = 0.2,\n",
    "                                   rotation_range=20,\n",
    "                                   width_shift_range=0.2, \n",
    "                                   height_shift_range=0.2,\n",
    "                                   horizontal_flip = True)\n",
    "\n",
    "test_datagen = ImageDataGenerator(rescale = 1/255.0,\n",
    "                                   shear_range = 0.2,\n",
    "                                   zoom_range = 0.2,\n",
    "                                   rotation_range=20,\n",
    "                                   width_shift_range=0.2, \n",
    "                                   height_shift_range=0.2,\n",
    "                                   horizontal_flip = True)\n",
    "\n",
    "# flow_from_directory() is used to convert all the images in the specific directory\n",
    "training_set = train_datagen.flow_from_directory(directory = main_train,\n",
    "                                                 target_size = (227,227),\n",
    "                                                 batch_size = 500,\n",
    "                                                 )\n",
    "\n",
    "test_set = test_datagen.flow_from_directory(directory = main_test,\n",
    "                                                 target_size = (227,227),\n",
    "                                                 batch_size = 500,\n",
    "                                                 )"
   ]
  },
  {
   "cell_type": "code",
   "execution_count": 12,
   "id": "ceef6099",
   "metadata": {
    "execution": {
     "iopub.execute_input": "2021-12-07T04:15:26.230338Z",
     "iopub.status.busy": "2021-12-07T04:15:26.229727Z",
     "iopub.status.idle": "2021-12-07T04:15:26.232215Z",
     "shell.execute_reply": "2021-12-07T04:15:26.232635Z"
    },
    "papermill": {
     "duration": 0.026877,
     "end_time": "2021-12-07T04:15:26.232760",
     "exception": false,
     "start_time": "2021-12-07T04:15:26.205883",
     "status": "completed"
    },
    "tags": []
   },
   "outputs": [
    {
     "data": {
      "text/plain": [
       "{'Negative': 0, 'Positive': 1}"
      ]
     },
     "execution_count": 12,
     "metadata": {},
     "output_type": "execute_result"
    }
   ],
   "source": [
    "# Class_indices will display the respective class value\n",
    "training_set.class_indices"
   ]
  },
  {
   "cell_type": "code",
   "execution_count": 13,
   "id": "8f71847c",
   "metadata": {
    "execution": {
     "iopub.execute_input": "2021-12-07T04:15:26.275140Z",
     "iopub.status.busy": "2021-12-07T04:15:26.274518Z",
     "iopub.status.idle": "2021-12-07T04:15:26.277106Z",
     "shell.execute_reply": "2021-12-07T04:15:26.277527Z"
    },
    "papermill": {
     "duration": 0.025973,
     "end_time": "2021-12-07T04:15:26.277645",
     "exception": false,
     "start_time": "2021-12-07T04:15:26.251672",
     "status": "completed"
    },
    "tags": []
   },
   "outputs": [
    {
     "name": "stdout",
     "output_type": "stream",
     "text": [
      "32\n",
      "8\n"
     ]
    }
   ],
   "source": [
    "# To check no.of folders in each\n",
    "print(len(training_set))\n",
    "print(len(test_set))"
   ]
  },
  {
   "cell_type": "code",
   "execution_count": 14,
   "id": "b29584b4",
   "metadata": {
    "execution": {
     "iopub.execute_input": "2021-12-07T04:15:26.320026Z",
     "iopub.status.busy": "2021-12-07T04:15:26.319205Z",
     "iopub.status.idle": "2021-12-07T04:15:26.332180Z",
     "shell.execute_reply": "2021-12-07T04:15:26.331754Z"
    },
    "papermill": {
     "duration": 0.035127,
     "end_time": "2021-12-07T04:15:26.332310",
     "exception": false,
     "start_time": "2021-12-07T04:15:26.297183",
     "status": "completed"
    },
    "tags": []
   },
   "outputs": [],
   "source": [
    "# Loss function is used to find the errors or deviations in learning process\n",
    "# Optimizer is used to optimize the input weights\n",
    "# Metrics is used to measure the performance\n",
    "model.compile(optimizer=Adam(learning_rate=0.01),\n",
    "    loss=\"binary_crossentropy\",\n",
    "    metrics=['accuracy'])"
   ]
  },
  {
   "cell_type": "markdown",
   "id": "23747bec",
   "metadata": {
    "papermill": {
     "duration": 0.01962,
     "end_time": "2021-12-07T04:15:26.372157",
     "exception": false,
     "start_time": "2021-12-07T04:15:26.352537",
     "status": "completed"
    },
    "tags": []
   },
   "source": [
    "# **Model Fitting**"
   ]
  },
  {
   "cell_type": "code",
   "execution_count": 15,
   "id": "ff587f57",
   "metadata": {
    "execution": {
     "iopub.execute_input": "2021-12-07T04:15:26.418630Z",
     "iopub.status.busy": "2021-12-07T04:15:26.417923Z",
     "iopub.status.idle": "2021-12-07T04:26:17.825907Z",
     "shell.execute_reply": "2021-12-07T04:26:17.825423Z"
    },
    "papermill": {
     "duration": 651.432774,
     "end_time": "2021-12-07T04:26:17.826048",
     "exception": false,
     "start_time": "2021-12-07T04:15:26.393274",
     "status": "completed"
    },
    "tags": []
   },
   "outputs": [
    {
     "name": "stderr",
     "output_type": "stream",
     "text": [
      "2021-12-07 04:15:33.332017: I tensorflow/compiler/mlir/mlir_graph_optimization_pass.cc:185] None of the MLIR Optimization Passes are enabled (registered 2)\n"
     ]
    },
    {
     "name": "stdout",
     "output_type": "stream",
     "text": [
      "Epoch 1/2\n"
     ]
    },
    {
     "name": "stderr",
     "output_type": "stream",
     "text": [
      "2021-12-07 04:15:42.071631: I tensorflow/stream_executor/cuda/cuda_dnn.cc:369] Loaded cuDNN version 8005\n",
      "2021-12-07 04:15:46.149198: W tensorflow/core/kernels/gpu_utils.cc:49] Failed to allocate memory for convolution redzone checking; skipping this check. This is benign and only means that we won't check cudnn for out-of-bounds reads and writes. This message will only be printed once.\n"
     ]
    },
    {
     "name": "stdout",
     "output_type": "stream",
     "text": [
      "32/32 [==============================] - 363s 10s/step - loss: 1.0334 - accuracy: 0.7097 - val_loss: 0.0995 - val_accuracy: 0.9808\n",
      "Epoch 2/2\n",
      "32/32 [==============================] - 250s 8s/step - loss: 0.3710 - accuracy: 0.7404 - val_loss: 0.0661 - val_accuracy: 0.9894\n"
     ]
    }
   ],
   "source": [
    "# fit() is used to train the model \n",
    "# len(training_set) is 32042/500 = 65\n",
    "# len(test_set) is 7958/500 = 16\n",
    "mod = model.fit(\n",
    "  training_set,\n",
    "  validation_data=test_set,\n",
    "  epochs=2,\n",
    "  steps_per_epoch=len(training_set),\n",
    "  validation_steps=len(test_set)\n",
    ")"
   ]
  },
  {
   "cell_type": "markdown",
   "id": "eb91ce50",
   "metadata": {
    "papermill": {
     "duration": 0.040089,
     "end_time": "2021-12-07T04:26:17.904773",
     "exception": false,
     "start_time": "2021-12-07T04:26:17.864684",
     "status": "completed"
    },
    "tags": []
   },
   "source": [
    "# **Model Saving**"
   ]
  },
  {
   "cell_type": "code",
   "execution_count": 16,
   "id": "069ca386",
   "metadata": {
    "execution": {
     "iopub.execute_input": "2021-12-07T04:26:18.004958Z",
     "iopub.status.busy": "2021-12-07T04:26:18.004049Z",
     "iopub.status.idle": "2021-12-07T04:26:18.208102Z",
     "shell.execute_reply": "2021-12-07T04:26:18.208520Z"
    },
    "papermill": {
     "duration": 0.261602,
     "end_time": "2021-12-07T04:26:18.208676",
     "exception": false,
     "start_time": "2021-12-07T04:26:17.947074",
     "status": "completed"
    },
    "tags": []
   },
   "outputs": [
    {
     "data": {
      "text/plain": [
       "['32_0.01_50%']"
      ]
     },
     "execution_count": 16,
     "metadata": {},
     "output_type": "execute_result"
    }
   ],
   "source": [
    "# To save the particular model in .h5 format\n",
    "import tensorflow as tf\n",
    "from tensorflow.keras.models import load_model\n",
    "model.save('32_0.01_50%.h5')\n",
    "\n",
    "\n",
    "\n",
    "import joblib\n",
    "joblib.dump(mod.history,'32_0.01_50%')"
   ]
  }
 ],
 "metadata": {
  "kernelspec": {
   "display_name": "Python 3",
   "language": "python",
   "name": "python3"
  },
  "language_info": {
   "codemirror_mode": {
    "name": "ipython",
    "version": 3
   },
   "file_extension": ".py",
   "mimetype": "text/x-python",
   "name": "python",
   "nbconvert_exporter": "python",
   "pygments_lexer": "ipython3",
   "version": "3.7.12"
  },
  "papermill": {
   "default_parameters": {},
   "duration": 688.646428,
   "end_time": "2021-12-07T04:26:21.232608",
   "environment_variables": {},
   "exception": null,
   "input_path": "__notebook__.ipynb",
   "output_path": "__notebook__.ipynb",
   "parameters": {},
   "start_time": "2021-12-07T04:14:52.586180",
   "version": "2.3.3"
  }
 },
 "nbformat": 4,
 "nbformat_minor": 5
}
