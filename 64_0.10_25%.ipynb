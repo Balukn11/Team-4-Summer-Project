{
 "cells": [
  {
   "cell_type": "code",
   "execution_count": 1,
   "id": "76fcd521",
   "metadata": {
    "execution": {
     "iopub.execute_input": "2021-12-14T05:13:31.441821Z",
     "iopub.status.busy": "2021-12-14T05:13:31.440986Z",
     "iopub.status.idle": "2021-12-14T05:13:31.444659Z",
     "shell.execute_reply": "2021-12-14T05:13:31.444123Z",
     "shell.execute_reply.started": "2021-12-07T04:08:41.197953Z"
    },
    "papermill": {
     "duration": 0.028648,
     "end_time": "2021-12-14T05:13:31.444787",
     "exception": false,
     "start_time": "2021-12-14T05:13:31.416139",
     "status": "completed"
    },
    "tags": []
   },
   "outputs": [],
   "source": [
    "img_size = [227,227] #List which stores the resolution\n",
    "main_train = '../input/mit-split-crack/25/Train' #Stores the path of the train directory\n",
    "main_test = '../input/mit-split-crack/25/Test' #Stores the path of the test directory"
   ]
  },
  {
   "cell_type": "markdown",
   "id": "80b34e15",
   "metadata": {
    "papermill": {
     "duration": 0.012874,
     "end_time": "2021-12-14T05:13:31.472797",
     "exception": false,
     "start_time": "2021-12-14T05:13:31.459923",
     "status": "completed"
    },
    "tags": []
   },
   "source": [
    "#   Import Statements"
   ]
  },
  {
   "cell_type": "code",
   "execution_count": 2,
   "id": "1c8dd7fd",
   "metadata": {
    "execution": {
     "iopub.execute_input": "2021-12-14T05:13:31.503456Z",
     "iopub.status.busy": "2021-12-14T05:13:31.502893Z",
     "iopub.status.idle": "2021-12-14T05:13:36.434770Z",
     "shell.execute_reply": "2021-12-14T05:13:36.434279Z",
     "shell.execute_reply.started": "2021-12-07T04:08:41.205493Z"
    },
    "papermill": {
     "duration": 4.949408,
     "end_time": "2021-12-14T05:13:36.434933",
     "exception": false,
     "start_time": "2021-12-14T05:13:31.485525",
     "status": "completed"
    },
    "tags": []
   },
   "outputs": [],
   "source": [
    "from tensorflow.keras.layers import Input,Dense,Flatten,Dropout\n",
    "from tensorflow.keras.models import Model,Sequential\n",
    "from tensorflow.keras.applications.vgg16 import VGG16,preprocess_input\n",
    "from matplotlib import pyplot as plt\n",
    "import numpy as np\n",
    "from tensorflow.keras.preprocessing import image\n",
    "from tensorflow.keras.optimizers import Adam\n",
    "from tensorflow.keras.preprocessing.image import ImageDataGenerator"
   ]
  },
  {
   "cell_type": "markdown",
   "id": "2cd80596",
   "metadata": {
    "papermill": {
     "duration": 0.012776,
     "end_time": "2021-12-14T05:13:36.461115",
     "exception": false,
     "start_time": "2021-12-14T05:13:36.448339",
     "status": "completed"
    },
    "tags": []
   },
   "source": [
    "# VGG16 Model Building"
   ]
  },
  {
   "cell_type": "code",
   "execution_count": 3,
   "id": "a9446ef8",
   "metadata": {
    "execution": {
     "iopub.execute_input": "2021-12-14T05:13:36.493628Z",
     "iopub.status.busy": "2021-12-14T05:13:36.492923Z",
     "iopub.status.idle": "2021-12-14T05:13:39.511904Z",
     "shell.execute_reply": "2021-12-14T05:13:39.511418Z",
     "shell.execute_reply.started": "2021-12-07T04:08:41.218227Z"
    },
    "papermill": {
     "duration": 3.037926,
     "end_time": "2021-12-14T05:13:39.512043",
     "exception": false,
     "start_time": "2021-12-14T05:13:36.474117",
     "status": "completed"
    },
    "tags": []
   },
   "outputs": [
    {
     "name": "stderr",
     "output_type": "stream",
     "text": [
      "2021-12-14 05:13:36.570814: I tensorflow/stream_executor/cuda/cuda_gpu_executor.cc:937] successful NUMA node read from SysFS had negative value (-1), but there must be at least one NUMA node, so returning NUMA node zero\n",
      "2021-12-14 05:13:36.662265: I tensorflow/stream_executor/cuda/cuda_gpu_executor.cc:937] successful NUMA node read from SysFS had negative value (-1), but there must be at least one NUMA node, so returning NUMA node zero\n",
      "2021-12-14 05:13:36.662988: I tensorflow/stream_executor/cuda/cuda_gpu_executor.cc:937] successful NUMA node read from SysFS had negative value (-1), but there must be at least one NUMA node, so returning NUMA node zero\n",
      "2021-12-14 05:13:36.664209: I tensorflow/core/platform/cpu_feature_guard.cc:142] This TensorFlow binary is optimized with oneAPI Deep Neural Network Library (oneDNN) to use the following CPU instructions in performance-critical operations:  AVX2 AVX512F FMA\n",
      "To enable them in other operations, rebuild TensorFlow with the appropriate compiler flags.\n",
      "2021-12-14 05:13:36.665312: I tensorflow/stream_executor/cuda/cuda_gpu_executor.cc:937] successful NUMA node read from SysFS had negative value (-1), but there must be at least one NUMA node, so returning NUMA node zero\n",
      "2021-12-14 05:13:36.665975: I tensorflow/stream_executor/cuda/cuda_gpu_executor.cc:937] successful NUMA node read from SysFS had negative value (-1), but there must be at least one NUMA node, so returning NUMA node zero\n",
      "2021-12-14 05:13:36.666569: I tensorflow/stream_executor/cuda/cuda_gpu_executor.cc:937] successful NUMA node read from SysFS had negative value (-1), but there must be at least one NUMA node, so returning NUMA node zero\n",
      "2021-12-14 05:13:38.495001: I tensorflow/stream_executor/cuda/cuda_gpu_executor.cc:937] successful NUMA node read from SysFS had negative value (-1), but there must be at least one NUMA node, so returning NUMA node zero\n",
      "2021-12-14 05:13:38.495809: I tensorflow/stream_executor/cuda/cuda_gpu_executor.cc:937] successful NUMA node read from SysFS had negative value (-1), but there must be at least one NUMA node, so returning NUMA node zero\n",
      "2021-12-14 05:13:38.496533: I tensorflow/stream_executor/cuda/cuda_gpu_executor.cc:937] successful NUMA node read from SysFS had negative value (-1), but there must be at least one NUMA node, so returning NUMA node zero\n",
      "2021-12-14 05:13:38.497268: I tensorflow/core/common_runtime/gpu/gpu_device.cc:1510] Created device /job:localhost/replica:0/task:0/device:GPU:0 with 15403 MB memory:  -> device: 0, name: Tesla P100-PCIE-16GB, pci bus id: 0000:00:04.0, compute capability: 6.0\n"
     ]
    },
    {
     "name": "stdout",
     "output_type": "stream",
     "text": [
      "Downloading data from https://storage.googleapis.com/tensorflow/keras-applications/vgg16/vgg16_weights_tf_dim_ordering_tf_kernels_notop.h5\n",
      "58892288/58889256 [==============================] - 0s 0us/step\n",
      "58900480/58889256 [==============================] - 0s 0us/step\n"
     ]
    }
   ],
   "source": [
    "vgg_model = VGG16(include_top=False,\n",
    "    weights=\"imagenet\",\n",
    "    input_shape=img_size + [3])\n",
    "\n",
    "# Loading the VGG16 pre trained model\n",
    "\n",
    "# include_top - this specifies whether the final layer before the output layer has to be include \n",
    "# or not. If included then there will be 1000 number of classes at the output.\n",
    "\n",
    "# Weights are trained using imagenet"
   ]
  },
  {
   "cell_type": "code",
   "execution_count": 4,
   "id": "a3b242f1",
   "metadata": {
    "execution": {
     "iopub.execute_input": "2021-12-14T05:13:39.553780Z",
     "iopub.status.busy": "2021-12-14T05:13:39.546660Z",
     "iopub.status.idle": "2021-12-14T05:13:39.563669Z",
     "shell.execute_reply": "2021-12-14T05:13:39.564487Z",
     "shell.execute_reply.started": "2021-12-07T04:08:41.505497Z"
    },
    "papermill": {
     "duration": 0.036024,
     "end_time": "2021-12-14T05:13:39.564656",
     "exception": false,
     "start_time": "2021-12-14T05:13:39.528632",
     "status": "completed"
    },
    "tags": []
   },
   "outputs": [
    {
     "name": "stdout",
     "output_type": "stream",
     "text": [
      "Model: \"vgg16\"\n",
      "_________________________________________________________________\n",
      "Layer (type)                 Output Shape              Param #   \n",
      "=================================================================\n",
      "input_1 (InputLayer)         [(None, 227, 227, 3)]     0         \n",
      "_________________________________________________________________\n",
      "block1_conv1 (Conv2D)        (None, 227, 227, 64)      1792      \n",
      "_________________________________________________________________\n",
      "block1_conv2 (Conv2D)        (None, 227, 227, 64)      36928     \n",
      "_________________________________________________________________\n",
      "block1_pool (MaxPooling2D)   (None, 113, 113, 64)      0         \n",
      "_________________________________________________________________\n",
      "block2_conv1 (Conv2D)        (None, 113, 113, 128)     73856     \n",
      "_________________________________________________________________\n",
      "block2_conv2 (Conv2D)        (None, 113, 113, 128)     147584    \n",
      "_________________________________________________________________\n",
      "block2_pool (MaxPooling2D)   (None, 56, 56, 128)       0         \n",
      "_________________________________________________________________\n",
      "block3_conv1 (Conv2D)        (None, 56, 56, 256)       295168    \n",
      "_________________________________________________________________\n",
      "block3_conv2 (Conv2D)        (None, 56, 56, 256)       590080    \n",
      "_________________________________________________________________\n",
      "block3_conv3 (Conv2D)        (None, 56, 56, 256)       590080    \n",
      "_________________________________________________________________\n",
      "block3_pool (MaxPooling2D)   (None, 28, 28, 256)       0         \n",
      "_________________________________________________________________\n",
      "block4_conv1 (Conv2D)        (None, 28, 28, 512)       1180160   \n",
      "_________________________________________________________________\n",
      "block4_conv2 (Conv2D)        (None, 28, 28, 512)       2359808   \n",
      "_________________________________________________________________\n",
      "block4_conv3 (Conv2D)        (None, 28, 28, 512)       2359808   \n",
      "_________________________________________________________________\n",
      "block4_pool (MaxPooling2D)   (None, 14, 14, 512)       0         \n",
      "_________________________________________________________________\n",
      "block5_conv1 (Conv2D)        (None, 14, 14, 512)       2359808   \n",
      "_________________________________________________________________\n",
      "block5_conv2 (Conv2D)        (None, 14, 14, 512)       2359808   \n",
      "_________________________________________________________________\n",
      "block5_conv3 (Conv2D)        (None, 14, 14, 512)       2359808   \n",
      "_________________________________________________________________\n",
      "block5_pool (MaxPooling2D)   (None, 7, 7, 512)         0         \n",
      "=================================================================\n",
      "Total params: 14,714,688\n",
      "Trainable params: 14,714,688\n",
      "Non-trainable params: 0\n",
      "_________________________________________________________________\n"
     ]
    }
   ],
   "source": [
    "# To print the hidden layer summary of vgg model without top layer\n",
    "vgg_model.summary()"
   ]
  },
  {
   "cell_type": "code",
   "execution_count": 5,
   "id": "95c5f845",
   "metadata": {
    "execution": {
     "iopub.execute_input": "2021-12-14T05:13:39.601774Z",
     "iopub.status.busy": "2021-12-14T05:13:39.600981Z",
     "iopub.status.idle": "2021-12-14T05:13:39.603193Z",
     "shell.execute_reply": "2021-12-14T05:13:39.603591Z",
     "shell.execute_reply.started": "2021-12-07T04:08:41.527902Z"
    },
    "papermill": {
     "duration": 0.022698,
     "end_time": "2021-12-14T05:13:39.603706",
     "exception": false,
     "start_time": "2021-12-14T05:13:39.581008",
     "status": "completed"
    },
    "tags": []
   },
   "outputs": [],
   "source": [
    "# To fix the weights of the pre trained model\n",
    "for lay in vgg_model.layers:\n",
    "    lay.trainable = False"
   ]
  },
  {
   "cell_type": "code",
   "execution_count": 6,
   "id": "001e512d",
   "metadata": {
    "execution": {
     "iopub.execute_input": "2021-12-14T05:13:39.639590Z",
     "iopub.status.busy": "2021-12-14T05:13:39.638802Z",
     "iopub.status.idle": "2021-12-14T05:13:39.650925Z",
     "shell.execute_reply": "2021-12-14T05:13:39.650472Z",
     "shell.execute_reply.started": "2021-12-07T04:08:41.533529Z"
    },
    "papermill": {
     "duration": 0.031429,
     "end_time": "2021-12-14T05:13:39.651039",
     "exception": false,
     "start_time": "2021-12-14T05:13:39.619610",
     "status": "completed"
    },
    "tags": []
   },
   "outputs": [
    {
     "name": "stdout",
     "output_type": "stream",
     "text": [
      "Model: \"vgg16\"\n",
      "_________________________________________________________________\n",
      "Layer (type)                 Output Shape              Param #   \n",
      "=================================================================\n",
      "input_1 (InputLayer)         [(None, 227, 227, 3)]     0         \n",
      "_________________________________________________________________\n",
      "block1_conv1 (Conv2D)        (None, 227, 227, 64)      1792      \n",
      "_________________________________________________________________\n",
      "block1_conv2 (Conv2D)        (None, 227, 227, 64)      36928     \n",
      "_________________________________________________________________\n",
      "block1_pool (MaxPooling2D)   (None, 113, 113, 64)      0         \n",
      "_________________________________________________________________\n",
      "block2_conv1 (Conv2D)        (None, 113, 113, 128)     73856     \n",
      "_________________________________________________________________\n",
      "block2_conv2 (Conv2D)        (None, 113, 113, 128)     147584    \n",
      "_________________________________________________________________\n",
      "block2_pool (MaxPooling2D)   (None, 56, 56, 128)       0         \n",
      "_________________________________________________________________\n",
      "block3_conv1 (Conv2D)        (None, 56, 56, 256)       295168    \n",
      "_________________________________________________________________\n",
      "block3_conv2 (Conv2D)        (None, 56, 56, 256)       590080    \n",
      "_________________________________________________________________\n",
      "block3_conv3 (Conv2D)        (None, 56, 56, 256)       590080    \n",
      "_________________________________________________________________\n",
      "block3_pool (MaxPooling2D)   (None, 28, 28, 256)       0         \n",
      "_________________________________________________________________\n",
      "block4_conv1 (Conv2D)        (None, 28, 28, 512)       1180160   \n",
      "_________________________________________________________________\n",
      "block4_conv2 (Conv2D)        (None, 28, 28, 512)       2359808   \n",
      "_________________________________________________________________\n",
      "block4_conv3 (Conv2D)        (None, 28, 28, 512)       2359808   \n",
      "_________________________________________________________________\n",
      "block4_pool (MaxPooling2D)   (None, 14, 14, 512)       0         \n",
      "_________________________________________________________________\n",
      "block5_conv1 (Conv2D)        (None, 14, 14, 512)       2359808   \n",
      "_________________________________________________________________\n",
      "block5_conv2 (Conv2D)        (None, 14, 14, 512)       2359808   \n",
      "_________________________________________________________________\n",
      "block5_conv3 (Conv2D)        (None, 14, 14, 512)       2359808   \n",
      "_________________________________________________________________\n",
      "block5_pool (MaxPooling2D)   (None, 7, 7, 512)         0         \n",
      "=================================================================\n",
      "Total params: 14,714,688\n",
      "Trainable params: 0\n",
      "Non-trainable params: 14,714,688\n",
      "_________________________________________________________________\n"
     ]
    }
   ],
   "source": [
    "vgg_model.summary()"
   ]
  },
  {
   "cell_type": "code",
   "execution_count": 7,
   "id": "00d05a3e",
   "metadata": {
    "execution": {
     "iopub.execute_input": "2021-12-14T05:13:39.687482Z",
     "iopub.status.busy": "2021-12-14T05:13:39.686989Z",
     "iopub.status.idle": "2021-12-14T05:13:39.717971Z",
     "shell.execute_reply": "2021-12-14T05:13:39.717495Z",
     "shell.execute_reply.started": "2021-12-07T04:08:41.552395Z"
    },
    "papermill": {
     "duration": 0.050805,
     "end_time": "2021-12-14T05:13:39.718089",
     "exception": false,
     "start_time": "2021-12-14T05:13:39.667284",
     "status": "completed"
    },
    "tags": []
   },
   "outputs": [
    {
     "name": "stdout",
     "output_type": "stream",
     "text": [
      "2\n",
      "2\n"
     ]
    }
   ],
   "source": [
    "# to list out number of folders in train and test folder\n",
    "import os\n",
    "folders_train1 = os.listdir(main_train)\n",
    "print(len(folders_train1))\n",
    "\n",
    "folders_test1 = os.listdir(main_test)\n",
    "print(len(folders_test1))"
   ]
  },
  {
   "cell_type": "code",
   "execution_count": 8,
   "id": "1babda24",
   "metadata": {
    "execution": {
     "iopub.execute_input": "2021-12-14T05:13:39.758809Z",
     "iopub.status.busy": "2021-12-14T05:13:39.758163Z",
     "iopub.status.idle": "2021-12-14T05:13:39.761076Z",
     "shell.execute_reply": "2021-12-14T05:13:39.761474Z",
     "shell.execute_reply.started": "2021-12-07T04:08:41.571715Z"
    },
    "papermill": {
     "duration": 0.026607,
     "end_time": "2021-12-14T05:13:39.761589",
     "exception": false,
     "start_time": "2021-12-14T05:13:39.734982",
     "status": "completed"
    },
    "tags": []
   },
   "outputs": [
    {
     "data": {
      "text/plain": [
       "<KerasTensor: shape=(None, 7, 7, 512) dtype=float32 (created by layer 'block5_pool')>"
      ]
     },
     "execution_count": 8,
     "metadata": {},
     "output_type": "execute_result"
    }
   ],
   "source": [
    "#outputs the last layer\n",
    "vgg_model.output"
   ]
  },
  {
   "cell_type": "code",
   "execution_count": 9,
   "id": "cac88fe7",
   "metadata": {
    "execution": {
     "iopub.execute_input": "2021-12-14T05:13:39.799749Z",
     "iopub.status.busy": "2021-12-14T05:13:39.799153Z",
     "iopub.status.idle": "2021-12-14T05:13:39.801653Z",
     "shell.execute_reply": "2021-12-14T05:13:39.802085Z",
     "shell.execute_reply.started": "2021-12-07T04:08:41.580796Z"
    },
    "papermill": {
     "duration": 0.023898,
     "end_time": "2021-12-14T05:13:39.802204",
     "exception": false,
     "start_time": "2021-12-14T05:13:39.778306",
     "status": "completed"
    },
    "tags": []
   },
   "outputs": [
    {
     "data": {
      "text/plain": [
       "<KerasTensor: shape=(None, 227, 227, 3) dtype=float32 (created by layer 'input_1')>"
      ]
     },
     "execution_count": 9,
     "metadata": {},
     "output_type": "execute_result"
    }
   ],
   "source": [
    "#inputs of the layer\n",
    "vgg_model.input"
   ]
  },
  {
   "cell_type": "code",
   "execution_count": 10,
   "id": "4d4cfd85",
   "metadata": {
    "execution": {
     "iopub.execute_input": "2021-12-14T05:13:39.843308Z",
     "iopub.status.busy": "2021-12-14T05:13:39.842077Z",
     "iopub.status.idle": "2021-12-14T05:13:39.877902Z",
     "shell.execute_reply": "2021-12-14T05:13:39.878314Z",
     "shell.execute_reply.started": "2021-12-07T04:08:41.591857Z"
    },
    "papermill": {
     "duration": 0.059328,
     "end_time": "2021-12-14T05:13:39.878435",
     "exception": false,
     "start_time": "2021-12-14T05:13:39.819107",
     "status": "completed"
    },
    "tags": []
   },
   "outputs": [
    {
     "name": "stdout",
     "output_type": "stream",
     "text": [
      "Model: \"model\"\n",
      "_________________________________________________________________\n",
      "Layer (type)                 Output Shape              Param #   \n",
      "=================================================================\n",
      "input_1 (InputLayer)         [(None, 227, 227, 3)]     0         \n",
      "_________________________________________________________________\n",
      "block1_conv1 (Conv2D)        (None, 227, 227, 64)      1792      \n",
      "_________________________________________________________________\n",
      "block1_conv2 (Conv2D)        (None, 227, 227, 64)      36928     \n",
      "_________________________________________________________________\n",
      "block1_pool (MaxPooling2D)   (None, 113, 113, 64)      0         \n",
      "_________________________________________________________________\n",
      "block2_conv1 (Conv2D)        (None, 113, 113, 128)     73856     \n",
      "_________________________________________________________________\n",
      "block2_conv2 (Conv2D)        (None, 113, 113, 128)     147584    \n",
      "_________________________________________________________________\n",
      "block2_pool (MaxPooling2D)   (None, 56, 56, 128)       0         \n",
      "_________________________________________________________________\n",
      "block3_conv1 (Conv2D)        (None, 56, 56, 256)       295168    \n",
      "_________________________________________________________________\n",
      "block3_conv2 (Conv2D)        (None, 56, 56, 256)       590080    \n",
      "_________________________________________________________________\n",
      "block3_conv3 (Conv2D)        (None, 56, 56, 256)       590080    \n",
      "_________________________________________________________________\n",
      "block3_pool (MaxPooling2D)   (None, 28, 28, 256)       0         \n",
      "_________________________________________________________________\n",
      "block4_conv1 (Conv2D)        (None, 28, 28, 512)       1180160   \n",
      "_________________________________________________________________\n",
      "block4_conv2 (Conv2D)        (None, 28, 28, 512)       2359808   \n",
      "_________________________________________________________________\n",
      "block4_conv3 (Conv2D)        (None, 28, 28, 512)       2359808   \n",
      "_________________________________________________________________\n",
      "block4_pool (MaxPooling2D)   (None, 14, 14, 512)       0         \n",
      "_________________________________________________________________\n",
      "block5_conv1 (Conv2D)        (None, 14, 14, 512)       2359808   \n",
      "_________________________________________________________________\n",
      "block5_conv2 (Conv2D)        (None, 14, 14, 512)       2359808   \n",
      "_________________________________________________________________\n",
      "block5_conv3 (Conv2D)        (None, 14, 14, 512)       2359808   \n",
      "_________________________________________________________________\n",
      "block5_pool (MaxPooling2D)   (None, 7, 7, 512)         0         \n",
      "_________________________________________________________________\n",
      "first_flatten (Flatten)      (None, 25088)             0         \n",
      "_________________________________________________________________\n",
      "dense (Dense)                (None, 64)                1605696   \n",
      "_________________________________________________________________\n",
      "dropout (Dropout)            (None, 64)                0         \n",
      "_________________________________________________________________\n",
      "dense_1 (Dense)              (None, 2)                 130       \n",
      "=================================================================\n",
      "Total params: 16,320,514\n",
      "Trainable params: 1,605,826\n",
      "Non-trainable params: 14,714,688\n",
      "_________________________________________________________________\n"
     ]
    }
   ],
   "source": [
    "# Flatten() is used to convert the last layer to vector or as fully connected\n",
    "x = Flatten(name=\"first_flatten\")(vgg_model.output)\n",
    "# Dense() is a fully connected layer and produces 128 outputs.\n",
    "# relu layer is used to convert the negative nubers to 0 and retains +ve as such.\n",
    "pred = Dense(64, activation=\"relu\")(x)\n",
    "#Dropout() layer is used to randomly remove 50% of the networks.\n",
    "pred = Dropout(0.5)(pred)\n",
    "# Dense() layer is added such that it outputs only two classess \n",
    "# Softmax activation layer produces probabilities for different classess.\n",
    "pred = Dense(2,activation='softmax')(pred)\n",
    "# Model() is used to group layers\n",
    "model = Model(inputs=vgg_model.input,outputs=pred)\n",
    "model.summary()"
   ]
  },
  {
   "cell_type": "markdown",
   "id": "779a30a0",
   "metadata": {
    "papermill": {
     "duration": 0.017263,
     "end_time": "2021-12-14T05:13:39.913901",
     "exception": false,
     "start_time": "2021-12-14T05:13:39.896638",
     "status": "completed"
    },
    "tags": []
   },
   "source": [
    "# Image Augmentation"
   ]
  },
  {
   "cell_type": "code",
   "execution_count": 11,
   "id": "16487803",
   "metadata": {
    "execution": {
     "iopub.execute_input": "2021-12-14T05:13:39.958038Z",
     "iopub.status.busy": "2021-12-14T05:13:39.957315Z",
     "iopub.status.idle": "2021-12-14T05:13:47.497339Z",
     "shell.execute_reply": "2021-12-14T05:13:47.497712Z",
     "shell.execute_reply.started": "2021-12-07T04:08:41.638604Z"
    },
    "papermill": {
     "duration": 7.566398,
     "end_time": "2021-12-14T05:13:47.497883",
     "exception": false,
     "start_time": "2021-12-14T05:13:39.931485",
     "status": "completed"
    },
    "tags": []
   },
   "outputs": [
    {
     "name": "stdout",
     "output_type": "stream",
     "text": [
      "Found 8054 images belonging to 2 classes.\n",
      "Found 1992 images belonging to 2 classes.\n"
     ]
    }
   ],
   "source": [
    "#ImageDataGenerator is used to modify the train and test images w.r.t the properties mentioned\n",
    "train_datagen = ImageDataGenerator(rescale = 1/255.0,\n",
    "                                   shear_range = 0.2,\n",
    "                                   zoom_range = 0.2,\n",
    "                                   rotation_range=20,\n",
    "                                   width_shift_range=0.2, \n",
    "                                   height_shift_range=0.2,\n",
    "                                   horizontal_flip = True)\n",
    "\n",
    "test_datagen = ImageDataGenerator(rescale = 1/255.0,\n",
    "                                   shear_range = 0.2,\n",
    "                                   zoom_range = 0.2,\n",
    "                                   rotation_range=20,\n",
    "                                   width_shift_range=0.2, \n",
    "                                   height_shift_range=0.2,\n",
    "                                   horizontal_flip = True)\n",
    "\n",
    "# flow_from_directory() is used to convert all the images in the specific directory\n",
    "training_set = train_datagen.flow_from_directory(directory = main_train,\n",
    "                                                 target_size = (227,227),\n",
    "                                                 batch_size = 500,\n",
    "                                                 )                                                                                                                                                                                                                                                                                                                                                                                                                                                                                                                                                                                                                                                                                                                                                                                                                                                                                                                                                                                                                                                                                                                                                                                                                                                                                                                                                                                                                                                                                                                                                                                                                                                                                                                                                                                                                                                                                                                                                                                                                                                                                                                                                                                                                                                                                                                                                                                                                   \n",
    "\n",
    "test_set = test_datagen.flow_from_directory(directory = main_test,\n",
    "                                                 target_size = (227,227),\n",
    "                                                 batch_size = 500,\n",
    "                                                 )"
   ]
  },
  {
   "cell_type": "code",
   "execution_count": 12,
   "id": "17db3948",
   "metadata": {
    "execution": {
     "iopub.execute_input": "2021-12-14T05:13:47.539524Z",
     "iopub.status.busy": "2021-12-14T05:13:47.538929Z",
     "iopub.status.idle": "2021-12-14T05:13:47.541337Z",
     "shell.execute_reply": "2021-12-14T05:13:47.541724Z",
     "shell.execute_reply.started": "2021-12-07T04:08:54.376878Z"
    },
    "papermill": {
     "duration": 0.025932,
     "end_time": "2021-12-14T05:13:47.541870",
     "exception": false,
     "start_time": "2021-12-14T05:13:47.515938",
     "status": "completed"
    },
    "tags": []
   },
   "outputs": [
    {
     "data": {
      "text/plain": [
       "{'Negative': 0, 'Positive': 1}"
      ]
     },
     "execution_count": 12,
     "metadata": {},
     "output_type": "execute_result"
    }
   ],
   "source": [
    "# Class_indices will display the respective class value\n",
    "training_set.class_indices\n"
   ]
  },
  {
   "cell_type": "code",
   "execution_count": 13,
   "id": "018cf5ab",
   "metadata": {
    "execution": {
     "iopub.execute_input": "2021-12-14T05:13:47.582902Z",
     "iopub.status.busy": "2021-12-14T05:13:47.582361Z",
     "iopub.status.idle": "2021-12-14T05:13:47.585362Z",
     "shell.execute_reply": "2021-12-14T05:13:47.585999Z",
     "shell.execute_reply.started": "2021-12-07T04:08:54.385164Z"
    },
    "papermill": {
     "duration": 0.025655,
     "end_time": "2021-12-14T05:13:47.586170",
     "exception": false,
     "start_time": "2021-12-14T05:13:47.560515",
     "status": "completed"
    },
    "tags": []
   },
   "outputs": [
    {
     "name": "stdout",
     "output_type": "stream",
     "text": [
      "17\n",
      "4\n"
     ]
    }
   ],
   "source": [
    "# To check no.of folders in each\n",
    "print(len(training_set))\n",
    "print(len(test_set))"
   ]
  },
  {
   "cell_type": "markdown",
   "id": "8a47f0c3",
   "metadata": {
    "papermill": {
     "duration": 0.019221,
     "end_time": "2021-12-14T05:13:47.625046",
     "exception": false,
     "start_time": "2021-12-14T05:13:47.605825",
     "status": "completed"
    },
    "tags": []
   },
   "source": [
    "# Model Fitting"
   ]
  },
  {
   "cell_type": "code",
   "execution_count": 14,
   "id": "cb4aa75d",
   "metadata": {
    "execution": {
     "iopub.execute_input": "2021-12-14T05:13:47.677987Z",
     "iopub.status.busy": "2021-12-14T05:13:47.677335Z",
     "iopub.status.idle": "2021-12-14T05:13:47.685785Z",
     "shell.execute_reply": "2021-12-14T05:13:47.684924Z",
     "shell.execute_reply.started": "2021-12-07T04:08:54.402271Z"
    },
    "papermill": {
     "duration": 0.039246,
     "end_time": "2021-12-14T05:13:47.685922",
     "exception": false,
     "start_time": "2021-12-14T05:13:47.646676",
     "status": "completed"
    },
    "tags": []
   },
   "outputs": [],
   "source": [
    "# Loss function is used to find the errors or deviations in learning process\n",
    "# Optimizer is used to optimize the input weights\n",
    "# Metrics is used to measure the performance\n",
    "model.compile(optimizer=Adam(learning_rate=0.10),\n",
    "    loss=\"binary_crossentropy\",\n",
    "    metrics=['accuracy'])"
   ]
  },
  {
   "cell_type": "code",
   "execution_count": 15,
   "id": "389f6585",
   "metadata": {
    "execution": {
     "iopub.execute_input": "2021-12-14T05:13:47.734250Z",
     "iopub.status.busy": "2021-12-14T05:13:47.733499Z",
     "iopub.status.idle": "2021-12-14T05:21:06.174399Z",
     "shell.execute_reply": "2021-12-14T05:21:06.174856Z"
    },
    "papermill": {
     "duration": 438.467398,
     "end_time": "2021-12-14T05:21:06.175005",
     "exception": false,
     "start_time": "2021-12-14T05:13:47.707607",
     "status": "completed"
    },
    "tags": []
   },
   "outputs": [
    {
     "name": "stderr",
     "output_type": "stream",
     "text": [
      "2021-12-14 05:13:57.135731: I tensorflow/compiler/mlir/mlir_graph_optimization_pass.cc:185] None of the MLIR Optimization Passes are enabled (registered 2)\n"
     ]
    },
    {
     "name": "stdout",
     "output_type": "stream",
     "text": [
      "Epoch 1/2\n"
     ]
    },
    {
     "name": "stderr",
     "output_type": "stream",
     "text": [
      "2021-12-14 05:14:07.693009: I tensorflow/stream_executor/cuda/cuda_dnn.cc:369] Loaded cuDNN version 8005\n",
      "2021-12-14 05:14:11.740660: W tensorflow/core/kernels/gpu_utils.cc:49] Failed to allocate memory for convolution redzone checking; skipping this check. This is benign and only means that we won't check cudnn for out-of-bounds reads and writes. This message will only be printed once.\n"
     ]
    },
    {
     "name": "stdout",
     "output_type": "stream",
     "text": [
      "17/17 [==============================] - 298s 16s/step - loss: 22.7037 - accuracy: 0.7162 - val_loss: 0.5561 - val_accuracy: 0.6436\n",
      "Epoch 2/2\n",
      "17/17 [==============================] - 131s 8s/step - loss: 2.4063 - accuracy: 0.5603 - val_loss: 0.5870 - val_accuracy: 0.4945\n"
     ]
    }
   ],
   "source": [
    "# fit() is used to train the model \n",
    "# len(training_set) is 32042/500 = 65\n",
    "# len(test_set) is 7958/500 = 16\n",
    "mod = model.fit(\n",
    "  training_set,\n",
    "  validation_data=test_set,\n",
    "  epochs=2,\n",
    "  steps_per_epoch=len(training_set),\n",
    "  validation_steps=len(test_set)\n",
    ")"
   ]
  },
  {
   "cell_type": "code",
   "execution_count": 16,
   "id": "d1b08b7a",
   "metadata": {
    "execution": {
     "iopub.execute_input": "2021-12-14T05:21:06.248562Z",
     "iopub.status.busy": "2021-12-14T05:21:06.238785Z",
     "iopub.status.idle": "2021-12-14T05:21:06.451438Z",
     "shell.execute_reply": "2021-12-14T05:21:06.450766Z"
    },
    "papermill": {
     "duration": 0.247458,
     "end_time": "2021-12-14T05:21:06.451590",
     "exception": false,
     "start_time": "2021-12-14T05:21:06.204132",
     "status": "completed"
    },
    "tags": []
   },
   "outputs": [
    {
     "data": {
      "text/plain": [
       "['64_0.10_25%']"
      ]
     },
     "execution_count": 16,
     "metadata": {},
     "output_type": "execute_result"
    }
   ],
   "source": [
    "# To save the particular model in .h5 format\n",
    "import tensorflow as tf\n",
    "from tensorflow.keras.models import load_model\n",
    "model.save('64_0.10_25%.h5')\n",
    "\n",
    "\n",
    "\n",
    "import joblib\n",
    "joblib.dump(mod.history,'64_0.10_25%')"
   ]
  }
 ],
 "metadata": {
  "kernelspec": {
   "display_name": "Python 3",
   "language": "python",
   "name": "python3"
  },
  "language_info": {
   "codemirror_mode": {
    "name": "ipython",
    "version": 3
   },
   "file_extension": ".py",
   "mimetype": "text/x-python",
   "name": "python",
   "nbconvert_exporter": "python",
   "pygments_lexer": "ipython3",
   "version": "3.7.12"
  },
  "papermill": {
   "default_parameters": {},
   "duration": 466.509027,
   "end_time": "2021-12-14T05:21:09.716954",
   "environment_variables": {},
   "exception": null,
   "input_path": "__notebook__.ipynb",
   "output_path": "__notebook__.ipynb",
   "parameters": {},
   "start_time": "2021-12-14T05:13:23.207927",
   "version": "2.3.3"
  }
 },
 "nbformat": 4,
 "nbformat_minor": 5
}
