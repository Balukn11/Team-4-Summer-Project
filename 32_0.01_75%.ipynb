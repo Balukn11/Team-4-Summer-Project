{
 "cells": [
  {
   "cell_type": "code",
   "execution_count": 1,
   "id": "fd43b2b3",
   "metadata": {
    "_cell_guid": "b1076dfc-b9ad-4769-8c92-a6c4dae69d19",
    "_uuid": "8f2839f25d086af736a60e9eeb907d3b93b6e0e5",
    "execution": {
     "iopub.execute_input": "2021-12-07T04:34:37.112536Z",
     "iopub.status.busy": "2021-12-07T04:34:37.110858Z",
     "iopub.status.idle": "2021-12-07T04:34:37.121653Z",
     "shell.execute_reply": "2021-12-07T04:34:37.122089Z",
     "shell.execute_reply.started": "2021-12-07T03:39:32.170643Z"
    },
    "papermill": {
     "duration": 0.031067,
     "end_time": "2021-12-07T04:34:37.122313",
     "exception": false,
     "start_time": "2021-12-07T04:34:37.091246",
     "status": "completed"
    },
    "tags": []
   },
   "outputs": [],
   "source": [
    "img_size = [227,227] #List which stores the resolution\n",
    "main_train = '../input/mit-split-crack/75/Train' #Stores the path of the train directory\n",
    "main_test = '../input/mit-split-crack/75/Test' #Stores the path of the test directory"
   ]
  },
  {
   "cell_type": "markdown",
   "id": "1c3a3385",
   "metadata": {
    "papermill": {
     "duration": 0.012196,
     "end_time": "2021-12-07T04:34:37.149178",
     "exception": false,
     "start_time": "2021-12-07T04:34:37.136982",
     "status": "completed"
    },
    "tags": []
   },
   "source": [
    "# **Import Statements**"
   ]
  },
  {
   "cell_type": "code",
   "execution_count": 2,
   "id": "598932dc",
   "metadata": {
    "execution": {
     "iopub.execute_input": "2021-12-07T04:34:37.178242Z",
     "iopub.status.busy": "2021-12-07T04:34:37.177649Z",
     "iopub.status.idle": "2021-12-07T04:34:41.932680Z",
     "shell.execute_reply": "2021-12-07T04:34:41.931771Z",
     "shell.execute_reply.started": "2021-12-07T03:40:10.718234Z"
    },
    "papermill": {
     "duration": 4.771538,
     "end_time": "2021-12-07T04:34:41.932831",
     "exception": false,
     "start_time": "2021-12-07T04:34:37.161293",
     "status": "completed"
    },
    "tags": []
   },
   "outputs": [],
   "source": [
    "from tensorflow.keras.layers import Input,Dense,Flatten,Dropout\n",
    "from tensorflow.keras.models import Model,Sequential\n",
    "from tensorflow.keras.applications.vgg16 import VGG16,preprocess_input\n",
    "from matplotlib import pyplot as plt\n",
    "import numpy as np\n",
    "from tensorflow.keras.preprocessing import image\n",
    "from tensorflow.keras.optimizers import Adam\n",
    "from tensorflow.keras.preprocessing.image import ImageDataGenerator"
   ]
  },
  {
   "cell_type": "markdown",
   "id": "71cadb2d",
   "metadata": {
    "papermill": {
     "duration": 0.011665,
     "end_time": "2021-12-07T04:34:41.957132",
     "exception": false,
     "start_time": "2021-12-07T04:34:41.945467",
     "status": "completed"
    },
    "tags": []
   },
   "source": [
    "# **VGG16 Model Building**"
   ]
  },
  {
   "cell_type": "code",
   "execution_count": 3,
   "id": "5562258c",
   "metadata": {
    "execution": {
     "iopub.execute_input": "2021-12-07T04:34:41.987130Z",
     "iopub.status.busy": "2021-12-07T04:34:41.986493Z",
     "iopub.status.idle": "2021-12-07T04:34:44.908136Z",
     "shell.execute_reply": "2021-12-07T04:34:44.908555Z",
     "shell.execute_reply.started": "2021-12-07T03:49:10.183481Z"
    },
    "papermill": {
     "duration": 2.939653,
     "end_time": "2021-12-07T04:34:44.908740",
     "exception": false,
     "start_time": "2021-12-07T04:34:41.969087",
     "status": "completed"
    },
    "tags": []
   },
   "outputs": [
    {
     "name": "stderr",
     "output_type": "stream",
     "text": [
      "2021-12-07 04:34:42.069841: I tensorflow/stream_executor/cuda/cuda_gpu_executor.cc:937] successful NUMA node read from SysFS had negative value (-1), but there must be at least one NUMA node, so returning NUMA node zero\n",
      "2021-12-07 04:34:42.156511: I tensorflow/stream_executor/cuda/cuda_gpu_executor.cc:937] successful NUMA node read from SysFS had negative value (-1), but there must be at least one NUMA node, so returning NUMA node zero\n",
      "2021-12-07 04:34:42.157219: I tensorflow/stream_executor/cuda/cuda_gpu_executor.cc:937] successful NUMA node read from SysFS had negative value (-1), but there must be at least one NUMA node, so returning NUMA node zero\n",
      "2021-12-07 04:34:42.158333: I tensorflow/core/platform/cpu_feature_guard.cc:142] This TensorFlow binary is optimized with oneAPI Deep Neural Network Library (oneDNN) to use the following CPU instructions in performance-critical operations:  AVX2 AVX512F FMA\n",
      "To enable them in other operations, rebuild TensorFlow with the appropriate compiler flags.\n",
      "2021-12-07 04:34:42.159368: I tensorflow/stream_executor/cuda/cuda_gpu_executor.cc:937] successful NUMA node read from SysFS had negative value (-1), but there must be at least one NUMA node, so returning NUMA node zero\n",
      "2021-12-07 04:34:42.160170: I tensorflow/stream_executor/cuda/cuda_gpu_executor.cc:937] successful NUMA node read from SysFS had negative value (-1), but there must be at least one NUMA node, so returning NUMA node zero\n",
      "2021-12-07 04:34:42.160814: I tensorflow/stream_executor/cuda/cuda_gpu_executor.cc:937] successful NUMA node read from SysFS had negative value (-1), but there must be at least one NUMA node, so returning NUMA node zero\n",
      "2021-12-07 04:34:43.935222: I tensorflow/stream_executor/cuda/cuda_gpu_executor.cc:937] successful NUMA node read from SysFS had negative value (-1), but there must be at least one NUMA node, so returning NUMA node zero\n",
      "2021-12-07 04:34:43.936065: I tensorflow/stream_executor/cuda/cuda_gpu_executor.cc:937] successful NUMA node read from SysFS had negative value (-1), but there must be at least one NUMA node, so returning NUMA node zero\n",
      "2021-12-07 04:34:43.936802: I tensorflow/stream_executor/cuda/cuda_gpu_executor.cc:937] successful NUMA node read from SysFS had negative value (-1), but there must be at least one NUMA node, so returning NUMA node zero\n",
      "2021-12-07 04:34:43.937425: I tensorflow/core/common_runtime/gpu/gpu_device.cc:1510] Created device /job:localhost/replica:0/task:0/device:GPU:0 with 15403 MB memory:  -> device: 0, name: Tesla P100-PCIE-16GB, pci bus id: 0000:00:04.0, compute capability: 6.0\n"
     ]
    },
    {
     "name": "stdout",
     "output_type": "stream",
     "text": [
      "Downloading data from https://storage.googleapis.com/tensorflow/keras-applications/vgg16/vgg16_weights_tf_dim_ordering_tf_kernels_notop.h5\n",
      "58892288/58889256 [==============================] - 0s 0us/step\n",
      "58900480/58889256 [==============================] - 0s 0us/step\n"
     ]
    }
   ],
   "source": [
    "vgg_model = VGG16(include_top=False,\n",
    "    weights=\"imagenet\",\n",
    "    input_shape=img_size + [3])\n",
    "\n",
    "# Loading the VGG16 pre trained model\n",
    "\n",
    "# include_top - this specifies whether the final layer before the output layer has to be include \n",
    "# or not. If included then there will be 1000 number of classes at the output.\n",
    "\n",
    "# Weights are trained using imagenet"
   ]
  },
  {
   "cell_type": "code",
   "execution_count": 4,
   "id": "028793a3",
   "metadata": {
    "execution": {
     "iopub.execute_input": "2021-12-07T04:34:44.948818Z",
     "iopub.status.busy": "2021-12-07T04:34:44.946702Z",
     "iopub.status.idle": "2021-12-07T04:34:44.957650Z",
     "shell.execute_reply": "2021-12-07T04:34:44.957158Z",
     "shell.execute_reply.started": "2021-12-07T03:49:35.309944Z"
    },
    "papermill": {
     "duration": 0.033209,
     "end_time": "2021-12-07T04:34:44.957801",
     "exception": false,
     "start_time": "2021-12-07T04:34:44.924592",
     "status": "completed"
    },
    "tags": []
   },
   "outputs": [
    {
     "name": "stdout",
     "output_type": "stream",
     "text": [
      "Model: \"vgg16\"\n",
      "_________________________________________________________________\n",
      "Layer (type)                 Output Shape              Param #   \n",
      "=================================================================\n",
      "input_1 (InputLayer)         [(None, 227, 227, 3)]     0         \n",
      "_________________________________________________________________\n",
      "block1_conv1 (Conv2D)        (None, 227, 227, 64)      1792      \n",
      "_________________________________________________________________\n",
      "block1_conv2 (Conv2D)        (None, 227, 227, 64)      36928     \n",
      "_________________________________________________________________\n",
      "block1_pool (MaxPooling2D)   (None, 113, 113, 64)      0         \n",
      "_________________________________________________________________\n",
      "block2_conv1 (Conv2D)        (None, 113, 113, 128)     73856     \n",
      "_________________________________________________________________\n",
      "block2_conv2 (Conv2D)        (None, 113, 113, 128)     147584    \n",
      "_________________________________________________________________\n",
      "block2_pool (MaxPooling2D)   (None, 56, 56, 128)       0         \n",
      "_________________________________________________________________\n",
      "block3_conv1 (Conv2D)        (None, 56, 56, 256)       295168    \n",
      "_________________________________________________________________\n",
      "block3_conv2 (Conv2D)        (None, 56, 56, 256)       590080    \n",
      "_________________________________________________________________\n",
      "block3_conv3 (Conv2D)        (None, 56, 56, 256)       590080    \n",
      "_________________________________________________________________\n",
      "block3_pool (MaxPooling2D)   (None, 28, 28, 256)       0         \n",
      "_________________________________________________________________\n",
      "block4_conv1 (Conv2D)        (None, 28, 28, 512)       1180160   \n",
      "_________________________________________________________________\n",
      "block4_conv2 (Conv2D)        (None, 28, 28, 512)       2359808   \n",
      "_________________________________________________________________\n",
      "block4_conv3 (Conv2D)        (None, 28, 28, 512)       2359808   \n",
      "_________________________________________________________________\n",
      "block4_pool (MaxPooling2D)   (None, 14, 14, 512)       0         \n",
      "_________________________________________________________________\n",
      "block5_conv1 (Conv2D)        (None, 14, 14, 512)       2359808   \n",
      "_________________________________________________________________\n",
      "block5_conv2 (Conv2D)        (None, 14, 14, 512)       2359808   \n",
      "_________________________________________________________________\n",
      "block5_conv3 (Conv2D)        (None, 14, 14, 512)       2359808   \n",
      "_________________________________________________________________\n",
      "block5_pool (MaxPooling2D)   (None, 7, 7, 512)         0         \n",
      "=================================================================\n",
      "Total params: 14,714,688\n",
      "Trainable params: 14,714,688\n",
      "Non-trainable params: 0\n",
      "_________________________________________________________________\n"
     ]
    }
   ],
   "source": [
    "# To print the hidden layer summary of vgg model without top layer\n",
    "vgg_model.summary()"
   ]
  },
  {
   "cell_type": "code",
   "execution_count": 5,
   "id": "8fef785a",
   "metadata": {
    "execution": {
     "iopub.execute_input": "2021-12-07T04:34:44.993036Z",
     "iopub.status.busy": "2021-12-07T04:34:44.992500Z",
     "iopub.status.idle": "2021-12-07T04:34:44.995716Z",
     "shell.execute_reply": "2021-12-07T04:34:44.996106Z",
     "shell.execute_reply.started": "2021-12-07T03:50:04.597592Z"
    },
    "papermill": {
     "duration": 0.022869,
     "end_time": "2021-12-07T04:34:44.996232",
     "exception": false,
     "start_time": "2021-12-07T04:34:44.973363",
     "status": "completed"
    },
    "tags": []
   },
   "outputs": [],
   "source": [
    "# To fix the weights of the pre trained model\n",
    "for lay in vgg_model.layers:\n",
    "    lay.trainable = False"
   ]
  },
  {
   "cell_type": "code",
   "execution_count": 6,
   "id": "5248dfc2",
   "metadata": {
    "execution": {
     "iopub.execute_input": "2021-12-07T04:34:45.033949Z",
     "iopub.status.busy": "2021-12-07T04:34:45.033173Z",
     "iopub.status.idle": "2021-12-07T04:34:45.038465Z",
     "shell.execute_reply": "2021-12-07T04:34:45.037742Z"
    },
    "papermill": {
     "duration": 0.026842,
     "end_time": "2021-12-07T04:34:45.038576",
     "exception": false,
     "start_time": "2021-12-07T04:34:45.011734",
     "status": "completed"
    },
    "tags": []
   },
   "outputs": [
    {
     "name": "stdout",
     "output_type": "stream",
     "text": [
      "Model: \"vgg16\"\n",
      "_________________________________________________________________\n",
      "Layer (type)                 Output Shape              Param #   \n",
      "=================================================================\n",
      "input_1 (InputLayer)         [(None, 227, 227, 3)]     0         \n",
      "_________________________________________________________________\n",
      "block1_conv1 (Conv2D)        (None, 227, 227, 64)      1792      \n",
      "_________________________________________________________________\n",
      "block1_conv2 (Conv2D)        (None, 227, 227, 64)      36928     \n",
      "_________________________________________________________________\n",
      "block1_pool (MaxPooling2D)   (None, 113, 113, 64)      0         \n",
      "_________________________________________________________________\n",
      "block2_conv1 (Conv2D)        (None, 113, 113, 128)     73856     \n",
      "_________________________________________________________________\n",
      "block2_conv2 (Conv2D)        (None, 113, 113, 128)     147584    \n",
      "_________________________________________________________________\n",
      "block2_pool (MaxPooling2D)   (None, 56, 56, 128)       0         \n",
      "_________________________________________________________________\n",
      "block3_conv1 (Conv2D)        (None, 56, 56, 256)       295168    \n",
      "_________________________________________________________________\n",
      "block3_conv2 (Conv2D)        (None, 56, 56, 256)       590080    \n",
      "_________________________________________________________________\n",
      "block3_conv3 (Conv2D)        (None, 56, 56, 256)       590080    \n",
      "_________________________________________________________________\n",
      "block3_pool (MaxPooling2D)   (None, 28, 28, 256)       0         \n",
      "_________________________________________________________________\n",
      "block4_conv1 (Conv2D)        (None, 28, 28, 512)       1180160   \n",
      "_________________________________________________________________\n",
      "block4_conv2 (Conv2D)        (None, 28, 28, 512)       2359808   \n",
      "_________________________________________________________________\n",
      "block4_conv3 (Conv2D)        (None, 28, 28, 512)       2359808   \n",
      "_________________________________________________________________\n",
      "block4_pool (MaxPooling2D)   (None, 14, 14, 512)       0         \n",
      "_________________________________________________________________\n",
      "block5_conv1 (Conv2D)        (None, 14, 14, 512)       2359808   \n",
      "_________________________________________________________________\n",
      "block5_conv2 (Conv2D)        (None, 14, 14, 512)       2359808   \n",
      "_________________________________________________________________\n",
      "block5_conv3 (Conv2D)        (None, 14, 14, 512)       2359808   \n",
      "_________________________________________________________________\n",
      "block5_pool (MaxPooling2D)   (None, 7, 7, 512)         0         \n",
      "=================================================================\n",
      "Total params: 14,714,688\n",
      "Trainable params: 0\n",
      "Non-trainable params: 14,714,688\n",
      "_________________________________________________________________\n"
     ]
    }
   ],
   "source": [
    "vgg_model.summary()"
   ]
  },
  {
   "cell_type": "code",
   "execution_count": 7,
   "id": "a5d8e892",
   "metadata": {
    "execution": {
     "iopub.execute_input": "2021-12-07T04:34:45.073956Z",
     "iopub.status.busy": "2021-12-07T04:34:45.073433Z",
     "iopub.status.idle": "2021-12-07T04:34:45.090918Z",
     "shell.execute_reply": "2021-12-07T04:34:45.091478Z"
    },
    "papermill": {
     "duration": 0.037193,
     "end_time": "2021-12-07T04:34:45.091645",
     "exception": false,
     "start_time": "2021-12-07T04:34:45.054452",
     "status": "completed"
    },
    "tags": []
   },
   "outputs": [
    {
     "name": "stdout",
     "output_type": "stream",
     "text": [
      "2\n",
      "2\n"
     ]
    }
   ],
   "source": [
    "# to list out number of folders in train and test folder\n",
    "import os\n",
    "folders_train1 = os.listdir(main_train)\n",
    "print(len(folders_train1))\n",
    "\n",
    "folders_test1 = os.listdir(main_test)\n",
    "print(len(folders_test1))"
   ]
  },
  {
   "cell_type": "code",
   "execution_count": 8,
   "id": "b1a391b1",
   "metadata": {
    "execution": {
     "iopub.execute_input": "2021-12-07T04:34:45.130843Z",
     "iopub.status.busy": "2021-12-07T04:34:45.130198Z",
     "iopub.status.idle": "2021-12-07T04:34:45.133091Z",
     "shell.execute_reply": "2021-12-07T04:34:45.133477Z"
    },
    "papermill": {
     "duration": 0.024674,
     "end_time": "2021-12-07T04:34:45.133602",
     "exception": false,
     "start_time": "2021-12-07T04:34:45.108928",
     "status": "completed"
    },
    "tags": []
   },
   "outputs": [
    {
     "data": {
      "text/plain": [
       "<KerasTensor: shape=(None, 7, 7, 512) dtype=float32 (created by layer 'block5_pool')>"
      ]
     },
     "execution_count": 8,
     "metadata": {},
     "output_type": "execute_result"
    }
   ],
   "source": [
    "#outputs the last layer\n",
    "vgg_model.output\n"
   ]
  },
  {
   "cell_type": "code",
   "execution_count": 9,
   "id": "3b25f3c3",
   "metadata": {
    "execution": {
     "iopub.execute_input": "2021-12-07T04:34:45.170780Z",
     "iopub.status.busy": "2021-12-07T04:34:45.170260Z",
     "iopub.status.idle": "2021-12-07T04:34:45.175403Z",
     "shell.execute_reply": "2021-12-07T04:34:45.174998Z"
    },
    "papermill": {
     "duration": 0.025012,
     "end_time": "2021-12-07T04:34:45.175497",
     "exception": false,
     "start_time": "2021-12-07T04:34:45.150485",
     "status": "completed"
    },
    "tags": []
   },
   "outputs": [
    {
     "data": {
      "text/plain": [
       "<KerasTensor: shape=(None, 227, 227, 3) dtype=float32 (created by layer 'input_1')>"
      ]
     },
     "execution_count": 9,
     "metadata": {},
     "output_type": "execute_result"
    }
   ],
   "source": [
    "#inputs of the layer\n",
    "vgg_model.input"
   ]
  },
  {
   "cell_type": "code",
   "execution_count": 10,
   "id": "22102f03",
   "metadata": {
    "execution": {
     "iopub.execute_input": "2021-12-07T04:34:45.215713Z",
     "iopub.status.busy": "2021-12-07T04:34:45.214741Z",
     "iopub.status.idle": "2021-12-07T04:34:45.251519Z",
     "shell.execute_reply": "2021-12-07T04:34:45.250995Z"
    },
    "papermill": {
     "duration": 0.059221,
     "end_time": "2021-12-07T04:34:45.251659",
     "exception": false,
     "start_time": "2021-12-07T04:34:45.192438",
     "status": "completed"
    },
    "tags": []
   },
   "outputs": [
    {
     "name": "stdout",
     "output_type": "stream",
     "text": [
      "Model: \"model\"\n",
      "_________________________________________________________________\n",
      "Layer (type)                 Output Shape              Param #   \n",
      "=================================================================\n",
      "input_1 (InputLayer)         [(None, 227, 227, 3)]     0         \n",
      "_________________________________________________________________\n",
      "block1_conv1 (Conv2D)        (None, 227, 227, 64)      1792      \n",
      "_________________________________________________________________\n",
      "block1_conv2 (Conv2D)        (None, 227, 227, 64)      36928     \n",
      "_________________________________________________________________\n",
      "block1_pool (MaxPooling2D)   (None, 113, 113, 64)      0         \n",
      "_________________________________________________________________\n",
      "block2_conv1 (Conv2D)        (None, 113, 113, 128)     73856     \n",
      "_________________________________________________________________\n",
      "block2_conv2 (Conv2D)        (None, 113, 113, 128)     147584    \n",
      "_________________________________________________________________\n",
      "block2_pool (MaxPooling2D)   (None, 56, 56, 128)       0         \n",
      "_________________________________________________________________\n",
      "block3_conv1 (Conv2D)        (None, 56, 56, 256)       295168    \n",
      "_________________________________________________________________\n",
      "block3_conv2 (Conv2D)        (None, 56, 56, 256)       590080    \n",
      "_________________________________________________________________\n",
      "block3_conv3 (Conv2D)        (None, 56, 56, 256)       590080    \n",
      "_________________________________________________________________\n",
      "block3_pool (MaxPooling2D)   (None, 28, 28, 256)       0         \n",
      "_________________________________________________________________\n",
      "block4_conv1 (Conv2D)        (None, 28, 28, 512)       1180160   \n",
      "_________________________________________________________________\n",
      "block4_conv2 (Conv2D)        (None, 28, 28, 512)       2359808   \n",
      "_________________________________________________________________\n",
      "block4_conv3 (Conv2D)        (None, 28, 28, 512)       2359808   \n",
      "_________________________________________________________________\n",
      "block4_pool (MaxPooling2D)   (None, 14, 14, 512)       0         \n",
      "_________________________________________________________________\n",
      "block5_conv1 (Conv2D)        (None, 14, 14, 512)       2359808   \n",
      "_________________________________________________________________\n",
      "block5_conv2 (Conv2D)        (None, 14, 14, 512)       2359808   \n",
      "_________________________________________________________________\n",
      "block5_conv3 (Conv2D)        (None, 14, 14, 512)       2359808   \n",
      "_________________________________________________________________\n",
      "block5_pool (MaxPooling2D)   (None, 7, 7, 512)         0         \n",
      "_________________________________________________________________\n",
      "first_flatten (Flatten)      (None, 25088)             0         \n",
      "_________________________________________________________________\n",
      "dense (Dense)                (None, 32)                802848    \n",
      "_________________________________________________________________\n",
      "dropout (Dropout)            (None, 32)                0         \n",
      "_________________________________________________________________\n",
      "dense_1 (Dense)              (None, 2)                 66        \n",
      "=================================================================\n",
      "Total params: 15,517,602\n",
      "Trainable params: 802,914\n",
      "Non-trainable params: 14,714,688\n",
      "_________________________________________________________________\n"
     ]
    }
   ],
   "source": [
    "# Flatten() is used to convert the last layer to vector or as fully connected\n",
    "x = Flatten(name=\"first_flatten\")(vgg_model.output)\n",
    "# Dense() is a fully connected layer and produces 128 outputs.\n",
    "# relu layer is used to convert the negative nubers to 0 and retains +ve as such.\n",
    "pred = Dense(32, activation=\"relu\")(x)\n",
    "#Dropout() layer is used to randomly remove 50% of the networks.\n",
    "pred = Dropout(0.5)(pred)\n",
    "# Dense() layer is added such that it outputs only two classess \n",
    "# Softmax activation layer produces probabilities for different classess.\n",
    "pred = Dense(2,activation='softmax')(pred)\n",
    "# Model() is used to group layers\n",
    "model = Model(inputs=vgg_model.input,outputs=pred)\n",
    "model.summary()"
   ]
  },
  {
   "cell_type": "markdown",
   "id": "938be795",
   "metadata": {
    "papermill": {
     "duration": 0.030149,
     "end_time": "2021-12-07T04:34:45.306745",
     "exception": false,
     "start_time": "2021-12-07T04:34:45.276596",
     "status": "completed"
    },
    "tags": []
   },
   "source": [
    "# **Image Augmentation**"
   ]
  },
  {
   "cell_type": "code",
   "execution_count": 11,
   "id": "f98b1a5b",
   "metadata": {
    "execution": {
     "iopub.execute_input": "2021-12-07T04:34:45.377910Z",
     "iopub.status.busy": "2021-12-07T04:34:45.377029Z",
     "iopub.status.idle": "2021-12-07T04:35:06.489573Z",
     "shell.execute_reply": "2021-12-07T04:35:06.490335Z"
    },
    "papermill": {
     "duration": 21.153775,
     "end_time": "2021-12-07T04:35:06.490551",
     "exception": false,
     "start_time": "2021-12-07T04:34:45.336776",
     "status": "completed"
    },
    "tags": []
   },
   "outputs": [
    {
     "name": "stdout",
     "output_type": "stream",
     "text": [
      "Found 23948 images belonging to 2 classes.\n",
      "Found 6006 images belonging to 2 classes.\n"
     ]
    }
   ],
   "source": [
    "#ImageDataGenerator is used to modify the train and test images w.r.t the properties mentioned\n",
    "train_datagen = ImageDataGenerator(rescale = 1/255.0,\n",
    "                                   shear_range = 0.2,\n",
    "                                   zoom_range = 0.2,\n",
    "                                   rotation_range=20,\n",
    "                                   width_shift_range=0.2, \n",
    "                                   height_shift_range=0.2,\n",
    "                                   horizontal_flip = True)\n",
    "\n",
    "test_datagen = ImageDataGenerator(rescale = 1/255.0,\n",
    "                                   shear_range = 0.2,\n",
    "                                   zoom_range = 0.2,\n",
    "                                   rotation_range=20,\n",
    "                                   width_shift_range=0.2, \n",
    "                                   height_shift_range=0.2,\n",
    "                                   horizontal_flip = True)\n",
    "\n",
    "# flow_from_directory() is used to convert all the images in the specific directory\n",
    "training_set = train_datagen.flow_from_directory(directory = main_train,\n",
    "                                                 target_size = (227,227),\n",
    "                                                 batch_size = 500,\n",
    "                                                 )\n",
    "\n",
    "test_set = test_datagen.flow_from_directory(directory = main_test,\n",
    "                                                 target_size = (227,227),\n",
    "                                                 batch_size = 500,\n",
    "                                                 )"
   ]
  },
  {
   "cell_type": "code",
   "execution_count": 12,
   "id": "b62e717b",
   "metadata": {
    "execution": {
     "iopub.execute_input": "2021-12-07T04:35:06.531523Z",
     "iopub.status.busy": "2021-12-07T04:35:06.531026Z",
     "iopub.status.idle": "2021-12-07T04:35:06.535870Z",
     "shell.execute_reply": "2021-12-07T04:35:06.535419Z"
    },
    "papermill": {
     "duration": 0.02644,
     "end_time": "2021-12-07T04:35:06.535975",
     "exception": false,
     "start_time": "2021-12-07T04:35:06.509535",
     "status": "completed"
    },
    "tags": []
   },
   "outputs": [
    {
     "data": {
      "text/plain": [
       "{'Negative': 0, 'Positive': 1}"
      ]
     },
     "execution_count": 12,
     "metadata": {},
     "output_type": "execute_result"
    }
   ],
   "source": [
    "# Class_indices will display the respective class value\n",
    "training_set.class_indices"
   ]
  },
  {
   "cell_type": "code",
   "execution_count": 13,
   "id": "91df2702",
   "metadata": {
    "execution": {
     "iopub.execute_input": "2021-12-07T04:35:06.577675Z",
     "iopub.status.busy": "2021-12-07T04:35:06.577038Z",
     "iopub.status.idle": "2021-12-07T04:35:06.579714Z",
     "shell.execute_reply": "2021-12-07T04:35:06.580277Z"
    },
    "papermill": {
     "duration": 0.026037,
     "end_time": "2021-12-07T04:35:06.580433",
     "exception": false,
     "start_time": "2021-12-07T04:35:06.554396",
     "status": "completed"
    },
    "tags": []
   },
   "outputs": [
    {
     "name": "stdout",
     "output_type": "stream",
     "text": [
      "48\n",
      "13\n"
     ]
    }
   ],
   "source": [
    "# To check no.of folders in each\n",
    "print(len(training_set))\n",
    "print(len(test_set))"
   ]
  },
  {
   "cell_type": "code",
   "execution_count": 14,
   "id": "d61e4434",
   "metadata": {
    "execution": {
     "iopub.execute_input": "2021-12-07T04:35:06.628858Z",
     "iopub.status.busy": "2021-12-07T04:35:06.628088Z",
     "iopub.status.idle": "2021-12-07T04:35:06.634622Z",
     "shell.execute_reply": "2021-12-07T04:35:06.634194Z"
    },
    "papermill": {
     "duration": 0.034453,
     "end_time": "2021-12-07T04:35:06.634725",
     "exception": false,
     "start_time": "2021-12-07T04:35:06.600272",
     "status": "completed"
    },
    "tags": []
   },
   "outputs": [],
   "source": [
    "# Loss function is used to find the errors or deviations in learning process\n",
    "# Optimizer is used to optimize the input weights\n",
    "# Metrics is used to measure the performance\n",
    "model.compile(optimizer=Adam(learning_rate=0.01),\n",
    "    loss=\"binary_crossentropy\",\n",
    "    metrics=['accuracy'])"
   ]
  },
  {
   "cell_type": "markdown",
   "id": "686d2757",
   "metadata": {
    "papermill": {
     "duration": 0.018504,
     "end_time": "2021-12-07T04:35:06.671937",
     "exception": false,
     "start_time": "2021-12-07T04:35:06.653433",
     "status": "completed"
    },
    "tags": []
   },
   "source": [
    "# **Model Fitting**"
   ]
  },
  {
   "cell_type": "code",
   "execution_count": 15,
   "id": "cb0a96e1",
   "metadata": {
    "execution": {
     "iopub.execute_input": "2021-12-07T04:35:06.714531Z",
     "iopub.status.busy": "2021-12-07T04:35:06.713817Z",
     "iopub.status.idle": "2021-12-07T04:50:58.096517Z",
     "shell.execute_reply": "2021-12-07T04:50:58.096015Z"
    },
    "papermill": {
     "duration": 951.405999,
     "end_time": "2021-12-07T04:50:58.096698",
     "exception": false,
     "start_time": "2021-12-07T04:35:06.690699",
     "status": "completed"
    },
    "tags": []
   },
   "outputs": [
    {
     "name": "stderr",
     "output_type": "stream",
     "text": [
      "2021-12-07 04:35:13.648594: I tensorflow/compiler/mlir/mlir_graph_optimization_pass.cc:185] None of the MLIR Optimization Passes are enabled (registered 2)\n"
     ]
    },
    {
     "name": "stdout",
     "output_type": "stream",
     "text": [
      "Epoch 1/2\n"
     ]
    },
    {
     "name": "stderr",
     "output_type": "stream",
     "text": [
      "2021-12-07 04:35:22.021089: I tensorflow/stream_executor/cuda/cuda_dnn.cc:369] Loaded cuDNN version 8005\n",
      "2021-12-07 04:35:26.055984: W tensorflow/core/kernels/gpu_utils.cc:49] Failed to allocate memory for convolution redzone checking; skipping this check. This is benign and only means that we won't check cudnn for out-of-bounds reads and writes. This message will only be printed once.\n"
     ]
    },
    {
     "name": "stdout",
     "output_type": "stream",
     "text": [
      "48/48 [==============================] - 508s 10s/step - loss: 1.1686 - accuracy: 0.5048 - val_loss: 0.6932 - val_accuracy: 0.4987\n",
      "Epoch 2/2\n",
      "48/48 [==============================] - 373s 8s/step - loss: 0.6932 - accuracy: 0.5006 - val_loss: 0.6932 - val_accuracy: 0.4987\n"
     ]
    }
   ],
   "source": [
    "# fit() is used to train the model \n",
    "# len(training_set) is 32042/500 = 65\n",
    "# len(test_set) is 7958/500 = 16\n",
    "mod = model.fit(\n",
    "  training_set,\n",
    "  validation_data=test_set,\n",
    "  epochs=2,\n",
    "  steps_per_epoch=len(training_set),\n",
    "  validation_steps=len(test_set)\n",
    ")"
   ]
  },
  {
   "cell_type": "markdown",
   "id": "f12164e6",
   "metadata": {
    "papermill": {
     "duration": 0.044995,
     "end_time": "2021-12-07T04:50:58.188330",
     "exception": false,
     "start_time": "2021-12-07T04:50:58.143335",
     "status": "completed"
    },
    "tags": []
   },
   "source": [
    "# **Model Saving**"
   ]
  },
  {
   "cell_type": "code",
   "execution_count": 16,
   "id": "434193a7",
   "metadata": {
    "execution": {
     "iopub.execute_input": "2021-12-07T04:50:58.295112Z",
     "iopub.status.busy": "2021-12-07T04:50:58.294324Z",
     "iopub.status.idle": "2021-12-07T04:50:58.473347Z",
     "shell.execute_reply": "2021-12-07T04:50:58.473800Z"
    },
    "papermill": {
     "duration": 0.239071,
     "end_time": "2021-12-07T04:50:58.473960",
     "exception": false,
     "start_time": "2021-12-07T04:50:58.234889",
     "status": "completed"
    },
    "tags": []
   },
   "outputs": [
    {
     "data": {
      "text/plain": [
       "['32_0.01_75%']"
      ]
     },
     "execution_count": 16,
     "metadata": {},
     "output_type": "execute_result"
    }
   ],
   "source": [
    "# To save the particular model in .h5 format\n",
    "import tensorflow as tf\n",
    "from tensorflow.keras.models import load_model\n",
    "model.save('32_0.01_75%.h5')\n",
    "\n",
    "\n",
    "\n",
    "import joblib\n",
    "joblib.dump(mod.history,'32_0.01_75%')"
   ]
  }
 ],
 "metadata": {
  "kernelspec": {
   "display_name": "Python 3",
   "language": "python",
   "name": "python3"
  },
  "language_info": {
   "codemirror_mode": {
    "name": "ipython",
    "version": 3
   },
   "file_extension": ".py",
   "mimetype": "text/x-python",
   "name": "python",
   "nbconvert_exporter": "python",
   "pygments_lexer": "ipython3",
   "version": "3.7.12"
  },
  "papermill": {
   "default_parameters": {},
   "duration": 992.694941,
   "end_time": "2021-12-07T04:51:01.590965",
   "environment_variables": {},
   "exception": null,
   "input_path": "__notebook__.ipynb",
   "output_path": "__notebook__.ipynb",
   "parameters": {},
   "start_time": "2021-12-07T04:34:28.896024",
   "version": "2.3.3"
  }
 },
 "nbformat": 4,
 "nbformat_minor": 5
}
