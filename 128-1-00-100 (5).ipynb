{
 "cells": [
  {
   "cell_type": "code",
   "execution_count": 1,
   "id": "0280f1ba",
   "metadata": {
    "_cell_guid": "b1076dfc-b9ad-4769-8c92-a6c4dae69d19",
    "_uuid": "8f2839f25d086af736a60e9eeb907d3b93b6e0e5",
    "execution": {
     "iopub.execute_input": "2021-12-07T05:00:41.321227Z",
     "iopub.status.busy": "2021-12-07T05:00:41.320353Z",
     "iopub.status.idle": "2021-12-07T05:00:41.324214Z",
     "shell.execute_reply": "2021-12-07T05:00:41.323559Z"
    },
    "papermill": {
     "duration": 0.030411,
     "end_time": "2021-12-07T05:00:41.324403",
     "exception": false,
     "start_time": "2021-12-07T05:00:41.293992",
     "status": "completed"
    },
    "tags": []
   },
   "outputs": [],
   "source": [
    "img_size = [227,227] #List which stores the resolution\n",
    "main_train = '../input/mit-split-crack/75/Train' #Stores the path of the train directory\n",
    "main_test = '../input/mit-split-crack/75/Test' #Stores the path of the test directory"
   ]
  },
  {
   "cell_type": "markdown",
   "id": "62843717",
   "metadata": {
    "papermill": {
     "duration": 0.020889,
     "end_time": "2021-12-07T05:00:41.366435",
     "exception": false,
     "start_time": "2021-12-07T05:00:41.345546",
     "status": "completed"
    },
    "tags": []
   },
   "source": [
    "# **Import Statements**"
   ]
  },
  {
   "cell_type": "code",
   "execution_count": 2,
   "id": "d322973e",
   "metadata": {
    "execution": {
     "iopub.execute_input": "2021-12-07T05:00:41.418737Z",
     "iopub.status.busy": "2021-12-07T05:00:41.417874Z",
     "iopub.status.idle": "2021-12-07T05:00:46.558857Z",
     "shell.execute_reply": "2021-12-07T05:00:46.558007Z"
    },
    "papermill": {
     "duration": 5.169005,
     "end_time": "2021-12-07T05:00:46.559037",
     "exception": false,
     "start_time": "2021-12-07T05:00:41.390032",
     "status": "completed"
    },
    "tags": []
   },
   "outputs": [],
   "source": [
    "from tensorflow.keras.layers import Input,Dense,Flatten,Dropout\n",
    "from tensorflow.keras.models import Model,Sequential\n",
    "from tensorflow.keras.applications.vgg16 import VGG16,preprocess_input\n",
    "from matplotlib import pyplot as plt\n",
    "import numpy as np\n",
    "from tensorflow.keras.preprocessing import image\n",
    "from tensorflow.keras.optimizers import Adam\n",
    "from tensorflow.keras.preprocessing.image import ImageDataGenerator"
   ]
  },
  {
   "cell_type": "markdown",
   "id": "17dfeedb",
   "metadata": {
    "papermill": {
     "duration": 0.012938,
     "end_time": "2021-12-07T05:00:46.585107",
     "exception": false,
     "start_time": "2021-12-07T05:00:46.572169",
     "status": "completed"
    },
    "tags": []
   },
   "source": [
    "# **VGG16 Model Building**"
   ]
  },
  {
   "cell_type": "code",
   "execution_count": 3,
   "id": "7f5788df",
   "metadata": {
    "execution": {
     "iopub.execute_input": "2021-12-07T05:00:46.617429Z",
     "iopub.status.busy": "2021-12-07T05:00:46.616719Z",
     "iopub.status.idle": "2021-12-07T05:00:49.658447Z",
     "shell.execute_reply": "2021-12-07T05:00:49.657826Z"
    },
    "papermill": {
     "duration": 3.060746,
     "end_time": "2021-12-07T05:00:49.658609",
     "exception": false,
     "start_time": "2021-12-07T05:00:46.597863",
     "status": "completed"
    },
    "tags": []
   },
   "outputs": [
    {
     "name": "stderr",
     "output_type": "stream",
     "text": [
      "2021-12-07 05:00:46.695201: I tensorflow/stream_executor/cuda/cuda_gpu_executor.cc:937] successful NUMA node read from SysFS had negative value (-1), but there must be at least one NUMA node, so returning NUMA node zero\n",
      "2021-12-07 05:00:46.791575: I tensorflow/stream_executor/cuda/cuda_gpu_executor.cc:937] successful NUMA node read from SysFS had negative value (-1), but there must be at least one NUMA node, so returning NUMA node zero\n",
      "2021-12-07 05:00:46.792332: I tensorflow/stream_executor/cuda/cuda_gpu_executor.cc:937] successful NUMA node read from SysFS had negative value (-1), but there must be at least one NUMA node, so returning NUMA node zero\n",
      "2021-12-07 05:00:46.793452: I tensorflow/core/platform/cpu_feature_guard.cc:142] This TensorFlow binary is optimized with oneAPI Deep Neural Network Library (oneDNN) to use the following CPU instructions in performance-critical operations:  AVX2 AVX512F FMA\n",
      "To enable them in other operations, rebuild TensorFlow with the appropriate compiler flags.\n",
      "2021-12-07 05:00:46.794530: I tensorflow/stream_executor/cuda/cuda_gpu_executor.cc:937] successful NUMA node read from SysFS had negative value (-1), but there must be at least one NUMA node, so returning NUMA node zero\n",
      "2021-12-07 05:00:46.795220: I tensorflow/stream_executor/cuda/cuda_gpu_executor.cc:937] successful NUMA node read from SysFS had negative value (-1), but there must be at least one NUMA node, so returning NUMA node zero\n",
      "2021-12-07 05:00:46.795845: I tensorflow/stream_executor/cuda/cuda_gpu_executor.cc:937] successful NUMA node read from SysFS had negative value (-1), but there must be at least one NUMA node, so returning NUMA node zero\n",
      "2021-12-07 05:00:48.581546: I tensorflow/stream_executor/cuda/cuda_gpu_executor.cc:937] successful NUMA node read from SysFS had negative value (-1), but there must be at least one NUMA node, so returning NUMA node zero\n",
      "2021-12-07 05:00:48.582364: I tensorflow/stream_executor/cuda/cuda_gpu_executor.cc:937] successful NUMA node read from SysFS had negative value (-1), but there must be at least one NUMA node, so returning NUMA node zero\n",
      "2021-12-07 05:00:48.583077: I tensorflow/stream_executor/cuda/cuda_gpu_executor.cc:937] successful NUMA node read from SysFS had negative value (-1), but there must be at least one NUMA node, so returning NUMA node zero\n",
      "2021-12-07 05:00:48.583695: I tensorflow/core/common_runtime/gpu/gpu_device.cc:1510] Created device /job:localhost/replica:0/task:0/device:GPU:0 with 15403 MB memory:  -> device: 0, name: Tesla P100-PCIE-16GB, pci bus id: 0000:00:04.0, compute capability: 6.0\n"
     ]
    },
    {
     "name": "stdout",
     "output_type": "stream",
     "text": [
      "Downloading data from https://storage.googleapis.com/tensorflow/keras-applications/vgg16/vgg16_weights_tf_dim_ordering_tf_kernels_notop.h5\n",
      "58892288/58889256 [==============================] - 0s 0us/step\n",
      "58900480/58889256 [==============================] - 0s 0us/step\n"
     ]
    }
   ],
   "source": [
    "vgg_model = VGG16(include_top=False,\n",
    "    weights=\"imagenet\",\n",
    "    input_shape=img_size + [3])\n",
    "\n",
    "# Loading the VGG16 pre trained model\n",
    "\n",
    "# include_top - this specifies whether the final layer before the output layer has to be include \n",
    "# or not. If included then there will be 1000 number of classes at the output.\n",
    "\n",
    "# Weights are trained using imagenet"
   ]
  },
  {
   "cell_type": "code",
   "execution_count": 4,
   "id": "21b6d69e",
   "metadata": {
    "execution": {
     "iopub.execute_input": "2021-12-07T05:00:49.702414Z",
     "iopub.status.busy": "2021-12-07T05:00:49.698672Z",
     "iopub.status.idle": "2021-12-07T05:00:49.711350Z",
     "shell.execute_reply": "2021-12-07T05:00:49.711738Z"
    },
    "papermill": {
     "duration": 0.035669,
     "end_time": "2021-12-07T05:00:49.711871",
     "exception": false,
     "start_time": "2021-12-07T05:00:49.676202",
     "status": "completed"
    },
    "tags": []
   },
   "outputs": [
    {
     "name": "stdout",
     "output_type": "stream",
     "text": [
      "Model: \"vgg16\"\n",
      "_________________________________________________________________\n",
      "Layer (type)                 Output Shape              Param #   \n",
      "=================================================================\n",
      "input_1 (InputLayer)         [(None, 227, 227, 3)]     0         \n",
      "_________________________________________________________________\n",
      "block1_conv1 (Conv2D)        (None, 227, 227, 64)      1792      \n",
      "_________________________________________________________________\n",
      "block1_conv2 (Conv2D)        (None, 227, 227, 64)      36928     \n",
      "_________________________________________________________________\n",
      "block1_pool (MaxPooling2D)   (None, 113, 113, 64)      0         \n",
      "_________________________________________________________________\n",
      "block2_conv1 (Conv2D)        (None, 113, 113, 128)     73856     \n",
      "_________________________________________________________________\n",
      "block2_conv2 (Conv2D)        (None, 113, 113, 128)     147584    \n",
      "_________________________________________________________________\n",
      "block2_pool (MaxPooling2D)   (None, 56, 56, 128)       0         \n",
      "_________________________________________________________________\n",
      "block3_conv1 (Conv2D)        (None, 56, 56, 256)       295168    \n",
      "_________________________________________________________________\n",
      "block3_conv2 (Conv2D)        (None, 56, 56, 256)       590080    \n",
      "_________________________________________________________________\n",
      "block3_conv3 (Conv2D)        (None, 56, 56, 256)       590080    \n",
      "_________________________________________________________________\n",
      "block3_pool (MaxPooling2D)   (None, 28, 28, 256)       0         \n",
      "_________________________________________________________________\n",
      "block4_conv1 (Conv2D)        (None, 28, 28, 512)       1180160   \n",
      "_________________________________________________________________\n",
      "block4_conv2 (Conv2D)        (None, 28, 28, 512)       2359808   \n",
      "_________________________________________________________________\n",
      "block4_conv3 (Conv2D)        (None, 28, 28, 512)       2359808   \n",
      "_________________________________________________________________\n",
      "block4_pool (MaxPooling2D)   (None, 14, 14, 512)       0         \n",
      "_________________________________________________________________\n",
      "block5_conv1 (Conv2D)        (None, 14, 14, 512)       2359808   \n",
      "_________________________________________________________________\n",
      "block5_conv2 (Conv2D)        (None, 14, 14, 512)       2359808   \n",
      "_________________________________________________________________\n",
      "block5_conv3 (Conv2D)        (None, 14, 14, 512)       2359808   \n",
      "_________________________________________________________________\n",
      "block5_pool (MaxPooling2D)   (None, 7, 7, 512)         0         \n",
      "=================================================================\n",
      "Total params: 14,714,688\n",
      "Trainable params: 14,714,688\n",
      "Non-trainable params: 0\n",
      "_________________________________________________________________\n"
     ]
    }
   ],
   "source": [
    "# To print the hidden layer summary of vgg model without top layer\n",
    "vgg_model.summary()"
   ]
  },
  {
   "cell_type": "code",
   "execution_count": 5,
   "id": "06f032bd",
   "metadata": {
    "execution": {
     "iopub.execute_input": "2021-12-07T05:00:49.750456Z",
     "iopub.status.busy": "2021-12-07T05:00:49.749630Z",
     "iopub.status.idle": "2021-12-07T05:00:49.752164Z",
     "shell.execute_reply": "2021-12-07T05:00:49.751609Z"
    },
    "papermill": {
     "duration": 0.0232,
     "end_time": "2021-12-07T05:00:49.752275",
     "exception": false,
     "start_time": "2021-12-07T05:00:49.729075",
     "status": "completed"
    },
    "tags": []
   },
   "outputs": [],
   "source": [
    "# To fix the weights of the pre trained model\n",
    "for lay in vgg_model.layers:\n",
    "    lay.trainable = False"
   ]
  },
  {
   "cell_type": "code",
   "execution_count": 6,
   "id": "8dbe37a5",
   "metadata": {
    "execution": {
     "iopub.execute_input": "2021-12-07T05:00:49.791180Z",
     "iopub.status.busy": "2021-12-07T05:00:49.790354Z",
     "iopub.status.idle": "2021-12-07T05:00:49.804137Z",
     "shell.execute_reply": "2021-12-07T05:00:49.803651Z"
    },
    "papermill": {
     "duration": 0.035185,
     "end_time": "2021-12-07T05:00:49.804251",
     "exception": false,
     "start_time": "2021-12-07T05:00:49.769066",
     "status": "completed"
    },
    "tags": []
   },
   "outputs": [
    {
     "name": "stdout",
     "output_type": "stream",
     "text": [
      "Model: \"vgg16\"\n",
      "_________________________________________________________________\n",
      "Layer (type)                 Output Shape              Param #   \n",
      "=================================================================\n",
      "input_1 (InputLayer)         [(None, 227, 227, 3)]     0         \n",
      "_________________________________________________________________\n",
      "block1_conv1 (Conv2D)        (None, 227, 227, 64)      1792      \n",
      "_________________________________________________________________\n",
      "block1_conv2 (Conv2D)        (None, 227, 227, 64)      36928     \n",
      "_________________________________________________________________\n",
      "block1_pool (MaxPooling2D)   (None, 113, 113, 64)      0         \n",
      "_________________________________________________________________\n",
      "block2_conv1 (Conv2D)        (None, 113, 113, 128)     73856     \n",
      "_________________________________________________________________\n",
      "block2_conv2 (Conv2D)        (None, 113, 113, 128)     147584    \n",
      "_________________________________________________________________\n",
      "block2_pool (MaxPooling2D)   (None, 56, 56, 128)       0         \n",
      "_________________________________________________________________\n",
      "block3_conv1 (Conv2D)        (None, 56, 56, 256)       295168    \n",
      "_________________________________________________________________\n",
      "block3_conv2 (Conv2D)        (None, 56, 56, 256)       590080    \n",
      "_________________________________________________________________\n",
      "block3_conv3 (Conv2D)        (None, 56, 56, 256)       590080    \n",
      "_________________________________________________________________\n",
      "block3_pool (MaxPooling2D)   (None, 28, 28, 256)       0         \n",
      "_________________________________________________________________\n",
      "block4_conv1 (Conv2D)        (None, 28, 28, 512)       1180160   \n",
      "_________________________________________________________________\n",
      "block4_conv2 (Conv2D)        (None, 28, 28, 512)       2359808   \n",
      "_________________________________________________________________\n",
      "block4_conv3 (Conv2D)        (None, 28, 28, 512)       2359808   \n",
      "_________________________________________________________________\n",
      "block4_pool (MaxPooling2D)   (None, 14, 14, 512)       0         \n",
      "_________________________________________________________________\n",
      "block5_conv1 (Conv2D)        (None, 14, 14, 512)       2359808   \n",
      "_________________________________________________________________\n",
      "block5_conv2 (Conv2D)        (None, 14, 14, 512)       2359808   \n",
      "_________________________________________________________________\n",
      "block5_conv3 (Conv2D)        (None, 14, 14, 512)       2359808   \n",
      "_________________________________________________________________\n",
      "block5_pool (MaxPooling2D)   (None, 7, 7, 512)         0         \n",
      "=================================================================\n",
      "Total params: 14,714,688\n",
      "Trainable params: 0\n",
      "Non-trainable params: 14,714,688\n",
      "_________________________________________________________________\n"
     ]
    }
   ],
   "source": [
    "vgg_model.summary()"
   ]
  },
  {
   "cell_type": "code",
   "execution_count": 7,
   "id": "10473f86",
   "metadata": {
    "execution": {
     "iopub.execute_input": "2021-12-07T05:00:49.845455Z",
     "iopub.status.busy": "2021-12-07T05:00:49.844835Z",
     "iopub.status.idle": "2021-12-07T05:00:49.860390Z",
     "shell.execute_reply": "2021-12-07T05:00:49.861076Z"
    },
    "papermill": {
     "duration": 0.038663,
     "end_time": "2021-12-07T05:00:49.861270",
     "exception": false,
     "start_time": "2021-12-07T05:00:49.822607",
     "status": "completed"
    },
    "tags": []
   },
   "outputs": [
    {
     "name": "stdout",
     "output_type": "stream",
     "text": [
      "2\n",
      "2\n"
     ]
    }
   ],
   "source": [
    "# to list out number of folders in train and test folder\n",
    "import os\n",
    "folders_train1 = os.listdir(main_train)\n",
    "print(len(folders_train1))\n",
    "\n",
    "folders_test1 = os.listdir(main_test)\n",
    "print(len(folders_test1))"
   ]
  },
  {
   "cell_type": "code",
   "execution_count": 8,
   "id": "291f7be0",
   "metadata": {
    "execution": {
     "iopub.execute_input": "2021-12-07T05:00:49.906443Z",
     "iopub.status.busy": "2021-12-07T05:00:49.905201Z",
     "iopub.status.idle": "2021-12-07T05:00:49.909361Z",
     "shell.execute_reply": "2021-12-07T05:00:49.908898Z"
    },
    "papermill": {
     "duration": 0.029031,
     "end_time": "2021-12-07T05:00:49.909473",
     "exception": false,
     "start_time": "2021-12-07T05:00:49.880442",
     "status": "completed"
    },
    "tags": []
   },
   "outputs": [
    {
     "data": {
      "text/plain": [
       "<KerasTensor: shape=(None, 7, 7, 512) dtype=float32 (created by layer 'block5_pool')>"
      ]
     },
     "execution_count": 8,
     "metadata": {},
     "output_type": "execute_result"
    }
   ],
   "source": [
    "#outputs the last layer\n",
    "vgg_model.output"
   ]
  },
  {
   "cell_type": "code",
   "execution_count": 9,
   "id": "7e9b13c2",
   "metadata": {
    "execution": {
     "iopub.execute_input": "2021-12-07T05:00:49.950441Z",
     "iopub.status.busy": "2021-12-07T05:00:49.949646Z",
     "iopub.status.idle": "2021-12-07T05:00:49.953257Z",
     "shell.execute_reply": "2021-12-07T05:00:49.952785Z"
    },
    "papermill": {
     "duration": 0.025251,
     "end_time": "2021-12-07T05:00:49.953385",
     "exception": false,
     "start_time": "2021-12-07T05:00:49.928134",
     "status": "completed"
    },
    "tags": []
   },
   "outputs": [
    {
     "data": {
      "text/plain": [
       "<KerasTensor: shape=(None, 227, 227, 3) dtype=float32 (created by layer 'input_1')>"
      ]
     },
     "execution_count": 9,
     "metadata": {},
     "output_type": "execute_result"
    }
   ],
   "source": [
    "#inputs of the layer\n",
    "vgg_model.input"
   ]
  },
  {
   "cell_type": "code",
   "execution_count": 10,
   "id": "e0105976",
   "metadata": {
    "execution": {
     "iopub.execute_input": "2021-12-07T05:00:49.997606Z",
     "iopub.status.busy": "2021-12-07T05:00:49.996857Z",
     "iopub.status.idle": "2021-12-07T05:00:50.034538Z",
     "shell.execute_reply": "2021-12-07T05:00:50.035037Z"
    },
    "papermill": {
     "duration": 0.062383,
     "end_time": "2021-12-07T05:00:50.035170",
     "exception": false,
     "start_time": "2021-12-07T05:00:49.972787",
     "status": "completed"
    },
    "tags": []
   },
   "outputs": [
    {
     "name": "stdout",
     "output_type": "stream",
     "text": [
      "Model: \"model\"\n",
      "_________________________________________________________________\n",
      "Layer (type)                 Output Shape              Param #   \n",
      "=================================================================\n",
      "input_1 (InputLayer)         [(None, 227, 227, 3)]     0         \n",
      "_________________________________________________________________\n",
      "block1_conv1 (Conv2D)        (None, 227, 227, 64)      1792      \n",
      "_________________________________________________________________\n",
      "block1_conv2 (Conv2D)        (None, 227, 227, 64)      36928     \n",
      "_________________________________________________________________\n",
      "block1_pool (MaxPooling2D)   (None, 113, 113, 64)      0         \n",
      "_________________________________________________________________\n",
      "block2_conv1 (Conv2D)        (None, 113, 113, 128)     73856     \n",
      "_________________________________________________________________\n",
      "block2_conv2 (Conv2D)        (None, 113, 113, 128)     147584    \n",
      "_________________________________________________________________\n",
      "block2_pool (MaxPooling2D)   (None, 56, 56, 128)       0         \n",
      "_________________________________________________________________\n",
      "block3_conv1 (Conv2D)        (None, 56, 56, 256)       295168    \n",
      "_________________________________________________________________\n",
      "block3_conv2 (Conv2D)        (None, 56, 56, 256)       590080    \n",
      "_________________________________________________________________\n",
      "block3_conv3 (Conv2D)        (None, 56, 56, 256)       590080    \n",
      "_________________________________________________________________\n",
      "block3_pool (MaxPooling2D)   (None, 28, 28, 256)       0         \n",
      "_________________________________________________________________\n",
      "block4_conv1 (Conv2D)        (None, 28, 28, 512)       1180160   \n",
      "_________________________________________________________________\n",
      "block4_conv2 (Conv2D)        (None, 28, 28, 512)       2359808   \n",
      "_________________________________________________________________\n",
      "block4_conv3 (Conv2D)        (None, 28, 28, 512)       2359808   \n",
      "_________________________________________________________________\n",
      "block4_pool (MaxPooling2D)   (None, 14, 14, 512)       0         \n",
      "_________________________________________________________________\n",
      "block5_conv1 (Conv2D)        (None, 14, 14, 512)       2359808   \n",
      "_________________________________________________________________\n",
      "block5_conv2 (Conv2D)        (None, 14, 14, 512)       2359808   \n",
      "_________________________________________________________________\n",
      "block5_conv3 (Conv2D)        (None, 14, 14, 512)       2359808   \n",
      "_________________________________________________________________\n",
      "block5_pool (MaxPooling2D)   (None, 7, 7, 512)         0         \n",
      "_________________________________________________________________\n",
      "first_flatten (Flatten)      (None, 25088)             0         \n",
      "_________________________________________________________________\n",
      "dense (Dense)                (None, 128)               3211392   \n",
      "_________________________________________________________________\n",
      "dropout (Dropout)            (None, 128)               0         \n",
      "_________________________________________________________________\n",
      "dense_1 (Dense)              (None, 2)                 258       \n",
      "=================================================================\n",
      "Total params: 17,926,338\n",
      "Trainable params: 3,211,650\n",
      "Non-trainable params: 14,714,688\n",
      "_________________________________________________________________\n"
     ]
    }
   ],
   "source": [
    "# Flatten() is used to convert the last layer to vector or as fully connected\n",
    "x = Flatten(name=\"first_flatten\")(vgg_model.output)\n",
    "# Dense() is a fully connected layer and produces 128 outputs.\n",
    "# relu layer is used to convert the negative nubers to 0 and retains +ve as such.\n",
    "pred = Dense(128, activation=\"relu\")(x)\n",
    "#Dropout() layer is used to randomly remove 50% of the networks.\n",
    "pred = Dropout(0.5)(pred)\n",
    "# Dense() layer is added such that it outputs only two classess \n",
    "# Softmax activation layer produces probabilities for different classess.\n",
    "pred = Dense(2,activation='softmax')(pred)\n",
    "# Model() is used to group layers\n",
    "model = Model(inputs=vgg_model.input,outputs=pred)\n",
    "model.summary()"
   ]
  },
  {
   "cell_type": "markdown",
   "id": "bd2118dc",
   "metadata": {
    "papermill": {
     "duration": 0.019217,
     "end_time": "2021-12-07T05:00:50.072690",
     "exception": false,
     "start_time": "2021-12-07T05:00:50.053473",
     "status": "completed"
    },
    "tags": []
   },
   "source": [
    "# **Image Augmentation**"
   ]
  },
  {
   "cell_type": "code",
   "execution_count": 11,
   "id": "33d0bad1",
   "metadata": {
    "execution": {
     "iopub.execute_input": "2021-12-07T05:00:50.118127Z",
     "iopub.status.busy": "2021-12-07T05:00:50.117366Z",
     "iopub.status.idle": "2021-12-07T05:01:07.566770Z",
     "shell.execute_reply": "2021-12-07T05:01:07.567368Z"
    },
    "papermill": {
     "duration": 17.47608,
     "end_time": "2021-12-07T05:01:07.567536",
     "exception": false,
     "start_time": "2021-12-07T05:00:50.091456",
     "status": "completed"
    },
    "tags": []
   },
   "outputs": [
    {
     "name": "stdout",
     "output_type": "stream",
     "text": [
      "Found 23948 images belonging to 2 classes.\n",
      "Found 6006 images belonging to 2 classes.\n"
     ]
    }
   ],
   "source": [
    "#ImageDataGenerator is used to modify the train and test images w.r.t the properties mentioned\n",
    "train_datagen = ImageDataGenerator(rescale = 1/255.0,\n",
    "                                   shear_range = 0.2,\n",
    "                                   zoom_range = 0.2,\n",
    "                                   rotation_range=20,\n",
    "                                   width_shift_range=0.2, \n",
    "                                   height_shift_range=0.2,\n",
    "                                   horizontal_flip = True)\n",
    "\n",
    "test_datagen = ImageDataGenerator(rescale = 1/255.0,\n",
    "                                   shear_range = 0.2,\n",
    "                                   zoom_range = 0.2,\n",
    "                                   rotation_range=20,\n",
    "                                   width_shift_range=0.2, \n",
    "                                   height_shift_range=0.2,\n",
    "                                   horizontal_flip = True)\n",
    "\n",
    "# flow_from_directory() is used to convert all the images in the specific directory\n",
    "training_set = train_datagen.flow_from_directory(directory = main_train,\n",
    "                                                 target_size = (227,227),\n",
    "                                                 batch_size = 500,\n",
    "                                                 )\n",
    "\n",
    "test_set = test_datagen.flow_from_directory(directory = main_test,\n",
    "                                                 target_size = (227,227),\n",
    "                                                 batch_size = 500,\n",
    "                                                 )"
   ]
  },
  {
   "cell_type": "code",
   "execution_count": 12,
   "id": "ad0933a0",
   "metadata": {
    "execution": {
     "iopub.execute_input": "2021-12-07T05:01:07.611552Z",
     "iopub.status.busy": "2021-12-07T05:01:07.610766Z",
     "iopub.status.idle": "2021-12-07T05:01:07.616749Z",
     "shell.execute_reply": "2021-12-07T05:01:07.616331Z"
    },
    "papermill": {
     "duration": 0.028297,
     "end_time": "2021-12-07T05:01:07.616861",
     "exception": false,
     "start_time": "2021-12-07T05:01:07.588564",
     "status": "completed"
    },
    "tags": []
   },
   "outputs": [
    {
     "data": {
      "text/plain": [
       "{'Negative': 0, 'Positive': 1}"
      ]
     },
     "execution_count": 12,
     "metadata": {},
     "output_type": "execute_result"
    }
   ],
   "source": [
    "# Class_indices will display the respective class value\n",
    "training_set.class_indices"
   ]
  },
  {
   "cell_type": "code",
   "execution_count": 13,
   "id": "63fc54fe",
   "metadata": {
    "execution": {
     "iopub.execute_input": "2021-12-07T05:01:07.662381Z",
     "iopub.status.busy": "2021-12-07T05:01:07.661677Z",
     "iopub.status.idle": "2021-12-07T05:01:07.665225Z",
     "shell.execute_reply": "2021-12-07T05:01:07.665880Z"
    },
    "papermill": {
     "duration": 0.028182,
     "end_time": "2021-12-07T05:01:07.666068",
     "exception": false,
     "start_time": "2021-12-07T05:01:07.637886",
     "status": "completed"
    },
    "tags": []
   },
   "outputs": [
    {
     "name": "stdout",
     "output_type": "stream",
     "text": [
      "48\n",
      "13\n"
     ]
    }
   ],
   "source": [
    "# To check no.of folders in each\n",
    "print(len(training_set))\n",
    "print(len(test_set))"
   ]
  },
  {
   "cell_type": "markdown",
   "id": "24a5cc35",
   "metadata": {
    "papermill": {
     "duration": 0.020305,
     "end_time": "2021-12-07T05:01:07.707679",
     "exception": false,
     "start_time": "2021-12-07T05:01:07.687374",
     "status": "completed"
    },
    "tags": []
   },
   "source": [
    "# **Model Fitting**"
   ]
  },
  {
   "cell_type": "code",
   "execution_count": 14,
   "id": "83396a22",
   "metadata": {
    "execution": {
     "iopub.execute_input": "2021-12-07T05:01:07.758590Z",
     "iopub.status.busy": "2021-12-07T05:01:07.752802Z",
     "iopub.status.idle": "2021-12-07T05:01:07.764398Z",
     "shell.execute_reply": "2021-12-07T05:01:07.764798Z"
    },
    "papermill": {
     "duration": 0.036493,
     "end_time": "2021-12-07T05:01:07.764922",
     "exception": false,
     "start_time": "2021-12-07T05:01:07.728429",
     "status": "completed"
    },
    "tags": []
   },
   "outputs": [],
   "source": [
    "# Loss function is used to find the errors or deviations in learning process\n",
    "# Optimizer is used to optimize the input weights\n",
    "# Metrics is used to measure the performance\n",
    "model.compile(optimizer=Adam(learning_rate=0.01),\n",
    "    loss=\"binary_crossentropy\",\n",
    "    metrics=['accuracy'])"
   ]
  },
  {
   "cell_type": "code",
   "execution_count": 15,
   "id": "8417189c",
   "metadata": {
    "execution": {
     "iopub.execute_input": "2021-12-07T05:01:07.813251Z",
     "iopub.status.busy": "2021-12-07T05:01:07.812428Z",
     "iopub.status.idle": "2021-12-07T05:17:23.195356Z",
     "shell.execute_reply": "2021-12-07T05:17:23.195991Z"
    },
    "papermill": {
     "duration": 975.408312,
     "end_time": "2021-12-07T05:17:23.196167",
     "exception": false,
     "start_time": "2021-12-07T05:01:07.787855",
     "status": "completed"
    },
    "tags": []
   },
   "outputs": [
    {
     "name": "stderr",
     "output_type": "stream",
     "text": [
      "2021-12-07 05:01:15.533825: I tensorflow/compiler/mlir/mlir_graph_optimization_pass.cc:185] None of the MLIR Optimization Passes are enabled (registered 2)\n"
     ]
    },
    {
     "name": "stdout",
     "output_type": "stream",
     "text": [
      "Epoch 1/2\n"
     ]
    },
    {
     "name": "stderr",
     "output_type": "stream",
     "text": [
      "2021-12-07 05:01:24.753140: I tensorflow/stream_executor/cuda/cuda_dnn.cc:369] Loaded cuDNN version 8005\n",
      "2021-12-07 05:01:28.806358: W tensorflow/core/kernels/gpu_utils.cc:49] Failed to allocate memory for convolution redzone checking; skipping this check. This is benign and only means that we won't check cudnn for out-of-bounds reads and writes. This message will only be printed once.\n"
     ]
    },
    {
     "name": "stdout",
     "output_type": "stream",
     "text": [
      "48/48 [==============================] - 559s 11s/step - loss: 1.8583 - accuracy: 0.8941 - val_loss: 0.0602 - val_accuracy: 0.9832\n",
      "Epoch 2/2\n",
      "48/48 [==============================] - 408s 9s/step - loss: 0.0736 - accuracy: 0.9688 - val_loss: 0.0532 - val_accuracy: 0.9852\n"
     ]
    }
   ],
   "source": [
    "# fit() is used to train the model \n",
    "# len(training_set) is 32042/500 = 65\n",
    "# len(test_set) is 7958/500 = 16\n",
    "mod = model.fit(\n",
    "  training_set,\n",
    "  validation_data=test_set,\n",
    "  epochs=2,\n",
    "  steps_per_epoch=len(training_set),\n",
    "  validation_steps=len(test_set)\n",
    ")"
   ]
  },
  {
   "cell_type": "markdown",
   "id": "fd95107f",
   "metadata": {
    "papermill": {
     "duration": 0.048789,
     "end_time": "2021-12-07T05:17:23.293341",
     "exception": false,
     "start_time": "2021-12-07T05:17:23.244552",
     "status": "completed"
    },
    "tags": []
   },
   "source": [
    "# **Model Saving**"
   ]
  },
  {
   "cell_type": "code",
   "execution_count": 16,
   "id": "2f2be65a",
   "metadata": {
    "execution": {
     "iopub.execute_input": "2021-12-07T05:17:23.408181Z",
     "iopub.status.busy": "2021-12-07T05:17:23.404422Z",
     "iopub.status.idle": "2021-12-07T05:17:23.653933Z",
     "shell.execute_reply": "2021-12-07T05:17:23.654478Z",
     "shell.execute_reply.started": "2021-12-07T04:35:02.891841Z"
    },
    "papermill": {
     "duration": 0.311572,
     "end_time": "2021-12-07T05:17:23.654647",
     "exception": false,
     "start_time": "2021-12-07T05:17:23.343075",
     "status": "completed"
    },
    "tags": []
   },
   "outputs": [
    {
     "data": {
      "text/plain": [
       "['128_0.01__75%']"
      ]
     },
     "execution_count": 16,
     "metadata": {},
     "output_type": "execute_result"
    }
   ],
   "source": [
    "# To save the particular model in .h5 format\n",
    "import tensorflow as tf\n",
    "from tensorflow.keras.models import load_model\n",
    "model.save('128_0.01__75%.h5')\n",
    "\n",
    "\n",
    "\n",
    "import joblib\n",
    "joblib.dump(mod.history,'128_0.01__75%')\n"
   ]
  },
  {
   "cell_type": "code",
   "execution_count": null,
   "id": "d4cfb5e7",
   "metadata": {
    "papermill": {
     "duration": 0.098467,
     "end_time": "2021-12-07T05:17:23.814489",
     "exception": false,
     "start_time": "2021-12-07T05:17:23.716022",
     "status": "completed"
    },
    "tags": []
   },
   "outputs": [],
   "source": []
  }
 ],
 "metadata": {
  "kernelspec": {
   "display_name": "Python 3",
   "language": "python",
   "name": "python3"
  },
  "language_info": {
   "codemirror_mode": {
    "name": "ipython",
    "version": 3
   },
   "file_extension": ".py",
   "mimetype": "text/x-python",
   "name": "python",
   "nbconvert_exporter": "python",
   "pygments_lexer": "ipython3",
   "version": "3.7.12"
  },
  "papermill": {
   "default_parameters": {},
   "duration": 1014.911426,
   "end_time": "2021-12-07T05:17:27.316140",
   "environment_variables": {},
   "exception": null,
   "input_path": "__notebook__.ipynb",
   "output_path": "__notebook__.ipynb",
   "parameters": {},
   "start_time": "2021-12-07T05:00:32.404714",
   "version": "2.3.3"
  }
 },
 "nbformat": 4,
 "nbformat_minor": 5
}
