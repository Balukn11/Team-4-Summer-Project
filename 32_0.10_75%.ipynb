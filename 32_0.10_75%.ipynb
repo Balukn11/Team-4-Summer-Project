{
 "cells": [
  {
   "cell_type": "code",
   "execution_count": 1,
   "id": "11a0b523",
   "metadata": {
    "_cell_guid": "b1076dfc-b9ad-4769-8c92-a6c4dae69d19",
    "_uuid": "8f2839f25d086af736a60e9eeb907d3b93b6e0e5",
    "execution": {
     "iopub.execute_input": "2021-12-08T16:05:30.457806Z",
     "iopub.status.busy": "2021-12-08T16:05:30.457039Z",
     "iopub.status.idle": "2021-12-08T16:05:30.463585Z",
     "shell.execute_reply": "2021-12-08T16:05:30.463077Z",
     "shell.execute_reply.started": "2021-12-07T05:36:17.530077Z"
    },
    "papermill": {
     "duration": 0.029087,
     "end_time": "2021-12-08T16:05:30.463728",
     "exception": false,
     "start_time": "2021-12-08T16:05:30.434641",
     "status": "completed"
    },
    "tags": []
   },
   "outputs": [],
   "source": [
    "img_size = [227,227] #List which stores the resolution\n",
    "main_train = '../input/mit-split-crack/75/Train' #Stores the path of the train directory\n",
    "main_test = '../input/mit-split-crack/75/Test' #Stores the path of the test directory"
   ]
  },
  {
   "cell_type": "markdown",
   "id": "0805aeae",
   "metadata": {
    "papermill": {
     "duration": 0.022165,
     "end_time": "2021-12-08T16:05:30.503467",
     "exception": false,
     "start_time": "2021-12-08T16:05:30.481302",
     "status": "completed"
    },
    "tags": []
   },
   "source": [
    "# **Import Statements**"
   ]
  },
  {
   "cell_type": "code",
   "execution_count": 2,
   "id": "c43a5cef",
   "metadata": {
    "execution": {
     "iopub.execute_input": "2021-12-08T16:05:30.554347Z",
     "iopub.status.busy": "2021-12-08T16:05:30.553585Z",
     "iopub.status.idle": "2021-12-08T16:05:35.516053Z",
     "shell.execute_reply": "2021-12-08T16:05:35.515551Z",
     "shell.execute_reply.started": "2021-12-07T05:36:17.561845Z"
    },
    "papermill": {
     "duration": 4.988738,
     "end_time": "2021-12-08T16:05:35.516186",
     "exception": false,
     "start_time": "2021-12-08T16:05:30.527448",
     "status": "completed"
    },
    "tags": []
   },
   "outputs": [],
   "source": [
    "from tensorflow.keras.layers import Input,Dense,Flatten,Dropout\n",
    "from tensorflow.keras.models import Model,Sequential\n",
    "from tensorflow.keras.applications.vgg16 import VGG16,preprocess_input\n",
    "from matplotlib import pyplot as plt\n",
    "import numpy as np\n",
    "from tensorflow.keras.preprocessing import image\n",
    "from tensorflow.keras.optimizers import Adam\n",
    "from tensorflow.keras.preprocessing.image import ImageDataGenerator"
   ]
  },
  {
   "cell_type": "markdown",
   "id": "183ebc85",
   "metadata": {
    "papermill": {
     "duration": 0.012794,
     "end_time": "2021-12-08T16:05:35.541974",
     "exception": false,
     "start_time": "2021-12-08T16:05:35.529180",
     "status": "completed"
    },
    "tags": []
   },
   "source": [
    "# **VGG16 Model Building**"
   ]
  },
  {
   "cell_type": "code",
   "execution_count": 3,
   "id": "fdfe7d4a",
   "metadata": {
    "execution": {
     "iopub.execute_input": "2021-12-08T16:05:35.573251Z",
     "iopub.status.busy": "2021-12-08T16:05:35.572725Z",
     "iopub.status.idle": "2021-12-08T16:05:38.740368Z",
     "shell.execute_reply": "2021-12-08T16:05:38.739436Z",
     "shell.execute_reply.started": "2021-12-07T05:36:27.476911Z"
    },
    "papermill": {
     "duration": 3.18591,
     "end_time": "2021-12-08T16:05:38.740518",
     "exception": false,
     "start_time": "2021-12-08T16:05:35.554608",
     "status": "completed"
    },
    "tags": []
   },
   "outputs": [
    {
     "name": "stderr",
     "output_type": "stream",
     "text": [
      "2021-12-08 16:05:35.653071: I tensorflow/stream_executor/cuda/cuda_gpu_executor.cc:937] successful NUMA node read from SysFS had negative value (-1), but there must be at least one NUMA node, so returning NUMA node zero\n",
      "2021-12-08 16:05:35.748282: I tensorflow/stream_executor/cuda/cuda_gpu_executor.cc:937] successful NUMA node read from SysFS had negative value (-1), but there must be at least one NUMA node, so returning NUMA node zero\n",
      "2021-12-08 16:05:35.748980: I tensorflow/stream_executor/cuda/cuda_gpu_executor.cc:937] successful NUMA node read from SysFS had negative value (-1), but there must be at least one NUMA node, so returning NUMA node zero\n",
      "2021-12-08 16:05:35.750035: I tensorflow/core/platform/cpu_feature_guard.cc:142] This TensorFlow binary is optimized with oneAPI Deep Neural Network Library (oneDNN) to use the following CPU instructions in performance-critical operations:  AVX2 AVX512F FMA\n",
      "To enable them in other operations, rebuild TensorFlow with the appropriate compiler flags.\n",
      "2021-12-08 16:05:35.750716: I tensorflow/stream_executor/cuda/cuda_gpu_executor.cc:937] successful NUMA node read from SysFS had negative value (-1), but there must be at least one NUMA node, so returning NUMA node zero\n",
      "2021-12-08 16:05:35.751381: I tensorflow/stream_executor/cuda/cuda_gpu_executor.cc:937] successful NUMA node read from SysFS had negative value (-1), but there must be at least one NUMA node, so returning NUMA node zero\n",
      "2021-12-08 16:05:35.752003: I tensorflow/stream_executor/cuda/cuda_gpu_executor.cc:937] successful NUMA node read from SysFS had negative value (-1), but there must be at least one NUMA node, so returning NUMA node zero\n",
      "2021-12-08 16:05:37.628893: I tensorflow/stream_executor/cuda/cuda_gpu_executor.cc:937] successful NUMA node read from SysFS had negative value (-1), but there must be at least one NUMA node, so returning NUMA node zero\n",
      "2021-12-08 16:05:37.629693: I tensorflow/stream_executor/cuda/cuda_gpu_executor.cc:937] successful NUMA node read from SysFS had negative value (-1), but there must be at least one NUMA node, so returning NUMA node zero\n",
      "2021-12-08 16:05:37.630315: I tensorflow/stream_executor/cuda/cuda_gpu_executor.cc:937] successful NUMA node read from SysFS had negative value (-1), but there must be at least one NUMA node, so returning NUMA node zero\n",
      "2021-12-08 16:05:37.630911: I tensorflow/core/common_runtime/gpu/gpu_device.cc:1510] Created device /job:localhost/replica:0/task:0/device:GPU:0 with 15403 MB memory:  -> device: 0, name: Tesla P100-PCIE-16GB, pci bus id: 0000:00:04.0, compute capability: 6.0\n"
     ]
    },
    {
     "name": "stdout",
     "output_type": "stream",
     "text": [
      "Downloading data from https://storage.googleapis.com/tensorflow/keras-applications/vgg16/vgg16_weights_tf_dim_ordering_tf_kernels_notop.h5\n",
      "58892288/58889256 [==============================] - 0s 0us/step\n",
      "58900480/58889256 [==============================] - 0s 0us/step\n"
     ]
    }
   ],
   "source": [
    "vgg_model = VGG16(include_top=False,\n",
    "    weights=\"imagenet\",\n",
    "    input_shape=img_size + [3])\n",
    "\n",
    "# Loading the VGG16 pre trained model\n",
    "\n",
    "# include_top - this specifies whether the final layer before the output layer has to be include \n",
    "# or not. If included then there will be 1000 number of classes at the output.\n",
    "\n",
    "# Weights are trained using imagenet"
   ]
  },
  {
   "cell_type": "code",
   "execution_count": 4,
   "id": "dc6a15a6",
   "metadata": {
    "execution": {
     "iopub.execute_input": "2021-12-08T16:05:38.781811Z",
     "iopub.status.busy": "2021-12-08T16:05:38.780432Z",
     "iopub.status.idle": "2021-12-08T16:05:38.787393Z",
     "shell.execute_reply": "2021-12-08T16:05:38.786949Z",
     "shell.execute_reply.started": "2021-12-07T05:36:34.452979Z"
    },
    "papermill": {
     "duration": 0.031264,
     "end_time": "2021-12-08T16:05:38.787517",
     "exception": false,
     "start_time": "2021-12-08T16:05:38.756253",
     "status": "completed"
    },
    "tags": []
   },
   "outputs": [
    {
     "name": "stdout",
     "output_type": "stream",
     "text": [
      "Model: \"vgg16\"\n",
      "_________________________________________________________________\n",
      "Layer (type)                 Output Shape              Param #   \n",
      "=================================================================\n",
      "input_1 (InputLayer)         [(None, 227, 227, 3)]     0         \n",
      "_________________________________________________________________\n",
      "block1_conv1 (Conv2D)        (None, 227, 227, 64)      1792      \n",
      "_________________________________________________________________\n",
      "block1_conv2 (Conv2D)        (None, 227, 227, 64)      36928     \n",
      "_________________________________________________________________\n",
      "block1_pool (MaxPooling2D)   (None, 113, 113, 64)      0         \n",
      "_________________________________________________________________\n",
      "block2_conv1 (Conv2D)        (None, 113, 113, 128)     73856     \n",
      "_________________________________________________________________\n",
      "block2_conv2 (Conv2D)        (None, 113, 113, 128)     147584    \n",
      "_________________________________________________________________\n",
      "block2_pool (MaxPooling2D)   (None, 56, 56, 128)       0         \n",
      "_________________________________________________________________\n",
      "block3_conv1 (Conv2D)        (None, 56, 56, 256)       295168    \n",
      "_________________________________________________________________\n",
      "block3_conv2 (Conv2D)        (None, 56, 56, 256)       590080    \n",
      "_________________________________________________________________\n",
      "block3_conv3 (Conv2D)        (None, 56, 56, 256)       590080    \n",
      "_________________________________________________________________\n",
      "block3_pool (MaxPooling2D)   (None, 28, 28, 256)       0         \n",
      "_________________________________________________________________\n",
      "block4_conv1 (Conv2D)        (None, 28, 28, 512)       1180160   \n",
      "_________________________________________________________________\n",
      "block4_conv2 (Conv2D)        (None, 28, 28, 512)       2359808   \n",
      "_________________________________________________________________\n",
      "block4_conv3 (Conv2D)        (None, 28, 28, 512)       2359808   \n",
      "_________________________________________________________________\n",
      "block4_pool (MaxPooling2D)   (None, 14, 14, 512)       0         \n",
      "_________________________________________________________________\n",
      "block5_conv1 (Conv2D)        (None, 14, 14, 512)       2359808   \n",
      "_________________________________________________________________\n",
      "block5_conv2 (Conv2D)        (None, 14, 14, 512)       2359808   \n",
      "_________________________________________________________________\n",
      "block5_conv3 (Conv2D)        (None, 14, 14, 512)       2359808   \n",
      "_________________________________________________________________\n",
      "block5_pool (MaxPooling2D)   (None, 7, 7, 512)         0         \n",
      "=================================================================\n",
      "Total params: 14,714,688\n",
      "Trainable params: 14,714,688\n",
      "Non-trainable params: 0\n",
      "_________________________________________________________________\n"
     ]
    }
   ],
   "source": [
    "# To print the hidden layer summary of vgg model without top layer\n",
    "vgg_model.summary()"
   ]
  },
  {
   "cell_type": "code",
   "execution_count": 5,
   "id": "9604985d",
   "metadata": {
    "execution": {
     "iopub.execute_input": "2021-12-08T16:05:38.823699Z",
     "iopub.status.busy": "2021-12-08T16:05:38.822930Z",
     "iopub.status.idle": "2021-12-08T16:05:38.824971Z",
     "shell.execute_reply": "2021-12-08T16:05:38.825333Z",
     "shell.execute_reply.started": "2021-12-07T05:36:37.735624Z"
    },
    "papermill": {
     "duration": 0.022288,
     "end_time": "2021-12-08T16:05:38.825526",
     "exception": false,
     "start_time": "2021-12-08T16:05:38.803238",
     "status": "completed"
    },
    "tags": []
   },
   "outputs": [],
   "source": [
    "# To fix the weights of the pre trained model\n",
    "for lay in vgg_model.layers:\n",
    "    lay.trainable = False"
   ]
  },
  {
   "cell_type": "code",
   "execution_count": 6,
   "id": "2ad91fc7",
   "metadata": {
    "execution": {
     "iopub.execute_input": "2021-12-08T16:05:38.864215Z",
     "iopub.status.busy": "2021-12-08T16:05:38.862842Z",
     "iopub.status.idle": "2021-12-08T16:05:38.872086Z",
     "shell.execute_reply": "2021-12-08T16:05:38.871186Z",
     "shell.execute_reply.started": "2021-12-07T05:36:40.68509Z"
    },
    "papermill": {
     "duration": 0.031432,
     "end_time": "2021-12-08T16:05:38.872223",
     "exception": false,
     "start_time": "2021-12-08T16:05:38.840791",
     "status": "completed"
    },
    "tags": []
   },
   "outputs": [
    {
     "name": "stdout",
     "output_type": "stream",
     "text": [
      "Model: \"vgg16\"\n",
      "_________________________________________________________________\n",
      "Layer (type)                 Output Shape              Param #   \n",
      "=================================================================\n",
      "input_1 (InputLayer)         [(None, 227, 227, 3)]     0         \n",
      "_________________________________________________________________\n",
      "block1_conv1 (Conv2D)        (None, 227, 227, 64)      1792      \n",
      "_________________________________________________________________\n",
      "block1_conv2 (Conv2D)        (None, 227, 227, 64)      36928     \n",
      "_________________________________________________________________\n",
      "block1_pool (MaxPooling2D)   (None, 113, 113, 64)      0         \n",
      "_________________________________________________________________\n",
      "block2_conv1 (Conv2D)        (None, 113, 113, 128)     73856     \n",
      "_________________________________________________________________\n",
      "block2_conv2 (Conv2D)        (None, 113, 113, 128)     147584    \n",
      "_________________________________________________________________\n",
      "block2_pool (MaxPooling2D)   (None, 56, 56, 128)       0         \n",
      "_________________________________________________________________\n",
      "block3_conv1 (Conv2D)        (None, 56, 56, 256)       295168    \n",
      "_________________________________________________________________\n",
      "block3_conv2 (Conv2D)        (None, 56, 56, 256)       590080    \n",
      "_________________________________________________________________\n",
      "block3_conv3 (Conv2D)        (None, 56, 56, 256)       590080    \n",
      "_________________________________________________________________\n",
      "block3_pool (MaxPooling2D)   (None, 28, 28, 256)       0         \n",
      "_________________________________________________________________\n",
      "block4_conv1 (Conv2D)        (None, 28, 28, 512)       1180160   \n",
      "_________________________________________________________________\n",
      "block4_conv2 (Conv2D)        (None, 28, 28, 512)       2359808   \n",
      "_________________________________________________________________\n",
      "block4_conv3 (Conv2D)        (None, 28, 28, 512)       2359808   \n",
      "_________________________________________________________________\n",
      "block4_pool (MaxPooling2D)   (None, 14, 14, 512)       0         \n",
      "_________________________________________________________________\n",
      "block5_conv1 (Conv2D)        (None, 14, 14, 512)       2359808   \n",
      "_________________________________________________________________\n",
      "block5_conv2 (Conv2D)        (None, 14, 14, 512)       2359808   \n",
      "_________________________________________________________________\n",
      "block5_conv3 (Conv2D)        (None, 14, 14, 512)       2359808   \n",
      "_________________________________________________________________\n",
      "block5_pool (MaxPooling2D)   (None, 7, 7, 512)         0         \n",
      "=================================================================\n",
      "Total params: 14,714,688\n",
      "Trainable params: 0\n",
      "Non-trainable params: 14,714,688\n",
      "_________________________________________________________________\n"
     ]
    }
   ],
   "source": [
    "vgg_model.summary()"
   ]
  },
  {
   "cell_type": "code",
   "execution_count": 7,
   "id": "03761b4a",
   "metadata": {
    "execution": {
     "iopub.execute_input": "2021-12-08T16:05:38.908320Z",
     "iopub.status.busy": "2021-12-08T16:05:38.907818Z",
     "iopub.status.idle": "2021-12-08T16:05:38.933522Z",
     "shell.execute_reply": "2021-12-08T16:05:38.934084Z",
     "shell.execute_reply.started": "2021-12-07T05:36:43.502639Z"
    },
    "papermill": {
     "duration": 0.045463,
     "end_time": "2021-12-08T16:05:38.934245",
     "exception": false,
     "start_time": "2021-12-08T16:05:38.888782",
     "status": "completed"
    },
    "tags": []
   },
   "outputs": [
    {
     "name": "stdout",
     "output_type": "stream",
     "text": [
      "2\n",
      "2\n"
     ]
    }
   ],
   "source": [
    "# to list out number of folders in train and test folder\n",
    "import os\n",
    "folders_train1 = os.listdir(main_train)\n",
    "print(len(folders_train1))\n",
    "\n",
    "folders_test1 = os.listdir(main_test)\n",
    "print(len(folders_test1))"
   ]
  },
  {
   "cell_type": "code",
   "execution_count": 8,
   "id": "978cd6b0",
   "metadata": {
    "execution": {
     "iopub.execute_input": "2021-12-08T16:05:38.972823Z",
     "iopub.status.busy": "2021-12-08T16:05:38.972154Z",
     "iopub.status.idle": "2021-12-08T16:05:38.975058Z",
     "shell.execute_reply": "2021-12-08T16:05:38.975493Z",
     "shell.execute_reply.started": "2021-12-07T05:36:46.470611Z"
    },
    "papermill": {
     "duration": 0.024632,
     "end_time": "2021-12-08T16:05:38.975613",
     "exception": false,
     "start_time": "2021-12-08T16:05:38.950981",
     "status": "completed"
    },
    "tags": []
   },
   "outputs": [
    {
     "data": {
      "text/plain": [
       "<KerasTensor: shape=(None, 7, 7, 512) dtype=float32 (created by layer 'block5_pool')>"
      ]
     },
     "execution_count": 8,
     "metadata": {},
     "output_type": "execute_result"
    }
   ],
   "source": [
    "#outputs the last layer\n",
    "vgg_model.output\n"
   ]
  },
  {
   "cell_type": "code",
   "execution_count": 9,
   "id": "d8a4640b",
   "metadata": {
    "execution": {
     "iopub.execute_input": "2021-12-08T16:05:39.012303Z",
     "iopub.status.busy": "2021-12-08T16:05:39.011700Z",
     "iopub.status.idle": "2021-12-08T16:05:39.014229Z",
     "shell.execute_reply": "2021-12-08T16:05:39.014649Z",
     "shell.execute_reply.started": "2021-12-07T05:36:50.773362Z"
    },
    "papermill": {
     "duration": 0.022661,
     "end_time": "2021-12-08T16:05:39.014772",
     "exception": false,
     "start_time": "2021-12-08T16:05:38.992111",
     "status": "completed"
    },
    "tags": []
   },
   "outputs": [
    {
     "data": {
      "text/plain": [
       "<KerasTensor: shape=(None, 227, 227, 3) dtype=float32 (created by layer 'input_1')>"
      ]
     },
     "execution_count": 9,
     "metadata": {},
     "output_type": "execute_result"
    }
   ],
   "source": [
    "#inputs of the layer\n",
    "vgg_model.input"
   ]
  },
  {
   "cell_type": "code",
   "execution_count": 10,
   "id": "296a56a9",
   "metadata": {
    "execution": {
     "iopub.execute_input": "2021-12-08T16:05:39.053704Z",
     "iopub.status.busy": "2021-12-08T16:05:39.052948Z",
     "iopub.status.idle": "2021-12-08T16:05:39.088065Z",
     "shell.execute_reply": "2021-12-08T16:05:39.088884Z"
    },
    "papermill": {
     "duration": 0.05797,
     "end_time": "2021-12-08T16:05:39.089040",
     "exception": false,
     "start_time": "2021-12-08T16:05:39.031070",
     "status": "completed"
    },
    "tags": []
   },
   "outputs": [
    {
     "name": "stdout",
     "output_type": "stream",
     "text": [
      "Model: \"model\"\n",
      "_________________________________________________________________\n",
      "Layer (type)                 Output Shape              Param #   \n",
      "=================================================================\n",
      "input_1 (InputLayer)         [(None, 227, 227, 3)]     0         \n",
      "_________________________________________________________________\n",
      "block1_conv1 (Conv2D)        (None, 227, 227, 64)      1792      \n",
      "_________________________________________________________________\n",
      "block1_conv2 (Conv2D)        (None, 227, 227, 64)      36928     \n",
      "_________________________________________________________________\n",
      "block1_pool (MaxPooling2D)   (None, 113, 113, 64)      0         \n",
      "_________________________________________________________________\n",
      "block2_conv1 (Conv2D)        (None, 113, 113, 128)     73856     \n",
      "_________________________________________________________________\n",
      "block2_conv2 (Conv2D)        (None, 113, 113, 128)     147584    \n",
      "_________________________________________________________________\n",
      "block2_pool (MaxPooling2D)   (None, 56, 56, 128)       0         \n",
      "_________________________________________________________________\n",
      "block3_conv1 (Conv2D)        (None, 56, 56, 256)       295168    \n",
      "_________________________________________________________________\n",
      "block3_conv2 (Conv2D)        (None, 56, 56, 256)       590080    \n",
      "_________________________________________________________________\n",
      "block3_conv3 (Conv2D)        (None, 56, 56, 256)       590080    \n",
      "_________________________________________________________________\n",
      "block3_pool (MaxPooling2D)   (None, 28, 28, 256)       0         \n",
      "_________________________________________________________________\n",
      "block4_conv1 (Conv2D)        (None, 28, 28, 512)       1180160   \n",
      "_________________________________________________________________\n",
      "block4_conv2 (Conv2D)        (None, 28, 28, 512)       2359808   \n",
      "_________________________________________________________________\n",
      "block4_conv3 (Conv2D)        (None, 28, 28, 512)       2359808   \n",
      "_________________________________________________________________\n",
      "block4_pool (MaxPooling2D)   (None, 14, 14, 512)       0         \n",
      "_________________________________________________________________\n",
      "block5_conv1 (Conv2D)        (None, 14, 14, 512)       2359808   \n",
      "_________________________________________________________________\n",
      "block5_conv2 (Conv2D)        (None, 14, 14, 512)       2359808   \n",
      "_________________________________________________________________\n",
      "block5_conv3 (Conv2D)        (None, 14, 14, 512)       2359808   \n",
      "_________________________________________________________________\n",
      "block5_pool (MaxPooling2D)   (None, 7, 7, 512)         0         \n",
      "_________________________________________________________________\n",
      "first_flatten (Flatten)      (None, 25088)             0         \n",
      "_________________________________________________________________\n",
      "dense (Dense)                (None, 32)                802848    \n",
      "_________________________________________________________________\n",
      "dropout (Dropout)            (None, 32)                0         \n",
      "_________________________________________________________________\n",
      "dense_1 (Dense)              (None, 2)                 66        \n",
      "=================================================================\n",
      "Total params: 15,517,602\n",
      "Trainable params: 802,914\n",
      "Non-trainable params: 14,714,688\n",
      "_________________________________________________________________\n"
     ]
    }
   ],
   "source": [
    "# Flatten() is used to convert the last layer to vector or as fully connected\n",
    "x = Flatten(name=\"first_flatten\")(vgg_model.output)\n",
    "# Dense() is a fully connected layer and produces 128 outputs.\n",
    "# relu layer is used to convert the negative nubers to 0 and retains +ve as such.\n",
    "pred = Dense(32, activation=\"relu\")(x)\n",
    "#Dropout() layer is used to randomly remove 50% of the networks.\n",
    "pred = Dropout(0.5)(pred)\n",
    "# Dense() layer is added such that it outputs only two classess \n",
    "# Softmax activation layer produces probabilities for different classess.\n",
    "pred = Dense(2,activation='softmax')(pred)\n",
    "# Model() is used to group layers\n",
    "model = Model(inputs=vgg_model.input,outputs=pred)\n",
    "model.summary()"
   ]
  },
  {
   "cell_type": "markdown",
   "id": "43ecf43c",
   "metadata": {
    "papermill": {
     "duration": 0.016694,
     "end_time": "2021-12-08T16:05:39.123260",
     "exception": false,
     "start_time": "2021-12-08T16:05:39.106566",
     "status": "completed"
    },
    "tags": []
   },
   "source": [
    "# **Image Augmentation**"
   ]
  },
  {
   "cell_type": "code",
   "execution_count": 11,
   "id": "8a1ca508",
   "metadata": {
    "execution": {
     "iopub.execute_input": "2021-12-08T16:05:39.166054Z",
     "iopub.status.busy": "2021-12-08T16:05:39.165185Z",
     "iopub.status.idle": "2021-12-08T16:06:09.120244Z",
     "shell.execute_reply": "2021-12-08T16:06:09.120677Z"
    },
    "papermill": {
     "duration": 29.980162,
     "end_time": "2021-12-08T16:06:09.120844",
     "exception": false,
     "start_time": "2021-12-08T16:05:39.140682",
     "status": "completed"
    },
    "tags": []
   },
   "outputs": [
    {
     "name": "stdout",
     "output_type": "stream",
     "text": [
      "Found 23948 images belonging to 2 classes.\n",
      "Found 6006 images belonging to 2 classes.\n"
     ]
    }
   ],
   "source": [
    "#ImageDataGenerator is used to modify the train and test images w.r.t the properties mentioned\n",
    "train_datagen = ImageDataGenerator(rescale = 1/255.0,\n",
    "                                   shear_range = 0.2,\n",
    "                                   zoom_range = 0.2,\n",
    "                                   rotation_range=20,\n",
    "                                   width_shift_range=0.2, \n",
    "                                   height_shift_range=0.2,\n",
    "                                   horizontal_flip = True)\n",
    "\n",
    "test_datagen = ImageDataGenerator(rescale = 1/255.0,\n",
    "                                   shear_range = 0.2,\n",
    "                                   zoom_range = 0.2,\n",
    "                                   rotation_range=20,\n",
    "                                   width_shift_range=0.2, \n",
    "                                   height_shift_range=0.2,\n",
    "                                   horizontal_flip = True)\n",
    "\n",
    "# flow_from_directory() is used to convert all the images in the specific directory\n",
    "training_set = train_datagen.flow_from_directory(directory = main_train,\n",
    "                                                 target_size = (227,227),\n",
    "                                                 batch_size = 500,\n",
    "                                                 )\n",
    "\n",
    "test_set = test_datagen.flow_from_directory(directory = main_test,\n",
    "                                                 target_size = (227,227),\n",
    "                                                 batch_size = 500,\n",
    "                                                 )"
   ]
  },
  {
   "cell_type": "code",
   "execution_count": 12,
   "id": "e75ef105",
   "metadata": {
    "execution": {
     "iopub.execute_input": "2021-12-08T16:06:09.159571Z",
     "iopub.status.busy": "2021-12-08T16:06:09.158757Z",
     "iopub.status.idle": "2021-12-08T16:06:09.164025Z",
     "shell.execute_reply": "2021-12-08T16:06:09.164504Z"
    },
    "papermill": {
     "duration": 0.025901,
     "end_time": "2021-12-08T16:06:09.164639",
     "exception": false,
     "start_time": "2021-12-08T16:06:09.138738",
     "status": "completed"
    },
    "tags": []
   },
   "outputs": [
    {
     "data": {
      "text/plain": [
       "{'Negative': 0, 'Positive': 1}"
      ]
     },
     "execution_count": 12,
     "metadata": {},
     "output_type": "execute_result"
    }
   ],
   "source": [
    "# Class_indices will display the respective class value\n",
    "training_set.class_indices"
   ]
  },
  {
   "cell_type": "code",
   "execution_count": 13,
   "id": "3c43b511",
   "metadata": {
    "execution": {
     "iopub.execute_input": "2021-12-08T16:06:09.204505Z",
     "iopub.status.busy": "2021-12-08T16:06:09.203716Z",
     "iopub.status.idle": "2021-12-08T16:06:09.208559Z",
     "shell.execute_reply": "2021-12-08T16:06:09.208973Z"
    },
    "papermill": {
     "duration": 0.026245,
     "end_time": "2021-12-08T16:06:09.209100",
     "exception": false,
     "start_time": "2021-12-08T16:06:09.182855",
     "status": "completed"
    },
    "tags": []
   },
   "outputs": [
    {
     "name": "stdout",
     "output_type": "stream",
     "text": [
      "48\n",
      "13\n"
     ]
    }
   ],
   "source": [
    "# To check no.of folders in each\n",
    "print(len(training_set))\n",
    "print(len(test_set))"
   ]
  },
  {
   "cell_type": "code",
   "execution_count": 14,
   "id": "53288da6",
   "metadata": {
    "execution": {
     "iopub.execute_input": "2021-12-08T16:06:09.258329Z",
     "iopub.status.busy": "2021-12-08T16:06:09.257573Z",
     "iopub.status.idle": "2021-12-08T16:06:09.264036Z",
     "shell.execute_reply": "2021-12-08T16:06:09.263637Z",
     "shell.execute_reply.started": "2021-12-07T05:57:00.084007Z"
    },
    "papermill": {
     "duration": 0.035151,
     "end_time": "2021-12-08T16:06:09.264143",
     "exception": false,
     "start_time": "2021-12-08T16:06:09.228992",
     "status": "completed"
    },
    "tags": []
   },
   "outputs": [],
   "source": [
    "# Loss function is used to find the errors or deviations in learning process\n",
    "# Optimizer is used to optimize the input weights\n",
    "# Metrics is used to measure the performance\n",
    "model.compile(optimizer=Adam(learning_rate=0.10),\n",
    "    loss=\"binary_crossentropy\",\n",
    "    metrics=['accuracy'])"
   ]
  },
  {
   "cell_type": "markdown",
   "id": "11d13786",
   "metadata": {
    "papermill": {
     "duration": 0.018401,
     "end_time": "2021-12-08T16:06:09.301587",
     "exception": false,
     "start_time": "2021-12-08T16:06:09.283186",
     "status": "completed"
    },
    "tags": []
   },
   "source": [
    "# **Model Fitting**"
   ]
  },
  {
   "cell_type": "code",
   "execution_count": 15,
   "id": "a34be301",
   "metadata": {
    "execution": {
     "iopub.execute_input": "2021-12-08T16:06:09.344424Z",
     "iopub.status.busy": "2021-12-08T16:06:09.343628Z",
     "iopub.status.idle": "2021-12-08T16:23:02.892542Z",
     "shell.execute_reply": "2021-12-08T16:23:02.892002Z"
    },
    "papermill": {
     "duration": 1013.572264,
     "end_time": "2021-12-08T16:23:02.892702",
     "exception": false,
     "start_time": "2021-12-08T16:06:09.320438",
     "status": "completed"
    },
    "tags": []
   },
   "outputs": [
    {
     "name": "stderr",
     "output_type": "stream",
     "text": [
      "2021-12-08 16:06:18.428626: I tensorflow/compiler/mlir/mlir_graph_optimization_pass.cc:185] None of the MLIR Optimization Passes are enabled (registered 2)\n"
     ]
    },
    {
     "name": "stdout",
     "output_type": "stream",
     "text": [
      "Epoch 1/2\n"
     ]
    },
    {
     "name": "stderr",
     "output_type": "stream",
     "text": [
      "2021-12-08 16:06:28.922284: I tensorflow/stream_executor/cuda/cuda_dnn.cc:369] Loaded cuDNN version 8005\n",
      "2021-12-08 16:06:32.983184: W tensorflow/core/kernels/gpu_utils.cc:49] Failed to allocate memory for convolution redzone checking; skipping this check. This is benign and only means that we won't check cudnn for out-of-bounds reads and writes. This message will only be printed once.\n"
     ]
    },
    {
     "name": "stdout",
     "output_type": "stream",
     "text": [
      "48/48 [==============================] - 601s 12s/step - loss: 7.3356 - accuracy: 0.5467 - val_loss: 0.6935 - val_accuracy: 0.4987\n",
      "Epoch 2/2\n",
      "48/48 [==============================] - 374s 8s/step - loss: 0.6933 - accuracy: 0.5030 - val_loss: 0.6934 - val_accuracy: 0.5013\n"
     ]
    }
   ],
   "source": [
    "# fit() is used to train the model \n",
    "# len(training_set) is 32042/500 = 65\n",
    "# len(test_set) is 7958/500 = 16\n",
    "mod = model.fit(\n",
    "  training_set,\n",
    "  validation_data=test_set,\n",
    "  epochs=2,\n",
    "  steps_per_epoch=len(training_set),\n",
    "  validation_steps=len(test_set)\n",
    ")"
   ]
  },
  {
   "cell_type": "markdown",
   "id": "c0e872b0",
   "metadata": {
    "papermill": {
     "duration": 0.045594,
     "end_time": "2021-12-08T16:23:02.987060",
     "exception": false,
     "start_time": "2021-12-08T16:23:02.941466",
     "status": "completed"
    },
    "tags": []
   },
   "source": [
    "# **Model Saving**"
   ]
  },
  {
   "cell_type": "code",
   "execution_count": 16,
   "id": "c5d18d84",
   "metadata": {
    "execution": {
     "iopub.execute_input": "2021-12-08T16:23:03.091665Z",
     "iopub.status.busy": "2021-12-08T16:23:03.090854Z",
     "iopub.status.idle": "2021-12-08T16:23:03.288825Z",
     "shell.execute_reply": "2021-12-08T16:23:03.288220Z"
    },
    "papermill": {
     "duration": 0.257551,
     "end_time": "2021-12-08T16:23:03.288966",
     "exception": false,
     "start_time": "2021-12-08T16:23:03.031415",
     "status": "completed"
    },
    "tags": []
   },
   "outputs": [
    {
     "data": {
      "text/plain": [
       "['32_0.10_75%']"
      ]
     },
     "execution_count": 16,
     "metadata": {},
     "output_type": "execute_result"
    }
   ],
   "source": [
    "# To save the particular model in .h5 format\n",
    "import tensorflow as tf\n",
    "from tensorflow.keras.models import load_model\n",
    "model.save('32_0.10_75%.h5')\n",
    "\n",
    "\n",
    "\n",
    "import joblib\n",
    "joblib.dump(mod.history,'32_0.10_75%')"
   ]
  }
 ],
 "metadata": {
  "kernelspec": {
   "display_name": "Python 3",
   "language": "python",
   "name": "python3"
  },
  "language_info": {
   "codemirror_mode": {
    "name": "ipython",
    "version": 3
   },
   "file_extension": ".py",
   "mimetype": "text/x-python",
   "name": "python",
   "nbconvert_exporter": "python",
   "pygments_lexer": "ipython3",
   "version": "3.7.12"
  },
  "papermill": {
   "default_parameters": {},
   "duration": 1064.6377,
   "end_time": "2021-12-08T16:23:06.943755",
   "environment_variables": {},
   "exception": null,
   "input_path": "__notebook__.ipynb",
   "output_path": "__notebook__.ipynb",
   "parameters": {},
   "start_time": "2021-12-08T16:05:22.306055",
   "version": "2.3.3"
  }
 },
 "nbformat": 4,
 "nbformat_minor": 5
}
