{
 "cells": [
  {
   "cell_type": "code",
   "execution_count": 1,
   "id": "a2a3c9f6",
   "metadata": {
    "execution": {
     "iopub.execute_input": "2021-12-13T08:41:15.237961Z",
     "iopub.status.busy": "2021-12-13T08:41:15.236639Z",
     "iopub.status.idle": "2021-12-13T08:41:15.240876Z",
     "shell.execute_reply": "2021-12-13T08:41:15.240176Z"
    },
    "papermill": {
     "duration": 0.03168,
     "end_time": "2021-12-13T08:41:15.241038",
     "exception": false,
     "start_time": "2021-12-13T08:41:15.209358",
     "status": "completed"
    },
    "tags": []
   },
   "outputs": [],
   "source": [
    "img_size = [227,227] #List which stores the resolution\n",
    "main_train = '../input/crack-detection/Main/Train' #Stores the path of the train directory\n",
    "main_test = '../input/crack-detection/Main/Test' #Stores the path of the test directory"
   ]
  },
  {
   "cell_type": "markdown",
   "id": "126b9a8d",
   "metadata": {
    "papermill": {
     "duration": 0.01415,
     "end_time": "2021-12-13T08:41:15.269715",
     "exception": false,
     "start_time": "2021-12-13T08:41:15.255565",
     "status": "completed"
    },
    "tags": []
   },
   "source": [
    "# **Import Statements**"
   ]
  },
  {
   "cell_type": "code",
   "execution_count": 2,
   "id": "4a6c7011",
   "metadata": {
    "execution": {
     "iopub.execute_input": "2021-12-13T08:41:15.305608Z",
     "iopub.status.busy": "2021-12-13T08:41:15.304958Z",
     "iopub.status.idle": "2021-12-13T08:41:20.817514Z",
     "shell.execute_reply": "2021-12-13T08:41:20.816554Z"
    },
    "papermill": {
     "duration": 5.533297,
     "end_time": "2021-12-13T08:41:20.817701",
     "exception": false,
     "start_time": "2021-12-13T08:41:15.284404",
     "status": "completed"
    },
    "tags": []
   },
   "outputs": [],
   "source": [
    "from tensorflow.keras.layers import Input,Dense,Flatten,Dropout\n",
    "from tensorflow.keras.models import Model,Sequential\n",
    "from tensorflow.keras.applications.vgg16 import VGG16,preprocess_input\n",
    "from matplotlib import pyplot as plt\n",
    "import numpy as np\n",
    "from tensorflow.keras.preprocessing import image\n",
    "from tensorflow.keras.optimizers import Adam\n",
    "from tensorflow.keras.preprocessing.image import ImageDataGenerator"
   ]
  },
  {
   "cell_type": "markdown",
   "id": "bda1b851",
   "metadata": {
    "papermill": {
     "duration": 0.013718,
     "end_time": "2021-12-13T08:41:20.845999",
     "exception": false,
     "start_time": "2021-12-13T08:41:20.832281",
     "status": "completed"
    },
    "tags": []
   },
   "source": [
    "# **VGG16 Model Building**"
   ]
  },
  {
   "cell_type": "code",
   "execution_count": 3,
   "id": "5ed203e4",
   "metadata": {
    "execution": {
     "iopub.execute_input": "2021-12-13T08:41:20.879695Z",
     "iopub.status.busy": "2021-12-13T08:41:20.878934Z",
     "iopub.status.idle": "2021-12-13T08:41:23.963378Z",
     "shell.execute_reply": "2021-12-13T08:41:23.962879Z"
    },
    "papermill": {
     "duration": 3.104579,
     "end_time": "2021-12-13T08:41:23.963525",
     "exception": false,
     "start_time": "2021-12-13T08:41:20.858946",
     "status": "completed"
    },
    "tags": []
   },
   "outputs": [
    {
     "name": "stderr",
     "output_type": "stream",
     "text": [
      "2021-12-13 08:41:20.964629: I tensorflow/stream_executor/cuda/cuda_gpu_executor.cc:937] successful NUMA node read from SysFS had negative value (-1), but there must be at least one NUMA node, so returning NUMA node zero\n",
      "2021-12-13 08:41:21.054921: I tensorflow/stream_executor/cuda/cuda_gpu_executor.cc:937] successful NUMA node read from SysFS had negative value (-1), but there must be at least one NUMA node, so returning NUMA node zero\n",
      "2021-12-13 08:41:21.055655: I tensorflow/stream_executor/cuda/cuda_gpu_executor.cc:937] successful NUMA node read from SysFS had negative value (-1), but there must be at least one NUMA node, so returning NUMA node zero\n",
      "2021-12-13 08:41:21.056952: I tensorflow/core/platform/cpu_feature_guard.cc:142] This TensorFlow binary is optimized with oneAPI Deep Neural Network Library (oneDNN) to use the following CPU instructions in performance-critical operations:  AVX2 AVX512F FMA\n",
      "To enable them in other operations, rebuild TensorFlow with the appropriate compiler flags.\n",
      "2021-12-13 08:41:21.058092: I tensorflow/stream_executor/cuda/cuda_gpu_executor.cc:937] successful NUMA node read from SysFS had negative value (-1), but there must be at least one NUMA node, so returning NUMA node zero\n",
      "2021-12-13 08:41:21.058792: I tensorflow/stream_executor/cuda/cuda_gpu_executor.cc:937] successful NUMA node read from SysFS had negative value (-1), but there must be at least one NUMA node, so returning NUMA node zero\n",
      "2021-12-13 08:41:21.059399: I tensorflow/stream_executor/cuda/cuda_gpu_executor.cc:937] successful NUMA node read from SysFS had negative value (-1), but there must be at least one NUMA node, so returning NUMA node zero\n",
      "2021-12-13 08:41:22.955817: I tensorflow/stream_executor/cuda/cuda_gpu_executor.cc:937] successful NUMA node read from SysFS had negative value (-1), but there must be at least one NUMA node, so returning NUMA node zero\n",
      "2021-12-13 08:41:22.956579: I tensorflow/stream_executor/cuda/cuda_gpu_executor.cc:937] successful NUMA node read from SysFS had negative value (-1), but there must be at least one NUMA node, so returning NUMA node zero\n",
      "2021-12-13 08:41:22.957309: I tensorflow/stream_executor/cuda/cuda_gpu_executor.cc:937] successful NUMA node read from SysFS had negative value (-1), but there must be at least one NUMA node, so returning NUMA node zero\n",
      "2021-12-13 08:41:22.957925: I tensorflow/core/common_runtime/gpu/gpu_device.cc:1510] Created device /job:localhost/replica:0/task:0/device:GPU:0 with 15403 MB memory:  -> device: 0, name: Tesla P100-PCIE-16GB, pci bus id: 0000:00:04.0, compute capability: 6.0\n"
     ]
    },
    {
     "name": "stdout",
     "output_type": "stream",
     "text": [
      "Downloading data from https://storage.googleapis.com/tensorflow/keras-applications/vgg16/vgg16_weights_tf_dim_ordering_tf_kernels_notop.h5\n",
      "58892288/58889256 [==============================] - 0s 0us/step\n",
      "58900480/58889256 [==============================] - 0s 0us/step\n"
     ]
    }
   ],
   "source": [
    "vgg_model = VGG16(include_top=False,\n",
    "    weights=\"imagenet\",\n",
    "    input_shape=img_size + [3])\n",
    "\n",
    "# Loading the VGG16 pre trained model\n",
    "\n",
    "# include_top - this specifies whether the final layer before the output layer has to be include \n",
    "# or not. If included then there will be 1000 number of classes at the output.\n",
    "\n",
    "# Weights are trained using imagenet"
   ]
  },
  {
   "cell_type": "code",
   "execution_count": 4,
   "id": "f8a98dfe",
   "metadata": {
    "execution": {
     "iopub.execute_input": "2021-12-13T08:41:24.007698Z",
     "iopub.status.busy": "2021-12-13T08:41:24.005531Z",
     "iopub.status.idle": "2021-12-13T08:41:24.019282Z",
     "shell.execute_reply": "2021-12-13T08:41:24.018462Z"
    },
    "papermill": {
     "duration": 0.039442,
     "end_time": "2021-12-13T08:41:24.019505",
     "exception": false,
     "start_time": "2021-12-13T08:41:23.980063",
     "status": "completed"
    },
    "tags": []
   },
   "outputs": [
    {
     "name": "stdout",
     "output_type": "stream",
     "text": [
      "Model: \"vgg16\"\n",
      "_________________________________________________________________\n",
      "Layer (type)                 Output Shape              Param #   \n",
      "=================================================================\n",
      "input_1 (InputLayer)         [(None, 227, 227, 3)]     0         \n",
      "_________________________________________________________________\n",
      "block1_conv1 (Conv2D)        (None, 227, 227, 64)      1792      \n",
      "_________________________________________________________________\n",
      "block1_conv2 (Conv2D)        (None, 227, 227, 64)      36928     \n",
      "_________________________________________________________________\n",
      "block1_pool (MaxPooling2D)   (None, 113, 113, 64)      0         \n",
      "_________________________________________________________________\n",
      "block2_conv1 (Conv2D)        (None, 113, 113, 128)     73856     \n",
      "_________________________________________________________________\n",
      "block2_conv2 (Conv2D)        (None, 113, 113, 128)     147584    \n",
      "_________________________________________________________________\n",
      "block2_pool (MaxPooling2D)   (None, 56, 56, 128)       0         \n",
      "_________________________________________________________________\n",
      "block3_conv1 (Conv2D)        (None, 56, 56, 256)       295168    \n",
      "_________________________________________________________________\n",
      "block3_conv2 (Conv2D)        (None, 56, 56, 256)       590080    \n",
      "_________________________________________________________________\n",
      "block3_conv3 (Conv2D)        (None, 56, 56, 256)       590080    \n",
      "_________________________________________________________________\n",
      "block3_pool (MaxPooling2D)   (None, 28, 28, 256)       0         \n",
      "_________________________________________________________________\n",
      "block4_conv1 (Conv2D)        (None, 28, 28, 512)       1180160   \n",
      "_________________________________________________________________\n",
      "block4_conv2 (Conv2D)        (None, 28, 28, 512)       2359808   \n",
      "_________________________________________________________________\n",
      "block4_conv3 (Conv2D)        (None, 28, 28, 512)       2359808   \n",
      "_________________________________________________________________\n",
      "block4_pool (MaxPooling2D)   (None, 14, 14, 512)       0         \n",
      "_________________________________________________________________\n",
      "block5_conv1 (Conv2D)        (None, 14, 14, 512)       2359808   \n",
      "_________________________________________________________________\n",
      "block5_conv2 (Conv2D)        (None, 14, 14, 512)       2359808   \n",
      "_________________________________________________________________\n",
      "block5_conv3 (Conv2D)        (None, 14, 14, 512)       2359808   \n",
      "_________________________________________________________________\n",
      "block5_pool (MaxPooling2D)   (None, 7, 7, 512)         0         \n",
      "=================================================================\n",
      "Total params: 14,714,688\n",
      "Trainable params: 14,714,688\n",
      "Non-trainable params: 0\n",
      "_________________________________________________________________\n"
     ]
    }
   ],
   "source": [
    "# To print the hidden layer summary of vgg model without top layer\n",
    "vgg_model.summary()"
   ]
  },
  {
   "cell_type": "code",
   "execution_count": 5,
   "id": "fac43e2f",
   "metadata": {
    "execution": {
     "iopub.execute_input": "2021-12-13T08:41:24.067093Z",
     "iopub.status.busy": "2021-12-13T08:41:24.066095Z",
     "iopub.status.idle": "2021-12-13T08:41:24.067987Z",
     "shell.execute_reply": "2021-12-13T08:41:24.068523Z"
    },
    "papermill": {
     "duration": 0.025543,
     "end_time": "2021-12-13T08:41:24.068700",
     "exception": false,
     "start_time": "2021-12-13T08:41:24.043157",
     "status": "completed"
    },
    "tags": []
   },
   "outputs": [],
   "source": [
    "# To fix the weights of the pre trained model\n",
    "for lay in vgg_model.layers:\n",
    "    lay.trainable = False"
   ]
  },
  {
   "cell_type": "code",
   "execution_count": 6,
   "id": "b6f35217",
   "metadata": {
    "execution": {
     "iopub.execute_input": "2021-12-13T08:41:24.114137Z",
     "iopub.status.busy": "2021-12-13T08:41:24.113077Z",
     "iopub.status.idle": "2021-12-13T08:41:24.120093Z",
     "shell.execute_reply": "2021-12-13T08:41:24.119606Z"
    },
    "papermill": {
     "duration": 0.032359,
     "end_time": "2021-12-13T08:41:24.120215",
     "exception": false,
     "start_time": "2021-12-13T08:41:24.087856",
     "status": "completed"
    },
    "tags": []
   },
   "outputs": [
    {
     "name": "stdout",
     "output_type": "stream",
     "text": [
      "Model: \"vgg16\"\n",
      "_________________________________________________________________\n",
      "Layer (type)                 Output Shape              Param #   \n",
      "=================================================================\n",
      "input_1 (InputLayer)         [(None, 227, 227, 3)]     0         \n",
      "_________________________________________________________________\n",
      "block1_conv1 (Conv2D)        (None, 227, 227, 64)      1792      \n",
      "_________________________________________________________________\n",
      "block1_conv2 (Conv2D)        (None, 227, 227, 64)      36928     \n",
      "_________________________________________________________________\n",
      "block1_pool (MaxPooling2D)   (None, 113, 113, 64)      0         \n",
      "_________________________________________________________________\n",
      "block2_conv1 (Conv2D)        (None, 113, 113, 128)     73856     \n",
      "_________________________________________________________________\n",
      "block2_conv2 (Conv2D)        (None, 113, 113, 128)     147584    \n",
      "_________________________________________________________________\n",
      "block2_pool (MaxPooling2D)   (None, 56, 56, 128)       0         \n",
      "_________________________________________________________________\n",
      "block3_conv1 (Conv2D)        (None, 56, 56, 256)       295168    \n",
      "_________________________________________________________________\n",
      "block3_conv2 (Conv2D)        (None, 56, 56, 256)       590080    \n",
      "_________________________________________________________________\n",
      "block3_conv3 (Conv2D)        (None, 56, 56, 256)       590080    \n",
      "_________________________________________________________________\n",
      "block3_pool (MaxPooling2D)   (None, 28, 28, 256)       0         \n",
      "_________________________________________________________________\n",
      "block4_conv1 (Conv2D)        (None, 28, 28, 512)       1180160   \n",
      "_________________________________________________________________\n",
      "block4_conv2 (Conv2D)        (None, 28, 28, 512)       2359808   \n",
      "_________________________________________________________________\n",
      "block4_conv3 (Conv2D)        (None, 28, 28, 512)       2359808   \n",
      "_________________________________________________________________\n",
      "block4_pool (MaxPooling2D)   (None, 14, 14, 512)       0         \n",
      "_________________________________________________________________\n",
      "block5_conv1 (Conv2D)        (None, 14, 14, 512)       2359808   \n",
      "_________________________________________________________________\n",
      "block5_conv2 (Conv2D)        (None, 14, 14, 512)       2359808   \n",
      "_________________________________________________________________\n",
      "block5_conv3 (Conv2D)        (None, 14, 14, 512)       2359808   \n",
      "_________________________________________________________________\n",
      "block5_pool (MaxPooling2D)   (None, 7, 7, 512)         0         \n",
      "=================================================================\n",
      "Total params: 14,714,688\n",
      "Trainable params: 0\n",
      "Non-trainable params: 14,714,688\n",
      "_________________________________________________________________\n"
     ]
    }
   ],
   "source": [
    "vgg_model.summary()"
   ]
  },
  {
   "cell_type": "code",
   "execution_count": 7,
   "id": "5715100d",
   "metadata": {
    "execution": {
     "iopub.execute_input": "2021-12-13T08:41:24.160049Z",
     "iopub.status.busy": "2021-12-13T08:41:24.159486Z",
     "iopub.status.idle": "2021-12-13T08:41:24.190049Z",
     "shell.execute_reply": "2021-12-13T08:41:24.189426Z"
    },
    "papermill": {
     "duration": 0.05176,
     "end_time": "2021-12-13T08:41:24.190182",
     "exception": false,
     "start_time": "2021-12-13T08:41:24.138422",
     "status": "completed"
    },
    "tags": []
   },
   "outputs": [
    {
     "name": "stdout",
     "output_type": "stream",
     "text": [
      "2\n",
      "2\n"
     ]
    }
   ],
   "source": [
    "# to list out number of folders in train and test folder\n",
    "import os\n",
    "folders_train1 = os.listdir(main_train)\n",
    "print(len(folders_train1))\n",
    "\n",
    "folders_test1 = os.listdir(main_test)\n",
    "print(len(folders_test1))"
   ]
  },
  {
   "cell_type": "code",
   "execution_count": 8,
   "id": "556cfde2",
   "metadata": {
    "execution": {
     "iopub.execute_input": "2021-12-13T08:41:24.234805Z",
     "iopub.status.busy": "2021-12-13T08:41:24.234027Z",
     "iopub.status.idle": "2021-12-13T08:41:24.237322Z",
     "shell.execute_reply": "2021-12-13T08:41:24.237754Z"
    },
    "papermill": {
     "duration": 0.028608,
     "end_time": "2021-12-13T08:41:24.237907",
     "exception": false,
     "start_time": "2021-12-13T08:41:24.209299",
     "status": "completed"
    },
    "tags": []
   },
   "outputs": [
    {
     "data": {
      "text/plain": [
       "<KerasTensor: shape=(None, 7, 7, 512) dtype=float32 (created by layer 'block5_pool')>"
      ]
     },
     "execution_count": 8,
     "metadata": {},
     "output_type": "execute_result"
    }
   ],
   "source": [
    "#outputs the last layer\n",
    "vgg_model.output"
   ]
  },
  {
   "cell_type": "code",
   "execution_count": 9,
   "id": "67df19a4",
   "metadata": {
    "execution": {
     "iopub.execute_input": "2021-12-13T08:41:24.280002Z",
     "iopub.status.busy": "2021-12-13T08:41:24.279278Z",
     "iopub.status.idle": "2021-12-13T08:41:24.281969Z",
     "shell.execute_reply": "2021-12-13T08:41:24.282464Z"
    },
    "papermill": {
     "duration": 0.026057,
     "end_time": "2021-12-13T08:41:24.282618",
     "exception": false,
     "start_time": "2021-12-13T08:41:24.256561",
     "status": "completed"
    },
    "tags": []
   },
   "outputs": [
    {
     "data": {
      "text/plain": [
       "<KerasTensor: shape=(None, 227, 227, 3) dtype=float32 (created by layer 'input_1')>"
      ]
     },
     "execution_count": 9,
     "metadata": {},
     "output_type": "execute_result"
    }
   ],
   "source": [
    "#inputs of the layer\n",
    "vgg_model.input"
   ]
  },
  {
   "cell_type": "code",
   "execution_count": 10,
   "id": "699d239e",
   "metadata": {
    "execution": {
     "iopub.execute_input": "2021-12-13T08:41:24.327537Z",
     "iopub.status.busy": "2021-12-13T08:41:24.326725Z",
     "iopub.status.idle": "2021-12-13T08:41:24.366068Z",
     "shell.execute_reply": "2021-12-13T08:41:24.365490Z"
    },
    "papermill": {
     "duration": 0.064753,
     "end_time": "2021-12-13T08:41:24.366205",
     "exception": false,
     "start_time": "2021-12-13T08:41:24.301452",
     "status": "completed"
    },
    "tags": []
   },
   "outputs": [
    {
     "name": "stdout",
     "output_type": "stream",
     "text": [
      "Model: \"model\"\n",
      "_________________________________________________________________\n",
      "Layer (type)                 Output Shape              Param #   \n",
      "=================================================================\n",
      "input_1 (InputLayer)         [(None, 227, 227, 3)]     0         \n",
      "_________________________________________________________________\n",
      "block1_conv1 (Conv2D)        (None, 227, 227, 64)      1792      \n",
      "_________________________________________________________________\n",
      "block1_conv2 (Conv2D)        (None, 227, 227, 64)      36928     \n",
      "_________________________________________________________________\n",
      "block1_pool (MaxPooling2D)   (None, 113, 113, 64)      0         \n",
      "_________________________________________________________________\n",
      "block2_conv1 (Conv2D)        (None, 113, 113, 128)     73856     \n",
      "_________________________________________________________________\n",
      "block2_conv2 (Conv2D)        (None, 113, 113, 128)     147584    \n",
      "_________________________________________________________________\n",
      "block2_pool (MaxPooling2D)   (None, 56, 56, 128)       0         \n",
      "_________________________________________________________________\n",
      "block3_conv1 (Conv2D)        (None, 56, 56, 256)       295168    \n",
      "_________________________________________________________________\n",
      "block3_conv2 (Conv2D)        (None, 56, 56, 256)       590080    \n",
      "_________________________________________________________________\n",
      "block3_conv3 (Conv2D)        (None, 56, 56, 256)       590080    \n",
      "_________________________________________________________________\n",
      "block3_pool (MaxPooling2D)   (None, 28, 28, 256)       0         \n",
      "_________________________________________________________________\n",
      "block4_conv1 (Conv2D)        (None, 28, 28, 512)       1180160   \n",
      "_________________________________________________________________\n",
      "block4_conv2 (Conv2D)        (None, 28, 28, 512)       2359808   \n",
      "_________________________________________________________________\n",
      "block4_conv3 (Conv2D)        (None, 28, 28, 512)       2359808   \n",
      "_________________________________________________________________\n",
      "block4_pool (MaxPooling2D)   (None, 14, 14, 512)       0         \n",
      "_________________________________________________________________\n",
      "block5_conv1 (Conv2D)        (None, 14, 14, 512)       2359808   \n",
      "_________________________________________________________________\n",
      "block5_conv2 (Conv2D)        (None, 14, 14, 512)       2359808   \n",
      "_________________________________________________________________\n",
      "block5_conv3 (Conv2D)        (None, 14, 14, 512)       2359808   \n",
      "_________________________________________________________________\n",
      "block5_pool (MaxPooling2D)   (None, 7, 7, 512)         0         \n",
      "_________________________________________________________________\n",
      "first_flatten (Flatten)      (None, 25088)             0         \n",
      "_________________________________________________________________\n",
      "dense (Dense)                (None, 128)               3211392   \n",
      "_________________________________________________________________\n",
      "dropout (Dropout)            (None, 128)               0         \n",
      "_________________________________________________________________\n",
      "dense_1 (Dense)              (None, 2)                 258       \n",
      "=================================================================\n",
      "Total params: 17,926,338\n",
      "Trainable params: 3,211,650\n",
      "Non-trainable params: 14,714,688\n",
      "_________________________________________________________________\n"
     ]
    }
   ],
   "source": [
    "# Flatten() is used to convert the last layer to vector or as fully connected\n",
    "x = Flatten(name=\"first_flatten\")(vgg_model.output)\n",
    "# Dense() is a fully connected layer and produces 128 outputs.\n",
    "# relu layer is used to convert the negative nubers to 0 and retains +ve as such.\n",
    "pred = Dense(128, activation=\"relu\")(x)\n",
    "#Dropout() layer is used to randomly remove 50% of the networks.\n",
    "pred = Dropout(0.5)(pred)\n",
    "# Dense() layer is added such that it outputs only two classess \n",
    "# Softmax activation layer produces probabilities for different classess.\n",
    "pred = Dense(2,activation='softmax')(pred)\n",
    "# Model() is used to group layers\n",
    "model = Model(inputs=vgg_model.input,outputs=pred)\n",
    "model.summary()"
   ]
  },
  {
   "cell_type": "markdown",
   "id": "ed94946d",
   "metadata": {
    "papermill": {
     "duration": 0.02045,
     "end_time": "2021-12-13T08:41:24.407367",
     "exception": false,
     "start_time": "2021-12-13T08:41:24.386917",
     "status": "completed"
    },
    "tags": []
   },
   "source": [
    "# **Image Augmentation**"
   ]
  },
  {
   "cell_type": "code",
   "execution_count": 11,
   "id": "66c00827",
   "metadata": {
    "execution": {
     "iopub.execute_input": "2021-12-13T08:41:24.457121Z",
     "iopub.status.busy": "2021-12-13T08:41:24.456298Z",
     "iopub.status.idle": "2021-12-13T08:42:03.461191Z",
     "shell.execute_reply": "2021-12-13T08:42:03.461777Z"
    },
    "papermill": {
     "duration": 39.034419,
     "end_time": "2021-12-13T08:42:03.461939",
     "exception": false,
     "start_time": "2021-12-13T08:41:24.427520",
     "status": "completed"
    },
    "tags": []
   },
   "outputs": [
    {
     "name": "stdout",
     "output_type": "stream",
     "text": [
      "Found 32042 images belonging to 2 classes.\n",
      "Found 7958 images belonging to 2 classes.\n"
     ]
    }
   ],
   "source": [
    "#ImageDataGenerator is used to modify the train and test images w.r.t the properties mentioned\n",
    "train_datagen = ImageDataGenerator(rescale = 1/255.0,\n",
    "                                   shear_range = 0.2,\n",
    "                                   zoom_range = 0.2,\n",
    "                                   rotation_range=20,\n",
    "                                   width_shift_range=0.2, \n",
    "                                   height_shift_range=0.2,\n",
    "                                   horizontal_flip = True)\n",
    "\n",
    "test_datagen = ImageDataGenerator(rescale = 1/255.0,\n",
    "                                   shear_range = 0.2,\n",
    "                                   zoom_range = 0.2,\n",
    "                                   rotation_range=20,\n",
    "                                   width_shift_range=0.2, \n",
    "                                   height_shift_range=0.2,\n",
    "                                   horizontal_flip = True)\n",
    "\n",
    "# flow_from_directory() is used to convert all the images in the specific directory\n",
    "training_set = train_datagen.flow_from_directory(directory = main_train,\n",
    "                                                 target_size = (227,227),\n",
    "                                                 batch_size = 500,\n",
    "                                                 )\n",
    "\n",
    "test_set = test_datagen.flow_from_directory(directory = main_test,\n",
    "                                                 target_size = (227,227),\n",
    "                                                 batch_size = 500,\n",
    "                                                 )"
   ]
  },
  {
   "cell_type": "code",
   "execution_count": 12,
   "id": "a45de0e6",
   "metadata": {
    "execution": {
     "iopub.execute_input": "2021-12-13T08:42:03.510841Z",
     "iopub.status.busy": "2021-12-13T08:42:03.510139Z",
     "iopub.status.idle": "2021-12-13T08:42:03.513096Z",
     "shell.execute_reply": "2021-12-13T08:42:03.513557Z"
    },
    "papermill": {
     "duration": 0.030297,
     "end_time": "2021-12-13T08:42:03.513719",
     "exception": false,
     "start_time": "2021-12-13T08:42:03.483422",
     "status": "completed"
    },
    "tags": []
   },
   "outputs": [
    {
     "data": {
      "text/plain": [
       "{'Negative': 0, 'Positive': 1}"
      ]
     },
     "execution_count": 12,
     "metadata": {},
     "output_type": "execute_result"
    }
   ],
   "source": [
    "# Class_indices will display the respective class value\n",
    "training_set.class_indices"
   ]
  },
  {
   "cell_type": "code",
   "execution_count": 13,
   "id": "9099f4c2",
   "metadata": {
    "execution": {
     "iopub.execute_input": "2021-12-13T08:42:03.561993Z",
     "iopub.status.busy": "2021-12-13T08:42:03.561072Z",
     "iopub.status.idle": "2021-12-13T08:42:03.564474Z",
     "shell.execute_reply": "2021-12-13T08:42:03.564966Z"
    },
    "papermill": {
     "duration": 0.029883,
     "end_time": "2021-12-13T08:42:03.565111",
     "exception": false,
     "start_time": "2021-12-13T08:42:03.535228",
     "status": "completed"
    },
    "tags": []
   },
   "outputs": [
    {
     "name": "stdout",
     "output_type": "stream",
     "text": [
      "65\n",
      "16\n"
     ]
    }
   ],
   "source": [
    "# To check no.of folders in each\n",
    "print(len(training_set))\n",
    "print(len(test_set))"
   ]
  },
  {
   "cell_type": "markdown",
   "id": "3e861291",
   "metadata": {
    "papermill": {
     "duration": 0.023187,
     "end_time": "2021-12-13T08:42:03.611298",
     "exception": false,
     "start_time": "2021-12-13T08:42:03.588111",
     "status": "completed"
    },
    "tags": []
   },
   "source": [
    "# **Model Fitting**"
   ]
  },
  {
   "cell_type": "code",
   "execution_count": 14,
   "id": "200e4d53",
   "metadata": {
    "execution": {
     "iopub.execute_input": "2021-12-13T08:42:03.668647Z",
     "iopub.status.busy": "2021-12-13T08:42:03.660619Z",
     "iopub.status.idle": "2021-12-13T08:42:03.675288Z",
     "shell.execute_reply": "2021-12-13T08:42:03.674781Z"
    },
    "papermill": {
     "duration": 0.041032,
     "end_time": "2021-12-13T08:42:03.675419",
     "exception": false,
     "start_time": "2021-12-13T08:42:03.634387",
     "status": "completed"
    },
    "tags": []
   },
   "outputs": [],
   "source": [
    "# Loss function is used to find the errors or deviations in learning process\n",
    "# Optimizer is used to optimize the input weights\n",
    "# Metrics is used to measure the performance\n",
    "model.compile(optimizer=Adam(learning_rate=1.00),\n",
    "    loss=\"binary_crossentropy\",\n",
    "    metrics=['accuracy'])"
   ]
  },
  {
   "cell_type": "code",
   "execution_count": 15,
   "id": "ee4e4531",
   "metadata": {
    "execution": {
     "iopub.execute_input": "2021-12-13T08:42:03.727873Z",
     "iopub.status.busy": "2021-12-13T08:42:03.726987Z",
     "iopub.status.idle": "2021-12-13T09:05:58.299320Z",
     "shell.execute_reply": "2021-12-13T09:05:58.299831Z"
    },
    "papermill": {
     "duration": 1434.601487,
     "end_time": "2021-12-13T09:05:58.300022",
     "exception": false,
     "start_time": "2021-12-13T08:42:03.698535",
     "status": "completed"
    },
    "tags": []
   },
   "outputs": [
    {
     "name": "stderr",
     "output_type": "stream",
     "text": [
      "2021-12-13 08:42:13.786193: I tensorflow/compiler/mlir/mlir_graph_optimization_pass.cc:185] None of the MLIR Optimization Passes are enabled (registered 2)\n"
     ]
    },
    {
     "name": "stdout",
     "output_type": "stream",
     "text": [
      "Epoch 1/2\n"
     ]
    },
    {
     "name": "stderr",
     "output_type": "stream",
     "text": [
      "2021-12-13 08:42:25.896316: I tensorflow/stream_executor/cuda/cuda_dnn.cc:369] Loaded cuDNN version 8005\n",
      "2021-12-13 08:42:29.971758: W tensorflow/core/kernels/gpu_utils.cc:49] Failed to allocate memory for convolution redzone checking; skipping this check. This is benign and only means that we won't check cudnn for out-of-bounds reads and writes. This message will only be printed once.\n"
     ]
    },
    {
     "name": "stdout",
     "output_type": "stream",
     "text": [
      "65/65 [==============================] - 855s 13s/step - loss: 539.3439 - accuracy: 0.5258 - val_loss: 0.6850 - val_accuracy: 0.5053\n",
      "Epoch 2/2\n",
      "65/65 [==============================] - 530s 8s/step - loss: 15.7708 - accuracy: 0.5202 - val_loss: 0.6515 - val_accuracy: 0.5053\n"
     ]
    }
   ],
   "source": [
    "# fit() is used to train the model \n",
    "# len(training_set) is 32042/500 = 65\n",
    "# len(test_set) is 7958/500 = 16\n",
    "mod = model.fit(\n",
    "  training_set,\n",
    "  validation_data=test_set,\n",
    "  epochs=2,\n",
    "  steps_per_epoch=len(training_set),\n",
    "  validation_steps=len(test_set)\n",
    ")"
   ]
  },
  {
   "cell_type": "markdown",
   "id": "50888274",
   "metadata": {
    "papermill": {
     "duration": 0.057225,
     "end_time": "2021-12-13T09:05:58.415744",
     "exception": false,
     "start_time": "2021-12-13T09:05:58.358519",
     "status": "completed"
    },
    "tags": []
   },
   "source": [
    "# **Model Saving**"
   ]
  },
  {
   "cell_type": "code",
   "execution_count": 16,
   "id": "964ff79d",
   "metadata": {
    "execution": {
     "iopub.execute_input": "2021-12-13T09:05:58.549558Z",
     "iopub.status.busy": "2021-12-13T09:05:58.546603Z",
     "iopub.status.idle": "2021-12-13T09:05:58.791389Z",
     "shell.execute_reply": "2021-12-13T09:05:58.791888Z",
     "shell.execute_reply.started": "2021-12-07T04:35:02.891841Z"
    },
    "papermill": {
     "duration": 0.317947,
     "end_time": "2021-12-13T09:05:58.792066",
     "exception": false,
     "start_time": "2021-12-13T09:05:58.474119",
     "status": "completed"
    },
    "tags": []
   },
   "outputs": [
    {
     "data": {
      "text/plain": [
       "['128_1.00__100%']"
      ]
     },
     "execution_count": 16,
     "metadata": {},
     "output_type": "execute_result"
    }
   ],
   "source": [
    "# To save the particular model in .h5 format\n",
    "import tensorflow as tf\n",
    "from tensorflow.keras.models import load_model\n",
    "model.save('128_1.00__100%.h5')\n",
    "\n",
    "\n",
    "\n",
    "import joblib\n",
    "joblib.dump(mod.history,'128_1.00__100%')\n"
   ]
  },
  {
   "cell_type": "code",
   "execution_count": null,
   "id": "0ad44b74",
   "metadata": {
    "papermill": {
     "duration": 0.057412,
     "end_time": "2021-12-13T09:05:58.908383",
     "exception": false,
     "start_time": "2021-12-13T09:05:58.850971",
     "status": "completed"
    },
    "tags": []
   },
   "outputs": [],
   "source": []
  }
 ],
 "metadata": {
  "kernelspec": {
   "display_name": "Python 3",
   "language": "python",
   "name": "python3"
  },
  "language_info": {
   "codemirror_mode": {
    "name": "ipython",
    "version": 3
   },
   "file_extension": ".py",
   "mimetype": "text/x-python",
   "name": "python",
   "nbconvert_exporter": "python",
   "pygments_lexer": "ipython3",
   "version": "3.7.12"
  },
  "papermill": {
   "default_parameters": {},
   "duration": 1496.060708,
   "end_time": "2021-12-13T09:06:02.509737",
   "environment_variables": {},
   "exception": null,
   "input_path": "__notebook__.ipynb",
   "output_path": "__notebook__.ipynb",
   "parameters": {},
   "start_time": "2021-12-13T08:41:06.449029",
   "version": "2.3.3"
  }
 },
 "nbformat": 4,
 "nbformat_minor": 5
}
